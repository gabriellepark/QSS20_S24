{
 "cells": [
  {
   "cell_type": "markdown",
   "metadata": {},
   "source": [
    "# Imports "
   ]
  },
  {
   "cell_type": "code",
   "execution_count": 1,
   "metadata": {},
   "outputs": [],
   "source": [
    "import pandas as pd\n",
    "import numpy as np\n",
    "\n",
    "import os\n",
    "\n",
    "## repeated printouts\n",
    "from IPython.core.interactiveshell import InteractiveShell\n",
    "InteractiveShell.ast_node_interactivity = \"all\""
   ]
  },
  {
   "cell_type": "markdown",
   "metadata": {},
   "source": [
    "## Read in data and make sure relevant columns are string/character \n",
    "\n",
    "- San Diego data: `naics_code` and `account_key`\n",
    "- NAICS details data: `naics` \n",
    "\n",
    "Run code below; if pulling from github, pathname should be fine; if working elsewhere may need to edit path name at read in "
   ]
  },
  {
   "cell_type": "code",
   "execution_count": 54,
   "metadata": {},
   "outputs": [],
   "source": [
    "# uncomment if u need to find your path: os.getcwd()\n",
    "SD = sd_df = pd.read_csv(\"/Users/gabriellepark/Documents/GitHub/QSS20_S24/public_data/sd_df.csv\")\n",
    "NA = naics_df = pd.read_csv(\"/Users/gabriellepark/Documents/GitHub/QSS20_S24/public_data/naics_df.csv\")"
   ]
  },
  {
   "cell_type": "code",
   "execution_count": 3,
   "metadata": {},
   "outputs": [
    {
     "data": {
      "text/plain": [
       "account_key          object\n",
       "dba_name             object\n",
       "council_district     object\n",
       "naics_code           object\n",
       "naics_description    object\n",
       "naics_nchar           int64\n",
       "dtype: object"
      ]
     },
     "execution_count": 3,
     "metadata": {},
     "output_type": "execute_result"
    },
    {
     "data": {
      "text/plain": [
       "naics                object\n",
       "naics_description    object\n",
       "dtype: object"
      ]
     },
     "execution_count": 3,
     "metadata": {},
     "output_type": "execute_result"
    },
    {
     "data": {
      "text/html": [
       "<div>\n",
       "<style scoped>\n",
       "    .dataframe tbody tr th:only-of-type {\n",
       "        vertical-align: middle;\n",
       "    }\n",
       "\n",
       "    .dataframe tbody tr th {\n",
       "        vertical-align: top;\n",
       "    }\n",
       "\n",
       "    .dataframe thead th {\n",
       "        text-align: right;\n",
       "    }\n",
       "</style>\n",
       "<table border=\"1\" class=\"dataframe\">\n",
       "  <thead>\n",
       "    <tr style=\"text-align: right;\">\n",
       "      <th></th>\n",
       "      <th>account_key</th>\n",
       "      <th>dba_name</th>\n",
       "      <th>council_district</th>\n",
       "      <th>naics_code</th>\n",
       "      <th>naics_description</th>\n",
       "      <th>naics_nchar</th>\n",
       "    </tr>\n",
       "  </thead>\n",
       "  <tbody>\n",
       "    <tr>\n",
       "      <th>0</th>\n",
       "      <td>1974000448</td>\n",
       "      <td>ERNST &amp; YOUNG LLP</td>\n",
       "      <td>cd_1</td>\n",
       "      <td>541211</td>\n",
       "      <td>OFFICES OF CERTIFIED PUBLIC ACCOUNTANTS</td>\n",
       "      <td>6</td>\n",
       "    </tr>\n",
       "    <tr>\n",
       "      <th>1</th>\n",
       "      <td>1974011093</td>\n",
       "      <td>HECHT SOLBERG ROBINSON GOLDBERG &amp; BAGLEY LLP</td>\n",
       "      <td>cd_3</td>\n",
       "      <td>5411</td>\n",
       "      <td>LEGAL SERVICES</td>\n",
       "      <td>4</td>\n",
       "    </tr>\n",
       "    <tr>\n",
       "      <th>2</th>\n",
       "      <td>1978039819</td>\n",
       "      <td>RSM US LLP</td>\n",
       "      <td>cd_1</td>\n",
       "      <td>541211</td>\n",
       "      <td>OFFICES OF CERTIFIED PUBLIC ACCOUNTANTS</td>\n",
       "      <td>6</td>\n",
       "    </tr>\n",
       "    <tr>\n",
       "      <th>3</th>\n",
       "      <td>1978042092</td>\n",
       "      <td>THORSNES BARTOLOTTA MCGUIRE LLP</td>\n",
       "      <td>cd_3</td>\n",
       "      <td>5411</td>\n",
       "      <td>LEGAL SERVICES</td>\n",
       "      <td>4</td>\n",
       "    </tr>\n",
       "    <tr>\n",
       "      <th>4</th>\n",
       "      <td>1979046817</td>\n",
       "      <td>KORENIC &amp; WOJDOWSKI LLP</td>\n",
       "      <td>cd_7</td>\n",
       "      <td>5412</td>\n",
       "      <td>ACCOUNTING/TAX PREP/BOOKKEEP/PAYROLL SERVICES</td>\n",
       "      <td>4</td>\n",
       "    </tr>\n",
       "  </tbody>\n",
       "</table>\n",
       "</div>"
      ],
      "text/plain": [
       "  account_key                                      dba_name council_district  \\\n",
       "0  1974000448                             ERNST & YOUNG LLP             cd_1   \n",
       "1  1974011093  HECHT SOLBERG ROBINSON GOLDBERG & BAGLEY LLP             cd_3   \n",
       "2  1978039819                                    RSM US LLP             cd_1   \n",
       "3  1978042092               THORSNES BARTOLOTTA MCGUIRE LLP             cd_3   \n",
       "4  1979046817                       KORENIC & WOJDOWSKI LLP             cd_7   \n",
       "\n",
       "  naics_code                              naics_description  naics_nchar  \n",
       "0     541211        OFFICES OF CERTIFIED PUBLIC ACCOUNTANTS            6  \n",
       "1       5411                                 LEGAL SERVICES            4  \n",
       "2     541211        OFFICES OF CERTIFIED PUBLIC ACCOUNTANTS            6  \n",
       "3       5411                                 LEGAL SERVICES            4  \n",
       "4       5412  ACCOUNTING/TAX PREP/BOOKKEEP/PAYROLL SERVICES            4  "
      ]
     },
     "execution_count": 3,
     "metadata": {},
     "output_type": "execute_result"
    },
    {
     "data": {
      "text/html": [
       "<div>\n",
       "<style scoped>\n",
       "    .dataframe tbody tr th:only-of-type {\n",
       "        vertical-align: middle;\n",
       "    }\n",
       "\n",
       "    .dataframe tbody tr th {\n",
       "        vertical-align: top;\n",
       "    }\n",
       "\n",
       "    .dataframe thead th {\n",
       "        text-align: right;\n",
       "    }\n",
       "</style>\n",
       "<table border=\"1\" class=\"dataframe\">\n",
       "  <thead>\n",
       "    <tr style=\"text-align: right;\">\n",
       "      <th></th>\n",
       "      <th>naics</th>\n",
       "      <th>naics_description</th>\n",
       "    </tr>\n",
       "  </thead>\n",
       "  <tbody>\n",
       "    <tr>\n",
       "      <th>0</th>\n",
       "      <td>111140</td>\n",
       "      <td>Wheat Farming</td>\n",
       "    </tr>\n",
       "    <tr>\n",
       "      <th>1</th>\n",
       "      <td>111160</td>\n",
       "      <td>Rice Farming</td>\n",
       "    </tr>\n",
       "    <tr>\n",
       "      <th>2</th>\n",
       "      <td>111150</td>\n",
       "      <td>Corn Farming</td>\n",
       "    </tr>\n",
       "    <tr>\n",
       "      <th>3</th>\n",
       "      <td>111110</td>\n",
       "      <td>Soybean Farming</td>\n",
       "    </tr>\n",
       "    <tr>\n",
       "      <th>4</th>\n",
       "      <td>111120</td>\n",
       "      <td>Oilseed (except Soybean) Farming</td>\n",
       "    </tr>\n",
       "  </tbody>\n",
       "</table>\n",
       "</div>"
      ],
      "text/plain": [
       "    naics                 naics_description\n",
       "0  111140                     Wheat Farming\n",
       "1  111160                      Rice Farming\n",
       "2  111150                      Corn Farming\n",
       "3  111110                   Soybean Farming\n",
       "4  111120  Oilseed (except Soybean) Farming"
      ]
     },
     "execution_count": 3,
     "metadata": {},
     "output_type": "execute_result"
    }
   ],
   "source": [
    "cols_sd_use = [\"naics_code\", \"account_key\"]\n",
    "cols_naics_use = [\"naics\"]\n",
    "\n",
    "sd_df[cols_sd_use] = sd_df[cols_sd_use].astype(str)\n",
    "naics_df[cols_naics_use] = naics_df[cols_naics_use].astype(str)\n",
    "\n",
    "sd_df.dtypes\n",
    "naics_df.dtypes\n",
    "sd_df.head()\n",
    "naics_df.head()"
   ]
  },
  {
   "cell_type": "markdown",
   "metadata": {},
   "source": [
    "## \"Inner join\"- retain only San Diego businesses with details on their NAICS code\n",
    "\n",
    "- Use the `naics_code` column in the San Diego business data as the join key\n",
    "- Use the `naics` column in the NAICS code details data as the join key\n",
    "\n",
    "- Do an inner join of the San Diego data onto the NAICS code details using these join keys\n",
    "- After the inner join, print some examples of San Diego businesses lost in the merge\n",
    "- Use value_counts() on the `naics_nchar` column in the San Diego data to see why they might have gotten lost\n"
   ]
  },
  {
   "cell_type": "code",
   "execution_count": 25,
   "metadata": {},
   "outputs": [],
   "source": [
    "# your code here\n",
    "\n",
    "df = SD.merge(NA, left_on=\"naics_code\",\n",
    "             right_on=\"naics\", how = \"inner\")"
   ]
  },
  {
   "cell_type": "code",
   "execution_count": 16,
   "metadata": {},
   "outputs": [
    {
     "data": {
      "text/plain": [
       "0      541211\n",
       "1        5411\n",
       "2      541211\n",
       "3        5411\n",
       "4        5412\n",
       "        ...  \n",
       "348       541\n",
       "349       541\n",
       "350       541\n",
       "351    811198\n",
       "352       531\n",
       "Name: naics_code, Length: 353, dtype: object"
      ]
     },
     "execution_count": 16,
     "metadata": {},
     "output_type": "execute_result"
    }
   ],
   "source": [
    "SD.naics_code"
   ]
  },
  {
   "cell_type": "code",
   "execution_count": 20,
   "metadata": {},
   "outputs": [
    {
     "data": {
      "text/html": [
       "<div>\n",
       "<style scoped>\n",
       "    .dataframe tbody tr th:only-of-type {\n",
       "        vertical-align: middle;\n",
       "    }\n",
       "\n",
       "    .dataframe tbody tr th {\n",
       "        vertical-align: top;\n",
       "    }\n",
       "\n",
       "    .dataframe thead th {\n",
       "        text-align: right;\n",
       "    }\n",
       "</style>\n",
       "<table border=\"1\" class=\"dataframe\">\n",
       "  <thead>\n",
       "    <tr style=\"text-align: right;\">\n",
       "      <th></th>\n",
       "      <th>account_key</th>\n",
       "      <th>dba_name</th>\n",
       "      <th>council_district</th>\n",
       "      <th>naics_code</th>\n",
       "      <th>naics_description</th>\n",
       "      <th>naics_nchar</th>\n",
       "    </tr>\n",
       "  </thead>\n",
       "  <tbody>\n",
       "    <tr>\n",
       "      <th>1</th>\n",
       "      <td>1974011093</td>\n",
       "      <td>HECHT SOLBERG ROBINSON GOLDBERG &amp; BAGLEY LLP</td>\n",
       "      <td>cd_3</td>\n",
       "      <td>5411</td>\n",
       "      <td>LEGAL SERVICES</td>\n",
       "      <td>4</td>\n",
       "    </tr>\n",
       "    <tr>\n",
       "      <th>3</th>\n",
       "      <td>1978042092</td>\n",
       "      <td>THORSNES BARTOLOTTA MCGUIRE LLP</td>\n",
       "      <td>cd_3</td>\n",
       "      <td>5411</td>\n",
       "      <td>LEGAL SERVICES</td>\n",
       "      <td>4</td>\n",
       "    </tr>\n",
       "    <tr>\n",
       "      <th>4</th>\n",
       "      <td>1979046817</td>\n",
       "      <td>KORENIC &amp; WOJDOWSKI LLP</td>\n",
       "      <td>cd_7</td>\n",
       "      <td>5412</td>\n",
       "      <td>ACCOUNTING/TAX PREP/BOOKKEEP/PAYROLL SERVICES</td>\n",
       "      <td>4</td>\n",
       "    </tr>\n",
       "    <tr>\n",
       "      <th>5</th>\n",
       "      <td>1979053082</td>\n",
       "      <td>GRIMM VRANJES GREER STEPHAN &amp; BRIDGMAN LLP</td>\n",
       "      <td>cd_3</td>\n",
       "      <td>5411</td>\n",
       "      <td>LEGAL SERVICES</td>\n",
       "      <td>4</td>\n",
       "    </tr>\n",
       "    <tr>\n",
       "      <th>6</th>\n",
       "      <td>1981000840</td>\n",
       "      <td>BENINK &amp; SLAVENS LLP</td>\n",
       "      <td>cd_7</td>\n",
       "      <td>5411</td>\n",
       "      <td>LEGAL SERVICES</td>\n",
       "      <td>4</td>\n",
       "    </tr>\n",
       "  </tbody>\n",
       "</table>\n",
       "</div>"
      ],
      "text/plain": [
       "  account_key                                      dba_name council_district  \\\n",
       "1  1974011093  HECHT SOLBERG ROBINSON GOLDBERG & BAGLEY LLP             cd_3   \n",
       "3  1978042092               THORSNES BARTOLOTTA MCGUIRE LLP             cd_3   \n",
       "4  1979046817                       KORENIC & WOJDOWSKI LLP             cd_7   \n",
       "5  1979053082    GRIMM VRANJES GREER STEPHAN & BRIDGMAN LLP             cd_3   \n",
       "6  1981000840                          BENINK & SLAVENS LLP             cd_7   \n",
       "\n",
       "  naics_code                              naics_description  naics_nchar  \n",
       "1       5411                                 LEGAL SERVICES            4  \n",
       "3       5411                                 LEGAL SERVICES            4  \n",
       "4       5412  ACCOUNTING/TAX PREP/BOOKKEEP/PAYROLL SERVICES            4  \n",
       "5       5411                                 LEGAL SERVICES            4  \n",
       "6       5411                                 LEGAL SERVICES            4  "
      ]
     },
     "execution_count": 20,
     "metadata": {},
     "output_type": "execute_result"
    }
   ],
   "source": [
    "SD[~SD[\"naics_code\"].isin(df[\"naics\"])].head()"
   ]
  },
  {
   "cell_type": "code",
   "execution_count": 22,
   "metadata": {},
   "outputs": [
    {
     "data": {
      "text/plain": [
       "naics_nchar\n",
       "5    150\n",
       "4     89\n",
       "6     49\n",
       "3     42\n",
       "2     23\n",
       "Name: count, dtype: int64"
      ]
     },
     "execution_count": 22,
     "metadata": {},
     "output_type": "execute_result"
    }
   ],
   "source": [
    "SD.naics_nchar.value_counts()"
   ]
  },
  {
   "cell_type": "markdown",
   "metadata": {},
   "source": [
    "## \"Left join\"- retain all sd businesses even if naics code isn't in `naics_df`\n",
    "\n",
    "- Using the same join keys as above, and treating the San Diego businesses as the left hand side data, left join the naics code details onto the San Diego businesses\n",
    "- Use the `indicator` argument within merge to create an indicator, `naics_merge_status`, to help with later merge diagnostics and examine sample of ones that didn't merge\n",
    "- Use the `suffixes` argument within merge to add `_sd` as the left suffix, `_census` as the right suffix\n",
    "- Use `naics_merge_status` in the merged result to look at a sample of San Diego businesses that weren't matched with `naics_df`"
   ]
  },
  {
   "cell_type": "code",
   "execution_count": 41,
   "metadata": {},
   "outputs": [
    {
     "data": {
      "text/html": [
       "<div>\n",
       "<style scoped>\n",
       "    .dataframe tbody tr th:only-of-type {\n",
       "        vertical-align: middle;\n",
       "    }\n",
       "\n",
       "    .dataframe tbody tr th {\n",
       "        vertical-align: top;\n",
       "    }\n",
       "\n",
       "    .dataframe thead th {\n",
       "        text-align: right;\n",
       "    }\n",
       "</style>\n",
       "<table border=\"1\" class=\"dataframe\">\n",
       "  <thead>\n",
       "    <tr style=\"text-align: right;\">\n",
       "      <th></th>\n",
       "      <th>account_key</th>\n",
       "      <th>dba_name</th>\n",
       "      <th>council_district</th>\n",
       "      <th>naics_code</th>\n",
       "      <th>naics_description_sd</th>\n",
       "      <th>naics_nchar</th>\n",
       "      <th>naics</th>\n",
       "      <th>naics_description_census</th>\n",
       "      <th>naics_merge_status</th>\n",
       "    </tr>\n",
       "  </thead>\n",
       "  <tbody>\n",
       "    <tr>\n",
       "      <th>1</th>\n",
       "      <td>1974011093</td>\n",
       "      <td>HECHT SOLBERG ROBINSON GOLDBERG &amp; BAGLEY LLP</td>\n",
       "      <td>cd_3</td>\n",
       "      <td>5411</td>\n",
       "      <td>LEGAL SERVICES</td>\n",
       "      <td>4</td>\n",
       "      <td>NaN</td>\n",
       "      <td>NaN</td>\n",
       "      <td>left_only</td>\n",
       "    </tr>\n",
       "    <tr>\n",
       "      <th>3</th>\n",
       "      <td>1978042092</td>\n",
       "      <td>THORSNES BARTOLOTTA MCGUIRE LLP</td>\n",
       "      <td>cd_3</td>\n",
       "      <td>5411</td>\n",
       "      <td>LEGAL SERVICES</td>\n",
       "      <td>4</td>\n",
       "      <td>NaN</td>\n",
       "      <td>NaN</td>\n",
       "      <td>left_only</td>\n",
       "    </tr>\n",
       "    <tr>\n",
       "      <th>4</th>\n",
       "      <td>1979046817</td>\n",
       "      <td>KORENIC &amp; WOJDOWSKI LLP</td>\n",
       "      <td>cd_7</td>\n",
       "      <td>5412</td>\n",
       "      <td>ACCOUNTING/TAX PREP/BOOKKEEP/PAYROLL SERVICES</td>\n",
       "      <td>4</td>\n",
       "      <td>NaN</td>\n",
       "      <td>NaN</td>\n",
       "      <td>left_only</td>\n",
       "    </tr>\n",
       "    <tr>\n",
       "      <th>5</th>\n",
       "      <td>1979053082</td>\n",
       "      <td>GRIMM VRANJES GREER STEPHAN &amp; BRIDGMAN LLP</td>\n",
       "      <td>cd_3</td>\n",
       "      <td>5411</td>\n",
       "      <td>LEGAL SERVICES</td>\n",
       "      <td>4</td>\n",
       "      <td>NaN</td>\n",
       "      <td>NaN</td>\n",
       "      <td>left_only</td>\n",
       "    </tr>\n",
       "    <tr>\n",
       "      <th>6</th>\n",
       "      <td>1981000840</td>\n",
       "      <td>BENINK &amp; SLAVENS LLP</td>\n",
       "      <td>cd_7</td>\n",
       "      <td>5411</td>\n",
       "      <td>LEGAL SERVICES</td>\n",
       "      <td>4</td>\n",
       "      <td>NaN</td>\n",
       "      <td>NaN</td>\n",
       "      <td>left_only</td>\n",
       "    </tr>\n",
       "    <tr>\n",
       "      <th>...</th>\n",
       "      <td>...</td>\n",
       "      <td>...</td>\n",
       "      <td>...</td>\n",
       "      <td>...</td>\n",
       "      <td>...</td>\n",
       "      <td>...</td>\n",
       "      <td>...</td>\n",
       "      <td>...</td>\n",
       "      <td>...</td>\n",
       "    </tr>\n",
       "    <tr>\n",
       "      <th>362</th>\n",
       "      <td>2006015404</td>\n",
       "      <td>9625 TOWN CENTRE PARTNERS LP</td>\n",
       "      <td>cd_3</td>\n",
       "      <td>541</td>\n",
       "      <td>PROFESSIONAL, SCIENTIFIC &amp; TECHNICAL SERVICES</td>\n",
       "      <td>3</td>\n",
       "      <td>NaN</td>\n",
       "      <td>NaN</td>\n",
       "      <td>left_only</td>\n",
       "    </tr>\n",
       "    <tr>\n",
       "      <th>363</th>\n",
       "      <td>2007015303</td>\n",
       "      <td>WFP-GATEWAY LP</td>\n",
       "      <td>cd_3</td>\n",
       "      <td>541</td>\n",
       "      <td>PROFESSIONAL, SCIENTIFIC &amp; TECHNICAL SERVICES</td>\n",
       "      <td>3</td>\n",
       "      <td>NaN</td>\n",
       "      <td>NaN</td>\n",
       "      <td>left_only</td>\n",
       "    </tr>\n",
       "    <tr>\n",
       "      <th>364</th>\n",
       "      <td>2007015336</td>\n",
       "      <td>WFP-MIRAMAR LP</td>\n",
       "      <td>cd_3</td>\n",
       "      <td>541</td>\n",
       "      <td>PROFESSIONAL, SCIENTIFIC &amp; TECHNICAL SERVICES</td>\n",
       "      <td>3</td>\n",
       "      <td>NaN</td>\n",
       "      <td>NaN</td>\n",
       "      <td>left_only</td>\n",
       "    </tr>\n",
       "    <tr>\n",
       "      <th>365</th>\n",
       "      <td>2010010820</td>\n",
       "      <td>ROSSLYN LOFTS HOUSING PARTNERS LP THE</td>\n",
       "      <td>cd_6</td>\n",
       "      <td>541</td>\n",
       "      <td>PROFESSIONAL, SCIENTIFIC &amp; TECHNICAL SERVICES</td>\n",
       "      <td>3</td>\n",
       "      <td>NaN</td>\n",
       "      <td>NaN</td>\n",
       "      <td>left_only</td>\n",
       "    </tr>\n",
       "    <tr>\n",
       "      <th>369</th>\n",
       "      <td>2014014569</td>\n",
       "      <td>JLMR INVESTMENTS LP</td>\n",
       "      <td>cd_2</td>\n",
       "      <td>531</td>\n",
       "      <td>REAL ESTATE</td>\n",
       "      <td>3</td>\n",
       "      <td>NaN</td>\n",
       "      <td>NaN</td>\n",
       "      <td>left_only</td>\n",
       "    </tr>\n",
       "  </tbody>\n",
       "</table>\n",
       "<p>318 rows × 9 columns</p>\n",
       "</div>"
      ],
      "text/plain": [
       "    account_key                                      dba_name  \\\n",
       "1    1974011093  HECHT SOLBERG ROBINSON GOLDBERG & BAGLEY LLP   \n",
       "3    1978042092               THORSNES BARTOLOTTA MCGUIRE LLP   \n",
       "4    1979046817                       KORENIC & WOJDOWSKI LLP   \n",
       "5    1979053082    GRIMM VRANJES GREER STEPHAN & BRIDGMAN LLP   \n",
       "6    1981000840                          BENINK & SLAVENS LLP   \n",
       "..          ...                                           ...   \n",
       "362  2006015404                  9625 TOWN CENTRE PARTNERS LP   \n",
       "363  2007015303                                WFP-GATEWAY LP   \n",
       "364  2007015336                                WFP-MIRAMAR LP   \n",
       "365  2010010820         ROSSLYN LOFTS HOUSING PARTNERS LP THE   \n",
       "369  2014014569                           JLMR INVESTMENTS LP   \n",
       "\n",
       "    council_district naics_code  \\\n",
       "1               cd_3       5411   \n",
       "3               cd_3       5411   \n",
       "4               cd_7       5412   \n",
       "5               cd_3       5411   \n",
       "6               cd_7       5411   \n",
       "..               ...        ...   \n",
       "362             cd_3        541   \n",
       "363             cd_3        541   \n",
       "364             cd_3        541   \n",
       "365             cd_6        541   \n",
       "369             cd_2        531   \n",
       "\n",
       "                              naics_description_sd  naics_nchar naics  \\\n",
       "1                                   LEGAL SERVICES            4   NaN   \n",
       "3                                   LEGAL SERVICES            4   NaN   \n",
       "4    ACCOUNTING/TAX PREP/BOOKKEEP/PAYROLL SERVICES            4   NaN   \n",
       "5                                   LEGAL SERVICES            4   NaN   \n",
       "6                                   LEGAL SERVICES            4   NaN   \n",
       "..                                             ...          ...   ...   \n",
       "362  PROFESSIONAL, SCIENTIFIC & TECHNICAL SERVICES            3   NaN   \n",
       "363  PROFESSIONAL, SCIENTIFIC & TECHNICAL SERVICES            3   NaN   \n",
       "364  PROFESSIONAL, SCIENTIFIC & TECHNICAL SERVICES            3   NaN   \n",
       "365  PROFESSIONAL, SCIENTIFIC & TECHNICAL SERVICES            3   NaN   \n",
       "369                                    REAL ESTATE            3   NaN   \n",
       "\n",
       "    naics_description_census naics_merge_status  \n",
       "1                        NaN          left_only  \n",
       "3                        NaN          left_only  \n",
       "4                        NaN          left_only  \n",
       "5                        NaN          left_only  \n",
       "6                        NaN          left_only  \n",
       "..                       ...                ...  \n",
       "362                      NaN          left_only  \n",
       "363                      NaN          left_only  \n",
       "364                      NaN          left_only  \n",
       "365                      NaN          left_only  \n",
       "369                      NaN          left_only  \n",
       "\n",
       "[318 rows x 9 columns]"
      ]
     },
     "execution_count": 41,
     "metadata": {},
     "output_type": "execute_result"
    }
   ],
   "source": [
    "# your code here\n",
    "df1 = SD.merge(NA, left_on=\"naics_code\",\n",
    "             right_on=\"naics\", how = \"left\", indicator = 'naics_merge_status', suffixes = ('_sd', '_census'))\n",
    "\n",
    "df1[df1.naics_merge_status == 'left_only']"
   ]
  },
  {
   "cell_type": "markdown",
   "metadata": {},
   "source": [
    "## Use group by and agg to see if there are differences in merge rates by area\n",
    "\n",
    "- Using the left-joined dataframe created in previous step, create a boolean indicator, `is_lost`, that equals `True` if the merge indicator is equal to \"left_only\" (and is otherwise false)\n",
    "- Find the proportion of businesses by council district that were lost in the left join (SD businesses that failed to match to `naics_df`). To do this, group by `council_district` and use the shortcut of taking the mean of the `is_lost` indicator to find the proportions lost by `council_district`. "
   ]
  },
  {
   "cell_type": "code",
   "execution_count": 42,
   "metadata": {},
   "outputs": [
    {
     "data": {
      "text/plain": [
       "council_district\n",
       "cd_1    0.880597\n",
       "cd_2    0.804348\n",
       "cd_3    0.812500\n",
       "cd_4    1.000000\n",
       "cd_5    0.916667\n",
       "cd_6    0.859649\n",
       "cd_7    0.918919\n",
       "cd_8    0.933333\n",
       "cd_9    1.000000\n",
       "Name: is_lost, dtype: float64"
      ]
     },
     "execution_count": 42,
     "metadata": {},
     "output_type": "execute_result"
    }
   ],
   "source": [
    "# your code here\n",
    "df1['is_lost'] = df1.naics_merge_status == 'left_only'\n",
    "\n",
    "df1.groupby('council_district').is_lost.mean()"
   ]
  },
  {
   "cell_type": "markdown",
   "metadata": {},
   "source": [
    "## Optional challenge exercise: add lagging 0's and see if merge rate improves\n",
    "\n",
    "You noticed earlier that a big reason for non-matches is that the San Diego tax certificate NAICS codes were often less than six digits long, while the Census ones were always 6 digits.\n",
    "\n",
    "You wonder if this is an issue where 0's in some of the SD's data naics codes got cut off (eg 540000 became 54), and if so whether adding these lagging zeros would improve the merge rate in a left join.\n",
    "\n",
    "- Pad the `naics_code` column in `sd_df` with 0's to get that column up to 6-digits, using one of two approaches: \n",
    "  1. `str.pad` in pandas (https://pandas.pydata.org/docs/reference/api/pandas.Series.str.pad.html)\n",
    "  2. for more of a challenge, write your own function! It should check the # of digits in the naics code string and pad it with 0's at the end up to 6 digits. To execute your function, use row-wise apply: `df.apply(lambda row: funcname(row.column), axis=1)`.\n",
    "- Perform the same left join as above and see how the match rate changes\n",
    "- Create an indicator variable--`is_new_match`---for new matches under the padded NAICS code; compare the `naics_description` column from San Diego versus Census in the new dataset for a sample of these new matches and comment on whether the padding seems to be correct"
   ]
  },
  {
   "cell_type": "code",
   "execution_count": 48,
   "metadata": {},
   "outputs": [
    {
     "data": {
      "text/plain": [
       "0                                                        541211\n",
       "1                                                        541100\n",
       "2                                                        541211\n",
       "3                                                        541100\n",
       "4                                                        541200\n",
       "                                    ...                        \n",
       "349                                                      541000\n",
       "350                                                      541000\n",
       "351                                                      811198\n",
       "352                                                      531000\n",
       "naics_code    0      541211\n",
       "1      541100\n",
       "2      541211\n",
       "3   ...\n",
       "Name: naics_code, Length: 354, dtype: object"
      ]
     },
     "execution_count": 48,
     "metadata": {},
     "output_type": "execute_result"
    }
   ],
   "source": [
    "SD1"
   ]
  },
  {
   "cell_type": "code",
   "execution_count": 53,
   "metadata": {},
   "outputs": [
    {
     "data": {
      "text/plain": [
       "council_district\n",
       "cd_1    0.546667\n",
       "cd_2    0.555556\n",
       "cd_3    0.348148\n",
       "cd_4    1.000000\n",
       "cd_5    0.483871\n",
       "cd_6    0.445946\n",
       "cd_7    0.560976\n",
       "cd_8    0.333333\n",
       "cd_9    1.000000\n",
       "Name: is_lost, dtype: float64"
      ]
     },
     "execution_count": 53,
     "metadata": {},
     "output_type": "execute_result"
    }
   ],
   "source": [
    "# your code here\n",
    "\n",
    "SD1 = SD.copy()\n",
    "SD1[\"naics_code\"] = SD1[\"naics_code\"].str.pad(6, side = \"right\", fillchar='0')\n",
    "\n",
    "\n",
    "# your code here\n",
    "df2 = SD1.merge(NA, left_on=\"naics_code\",\n",
    "             right_on=\"naics\", how = \"left\", indicator = 'naics_merge_status', suffixes = ('_sd', '_census'))\n",
    "\n",
    "df2['is_lost'] = df2.naics_merge_status == 'left_only'\n",
    "\n",
    "df2.groupby('council_district').is_lost.mean()"
   ]
  },
  {
   "cell_type": "code",
   "execution_count": 57,
   "metadata": {},
   "outputs": [
    {
     "ename": "TypeError",
     "evalue": "unsupported operand type(s) for +=: 'int' and 'str'",
     "output_type": "error",
     "traceback": [
      "\u001b[0;31m---------------------------------------------------------------------------\u001b[0m",
      "\u001b[0;31mTypeError\u001b[0m                                 Traceback (most recent call last)",
      "Cell \u001b[0;32mIn[57], line 6\u001b[0m\n\u001b[1;32m      4\u001b[0m         r \u001b[38;5;241m+\u001b[39m\u001b[38;5;241m=\u001b[39m add_num \u001b[38;5;241m*\u001b[39m \u001b[38;5;124m'\u001b[39m\u001b[38;5;124m0\u001b[39m\u001b[38;5;124m'\u001b[39m\n\u001b[1;32m      5\u001b[0m     \u001b[38;5;28;01mreturn\u001b[39;00m r\n\u001b[0;32m----> 6\u001b[0m SD\u001b[38;5;241m.\u001b[39mapply(\u001b[38;5;28;01mlambda\u001b[39;00m r: pad_naics(r\u001b[38;5;241m.\u001b[39mnaics_code), axis \u001b[38;5;241m=\u001b[39m \u001b[38;5;241m1\u001b[39m)\n",
      "File \u001b[0;32m/opt/anaconda3/lib/python3.11/site-packages/pandas/core/frame.py:10034\u001b[0m, in \u001b[0;36mDataFrame.apply\u001b[0;34m(self, func, axis, raw, result_type, args, by_row, **kwargs)\u001b[0m\n\u001b[1;32m  10022\u001b[0m \u001b[38;5;28;01mfrom\u001b[39;00m \u001b[38;5;21;01mpandas\u001b[39;00m\u001b[38;5;21;01m.\u001b[39;00m\u001b[38;5;21;01mcore\u001b[39;00m\u001b[38;5;21;01m.\u001b[39;00m\u001b[38;5;21;01mapply\u001b[39;00m \u001b[38;5;28;01mimport\u001b[39;00m frame_apply\n\u001b[1;32m  10024\u001b[0m op \u001b[38;5;241m=\u001b[39m frame_apply(\n\u001b[1;32m  10025\u001b[0m     \u001b[38;5;28mself\u001b[39m,\n\u001b[1;32m  10026\u001b[0m     func\u001b[38;5;241m=\u001b[39mfunc,\n\u001b[0;32m   (...)\u001b[0m\n\u001b[1;32m  10032\u001b[0m     kwargs\u001b[38;5;241m=\u001b[39mkwargs,\n\u001b[1;32m  10033\u001b[0m )\n\u001b[0;32m> 10034\u001b[0m \u001b[38;5;28;01mreturn\u001b[39;00m op\u001b[38;5;241m.\u001b[39mapply()\u001b[38;5;241m.\u001b[39m__finalize__(\u001b[38;5;28mself\u001b[39m, method\u001b[38;5;241m=\u001b[39m\u001b[38;5;124m\"\u001b[39m\u001b[38;5;124mapply\u001b[39m\u001b[38;5;124m\"\u001b[39m)\n",
      "File \u001b[0;32m/opt/anaconda3/lib/python3.11/site-packages/pandas/core/apply.py:837\u001b[0m, in \u001b[0;36mFrameApply.apply\u001b[0;34m(self)\u001b[0m\n\u001b[1;32m    834\u001b[0m \u001b[38;5;28;01melif\u001b[39;00m \u001b[38;5;28mself\u001b[39m\u001b[38;5;241m.\u001b[39mraw:\n\u001b[1;32m    835\u001b[0m     \u001b[38;5;28;01mreturn\u001b[39;00m \u001b[38;5;28mself\u001b[39m\u001b[38;5;241m.\u001b[39mapply_raw()\n\u001b[0;32m--> 837\u001b[0m \u001b[38;5;28;01mreturn\u001b[39;00m \u001b[38;5;28mself\u001b[39m\u001b[38;5;241m.\u001b[39mapply_standard()\n",
      "File \u001b[0;32m/opt/anaconda3/lib/python3.11/site-packages/pandas/core/apply.py:965\u001b[0m, in \u001b[0;36mFrameApply.apply_standard\u001b[0;34m(self)\u001b[0m\n\u001b[1;32m    964\u001b[0m \u001b[38;5;28;01mdef\u001b[39;00m \u001b[38;5;21mapply_standard\u001b[39m(\u001b[38;5;28mself\u001b[39m):\n\u001b[0;32m--> 965\u001b[0m     results, res_index \u001b[38;5;241m=\u001b[39m \u001b[38;5;28mself\u001b[39m\u001b[38;5;241m.\u001b[39mapply_series_generator()\n\u001b[1;32m    967\u001b[0m     \u001b[38;5;66;03m# wrap results\u001b[39;00m\n\u001b[1;32m    968\u001b[0m     \u001b[38;5;28;01mreturn\u001b[39;00m \u001b[38;5;28mself\u001b[39m\u001b[38;5;241m.\u001b[39mwrap_results(results, res_index)\n",
      "File \u001b[0;32m/opt/anaconda3/lib/python3.11/site-packages/pandas/core/apply.py:981\u001b[0m, in \u001b[0;36mFrameApply.apply_series_generator\u001b[0;34m(self)\u001b[0m\n\u001b[1;32m    978\u001b[0m \u001b[38;5;28;01mwith\u001b[39;00m option_context(\u001b[38;5;124m\"\u001b[39m\u001b[38;5;124mmode.chained_assignment\u001b[39m\u001b[38;5;124m\"\u001b[39m, \u001b[38;5;28;01mNone\u001b[39;00m):\n\u001b[1;32m    979\u001b[0m     \u001b[38;5;28;01mfor\u001b[39;00m i, v \u001b[38;5;129;01min\u001b[39;00m \u001b[38;5;28menumerate\u001b[39m(series_gen):\n\u001b[1;32m    980\u001b[0m         \u001b[38;5;66;03m# ignore SettingWithCopy here in case the user mutates\u001b[39;00m\n\u001b[0;32m--> 981\u001b[0m         results[i] \u001b[38;5;241m=\u001b[39m \u001b[38;5;28mself\u001b[39m\u001b[38;5;241m.\u001b[39mfunc(v, \u001b[38;5;241m*\u001b[39m\u001b[38;5;28mself\u001b[39m\u001b[38;5;241m.\u001b[39margs, \u001b[38;5;241m*\u001b[39m\u001b[38;5;241m*\u001b[39m\u001b[38;5;28mself\u001b[39m\u001b[38;5;241m.\u001b[39mkwargs)\n\u001b[1;32m    982\u001b[0m         \u001b[38;5;28;01mif\u001b[39;00m \u001b[38;5;28misinstance\u001b[39m(results[i], ABCSeries):\n\u001b[1;32m    983\u001b[0m             \u001b[38;5;66;03m# If we have a view on v, we need to make a copy because\u001b[39;00m\n\u001b[1;32m    984\u001b[0m             \u001b[38;5;66;03m#  series_generator will swap out the underlying data\u001b[39;00m\n\u001b[1;32m    985\u001b[0m             results[i] \u001b[38;5;241m=\u001b[39m results[i]\u001b[38;5;241m.\u001b[39mcopy(deep\u001b[38;5;241m=\u001b[39m\u001b[38;5;28;01mFalse\u001b[39;00m)\n",
      "Cell \u001b[0;32mIn[57], line 6\u001b[0m, in \u001b[0;36m<lambda>\u001b[0;34m(r)\u001b[0m\n\u001b[1;32m      4\u001b[0m         r \u001b[38;5;241m+\u001b[39m\u001b[38;5;241m=\u001b[39m add_num \u001b[38;5;241m*\u001b[39m \u001b[38;5;124m'\u001b[39m\u001b[38;5;124m0\u001b[39m\u001b[38;5;124m'\u001b[39m\n\u001b[1;32m      5\u001b[0m     \u001b[38;5;28;01mreturn\u001b[39;00m r\n\u001b[0;32m----> 6\u001b[0m SD\u001b[38;5;241m.\u001b[39mapply(\u001b[38;5;28;01mlambda\u001b[39;00m r: pad_naics(r\u001b[38;5;241m.\u001b[39mnaics_code), axis \u001b[38;5;241m=\u001b[39m \u001b[38;5;241m1\u001b[39m)\n",
      "Cell \u001b[0;32mIn[57], line 4\u001b[0m, in \u001b[0;36mpad_naics\u001b[0;34m(r)\u001b[0m\n\u001b[1;32m      2\u001b[0m \u001b[38;5;28;01mif\u001b[39;00m \u001b[38;5;28mlen\u001b[39m(\u001b[38;5;28mstr\u001b[39m(r)) \u001b[38;5;241m<\u001b[39m \u001b[38;5;241m6\u001b[39m:\n\u001b[1;32m      3\u001b[0m     add_num \u001b[38;5;241m=\u001b[39m \u001b[38;5;28mlen\u001b[39m(\u001b[38;5;28mstr\u001b[39m(r)) \u001b[38;5;241m-\u001b[39m \u001b[38;5;241m6\u001b[39m\n\u001b[0;32m----> 4\u001b[0m     r \u001b[38;5;241m+\u001b[39m\u001b[38;5;241m=\u001b[39m add_num \u001b[38;5;241m*\u001b[39m \u001b[38;5;124m'\u001b[39m\u001b[38;5;124m0\u001b[39m\u001b[38;5;124m'\u001b[39m\n\u001b[1;32m      5\u001b[0m \u001b[38;5;28;01mreturn\u001b[39;00m r\n",
      "\u001b[0;31mTypeError\u001b[0m: unsupported operand type(s) for +=: 'int' and 'str'"
     ]
    }
   ],
   "source": [
    "def pad_naics(r):\n",
    "    if len(str(r)) < 6:\n",
    "        add_num = len(str(r)) - 6\n",
    "        r += add_num * '0'\n",
    "    return r\n",
    "SD.apply(lambda r: pad_naics(r.naics_code), axis = 1)"
   ]
  }
 ],
 "metadata": {
  "kernelspec": {
   "display_name": "Python 3 (ipykernel)",
   "language": "python",
   "name": "python3"
  },
  "language_info": {
   "codemirror_mode": {
    "name": "ipython",
    "version": 3
   },
   "file_extension": ".py",
   "mimetype": "text/x-python",
   "name": "python",
   "nbconvert_exporter": "python",
   "pygments_lexer": "ipython3",
   "version": "3.11.7"
  }
 },
 "nbformat": 4,
 "nbformat_minor": 4
}
