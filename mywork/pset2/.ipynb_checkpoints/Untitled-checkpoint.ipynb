{
 "cells": [
  {
   "cell_type": "markdown",
   "id": "f802cae6-9240-4c79-891e-8dec8b0af843",
   "metadata": {},
   "source": [
    "- For 3 points extra credit instead, geocode the employer addresses in `jobs` and plot the addresses of jobs as points overlaid on top of a map of Georgia \n",
    "    - **Note**: this extra credit involves Googling since we have not yet covered spatial data. \n",
    "        - For discussion of how to geocode addresses -> lat/long, see: https://www.natasshaselvaraj.com/a-step-by-step-guide-on-geocoding-in-python/ \n",
    "        - For discussion of plotting lat/long dots against a map, see this discussion of geopandas: https://towardsdatascience.com/plotting-maps-with-geopandas-428c97295a73\n",
    "    - Relevant columns include `EMPLOYER_ADDRESS_1` \n",
    "    - The geocoding might have a long runtime so feel free to implement it in a separate .py script that you submit alongside your notebook and to just read in the geocoded data"
   ]
  },
  {
   "cell_type": "code",
   "execution_count": 1,
   "id": "ce18bf86-c129-423e-804d-4f36f900b753",
   "metadata": {},
   "outputs": [],
   "source": [
    "## helpful packages\n",
    "import pandas as pd\n",
    "import numpy as np\n",
    "import random\n",
    "import re\n",
    "import os\n",
    "\n",
    "## repeated printouts\n",
    "from IPython.core.interactiveshell import InteractiveShell\n",
    "InteractiveShell.ast_node_interactivity = \"all\"\n"
   ]
  },
  {
   "cell_type": "code",
   "execution_count": 4,
   "id": "bfc96aaf-63bc-49d2-83f6-b11f57d20185",
   "metadata": {},
   "outputs": [],
   "source": [
    "# your code here to load the data \n",
    "jobs = pd.read_csv(\"pset2_inputdata/jobs.csv\")\n",
    "jobs['EMPLOYER_NAME'] = [name.upper() for name in jobs['EMPLOYER_NAME']]"
   ]
  },
  {
   "cell_type": "code",
   "execution_count": 9,
   "id": "fd872100-41bb-4b6b-a258-1a31352906bc",
   "metadata": {},
   "outputs": [
    {
     "data": {
      "text/plain": [
       "0                                 8433 NE 13th Ave\n",
       "1                         982 Northcutts Cove Road\n",
       "2                             7366 State Hwy 146 S\n",
       "3                                   4198 Road 2049\n",
       "4                          400 Eagle Lake Loop Rd.\n",
       "                           ...                    \n",
       "2715                         1448 Little Knob Road\n",
       "2716                         5850 W Jeff Davis Hwy\n",
       "2717                               2412 Povey Road\n",
       "2718    231 Tendoy Street - Note: No Mail Delivery\n",
       "2719                             1286 Chestnut Rd.\n",
       "Name: EMPLOYER_ADDRESS_1, Length: 2720, dtype: object"
      ]
     },
     "execution_count": 9,
     "metadata": {},
     "output_type": "execute_result"
    }
   ],
   "source": [
    "\n",
    "jobs['EMPLOYER_ADDRESS_1']"
   ]
  }
 ],
 "metadata": {
  "kernelspec": {
   "display_name": "Python 3 (ipykernel)",
   "language": "python",
   "name": "python3"
  },
  "language_info": {
   "codemirror_mode": {
    "name": "ipython",
    "version": 3
   },
   "file_extension": ".py",
   "mimetype": "text/x-python",
   "name": "python",
   "nbconvert_exporter": "python",
   "pygments_lexer": "ipython3",
   "version": "3.11.7"
  }
 },
 "nbformat": 4,
 "nbformat_minor": 5
}
