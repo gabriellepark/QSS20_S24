{
 "cells": [
  {
   "cell_type": "markdown",
   "metadata": {},
   "source": [
    "# Problem set 3: Text analysis of DOJ press releases\n",
    "\n",
    "**Total points (without extra credit)**: 52 \n",
    "\n",
    "- For background:\n",
    "\n",
    "    - DOJ is the federal law enforcement agency responsible for federal prosecutions; this contrasts with the local prosecutions in the Cook County dataset we analyzed earlier. Here's a short explainer on which crimes get prosecuted federally versus locally: https://www.criminaldefenselawyer.com/resources/criminal-defense/federal-crime/state-vs-federal-crimes.htm#:~:text=Federal%20criminal%20prosecutions%20are%20handled,of%20state%20and%20local%20law. \n",
    "    - Here's the Kaggle that contains the data: https://www.kaggle.com/jbencina/department-of-justice-20092018-press-releases \n",
    "    - Here's the code the dataset creator used to scrape those press releases here if you're interested: https://github.com/jbencina/dojreleases"
   ]
  },
  {
   "cell_type": "markdown",
   "metadata": {},
   "source": [
    "## 0.0 Import packages"
   ]
  },
  {
   "cell_type": "code",
   "execution_count": 67,
   "metadata": {},
   "outputs": [],
   "source": [
    "## helpful packages\n",
    "import warnings\n",
    "warnings.filterwarnings(\"ignore\")\n",
    "\n",
    "import pandas as pd\n",
    "import numpy as np\n",
    "import random\n",
    "import re\n",
    "import string\n",
    "\n",
    "## nltk imports\n",
    "import nltk\n",
    "### uncomment and run these lines if you haven't downloaded relevant nltk add-ons yet\n",
    "#nltk.download('averaged_perceptron_tagger')\n",
    "#nltk.download('stopwords')\n",
    "from nltk import pos_tag\n",
    "from nltk.tokenize import word_tokenize, wordpunct_tokenize\n",
    "from nltk.stem.snowball import SnowballStemmer\n",
    "from nltk.corpus import stopwords\n",
    "\n",
    "\n",
    "\n",
    "## spacy imports\n",
    "import spacy\n",
    "### uncomment and run the below line if you haven't loaded the en_core_web_sm library yet\n",
    "#! python -m spacy download en_core_web_sm\n",
    "import en_core_web_sm\n",
    "nlp = en_core_web_sm.load()\n",
    "\n",
    "## vectorizer\n",
    "from sklearn.feature_extraction.text import CountVectorizer\n",
    "\n",
    "## sentiment\n",
    "from vaderSentiment.vaderSentiment import SentimentIntensityAnalyzer\n",
    "\n",
    "## lda\n",
    "from gensim import corpora\n",
    "import gensim\n",
    "\n",
    "## repeated printouts and wide-format text\n",
    "from IPython.core.interactiveshell import InteractiveShell\n",
    "InteractiveShell.ast_node_interactivity = \"all\"\n",
    "pd.set_option('display.max_colwidth', None)"
   ]
  },
  {
   "cell_type": "markdown",
   "metadata": {},
   "source": [
    "## 0.1 Load and clean text data"
   ]
  },
  {
   "cell_type": "code",
   "execution_count": 2,
   "metadata": {},
   "outputs": [
    {
     "data": {
      "text/html": [
       "<div>\n",
       "<style scoped>\n",
       "    .dataframe tbody tr th:only-of-type {\n",
       "        vertical-align: middle;\n",
       "    }\n",
       "\n",
       "    .dataframe tbody tr th {\n",
       "        vertical-align: top;\n",
       "    }\n",
       "\n",
       "    .dataframe thead th {\n",
       "        text-align: right;\n",
       "    }\n",
       "</style>\n",
       "<table border=\"1\" class=\"dataframe\">\n",
       "  <thead>\n",
       "    <tr style=\"text-align: right;\">\n",
       "      <th></th>\n",
       "      <th>id</th>\n",
       "      <th>title</th>\n",
       "      <th>contents</th>\n",
       "      <th>date</th>\n",
       "      <th>topics_clean</th>\n",
       "      <th>components_clean</th>\n",
       "    </tr>\n",
       "  </thead>\n",
       "  <tbody>\n",
       "    <tr>\n",
       "      <th>0</th>\n",
       "      <td>None</td>\n",
       "      <td>Convicted Bomb Plotter Sentenced to 30 Years</td>\n",
       "      <td>PORTLAND, Oregon. – Mohamed Osman Mohamud, 23, who was convicted in 2013 of attempting to use a weapon of mass destruction (explosives) in connection with a plot to detonate a vehicle bomb at an annual Christmas tree lighting ceremony in Portland, was sentenced today to serve 30 years in prison, followed by a lifetime term of supervised release. Mohamud, a naturalized U.S. citizen from Somalia and former resident of Corvallis, Oregon, was arrested on Nov. 26, 2010, after he attempted to detonate what he believed to be an explosives-laden van that was parked near the tree lighting ceremony in Portland.  The arrest was the culmination of a long-term undercover operation, during which Mohamud was monitored closely for months as his bomb plot developed.  The device was in fact inert, and the public was never in danger from the device. At sentencing, United States District Court Judge Garr M. King, who presided over Mohamed’s 14-day trial, said “the intended crime was horrific,” and that the defendant, even though he was presented with options by undercover FBI employees, “never once expressed a change of heart.”  King further noted that the Christmas tree ceremony was attended by up to 10,000 people, and that the defendant “wanted everyone to leave either dead or injured.”  King said his sentence was necessary in view of the seriousness of the crime and to serve as deterrence to others who might consider similar acts.     “With today’s sentencing, Mohamed Osman Mohamud is being held accountable for his attempted use of what he believed to be a massive bomb to attack innocent civilians attending a public Christmas tree lighting ceremony in Portland,” said John P. Carlin, Assistant Attorney General for National Security.  “The evidence clearly indicated that Mohamud was intent on killing as many people as possible with his attack.  Fortunately, law enforcement was able to identify him as a threat, insert themselves in the place of a terrorist that Mohamud was trying to contact, and thwart Mohamud’s efforts to conduct an attack on our soil.  This case highlights how the use of undercover operations against would-be terrorists allows us to engage and disrupt those who wish to commit horrific acts of violence against the innocent public.  The many agents, analysts, and prosecutors who have worked on this case deserve great credit for their roles in protecting Portland from the threat posed by this defendant and ensuring that he was brought to justice.” “This trial provided a rare glimpse into the techniques Al Qaeda employs to radicalize home-grown extremists,” said Amanda Marshall, U.S. Attorney for the District of Oregon.  “With the sentencing today, the court has held this defendant accountable.   I thank the dedicated professionals in the law enforcement and intelligence communities who were responsible for this successful outcome.  I look forward to our continued work with Muslim communities in Oregon who are committed to ensuring that all young people are safe from extremists who seek to radicalize others to engage in violence.”  According to the trial evidence, in February 2009, Mohamud began communicating via e-mail with Samir Khan, a now-deceased al Qaeda terrorist who published Jihad Recollections, an online magazine that advocated violent jihad, and who also published Inspire, the official magazine of al-Qaeda in the Arabian Peninsula.  Between February and August 2009, Mohamed exchanged approximately 150 emails with Khan.  Mohamud wrote several articles for Jihad Recollections that were published under assumed names. In August 2009, Mohamud was in email contact with Amro Al-Ali, a Saudi national who was in Yemen at the time and is today in custody in Saudi Arabia for terrorism offenses.  Al-Ali sent Mohamud detailed e-mails designed to facilitate Mohamud’s travel to Yemen to train for violent jihad.  In December 2009, while Al-Ali was in the northwest frontier province of Pakistan, Mohamud and Al-Ali discussed the possibility of Mohamud traveling to Pakistan to join Al-Ali in terrorist activities. Mohamud responded to Al-Ali in an e-mail: “yes, that would be wonderful, just tell me what I need to do.”  Al-Ali referred Mohamud to a second associate overseas and provided Mohamud with a name and email address to facilitate the process. In the following months, Mohamud made several unsuccessful attempts to contact Al-Ali’s associate.  Ultimately, an FBI undercover operative contacted Mohamud via email under the guise of being an associate of Al-Ali’s.  Mohamud and the FBI undercover operative agreed to meet in Portland in July 2010.  At the meeting, Mohamud told the FBI undercover operative he had written articles that were published in Jihad Recollections.  Mohamud also said that he wanted to become “operational.”  Asked what he meant by “operational,” Mohamud said he wanted to put an explosion together, but needed help. According to evidence presented at trial, at a meeting in August 2010, Mohamud told undercover FBI operatives he had been thinking of committing violent jihad since the age of 15.  Mohamud then told the undercover FBI operatives that he had identified a potential target for a bomb: the annual Christmas tree lighting ceremony in Portland’s Pioneer Courthouse Square on Nov. 26, 2010.  The undercover FBI operatives cautioned Mohamud several times about the seriousness of this plan, noting there would be many people at the event, including children, and emphasized that Mohamud could abandon his attack plans at any time with no shame.  Mohamud indicated the deaths would be justified and that he would not mind carrying out a suicide attack on the crowd. According to evidence presented at trial, in the ensuing months Mohamud continued to express his interest in carrying out the attack and worked on logistics.  On Nov. 4, 2010, Mohamud and the undercover FBI operatives traveled to a remote location in Lincoln County, Oregon, where they detonated a bomb concealed in a backpack as a trial run for the upcoming attack.  During the drive back to Corvallis, Mohamud was asked if was capable looking at all the bodies of those who would be killed during the explosion.  In response, Mohamud noted, “I want whoever is attending that event to be, to leave either dead or injured.”  Mohamud later recorded a video of himself, with the assistance of the undercover FBI operatives, in which he read a statement that offered his rationale for his bomb attack.  On Nov. 18, 2010, undercover FBI operatives picked up Mohamud to travel to Portland to finalize the details of the attack.  On Nov. 26, 2010, just hours before the planned attack, Mohamud examined the 1,800 pound bomb in the van and remarked that it was “beautiful.”  Later that day, Mohamud was arrested after he attempted to remotely detonate the inert vehicle bomb rked near the Christmas tree lighting ceremony This case was investigated by the FBI, with assistance from the Oregon State Police, the Corvallis Police Department, the Lincoln County Sheriff’s Office and the Portland Police Bureau.  The prosecution was handled by Assistant U.S. Attorneys Ethan D. Knight and Pamala Holsinger from the U.S. Attorney’s Office for the District of Oregon.  Trial Attorney Jolie F. Zimmerman, from the Counterterrorism Section of the Justice Department’s National Security Division, assisted. # # # 14-1077</td>\n",
       "      <td>2014-10-01T00:00:00-04:00</td>\n",
       "      <td>No topic</td>\n",
       "      <td>National Security Division (NSD)</td>\n",
       "    </tr>\n",
       "    <tr>\n",
       "      <th>1</th>\n",
       "      <td>12-919</td>\n",
       "      <td>$1 Million in Restitution Payments Announced to Preserve North Carolina Wetlands</td>\n",
       "      <td>WASHINGTON – North Carolina’s Waccamaw River watershed will benefit from a $1 million restitution order from a federal court, funding environmental projects to acquire and preserve wetlands in an area damaged by illegal releases of wastewater from a corporate hog farm, announced Ignacia S. Moreno, Assistant Attorney General of the Justice Department’s Environment and Natural Resources Division; U.S. Attorney for the Eastern District of North Carolina Thomas G. Walker; Director Greg McLeod from the North Carolina State Bureau of Investigation; and Camilla M. Herlevich, Executive Director of the North Carolina Coastal Land Trust.   Freedman Farms Inc. was sentenced in February 2012 to five years of probation and ordered to pay $1.5 million in fines, restitution and community service payments for violating the Clean Water Act when it discharged hog waste into a stream that leads to the Waccamaw River.  William B. Freedman, president of Freedman Farms, was sentenced to six months in prison to be followed by six months of home confinement.  Freedman Farms also is required to implement a comprehensive environmental compliance program and institute an annual training program.   In an order issued on April 19, 2012, the court ordered that the defendants would be responsible for restitution of $1 million in the form of five annual payments starting in January 2013, which the court will direct to the North Carolina Coastal Land Trust (NCCLT).  The NCCLT plans to use the money to acquire and conserve land along streams in the Waccamaw watershed.  The court also directed a $75,000 community service payment to the Southern Environmental Enforcement Network, an organization dedicated to environmental law enforcement training and information sharing in the region.    “The resolution of the case against Freedman Farms demonstrates the commitment of the Department of Justice to enforcing the Clean Water Act to ensure the protection of human health and the environment,” said Assistant Attorney General Moreno.  “The court-ordered restitution in this case will conserve wetlands for the benefit of the people of North Carolina.  By enforcing the nation’s environmental laws, we will continue to ensure that concentrated animal feeding operations (CAFOs) operate without threatening our drinking water, the health of our communities and the environment.”   “This office is committed to doing our part to hold accountable those who commit crimes against our environment, which can cause serious health problems to residents and damage the environment that makes North Carolina such a beautiful place to live and visit,” said U.S. Attorney Walker.   “This case shows what we can accomplish when our SBI agents work closely with their local, state and federal partners to investigate environmental crimes and hold the polluters accountable,” said Director McLeod.  “We’ll continue our efforts to fight illegal pollution that damages our water and puts the public’s health at risk.”    “The Waccamaw is unique and wild,” said Director Herlevich of the North Carolina Coastal Land Trust. “Its watershed includes some of the most extensive cypress gum swamps in the state, and its headwaters at Lake Waccamaw contain fish that are found nowhere else on Earth.  We appreciate the trust of the court and the U. S. Attorney, and we look forward to using these funds for conservation projects in a river system that is one of our top conservation priorities.”   According to evidence presented in court, in December 2007 Freedman Farms discharged hog waste into Browder’s Branch, a tributary to the Waccamaw River that flows through the White Marsh, a large wetlands complex.  Freedman Farms, located in Columbus County, N.C., is in the business of raising hogs for market, and this particular farm had some 4,800 hogs.  The hog waste was supposed to be directed to two lagoons for treatment and disposal.  Instead, hog waste was discharged from Freedman Farms directly into Browder’s Branch.    The Clean Water Act is a federal law that makes it illegal to knowingly or negligently discharge a pollutant into a water of the United States.    The Freedman case was investigated by the U.S. Environmental Protection Agency (EPA) Criminal Investigation Division, the U.S. Army Corps of Engineers and the North Carolina State Bureau of Investigation, with assistance from the EPA Science and Ecosystem Support Division.  The case was prosecuted by Assistant U.S. Attorney J. Gaston B. Williams of the Eastern District of North Carolina and Trial Attorney Mary Dee Carraway of the Environmental Crimes Section of the Justice Department’s Environment and Natural Resources Division.   The North Carolina Coastal Land Trust is celebrating its 20th anniversary of saving special lands in eastern North Carolina. The organization has protected nearly 50,000 acres of lands with scenic, recreational, historic and ecological values. North Carolina Coastal Land Trust has saved streams and wetlands that provide clean water, forests that are havens for wildlife, working farms that provide local food and nature parks that everyone can enjoy.  More information about the Coastal Land Trust is available at www.coastallandtrust.org.</td>\n",
       "      <td>2012-07-25T00:00:00-04:00</td>\n",
       "      <td>No topic</td>\n",
       "      <td>Environment and Natural Resources Division</td>\n",
       "    </tr>\n",
       "    <tr>\n",
       "      <th>2</th>\n",
       "      <td>11-1002</td>\n",
       "      <td>$1 Million Settlement Reached for Natural Resource Damages at Superfund Site in Massachusetts</td>\n",
       "      <td>BOSTON– A $1-million settlement has been reached for natural resource damages (NRD) at the Blackburn &amp; Union Privileges Superfund Site in Walpole, Mass., the Departments of Justice and Interior (DOI), and the Office of the Massachusetts Attorney General announced today.                The Blackburn &amp; Union Privileges Superfund Site includes 22 acres of contaminated land and water in Walpole. The contamination resulted from the operations of various industrial facilities dating back to the 19th century that exposed the site to asbestos, arsenic, lead and other hazardous substances.                The private parties involved in the settlement include two former owners and operators of the site, W.R. Grace &amp; Co.– Conn. and Tyco Healthcare Group LP, as well as the current owners, BIM Investment Corp. and Shaffer Realty Nominee Trust.               From about 1915 to 1936, a predecessor of W.R. Grace manufactured asbestos brake linings and clutch linings on a large portion of the property. From 1946 to about 1983, a predecessor of Tyco Healthcare operated a cotton fabric manufacturing business, which used caustic solutions, on a portion of the property.               In a 2010 settlement with U.S. Environmental Protection Agency (EPA), the four private parties agreed to perform a remedial action to clean up the site at an estimated cost of $13 million. The consent decree lodged today resolves both state and federal NRD liability claims; it requires the parties to pay $1,094,169.56 to the state and federal natural resource trustees, the Massachusetts Executive Office of Energy and Environmental Affairs (EEA) and DOI, for injuries to ecological resources including groundwater and wetlands, which provide habitat for waterfowl and wading birds, including black ducks and great blue herons.  The trustees will use the settlement funds for natural resource restoration projects in the area.               “This settlement demonstrates our commitment to recovering damages from the parties responsible for injury to natural resources, in partnership with state trustees,” said Bruce Gelber, Acting Deputy Assistant Attorney General of the Justice Department’s Environment and Natural Resources Division.               “The citizens of Walpole have had to live with the environmental impact of this contamination for many years,” Attorney General Martha Coakley said. “We are pleased that today’s agreement will not only require the responsible parties to reimburse taxpayer dollars, but will also provide funding to begin restoring or replacing the wetland and other natural resources.”                 The consent decree was lodged in the U.S. District Court for Massachusetts.     A portion of the funds, $300,000, will be distributed to the EEA-sponsored groundwater restoration projects; $575,000 will be used for ecological restoration projects jointly sponsored by EEA and the U.S. Fish and Wildlife Service (FWS).               In addition, $125,000 will go for projects jointly sponsored by EEA and FWS that achieve both ecological and groundwater restoration; $57,491.34 will be allocated for reimbursement for the FWS’s assessment costs; and $36,678.22 will be distributed as reimbursement for the commonwealth’s assessment costs.       “This settlement provides the means for a range of projects designed to compensate the public for decades of groundwater and other ecological damage at this site.  I encourage local citizens and organizations to become engaged in the public process that will take place as we solicit, take comment on, and choose these projects in the months ahead,” said Energy and Environmental Affairs Secretary Richard K. Sullivan Jr., who serves as the Commonwealth’s Natural Resources Damages trustee.       “This settlement will help restore habitat for fish and wildlife in the Neponset River watershed,” said Tom Chapman of the FWS New England Field Office. “We look forward to working with the commonwealth and local stakeholders to implement restoration.”               “More than 100 years-worth of industrial activities at this site caused major environmental contamination to the Neponset River, nearby wetlands and to groundwater below the site,” said Commissioner Kenneth Kimmell of the Massachusetts Department of Environmental Protection (MassDEP), which will staff the Trustee Council for the Commonwealth. “We will ensure that the community and the public will be active participants in the process to use these NRD funds to restore the injured natural resources.”                Under the federal Comprehensive Environmental Response, Compensation and Liability Act, EEA and DOI, acting through the FWS, are the designated state and federal natural resource Trustees for the site. The site has been listed on the EPA’s National Priorities List since 1994.        The consent decree is subject to a public comment period and court approval. A copy of the consent decree and instructions about how to submit comments is available on www.usdoj.gov/enrd/Consent_Decrees.html  .               After the consent decree is approved, EEA and FWS will develop proposed restoration plans to use the settlement funds for restoration projects. The proposed restoration plans will also be made available to the public for review and comment.                Assistant Attorney General Matthew Brock of Massachusetts Attorney General Coakley's Environmental Protection Division handled this matter.  Attorney Jennifer Davis of MassDEP, Attorney Anna Blumkin of EEA and MassDEP’s NRD Coordinator Karen Pelto also worked on this settlement.</td>\n",
       "      <td>2011-08-03T00:00:00-04:00</td>\n",
       "      <td>No topic</td>\n",
       "      <td>Environment and Natural Resources Division</td>\n",
       "    </tr>\n",
       "    <tr>\n",
       "      <th>3</th>\n",
       "      <td>10-015</td>\n",
       "      <td>10 Las Vegas Men Indicted \\r\\nfor Falsifying Vehicle Emissions Tests</td>\n",
       "      <td>WASHINGTON—A federal grand jury in Las Vegas today returned indictments against 10 Nevada-certified emissions testers for falsifying vehicle emissions test reports, the Justice Department announced.   Each defendant faces one felony Clean Air Act count for falsifying reports between November 2007 and May 2009. The number of falsifications varied by defendant, with some defendants having falsified approximately 250 records, while others falsified more than double that figure. One defendant is alleged to have falsified over 700 reports.   The individuals indicted include:     Escudero resides in Pahrump, Nev. All other individuals are from Clark County, Nev.    The 10 defendants are alleged to have engaged in a practice known as \"clean scanning\" vehicles. The scheme involved entering the Vehicle Identification Number (VIN) for a vehicle that would not pass the emissions test into the computerized system, then connecting a different vehicle the testers knew would pass the test. These falsifications were allegedly performed for anywhere from $10 to $100 over and above the usual emissions testing fee.    The U.S. Environmental Protection Agency (EPA), under the Clean Air Act, requires the state of Nevada to conduct vehicle emissions testing in certain areas because the areas exceed national standards for carbon monoxide and ozone. Las Vegas is currently required to perform emissions testing.    To obtain a registration renewal, vehicle owners bring the vehicles to a licensed inspection station for testing. The emissions inspector logs into a computer to activate the system by using a unique password issued to the emissions inspector. The emissions inspector manually inputs the vehicle’s VIN to identify the tested vehicle, then connects the vehicle for model year 1996 and later to an onboard diagnostics port connected to an analyzer. The analyzer downloads data from the vehicle’s computer, analyzes the data and provides a \"pass\" or \"fail\" result. The pass or fail result and vehicle identification data are reported on the Vehicle Inspection Report. It is a crime to knowingly alter or conceal any record or other document required to be maintained by the Clean Air Act.     \"Falsifications of vehicle emissions testing, such as those alleged in the indictments unsealed today, are serious matters and we intend to use all of our enforcement tools to stop this harmful practice. These actions undermine a system that is designed to reduce air pollutants including smog and provide better air quality for the citizens of Nevada,\" said Ignacia S. Moreno, Assistant Attorney General for the Justice Department’s Environment and Natural Resources Division.    \"The residents of Nevada deserve to know that the vast majority of licensed vehicle emission inspectors are not corrupt and are not circumventing emission testing procedures,\" said U.S. Attorney Bogden. \"These indictments should serve as a clear warning to offenders that the Department of Justice will prosecute you if you make fraudulent statements and reports concerning compliance with the federal Clean Air Act.\"    \"Lying about car emissions means dirtier air, which is especially of concern in areas like Las Vegas that are already experiencing air quality problems,\" said Cynthia Giles, Assistant Administrator for Enforcement and Compliance Assurance at EPA. \"We will take aggressive action to ensure communities have clean air.\"    The maximum penalty for the felony violations contained in the indictments includes up to two years in prison and a fine of up to $250,000.    An indictment is merely an accusation, and a defendant is presumed innocent unless and until proven guilty in a court of law.    The case was investigated by the EPA, Criminal Investigation Division; and the Nevada Department of Motor Vehicles Compliance Enforcement Division. The case is being prosecuted by the U.S. Attorney’s Office for the District of Nevada and the Justice Department’s Environmental Crimes Section.</td>\n",
       "      <td>2010-01-08T00:00:00-05:00</td>\n",
       "      <td>No topic</td>\n",
       "      <td>Environment and Natural Resources Division</td>\n",
       "    </tr>\n",
       "    <tr>\n",
       "      <th>4</th>\n",
       "      <td>18-898</td>\n",
       "      <td>$100 Million Settlement Will Speed Cleanup Work at Centredale Manor Superfund Site in North Providence, R.I.</td>\n",
       "      <td>The U.S. Department of Justice, the U.S. Environmental Protection Agency (EPA), and the Rhode Island Department of Environmental Management (RIDEM) announced today that two subsidiaries of Stanley Black &amp; Decker Inc.—Emhart Industries Inc. and Black &amp; Decker Inc.—have agreed to clean up dioxin contaminated sediment and soil at the Centredale Manor Restoration Project Superfund Site in North Providence and Johnston, Rhode Island.  “We are pleased to reach a resolution through collaborative work with the responsible parties, EPA, and other stakeholders,” said Acting Assistant Attorney General Jeffrey H. Wood for the Justice Department's Environment and Natural Resources Division . “Today’s settlement ends protracted litigation and allows for important work to get underway to restore a healthy environment for citizens living in and around the Centredale Manor Site and the Woonasquatucket River.” “This settlement demonstrates the tremendous progress we are achieving working with responsible parties, states, and our federal partners to expedite sites through the entire Superfund remediation process,” said EPA Acting Administrator Andrew Wheeler. “The Centredale Manor Site has been on the National Priorities List for 18 years; we are taking charge and ensuring the Agency makes good on its promise to clean it up for the betterment of the environment and those communities affected.” “Successfully concluding this settlement paves the way for EPA to make good on our commitment to aggressively pursue cleaning up the Centredale Manor Superfund Site,” said EPA New England Regional Administrator Alexandra Dunn. “We are excited to get to work on the cleanup at this site, and get it closer to the goal of being fully utilized by the North Providence and Johnston communities.” “We are pleased that the collective efforts of the State of Rhode Island, EPA, and DOJ in these negotiations have concluded in this major milestone toward the cleanup of the Centredale Manor Restoration Superfund site and are consistent with our long-standing efforts to make the polluter pay,” said RIDEM Director Janet Coit. “The settlement will speed up a remedy that protects public health and the river environment, and moves us closer to the day that we can reclaim recreational uses of this beautiful river resource.” The settlement, which includes cleanup work in the Woonasquatucket River (River) and bordering residential and commercial properties along the River, requires the companies to perform the remedy selected by EPA for the Site in 2012, which is estimated to cost approximately $100 million, and resolves longstanding litigation. The cleanup remedy includes excavation of contaminated sediment and floodplain soil from the Woonasquatucket River, including from adjacent residential properties. Once the cleanup remedy is completed, full access to the Woonasquatucket River should be restored for local citizens. The cleanup will be a step toward the State’s goal of a fishable and swimmable river. The work will also include upgrading caps over contaminated soil in the peninsula area of the Site that currently house two high-rise apartment buildings. The settlement also ensures that the long-term monitoring and maintenance of the site, as directed in the remedy, will be implemented to ensure that public health is protected.  Under the settlement, Emhart and Black &amp; Decker will reimburse EPA for approximately $42 million in past costs incurred at the Site. The companies will also reimburse EPA and the State of Rhode Island for future costs incurred by those agencies in overseeing the work required by the settlement. The settlement will also include payments on behalf of two federal agencies to resolve claims against those agencies. These payments, along with prior settlements related to the Site, will result in a 100 percent recovery for the United States of its past and future response costs related to the Site. Litigation related to the Site has been ongoing for nearly eight years. While the Federal District Court found Black &amp; Decker and Emhart to be liable for their hazardous waste and responsible to conduct the cleanup of the Site, it had also ruled that EPA needed to reconsider certain aspects of that cleanup. EPA appealed the decision requiring it to reconsider aspects of the cleanup. This settlement, once entered by the District Court, will resolve the litigation between the United States, Rhode Island, and Emhart and Black and Decker, allowing the cleanup of the Site to begin. The Site spans a one and a half mile stretch of the Woonasquatucket River and encompasses a nine-acre peninsula, two ponds and a significant forested wetland. From the 1940s to the early 1970s, Emhart’s predecessor operated a chemical manufacturing facility on the peninsula and used a raw material that was contaminated with 2,3,7,8-tetrachlorodibenzo-p-dioxin, a toxic form of dioxin. The Site property was also previously used by a barrel refurbisher. Elevated levels of dioxins and other contaminants have been detected in soil, groundwater, sediment, surface water and fish.  The Site was added to the National Priorities List (NPL) in 2000, and in December 2017, EPA included the Centredale Manor Restoration Project Superfund Site on a list of Superfund sites targeted for immediate and intense attention. Several short-term actions were previously performed at the Site to address immediate threats to the residents and minimize potential erosion and downstream transport of contaminated soil and sediment. This settlement is the latest agreement EPA has reached since the Site was listed on the NPL. Prior agreements addressed the performance and recovery of costs for the past environmental investigations and interim cleanup actions from Emhart, the barrel reconditioning company, the current owners of the peninsula portion of the Site, and other potentially responsible parties. The Consent Decree, lodged in the U.S. District Court of Rhode Island, will be posted in the Federal Register and available for public comment for a period of 30 days. The Consent Decree can be viewed on the Justice Department website: www.justice.gov/enrd/Consent_Decrees.html.  EPA information on the Centredale Manor Superfund Site: www.epa.gov/superfund/centredale.</td>\n",
       "      <td>2018-07-09T00:00:00-04:00</td>\n",
       "      <td>Environment</td>\n",
       "      <td>Environment and Natural Resources Division</td>\n",
       "    </tr>\n",
       "  </tbody>\n",
       "</table>\n",
       "</div>"
      ],
      "text/plain": [
       "        id  \\\n",
       "0     None   \n",
       "1  12-919    \n",
       "2  11-1002   \n",
       "3   10-015   \n",
       "4   18-898   \n",
       "\n",
       "                                                                                                          title  \\\n",
       "0                                                                  Convicted Bomb Plotter Sentenced to 30 Years   \n",
       "1                              $1 Million in Restitution Payments Announced to Preserve North Carolina Wetlands   \n",
       "2                 $1 Million Settlement Reached for Natural Resource Damages at Superfund Site in Massachusetts   \n",
       "3                                          10 Las Vegas Men Indicted \\r\\nfor Falsifying Vehicle Emissions Tests   \n",
       "4  $100 Million Settlement Will Speed Cleanup Work at Centredale Manor Superfund Site in North Providence, R.I.   \n",
       "\n",
       "                                                                                                                                                                                                                                                                                                                                                                                                                                                                                                                                                                                                                                                                                                                                                                                                                                                                                                                                                                                                                                                                                                                                                                                                                                                                                                                                                                                                                                                                                                                                                                                                                                                                                                                                                                                                                                                                                                                                                                                                                                                                                                                                                                                                                                                                                                                                                                                                                                                                                                                                                                                                                                                                                                                                                                                                                                                                                                                                                                                                                                                                                                                                                                                                                                                                                                                                                                                                                                                                                                                                                                                                                                                                                                                                                                                                                                                                                                                                                                                                                                                                                                                                                                                                                                                                                                                                                                                                                                                                                                                                                                                                                                                                                                                                                                                                                                                                                                                                                                                                                                                                                                                                                                                                                                                                                                                                                                                                                                                                                                                                                                                                                                                                                                                                                                                                                                                                                                                                                                                                                                                                                                                                                                                                                                                                                                                                                                                                                                                                                                                                                                                                                                                                                                                                                                                                                                                                                                                                                                                                                                                                                                                                                                                                                                                                                                                                                                                                                                                                                                                                                                                                                                                                          contents  \\\n",
       "0  PORTLAND, Oregon. – Mohamed Osman Mohamud, 23, who was convicted in 2013 of attempting to use a weapon of mass destruction (explosives) in connection with a plot to detonate a vehicle bomb at an annual Christmas tree lighting ceremony in Portland, was sentenced today to serve 30 years in prison, followed by a lifetime term of supervised release. Mohamud, a naturalized U.S. citizen from Somalia and former resident of Corvallis, Oregon, was arrested on Nov. 26, 2010, after he attempted to detonate what he believed to be an explosives-laden van that was parked near the tree lighting ceremony in Portland.  The arrest was the culmination of a long-term undercover operation, during which Mohamud was monitored closely for months as his bomb plot developed.  The device was in fact inert, and the public was never in danger from the device. At sentencing, United States District Court Judge Garr M. King, who presided over Mohamed’s 14-day trial, said “the intended crime was horrific,” and that the defendant, even though he was presented with options by undercover FBI employees, “never once expressed a change of heart.”  King further noted that the Christmas tree ceremony was attended by up to 10,000 people, and that the defendant “wanted everyone to leave either dead or injured.”  King said his sentence was necessary in view of the seriousness of the crime and to serve as deterrence to others who might consider similar acts.     “With today’s sentencing, Mohamed Osman Mohamud is being held accountable for his attempted use of what he believed to be a massive bomb to attack innocent civilians attending a public Christmas tree lighting ceremony in Portland,” said John P. Carlin, Assistant Attorney General for National Security.  “The evidence clearly indicated that Mohamud was intent on killing as many people as possible with his attack.  Fortunately, law enforcement was able to identify him as a threat, insert themselves in the place of a terrorist that Mohamud was trying to contact, and thwart Mohamud’s efforts to conduct an attack on our soil.  This case highlights how the use of undercover operations against would-be terrorists allows us to engage and disrupt those who wish to commit horrific acts of violence against the innocent public.  The many agents, analysts, and prosecutors who have worked on this case deserve great credit for their roles in protecting Portland from the threat posed by this defendant and ensuring that he was brought to justice.” “This trial provided a rare glimpse into the techniques Al Qaeda employs to radicalize home-grown extremists,” said Amanda Marshall, U.S. Attorney for the District of Oregon.  “With the sentencing today, the court has held this defendant accountable.   I thank the dedicated professionals in the law enforcement and intelligence communities who were responsible for this successful outcome.  I look forward to our continued work with Muslim communities in Oregon who are committed to ensuring that all young people are safe from extremists who seek to radicalize others to engage in violence.”  According to the trial evidence, in February 2009, Mohamud began communicating via e-mail with Samir Khan, a now-deceased al Qaeda terrorist who published Jihad Recollections, an online magazine that advocated violent jihad, and who also published Inspire, the official magazine of al-Qaeda in the Arabian Peninsula.  Between February and August 2009, Mohamed exchanged approximately 150 emails with Khan.  Mohamud wrote several articles for Jihad Recollections that were published under assumed names. In August 2009, Mohamud was in email contact with Amro Al-Ali, a Saudi national who was in Yemen at the time and is today in custody in Saudi Arabia for terrorism offenses.  Al-Ali sent Mohamud detailed e-mails designed to facilitate Mohamud’s travel to Yemen to train for violent jihad.  In December 2009, while Al-Ali was in the northwest frontier province of Pakistan, Mohamud and Al-Ali discussed the possibility of Mohamud traveling to Pakistan to join Al-Ali in terrorist activities. Mohamud responded to Al-Ali in an e-mail: “yes, that would be wonderful, just tell me what I need to do.”  Al-Ali referred Mohamud to a second associate overseas and provided Mohamud with a name and email address to facilitate the process. In the following months, Mohamud made several unsuccessful attempts to contact Al-Ali’s associate.  Ultimately, an FBI undercover operative contacted Mohamud via email under the guise of being an associate of Al-Ali’s.  Mohamud and the FBI undercover operative agreed to meet in Portland in July 2010.  At the meeting, Mohamud told the FBI undercover operative he had written articles that were published in Jihad Recollections.  Mohamud also said that he wanted to become “operational.”  Asked what he meant by “operational,” Mohamud said he wanted to put an explosion together, but needed help. According to evidence presented at trial, at a meeting in August 2010, Mohamud told undercover FBI operatives he had been thinking of committing violent jihad since the age of 15.  Mohamud then told the undercover FBI operatives that he had identified a potential target for a bomb: the annual Christmas tree lighting ceremony in Portland’s Pioneer Courthouse Square on Nov. 26, 2010.  The undercover FBI operatives cautioned Mohamud several times about the seriousness of this plan, noting there would be many people at the event, including children, and emphasized that Mohamud could abandon his attack plans at any time with no shame.  Mohamud indicated the deaths would be justified and that he would not mind carrying out a suicide attack on the crowd. According to evidence presented at trial, in the ensuing months Mohamud continued to express his interest in carrying out the attack and worked on logistics.  On Nov. 4, 2010, Mohamud and the undercover FBI operatives traveled to a remote location in Lincoln County, Oregon, where they detonated a bomb concealed in a backpack as a trial run for the upcoming attack.  During the drive back to Corvallis, Mohamud was asked if was capable looking at all the bodies of those who would be killed during the explosion.  In response, Mohamud noted, “I want whoever is attending that event to be, to leave either dead or injured.”  Mohamud later recorded a video of himself, with the assistance of the undercover FBI operatives, in which he read a statement that offered his rationale for his bomb attack.  On Nov. 18, 2010, undercover FBI operatives picked up Mohamud to travel to Portland to finalize the details of the attack.  On Nov. 26, 2010, just hours before the planned attack, Mohamud examined the 1,800 pound bomb in the van and remarked that it was “beautiful.”  Later that day, Mohamud was arrested after he attempted to remotely detonate the inert vehicle bomb rked near the Christmas tree lighting ceremony This case was investigated by the FBI, with assistance from the Oregon State Police, the Corvallis Police Department, the Lincoln County Sheriff’s Office and the Portland Police Bureau.  The prosecution was handled by Assistant U.S. Attorneys Ethan D. Knight and Pamala Holsinger from the U.S. Attorney’s Office for the District of Oregon.  Trial Attorney Jolie F. Zimmerman, from the Counterterrorism Section of the Justice Department’s National Security Division, assisted. # # # 14-1077   \n",
       "1                                                                                                                                                                                                                                                                                                                                                                                                                                                                                                                                                                                                                                                                                                                                                                                                                                                                                                                                                                                                                                                                                                                                                                                                                                                                                                                                                                                                                                                                                                                                                                                                                                                                                                                                                                                                                                                                                                                                                                                                                                                                                                                                                                                                                                       WASHINGTON – North Carolina’s Waccamaw River watershed will benefit from a $1 million restitution order from a federal court, funding environmental projects to acquire and preserve wetlands in an area damaged by illegal releases of wastewater from a corporate hog farm, announced Ignacia S. Moreno, Assistant Attorney General of the Justice Department’s Environment and Natural Resources Division; U.S. Attorney for the Eastern District of North Carolina Thomas G. Walker; Director Greg McLeod from the North Carolina State Bureau of Investigation; and Camilla M. Herlevich, Executive Director of the North Carolina Coastal Land Trust.   Freedman Farms Inc. was sentenced in February 2012 to five years of probation and ordered to pay $1.5 million in fines, restitution and community service payments for violating the Clean Water Act when it discharged hog waste into a stream that leads to the Waccamaw River.  William B. Freedman, president of Freedman Farms, was sentenced to six months in prison to be followed by six months of home confinement.  Freedman Farms also is required to implement a comprehensive environmental compliance program and institute an annual training program.   In an order issued on April 19, 2012, the court ordered that the defendants would be responsible for restitution of $1 million in the form of five annual payments starting in January 2013, which the court will direct to the North Carolina Coastal Land Trust (NCCLT).  The NCCLT plans to use the money to acquire and conserve land along streams in the Waccamaw watershed.  The court also directed a $75,000 community service payment to the Southern Environmental Enforcement Network, an organization dedicated to environmental law enforcement training and information sharing in the region.    “The resolution of the case against Freedman Farms demonstrates the commitment of the Department of Justice to enforcing the Clean Water Act to ensure the protection of human health and the environment,” said Assistant Attorney General Moreno.  “The court-ordered restitution in this case will conserve wetlands for the benefit of the people of North Carolina.  By enforcing the nation’s environmental laws, we will continue to ensure that concentrated animal feeding operations (CAFOs) operate without threatening our drinking water, the health of our communities and the environment.”   “This office is committed to doing our part to hold accountable those who commit crimes against our environment, which can cause serious health problems to residents and damage the environment that makes North Carolina such a beautiful place to live and visit,” said U.S. Attorney Walker.   “This case shows what we can accomplish when our SBI agents work closely with their local, state and federal partners to investigate environmental crimes and hold the polluters accountable,” said Director McLeod.  “We’ll continue our efforts to fight illegal pollution that damages our water and puts the public’s health at risk.”    “The Waccamaw is unique and wild,” said Director Herlevich of the North Carolina Coastal Land Trust. “Its watershed includes some of the most extensive cypress gum swamps in the state, and its headwaters at Lake Waccamaw contain fish that are found nowhere else on Earth.  We appreciate the trust of the court and the U. S. Attorney, and we look forward to using these funds for conservation projects in a river system that is one of our top conservation priorities.”   According to evidence presented in court, in December 2007 Freedman Farms discharged hog waste into Browder’s Branch, a tributary to the Waccamaw River that flows through the White Marsh, a large wetlands complex.  Freedman Farms, located in Columbus County, N.C., is in the business of raising hogs for market, and this particular farm had some 4,800 hogs.  The hog waste was supposed to be directed to two lagoons for treatment and disposal.  Instead, hog waste was discharged from Freedman Farms directly into Browder’s Branch.    The Clean Water Act is a federal law that makes it illegal to knowingly or negligently discharge a pollutant into a water of the United States.    The Freedman case was investigated by the U.S. Environmental Protection Agency (EPA) Criminal Investigation Division, the U.S. Army Corps of Engineers and the North Carolina State Bureau of Investigation, with assistance from the EPA Science and Ecosystem Support Division.  The case was prosecuted by Assistant U.S. Attorney J. Gaston B. Williams of the Eastern District of North Carolina and Trial Attorney Mary Dee Carraway of the Environmental Crimes Section of the Justice Department’s Environment and Natural Resources Division.   The North Carolina Coastal Land Trust is celebrating its 20th anniversary of saving special lands in eastern North Carolina. The organization has protected nearly 50,000 acres of lands with scenic, recreational, historic and ecological values. North Carolina Coastal Land Trust has saved streams and wetlands that provide clean water, forests that are havens for wildlife, working farms that provide local food and nature parks that everyone can enjoy.  More information about the Coastal Land Trust is available at www.coastallandtrust.org.   \n",
       "2                                                                                                                                                                                                                                                                                                                                                                                                                                                                                                                                                                                                                                                                                                                                                                                                                                                                                                                                                                                                                                                                                                                                                                                                                                                                                                                                                                                                                                                                                                                                                                                                                                                                                                                                                                                                                                                        BOSTON– A $1-million settlement has been reached for natural resource damages (NRD) at the Blackburn & Union Privileges Superfund Site in Walpole, Mass., the Departments of Justice and Interior (DOI), and the Office of the Massachusetts Attorney General announced today.                The Blackburn & Union Privileges Superfund Site includes 22 acres of contaminated land and water in Walpole. The contamination resulted from the operations of various industrial facilities dating back to the 19th century that exposed the site to asbestos, arsenic, lead and other hazardous substances.                The private parties involved in the settlement include two former owners and operators of the site, W.R. Grace & Co.– Conn. and Tyco Healthcare Group LP, as well as the current owners, BIM Investment Corp. and Shaffer Realty Nominee Trust.               From about 1915 to 1936, a predecessor of W.R. Grace manufactured asbestos brake linings and clutch linings on a large portion of the property. From 1946 to about 1983, a predecessor of Tyco Healthcare operated a cotton fabric manufacturing business, which used caustic solutions, on a portion of the property.               In a 2010 settlement with U.S. Environmental Protection Agency (EPA), the four private parties agreed to perform a remedial action to clean up the site at an estimated cost of $13 million. The consent decree lodged today resolves both state and federal NRD liability claims; it requires the parties to pay $1,094,169.56 to the state and federal natural resource trustees, the Massachusetts Executive Office of Energy and Environmental Affairs (EEA) and DOI, for injuries to ecological resources including groundwater and wetlands, which provide habitat for waterfowl and wading birds, including black ducks and great blue herons.  The trustees will use the settlement funds for natural resource restoration projects in the area.               “This settlement demonstrates our commitment to recovering damages from the parties responsible for injury to natural resources, in partnership with state trustees,” said Bruce Gelber, Acting Deputy Assistant Attorney General of the Justice Department’s Environment and Natural Resources Division.               “The citizens of Walpole have had to live with the environmental impact of this contamination for many years,” Attorney General Martha Coakley said. “We are pleased that today’s agreement will not only require the responsible parties to reimburse taxpayer dollars, but will also provide funding to begin restoring or replacing the wetland and other natural resources.”                 The consent decree was lodged in the U.S. District Court for Massachusetts.     A portion of the funds, $300,000, will be distributed to the EEA-sponsored groundwater restoration projects; $575,000 will be used for ecological restoration projects jointly sponsored by EEA and the U.S. Fish and Wildlife Service (FWS).               In addition, $125,000 will go for projects jointly sponsored by EEA and FWS that achieve both ecological and groundwater restoration; $57,491.34 will be allocated for reimbursement for the FWS’s assessment costs; and $36,678.22 will be distributed as reimbursement for the commonwealth’s assessment costs.       “This settlement provides the means for a range of projects designed to compensate the public for decades of groundwater and other ecological damage at this site.  I encourage local citizens and organizations to become engaged in the public process that will take place as we solicit, take comment on, and choose these projects in the months ahead,” said Energy and Environmental Affairs Secretary Richard K. Sullivan Jr., who serves as the Commonwealth’s Natural Resources Damages trustee.       “This settlement will help restore habitat for fish and wildlife in the Neponset River watershed,” said Tom Chapman of the FWS New England Field Office. “We look forward to working with the commonwealth and local stakeholders to implement restoration.”               “More than 100 years-worth of industrial activities at this site caused major environmental contamination to the Neponset River, nearby wetlands and to groundwater below the site,” said Commissioner Kenneth Kimmell of the Massachusetts Department of Environmental Protection (MassDEP), which will staff the Trustee Council for the Commonwealth. “We will ensure that the community and the public will be active participants in the process to use these NRD funds to restore the injured natural resources.”                Under the federal Comprehensive Environmental Response, Compensation and Liability Act, EEA and DOI, acting through the FWS, are the designated state and federal natural resource Trustees for the site. The site has been listed on the EPA’s National Priorities List since 1994.        The consent decree is subject to a public comment period and court approval. A copy of the consent decree and instructions about how to submit comments is available on www.usdoj.gov/enrd/Consent_Decrees.html  .               After the consent decree is approved, EEA and FWS will develop proposed restoration plans to use the settlement funds for restoration projects. The proposed restoration plans will also be made available to the public for review and comment.                Assistant Attorney General Matthew Brock of Massachusetts Attorney General Coakley's Environmental Protection Division handled this matter.  Attorney Jennifer Davis of MassDEP, Attorney Anna Blumkin of EEA and MassDEP’s NRD Coordinator Karen Pelto also worked on this settlement.   \n",
       "3                                                                                                                                                                                                                                                                                                                                                                                                                                                                                                                                                                                                                                                                                                                                                                                                                                                                                                                                                                                                                                                                                                                                                                                                                                                                                                                                                                                                                                                                                                                                                                                                                                                                                                                                                                                                                                                                                                                                                                                                                                                                                                                                                                                                                                                                                                                                                                                                                                                                                                                                                                                                                                                                                                                                                                                                                                                                                                                                                                                                                                                                                                                                                                                                                                                                                                                                                                                                                                                                                                                           WASHINGTON—A federal grand jury in Las Vegas today returned indictments against 10 Nevada-certified emissions testers for falsifying vehicle emissions test reports, the Justice Department announced.   Each defendant faces one felony Clean Air Act count for falsifying reports between November 2007 and May 2009. The number of falsifications varied by defendant, with some defendants having falsified approximately 250 records, while others falsified more than double that figure. One defendant is alleged to have falsified over 700 reports.   The individuals indicted include:     Escudero resides in Pahrump, Nev. All other individuals are from Clark County, Nev.    The 10 defendants are alleged to have engaged in a practice known as \"clean scanning\" vehicles. The scheme involved entering the Vehicle Identification Number (VIN) for a vehicle that would not pass the emissions test into the computerized system, then connecting a different vehicle the testers knew would pass the test. These falsifications were allegedly performed for anywhere from $10 to $100 over and above the usual emissions testing fee.    The U.S. Environmental Protection Agency (EPA), under the Clean Air Act, requires the state of Nevada to conduct vehicle emissions testing in certain areas because the areas exceed national standards for carbon monoxide and ozone. Las Vegas is currently required to perform emissions testing.    To obtain a registration renewal, vehicle owners bring the vehicles to a licensed inspection station for testing. The emissions inspector logs into a computer to activate the system by using a unique password issued to the emissions inspector. The emissions inspector manually inputs the vehicle’s VIN to identify the tested vehicle, then connects the vehicle for model year 1996 and later to an onboard diagnostics port connected to an analyzer. The analyzer downloads data from the vehicle’s computer, analyzes the data and provides a \"pass\" or \"fail\" result. The pass or fail result and vehicle identification data are reported on the Vehicle Inspection Report. It is a crime to knowingly alter or conceal any record or other document required to be maintained by the Clean Air Act.     \"Falsifications of vehicle emissions testing, such as those alleged in the indictments unsealed today, are serious matters and we intend to use all of our enforcement tools to stop this harmful practice. These actions undermine a system that is designed to reduce air pollutants including smog and provide better air quality for the citizens of Nevada,\" said Ignacia S. Moreno, Assistant Attorney General for the Justice Department’s Environment and Natural Resources Division.    \"The residents of Nevada deserve to know that the vast majority of licensed vehicle emission inspectors are not corrupt and are not circumventing emission testing procedures,\" said U.S. Attorney Bogden. \"These indictments should serve as a clear warning to offenders that the Department of Justice will prosecute you if you make fraudulent statements and reports concerning compliance with the federal Clean Air Act.\"    \"Lying about car emissions means dirtier air, which is especially of concern in areas like Las Vegas that are already experiencing air quality problems,\" said Cynthia Giles, Assistant Administrator for Enforcement and Compliance Assurance at EPA. \"We will take aggressive action to ensure communities have clean air.\"    The maximum penalty for the felony violations contained in the indictments includes up to two years in prison and a fine of up to $250,000.    An indictment is merely an accusation, and a defendant is presumed innocent unless and until proven guilty in a court of law.    The case was investigated by the EPA, Criminal Investigation Division; and the Nevada Department of Motor Vehicles Compliance Enforcement Division. The case is being prosecuted by the U.S. Attorney’s Office for the District of Nevada and the Justice Department’s Environmental Crimes Section.   \n",
       "4                                                                                                                                                                                                                                                                                                                                                                                                                                                                                                                                                                                                                                                                                                                                                                                                                                                                                                                                                                                                                                                                                                                                   The U.S. Department of Justice, the U.S. Environmental Protection Agency (EPA), and the Rhode Island Department of Environmental Management (RIDEM) announced today that two subsidiaries of Stanley Black & Decker Inc.—Emhart Industries Inc. and Black & Decker Inc.—have agreed to clean up dioxin contaminated sediment and soil at the Centredale Manor Restoration Project Superfund Site in North Providence and Johnston, Rhode Island.  “We are pleased to reach a resolution through collaborative work with the responsible parties, EPA, and other stakeholders,” said Acting Assistant Attorney General Jeffrey H. Wood for the Justice Department's Environment and Natural Resources Division . “Today’s settlement ends protracted litigation and allows for important work to get underway to restore a healthy environment for citizens living in and around the Centredale Manor Site and the Woonasquatucket River.” “This settlement demonstrates the tremendous progress we are achieving working with responsible parties, states, and our federal partners to expedite sites through the entire Superfund remediation process,” said EPA Acting Administrator Andrew Wheeler. “The Centredale Manor Site has been on the National Priorities List for 18 years; we are taking charge and ensuring the Agency makes good on its promise to clean it up for the betterment of the environment and those communities affected.” “Successfully concluding this settlement paves the way for EPA to make good on our commitment to aggressively pursue cleaning up the Centredale Manor Superfund Site,” said EPA New England Regional Administrator Alexandra Dunn. “We are excited to get to work on the cleanup at this site, and get it closer to the goal of being fully utilized by the North Providence and Johnston communities.” “We are pleased that the collective efforts of the State of Rhode Island, EPA, and DOJ in these negotiations have concluded in this major milestone toward the cleanup of the Centredale Manor Restoration Superfund site and are consistent with our long-standing efforts to make the polluter pay,” said RIDEM Director Janet Coit. “The settlement will speed up a remedy that protects public health and the river environment, and moves us closer to the day that we can reclaim recreational uses of this beautiful river resource.” The settlement, which includes cleanup work in the Woonasquatucket River (River) and bordering residential and commercial properties along the River, requires the companies to perform the remedy selected by EPA for the Site in 2012, which is estimated to cost approximately $100 million, and resolves longstanding litigation. The cleanup remedy includes excavation of contaminated sediment and floodplain soil from the Woonasquatucket River, including from adjacent residential properties. Once the cleanup remedy is completed, full access to the Woonasquatucket River should be restored for local citizens. The cleanup will be a step toward the State’s goal of a fishable and swimmable river. The work will also include upgrading caps over contaminated soil in the peninsula area of the Site that currently house two high-rise apartment buildings. The settlement also ensures that the long-term monitoring and maintenance of the site, as directed in the remedy, will be implemented to ensure that public health is protected.  Under the settlement, Emhart and Black & Decker will reimburse EPA for approximately $42 million in past costs incurred at the Site. The companies will also reimburse EPA and the State of Rhode Island for future costs incurred by those agencies in overseeing the work required by the settlement. The settlement will also include payments on behalf of two federal agencies to resolve claims against those agencies. These payments, along with prior settlements related to the Site, will result in a 100 percent recovery for the United States of its past and future response costs related to the Site. Litigation related to the Site has been ongoing for nearly eight years. While the Federal District Court found Black & Decker and Emhart to be liable for their hazardous waste and responsible to conduct the cleanup of the Site, it had also ruled that EPA needed to reconsider certain aspects of that cleanup. EPA appealed the decision requiring it to reconsider aspects of the cleanup. This settlement, once entered by the District Court, will resolve the litigation between the United States, Rhode Island, and Emhart and Black and Decker, allowing the cleanup of the Site to begin. The Site spans a one and a half mile stretch of the Woonasquatucket River and encompasses a nine-acre peninsula, two ponds and a significant forested wetland. From the 1940s to the early 1970s, Emhart’s predecessor operated a chemical manufacturing facility on the peninsula and used a raw material that was contaminated with 2,3,7,8-tetrachlorodibenzo-p-dioxin, a toxic form of dioxin. The Site property was also previously used by a barrel refurbisher. Elevated levels of dioxins and other contaminants have been detected in soil, groundwater, sediment, surface water and fish.  The Site was added to the National Priorities List (NPL) in 2000, and in December 2017, EPA included the Centredale Manor Restoration Project Superfund Site on a list of Superfund sites targeted for immediate and intense attention. Several short-term actions were previously performed at the Site to address immediate threats to the residents and minimize potential erosion and downstream transport of contaminated soil and sediment. This settlement is the latest agreement EPA has reached since the Site was listed on the NPL. Prior agreements addressed the performance and recovery of costs for the past environmental investigations and interim cleanup actions from Emhart, the barrel reconditioning company, the current owners of the peninsula portion of the Site, and other potentially responsible parties. The Consent Decree, lodged in the U.S. District Court of Rhode Island, will be posted in the Federal Register and available for public comment for a period of 30 days. The Consent Decree can be viewed on the Justice Department website: www.justice.gov/enrd/Consent_Decrees.html.  EPA information on the Centredale Manor Superfund Site: www.epa.gov/superfund/centredale.   \n",
       "\n",
       "                        date topics_clean  \\\n",
       "0  2014-10-01T00:00:00-04:00     No topic   \n",
       "1  2012-07-25T00:00:00-04:00     No topic   \n",
       "2  2011-08-03T00:00:00-04:00     No topic   \n",
       "3  2010-01-08T00:00:00-05:00     No topic   \n",
       "4  2018-07-09T00:00:00-04:00  Environment   \n",
       "\n",
       "                             components_clean  \n",
       "0            National Security Division (NSD)  \n",
       "1  Environment and Natural Resources Division  \n",
       "2  Environment and Natural Resources Division  \n",
       "3  Environment and Natural Resources Division  \n",
       "4  Environment and Natural Resources Division  "
      ]
     },
     "execution_count": 2,
     "metadata": {},
     "output_type": "execute_result"
    }
   ],
   "source": [
    "## first, unzip the file pset3_inputdata.zip \n",
    "## then, run this code to load the unzipped json file and convert to a dataframe\n",
    "## (may need to change the pathname depending on where you store stuff)\n",
    "## and convert some of the attributes from lists to values\n",
    "doj = pd.read_json(\"combined.json\", lines = True)\n",
    "\n",
    "## due to json, topics are in a list so remove them and concatenate with ;\n",
    "doj['topics_clean'] = [\"; \".join(topic) \n",
    "                      if len(topic) > 0 else \"No topic\" \n",
    "                      for topic in doj.topics]\n",
    "\n",
    "## similarly with components\n",
    "doj['components_clean'] = [\"; \".join(comp) \n",
    "                           if len(comp) > 0 else \"No component\" \n",
    "                           for comp in doj.components]\n",
    "\n",
    "## drop older columns from data\n",
    "doj = doj[['id', 'title', 'contents', 'date', 'topics_clean', \n",
    "           'components_clean']].copy()\n",
    "\n",
    "doj.head()"
   ]
  },
  {
   "cell_type": "markdown",
   "metadata": {},
   "source": [
    "## 1. Tagging and sentiment scoring (17 points)\n",
    "\n",
    "Focus on the following press release: `id` == \"17-1204\" about this pharmaceutical kickback prosecution: https://www.forbes.com/sites/michelatindera/2017/11/16/fentanyl-billionaire-john-kapoor-to-plead-not-guilty-in-opioid-kickback-case/?sh=21b8574d6c6c \n",
    "\n",
    "The `contents` column is the one we're treating as a document. You may need to to convert it from a pandas series to a single string.\n",
    "\n",
    "We'll call the raw string of this press release `pharma`"
   ]
  },
  {
   "cell_type": "code",
   "execution_count": 3,
   "metadata": {},
   "outputs": [],
   "source": [
    "## your code to subset to one press release and take the string\n",
    "\n",
    "pharma = doj.loc[doj['id'] == \"17-1204\"]['contents']"
   ]
  },
  {
   "cell_type": "markdown",
   "metadata": {},
   "source": [
    "### 1.1 part of speech tagging (3 points)\n",
    "\n",
    "A. Preprocess the `pharma` press release to remove all punctuation / digits (you can use `.isalpha()` to subset)\n",
    "\n",
    "B. With the preprocessed press release from part A, use the part of speech tagger within nltk to tag all the words in that one press release with their part of speech. \n",
    "\n",
    "C. Using the output from B, extract the adjectives and sort those adjectives from most occurrences to fewest occurrences. Print a dataframe with the 5 most frequent adjectives and their counts in the `pharma` release. See here for a list of the names of adjectives within nltk: https://pythonprogramming.net/natural-language-toolkit-nltk-part-speech-tagging/\n",
    "\n",
    "**Resources**:\n",
    "\n",
    "- Documentation for `.isalpha()`: https://www.w3schools.com/python/ref_string_isalpha.asp"
   ]
  },
  {
   "cell_type": "code",
   "execution_count": 4,
   "metadata": {},
   "outputs": [],
   "source": [
    "#A\n",
    "pharma_cleaned = pharma.apply(lambda x: ''.join([char for char in x if char.isalpha() or char.isspace()]))"
   ]
  },
  {
   "cell_type": "code",
   "execution_count": 5,
   "metadata": {},
   "outputs": [],
   "source": [
    "#B\n",
    "pharma_str = pharma_cleaned.to_string()\n",
    "tokens = word_tokenize(pharma_str)\n",
    "tokens_pos = nltk.pos_tag(tokens)"
   ]
  },
  {
   "cell_type": "code",
   "execution_count": 6,
   "metadata": {},
   "outputs": [
    {
     "data": {
      "text/html": [
       "<div>\n",
       "<style scoped>\n",
       "    .dataframe tbody tr th:only-of-type {\n",
       "        vertical-align: middle;\n",
       "    }\n",
       "\n",
       "    .dataframe tbody tr th {\n",
       "        vertical-align: top;\n",
       "    }\n",
       "\n",
       "    .dataframe thead th {\n",
       "        text-align: right;\n",
       "    }\n",
       "</style>\n",
       "<table border=\"1\" class=\"dataframe\">\n",
       "  <thead>\n",
       "    <tr style=\"text-align: right;\">\n",
       "      <th></th>\n",
       "      <th>Adjective</th>\n",
       "      <th>Count</th>\n",
       "    </tr>\n",
       "  </thead>\n",
       "  <tbody>\n",
       "    <tr>\n",
       "      <th>0</th>\n",
       "      <td>former</td>\n",
       "      <td>8</td>\n",
       "    </tr>\n",
       "    <tr>\n",
       "      <th>1</th>\n",
       "      <td>opioid</td>\n",
       "      <td>5</td>\n",
       "    </tr>\n",
       "    <tr>\n",
       "      <th>2</th>\n",
       "      <td>nationwide</td>\n",
       "      <td>4</td>\n",
       "    </tr>\n",
       "    <tr>\n",
       "      <th>3</th>\n",
       "      <td>addictive</td>\n",
       "      <td>3</td>\n",
       "    </tr>\n",
       "    <tr>\n",
       "      <th>4</th>\n",
       "      <td>other</td>\n",
       "      <td>3</td>\n",
       "    </tr>\n",
       "  </tbody>\n",
       "</table>\n",
       "</div>"
      ],
      "text/plain": [
       "    Adjective  Count\n",
       "0      former      8\n",
       "1      opioid      5\n",
       "2  nationwide      4\n",
       "3   addictive      3\n",
       "4       other      3"
      ]
     },
     "execution_count": 6,
     "metadata": {},
     "output_type": "execute_result"
    }
   ],
   "source": [
    "#C\n",
    "\n",
    "#create list of all adjectives\n",
    "all_adj = [one_tok[0] for one_tok in tokens_pos if one_tok[1] == 'JJ']\n",
    "\n",
    "#convert from list to dataframe\n",
    "df_all_adj = pd.DataFrame(all_adj)\n",
    "df_all_adj = df_all_adj.rename(columns={0:'Adjective'})\n",
    "\n",
    "#sort by value counts\n",
    "sorted_adj = df_all_adj['Adjective'].value_counts().reset_index()\n",
    "sorted_adj.columns = ['Adjective','Count']\n",
    "\n",
    "#find most 5 frequent \n",
    "most_freq_5 = sorted_adj.head(5) \n",
    "most_freq_5"
   ]
  },
  {
   "cell_type": "markdown",
   "metadata": {},
   "source": [
    "## 1.2 named entity recognition (4 points)"
   ]
  },
  {
   "cell_type": "markdown",
   "metadata": {},
   "source": [
    "A. Using the original `pharma` press release (so the one before stripping punctuation/digits), use spaCy to extract all named entities from the press release.\n",
    "\n",
    "B. Print the unique named entities with the tag: `LAW`"
   ]
  },
  {
   "cell_type": "code",
   "execution_count": 7,
   "metadata": {},
   "outputs": [
    {
     "name": "stdout",
     "output_type": "stream",
     "text": [
      "Entity: 4909 ; NER tag: DATE\n",
      "Entity: Insys Therapeutics Inc. ; NER tag: ORG\n",
      "Entity: today ; NER tag: DATE\n",
      "Entity: Fentanyl ; NER tag: PERSON\n",
      "Entity: More than 20,000 ; NER tag: CARDINAL\n",
      "Entity: Americans ; NER tag: NORP\n",
      "Entity: last year ; NER tag: DATE\n",
      "Entity: millions ; NER tag: CARDINAL\n",
      "Entity: Jeff Sessions ; NER tag: PERSON\n",
      "Entity: This Justice Department ; NER tag: ORG\n",
      "Entity: Trump ; NER tag: PERSON\n",
      "Entity: American ; NER tag: NORP\n",
      "Entity: ”John N. Kapoor ; NER tag: PERSON\n",
      "Entity: 74 ; NER tag: DATE\n",
      "Entity: Phoenix ; NER tag: GPE\n",
      "Entity: Ariz. ; NER tag: GPE\n",
      "Entity: the Board of Directors ; NER tag: ORG\n",
      "Entity: Insys ; NER tag: ORG\n",
      "Entity: this morning ; NER tag: TIME\n",
      "Entity: Arizona ; NER tag: GPE\n",
      "Entity: RICO ; NER tag: LAW\n",
      "Entity: Kapoor ; NER tag: PERSON\n",
      "Entity: Executive ; NER tag: ORG\n",
      "Entity: Board ; NER tag: ORG\n",
      "Entity: Insys ; NER tag: ORG\n",
      "Entity: Phoenix ; NER tag: GPE\n",
      "Entity: today ; NER tag: DATE\n",
      "Entity: U.S. ; NER tag: GPE\n",
      "Entity: District Court ; NER tag: ORG\n",
      "Entity: Boston ; NER tag: GPE\n",
      "Entity: a later date ; NER tag: DATE\n",
      "Entity: today ; NER tag: DATE\n",
      "Entity: Boston ; NER tag: GPE\n",
      "Entity: Insys ; NER tag: ORG\n",
      "Entity: December 2016.The ; NER tag: DATE\n",
      "Entity: Kapoor ; NER tag: GPE\n",
      "Entity: Michael L. Babich ; NER tag: PERSON\n",
      "Entity: 40 ; NER tag: DATE\n",
      "Entity: Scottsdale ; NER tag: GPE\n",
      "Entity: Ariz. ; NER tag: GPE\n",
      "Entity: Alec Burlakoff ; NER tag: PERSON\n",
      "Entity: 42 ; NER tag: DATE\n",
      "Entity: Charlotte ; NER tag: GPE\n",
      "Entity: N.C. ; NER tag: GPE\n",
      "Entity: Richard M. Simon ; NER tag: PERSON\n",
      "Entity: 46 ; NER tag: DATE\n",
      "Entity: Seal Beach ; NER tag: GPE\n",
      "Entity: Calif. ; NER tag: GPE\n",
      "Entity: Sunrise Lee ; NER tag: PERSON\n",
      "Entity: 36 ; NER tag: DATE\n",
      "Entity: Bryant City ; NER tag: GPE\n",
      "Entity: Mich. ; NER tag: GPE\n",
      "Entity: Joseph A. Rowan ; NER tag: PERSON\n",
      "Entity: 43 ; NER tag: DATE\n",
      "Entity: Panama City ; NER tag: GPE\n",
      "Entity: Fla. ; NER tag: GPE\n",
      "Entity: Managed Markets ; NER tag: ORG\n",
      "Entity: Michael J. Gurry ; NER tag: PERSON\n",
      "Entity: 53 ; NER tag: DATE\n",
      "Entity: Scottsdale ; NER tag: GPE\n",
      "Entity: Ariz. ; NER tag: GPE\n",
      "Entity: Subsys ; NER tag: ORG\n",
      "Entity: Kapoor ; NER tag: GPE\n",
      "Entity: six ; NER tag: CARDINAL\n",
      "Entity: Kapoor ; NER tag: PERSON\n",
      "Entity: United States ; NER tag: GPE\n",
      "Entity: William D. Weinreb ; NER tag: PERSON\n",
      "Entity: Today ; NER tag: DATE\n",
      "Entity: Insys ; NER tag: ORG\n",
      "Entity: Harold H. Shaw ; NER tag: PERSON\n",
      "Entity: Charge of the Federal Bureau of Investigation ; NER tag: ORG\n",
      "Entity: Boston Field Division ; NER tag: ORG\n",
      "Entity: Today ; NER tag: DATE\n",
      "Entity: FBI ; NER tag: ORG\n",
      "Entity: Insys ; NER tag: PERSON\n",
      "Entity: Phillip Coyne ; NER tag: PERSON\n",
      "Entity: Charge for the Office of Inspector General of the U.S. Department of Health and Human Services ; NER tag: ORG\n",
      "Entity: Insys ; NER tag: ORG\n",
      "Entity: FDA ; NER tag: ORG\n",
      "Entity: Mark A. McCormack ; NER tag: PERSON\n",
      "Entity: Charge ; NER tag: GPE\n",
      "Entity: FDA Office of Criminal Investigations’ Metro ; NER tag: ORG\n",
      "Entity: Field Office ; NER tag: ORG\n",
      "Entity: DEA Special ; NER tag: ORG\n",
      "Entity: Michael J. Ferguson ; NER tag: PERSON\n",
      "Entity: DEA ; NER tag: ORG\n",
      "Entity: the Controlled Substances Act ; NER tag: LAW\n",
      "Entity: Charge Leigh-Alistair Barzey ; NER tag: PERSON\n",
      "Entity: Defense Criminal Investigative Service ; NER tag: ORG\n",
      "Entity: Northeast Field Office ; NER tag: ORG\n",
      "Entity: DCIS ; NER tag: ORG\n",
      "Entity: U.S. ; NER tag: GPE\n",
      "Entity: Massachusetts ; NER tag: GPE\n",
      "Entity: U.S. ; NER tag: GPE\n",
      "Entity: TRICARE ; NER tag: ORG\n",
      "Entity: the Defense Department’s ; NER tag: ORG\n",
      "Entity: John Kapoor ; NER tag: PERSON\n",
      "Entity: Susan A. Hensley ; NER tag: PERSON\n",
      "Entity: the U.S. Department of Labor ; NER tag: ORG\n",
      "Entity: Employee Benefits Security Administration ; NER tag: ORG\n",
      "Entity: Boston Regional Office ; NER tag: ORG\n",
      "Entity: the United States Postal Inspection Service ; NER tag: ORG\n",
      "Entity: Shelly Binkowski ; NER tag: PERSON\n",
      "Entity: the U.S. Postal Inspection Service ; NER tag: ORG\n",
      "Entity: U.S. Department ; NER tag: ORG\n",
      "Entity: Veterans Affairs ; NER tag: ORG\n",
      "Entity: Office of Inspector General ; NER tag: ORG\n",
      "Entity: Donna L. Neves ; NER tag: PERSON\n",
      "Entity: Charge of the VA OIG Northeast Field Office ; NER tag: ORG\n",
      "Entity: RICO ; NER tag: LAW\n",
      "Entity: 20 years ; NER tag: DATE\n",
      "Entity: three years ; NER tag: DATE\n",
      "Entity: 250,000 ; NER tag: MONEY\n",
      "Entity: five years ; NER tag: DATE\n",
      "Entity: three years ; NER tag: DATE\n",
      "Entity: 25,000 ; NER tag: MONEY\n",
      "Entity: the U.S. Sentencing Guidelines ; NER tag: ORG\n",
      "Entity: FBI ; NER tag: ORG\n",
      "Entity: HHS-OIG ; NER tag: ORG\n",
      "Entity: FDA Office of Criminal Investigations ; NER tag: ORG\n",
      "Entity: the Defense Criminal Investigative Service ; NER tag: ORG\n",
      "Entity: the Drug Enforcement Administration ; NER tag: ORG\n",
      "Entity: the Department of Labor ; NER tag: ORG\n",
      "Entity: Employee Benefits Security Administration ; NER tag: ORG\n",
      "Entity: the Office of Personnel Management ; NER tag: ORG\n",
      "Entity: the U.S. Postal Inspection Service ; NER tag: ORG\n",
      "Entity: the U.S. Postal Service Office of Inspector General ; NER tag: ORG\n",
      "Entity: the Department of Veterans Affairs ; NER tag: ORG\n",
      "Entity: U.S. ; NER tag: GPE\n",
      "Entity: U.S. ; NER tag: GPE\n",
      "Entity: the District of Connecticut ; NER tag: GPE\n",
      "Entity: Eastern District ; NER tag: LOC\n",
      "Entity: Michigan ; NER tag: GPE\n",
      "Entity: Southern District ; NER tag: LOC\n",
      "Entity: Southern District ; NER tag: LOC\n",
      "Entity: New York ; NER tag: GPE\n",
      "Entity: District of ; NER tag: GPE\n",
      "Entity: Rhode Island ; NER tag: GPE\n",
      "Entity: the District of New Hampshire ; NER tag: GPE\n",
      "Entity: the Central District ; NER tag: LOC\n",
      "Entity: California ; NER tag: GPE\n",
      "Entity: the Justice Department’s ; NER tag: ORG\n",
      "Entity: Civil Fraud Section ; NER tag: ORG\n",
      "Entity: the Department of Justice ; NER tag: ORG\n",
      "Entity: U.S. ; NER tag: GPE\n",
      "Entity: Nathaniel Yeager ; NER tag: PERSON\n",
      "Entity: Weinreb’s Health Care Fraud Unit ; NER tag: ORG\n",
      "Entity: Susan M. Poswistilo ; NER tag: PERSON\n",
      "Entity: Weinreb’s Civil Division ; NER tag: ORG\n"
     ]
    }
   ],
   "source": [
    "#A #QUESTION: not sure if this we should be sotring the named entities somewhere? or if just printing them is ok? \n",
    "spacy_pharma = nlp(pharma.to_string())\n",
    "for one_tok in spacy_pharma.ents: \n",
    "    print( \"Entity: \" + one_tok.text + \" ; NER tag: \" + one_tok.label_)"
   ]
  },
  {
   "cell_type": "code",
   "execution_count": 8,
   "metadata": {},
   "outputs": [
    {
     "name": "stdout",
     "output_type": "stream",
     "text": [
      "Entity: RICO ; NER tag: LAW\n",
      "Entity: the Controlled Substances Act ; NER tag: LAW\n",
      "Entity: RICO ; NER tag: LAW\n"
     ]
    }
   ],
   "source": [
    "#B\n",
    "for one_tok in spacy_pharma.ents: \n",
    "    if (one_tok.label_ == \"LAW\"):\n",
    "        print(\"Entity: \" + one_tok.text + \" ; NER tag: \" + one_tok.label_)"
   ]
  },
  {
   "cell_type": "markdown",
   "metadata": {},
   "source": [
    "C. Use Google to summarize in one sentence what the `RICO` named entity means and why this might apply to a pharmaceutical kickbacks case (and not just a mafia case...) "
   ]
  },
  {
   "cell_type": "markdown",
   "metadata": {},
   "source": [
    "The Racketeer Influenced and Corrupt Organizations Act target organized crime, which can involve illicit drug activities such as moving money illegally via kickbacks from drug sales.  "
   ]
  },
  {
   "cell_type": "markdown",
   "metadata": {},
   "source": [
    "D. You want to extract the possible sentence lengths the CEO is facing; pull out the named entities with (1) the label `DATE` and (2) that contain the word year or years (hint: you may want to use the `re` module for that second part). Print these named entities."
   ]
  },
  {
   "cell_type": "code",
   "execution_count": 9,
   "metadata": {},
   "outputs": [
    {
     "name": "stdout",
     "output_type": "stream",
     "text": [
      "Entity: last year ; NER tag: DATE\n",
      "Entity: 20 years ; NER tag: DATE\n",
      "Entity: three years ; NER tag: DATE\n",
      "Entity: five years ; NER tag: DATE\n",
      "Entity: three years ; NER tag: DATE\n"
     ]
    }
   ],
   "source": [
    "#D\n",
    "for one_tok in spacy_pharma.ents:\n",
    "    if one_tok.label_ == \"DATE\":\n",
    "        match = re.search(r'((?:.*?)(?:year|years)(?:.*?))', one_tok.text)\n",
    "        if match:\n",
    "            print(\"Entity: \" + one_tok.text + \" ; NER tag: \" + one_tok.label_)\n"
   ]
  },
  {
   "cell_type": "markdown",
   "metadata": {},
   "source": [
    "E. Pull and print the original parts of the press releases where those year lengths are mentioned (e.g., the sentences or rough region of the press release). Describe in your own words (1 sentence) what length of sentence (prison) and probation (supervised release) the CEO may be facing if convicted after this indictment (if there are multiple lengths mentioned describe the maximum). \n",
    "\n",
    "**Hint**: you may want to use re.search or re.findall \n",
    "\n",
    "- For part E, you can use `re.search` and `re.findall`, or anything that works 😳."
   ]
  },
  {
   "cell_type": "code",
   "execution_count": 10,
   "metadata": {},
   "outputs": [
    {
     "data": {
      "text/plain": [
       "[['Americans died of synthetic opioid overdoses last year, and millions are addicted to opioids. And yet so',\n",
       "  'each provide for a sentence of no greater than 20 years in prison, three years of supervised release and',\n",
       "  'aw provide for a sentence of no greater than five years in prison, three years of supervised release and']]"
      ]
     },
     "execution_count": 10,
     "metadata": {},
     "output_type": "execute_result"
    }
   ],
   "source": [
    "press_pattern = r'(?<=\\.|\\s)(.*?((?:\\d+ (?:year|years)).*?))(?=\\.)'\n",
    "press_pattern2 = r'((?:[^.]{0,50})(?:\\d+ (?:year|years).*?\\.)(?:.*?\\.[^.]{0,50}))'\n",
    "press_pattern3 = r'((?:.{0,50})(?:year|years)(?:.{0,50}))'\n",
    "\n",
    "\n",
    "press_search = [re.findall(press_pattern3, spacy_pharma.text, re.IGNORECASE)]\n",
    "press_search"
   ]
  },
  {
   "cell_type": "markdown",
   "metadata": {},
   "source": [
    "Based on these other mentions of sentence and probation lengths, the CEO may be facing up to 20 years in prison with three years of probation if convicted after the indictment."
   ]
  },
  {
   "cell_type": "markdown",
   "metadata": {},
   "source": [
    "## 1.3 sentiment analysis  (10 points)\n",
    "\n",
    "A. Subset the press releases to those labeled with one of three topics via `topics_clean`: Civil Rights, Hate Crimes, and Project Safe Childhood. We'll call this `doj_subset` going forward and it should have 717 rows.\n",
    "\n"
   ]
  },
  {
   "cell_type": "code",
   "execution_count": 11,
   "metadata": {},
   "outputs": [
    {
     "data": {
      "text/plain": [
       "(717, 6)"
      ]
     },
     "execution_count": 11,
     "metadata": {},
     "output_type": "execute_result"
    }
   ],
   "source": [
    "#A \n",
    "\n",
    "doj_subset = doj[(doj['topics_clean'] == 'Civil Rights') | \n",
    "                 (doj['topics_clean'] == 'Hate Crimes') | \n",
    "                 (doj['topics_clean'] == 'Project Safe Childhood')]\n",
    "\n",
    "#Confirming it has 717 rows\n",
    "doj_subset.shape\n"
   ]
  },
  {
   "cell_type": "markdown",
   "metadata": {},
   "source": [
    "B. Write a function that takes one press release string as an input and:\n",
    "\n",
    "- Removes named entities from each press release string (**Hint**: you may want to use `re.sub` with an or condition)\n",
    "- Scores the sentiment of the entire press release using the `SentimentIntensityAnalyzer` and `polarity_scores`\n",
    "- Returns the length-four (negative, positive, neutral, compound) sentiment dictionary (any order is fine)\n",
    "\n",
    "Apply that function to each of the press releases in `doj_subset`. \n",
    "\n",
    "**Hints**: \n",
    "\n",
    "- A function + list comprehension to execute will takes about 30 seconds on a respectable local machine and about 2 mins on jhub; if it's taking a very long time, you may want to check your code for inefficiencies. If you can't fix those, for partial credit on this part/full credit on remainder, you can take a small random sample of the 717\n"
   ]
  },
  {
   "cell_type": "code",
   "execution_count": 14,
   "metadata": {},
   "outputs": [],
   "source": [
    "def get_sentiment(press): \n",
    "    # Check if press is already a string\n",
    "    if not isinstance(press, str):\n",
    "        press = press.to_string()\n",
    "    \n",
    "    # create spaCy doc object from string \n",
    "    press_doc = nlp(press)\n",
    "    \n",
    "    # initialize sentiment analyzer\n",
    "    sent_obj = SentimentIntensityAnalyzer()\n",
    "    \n",
    "    # create variable to store modified press\n",
    "    mod_press = press\n",
    "    \n",
    "    # Create regex pattern for all named entities\n",
    "    pattern = '|'.join([re.escape(entity.text) for entity in press_doc.ents])\n",
    "    \n",
    "    # Remove named entities from the press text\n",
    "    mod_press = re.sub(pattern, '', mod_press)\n",
    "    \n",
    "    # Get sentiment score for modified_press \n",
    "    sentiment = sent_obj.polarity_scores(mod_press)\n",
    "    \n",
    "    return sentiment\n"
   ]
  },
  {
   "cell_type": "code",
   "execution_count": 13,
   "metadata": {},
   "outputs": [
    {
     "data": {
      "text/plain": [
       "{'neg': 0.2, 'neu': 0.751, 'pos': 0.049, 'compound': -0.9931}"
      ]
     },
     "execution_count": 13,
     "metadata": {},
     "output_type": "execute_result"
    },
    {
     "data": {
      "text/plain": [
       "{'neg': 0.134, 'neu': 0.797, 'pos': 0.069, 'compound': -0.9325}"
      ]
     },
     "execution_count": 13,
     "metadata": {},
     "output_type": "execute_result"
    },
    {
     "data": {
      "text/plain": [
       "{'neg': 0.092, 'neu': 0.832, 'pos': 0.076, 'compound': -0.7579}"
      ]
     },
     "execution_count": 13,
     "metadata": {},
     "output_type": "execute_result"
    },
    {
     "data": {
      "text/plain": [
       "{'neg': 0.127, 'neu': 0.788, 'pos': 0.085, 'compound': -0.9037}"
      ]
     },
     "execution_count": 13,
     "metadata": {},
     "output_type": "execute_result"
    },
    {
     "data": {
      "text/plain": [
       "{'neg': 0.179, 'neu': 0.777, 'pos': 0.044, 'compound': -0.9864}"
      ]
     },
     "execution_count": 13,
     "metadata": {},
     "output_type": "execute_result"
    },
    {
     "data": {
      "text/plain": [
       "{'neg': 0.148, 'neu': 0.799, 'pos': 0.053, 'compound': -0.987}"
      ]
     },
     "execution_count": 13,
     "metadata": {},
     "output_type": "execute_result"
    },
    {
     "data": {
      "text/plain": [
       "{'neg': 0.155, 'neu': 0.766, 'pos': 0.079, 'compound': -0.9559}"
      ]
     },
     "execution_count": 13,
     "metadata": {},
     "output_type": "execute_result"
    },
    {
     "data": {
      "text/plain": [
       "{'neg': 0.093, 'neu': 0.841, 'pos': 0.066, 'compound': -0.7783}"
      ]
     },
     "execution_count": 13,
     "metadata": {},
     "output_type": "execute_result"
    },
    {
     "data": {
      "text/plain": [
       "{'neg': 0.107, 'neu': 0.832, 'pos': 0.061, 'compound': -0.9136}"
      ]
     },
     "execution_count": 13,
     "metadata": {},
     "output_type": "execute_result"
    },
    {
     "data": {
      "text/plain": [
       "{'neg': 0.167, 'neu': 0.776, 'pos': 0.056, 'compound': -0.9801}"
      ]
     },
     "execution_count": 13,
     "metadata": {},
     "output_type": "execute_result"
    },
    {
     "data": {
      "text/plain": [
       "{'neg': 0.216, 'neu': 0.748, 'pos': 0.036, 'compound': -0.9973}"
      ]
     },
     "execution_count": 13,
     "metadata": {},
     "output_type": "execute_result"
    },
    {
     "data": {
      "text/plain": [
       "{'neg': 0.095, 'neu': 0.841, 'pos': 0.064, 'compound': -0.8519}"
      ]
     },
     "execution_count": 13,
     "metadata": {},
     "output_type": "execute_result"
    },
    {
     "data": {
      "text/plain": [
       "{'neg': 0.082, 'neu': 0.853, 'pos': 0.065, 'compound': -0.6486}"
      ]
     },
     "execution_count": 13,
     "metadata": {},
     "output_type": "execute_result"
    },
    {
     "data": {
      "text/plain": [
       "{'neg': 0.334, 'neu': 0.633, 'pos': 0.033, 'compound': -0.9951}"
      ]
     },
     "execution_count": 13,
     "metadata": {},
     "output_type": "execute_result"
    },
    {
     "data": {
      "text/plain": [
       "{'neg': 0.178, 'neu': 0.753, 'pos': 0.068, 'compound': -0.9889}"
      ]
     },
     "execution_count": 13,
     "metadata": {},
     "output_type": "execute_result"
    },
    {
     "data": {
      "text/plain": [
       "{'neg': 0.125, 'neu': 0.803, 'pos': 0.071, 'compound': -0.9643}"
      ]
     },
     "execution_count": 13,
     "metadata": {},
     "output_type": "execute_result"
    },
    {
     "data": {
      "text/plain": [
       "{'neg': 0.152, 'neu': 0.756, 'pos': 0.092, 'compound': -0.9896}"
      ]
     },
     "execution_count": 13,
     "metadata": {},
     "output_type": "execute_result"
    },
    {
     "data": {
      "text/plain": [
       "{'neg': 0.247, 'neu': 0.699, 'pos': 0.053, 'compound': -0.9985}"
      ]
     },
     "execution_count": 13,
     "metadata": {},
     "output_type": "execute_result"
    },
    {
     "data": {
      "text/plain": [
       "{'neg': 0.152, 'neu': 0.759, 'pos': 0.089, 'compound': -0.9799}"
      ]
     },
     "execution_count": 13,
     "metadata": {},
     "output_type": "execute_result"
    },
    {
     "data": {
      "text/plain": [
       "{'neg': 0.138, 'neu': 0.792, 'pos': 0.07, 'compound': -0.9779}"
      ]
     },
     "execution_count": 13,
     "metadata": {},
     "output_type": "execute_result"
    },
    {
     "data": {
      "text/plain": [
       "{'neg': 0.233, 'neu': 0.698, 'pos': 0.069, 'compound': -0.9971}"
      ]
     },
     "execution_count": 13,
     "metadata": {},
     "output_type": "execute_result"
    },
    {
     "data": {
      "text/plain": [
       "{'neg': 0.158, 'neu': 0.825, 'pos': 0.017, 'compound': -0.9884}"
      ]
     },
     "execution_count": 13,
     "metadata": {},
     "output_type": "execute_result"
    },
    {
     "data": {
      "text/plain": [
       "{'neg': 0.294, 'neu': 0.676, 'pos': 0.031, 'compound': -0.9986}"
      ]
     },
     "execution_count": 13,
     "metadata": {},
     "output_type": "execute_result"
    },
    {
     "data": {
      "text/plain": [
       "{'neg': 0.211, 'neu': 0.733, 'pos': 0.057, 'compound': -0.9948}"
      ]
     },
     "execution_count": 13,
     "metadata": {},
     "output_type": "execute_result"
    },
    {
     "data": {
      "text/plain": [
       "{'neg': 0.198, 'neu': 0.728, 'pos': 0.075, 'compound': -0.9884}"
      ]
     },
     "execution_count": 13,
     "metadata": {},
     "output_type": "execute_result"
    },
    {
     "data": {
      "text/plain": [
       "{'neg': 0.141, 'neu': 0.802, 'pos': 0.057, 'compound': -0.9665}"
      ]
     },
     "execution_count": 13,
     "metadata": {},
     "output_type": "execute_result"
    },
    {
     "data": {
      "text/plain": [
       "{'neg': 0.153, 'neu': 0.791, 'pos': 0.056, 'compound': -0.9858}"
      ]
     },
     "execution_count": 13,
     "metadata": {},
     "output_type": "execute_result"
    },
    {
     "data": {
      "text/plain": [
       "{'neg': 0.239, 'neu': 0.732, 'pos': 0.029, 'compound': -0.9944}"
      ]
     },
     "execution_count": 13,
     "metadata": {},
     "output_type": "execute_result"
    },
    {
     "data": {
      "text/plain": [
       "{'neg': 0.189, 'neu': 0.763, 'pos': 0.049, 'compound': -0.9716}"
      ]
     },
     "execution_count": 13,
     "metadata": {},
     "output_type": "execute_result"
    },
    {
     "data": {
      "text/plain": [
       "{'neg': 0.212, 'neu': 0.733, 'pos': 0.054, 'compound': -0.9983}"
      ]
     },
     "execution_count": 13,
     "metadata": {},
     "output_type": "execute_result"
    },
    {
     "data": {
      "text/plain": [
       "{'neg': 0.143, 'neu': 0.81, 'pos': 0.047, 'compound': -0.9666}"
      ]
     },
     "execution_count": 13,
     "metadata": {},
     "output_type": "execute_result"
    },
    {
     "data": {
      "text/plain": [
       "{'neg': 0.106, 'neu': 0.77, 'pos': 0.124, 'compound': 0.4754}"
      ]
     },
     "execution_count": 13,
     "metadata": {},
     "output_type": "execute_result"
    },
    {
     "data": {
      "text/plain": [
       "{'neg': 0.078, 'neu': 0.845, 'pos': 0.077, 'compound': -0.0772}"
      ]
     },
     "execution_count": 13,
     "metadata": {},
     "output_type": "execute_result"
    },
    {
     "data": {
      "text/plain": [
       "{'neg': 0.106, 'neu': 0.757, 'pos': 0.137, 'compound': 0.6486}"
      ]
     },
     "execution_count": 13,
     "metadata": {},
     "output_type": "execute_result"
    },
    {
     "data": {
      "text/plain": [
       "{'neg': 0.301, 'neu': 0.675, 'pos': 0.025, 'compound': -0.9983}"
      ]
     },
     "execution_count": 13,
     "metadata": {},
     "output_type": "execute_result"
    },
    {
     "data": {
      "text/plain": [
       "{'neg': 0.071, 'neu': 0.792, 'pos': 0.136, 'compound': 0.997}"
      ]
     },
     "execution_count": 13,
     "metadata": {},
     "output_type": "execute_result"
    },
    {
     "data": {
      "text/plain": [
       "{'neg': 0.134, 'neu': 0.748, 'pos': 0.118, 'compound': -0.9416}"
      ]
     },
     "execution_count": 13,
     "metadata": {},
     "output_type": "execute_result"
    },
    {
     "data": {
      "text/plain": [
       "{'neg': 0.207, 'neu': 0.677, 'pos': 0.116, 'compound': -0.9739}"
      ]
     },
     "execution_count": 13,
     "metadata": {},
     "output_type": "execute_result"
    },
    {
     "data": {
      "text/plain": [
       "{'neg': 0.159, 'neu': 0.725, 'pos': 0.117, 'compound': -0.9936}"
      ]
     },
     "execution_count": 13,
     "metadata": {},
     "output_type": "execute_result"
    },
    {
     "data": {
      "text/plain": [
       "{'neg': 0.271, 'neu': 0.643, 'pos': 0.086, 'compound': -0.9169}"
      ]
     },
     "execution_count": 13,
     "metadata": {},
     "output_type": "execute_result"
    },
    {
     "data": {
      "text/plain": [
       "{'neg': 0.034, 'neu': 0.851, 'pos': 0.114, 'compound': 0.9217}"
      ]
     },
     "execution_count": 13,
     "metadata": {},
     "output_type": "execute_result"
    },
    {
     "data": {
      "text/plain": [
       "{'neg': 0.156, 'neu': 0.798, 'pos': 0.046, 'compound': -0.975}"
      ]
     },
     "execution_count": 13,
     "metadata": {},
     "output_type": "execute_result"
    },
    {
     "data": {
      "text/plain": [
       "{'neg': 0.122, 'neu': 0.816, 'pos': 0.063, 'compound': -0.9371}"
      ]
     },
     "execution_count": 13,
     "metadata": {},
     "output_type": "execute_result"
    },
    {
     "data": {
      "text/plain": [
       "{'neg': 0.119, 'neu': 0.829, 'pos': 0.053, 'compound': -0.9778}"
      ]
     },
     "execution_count": 13,
     "metadata": {},
     "output_type": "execute_result"
    },
    {
     "data": {
      "text/plain": [
       "{'neg': 0.085, 'neu': 0.841, 'pos': 0.074, 'compound': 0.0433}"
      ]
     },
     "execution_count": 13,
     "metadata": {},
     "output_type": "execute_result"
    },
    {
     "data": {
      "text/plain": [
       "{'neg': 0.068, 'neu': 0.871, 'pos': 0.061, 'compound': -0.4767}"
      ]
     },
     "execution_count": 13,
     "metadata": {},
     "output_type": "execute_result"
    },
    {
     "data": {
      "text/plain": [
       "{'neg': 0.196, 'neu': 0.761, 'pos': 0.043, 'compound': -0.9913}"
      ]
     },
     "execution_count": 13,
     "metadata": {},
     "output_type": "execute_result"
    },
    {
     "data": {
      "text/plain": [
       "{'neg': 0.138, 'neu': 0.799, 'pos': 0.063, 'compound': -0.9524}"
      ]
     },
     "execution_count": 13,
     "metadata": {},
     "output_type": "execute_result"
    },
    {
     "data": {
      "text/plain": [
       "{'neg': 0.131, 'neu': 0.793, 'pos': 0.076, 'compound': -0.9517}"
      ]
     },
     "execution_count": 13,
     "metadata": {},
     "output_type": "execute_result"
    },
    {
     "data": {
      "text/plain": [
       "{'neg': 0.11, 'neu': 0.812, 'pos': 0.078, 'compound': -0.8904}"
      ]
     },
     "execution_count": 13,
     "metadata": {},
     "output_type": "execute_result"
    },
    {
     "data": {
      "text/plain": [
       "{'neg': 0.194, 'neu': 0.722, 'pos': 0.084, 'compound': -0.9906}"
      ]
     },
     "execution_count": 13,
     "metadata": {},
     "output_type": "execute_result"
    },
    {
     "data": {
      "text/plain": [
       "{'neg': 0.11, 'neu': 0.812, 'pos': 0.079, 'compound': -0.9477}"
      ]
     },
     "execution_count": 13,
     "metadata": {},
     "output_type": "execute_result"
    },
    {
     "data": {
      "text/plain": [
       "{'neg': 0.205, 'neu': 0.721, 'pos': 0.073, 'compound': -0.993}"
      ]
     },
     "execution_count": 13,
     "metadata": {},
     "output_type": "execute_result"
    },
    {
     "data": {
      "text/plain": [
       "{'neg': 0.098, 'neu': 0.787, 'pos': 0.116, 'compound': 0.5267}"
      ]
     },
     "execution_count": 13,
     "metadata": {},
     "output_type": "execute_result"
    },
    {
     "data": {
      "text/plain": [
       "{'neg': 0.097, 'neu': 0.816, 'pos': 0.088, 'compound': -0.4939}"
      ]
     },
     "execution_count": 13,
     "metadata": {},
     "output_type": "execute_result"
    },
    {
     "data": {
      "text/plain": [
       "{'neg': 0.126, 'neu': 0.762, 'pos': 0.111, 'compound': -0.6682}"
      ]
     },
     "execution_count": 13,
     "metadata": {},
     "output_type": "execute_result"
    },
    {
     "data": {
      "text/plain": [
       "{'neg': 0.128, 'neu': 0.8, 'pos': 0.071, 'compound': -0.9001}"
      ]
     },
     "execution_count": 13,
     "metadata": {},
     "output_type": "execute_result"
    },
    {
     "data": {
      "text/plain": [
       "{'neg': 0.178, 'neu': 0.793, 'pos': 0.029, 'compound': -0.9924}"
      ]
     },
     "execution_count": 13,
     "metadata": {},
     "output_type": "execute_result"
    },
    {
     "data": {
      "text/plain": [
       "{'neg': 0.195, 'neu': 0.778, 'pos': 0.027, 'compound': -0.9982}"
      ]
     },
     "execution_count": 13,
     "metadata": {},
     "output_type": "execute_result"
    },
    {
     "data": {
      "text/plain": [
       "{'neg': 0.142, 'neu': 0.777, 'pos': 0.08, 'compound': -0.9659}"
      ]
     },
     "execution_count": 13,
     "metadata": {},
     "output_type": "execute_result"
    },
    {
     "data": {
      "text/plain": [
       "{'neg': 0.206, 'neu': 0.766, 'pos': 0.028, 'compound': -0.9973}"
      ]
     },
     "execution_count": 13,
     "metadata": {},
     "output_type": "execute_result"
    },
    {
     "data": {
      "text/plain": [
       "{'neg': 0.101, 'neu': 0.802, 'pos': 0.097, 'compound': -0.2263}"
      ]
     },
     "execution_count": 13,
     "metadata": {},
     "output_type": "execute_result"
    },
    {
     "data": {
      "text/plain": [
       "{'neg': 0.175, 'neu': 0.754, 'pos': 0.071, 'compound': -0.9846}"
      ]
     },
     "execution_count": 13,
     "metadata": {},
     "output_type": "execute_result"
    },
    {
     "data": {
      "text/plain": [
       "{'neg': 0.149, 'neu': 0.791, 'pos': 0.06, 'compound': -0.9702}"
      ]
     },
     "execution_count": 13,
     "metadata": {},
     "output_type": "execute_result"
    },
    {
     "data": {
      "text/plain": [
       "{'neg': 0.193, 'neu': 0.75, 'pos': 0.056, 'compound': -0.9776}"
      ]
     },
     "execution_count": 13,
     "metadata": {},
     "output_type": "execute_result"
    },
    {
     "data": {
      "text/plain": [
       "{'neg': 0.12, 'neu': 0.815, 'pos': 0.065, 'compound': -0.9874}"
      ]
     },
     "execution_count": 13,
     "metadata": {},
     "output_type": "execute_result"
    },
    {
     "data": {
      "text/plain": [
       "{'neg': 0.138, 'neu': 0.799, 'pos': 0.063, 'compound': -0.9851}"
      ]
     },
     "execution_count": 13,
     "metadata": {},
     "output_type": "execute_result"
    },
    {
     "data": {
      "text/plain": [
       "{'neg': 0.154, 'neu': 0.81, 'pos': 0.037, 'compound': -0.9729}"
      ]
     },
     "execution_count": 13,
     "metadata": {},
     "output_type": "execute_result"
    },
    {
     "data": {
      "text/plain": [
       "{'neg': 0.119, 'neu': 0.765, 'pos': 0.117, 'compound': -0.1045}"
      ]
     },
     "execution_count": 13,
     "metadata": {},
     "output_type": "execute_result"
    },
    {
     "data": {
      "text/plain": [
       "{'neg': 0.112, 'neu': 0.799, 'pos': 0.089, 'compound': -0.9655}"
      ]
     },
     "execution_count": 13,
     "metadata": {},
     "output_type": "execute_result"
    },
    {
     "data": {
      "text/plain": [
       "{'neg': 0.21, 'neu': 0.755, 'pos': 0.036, 'compound': -0.9859}"
      ]
     },
     "execution_count": 13,
     "metadata": {},
     "output_type": "execute_result"
    },
    {
     "data": {
      "text/plain": [
       "{'neg': 0.124, 'neu': 0.813, 'pos': 0.063, 'compound': -0.93}"
      ]
     },
     "execution_count": 13,
     "metadata": {},
     "output_type": "execute_result"
    },
    {
     "data": {
      "text/plain": [
       "{'neg': 0.0, 'neu': 0.834, 'pos': 0.166, 'compound': 0.9909}"
      ]
     },
     "execution_count": 13,
     "metadata": {},
     "output_type": "execute_result"
    },
    {
     "data": {
      "text/plain": [
       "{'neg': 0.126, 'neu': 0.832, 'pos': 0.042, 'compound': -0.9423}"
      ]
     },
     "execution_count": 13,
     "metadata": {},
     "output_type": "execute_result"
    },
    {
     "data": {
      "text/plain": [
       "{'neg': 0.098, 'neu': 0.833, 'pos': 0.069, 'compound': -0.9466}"
      ]
     },
     "execution_count": 13,
     "metadata": {},
     "output_type": "execute_result"
    },
    {
     "data": {
      "text/plain": [
       "{'neg': 0.097, 'neu': 0.842, 'pos': 0.061, 'compound': -0.8215}"
      ]
     },
     "execution_count": 13,
     "metadata": {},
     "output_type": "execute_result"
    },
    {
     "data": {
      "text/plain": [
       "{'neg': 0.112, 'neu': 0.82, 'pos': 0.068, 'compound': -0.91}"
      ]
     },
     "execution_count": 13,
     "metadata": {},
     "output_type": "execute_result"
    },
    {
     "data": {
      "text/plain": [
       "{'neg': 0.067, 'neu': 0.83, 'pos': 0.103, 'compound': 0.836}"
      ]
     },
     "execution_count": 13,
     "metadata": {},
     "output_type": "execute_result"
    },
    {
     "data": {
      "text/plain": [
       "{'neg': 0.084, 'neu': 0.888, 'pos': 0.028, 'compound': -0.9709}"
      ]
     },
     "execution_count": 13,
     "metadata": {},
     "output_type": "execute_result"
    },
    {
     "data": {
      "text/plain": [
       "{'neg': 0.081, 'neu': 0.824, 'pos': 0.095, 'compound': 0.5574}"
      ]
     },
     "execution_count": 13,
     "metadata": {},
     "output_type": "execute_result"
    },
    {
     "data": {
      "text/plain": [
       "{'neg': 0.14, 'neu': 0.789, 'pos': 0.072, 'compound': -0.9565}"
      ]
     },
     "execution_count": 13,
     "metadata": {},
     "output_type": "execute_result"
    },
    {
     "data": {
      "text/plain": [
       "{'neg': 0.162, 'neu': 0.767, 'pos': 0.072, 'compound': -0.9371}"
      ]
     },
     "execution_count": 13,
     "metadata": {},
     "output_type": "execute_result"
    },
    {
     "data": {
      "text/plain": [
       "{'neg': 0.054, 'neu': 0.824, 'pos': 0.122, 'compound': 0.9696}"
      ]
     },
     "execution_count": 13,
     "metadata": {},
     "output_type": "execute_result"
    },
    {
     "data": {
      "text/plain": [
       "{'neg': 0.084, 'neu': 0.831, 'pos': 0.085, 'compound': 0.0439}"
      ]
     },
     "execution_count": 13,
     "metadata": {},
     "output_type": "execute_result"
    },
    {
     "data": {
      "text/plain": [
       "{'neg': 0.038, 'neu': 0.863, 'pos': 0.099, 'compound': 0.9678}"
      ]
     },
     "execution_count": 13,
     "metadata": {},
     "output_type": "execute_result"
    },
    {
     "data": {
      "text/plain": [
       "{'neg': 0.075, 'neu': 0.842, 'pos': 0.083, 'compound': 0.5994}"
      ]
     },
     "execution_count": 13,
     "metadata": {},
     "output_type": "execute_result"
    },
    {
     "data": {
      "text/plain": [
       "{'neg': 0.119, 'neu': 0.744, 'pos': 0.138, 'compound': 0.7351}"
      ]
     },
     "execution_count": 13,
     "metadata": {},
     "output_type": "execute_result"
    },
    {
     "data": {
      "text/plain": [
       "{'neg': 0.07, 'neu': 0.85, 'pos': 0.08, 'compound': 0.3897}"
      ]
     },
     "execution_count": 13,
     "metadata": {},
     "output_type": "execute_result"
    },
    {
     "data": {
      "text/plain": [
       "{'neg': 0.129, 'neu': 0.778, 'pos': 0.093, 'compound': -0.978}"
      ]
     },
     "execution_count": 13,
     "metadata": {},
     "output_type": "execute_result"
    },
    {
     "data": {
      "text/plain": [
       "{'neg': 0.011, 'neu': 0.811, 'pos': 0.178, 'compound': 0.996}"
      ]
     },
     "execution_count": 13,
     "metadata": {},
     "output_type": "execute_result"
    },
    {
     "data": {
      "text/plain": [
       "{'neg': 0.024, 'neu': 0.861, 'pos': 0.115, 'compound': 0.9948}"
      ]
     },
     "execution_count": 13,
     "metadata": {},
     "output_type": "execute_result"
    },
    {
     "data": {
      "text/plain": [
       "{'neg': 0.024, 'neu': 0.865, 'pos': 0.111, 'compound': 0.987}"
      ]
     },
     "execution_count": 13,
     "metadata": {},
     "output_type": "execute_result"
    },
    {
     "data": {
      "text/plain": [
       "{'neg': 0.174, 'neu': 0.747, 'pos': 0.079, 'compound': -0.9828}"
      ]
     },
     "execution_count": 13,
     "metadata": {},
     "output_type": "execute_result"
    },
    {
     "data": {
      "text/plain": [
       "{'neg': 0.206, 'neu': 0.728, 'pos': 0.067, 'compound': -0.9928}"
      ]
     },
     "execution_count": 13,
     "metadata": {},
     "output_type": "execute_result"
    },
    {
     "data": {
      "text/plain": [
       "{'neg': 0.186, 'neu': 0.744, 'pos': 0.07, 'compound': -0.9806}"
      ]
     },
     "execution_count": 13,
     "metadata": {},
     "output_type": "execute_result"
    },
    {
     "data": {
      "text/plain": [
       "{'neg': 0.155, 'neu': 0.775, 'pos': 0.069, 'compound': -0.9846}"
      ]
     },
     "execution_count": 13,
     "metadata": {},
     "output_type": "execute_result"
    },
    {
     "data": {
      "text/plain": [
       "{'neg': 0.171, 'neu': 0.757, 'pos': 0.072, 'compound': -0.9829}"
      ]
     },
     "execution_count": 13,
     "metadata": {},
     "output_type": "execute_result"
    },
    {
     "data": {
      "text/plain": [
       "{'neg': 0.177, 'neu': 0.743, 'pos': 0.08, 'compound': -0.9755}"
      ]
     },
     "execution_count": 13,
     "metadata": {},
     "output_type": "execute_result"
    },
    {
     "data": {
      "text/plain": [
       "{'neg': 0.083, 'neu': 0.823, 'pos': 0.095, 'compound': 0.5983}"
      ]
     },
     "execution_count": 13,
     "metadata": {},
     "output_type": "execute_result"
    },
    {
     "data": {
      "text/plain": [
       "{'neg': 0.127, 'neu': 0.803, 'pos': 0.07, 'compound': -0.9928}"
      ]
     },
     "execution_count": 13,
     "metadata": {},
     "output_type": "execute_result"
    },
    {
     "data": {
      "text/plain": [
       "{'neg': 0.095, 'neu': 0.808, 'pos': 0.097, 'compound': -0.6652}"
      ]
     },
     "execution_count": 13,
     "metadata": {},
     "output_type": "execute_result"
    },
    {
     "data": {
      "text/plain": [
       "{'neg': 0.064, 'neu': 0.802, 'pos': 0.134, 'compound': 0.9933}"
      ]
     },
     "execution_count": 13,
     "metadata": {},
     "output_type": "execute_result"
    },
    {
     "data": {
      "text/plain": [
       "{'neg': 0.019, 'neu': 0.928, 'pos': 0.053, 'compound': 0.871}"
      ]
     },
     "execution_count": 13,
     "metadata": {},
     "output_type": "execute_result"
    },
    {
     "data": {
      "text/plain": [
       "{'neg': 0.088, 'neu': 0.789, 'pos': 0.123, 'compound': 0.9661}"
      ]
     },
     "execution_count": 13,
     "metadata": {},
     "output_type": "execute_result"
    },
    {
     "data": {
      "text/plain": [
       "{'neg': 0.15, 'neu': 0.792, 'pos': 0.058, 'compound': -0.9919}"
      ]
     },
     "execution_count": 13,
     "metadata": {},
     "output_type": "execute_result"
    },
    {
     "data": {
      "text/plain": [
       "{'neg': 0.163, 'neu': 0.758, 'pos': 0.079, 'compound': -0.9931}"
      ]
     },
     "execution_count": 13,
     "metadata": {},
     "output_type": "execute_result"
    },
    {
     "data": {
      "text/plain": [
       "{'neg': 0.124, 'neu': 0.784, 'pos': 0.092, 'compound': -0.9878}"
      ]
     },
     "execution_count": 13,
     "metadata": {},
     "output_type": "execute_result"
    },
    {
     "data": {
      "text/plain": [
       "{'neg': 0.127, 'neu': 0.818, 'pos': 0.055, 'compound': -0.9996}"
      ]
     },
     "execution_count": 13,
     "metadata": {},
     "output_type": "execute_result"
    },
    {
     "data": {
      "text/plain": [
       "{'neg': 0.122, 'neu': 0.795, 'pos': 0.083, 'compound': -0.9834}"
      ]
     },
     "execution_count": 13,
     "metadata": {},
     "output_type": "execute_result"
    },
    {
     "data": {
      "text/plain": [
       "{'neg': 0.183, 'neu': 0.781, 'pos': 0.035, 'compound': -0.9962}"
      ]
     },
     "execution_count": 13,
     "metadata": {},
     "output_type": "execute_result"
    },
    {
     "data": {
      "text/plain": [
       "{'neg': 0.091, 'neu': 0.864, 'pos': 0.045, 'compound': -0.9977}"
      ]
     },
     "execution_count": 13,
     "metadata": {},
     "output_type": "execute_result"
    },
    {
     "data": {
      "text/plain": [
       "{'neg': 0.191, 'neu': 0.711, 'pos': 0.098, 'compound': -0.9964}"
      ]
     },
     "execution_count": 13,
     "metadata": {},
     "output_type": "execute_result"
    },
    {
     "data": {
      "text/plain": [
       "{'neg': 0.147, 'neu': 0.806, 'pos': 0.047, 'compound': -0.9817}"
      ]
     },
     "execution_count": 13,
     "metadata": {},
     "output_type": "execute_result"
    },
    {
     "data": {
      "text/plain": [
       "{'neg': 0.158, 'neu': 0.809, 'pos': 0.033, 'compound': -0.9853}"
      ]
     },
     "execution_count": 13,
     "metadata": {},
     "output_type": "execute_result"
    },
    {
     "data": {
      "text/plain": [
       "{'neg': 0.111, 'neu': 0.795, 'pos': 0.094, 'compound': -0.8944}"
      ]
     },
     "execution_count": 13,
     "metadata": {},
     "output_type": "execute_result"
    },
    {
     "data": {
      "text/plain": [
       "{'neg': 0.096, 'neu': 0.792, 'pos': 0.112, 'compound': 0.1868}"
      ]
     },
     "execution_count": 13,
     "metadata": {},
     "output_type": "execute_result"
    },
    {
     "data": {
      "text/plain": [
       "{'neg': 0.201, 'neu': 0.742, 'pos': 0.057, 'compound': -0.9872}"
      ]
     },
     "execution_count": 13,
     "metadata": {},
     "output_type": "execute_result"
    },
    {
     "data": {
      "text/plain": [
       "{'neg': 0.139, 'neu': 0.774, 'pos': 0.088, 'compound': -0.9738}"
      ]
     },
     "execution_count": 13,
     "metadata": {},
     "output_type": "execute_result"
    },
    {
     "data": {
      "text/plain": [
       "{'neg': 0.272, 'neu': 0.638, 'pos': 0.09, 'compound': -0.9974}"
      ]
     },
     "execution_count": 13,
     "metadata": {},
     "output_type": "execute_result"
    },
    {
     "data": {
      "text/plain": [
       "{'neg': 0.202, 'neu': 0.727, 'pos': 0.071, 'compound': -0.9939}"
      ]
     },
     "execution_count": 13,
     "metadata": {},
     "output_type": "execute_result"
    },
    {
     "data": {
      "text/plain": [
       "{'neg': 0.118, 'neu': 0.818, 'pos': 0.064, 'compound': -0.9656}"
      ]
     },
     "execution_count": 13,
     "metadata": {},
     "output_type": "execute_result"
    },
    {
     "data": {
      "text/plain": [
       "{'neg': 0.123, 'neu': 0.762, 'pos': 0.115, 'compound': -0.7351}"
      ]
     },
     "execution_count": 13,
     "metadata": {},
     "output_type": "execute_result"
    },
    {
     "data": {
      "text/plain": [
       "{'neg': 0.103, 'neu': 0.814, 'pos': 0.083, 'compound': -0.6808}"
      ]
     },
     "execution_count": 13,
     "metadata": {},
     "output_type": "execute_result"
    },
    {
     "data": {
      "text/plain": [
       "{'neg': 0.128, 'neu': 0.777, 'pos': 0.094, 'compound': -0.9919}"
      ]
     },
     "execution_count": 13,
     "metadata": {},
     "output_type": "execute_result"
    },
    {
     "data": {
      "text/plain": [
       "{'neg': 0.202, 'neu': 0.705, 'pos': 0.092, 'compound': -0.9891}"
      ]
     },
     "execution_count": 13,
     "metadata": {},
     "output_type": "execute_result"
    },
    {
     "data": {
      "text/plain": [
       "{'neg': 0.166, 'neu': 0.787, 'pos': 0.047, 'compound': -0.9929}"
      ]
     },
     "execution_count": 13,
     "metadata": {},
     "output_type": "execute_result"
    },
    {
     "data": {
      "text/plain": [
       "{'neg': 0.155, 'neu': 0.798, 'pos': 0.047, 'compound': -0.9816}"
      ]
     },
     "execution_count": 13,
     "metadata": {},
     "output_type": "execute_result"
    },
    {
     "data": {
      "text/plain": [
       "{'neg': 0.092, 'neu': 0.833, 'pos': 0.075, 'compound': -0.6249}"
      ]
     },
     "execution_count": 13,
     "metadata": {},
     "output_type": "execute_result"
    },
    {
     "data": {
      "text/plain": [
       "{'neg': 0.161, 'neu': 0.779, 'pos': 0.06, 'compound': -0.9956}"
      ]
     },
     "execution_count": 13,
     "metadata": {},
     "output_type": "execute_result"
    },
    {
     "data": {
      "text/plain": [
       "{'neg': 0.161, 'neu': 0.809, 'pos': 0.031, 'compound': -0.9974}"
      ]
     },
     "execution_count": 13,
     "metadata": {},
     "output_type": "execute_result"
    },
    {
     "data": {
      "text/plain": [
       "{'neg': 0.129, 'neu': 0.805, 'pos': 0.066, 'compound': -0.9579}"
      ]
     },
     "execution_count": 13,
     "metadata": {},
     "output_type": "execute_result"
    },
    {
     "data": {
      "text/plain": [
       "{'neg': 0.152, 'neu': 0.745, 'pos': 0.102, 'compound': -0.9431}"
      ]
     },
     "execution_count": 13,
     "metadata": {},
     "output_type": "execute_result"
    },
    {
     "data": {
      "text/plain": [
       "{'neg': 0.126, 'neu': 0.768, 'pos': 0.106, 'compound': -0.9305}"
      ]
     },
     "execution_count": 13,
     "metadata": {},
     "output_type": "execute_result"
    },
    {
     "data": {
      "text/plain": [
       "{'neg': 0.146, 'neu': 0.762, 'pos': 0.092, 'compound': -0.9543}"
      ]
     },
     "execution_count": 13,
     "metadata": {},
     "output_type": "execute_result"
    },
    {
     "data": {
      "text/plain": [
       "{'neg': 0.105, 'neu': 0.831, 'pos': 0.064, 'compound': -0.9081}"
      ]
     },
     "execution_count": 13,
     "metadata": {},
     "output_type": "execute_result"
    },
    {
     "data": {
      "text/plain": [
       "{'neg': 0.148, 'neu': 0.77, 'pos': 0.082, 'compound': -0.9524}"
      ]
     },
     "execution_count": 13,
     "metadata": {},
     "output_type": "execute_result"
    },
    {
     "data": {
      "text/plain": [
       "{'neg': 0.246, 'neu': 0.722, 'pos': 0.032, 'compound': -0.9889}"
      ]
     },
     "execution_count": 13,
     "metadata": {},
     "output_type": "execute_result"
    },
    {
     "data": {
      "text/plain": [
       "{'neg': 0.152, 'neu': 0.798, 'pos': 0.05, 'compound': -0.9797}"
      ]
     },
     "execution_count": 13,
     "metadata": {},
     "output_type": "execute_result"
    },
    {
     "data": {
      "text/plain": [
       "{'neg': 0.166, 'neu': 0.758, 'pos': 0.076, 'compound': -0.9859}"
      ]
     },
     "execution_count": 13,
     "metadata": {},
     "output_type": "execute_result"
    },
    {
     "data": {
      "text/plain": [
       "{'neg': 0.136, 'neu': 0.753, 'pos': 0.112, 'compound': -0.8248}"
      ]
     },
     "execution_count": 13,
     "metadata": {},
     "output_type": "execute_result"
    },
    {
     "data": {
      "text/plain": [
       "{'neg': 0.148, 'neu': 0.752, 'pos': 0.1, 'compound': -0.9267}"
      ]
     },
     "execution_count": 13,
     "metadata": {},
     "output_type": "execute_result"
    },
    {
     "data": {
      "text/plain": [
       "{'neg': 0.194, 'neu': 0.731, 'pos': 0.075, 'compound': -0.9627}"
      ]
     },
     "execution_count": 13,
     "metadata": {},
     "output_type": "execute_result"
    },
    {
     "data": {
      "text/plain": [
       "{'neg': 0.15, 'neu': 0.794, 'pos': 0.056, 'compound': -0.9928}"
      ]
     },
     "execution_count": 13,
     "metadata": {},
     "output_type": "execute_result"
    },
    {
     "data": {
      "text/plain": [
       "{'neg': 0.196, 'neu': 0.771, 'pos': 0.033, 'compound': -0.9852}"
      ]
     },
     "execution_count": 13,
     "metadata": {},
     "output_type": "execute_result"
    },
    {
     "data": {
      "text/plain": [
       "{'neg': 0.185, 'neu': 0.777, 'pos': 0.037, 'compound': -0.998}"
      ]
     },
     "execution_count": 13,
     "metadata": {},
     "output_type": "execute_result"
    },
    {
     "data": {
      "text/plain": [
       "{'neg': 0.118, 'neu': 0.794, 'pos': 0.088, 'compound': -0.8462}"
      ]
     },
     "execution_count": 13,
     "metadata": {},
     "output_type": "execute_result"
    },
    {
     "data": {
      "text/plain": [
       "{'neg': 0.089, 'neu': 0.865, 'pos': 0.045, 'compound': -0.9712}"
      ]
     },
     "execution_count": 13,
     "metadata": {},
     "output_type": "execute_result"
    },
    {
     "data": {
      "text/plain": [
       "{'neg': 0.093, 'neu': 0.817, 'pos': 0.09, 'compound': -0.4404}"
      ]
     },
     "execution_count": 13,
     "metadata": {},
     "output_type": "execute_result"
    },
    {
     "data": {
      "text/plain": [
       "{'neg': 0.128, 'neu': 0.816, 'pos': 0.056, 'compound': -0.9772}"
      ]
     },
     "execution_count": 13,
     "metadata": {},
     "output_type": "execute_result"
    },
    {
     "data": {
      "text/plain": [
       "{'neg': 0.111, 'neu': 0.816, 'pos': 0.073, 'compound': -0.875}"
      ]
     },
     "execution_count": 13,
     "metadata": {},
     "output_type": "execute_result"
    },
    {
     "data": {
      "text/plain": [
       "{'neg': 0.105, 'neu': 0.816, 'pos': 0.079, 'compound': -0.8591}"
      ]
     },
     "execution_count": 13,
     "metadata": {},
     "output_type": "execute_result"
    },
    {
     "data": {
      "text/plain": [
       "{'neg': 0.196, 'neu': 0.738, 'pos': 0.067, 'compound': -0.9955}"
      ]
     },
     "execution_count": 13,
     "metadata": {},
     "output_type": "execute_result"
    },
    {
     "data": {
      "text/plain": [
       "{'neg': 0.119, 'neu': 0.834, 'pos': 0.047, 'compound': -0.9681}"
      ]
     },
     "execution_count": 13,
     "metadata": {},
     "output_type": "execute_result"
    },
    {
     "data": {
      "text/plain": [
       "{'neg': 0.123, 'neu': 0.791, 'pos': 0.086, 'compound': -0.8316}"
      ]
     },
     "execution_count": 13,
     "metadata": {},
     "output_type": "execute_result"
    },
    {
     "data": {
      "text/plain": [
       "{'neg': 0.146, 'neu': 0.812, 'pos': 0.042, 'compound': -0.9885}"
      ]
     },
     "execution_count": 13,
     "metadata": {},
     "output_type": "execute_result"
    },
    {
     "data": {
      "text/plain": [
       "{'neg': 0.135, 'neu': 0.781, 'pos': 0.084, 'compound': -0.9328}"
      ]
     },
     "execution_count": 13,
     "metadata": {},
     "output_type": "execute_result"
    },
    {
     "data": {
      "text/plain": [
       "{'neg': 0.123, 'neu': 0.823, 'pos': 0.053, 'compound': -0.984}"
      ]
     },
     "execution_count": 13,
     "metadata": {},
     "output_type": "execute_result"
    },
    {
     "data": {
      "text/plain": [
       "{'neg': 0.149, 'neu': 0.776, 'pos': 0.075, 'compound': -0.9887}"
      ]
     },
     "execution_count": 13,
     "metadata": {},
     "output_type": "execute_result"
    },
    {
     "data": {
      "text/plain": [
       "{'neg': 0.208, 'neu': 0.754, 'pos': 0.038, 'compound': -0.9956}"
      ]
     },
     "execution_count": 13,
     "metadata": {},
     "output_type": "execute_result"
    },
    {
     "data": {
      "text/plain": [
       "{'neg': 0.109, 'neu': 0.871, 'pos': 0.02, 'compound': -0.9833}"
      ]
     },
     "execution_count": 13,
     "metadata": {},
     "output_type": "execute_result"
    },
    {
     "data": {
      "text/plain": [
       "{'neg': 0.125, 'neu': 0.81, 'pos': 0.065, 'compound': -0.9081}"
      ]
     },
     "execution_count": 13,
     "metadata": {},
     "output_type": "execute_result"
    },
    {
     "data": {
      "text/plain": [
       "{'neg': 0.107, 'neu': 0.817, 'pos': 0.075, 'compound': -0.882}"
      ]
     },
     "execution_count": 13,
     "metadata": {},
     "output_type": "execute_result"
    },
    {
     "data": {
      "text/plain": [
       "{'neg': 0.162, 'neu': 0.742, 'pos': 0.097, 'compound': -0.9873}"
      ]
     },
     "execution_count": 13,
     "metadata": {},
     "output_type": "execute_result"
    },
    {
     "data": {
      "text/plain": [
       "{'neg': 0.118, 'neu': 0.824, 'pos': 0.058, 'compound': -0.9637}"
      ]
     },
     "execution_count": 13,
     "metadata": {},
     "output_type": "execute_result"
    },
    {
     "data": {
      "text/plain": [
       "{'neg': 0.091, 'neu': 0.835, 'pos': 0.073, 'compound': -0.5405}"
      ]
     },
     "execution_count": 13,
     "metadata": {},
     "output_type": "execute_result"
    },
    {
     "data": {
      "text/plain": [
       "{'neg': 0.132, 'neu': 0.739, 'pos': 0.128, 'compound': 0.3291}"
      ]
     },
     "execution_count": 13,
     "metadata": {},
     "output_type": "execute_result"
    },
    {
     "data": {
      "text/plain": [
       "{'neg': 0.113, 'neu': 0.759, 'pos': 0.128, 'compound': 0.6486}"
      ]
     },
     "execution_count": 13,
     "metadata": {},
     "output_type": "execute_result"
    },
    {
     "data": {
      "text/plain": [
       "{'neg': 0.138, 'neu': 0.787, 'pos': 0.074, 'compound': -0.9477}"
      ]
     },
     "execution_count": 13,
     "metadata": {},
     "output_type": "execute_result"
    },
    {
     "data": {
      "text/plain": [
       "{'neg': 0.102, 'neu': 0.81, 'pos': 0.087, 'compound': -0.8126}"
      ]
     },
     "execution_count": 13,
     "metadata": {},
     "output_type": "execute_result"
    },
    {
     "data": {
      "text/plain": [
       "{'neg': 0.174, 'neu': 0.785, 'pos': 0.041, 'compound': -0.9873}"
      ]
     },
     "execution_count": 13,
     "metadata": {},
     "output_type": "execute_result"
    },
    {
     "data": {
      "text/plain": [
       "{'neg': 0.115, 'neu': 0.844, 'pos': 0.041, 'compound': -0.9477}"
      ]
     },
     "execution_count": 13,
     "metadata": {},
     "output_type": "execute_result"
    },
    {
     "data": {
      "text/plain": [
       "{'neg': 0.19, 'neu': 0.719, 'pos': 0.091, 'compound': -0.9958}"
      ]
     },
     "execution_count": 13,
     "metadata": {},
     "output_type": "execute_result"
    },
    {
     "data": {
      "text/plain": [
       "{'neg': 0.149, 'neu': 0.797, 'pos': 0.054, 'compound': -0.9938}"
      ]
     },
     "execution_count": 13,
     "metadata": {},
     "output_type": "execute_result"
    },
    {
     "data": {
      "text/plain": [
       "{'neg': 0.101, 'neu': 0.841, 'pos': 0.059, 'compound': -0.9304}"
      ]
     },
     "execution_count": 13,
     "metadata": {},
     "output_type": "execute_result"
    },
    {
     "data": {
      "text/plain": [
       "{'neg': 0.192, 'neu': 0.761, 'pos': 0.047, 'compound': -0.975}"
      ]
     },
     "execution_count": 13,
     "metadata": {},
     "output_type": "execute_result"
    },
    {
     "data": {
      "text/plain": [
       "{'neg': 0.184, 'neu': 0.768, 'pos': 0.048, 'compound': -0.9938}"
      ]
     },
     "execution_count": 13,
     "metadata": {},
     "output_type": "execute_result"
    },
    {
     "data": {
      "text/plain": [
       "{'neg': 0.129, 'neu': 0.766, 'pos': 0.105, 'compound': -0.5994}"
      ]
     },
     "execution_count": 13,
     "metadata": {},
     "output_type": "execute_result"
    },
    {
     "data": {
      "text/plain": [
       "{'neg': 0.113, 'neu': 0.809, 'pos': 0.078, 'compound': -0.8658}"
      ]
     },
     "execution_count": 13,
     "metadata": {},
     "output_type": "execute_result"
    },
    {
     "data": {
      "text/plain": [
       "{'neg': 0.19, 'neu': 0.723, 'pos': 0.087, 'compound': -0.9919}"
      ]
     },
     "execution_count": 13,
     "metadata": {},
     "output_type": "execute_result"
    },
    {
     "data": {
      "text/plain": [
       "{'neg': 0.091, 'neu': 0.843, 'pos': 0.067, 'compound': -0.9207}"
      ]
     },
     "execution_count": 13,
     "metadata": {},
     "output_type": "execute_result"
    },
    {
     "data": {
      "text/plain": [
       "{'neg': 0.164, 'neu': 0.757, 'pos': 0.079, 'compound': -0.9646}"
      ]
     },
     "execution_count": 13,
     "metadata": {},
     "output_type": "execute_result"
    },
    {
     "data": {
      "text/plain": [
       "{'neg': 0.091, 'neu': 0.765, 'pos': 0.143, 'compound': 0.9903}"
      ]
     },
     "execution_count": 13,
     "metadata": {},
     "output_type": "execute_result"
    },
    {
     "data": {
      "text/plain": [
       "{'neg': 0.164, 'neu': 0.792, 'pos': 0.044, 'compound': -0.9898}"
      ]
     },
     "execution_count": 13,
     "metadata": {},
     "output_type": "execute_result"
    },
    {
     "data": {
      "text/plain": [
       "{'neg': 0.126, 'neu': 0.827, 'pos': 0.047, 'compound': -0.9882}"
      ]
     },
     "execution_count": 13,
     "metadata": {},
     "output_type": "execute_result"
    },
    {
     "data": {
      "text/plain": [
       "{'neg': 0.201, 'neu': 0.756, 'pos': 0.043, 'compound': -0.9877}"
      ]
     },
     "execution_count": 13,
     "metadata": {},
     "output_type": "execute_result"
    },
    {
     "data": {
      "text/plain": [
       "{'neg': 0.171, 'neu': 0.788, 'pos': 0.042, 'compound': -0.9958}"
      ]
     },
     "execution_count": 13,
     "metadata": {},
     "output_type": "execute_result"
    },
    {
     "data": {
      "text/plain": [
       "{'neg': 0.148, 'neu': 0.793, 'pos': 0.059, 'compound': -0.9965}"
      ]
     },
     "execution_count": 13,
     "metadata": {},
     "output_type": "execute_result"
    },
    {
     "data": {
      "text/plain": [
       "{'neg': 0.183, 'neu': 0.762, 'pos': 0.055, 'compound': -0.9839}"
      ]
     },
     "execution_count": 13,
     "metadata": {},
     "output_type": "execute_result"
    },
    {
     "data": {
      "text/plain": [
       "{'neg': 0.113, 'neu': 0.817, 'pos': 0.07, 'compound': -0.9777}"
      ]
     },
     "execution_count": 13,
     "metadata": {},
     "output_type": "execute_result"
    },
    {
     "data": {
      "text/plain": [
       "{'neg': 0.117, 'neu': 0.811, 'pos': 0.072, 'compound': -0.9849}"
      ]
     },
     "execution_count": 13,
     "metadata": {},
     "output_type": "execute_result"
    },
    {
     "data": {
      "text/plain": [
       "{'neg': 0.149, 'neu': 0.777, 'pos': 0.074, 'compound': -0.9956}"
      ]
     },
     "execution_count": 13,
     "metadata": {},
     "output_type": "execute_result"
    },
    {
     "data": {
      "text/plain": [
       "{'neg': 0.213, 'neu': 0.721, 'pos': 0.066, 'compound': -0.9988}"
      ]
     },
     "execution_count": 13,
     "metadata": {},
     "output_type": "execute_result"
    },
    {
     "data": {
      "text/plain": [
       "{'neg': 0.171, 'neu': 0.764, 'pos': 0.066, 'compound': -0.9972}"
      ]
     },
     "execution_count": 13,
     "metadata": {},
     "output_type": "execute_result"
    },
    {
     "data": {
      "text/plain": [
       "{'neg': 0.157, 'neu': 0.806, 'pos': 0.037, 'compound': -0.9913}"
      ]
     },
     "execution_count": 13,
     "metadata": {},
     "output_type": "execute_result"
    },
    {
     "data": {
      "text/plain": [
       "{'neg': 0.129, 'neu': 0.77, 'pos': 0.101, 'compound': -0.9225}"
      ]
     },
     "execution_count": 13,
     "metadata": {},
     "output_type": "execute_result"
    },
    {
     "data": {
      "text/plain": [
       "{'neg': 0.14, 'neu': 0.809, 'pos': 0.051, 'compound': -0.9844}"
      ]
     },
     "execution_count": 13,
     "metadata": {},
     "output_type": "execute_result"
    },
    {
     "data": {
      "text/plain": [
       "{'neg': 0.084, 'neu': 0.807, 'pos': 0.108, 'compound': 0.4588}"
      ]
     },
     "execution_count": 13,
     "metadata": {},
     "output_type": "execute_result"
    },
    {
     "data": {
      "text/plain": [
       "{'neg': 0.085, 'neu': 0.819, 'pos': 0.096, 'compound': 0.128}"
      ]
     },
     "execution_count": 13,
     "metadata": {},
     "output_type": "execute_result"
    },
    {
     "data": {
      "text/plain": [
       "{'neg': 0.216, 'neu': 0.693, 'pos': 0.091, 'compound': -0.9913}"
      ]
     },
     "execution_count": 13,
     "metadata": {},
     "output_type": "execute_result"
    },
    {
     "data": {
      "text/plain": [
       "{'neg': 0.111, 'neu': 0.846, 'pos': 0.043, 'compound': -0.9201}"
      ]
     },
     "execution_count": 13,
     "metadata": {},
     "output_type": "execute_result"
    },
    {
     "data": {
      "text/plain": [
       "{'neg': 0.115, 'neu': 0.819, 'pos': 0.067, 'compound': -0.9403}"
      ]
     },
     "execution_count": 13,
     "metadata": {},
     "output_type": "execute_result"
    },
    {
     "data": {
      "text/plain": [
       "{'neg': 0.093, 'neu': 0.821, 'pos': 0.085, 'compound': -0.5994}"
      ]
     },
     "execution_count": 13,
     "metadata": {},
     "output_type": "execute_result"
    },
    {
     "data": {
      "text/plain": [
       "{'neg': 0.106, 'neu': 0.851, 'pos': 0.044, 'compound': -0.9552}"
      ]
     },
     "execution_count": 13,
     "metadata": {},
     "output_type": "execute_result"
    },
    {
     "data": {
      "text/plain": [
       "{'neg': 0.093, 'neu': 0.824, 'pos': 0.083, 'compound': -0.802}"
      ]
     },
     "execution_count": 13,
     "metadata": {},
     "output_type": "execute_result"
    },
    {
     "data": {
      "text/plain": [
       "{'neg': 0.144, 'neu': 0.787, 'pos': 0.068, 'compound': -0.9732}"
      ]
     },
     "execution_count": 13,
     "metadata": {},
     "output_type": "execute_result"
    },
    {
     "data": {
      "text/plain": [
       "{'neg': 0.159, 'neu': 0.73, 'pos': 0.111, 'compound': -0.9509}"
      ]
     },
     "execution_count": 13,
     "metadata": {},
     "output_type": "execute_result"
    },
    {
     "data": {
      "text/plain": [
       "{'neg': 0.197, 'neu': 0.756, 'pos': 0.047, 'compound': -0.9959}"
      ]
     },
     "execution_count": 13,
     "metadata": {},
     "output_type": "execute_result"
    },
    {
     "data": {
      "text/plain": [
       "{'neg': 0.158, 'neu': 0.745, 'pos': 0.097, 'compound': -0.9746}"
      ]
     },
     "execution_count": 13,
     "metadata": {},
     "output_type": "execute_result"
    },
    {
     "data": {
      "text/plain": [
       "{'neg': 0.184, 'neu': 0.751, 'pos': 0.065, 'compound': -0.9976}"
      ]
     },
     "execution_count": 13,
     "metadata": {},
     "output_type": "execute_result"
    },
    {
     "data": {
      "text/plain": [
       "{'neg': 0.157, 'neu': 0.764, 'pos': 0.079, 'compound': -0.9905}"
      ]
     },
     "execution_count": 13,
     "metadata": {},
     "output_type": "execute_result"
    },
    {
     "data": {
      "text/plain": [
       "{'neg': 0.193, 'neu': 0.735, 'pos': 0.072, 'compound': -0.9981}"
      ]
     },
     "execution_count": 13,
     "metadata": {},
     "output_type": "execute_result"
    },
    {
     "data": {
      "text/plain": [
       "{'neg': 0.216, 'neu': 0.73, 'pos': 0.054, 'compound': -0.9885}"
      ]
     },
     "execution_count": 13,
     "metadata": {},
     "output_type": "execute_result"
    },
    {
     "data": {
      "text/plain": [
       "{'neg': 0.214, 'neu': 0.681, 'pos': 0.105, 'compound': -0.9958}"
      ]
     },
     "execution_count": 13,
     "metadata": {},
     "output_type": "execute_result"
    },
    {
     "data": {
      "text/plain": [
       "{'neg': 0.231, 'neu': 0.721, 'pos': 0.048, 'compound': -0.9973}"
      ]
     },
     "execution_count": 13,
     "metadata": {},
     "output_type": "execute_result"
    },
    {
     "data": {
      "text/plain": [
       "{'neg': 0.259, 'neu': 0.697, 'pos': 0.045, 'compound': -0.998}"
      ]
     },
     "execution_count": 13,
     "metadata": {},
     "output_type": "execute_result"
    },
    {
     "data": {
      "text/plain": [
       "{'neg': 0.151, 'neu': 0.772, 'pos': 0.077, 'compound': -0.9853}"
      ]
     },
     "execution_count": 13,
     "metadata": {},
     "output_type": "execute_result"
    },
    {
     "data": {
      "text/plain": [
       "{'neg': 0.126, 'neu': 0.786, 'pos': 0.088, 'compound': -0.9434}"
      ]
     },
     "execution_count": 13,
     "metadata": {},
     "output_type": "execute_result"
    },
    {
     "data": {
      "text/plain": [
       "{'neg': 0.095, 'neu': 0.831, 'pos': 0.075, 'compound': -0.8481}"
      ]
     },
     "execution_count": 13,
     "metadata": {},
     "output_type": "execute_result"
    },
    {
     "data": {
      "text/plain": [
       "{'neg': 0.097, 'neu': 0.814, 'pos': 0.089, 'compound': -0.296}"
      ]
     },
     "execution_count": 13,
     "metadata": {},
     "output_type": "execute_result"
    },
    {
     "data": {
      "text/plain": [
       "{'neg': 0.189, 'neu': 0.806, 'pos': 0.005, 'compound': -0.9955}"
      ]
     },
     "execution_count": 13,
     "metadata": {},
     "output_type": "execute_result"
    },
    {
     "data": {
      "text/plain": [
       "{'neg': 0.084, 'neu': 0.788, 'pos': 0.128, 'compound': 0.9438}"
      ]
     },
     "execution_count": 13,
     "metadata": {},
     "output_type": "execute_result"
    },
    {
     "data": {
      "text/plain": [
       "{'neg': 0.24, 'neu': 0.723, 'pos': 0.037, 'compound': -0.9961}"
      ]
     },
     "execution_count": 13,
     "metadata": {},
     "output_type": "execute_result"
    },
    {
     "data": {
      "text/plain": [
       "{'neg': 0.218, 'neu': 0.753, 'pos': 0.029, 'compound': -0.9905}"
      ]
     },
     "execution_count": 13,
     "metadata": {},
     "output_type": "execute_result"
    },
    {
     "data": {
      "text/plain": [
       "{'neg': 0.224, 'neu': 0.689, 'pos': 0.087, 'compound': -0.9906}"
      ]
     },
     "execution_count": 13,
     "metadata": {},
     "output_type": "execute_result"
    },
    {
     "data": {
      "text/plain": [
       "{'neg': 0.21, 'neu': 0.715, 'pos': 0.075, 'compound': -0.9871}"
      ]
     },
     "execution_count": 13,
     "metadata": {},
     "output_type": "execute_result"
    },
    {
     "data": {
      "text/plain": [
       "{'neg': 0.19, 'neu': 0.782, 'pos': 0.028, 'compound': -0.9921}"
      ]
     },
     "execution_count": 13,
     "metadata": {},
     "output_type": "execute_result"
    },
    {
     "data": {
      "text/plain": [
       "{'neg': 0.184, 'neu': 0.788, 'pos': 0.028, 'compound': -0.9906}"
      ]
     },
     "execution_count": 13,
     "metadata": {},
     "output_type": "execute_result"
    },
    {
     "data": {
      "text/plain": [
       "{'neg': 0.224, 'neu': 0.73, 'pos': 0.046, 'compound': -0.9917}"
      ]
     },
     "execution_count": 13,
     "metadata": {},
     "output_type": "execute_result"
    },
    {
     "data": {
      "text/plain": [
       "{'neg': 0.125, 'neu': 0.809, 'pos': 0.065, 'compound': -0.9432}"
      ]
     },
     "execution_count": 13,
     "metadata": {},
     "output_type": "execute_result"
    },
    {
     "data": {
      "text/plain": [
       "{'neg': 0.156, 'neu': 0.782, 'pos': 0.061, 'compound': -0.9869}"
      ]
     },
     "execution_count": 13,
     "metadata": {},
     "output_type": "execute_result"
    },
    {
     "data": {
      "text/plain": [
       "{'neg': 0.093, 'neu': 0.831, 'pos': 0.076, 'compound': -0.5859}"
      ]
     },
     "execution_count": 13,
     "metadata": {},
     "output_type": "execute_result"
    },
    {
     "data": {
      "text/plain": [
       "{'neg': 0.188, 'neu': 0.766, 'pos': 0.047, 'compound': -0.9623}"
      ]
     },
     "execution_count": 13,
     "metadata": {},
     "output_type": "execute_result"
    },
    {
     "data": {
      "text/plain": [
       "{'neg': 0.222, 'neu': 0.748, 'pos': 0.03, 'compound': -0.9938}"
      ]
     },
     "execution_count": 13,
     "metadata": {},
     "output_type": "execute_result"
    },
    {
     "data": {
      "text/plain": [
       "{'neg': 0.15, 'neu': 0.723, 'pos': 0.127, 'compound': -0.9392}"
      ]
     },
     "execution_count": 13,
     "metadata": {},
     "output_type": "execute_result"
    },
    {
     "data": {
      "text/plain": [
       "{'neg': 0.114, 'neu': 0.789, 'pos': 0.097, 'compound': -0.791}"
      ]
     },
     "execution_count": 13,
     "metadata": {},
     "output_type": "execute_result"
    },
    {
     "data": {
      "text/plain": [
       "{'neg': 0.139, 'neu': 0.742, 'pos': 0.12, 'compound': -0.6512}"
      ]
     },
     "execution_count": 13,
     "metadata": {},
     "output_type": "execute_result"
    },
    {
     "data": {
      "text/plain": [
       "{'neg': 0.125, 'neu': 0.806, 'pos': 0.07, 'compound': -0.9001}"
      ]
     },
     "execution_count": 13,
     "metadata": {},
     "output_type": "execute_result"
    },
    {
     "data": {
      "text/plain": [
       "{'neg': 0.216, 'neu': 0.741, 'pos': 0.043, 'compound': -0.9928}"
      ]
     },
     "execution_count": 13,
     "metadata": {},
     "output_type": "execute_result"
    },
    {
     "data": {
      "text/plain": [
       "{'neg': 0.115, 'neu': 0.8, 'pos': 0.086, 'compound': -0.9705}"
      ]
     },
     "execution_count": 13,
     "metadata": {},
     "output_type": "execute_result"
    },
    {
     "data": {
      "text/plain": [
       "{'neg': 0.153, 'neu': 0.767, 'pos': 0.08, 'compound': -0.9349}"
      ]
     },
     "execution_count": 13,
     "metadata": {},
     "output_type": "execute_result"
    },
    {
     "data": {
      "text/plain": [
       "{'neg': 0.193, 'neu': 0.728, 'pos': 0.08, 'compound': -0.9957}"
      ]
     },
     "execution_count": 13,
     "metadata": {},
     "output_type": "execute_result"
    },
    {
     "data": {
      "text/plain": [
       "{'neg': 0.165, 'neu': 0.768, 'pos': 0.067, 'compound': -0.9977}"
      ]
     },
     "execution_count": 13,
     "metadata": {},
     "output_type": "execute_result"
    },
    {
     "data": {
      "text/plain": [
       "{'neg': 0.183, 'neu': 0.76, 'pos': 0.058, 'compound': -0.9932}"
      ]
     },
     "execution_count": 13,
     "metadata": {},
     "output_type": "execute_result"
    },
    {
     "data": {
      "text/plain": [
       "{'neg': 0.167, 'neu': 0.766, 'pos': 0.067, 'compound': -0.9833}"
      ]
     },
     "execution_count": 13,
     "metadata": {},
     "output_type": "execute_result"
    },
    {
     "data": {
      "text/plain": [
       "{'neg': 0.183, 'neu': 0.725, 'pos': 0.092, 'compound': -0.996}"
      ]
     },
     "execution_count": 13,
     "metadata": {},
     "output_type": "execute_result"
    },
    {
     "data": {
      "text/plain": [
       "{'neg': 0.037, 'neu': 0.835, 'pos': 0.128, 'compound': 0.9934}"
      ]
     },
     "execution_count": 13,
     "metadata": {},
     "output_type": "execute_result"
    },
    {
     "data": {
      "text/plain": [
       "{'neg': 0.07, 'neu': 0.769, 'pos': 0.162, 'compound': 0.989}"
      ]
     },
     "execution_count": 13,
     "metadata": {},
     "output_type": "execute_result"
    },
    {
     "data": {
      "text/plain": [
       "{'neg': 0.042, 'neu': 0.845, 'pos': 0.113, 'compound': 0.9842}"
      ]
     },
     "execution_count": 13,
     "metadata": {},
     "output_type": "execute_result"
    },
    {
     "data": {
      "text/plain": [
       "{'neg': 0.051, 'neu': 0.778, 'pos': 0.171, 'compound': 0.9926}"
      ]
     },
     "execution_count": 13,
     "metadata": {},
     "output_type": "execute_result"
    },
    {
     "data": {
      "text/plain": [
       "{'neg': 0.069, 'neu': 0.827, 'pos': 0.105, 'compound': 0.9414}"
      ]
     },
     "execution_count": 13,
     "metadata": {},
     "output_type": "execute_result"
    },
    {
     "data": {
      "text/plain": [
       "{'neg': 0.06, 'neu': 0.875, 'pos': 0.065, 'compound': 0.2023}"
      ]
     },
     "execution_count": 13,
     "metadata": {},
     "output_type": "execute_result"
    },
    {
     "data": {
      "text/plain": [
       "{'neg': 0.087, 'neu': 0.787, 'pos': 0.125, 'compound': 0.9914}"
      ]
     },
     "execution_count": 13,
     "metadata": {},
     "output_type": "execute_result"
    },
    {
     "data": {
      "text/plain": [
       "{'neg': 0.053, 'neu': 0.832, 'pos': 0.115, 'compound': 0.9963}"
      ]
     },
     "execution_count": 13,
     "metadata": {},
     "output_type": "execute_result"
    },
    {
     "data": {
      "text/plain": [
       "{'neg': 0.072, 'neu': 0.807, 'pos': 0.12, 'compound': 0.9651}"
      ]
     },
     "execution_count": 13,
     "metadata": {},
     "output_type": "execute_result"
    },
    {
     "data": {
      "text/plain": [
       "{'neg': 0.019, 'neu': 0.861, 'pos': 0.119, 'compound': 0.988}"
      ]
     },
     "execution_count": 13,
     "metadata": {},
     "output_type": "execute_result"
    },
    {
     "data": {
      "text/plain": [
       "{'neg': 0.062, 'neu': 0.826, 'pos': 0.112, 'compound': 0.9559}"
      ]
     },
     "execution_count": 13,
     "metadata": {},
     "output_type": "execute_result"
    },
    {
     "data": {
      "text/plain": [
       "{'neg': 0.054, 'neu': 0.834, 'pos': 0.113, 'compound': 0.9712}"
      ]
     },
     "execution_count": 13,
     "metadata": {},
     "output_type": "execute_result"
    },
    {
     "data": {
      "text/plain": [
       "{'neg': 0.031, 'neu': 0.89, 'pos': 0.079, 'compound': 0.9592}"
      ]
     },
     "execution_count": 13,
     "metadata": {},
     "output_type": "execute_result"
    },
    {
     "data": {
      "text/plain": [
       "{'neg': 0.057, 'neu': 0.837, 'pos': 0.106, 'compound': 0.9899}"
      ]
     },
     "execution_count": 13,
     "metadata": {},
     "output_type": "execute_result"
    },
    {
     "data": {
      "text/plain": [
       "{'neg': 0.05, 'neu': 0.82, 'pos': 0.131, 'compound': 0.9978}"
      ]
     },
     "execution_count": 13,
     "metadata": {},
     "output_type": "execute_result"
    },
    {
     "data": {
      "text/plain": [
       "{'neg': 0.065, 'neu': 0.857, 'pos': 0.078, 'compound': 0.1779}"
      ]
     },
     "execution_count": 13,
     "metadata": {},
     "output_type": "execute_result"
    },
    {
     "data": {
      "text/plain": [
       "{'neg': 0.035, 'neu': 0.794, 'pos': 0.17, 'compound': 0.997}"
      ]
     },
     "execution_count": 13,
     "metadata": {},
     "output_type": "execute_result"
    },
    {
     "data": {
      "text/plain": [
       "{'neg': 0.099, 'neu': 0.811, 'pos': 0.09, 'compound': -0.6976}"
      ]
     },
     "execution_count": 13,
     "metadata": {},
     "output_type": "execute_result"
    },
    {
     "data": {
      "text/plain": [
       "{'neg': 0.022, 'neu': 0.889, 'pos': 0.089, 'compound': 0.9932}"
      ]
     },
     "execution_count": 13,
     "metadata": {},
     "output_type": "execute_result"
    },
    {
     "data": {
      "text/plain": [
       "{'neg': 0.013, 'neu': 0.788, 'pos': 0.199, 'compound': 0.9944}"
      ]
     },
     "execution_count": 13,
     "metadata": {},
     "output_type": "execute_result"
    },
    {
     "data": {
      "text/plain": [
       "{'neg': 0.111, 'neu': 0.753, 'pos': 0.135, 'compound': 0.4243}"
      ]
     },
     "execution_count": 13,
     "metadata": {},
     "output_type": "execute_result"
    },
    {
     "data": {
      "text/plain": [
       "{'neg': 0.069, 'neu': 0.88, 'pos': 0.051, 'compound': -0.7096}"
      ]
     },
     "execution_count": 13,
     "metadata": {},
     "output_type": "execute_result"
    },
    {
     "data": {
      "text/plain": [
       "{'neg': 0.057, 'neu': 0.811, 'pos': 0.132, 'compound': 0.9905}"
      ]
     },
     "execution_count": 13,
     "metadata": {},
     "output_type": "execute_result"
    },
    {
     "data": {
      "text/plain": [
       "{'neg': 0.091, 'neu': 0.826, 'pos': 0.083, 'compound': -0.4854}"
      ]
     },
     "execution_count": 13,
     "metadata": {},
     "output_type": "execute_result"
    },
    {
     "data": {
      "text/plain": [
       "{'neg': 0.007, 'neu': 0.8, 'pos': 0.194, 'compound': 0.994}"
      ]
     },
     "execution_count": 13,
     "metadata": {},
     "output_type": "execute_result"
    },
    {
     "data": {
      "text/plain": [
       "{'neg': 0.103, 'neu': 0.706, 'pos': 0.191, 'compound': 0.9864}"
      ]
     },
     "execution_count": 13,
     "metadata": {},
     "output_type": "execute_result"
    },
    {
     "data": {
      "text/plain": [
       "{'neg': 0.107, 'neu': 0.818, 'pos': 0.075, 'compound': -0.8986}"
      ]
     },
     "execution_count": 13,
     "metadata": {},
     "output_type": "execute_result"
    },
    {
     "data": {
      "text/plain": [
       "{'neg': 0.142, 'neu': 0.776, 'pos': 0.082, 'compound': -0.9898}"
      ]
     },
     "execution_count": 13,
     "metadata": {},
     "output_type": "execute_result"
    },
    {
     "data": {
      "text/plain": [
       "{'neg': 0.078, 'neu': 0.851, 'pos': 0.071, 'compound': -0.7705}"
      ]
     },
     "execution_count": 13,
     "metadata": {},
     "output_type": "execute_result"
    },
    {
     "data": {
      "text/plain": [
       "{'neg': 0.092, 'neu': 0.834, 'pos': 0.074, 'compound': -0.9223}"
      ]
     },
     "execution_count": 13,
     "metadata": {},
     "output_type": "execute_result"
    },
    {
     "data": {
      "text/plain": [
       "{'neg': 0.16, 'neu': 0.762, 'pos': 0.078, 'compound': -0.9959}"
      ]
     },
     "execution_count": 13,
     "metadata": {},
     "output_type": "execute_result"
    },
    {
     "data": {
      "text/plain": [
       "{'neg': 0.079, 'neu': 0.857, 'pos': 0.064, 'compound': -0.5831}"
      ]
     },
     "execution_count": 13,
     "metadata": {},
     "output_type": "execute_result"
    },
    {
     "data": {
      "text/plain": [
       "{'neg': 0.084, 'neu': 0.869, 'pos': 0.048, 'compound': -0.8151}"
      ]
     },
     "execution_count": 13,
     "metadata": {},
     "output_type": "execute_result"
    },
    {
     "data": {
      "text/plain": [
       "{'neg': 0.087, 'neu': 0.85, 'pos': 0.063, 'compound': -0.7906}"
      ]
     },
     "execution_count": 13,
     "metadata": {},
     "output_type": "execute_result"
    },
    {
     "data": {
      "text/plain": [
       "{'neg': 0.099, 'neu': 0.786, 'pos': 0.115, 'compound': 0.7126}"
      ]
     },
     "execution_count": 13,
     "metadata": {},
     "output_type": "execute_result"
    },
    {
     "data": {
      "text/plain": [
       "{'neg': 0.085, 'neu': 0.824, 'pos': 0.091, 'compound': 0.5385}"
      ]
     },
     "execution_count": 13,
     "metadata": {},
     "output_type": "execute_result"
    },
    {
     "data": {
      "text/plain": [
       "{'neg': 0.089, 'neu': 0.81, 'pos': 0.101, 'compound': 0.4207}"
      ]
     },
     "execution_count": 13,
     "metadata": {},
     "output_type": "execute_result"
    },
    {
     "data": {
      "text/plain": [
       "{'neg': 0.074, 'neu': 0.879, 'pos': 0.048, 'compound': -0.6705}"
      ]
     },
     "execution_count": 13,
     "metadata": {},
     "output_type": "execute_result"
    },
    {
     "data": {
      "text/plain": [
       "{'neg': 0.068, 'neu': 0.901, 'pos': 0.032, 'compound': -0.9468}"
      ]
     },
     "execution_count": 13,
     "metadata": {},
     "output_type": "execute_result"
    },
    {
     "data": {
      "text/plain": [
       "{'neg': 0.14, 'neu': 0.755, 'pos': 0.105, 'compound': -0.9738}"
      ]
     },
     "execution_count": 13,
     "metadata": {},
     "output_type": "execute_result"
    },
    {
     "data": {
      "text/plain": [
       "{'neg': 0.109, 'neu': 0.828, 'pos': 0.064, 'compound': -0.9698}"
      ]
     },
     "execution_count": 13,
     "metadata": {},
     "output_type": "execute_result"
    },
    {
     "data": {
      "text/plain": [
       "{'neg': 0.154, 'neu': 0.802, 'pos': 0.044, 'compound': -0.9886}"
      ]
     },
     "execution_count": 13,
     "metadata": {},
     "output_type": "execute_result"
    },
    {
     "data": {
      "text/plain": [
       "{'neg': 0.173, 'neu': 0.765, 'pos': 0.062, 'compound': -0.9949}"
      ]
     },
     "execution_count": 13,
     "metadata": {},
     "output_type": "execute_result"
    },
    {
     "data": {
      "text/plain": [
       "{'neg': 0.151, 'neu': 0.8, 'pos': 0.049, 'compound': -0.9925}"
      ]
     },
     "execution_count": 13,
     "metadata": {},
     "output_type": "execute_result"
    },
    {
     "data": {
      "text/plain": [
       "{'neg': 0.182, 'neu': 0.751, 'pos': 0.068, 'compound': -0.9887}"
      ]
     },
     "execution_count": 13,
     "metadata": {},
     "output_type": "execute_result"
    },
    {
     "data": {
      "text/plain": [
       "{'neg': 0.047, 'neu': 0.882, 'pos': 0.071, 'compound': 0.8246}"
      ]
     },
     "execution_count": 13,
     "metadata": {},
     "output_type": "execute_result"
    },
    {
     "data": {
      "text/plain": [
       "{'neg': 0.099, 'neu': 0.816, 'pos': 0.085, 'compound': -0.5413}"
      ]
     },
     "execution_count": 13,
     "metadata": {},
     "output_type": "execute_result"
    },
    {
     "data": {
      "text/plain": [
       "{'neg': 0.075, 'neu': 0.856, 'pos': 0.069, 'compound': -0.296}"
      ]
     },
     "execution_count": 13,
     "metadata": {},
     "output_type": "execute_result"
    },
    {
     "data": {
      "text/plain": [
       "{'neg': 0.079, 'neu': 0.779, 'pos': 0.142, 'compound': 0.9528}"
      ]
     },
     "execution_count": 13,
     "metadata": {},
     "output_type": "execute_result"
    },
    {
     "data": {
      "text/plain": [
       "{'neg': 0.08, 'neu': 0.827, 'pos': 0.093, 'compound': 0.7467}"
      ]
     },
     "execution_count": 13,
     "metadata": {},
     "output_type": "execute_result"
    },
    {
     "data": {
      "text/plain": [
       "{'neg': 0.06, 'neu': 0.85, 'pos': 0.09, 'compound': 0.8689}"
      ]
     },
     "execution_count": 13,
     "metadata": {},
     "output_type": "execute_result"
    },
    {
     "data": {
      "text/plain": [
       "{'neg': 0.103, 'neu': 0.784, 'pos': 0.113, 'compound': 0.5979}"
      ]
     },
     "execution_count": 13,
     "metadata": {},
     "output_type": "execute_result"
    },
    {
     "data": {
      "text/plain": [
       "{'neg': 0.099, 'neu': 0.785, 'pos': 0.116, 'compound': 0.7891}"
      ]
     },
     "execution_count": 13,
     "metadata": {},
     "output_type": "execute_result"
    },
    {
     "data": {
      "text/plain": [
       "{'neg': 0.044, 'neu': 0.892, 'pos': 0.064, 'compound': 0.8769}"
      ]
     },
     "execution_count": 13,
     "metadata": {},
     "output_type": "execute_result"
    },
    {
     "data": {
      "text/plain": [
       "{'neg': 0.078, 'neu': 0.805, 'pos': 0.116, 'compound': 0.9411}"
      ]
     },
     "execution_count": 13,
     "metadata": {},
     "output_type": "execute_result"
    },
    {
     "data": {
      "text/plain": [
       "{'neg': 0.098, 'neu': 0.835, 'pos': 0.067, 'compound': -0.8902}"
      ]
     },
     "execution_count": 13,
     "metadata": {},
     "output_type": "execute_result"
    },
    {
     "data": {
      "text/plain": [
       "{'neg': 0.037, 'neu': 0.89, 'pos': 0.073, 'compound': 0.81}"
      ]
     },
     "execution_count": 13,
     "metadata": {},
     "output_type": "execute_result"
    },
    {
     "data": {
      "text/plain": [
       "{'neg': 0.033, 'neu': 0.913, 'pos': 0.054, 'compound': 0.8521}"
      ]
     },
     "execution_count": 13,
     "metadata": {},
     "output_type": "execute_result"
    },
    {
     "data": {
      "text/plain": [
       "{'neg': 0.097, 'neu': 0.849, 'pos': 0.054, 'compound': -0.9869}"
      ]
     },
     "execution_count": 13,
     "metadata": {},
     "output_type": "execute_result"
    },
    {
     "data": {
      "text/plain": [
       "{'neg': 0.082, 'neu': 0.846, 'pos': 0.072, 'compound': -0.7684}"
      ]
     },
     "execution_count": 13,
     "metadata": {},
     "output_type": "execute_result"
    },
    {
     "data": {
      "text/plain": [
       "{'neg': 0.065, 'neu': 0.883, 'pos': 0.053, 'compound': -0.5267}"
      ]
     },
     "execution_count": 13,
     "metadata": {},
     "output_type": "execute_result"
    },
    {
     "data": {
      "text/plain": [
       "{'neg': 0.084, 'neu': 0.853, 'pos': 0.063, 'compound': -0.8834}"
      ]
     },
     "execution_count": 13,
     "metadata": {},
     "output_type": "execute_result"
    },
    {
     "data": {
      "text/plain": [
       "{'neg': 0.12, 'neu': 0.792, 'pos': 0.088, 'compound': -0.9279}"
      ]
     },
     "execution_count": 13,
     "metadata": {},
     "output_type": "execute_result"
    },
    {
     "data": {
      "text/plain": [
       "{'neg': 0.094, 'neu': 0.753, 'pos': 0.153, 'compound': 0.951}"
      ]
     },
     "execution_count": 13,
     "metadata": {},
     "output_type": "execute_result"
    },
    {
     "data": {
      "text/plain": [
       "{'neg': 0.04, 'neu': 0.873, 'pos': 0.088, 'compound': 0.9617}"
      ]
     },
     "execution_count": 13,
     "metadata": {},
     "output_type": "execute_result"
    },
    {
     "data": {
      "text/plain": [
       "{'neg': 0.034, 'neu': 0.866, 'pos': 0.1, 'compound': 0.9786}"
      ]
     },
     "execution_count": 13,
     "metadata": {},
     "output_type": "execute_result"
    },
    {
     "data": {
      "text/plain": [
       "{'neg': 0.084, 'neu': 0.8, 'pos': 0.115, 'compound': 0.9727}"
      ]
     },
     "execution_count": 13,
     "metadata": {},
     "output_type": "execute_result"
    },
    {
     "data": {
      "text/plain": [
       "{'neg': 0.049, 'neu': 0.787, 'pos': 0.164, 'compound': 0.9968}"
      ]
     },
     "execution_count": 13,
     "metadata": {},
     "output_type": "execute_result"
    },
    {
     "data": {
      "text/plain": [
       "{'neg': 0.023, 'neu': 0.755, 'pos': 0.222, 'compound': 0.9966}"
      ]
     },
     "execution_count": 13,
     "metadata": {},
     "output_type": "execute_result"
    },
    {
     "data": {
      "text/plain": [
       "{'neg': 0.054, 'neu': 0.777, 'pos': 0.169, 'compound': 0.994}"
      ]
     },
     "execution_count": 13,
     "metadata": {},
     "output_type": "execute_result"
    },
    {
     "data": {
      "text/plain": [
       "{'neg': 0.067, 'neu': 0.832, 'pos': 0.101, 'compound': 0.8666}"
      ]
     },
     "execution_count": 13,
     "metadata": {},
     "output_type": "execute_result"
    },
    {
     "data": {
      "text/plain": [
       "{'neg': 0.023, 'neu': 0.778, 'pos': 0.199, 'compound': 0.995}"
      ]
     },
     "execution_count": 13,
     "metadata": {},
     "output_type": "execute_result"
    },
    {
     "data": {
      "text/plain": [
       "{'neg': 0.005, 'neu': 0.898, 'pos': 0.096, 'compound': 0.986}"
      ]
     },
     "execution_count": 13,
     "metadata": {},
     "output_type": "execute_result"
    },
    {
     "data": {
      "text/plain": [
       "{'neg': 0.012, 'neu': 0.805, 'pos': 0.184, 'compound': 0.9968}"
      ]
     },
     "execution_count": 13,
     "metadata": {},
     "output_type": "execute_result"
    },
    {
     "data": {
      "text/plain": [
       "{'neg': 0.006, 'neu': 0.798, 'pos': 0.196, 'compound': 0.9969}"
      ]
     },
     "execution_count": 13,
     "metadata": {},
     "output_type": "execute_result"
    },
    {
     "data": {
      "text/plain": [
       "{'neg': 0.063, 'neu': 0.828, 'pos': 0.109, 'compound': 0.9468}"
      ]
     },
     "execution_count": 13,
     "metadata": {},
     "output_type": "execute_result"
    },
    {
     "data": {
      "text/plain": [
       "{'neg': 0.055, 'neu': 0.858, 'pos': 0.087, 'compound': 0.9241}"
      ]
     },
     "execution_count": 13,
     "metadata": {},
     "output_type": "execute_result"
    },
    {
     "data": {
      "text/plain": [
       "{'neg': 0.008, 'neu': 0.833, 'pos': 0.158, 'compound': 0.9893}"
      ]
     },
     "execution_count": 13,
     "metadata": {},
     "output_type": "execute_result"
    },
    {
     "data": {
      "text/plain": [
       "{'neg': 0.028, 'neu': 0.829, 'pos': 0.143, 'compound': 0.9867}"
      ]
     },
     "execution_count": 13,
     "metadata": {},
     "output_type": "execute_result"
    },
    {
     "data": {
      "text/plain": [
       "{'neg': 0.0, 'neu': 0.84, 'pos': 0.16, 'compound': 0.9794}"
      ]
     },
     "execution_count": 13,
     "metadata": {},
     "output_type": "execute_result"
    },
    {
     "data": {
      "text/plain": [
       "{'neg': 0.014, 'neu': 0.826, 'pos': 0.16, 'compound': 0.9883}"
      ]
     },
     "execution_count": 13,
     "metadata": {},
     "output_type": "execute_result"
    },
    {
     "data": {
      "text/plain": [
       "{'neg': 0.047, 'neu': 0.844, 'pos': 0.109, 'compound': 0.9831}"
      ]
     },
     "execution_count": 13,
     "metadata": {},
     "output_type": "execute_result"
    },
    {
     "data": {
      "text/plain": [
       "{'neg': 0.112, 'neu': 0.717, 'pos': 0.171, 'compound': 0.9548}"
      ]
     },
     "execution_count": 13,
     "metadata": {},
     "output_type": "execute_result"
    },
    {
     "data": {
      "text/plain": [
       "{'neg': 0.065, 'neu': 0.752, 'pos': 0.182, 'compound': 0.9924}"
      ]
     },
     "execution_count": 13,
     "metadata": {},
     "output_type": "execute_result"
    },
    {
     "data": {
      "text/plain": [
       "{'neg': 0.04, 'neu': 0.794, 'pos': 0.166, 'compound': 0.9977}"
      ]
     },
     "execution_count": 13,
     "metadata": {},
     "output_type": "execute_result"
    },
    {
     "data": {
      "text/plain": [
       "{'neg': 0.037, 'neu': 0.84, 'pos': 0.124, 'compound': 0.9963}"
      ]
     },
     "execution_count": 13,
     "metadata": {},
     "output_type": "execute_result"
    },
    {
     "data": {
      "text/plain": [
       "{'neg': 0.026, 'neu': 0.871, 'pos': 0.104, 'compound': 0.9943}"
      ]
     },
     "execution_count": 13,
     "metadata": {},
     "output_type": "execute_result"
    },
    {
     "data": {
      "text/plain": [
       "{'neg': 0.122, 'neu': 0.701, 'pos': 0.177, 'compound': 0.8176}"
      ]
     },
     "execution_count": 13,
     "metadata": {},
     "output_type": "execute_result"
    },
    {
     "data": {
      "text/plain": [
       "{'neg': 0.02, 'neu': 0.811, 'pos': 0.168, 'compound': 0.9881}"
      ]
     },
     "execution_count": 13,
     "metadata": {},
     "output_type": "execute_result"
    },
    {
     "data": {
      "text/plain": [
       "{'neg': 0.079, 'neu': 0.791, 'pos': 0.13, 'compound': 0.9837}"
      ]
     },
     "execution_count": 13,
     "metadata": {},
     "output_type": "execute_result"
    },
    {
     "data": {
      "text/plain": [
       "{'neg': 0.068, 'neu': 0.773, 'pos': 0.159, 'compound': 0.9941}"
      ]
     },
     "execution_count": 13,
     "metadata": {},
     "output_type": "execute_result"
    },
    {
     "data": {
      "text/plain": [
       "{'neg': 0.023, 'neu': 0.798, 'pos': 0.179, 'compound': 0.9935}"
      ]
     },
     "execution_count": 13,
     "metadata": {},
     "output_type": "execute_result"
    },
    {
     "data": {
      "text/plain": [
       "{'neg': 0.038, 'neu': 0.86, 'pos': 0.102, 'compound': 0.9552}"
      ]
     },
     "execution_count": 13,
     "metadata": {},
     "output_type": "execute_result"
    },
    {
     "data": {
      "text/plain": [
       "{'neg': 0.095, 'neu': 0.807, 'pos': 0.098, 'compound': -0.9391}"
      ]
     },
     "execution_count": 13,
     "metadata": {},
     "output_type": "execute_result"
    },
    {
     "data": {
      "text/plain": [
       "{'neg': 0.077, 'neu': 0.808, 'pos': 0.115, 'compound': 0.9631}"
      ]
     },
     "execution_count": 13,
     "metadata": {},
     "output_type": "execute_result"
    },
    {
     "data": {
      "text/plain": [
       "{'neg': 0.064, 'neu': 0.763, 'pos': 0.173, 'compound': 0.9932}"
      ]
     },
     "execution_count": 13,
     "metadata": {},
     "output_type": "execute_result"
    },
    {
     "data": {
      "text/plain": [
       "{'neg': 0.006, 'neu': 0.834, 'pos': 0.16, 'compound': 0.9943}"
      ]
     },
     "execution_count": 13,
     "metadata": {},
     "output_type": "execute_result"
    },
    {
     "data": {
      "text/plain": [
       "{'neg': 0.056, 'neu': 0.808, 'pos': 0.136, 'compound': 0.9921}"
      ]
     },
     "execution_count": 13,
     "metadata": {},
     "output_type": "execute_result"
    },
    {
     "data": {
      "text/plain": [
       "{'neg': 0.136, 'neu': 0.659, 'pos': 0.205, 'compound': 0.9888}"
      ]
     },
     "execution_count": 13,
     "metadata": {},
     "output_type": "execute_result"
    },
    {
     "data": {
      "text/plain": [
       "{'neg': 0.063, 'neu': 0.828, 'pos': 0.109, 'compound': 0.9688}"
      ]
     },
     "execution_count": 13,
     "metadata": {},
     "output_type": "execute_result"
    },
    {
     "data": {
      "text/plain": [
       "{'neg': 0.129, 'neu': 0.746, 'pos': 0.125, 'compound': -0.891}"
      ]
     },
     "execution_count": 13,
     "metadata": {},
     "output_type": "execute_result"
    },
    {
     "data": {
      "text/plain": [
       "{'neg': 0.0, 'neu': 0.861, 'pos': 0.139, 'compound': 0.9766}"
      ]
     },
     "execution_count": 13,
     "metadata": {},
     "output_type": "execute_result"
    },
    {
     "data": {
      "text/plain": [
       "{'neg': 0.028, 'neu': 0.875, 'pos': 0.097, 'compound': 0.9735}"
      ]
     },
     "execution_count": 13,
     "metadata": {},
     "output_type": "execute_result"
    },
    {
     "data": {
      "text/plain": [
       "{'neg': 0.041, 'neu': 0.864, 'pos': 0.095, 'compound': 0.9427}"
      ]
     },
     "execution_count": 13,
     "metadata": {},
     "output_type": "execute_result"
    },
    {
     "data": {
      "text/plain": [
       "{'neg': 0.033, 'neu': 0.89, 'pos': 0.078, 'compound': 0.9118}"
      ]
     },
     "execution_count": 13,
     "metadata": {},
     "output_type": "execute_result"
    },
    {
     "data": {
      "text/plain": [
       "{'neg': 0.006, 'neu': 0.95, 'pos': 0.044, 'compound': 0.9348}"
      ]
     },
     "execution_count": 13,
     "metadata": {},
     "output_type": "execute_result"
    },
    {
     "data": {
      "text/plain": [
       "{'neg': 0.089, 'neu': 0.87, 'pos': 0.041, 'compound': -0.9371}"
      ]
     },
     "execution_count": 13,
     "metadata": {},
     "output_type": "execute_result"
    },
    {
     "data": {
      "text/plain": [
       "{'neg': 0.121, 'neu': 0.782, 'pos': 0.096, 'compound': -0.9317}"
      ]
     },
     "execution_count": 13,
     "metadata": {},
     "output_type": "execute_result"
    },
    {
     "data": {
      "text/plain": [
       "{'neg': 0.095, 'neu': 0.766, 'pos': 0.139, 'compound': 0.802}"
      ]
     },
     "execution_count": 13,
     "metadata": {},
     "output_type": "execute_result"
    },
    {
     "data": {
      "text/plain": [
       "{'neg': 0.063, 'neu': 0.862, 'pos': 0.075, 'compound': 0.5574}"
      ]
     },
     "execution_count": 13,
     "metadata": {},
     "output_type": "execute_result"
    },
    {
     "data": {
      "text/plain": [
       "{'neg': 0.062, 'neu': 0.833, 'pos': 0.105, 'compound': 0.9502}"
      ]
     },
     "execution_count": 13,
     "metadata": {},
     "output_type": "execute_result"
    },
    {
     "data": {
      "text/plain": [
       "{'neg': 0.035, 'neu': 0.848, 'pos': 0.116, 'compound': 0.9767}"
      ]
     },
     "execution_count": 13,
     "metadata": {},
     "output_type": "execute_result"
    },
    {
     "data": {
      "text/plain": [
       "{'neg': 0.041, 'neu': 0.9, 'pos': 0.059, 'compound': 0.6896}"
      ]
     },
     "execution_count": 13,
     "metadata": {},
     "output_type": "execute_result"
    },
    {
     "data": {
      "text/plain": [
       "{'neg': 0.084, 'neu': 0.86, 'pos': 0.056, 'compound': -0.9062}"
      ]
     },
     "execution_count": 13,
     "metadata": {},
     "output_type": "execute_result"
    },
    {
     "data": {
      "text/plain": [
       "{'neg': 0.048, 'neu': 0.811, 'pos': 0.141, 'compound': 0.9812}"
      ]
     },
     "execution_count": 13,
     "metadata": {},
     "output_type": "execute_result"
    },
    {
     "data": {
      "text/plain": [
       "{'neg': 0.062, 'neu': 0.854, 'pos': 0.085, 'compound': 0.0161}"
      ]
     },
     "execution_count": 13,
     "metadata": {},
     "output_type": "execute_result"
    },
    {
     "data": {
      "text/plain": [
       "{'neg': 0.057, 'neu': 0.807, 'pos': 0.136, 'compound': 0.9843}"
      ]
     },
     "execution_count": 13,
     "metadata": {},
     "output_type": "execute_result"
    },
    {
     "data": {
      "text/plain": [
       "{'neg': 0.037, 'neu': 0.884, 'pos': 0.079, 'compound': 0.9584}"
      ]
     },
     "execution_count": 13,
     "metadata": {},
     "output_type": "execute_result"
    },
    {
     "data": {
      "text/plain": [
       "{'neg': 0.082, 'neu': 0.828, 'pos': 0.09, 'compound': 0.4404}"
      ]
     },
     "execution_count": 13,
     "metadata": {},
     "output_type": "execute_result"
    },
    {
     "data": {
      "text/plain": [
       "{'neg': 0.054, 'neu': 0.82, 'pos': 0.126, 'compound': 0.9902}"
      ]
     },
     "execution_count": 13,
     "metadata": {},
     "output_type": "execute_result"
    },
    {
     "data": {
      "text/plain": [
       "{'neg': 0.013, 'neu': 0.83, 'pos': 0.157, 'compound': 0.9894}"
      ]
     },
     "execution_count": 13,
     "metadata": {},
     "output_type": "execute_result"
    },
    {
     "data": {
      "text/plain": [
       "{'neg': 0.095, 'neu': 0.838, 'pos': 0.067, 'compound': -0.9092}"
      ]
     },
     "execution_count": 13,
     "metadata": {},
     "output_type": "execute_result"
    },
    {
     "data": {
      "text/plain": [
       "{'neg': 0.108, 'neu': 0.797, 'pos': 0.095, 'compound': -0.4939}"
      ]
     },
     "execution_count": 13,
     "metadata": {},
     "output_type": "execute_result"
    },
    {
     "data": {
      "text/plain": [
       "{'neg': 0.092, 'neu': 0.856, 'pos': 0.052, 'compound': -0.9277}"
      ]
     },
     "execution_count": 13,
     "metadata": {},
     "output_type": "execute_result"
    },
    {
     "data": {
      "text/plain": [
       "{'neg': 0.054, 'neu': 0.874, 'pos': 0.071, 'compound': 0.8225}"
      ]
     },
     "execution_count": 13,
     "metadata": {},
     "output_type": "execute_result"
    },
    {
     "data": {
      "text/plain": [
       "{'neg': 0.052, 'neu': 0.888, 'pos': 0.06, 'compound': 0.7579}"
      ]
     },
     "execution_count": 13,
     "metadata": {},
     "output_type": "execute_result"
    },
    {
     "data": {
      "text/plain": [
       "{'neg': 0.04, 'neu': 0.81, 'pos': 0.15, 'compound': 0.9866}"
      ]
     },
     "execution_count": 13,
     "metadata": {},
     "output_type": "execute_result"
    },
    {
     "data": {
      "text/plain": [
       "{'neg': 0.041, 'neu': 0.902, 'pos': 0.057, 'compound': 0.7003}"
      ]
     },
     "execution_count": 13,
     "metadata": {},
     "output_type": "execute_result"
    },
    {
     "data": {
      "text/plain": [
       "{'neg': 0.059, 'neu': 0.893, 'pos': 0.049, 'compound': -0.6187}"
      ]
     },
     "execution_count": 13,
     "metadata": {},
     "output_type": "execute_result"
    },
    {
     "data": {
      "text/plain": [
       "{'neg': 0.049, 'neu': 0.884, 'pos': 0.067, 'compound': 0.6597}"
      ]
     },
     "execution_count": 13,
     "metadata": {},
     "output_type": "execute_result"
    },
    {
     "data": {
      "text/plain": [
       "{'neg': 0.066, 'neu': 0.863, 'pos': 0.071, 'compound': 0.34}"
      ]
     },
     "execution_count": 13,
     "metadata": {},
     "output_type": "execute_result"
    },
    {
     "data": {
      "text/plain": [
       "{'neg': 0.049, 'neu': 0.881, 'pos': 0.069, 'compound': 0.8567}"
      ]
     },
     "execution_count": 13,
     "metadata": {},
     "output_type": "execute_result"
    },
    {
     "data": {
      "text/plain": [
       "{'neg': 0.076, 'neu': 0.843, 'pos': 0.081, 'compound': 0.2445}"
      ]
     },
     "execution_count": 13,
     "metadata": {},
     "output_type": "execute_result"
    },
    {
     "data": {
      "text/plain": [
       "{'neg': 0.075, 'neu': 0.862, 'pos': 0.063, 'compound': -0.5267}"
      ]
     },
     "execution_count": 13,
     "metadata": {},
     "output_type": "execute_result"
    },
    {
     "data": {
      "text/plain": [
       "{'neg': 0.075, 'neu': 0.826, 'pos': 0.099, 'compound': 0.7391}"
      ]
     },
     "execution_count": 13,
     "metadata": {},
     "output_type": "execute_result"
    },
    {
     "data": {
      "text/plain": [
       "{'neg': 0.068, 'neu': 0.869, 'pos': 0.064, 'compound': -0.128}"
      ]
     },
     "execution_count": 13,
     "metadata": {},
     "output_type": "execute_result"
    },
    {
     "data": {
      "text/plain": [
       "{'neg': 0.138, 'neu': 0.779, 'pos': 0.082, 'compound': -0.9484}"
      ]
     },
     "execution_count": 13,
     "metadata": {},
     "output_type": "execute_result"
    },
    {
     "data": {
      "text/plain": [
       "{'neg': 0.015, 'neu': 0.794, 'pos': 0.191, 'compound': 0.997}"
      ]
     },
     "execution_count": 13,
     "metadata": {},
     "output_type": "execute_result"
    },
    {
     "data": {
      "text/plain": [
       "{'neg': 0.025, 'neu': 0.853, 'pos': 0.122, 'compound': 0.959}"
      ]
     },
     "execution_count": 13,
     "metadata": {},
     "output_type": "execute_result"
    },
    {
     "data": {
      "text/plain": [
       "{'neg': 0.063, 'neu': 0.847, 'pos': 0.091, 'compound': 0.9715}"
      ]
     },
     "execution_count": 13,
     "metadata": {},
     "output_type": "execute_result"
    },
    {
     "data": {
      "text/plain": [
       "{'neg': 0.049, 'neu': 0.845, 'pos': 0.106, 'compound': 0.9757}"
      ]
     },
     "execution_count": 13,
     "metadata": {},
     "output_type": "execute_result"
    },
    {
     "data": {
      "text/plain": [
       "{'neg': 0.057, 'neu': 0.861, 'pos': 0.082, 'compound': 0.8338}"
      ]
     },
     "execution_count": 13,
     "metadata": {},
     "output_type": "execute_result"
    },
    {
     "data": {
      "text/plain": [
       "{'neg': 0.092, 'neu': 0.81, 'pos': 0.098, 'compound': -0.0451}"
      ]
     },
     "execution_count": 13,
     "metadata": {},
     "output_type": "execute_result"
    },
    {
     "data": {
      "text/plain": [
       "{'neg': 0.101, 'neu': 0.843, 'pos': 0.056, 'compound': -0.9744}"
      ]
     },
     "execution_count": 13,
     "metadata": {},
     "output_type": "execute_result"
    },
    {
     "data": {
      "text/plain": [
       "{'neg': 0.098, 'neu': 0.803, 'pos': 0.099, 'compound': 0.3893}"
      ]
     },
     "execution_count": 13,
     "metadata": {},
     "output_type": "execute_result"
    },
    {
     "data": {
      "text/plain": [
       "{'neg': 0.159, 'neu': 0.801, 'pos': 0.039, 'compound': -0.9963}"
      ]
     },
     "execution_count": 13,
     "metadata": {},
     "output_type": "execute_result"
    },
    {
     "data": {
      "text/plain": [
       "{'neg': 0.095, 'neu': 0.842, 'pos': 0.062, 'compound': -0.9272}"
      ]
     },
     "execution_count": 13,
     "metadata": {},
     "output_type": "execute_result"
    },
    {
     "data": {
      "text/plain": [
       "{'neg': 0.0, 'neu': 0.829, 'pos': 0.171, 'compound': 0.9854}"
      ]
     },
     "execution_count": 13,
     "metadata": {},
     "output_type": "execute_result"
    },
    {
     "data": {
      "text/plain": [
       "{'neg': 0.079, 'neu': 0.912, 'pos': 0.009, 'compound': -0.9753}"
      ]
     },
     "execution_count": 13,
     "metadata": {},
     "output_type": "execute_result"
    },
    {
     "data": {
      "text/plain": [
       "{'neg': 0.055, 'neu': 0.86, 'pos': 0.085, 'compound': 0.9793}"
      ]
     },
     "execution_count": 13,
     "metadata": {},
     "output_type": "execute_result"
    },
    {
     "data": {
      "text/plain": [
       "{'neg': 0.129, 'neu': 0.809, 'pos': 0.062, 'compound': -0.9786}"
      ]
     },
     "execution_count": 13,
     "metadata": {},
     "output_type": "execute_result"
    },
    {
     "data": {
      "text/plain": [
       "{'neg': 0.084, 'neu': 0.877, 'pos': 0.039, 'compound': -0.9684}"
      ]
     },
     "execution_count": 13,
     "metadata": {},
     "output_type": "execute_result"
    },
    {
     "data": {
      "text/plain": [
       "{'neg': 0.179, 'neu': 0.696, 'pos': 0.126, 'compound': -0.9921}"
      ]
     },
     "execution_count": 13,
     "metadata": {},
     "output_type": "execute_result"
    },
    {
     "data": {
      "text/plain": [
       "{'neg': 0.1, 'neu': 0.843, 'pos': 0.057, 'compound': -0.929}"
      ]
     },
     "execution_count": 13,
     "metadata": {},
     "output_type": "execute_result"
    },
    {
     "data": {
      "text/plain": [
       "{'neg': 0.08, 'neu': 0.853, 'pos': 0.067, 'compound': -0.5106}"
      ]
     },
     "execution_count": 13,
     "metadata": {},
     "output_type": "execute_result"
    },
    {
     "data": {
      "text/plain": [
       "{'neg': 0.107, 'neu': 0.831, 'pos': 0.063, 'compound': -0.9768}"
      ]
     },
     "execution_count": 13,
     "metadata": {},
     "output_type": "execute_result"
    },
    {
     "data": {
      "text/plain": [
       "{'neg': 0.218, 'neu': 0.687, 'pos': 0.095, 'compound': -0.995}"
      ]
     },
     "execution_count": 13,
     "metadata": {},
     "output_type": "execute_result"
    },
    {
     "data": {
      "text/plain": [
       "{'neg': 0.065, 'neu': 0.833, 'pos': 0.103, 'compound': 0.9382}"
      ]
     },
     "execution_count": 13,
     "metadata": {},
     "output_type": "execute_result"
    },
    {
     "data": {
      "text/plain": [
       "{'neg': 0.115, 'neu': 0.757, 'pos': 0.128, 'compound': -0.2529}"
      ]
     },
     "execution_count": 13,
     "metadata": {},
     "output_type": "execute_result"
    },
    {
     "data": {
      "text/plain": [
       "{'neg': 0.15, 'neu': 0.746, 'pos': 0.104, 'compound': -0.8828}"
      ]
     },
     "execution_count": 13,
     "metadata": {},
     "output_type": "execute_result"
    },
    {
     "data": {
      "text/plain": [
       "{'neg': 0.121, 'neu': 0.806, 'pos': 0.073, 'compound': -0.8834}"
      ]
     },
     "execution_count": 13,
     "metadata": {},
     "output_type": "execute_result"
    },
    {
     "data": {
      "text/plain": [
       "{'neg': 0.096, 'neu': 0.817, 'pos': 0.087, 'compound': -0.5719}"
      ]
     },
     "execution_count": 13,
     "metadata": {},
     "output_type": "execute_result"
    },
    {
     "data": {
      "text/plain": [
       "{'neg': 0.185, 'neu': 0.735, 'pos': 0.08, 'compound': -0.9983}"
      ]
     },
     "execution_count": 13,
     "metadata": {},
     "output_type": "execute_result"
    },
    {
     "data": {
      "text/plain": [
       "{'neg': 0.158, 'neu': 0.789, 'pos': 0.052, 'compound': -0.9835}"
      ]
     },
     "execution_count": 13,
     "metadata": {},
     "output_type": "execute_result"
    },
    {
     "data": {
      "text/plain": [
       "{'neg': 0.185, 'neu': 0.765, 'pos': 0.051, 'compound': -0.9942}"
      ]
     },
     "execution_count": 13,
     "metadata": {},
     "output_type": "execute_result"
    },
    {
     "data": {
      "text/plain": [
       "{'neg': 0.11, 'neu': 0.794, 'pos': 0.096, 'compound': -0.813}"
      ]
     },
     "execution_count": 13,
     "metadata": {},
     "output_type": "execute_result"
    },
    {
     "data": {
      "text/plain": [
       "{'neg': 0.127, 'neu': 0.8, 'pos': 0.073, 'compound': -0.9771}"
      ]
     },
     "execution_count": 13,
     "metadata": {},
     "output_type": "execute_result"
    },
    {
     "data": {
      "text/plain": [
       "{'neg': 0.17, 'neu': 0.698, 'pos': 0.133, 'compound': -0.972}"
      ]
     },
     "execution_count": 13,
     "metadata": {},
     "output_type": "execute_result"
    },
    {
     "data": {
      "text/plain": [
       "{'neg': 0.067, 'neu': 0.869, 'pos': 0.064, 'compound': -0.6059}"
      ]
     },
     "execution_count": 13,
     "metadata": {},
     "output_type": "execute_result"
    },
    {
     "data": {
      "text/plain": [
       "{'neg': 0.074, 'neu': 0.825, 'pos': 0.102, 'compound': 0.9118}"
      ]
     },
     "execution_count": 13,
     "metadata": {},
     "output_type": "execute_result"
    },
    {
     "data": {
      "text/plain": [
       "{'neg': 0.181, 'neu': 0.755, 'pos': 0.064, 'compound': -0.9928}"
      ]
     },
     "execution_count": 13,
     "metadata": {},
     "output_type": "execute_result"
    },
    {
     "data": {
      "text/plain": [
       "{'neg': 0.19, 'neu': 0.745, 'pos': 0.066, 'compound': -0.9914}"
      ]
     },
     "execution_count": 13,
     "metadata": {},
     "output_type": "execute_result"
    },
    {
     "data": {
      "text/plain": [
       "{'neg': 0.095, 'neu': 0.864, 'pos': 0.041, 'compound': -0.9618}"
      ]
     },
     "execution_count": 13,
     "metadata": {},
     "output_type": "execute_result"
    },
    {
     "data": {
      "text/plain": [
       "{'neg': 0.16, 'neu': 0.804, 'pos': 0.036, 'compound': -0.9944}"
      ]
     },
     "execution_count": 13,
     "metadata": {},
     "output_type": "execute_result"
    },
    {
     "data": {
      "text/plain": [
       "{'neg': 0.234, 'neu': 0.698, 'pos': 0.068, 'compound': -0.998}"
      ]
     },
     "execution_count": 13,
     "metadata": {},
     "output_type": "execute_result"
    },
    {
     "data": {
      "text/plain": [
       "{'neg': 0.106, 'neu': 0.887, 'pos': 0.007, 'compound': -0.9565}"
      ]
     },
     "execution_count": 13,
     "metadata": {},
     "output_type": "execute_result"
    },
    {
     "data": {
      "text/plain": [
       "{'neg': 0.226, 'neu': 0.733, 'pos': 0.041, 'compound': -0.9865}"
      ]
     },
     "execution_count": 13,
     "metadata": {},
     "output_type": "execute_result"
    },
    {
     "data": {
      "text/plain": [
       "{'neg': 0.156, 'neu': 0.745, 'pos': 0.099, 'compound': -0.9674}"
      ]
     },
     "execution_count": 13,
     "metadata": {},
     "output_type": "execute_result"
    },
    {
     "data": {
      "text/plain": [
       "{'neg': 0.125, 'neu': 0.81, 'pos': 0.065, 'compound': -0.9618}"
      ]
     },
     "execution_count": 13,
     "metadata": {},
     "output_type": "execute_result"
    },
    {
     "data": {
      "text/plain": [
       "{'neg': 0.182, 'neu': 0.747, 'pos': 0.071, 'compound': -0.9887}"
      ]
     },
     "execution_count": 13,
     "metadata": {},
     "output_type": "execute_result"
    },
    {
     "data": {
      "text/plain": [
       "{'neg': 0.165, 'neu': 0.772, 'pos': 0.062, 'compound': -0.9852}"
      ]
     },
     "execution_count": 13,
     "metadata": {},
     "output_type": "execute_result"
    },
    {
     "data": {
      "text/plain": [
       "{'neg': 0.098, 'neu': 0.815, 'pos': 0.087, 'compound': -0.5994}"
      ]
     },
     "execution_count": 13,
     "metadata": {},
     "output_type": "execute_result"
    },
    {
     "data": {
      "text/plain": [
       "{'neg': 0.129, 'neu': 0.818, 'pos': 0.053, 'compound': -0.9878}"
      ]
     },
     "execution_count": 13,
     "metadata": {},
     "output_type": "execute_result"
    },
    {
     "data": {
      "text/plain": [
       "{'neg': 0.191, 'neu': 0.701, 'pos': 0.108, 'compound': -0.9758}"
      ]
     },
     "execution_count": 13,
     "metadata": {},
     "output_type": "execute_result"
    },
    {
     "data": {
      "text/plain": [
       "{'neg': 0.158, 'neu': 0.771, 'pos': 0.072, 'compound': -0.9779}"
      ]
     },
     "execution_count": 13,
     "metadata": {},
     "output_type": "execute_result"
    },
    {
     "data": {
      "text/plain": [
       "{'neg': 0.205, 'neu': 0.738, 'pos': 0.057, 'compound': -0.9803}"
      ]
     },
     "execution_count": 13,
     "metadata": {},
     "output_type": "execute_result"
    },
    {
     "data": {
      "text/plain": [
       "{'neg': 0.16, 'neu': 0.78, 'pos': 0.059, 'compound': -0.9933}"
      ]
     },
     "execution_count": 13,
     "metadata": {},
     "output_type": "execute_result"
    },
    {
     "data": {
      "text/plain": [
       "{'neg': 0.145, 'neu': 0.791, 'pos': 0.064, 'compound': -0.9652}"
      ]
     },
     "execution_count": 13,
     "metadata": {},
     "output_type": "execute_result"
    },
    {
     "data": {
      "text/plain": [
       "{'neg': 0.17, 'neu': 0.768, 'pos': 0.062, 'compound': -0.9877}"
      ]
     },
     "execution_count": 13,
     "metadata": {},
     "output_type": "execute_result"
    },
    {
     "data": {
      "text/plain": [
       "{'neg': 0.111, 'neu': 0.791, 'pos': 0.099, 'compound': -0.7096}"
      ]
     },
     "execution_count": 13,
     "metadata": {},
     "output_type": "execute_result"
    },
    {
     "data": {
      "text/plain": [
       "{'neg': 0.181, 'neu': 0.755, 'pos': 0.063, 'compound': -0.9946}"
      ]
     },
     "execution_count": 13,
     "metadata": {},
     "output_type": "execute_result"
    },
    {
     "data": {
      "text/plain": [
       "{'neg': 0.141, 'neu': 0.804, 'pos': 0.055, 'compound': -0.9875}"
      ]
     },
     "execution_count": 13,
     "metadata": {},
     "output_type": "execute_result"
    },
    {
     "data": {
      "text/plain": [
       "{'neg': 0.137, 'neu': 0.821, 'pos': 0.042, 'compound': -0.9817}"
      ]
     },
     "execution_count": 13,
     "metadata": {},
     "output_type": "execute_result"
    },
    {
     "data": {
      "text/plain": [
       "{'neg': 0.188, 'neu': 0.73, 'pos': 0.081, 'compound': -0.9867}"
      ]
     },
     "execution_count": 13,
     "metadata": {},
     "output_type": "execute_result"
    },
    {
     "data": {
      "text/plain": [
       "{'neg': 0.201, 'neu': 0.749, 'pos': 0.051, 'compound': -0.9709}"
      ]
     },
     "execution_count": 13,
     "metadata": {},
     "output_type": "execute_result"
    },
    {
     "data": {
      "text/plain": [
       "{'neg': 0.17, 'neu': 0.769, 'pos': 0.06, 'compound': -0.984}"
      ]
     },
     "execution_count": 13,
     "metadata": {},
     "output_type": "execute_result"
    },
    {
     "data": {
      "text/plain": [
       "{'neg': 0.157, 'neu': 0.761, 'pos': 0.082, 'compound': -0.994}"
      ]
     },
     "execution_count": 13,
     "metadata": {},
     "output_type": "execute_result"
    },
    {
     "data": {
      "text/plain": [
       "{'neg': 0.212, 'neu': 0.692, 'pos': 0.097, 'compound': -0.9982}"
      ]
     },
     "execution_count": 13,
     "metadata": {},
     "output_type": "execute_result"
    },
    {
     "data": {
      "text/plain": [
       "{'neg': 0.206, 'neu': 0.764, 'pos': 0.03, 'compound': -0.991}"
      ]
     },
     "execution_count": 13,
     "metadata": {},
     "output_type": "execute_result"
    },
    {
     "data": {
      "text/plain": [
       "{'neg': 0.1, 'neu': 0.832, 'pos': 0.069, 'compound': -0.836}"
      ]
     },
     "execution_count": 13,
     "metadata": {},
     "output_type": "execute_result"
    },
    {
     "data": {
      "text/plain": [
       "{'neg': 0.075, 'neu': 0.806, 'pos': 0.12, 'compound': 0.8885}"
      ]
     },
     "execution_count": 13,
     "metadata": {},
     "output_type": "execute_result"
    },
    {
     "data": {
      "text/plain": [
       "{'neg': 0.202, 'neu': 0.702, 'pos': 0.096, 'compound': -0.9871}"
      ]
     },
     "execution_count": 13,
     "metadata": {},
     "output_type": "execute_result"
    },
    {
     "data": {
      "text/plain": [
       "{'neg': 0.159, 'neu': 0.763, 'pos': 0.078, 'compound': -0.9538}"
      ]
     },
     "execution_count": 13,
     "metadata": {},
     "output_type": "execute_result"
    },
    {
     "data": {
      "text/plain": [
       "{'neg': 0.172, 'neu': 0.729, 'pos': 0.1, 'compound': -0.9612}"
      ]
     },
     "execution_count": 13,
     "metadata": {},
     "output_type": "execute_result"
    },
    {
     "data": {
      "text/plain": [
       "{'neg': 0.103, 'neu': 0.81, 'pos': 0.087, 'compound': -0.8126}"
      ]
     },
     "execution_count": 13,
     "metadata": {},
     "output_type": "execute_result"
    },
    {
     "data": {
      "text/plain": [
       "{'neg': 0.1, 'neu': 0.818, 'pos': 0.082, 'compound': -0.5719}"
      ]
     },
     "execution_count": 13,
     "metadata": {},
     "output_type": "execute_result"
    },
    {
     "data": {
      "text/plain": [
       "{'neg': 0.129, 'neu': 0.796, 'pos': 0.076, 'compound': -0.9413}"
      ]
     },
     "execution_count": 13,
     "metadata": {},
     "output_type": "execute_result"
    },
    {
     "data": {
      "text/plain": [
       "{'neg': 0.123, 'neu': 0.778, 'pos': 0.099, 'compound': -0.8481}"
      ]
     },
     "execution_count": 13,
     "metadata": {},
     "output_type": "execute_result"
    },
    {
     "data": {
      "text/plain": [
       "{'neg': 0.118, 'neu': 0.874, 'pos': 0.008, 'compound': -0.9451}"
      ]
     },
     "execution_count": 13,
     "metadata": {},
     "output_type": "execute_result"
    },
    {
     "data": {
      "text/plain": [
       "{'neg': 0.127, 'neu': 0.79, 'pos': 0.083, 'compound': -0.8481}"
      ]
     },
     "execution_count": 13,
     "metadata": {},
     "output_type": "execute_result"
    },
    {
     "data": {
      "text/plain": [
       "{'neg': 0.155, 'neu': 0.739, 'pos': 0.105, 'compound': -0.9246}"
      ]
     },
     "execution_count": 13,
     "metadata": {},
     "output_type": "execute_result"
    },
    {
     "data": {
      "text/plain": [
       "{'neg': 0.117, 'neu': 0.815, 'pos': 0.068, 'compound': -0.9042}"
      ]
     },
     "execution_count": 13,
     "metadata": {},
     "output_type": "execute_result"
    },
    {
     "data": {
      "text/plain": [
       "{'neg': 0.124, 'neu': 0.795, 'pos': 0.081, 'compound': -0.8555}"
      ]
     },
     "execution_count": 13,
     "metadata": {},
     "output_type": "execute_result"
    },
    {
     "data": {
      "text/plain": [
       "{'neg': 0.11, 'neu': 0.795, 'pos': 0.096, 'compound': -0.7181}"
      ]
     },
     "execution_count": 13,
     "metadata": {},
     "output_type": "execute_result"
    },
    {
     "data": {
      "text/plain": [
       "{'neg': 0.097, 'neu': 0.809, 'pos': 0.095, 'compound': -0.1531}"
      ]
     },
     "execution_count": 13,
     "metadata": {},
     "output_type": "execute_result"
    },
    {
     "data": {
      "text/plain": [
       "{'neg': 0.149, 'neu': 0.771, 'pos': 0.08, 'compound': -0.9944}"
      ]
     },
     "execution_count": 13,
     "metadata": {},
     "output_type": "execute_result"
    },
    {
     "data": {
      "text/plain": [
       "{'neg': 0.184, 'neu': 0.745, 'pos': 0.072, 'compound': -0.9794}"
      ]
     },
     "execution_count": 13,
     "metadata": {},
     "output_type": "execute_result"
    },
    {
     "data": {
      "text/plain": [
       "{'neg': 0.097, 'neu': 0.797, 'pos': 0.107, 'compound': -0.1531}"
      ]
     },
     "execution_count": 13,
     "metadata": {},
     "output_type": "execute_result"
    },
    {
     "data": {
      "text/plain": [
       "{'neg': 0.097, 'neu': 0.794, 'pos': 0.109, 'compound': -0.0964}"
      ]
     },
     "execution_count": 13,
     "metadata": {},
     "output_type": "execute_result"
    },
    {
     "data": {
      "text/plain": [
       "{'neg': 0.109, 'neu': 0.817, 'pos': 0.074, 'compound': -0.9201}"
      ]
     },
     "execution_count": 13,
     "metadata": {},
     "output_type": "execute_result"
    },
    {
     "data": {
      "text/plain": [
       "{'neg': 0.101, 'neu': 0.797, 'pos': 0.102, 'compound': -0.5423}"
      ]
     },
     "execution_count": 13,
     "metadata": {},
     "output_type": "execute_result"
    },
    {
     "data": {
      "text/plain": [
       "{'neg': 0.094, 'neu': 0.803, 'pos': 0.103, 'compound': -0.0258}"
      ]
     },
     "execution_count": 13,
     "metadata": {},
     "output_type": "execute_result"
    },
    {
     "data": {
      "text/plain": [
       "{'neg': 0.129, 'neu': 0.787, 'pos': 0.084, 'compound': -0.9524}"
      ]
     },
     "execution_count": 13,
     "metadata": {},
     "output_type": "execute_result"
    },
    {
     "data": {
      "text/plain": [
       "{'neg': 0.233, 'neu': 0.73, 'pos': 0.037, 'compound': -0.9887}"
      ]
     },
     "execution_count": 13,
     "metadata": {},
     "output_type": "execute_result"
    },
    {
     "data": {
      "text/plain": [
       "{'neg': 0.15, 'neu': 0.767, 'pos': 0.083, 'compound': -0.9946}"
      ]
     },
     "execution_count": 13,
     "metadata": {},
     "output_type": "execute_result"
    },
    {
     "data": {
      "text/plain": [
       "{'neg': 0.146, 'neu': 0.774, 'pos': 0.08, 'compound': -0.9849}"
      ]
     },
     "execution_count": 13,
     "metadata": {},
     "output_type": "execute_result"
    },
    {
     "data": {
      "text/plain": [
       "{'neg': 0.143, 'neu': 0.773, 'pos': 0.085, 'compound': -0.9843}"
      ]
     },
     "execution_count": 13,
     "metadata": {},
     "output_type": "execute_result"
    },
    {
     "data": {
      "text/plain": [
       "{'neg': 0.14, 'neu': 0.733, 'pos': 0.127, 'compound': -0.81}"
      ]
     },
     "execution_count": 13,
     "metadata": {},
     "output_type": "execute_result"
    },
    {
     "data": {
      "text/plain": [
       "{'neg': 0.048, 'neu': 0.776, 'pos': 0.176, 'compound': 0.9924}"
      ]
     },
     "execution_count": 13,
     "metadata": {},
     "output_type": "execute_result"
    },
    {
     "data": {
      "text/plain": [
       "{'neg': 0.21, 'neu': 0.709, 'pos': 0.082, 'compound': -0.9848}"
      ]
     },
     "execution_count": 13,
     "metadata": {},
     "output_type": "execute_result"
    },
    {
     "data": {
      "text/plain": [
       "{'neg': 0.097, 'neu': 0.829, 'pos': 0.074, 'compound': -0.802}"
      ]
     },
     "execution_count": 13,
     "metadata": {},
     "output_type": "execute_result"
    },
    {
     "data": {
      "text/plain": [
       "{'neg': 0.136, 'neu': 0.764, 'pos': 0.099, 'compound': -0.872}"
      ]
     },
     "execution_count": 13,
     "metadata": {},
     "output_type": "execute_result"
    },
    {
     "data": {
      "text/plain": [
       "{'neg': 0.172, 'neu': 0.752, 'pos': 0.076, 'compound': -0.981}"
      ]
     },
     "execution_count": 13,
     "metadata": {},
     "output_type": "execute_result"
    },
    {
     "data": {
      "text/plain": [
       "{'neg': 0.169, 'neu': 0.704, 'pos': 0.127, 'compound': -0.9612}"
      ]
     },
     "execution_count": 13,
     "metadata": {},
     "output_type": "execute_result"
    },
    {
     "data": {
      "text/plain": [
       "{'neg': 0.158, 'neu': 0.728, 'pos': 0.113, 'compound': -0.9274}"
      ]
     },
     "execution_count": 13,
     "metadata": {},
     "output_type": "execute_result"
    },
    {
     "data": {
      "text/plain": [
       "{'neg': 0.094, 'neu': 0.821, 'pos': 0.085, 'compound': -0.5994}"
      ]
     },
     "execution_count": 13,
     "metadata": {},
     "output_type": "execute_result"
    },
    {
     "data": {
      "text/plain": [
       "{'neg': 0.187, 'neu': 0.753, 'pos': 0.06, 'compound': -0.9909}"
      ]
     },
     "execution_count": 13,
     "metadata": {},
     "output_type": "execute_result"
    },
    {
     "data": {
      "text/plain": [
       "{'neg': 0.171, 'neu': 0.755, 'pos': 0.074, 'compound': -0.9724}"
      ]
     },
     "execution_count": 13,
     "metadata": {},
     "output_type": "execute_result"
    },
    {
     "data": {
      "text/plain": [
       "{'neg': 0.219, 'neu': 0.695, 'pos': 0.086, 'compound': -0.995}"
      ]
     },
     "execution_count": 13,
     "metadata": {},
     "output_type": "execute_result"
    },
    {
     "data": {
      "text/plain": [
       "{'neg': 0.202, 'neu': 0.739, 'pos': 0.059, 'compound': -0.9946}"
      ]
     },
     "execution_count": 13,
     "metadata": {},
     "output_type": "execute_result"
    },
    {
     "data": {
      "text/plain": [
       "{'neg': 0.223, 'neu': 0.697, 'pos': 0.081, 'compound': -0.9929}"
      ]
     },
     "execution_count": 13,
     "metadata": {},
     "output_type": "execute_result"
    },
    {
     "data": {
      "text/plain": [
       "{'neg': 0.047, 'neu': 0.883, 'pos': 0.07, 'compound': 0.8765}"
      ]
     },
     "execution_count": 13,
     "metadata": {},
     "output_type": "execute_result"
    },
    {
     "data": {
      "text/plain": [
       "{'neg': 0.171, 'neu': 0.781, 'pos': 0.047, 'compound': -0.9758}"
      ]
     },
     "execution_count": 13,
     "metadata": {},
     "output_type": "execute_result"
    },
    {
     "data": {
      "text/plain": [
       "{'neg': 0.212, 'neu': 0.735, 'pos': 0.052, 'compound': -0.9985}"
      ]
     },
     "execution_count": 13,
     "metadata": {},
     "output_type": "execute_result"
    },
    {
     "data": {
      "text/plain": [
       "{'neg': 0.212, 'neu': 0.728, 'pos': 0.06, 'compound': -0.9988}"
      ]
     },
     "execution_count": 13,
     "metadata": {},
     "output_type": "execute_result"
    },
    {
     "data": {
      "text/plain": [
       "{'neg': 0.155, 'neu': 0.768, 'pos': 0.077, 'compound': -0.9848}"
      ]
     },
     "execution_count": 13,
     "metadata": {},
     "output_type": "execute_result"
    },
    {
     "data": {
      "text/plain": [
       "{'neg': 0.193, 'neu': 0.723, 'pos': 0.084, 'compound': -0.993}"
      ]
     },
     "execution_count": 13,
     "metadata": {},
     "output_type": "execute_result"
    },
    {
     "data": {
      "text/plain": [
       "{'neg': 0.171, 'neu': 0.757, 'pos': 0.072, 'compound': -0.9857}"
      ]
     },
     "execution_count": 13,
     "metadata": {},
     "output_type": "execute_result"
    },
    {
     "data": {
      "text/plain": [
       "{'neg': 0.155, 'neu': 0.741, 'pos': 0.104, 'compound': -0.9775}"
      ]
     },
     "execution_count": 13,
     "metadata": {},
     "output_type": "execute_result"
    },
    {
     "data": {
      "text/plain": [
       "{'neg': 0.17, 'neu': 0.72, 'pos': 0.111, 'compound': -0.9866}"
      ]
     },
     "execution_count": 13,
     "metadata": {},
     "output_type": "execute_result"
    },
    {
     "data": {
      "text/plain": [
       "{'neg': 0.173, 'neu': 0.761, 'pos': 0.067, 'compound': -0.9917}"
      ]
     },
     "execution_count": 13,
     "metadata": {},
     "output_type": "execute_result"
    },
    {
     "data": {
      "text/plain": [
       "{'neg': 0.214, 'neu': 0.702, 'pos': 0.084, 'compound': -0.995}"
      ]
     },
     "execution_count": 13,
     "metadata": {},
     "output_type": "execute_result"
    },
    {
     "data": {
      "text/plain": [
       "{'neg': 0.155, 'neu': 0.749, 'pos': 0.097, 'compound': -0.9691}"
      ]
     },
     "execution_count": 13,
     "metadata": {},
     "output_type": "execute_result"
    },
    {
     "data": {
      "text/plain": [
       "{'neg': 0.141, 'neu': 0.761, 'pos': 0.098, 'compound': -0.9287}"
      ]
     },
     "execution_count": 13,
     "metadata": {},
     "output_type": "execute_result"
    },
    {
     "data": {
      "text/plain": [
       "{'neg': 0.132, 'neu': 0.811, 'pos': 0.057, 'compound': -0.9595}"
      ]
     },
     "execution_count": 13,
     "metadata": {},
     "output_type": "execute_result"
    },
    {
     "data": {
      "text/plain": [
       "{'neg': 0.17, 'neu': 0.765, 'pos': 0.065, 'compound': -0.9786}"
      ]
     },
     "execution_count": 13,
     "metadata": {},
     "output_type": "execute_result"
    },
    {
     "data": {
      "text/plain": [
       "{'neg': 0.095, 'neu': 0.894, 'pos': 0.01, 'compound': -0.946}"
      ]
     },
     "execution_count": 13,
     "metadata": {},
     "output_type": "execute_result"
    },
    {
     "data": {
      "text/plain": [
       "{'neg': 0.127, 'neu': 0.809, 'pos': 0.064, 'compound': -0.9468}"
      ]
     },
     "execution_count": 13,
     "metadata": {},
     "output_type": "execute_result"
    },
    {
     "data": {
      "text/plain": [
       "{'neg': 0.131, 'neu': 0.806, 'pos': 0.063, 'compound': -0.9607}"
      ]
     },
     "execution_count": 13,
     "metadata": {},
     "output_type": "execute_result"
    },
    {
     "data": {
      "text/plain": [
       "{'neg': 0.097, 'neu': 0.841, 'pos': 0.062, 'compound': -0.7906}"
      ]
     },
     "execution_count": 13,
     "metadata": {},
     "output_type": "execute_result"
    },
    {
     "data": {
      "text/plain": [
       "{'neg': 0.137, 'neu': 0.801, 'pos': 0.062, 'compound': -0.9538}"
      ]
     },
     "execution_count": 13,
     "metadata": {},
     "output_type": "execute_result"
    },
    {
     "data": {
      "text/plain": [
       "{'neg': 0.128, 'neu': 0.792, 'pos': 0.08, 'compound': -0.8658}"
      ]
     },
     "execution_count": 13,
     "metadata": {},
     "output_type": "execute_result"
    },
    {
     "data": {
      "text/plain": [
       "{'neg': 0.121, 'neu': 0.786, 'pos': 0.093, 'compound': -0.8074}"
      ]
     },
     "execution_count": 13,
     "metadata": {},
     "output_type": "execute_result"
    },
    {
     "data": {
      "text/plain": [
       "{'neg': 0.178, 'neu': 0.756, 'pos': 0.066, 'compound': -0.9824}"
      ]
     },
     "execution_count": 13,
     "metadata": {},
     "output_type": "execute_result"
    },
    {
     "data": {
      "text/plain": [
       "{'neg': 0.172, 'neu': 0.783, 'pos': 0.045, 'compound': -0.9936}"
      ]
     },
     "execution_count": 13,
     "metadata": {},
     "output_type": "execute_result"
    },
    {
     "data": {
      "text/plain": [
       "{'neg': 0.16, 'neu': 0.751, 'pos': 0.089, 'compound': -0.9889}"
      ]
     },
     "execution_count": 13,
     "metadata": {},
     "output_type": "execute_result"
    },
    {
     "data": {
      "text/plain": [
       "{'neg': 0.204, 'neu': 0.708, 'pos': 0.089, 'compound': -0.9974}"
      ]
     },
     "execution_count": 13,
     "metadata": {},
     "output_type": "execute_result"
    },
    {
     "data": {
      "text/plain": [
       "{'neg': 0.17, 'neu': 0.719, 'pos': 0.111, 'compound': -0.9932}"
      ]
     },
     "execution_count": 13,
     "metadata": {},
     "output_type": "execute_result"
    },
    {
     "data": {
      "text/plain": [
       "{'neg': 0.22, 'neu': 0.73, 'pos': 0.051, 'compound': -0.9905}"
      ]
     },
     "execution_count": 13,
     "metadata": {},
     "output_type": "execute_result"
    },
    {
     "data": {
      "text/plain": [
       "{'neg': 0.177, 'neu': 0.786, 'pos': 0.036, 'compound': -0.9941}"
      ]
     },
     "execution_count": 13,
     "metadata": {},
     "output_type": "execute_result"
    },
    {
     "data": {
      "text/plain": [
       "{'neg': 0.135, 'neu': 0.768, 'pos': 0.097, 'compound': -0.9389}"
      ]
     },
     "execution_count": 13,
     "metadata": {},
     "output_type": "execute_result"
    },
    {
     "data": {
      "text/plain": [
       "{'neg': 0.139, 'neu': 0.779, 'pos': 0.082, 'compound': -0.9313}"
      ]
     },
     "execution_count": 13,
     "metadata": {},
     "output_type": "execute_result"
    },
    {
     "data": {
      "text/plain": [
       "{'neg': 0.196, 'neu': 0.74, 'pos': 0.064, 'compound': -0.9766}"
      ]
     },
     "execution_count": 13,
     "metadata": {},
     "output_type": "execute_result"
    },
    {
     "data": {
      "text/plain": [
       "{'neg': 0.154, 'neu': 0.775, 'pos': 0.071, 'compound': -0.8225}"
      ]
     },
     "execution_count": 13,
     "metadata": {},
     "output_type": "execute_result"
    },
    {
     "data": {
      "text/plain": [
       "{'neg': 0.174, 'neu': 0.747, 'pos': 0.079, 'compound': -0.9769}"
      ]
     },
     "execution_count": 13,
     "metadata": {},
     "output_type": "execute_result"
    },
    {
     "data": {
      "text/plain": [
       "{'neg': 0.088, 'neu': 0.858, 'pos': 0.054, 'compound': -0.8809}"
      ]
     },
     "execution_count": 13,
     "metadata": {},
     "output_type": "execute_result"
    },
    {
     "data": {
      "text/plain": [
       "{'neg': 0.176, 'neu': 0.75, 'pos': 0.075, 'compound': -0.9803}"
      ]
     },
     "execution_count": 13,
     "metadata": {},
     "output_type": "execute_result"
    },
    {
     "data": {
      "text/plain": [
       "{'neg': 0.128, 'neu': 0.778, 'pos': 0.094, 'compound': -0.9595}"
      ]
     },
     "execution_count": 13,
     "metadata": {},
     "output_type": "execute_result"
    },
    {
     "data": {
      "text/plain": [
       "{'neg': 0.125, 'neu': 0.783, 'pos': 0.092, 'compound': -0.9008}"
      ]
     },
     "execution_count": 13,
     "metadata": {},
     "output_type": "execute_result"
    },
    {
     "data": {
      "text/plain": [
       "{'neg': 0.171, 'neu': 0.766, 'pos': 0.063, 'compound': -0.9884}"
      ]
     },
     "execution_count": 13,
     "metadata": {},
     "output_type": "execute_result"
    },
    {
     "data": {
      "text/plain": [
       "{'neg': 0.167, 'neu': 0.733, 'pos': 0.1, 'compound': -0.9674}"
      ]
     },
     "execution_count": 13,
     "metadata": {},
     "output_type": "execute_result"
    },
    {
     "data": {
      "text/plain": [
       "{'neg': 0.154, 'neu': 0.764, 'pos': 0.082, 'compound': -0.9967}"
      ]
     },
     "execution_count": 13,
     "metadata": {},
     "output_type": "execute_result"
    },
    {
     "data": {
      "text/plain": [
       "{'neg': 0.114, 'neu': 0.812, 'pos': 0.074, 'compound': -0.9042}"
      ]
     },
     "execution_count": 13,
     "metadata": {},
     "output_type": "execute_result"
    },
    {
     "data": {
      "text/plain": [
       "{'neg': 0.12, 'neu': 0.85, 'pos': 0.03, 'compound': -0.9823}"
      ]
     },
     "execution_count": 13,
     "metadata": {},
     "output_type": "execute_result"
    },
    {
     "data": {
      "text/plain": [
       "{'neg': 0.119, 'neu': 0.815, 'pos': 0.065, 'compound': -0.8846}"
      ]
     },
     "execution_count": 13,
     "metadata": {},
     "output_type": "execute_result"
    },
    {
     "data": {
      "text/plain": [
       "{'neg': 0.092, 'neu': 0.82, 'pos': 0.088, 'compound': -0.128}"
      ]
     },
     "execution_count": 13,
     "metadata": {},
     "output_type": "execute_result"
    },
    {
     "data": {
      "text/plain": [
       "{'neg': 0.16, 'neu': 0.714, 'pos': 0.126, 'compound': -0.922}"
      ]
     },
     "execution_count": 13,
     "metadata": {},
     "output_type": "execute_result"
    },
    {
     "data": {
      "text/plain": [
       "{'neg': 0.197, 'neu': 0.751, 'pos': 0.053, 'compound': -0.9911}"
      ]
     },
     "execution_count": 13,
     "metadata": {},
     "output_type": "execute_result"
    },
    {
     "data": {
      "text/plain": [
       "{'neg': 0.141, 'neu': 0.764, 'pos': 0.096, 'compound': -0.986}"
      ]
     },
     "execution_count": 13,
     "metadata": {},
     "output_type": "execute_result"
    },
    {
     "data": {
      "text/plain": [
       "{'neg': 0.127, 'neu': 0.796, 'pos': 0.078, 'compound': -0.9042}"
      ]
     },
     "execution_count": 13,
     "metadata": {},
     "output_type": "execute_result"
    },
    {
     "data": {
      "text/plain": [
       "{'neg': 0.108, 'neu': 0.819, 'pos': 0.073, 'compound': -0.8519}"
      ]
     },
     "execution_count": 13,
     "metadata": {},
     "output_type": "execute_result"
    },
    {
     "data": {
      "text/plain": [
       "{'neg': 0.165, 'neu': 0.748, 'pos': 0.087, 'compound': -0.9908}"
      ]
     },
     "execution_count": 13,
     "metadata": {},
     "output_type": "execute_result"
    },
    {
     "data": {
      "text/plain": [
       "{'neg': 0.158, 'neu': 0.776, 'pos': 0.066, 'compound': -0.9824}"
      ]
     },
     "execution_count": 13,
     "metadata": {},
     "output_type": "execute_result"
    },
    {
     "data": {
      "text/plain": [
       "{'neg': 0.14, 'neu': 0.775, 'pos': 0.085, 'compound': -0.9231}"
      ]
     },
     "execution_count": 13,
     "metadata": {},
     "output_type": "execute_result"
    },
    {
     "data": {
      "text/plain": [
       "{'neg': 0.115, 'neu': 0.772, 'pos': 0.113, 'compound': -0.3612}"
      ]
     },
     "execution_count": 13,
     "metadata": {},
     "output_type": "execute_result"
    },
    {
     "data": {
      "text/plain": [
       "{'neg': 0.18, 'neu': 0.747, 'pos': 0.073, 'compound': -0.9468}"
      ]
     },
     "execution_count": 13,
     "metadata": {},
     "output_type": "execute_result"
    },
    {
     "data": {
      "text/plain": [
       "{'neg': 0.141, 'neu': 0.825, 'pos': 0.034, 'compound': -0.9893}"
      ]
     },
     "execution_count": 13,
     "metadata": {},
     "output_type": "execute_result"
    },
    {
     "data": {
      "text/plain": [
       "{'neg': 0.163, 'neu': 0.809, 'pos': 0.028, 'compound': -0.9932}"
      ]
     },
     "execution_count": 13,
     "metadata": {},
     "output_type": "execute_result"
    },
    {
     "data": {
      "text/plain": [
       "{'neg': 0.089, 'neu': 0.798, 'pos': 0.112, 'compound': 0.5423}"
      ]
     },
     "execution_count": 13,
     "metadata": {},
     "output_type": "execute_result"
    },
    {
     "data": {
      "text/plain": [
       "{'neg': 0.118, 'neu': 0.79, 'pos': 0.092, 'compound': -0.9118}"
      ]
     },
     "execution_count": 13,
     "metadata": {},
     "output_type": "execute_result"
    },
    {
     "data": {
      "text/plain": [
       "{'neg': 0.13, 'neu': 0.825, 'pos': 0.045, 'compound': -0.9853}"
      ]
     },
     "execution_count": 13,
     "metadata": {},
     "output_type": "execute_result"
    },
    {
     "data": {
      "text/plain": [
       "{'neg': 0.125, 'neu': 0.819, 'pos': 0.056, 'compound': -0.9803}"
      ]
     },
     "execution_count": 13,
     "metadata": {},
     "output_type": "execute_result"
    },
    {
     "data": {
      "text/plain": [
       "{'neg': 0.221, 'neu': 0.744, 'pos': 0.034, 'compound': -0.9912}"
      ]
     },
     "execution_count": 13,
     "metadata": {},
     "output_type": "execute_result"
    },
    {
     "data": {
      "text/plain": [
       "{'neg': 0.201, 'neu': 0.772, 'pos': 0.027, 'compound': -0.9924}"
      ]
     },
     "execution_count": 13,
     "metadata": {},
     "output_type": "execute_result"
    },
    {
     "data": {
      "text/plain": [
       "{'neg': 0.169, 'neu': 0.763, 'pos': 0.068, 'compound': -0.9806}"
      ]
     },
     "execution_count": 13,
     "metadata": {},
     "output_type": "execute_result"
    },
    {
     "data": {
      "text/plain": [
       "{'neg': 0.138, 'neu': 0.81, 'pos': 0.052, 'compound': -0.9891}"
      ]
     },
     "execution_count": 13,
     "metadata": {},
     "output_type": "execute_result"
    },
    {
     "data": {
      "text/plain": [
       "{'neg': 0.0, 'neu': 0.95, 'pos': 0.05, 'compound': 0.8481}"
      ]
     },
     "execution_count": 13,
     "metadata": {},
     "output_type": "execute_result"
    },
    {
     "data": {
      "text/plain": [
       "{'neg': 0.108, 'neu': 0.813, 'pos': 0.079, 'compound': -0.9274}"
      ]
     },
     "execution_count": 13,
     "metadata": {},
     "output_type": "execute_result"
    },
    {
     "data": {
      "text/plain": [
       "{'neg': 0.109, 'neu': 0.808, 'pos': 0.082, 'compound': -0.8957}"
      ]
     },
     "execution_count": 13,
     "metadata": {},
     "output_type": "execute_result"
    },
    {
     "data": {
      "text/plain": [
       "{'neg': 0.118, 'neu': 0.828, 'pos': 0.054, 'compound': -0.9632}"
      ]
     },
     "execution_count": 13,
     "metadata": {},
     "output_type": "execute_result"
    },
    {
     "data": {
      "text/plain": [
       "{'neg': 0.133, 'neu': 0.819, 'pos': 0.048, 'compound': -0.9787}"
      ]
     },
     "execution_count": 13,
     "metadata": {},
     "output_type": "execute_result"
    },
    {
     "data": {
      "text/plain": [
       "{'neg': 0.104, 'neu': 0.834, 'pos': 0.063, 'compound': -0.8834}"
      ]
     },
     "execution_count": 13,
     "metadata": {},
     "output_type": "execute_result"
    },
    {
     "data": {
      "text/plain": [
       "{'neg': 0.109, 'neu': 0.813, 'pos': 0.078, 'compound': -0.6908}"
      ]
     },
     "execution_count": 13,
     "metadata": {},
     "output_type": "execute_result"
    },
    {
     "data": {
      "text/plain": [
       "{'neg': 0.211, 'neu': 0.7, 'pos': 0.089, 'compound': -0.9962}"
      ]
     },
     "execution_count": 13,
     "metadata": {},
     "output_type": "execute_result"
    },
    {
     "data": {
      "text/plain": [
       "{'neg': 0.182, 'neu': 0.759, 'pos': 0.059, 'compound': -0.9975}"
      ]
     },
     "execution_count": 13,
     "metadata": {},
     "output_type": "execute_result"
    },
    {
     "data": {
      "text/plain": [
       "{'neg': 0.176, 'neu': 0.766, 'pos': 0.058, 'compound': -0.9847}"
      ]
     },
     "execution_count": 13,
     "metadata": {},
     "output_type": "execute_result"
    },
    {
     "data": {
      "text/plain": [
       "{'neg': 0.164, 'neu': 0.767, 'pos': 0.069, 'compound': -0.9953}"
      ]
     },
     "execution_count": 13,
     "metadata": {},
     "output_type": "execute_result"
    },
    {
     "data": {
      "text/plain": [
       "{'neg': 0.172, 'neu': 0.759, 'pos': 0.069, 'compound': -0.9808}"
      ]
     },
     "execution_count": 13,
     "metadata": {},
     "output_type": "execute_result"
    },
    {
     "data": {
      "text/plain": [
       "{'neg': 0.121, 'neu': 0.783, 'pos': 0.096, 'compound': -0.8429}"
      ]
     },
     "execution_count": 13,
     "metadata": {},
     "output_type": "execute_result"
    },
    {
     "data": {
      "text/plain": [
       "{'neg': 0.282, 'neu': 0.685, 'pos': 0.033, 'compound': -0.9964}"
      ]
     },
     "execution_count": 13,
     "metadata": {},
     "output_type": "execute_result"
    },
    {
     "data": {
      "text/plain": [
       "{'neg': 0.198, 'neu': 0.739, 'pos': 0.063, 'compound': -0.9987}"
      ]
     },
     "execution_count": 13,
     "metadata": {},
     "output_type": "execute_result"
    },
    {
     "data": {
      "text/plain": [
       "{'neg': 0.167, 'neu': 0.759, 'pos': 0.075, 'compound': -0.9979}"
      ]
     },
     "execution_count": 13,
     "metadata": {},
     "output_type": "execute_result"
    },
    {
     "data": {
      "text/plain": [
       "{'neg': 0.257, 'neu': 0.668, 'pos': 0.075, 'compound': -0.9939}"
      ]
     },
     "execution_count": 13,
     "metadata": {},
     "output_type": "execute_result"
    },
    {
     "data": {
      "text/plain": [
       "{'neg': 0.247, 'neu': 0.705, 'pos': 0.047, 'compound': -0.9915}"
      ]
     },
     "execution_count": 13,
     "metadata": {},
     "output_type": "execute_result"
    },
    {
     "data": {
      "text/plain": [
       "{'neg': 0.15, 'neu': 0.786, 'pos': 0.064, 'compound': -0.9783}"
      ]
     },
     "execution_count": 13,
     "metadata": {},
     "output_type": "execute_result"
    },
    {
     "data": {
      "text/plain": [
       "{'neg': 0.186, 'neu': 0.721, 'pos': 0.093, 'compound': -0.992}"
      ]
     },
     "execution_count": 13,
     "metadata": {},
     "output_type": "execute_result"
    },
    {
     "data": {
      "text/plain": [
       "{'neg': 0.1, 'neu': 0.827, 'pos': 0.074, 'compound': -0.9501}"
      ]
     },
     "execution_count": 13,
     "metadata": {},
     "output_type": "execute_result"
    },
    {
     "data": {
      "text/plain": [
       "{'neg': 0.102, 'neu': 0.778, 'pos': 0.12, 'compound': 0.7425}"
      ]
     },
     "execution_count": 13,
     "metadata": {},
     "output_type": "execute_result"
    },
    {
     "data": {
      "text/plain": [
       "{'neg': 0.012, 'neu': 0.87, 'pos': 0.118, 'compound': 0.9957}"
      ]
     },
     "execution_count": 13,
     "metadata": {},
     "output_type": "execute_result"
    },
    {
     "data": {
      "text/plain": [
       "{'neg': 0.02, 'neu': 0.861, 'pos': 0.119, 'compound': 0.9916}"
      ]
     },
     "execution_count": 13,
     "metadata": {},
     "output_type": "execute_result"
    },
    {
     "data": {
      "text/plain": [
       "{'neg': 0.039, 'neu': 0.932, 'pos': 0.028, 'compound': -0.3549}"
      ]
     },
     "execution_count": 13,
     "metadata": {},
     "output_type": "execute_result"
    },
    {
     "data": {
      "text/plain": [
       "{'neg': 0.138, 'neu': 0.765, 'pos': 0.097, 'compound': -0.9623}"
      ]
     },
     "execution_count": 13,
     "metadata": {},
     "output_type": "execute_result"
    },
    {
     "data": {
      "text/plain": [
       "{'neg': 0.0, 'neu': 0.892, 'pos': 0.108, 'compound': 0.7717}"
      ]
     },
     "execution_count": 13,
     "metadata": {},
     "output_type": "execute_result"
    },
    {
     "data": {
      "text/plain": [
       "{'neg': 0.0, 'neu': 0.879, 'pos': 0.121, 'compound': 0.8519}"
      ]
     },
     "execution_count": 13,
     "metadata": {},
     "output_type": "execute_result"
    },
    {
     "data": {
      "text/plain": [
       "{'neg': 0.031, 'neu': 0.752, 'pos': 0.217, 'compound': 0.9811}"
      ]
     },
     "execution_count": 13,
     "metadata": {},
     "output_type": "execute_result"
    },
    {
     "data": {
      "text/plain": [
       "{'neg': 0.08, 'neu': 0.851, 'pos': 0.069, 'compound': -0.3612}"
      ]
     },
     "execution_count": 13,
     "metadata": {},
     "output_type": "execute_result"
    },
    {
     "data": {
      "text/plain": [
       "{'neg': 0.0, 'neu': 0.94, 'pos': 0.06, 'compound': 0.7003}"
      ]
     },
     "execution_count": 13,
     "metadata": {},
     "output_type": "execute_result"
    },
    {
     "data": {
      "text/plain": [
       "{'neg': 0.22, 'neu': 0.733, 'pos': 0.047, 'compound': -0.9723}"
      ]
     },
     "execution_count": 13,
     "metadata": {},
     "output_type": "execute_result"
    },
    {
     "data": {
      "text/plain": [
       "{'neg': 0.148, 'neu': 0.774, 'pos': 0.078, 'compound': -0.9777}"
      ]
     },
     "execution_count": 13,
     "metadata": {},
     "output_type": "execute_result"
    },
    {
     "data": {
      "text/plain": [
       "{'neg': 0.156, 'neu': 0.751, 'pos': 0.093, 'compound': -0.9804}"
      ]
     },
     "execution_count": 13,
     "metadata": {},
     "output_type": "execute_result"
    },
    {
     "data": {
      "text/plain": [
       "{'neg': 0.199, 'neu': 0.738, 'pos': 0.063, 'compound': -0.9947}"
      ]
     },
     "execution_count": 13,
     "metadata": {},
     "output_type": "execute_result"
    },
    {
     "data": {
      "text/plain": [
       "{'neg': 0.026, 'neu': 0.848, 'pos': 0.126, 'compound': 0.9828}"
      ]
     },
     "execution_count": 13,
     "metadata": {},
     "output_type": "execute_result"
    },
    {
     "data": {
      "text/plain": [
       "{'neg': 0.145, 'neu': 0.786, 'pos': 0.069, 'compound': -0.9795}"
      ]
     },
     "execution_count": 13,
     "metadata": {},
     "output_type": "execute_result"
    },
    {
     "data": {
      "text/plain": [
       "{'neg': 0.119, 'neu': 0.823, 'pos': 0.058, 'compound': -0.9403}"
      ]
     },
     "execution_count": 13,
     "metadata": {},
     "output_type": "execute_result"
    },
    {
     "data": {
      "text/plain": [
       "{'neg': 0.12, 'neu': 0.747, 'pos': 0.133, 'compound': 0.5996}"
      ]
     },
     "execution_count": 13,
     "metadata": {},
     "output_type": "execute_result"
    },
    {
     "data": {
      "text/plain": [
       "{'neg': 0.254, 'neu': 0.676, 'pos': 0.07, 'compound': -0.9978}"
      ]
     },
     "execution_count": 13,
     "metadata": {},
     "output_type": "execute_result"
    },
    {
     "data": {
      "text/plain": [
       "{'neg': 0.126, 'neu': 0.818, 'pos': 0.056, 'compound': -0.9709}"
      ]
     },
     "execution_count": 13,
     "metadata": {},
     "output_type": "execute_result"
    },
    {
     "data": {
      "text/plain": [
       "{'neg': 0.16, 'neu': 0.706, 'pos': 0.133, 'compound': -0.9404}"
      ]
     },
     "execution_count": 13,
     "metadata": {},
     "output_type": "execute_result"
    },
    {
     "data": {
      "text/plain": [
       "{'neg': 0.186, 'neu': 0.695, 'pos': 0.119, 'compound': -0.9659}"
      ]
     },
     "execution_count": 13,
     "metadata": {},
     "output_type": "execute_result"
    },
    {
     "data": {
      "text/plain": [
       "{'neg': 0.283, 'neu': 0.652, 'pos': 0.065, 'compound': -0.999}"
      ]
     },
     "execution_count": 13,
     "metadata": {},
     "output_type": "execute_result"
    },
    {
     "data": {
      "text/plain": [
       "{'neg': 0.231, 'neu': 0.671, 'pos': 0.097, 'compound': -0.9971}"
      ]
     },
     "execution_count": 13,
     "metadata": {},
     "output_type": "execute_result"
    },
    {
     "data": {
      "text/plain": [
       "{'neg': 0.215, 'neu': 0.73, 'pos': 0.055, 'compound': -0.9924}"
      ]
     },
     "execution_count": 13,
     "metadata": {},
     "output_type": "execute_result"
    },
    {
     "data": {
      "text/plain": [
       "{'neg': 0.183, 'neu': 0.76, 'pos': 0.057, 'compound': -0.9969}"
      ]
     },
     "execution_count": 13,
     "metadata": {},
     "output_type": "execute_result"
    },
    {
     "data": {
      "text/plain": [
       "{'neg': 0.137, 'neu': 0.813, 'pos': 0.05, 'compound': -0.9884}"
      ]
     },
     "execution_count": 13,
     "metadata": {},
     "output_type": "execute_result"
    },
    {
     "data": {
      "text/plain": [
       "{'neg': 0.134, 'neu': 0.814, 'pos': 0.052, 'compound': -0.9871}"
      ]
     },
     "execution_count": 13,
     "metadata": {},
     "output_type": "execute_result"
    },
    {
     "data": {
      "text/plain": [
       "{'neg': 0.189, 'neu': 0.725, 'pos': 0.086, 'compound': -0.9833}"
      ]
     },
     "execution_count": 13,
     "metadata": {},
     "output_type": "execute_result"
    },
    {
     "data": {
      "text/plain": [
       "{'neg': 0.195, 'neu': 0.761, 'pos': 0.044, 'compound': -0.9965}"
      ]
     },
     "execution_count": 13,
     "metadata": {},
     "output_type": "execute_result"
    },
    {
     "data": {
      "text/plain": [
       "{'neg': 0.199, 'neu': 0.698, 'pos': 0.103, 'compound': -0.9936}"
      ]
     },
     "execution_count": 13,
     "metadata": {},
     "output_type": "execute_result"
    },
    {
     "data": {
      "text/plain": [
       "{'neg': 0.134, 'neu': 0.761, 'pos': 0.106, 'compound': -0.9274}"
      ]
     },
     "execution_count": 13,
     "metadata": {},
     "output_type": "execute_result"
    },
    {
     "data": {
      "text/plain": [
       "{'neg': 0.148, 'neu': 0.81, 'pos': 0.042, 'compound': -0.9747}"
      ]
     },
     "execution_count": 13,
     "metadata": {},
     "output_type": "execute_result"
    },
    {
     "data": {
      "text/plain": [
       "{'neg': 0.19, 'neu': 0.737, 'pos': 0.073, 'compound': -0.9919}"
      ]
     },
     "execution_count": 13,
     "metadata": {},
     "output_type": "execute_result"
    },
    {
     "data": {
      "text/plain": [
       "{'neg': 0.143, 'neu': 0.76, 'pos': 0.096, 'compound': -0.9538}"
      ]
     },
     "execution_count": 13,
     "metadata": {},
     "output_type": "execute_result"
    },
    {
     "data": {
      "text/plain": [
       "{'neg': 0.197, 'neu': 0.758, 'pos': 0.045, 'compound': -0.9968}"
      ]
     },
     "execution_count": 13,
     "metadata": {},
     "output_type": "execute_result"
    },
    {
     "data": {
      "text/plain": [
       "{'neg': 0.125, 'neu': 0.81, 'pos': 0.066, 'compound': -0.9451}"
      ]
     },
     "execution_count": 13,
     "metadata": {},
     "output_type": "execute_result"
    },
    {
     "data": {
      "text/plain": [
       "{'neg': 0.194, 'neu': 0.777, 'pos': 0.029, 'compound': -0.9953}"
      ]
     },
     "execution_count": 13,
     "metadata": {},
     "output_type": "execute_result"
    },
    {
     "data": {
      "text/plain": [
       "{'neg': 0.125, 'neu': 0.752, 'pos': 0.123, 'compound': -0.5817}"
      ]
     },
     "execution_count": 13,
     "metadata": {},
     "output_type": "execute_result"
    },
    {
     "data": {
      "text/plain": [
       "{'neg': 0.121, 'neu': 0.746, 'pos': 0.133, 'compound': 0.9003}"
      ]
     },
     "execution_count": 13,
     "metadata": {},
     "output_type": "execute_result"
    },
    {
     "data": {
      "text/plain": [
       "{'neg': 0.24, 'neu': 0.712, 'pos': 0.048, 'compound': -0.9978}"
      ]
     },
     "execution_count": 13,
     "metadata": {},
     "output_type": "execute_result"
    },
    {
     "data": {
      "text/plain": [
       "{'neg': 0.177, 'neu': 0.78, 'pos': 0.043, 'compound': -0.9652}"
      ]
     },
     "execution_count": 13,
     "metadata": {},
     "output_type": "execute_result"
    },
    {
     "data": {
      "text/plain": [
       "{'neg': 0.159, 'neu': 0.749, 'pos': 0.092, 'compound': -0.9974}"
      ]
     },
     "execution_count": 13,
     "metadata": {},
     "output_type": "execute_result"
    },
    {
     "data": {
      "text/plain": [
       "{'neg': 0.198, 'neu': 0.737, 'pos': 0.066, 'compound': -0.9992}"
      ]
     },
     "execution_count": 13,
     "metadata": {},
     "output_type": "execute_result"
    },
    {
     "data": {
      "text/plain": [
       "{'neg': 0.162, 'neu': 0.758, 'pos': 0.08, 'compound': -0.9981}"
      ]
     },
     "execution_count": 13,
     "metadata": {},
     "output_type": "execute_result"
    },
    {
     "data": {
      "text/plain": [
       "{'neg': 0.221, 'neu': 0.764, 'pos': 0.015, 'compound': -0.9961}"
      ]
     },
     "execution_count": 13,
     "metadata": {},
     "output_type": "execute_result"
    },
    {
     "data": {
      "text/plain": [
       "{'neg': 0.155, 'neu': 0.767, 'pos': 0.078, 'compound': -0.9382}"
      ]
     },
     "execution_count": 13,
     "metadata": {},
     "output_type": "execute_result"
    },
    {
     "data": {
      "text/plain": [
       "{'neg': 0.155, 'neu': 0.807, 'pos': 0.038, 'compound': -0.9847}"
      ]
     },
     "execution_count": 13,
     "metadata": {},
     "output_type": "execute_result"
    },
    {
     "data": {
      "text/plain": [
       "{'neg': 0.164, 'neu': 0.748, 'pos': 0.087, 'compound': -0.9967}"
      ]
     },
     "execution_count": 13,
     "metadata": {},
     "output_type": "execute_result"
    },
    {
     "data": {
      "text/plain": [
       "{'neg': 0.165, 'neu': 0.733, 'pos': 0.102, 'compound': -0.974}"
      ]
     },
     "execution_count": 13,
     "metadata": {},
     "output_type": "execute_result"
    },
    {
     "data": {
      "text/plain": [
       "{'neg': 0.15, 'neu': 0.789, 'pos': 0.061, 'compound': -0.9805}"
      ]
     },
     "execution_count": 13,
     "metadata": {},
     "output_type": "execute_result"
    },
    {
     "data": {
      "text/plain": [
       "{'neg': 0.198, 'neu': 0.744, 'pos': 0.059, 'compound': -0.9973}"
      ]
     },
     "execution_count": 13,
     "metadata": {},
     "output_type": "execute_result"
    },
    {
     "data": {
      "text/plain": [
       "{'neg': 0.12, 'neu': 0.846, 'pos': 0.034, 'compound': -0.992}"
      ]
     },
     "execution_count": 13,
     "metadata": {},
     "output_type": "execute_result"
    },
    {
     "data": {
      "text/plain": [
       "{'neg': 0.147, 'neu': 0.805, 'pos': 0.048, 'compound': -0.9792}"
      ]
     },
     "execution_count": 13,
     "metadata": {},
     "output_type": "execute_result"
    },
    {
     "data": {
      "text/plain": [
       "{'neg': 0.185, 'neu': 0.757, 'pos': 0.058, 'compound': -0.991}"
      ]
     },
     "execution_count": 13,
     "metadata": {},
     "output_type": "execute_result"
    },
    {
     "data": {
      "text/plain": [
       "{'neg': 0.114, 'neu': 0.861, 'pos': 0.026, 'compound': -0.9393}"
      ]
     },
     "execution_count": 13,
     "metadata": {},
     "output_type": "execute_result"
    },
    {
     "data": {
      "text/plain": [
       "{'neg': 0.161, 'neu': 0.806, 'pos': 0.033, 'compound': -0.9951}"
      ]
     },
     "execution_count": 13,
     "metadata": {},
     "output_type": "execute_result"
    },
    {
     "data": {
      "text/plain": [
       "{'neg': 0.17, 'neu': 0.759, 'pos': 0.071, 'compound': -0.9848}"
      ]
     },
     "execution_count": 13,
     "metadata": {},
     "output_type": "execute_result"
    },
    {
     "data": {
      "text/plain": [
       "{'neg': 0.189, 'neu': 0.725, 'pos': 0.086, 'compound': -0.9858}"
      ]
     },
     "execution_count": 13,
     "metadata": {},
     "output_type": "execute_result"
    },
    {
     "data": {
      "text/plain": [
       "{'neg': 0.213, 'neu': 0.724, 'pos': 0.063, 'compound': -0.9951}"
      ]
     },
     "execution_count": 13,
     "metadata": {},
     "output_type": "execute_result"
    },
    {
     "data": {
      "text/plain": [
       "{'neg': 0.297, 'neu': 0.67, 'pos': 0.033, 'compound': -0.9964}"
      ]
     },
     "execution_count": 13,
     "metadata": {},
     "output_type": "execute_result"
    },
    {
     "data": {
      "text/plain": [
       "{'neg': 0.187, 'neu': 0.767, 'pos': 0.046, 'compound': -0.9652}"
      ]
     },
     "execution_count": 13,
     "metadata": {},
     "output_type": "execute_result"
    },
    {
     "data": {
      "text/plain": [
       "{'neg': 0.139, 'neu': 0.804, 'pos': 0.057, 'compound': -0.9949}"
      ]
     },
     "execution_count": 13,
     "metadata": {},
     "output_type": "execute_result"
    },
    {
     "data": {
      "text/plain": [
       "{'neg': 0.118, 'neu': 0.82, 'pos': 0.062, 'compound': -0.9776}"
      ]
     },
     "execution_count": 13,
     "metadata": {},
     "output_type": "execute_result"
    },
    {
     "data": {
      "text/plain": [
       "{'neg': 0.185, 'neu': 0.74, 'pos': 0.075, 'compound': -0.9886}"
      ]
     },
     "execution_count": 13,
     "metadata": {},
     "output_type": "execute_result"
    },
    {
     "data": {
      "text/plain": [
       "{'neg': 0.266, 'neu': 0.684, 'pos': 0.051, 'compound': -0.9989}"
      ]
     },
     "execution_count": 13,
     "metadata": {},
     "output_type": "execute_result"
    },
    {
     "data": {
      "text/plain": [
       "{'neg': 0.143, 'neu': 0.756, 'pos': 0.101, 'compound': -0.9916}"
      ]
     },
     "execution_count": 13,
     "metadata": {},
     "output_type": "execute_result"
    },
    {
     "data": {
      "text/plain": [
       "{'neg': 0.123, 'neu': 0.782, 'pos': 0.095, 'compound': -0.9201}"
      ]
     },
     "execution_count": 13,
     "metadata": {},
     "output_type": "execute_result"
    },
    {
     "data": {
      "text/plain": [
       "{'neg': 0.119, 'neu': 0.79, 'pos': 0.091, 'compound': -0.9117}"
      ]
     },
     "execution_count": 13,
     "metadata": {},
     "output_type": "execute_result"
    },
    {
     "data": {
      "text/plain": [
       "{'neg': 0.234, 'neu': 0.706, 'pos': 0.06, 'compound': -0.9989}"
      ]
     },
     "execution_count": 13,
     "metadata": {},
     "output_type": "execute_result"
    },
    {
     "data": {
      "text/plain": [
       "{'neg': 0.17, 'neu': 0.705, 'pos': 0.126, 'compound': -0.9925}"
      ]
     },
     "execution_count": 13,
     "metadata": {},
     "output_type": "execute_result"
    },
    {
     "data": {
      "text/plain": [
       "{'neg': 0.107, 'neu': 0.868, 'pos': 0.025, 'compound': -0.9623}"
      ]
     },
     "execution_count": 13,
     "metadata": {},
     "output_type": "execute_result"
    },
    {
     "data": {
      "text/plain": [
       "{'neg': 0.194, 'neu': 0.76, 'pos': 0.046, 'compound': -0.9906}"
      ]
     },
     "execution_count": 13,
     "metadata": {},
     "output_type": "execute_result"
    },
    {
     "data": {
      "text/plain": [
       "{'neg': 0.189, 'neu': 0.743, 'pos': 0.067, 'compound': -0.9944}"
      ]
     },
     "execution_count": 13,
     "metadata": {},
     "output_type": "execute_result"
    },
    {
     "data": {
      "text/plain": [
       "{'neg': 0.164, 'neu': 0.789, 'pos': 0.047, 'compound': -0.9988}"
      ]
     },
     "execution_count": 13,
     "metadata": {},
     "output_type": "execute_result"
    },
    {
     "data": {
      "text/plain": [
       "{'neg': 0.137, 'neu': 0.821, 'pos': 0.042, 'compound': -0.9953}"
      ]
     },
     "execution_count": 13,
     "metadata": {},
     "output_type": "execute_result"
    },
    {
     "data": {
      "text/plain": [
       "{'neg': 0.194, 'neu': 0.686, 'pos': 0.119, 'compound': -0.9706}"
      ]
     },
     "execution_count": 13,
     "metadata": {},
     "output_type": "execute_result"
    },
    {
     "data": {
      "text/plain": [
       "{'neg': 0.195, 'neu': 0.732, 'pos': 0.072, 'compound': -0.9916}"
      ]
     },
     "execution_count": 13,
     "metadata": {},
     "output_type": "execute_result"
    },
    {
     "data": {
      "text/plain": [
       "{'neg': 0.271, 'neu': 0.677, 'pos': 0.052, 'compound': -0.9963}"
      ]
     },
     "execution_count": 13,
     "metadata": {},
     "output_type": "execute_result"
    },
    {
     "data": {
      "text/plain": [
       "{'neg': 0.272, 'neu': 0.669, 'pos': 0.059, 'compound': -0.9908}"
      ]
     },
     "execution_count": 13,
     "metadata": {},
     "output_type": "execute_result"
    },
    {
     "data": {
      "text/plain": [
       "{'neg': 0.22, 'neu': 0.726, 'pos': 0.054, 'compound': -0.9946}"
      ]
     },
     "execution_count": 13,
     "metadata": {},
     "output_type": "execute_result"
    },
    {
     "data": {
      "text/plain": [
       "{'neg': 0.242, 'neu': 0.689, 'pos': 0.069, 'compound': -0.9962}"
      ]
     },
     "execution_count": 13,
     "metadata": {},
     "output_type": "execute_result"
    },
    {
     "data": {
      "text/plain": [
       "{'neg': 0.15, 'neu': 0.731, 'pos': 0.119, 'compound': -0.9516}"
      ]
     },
     "execution_count": 13,
     "metadata": {},
     "output_type": "execute_result"
    },
    {
     "data": {
      "text/plain": [
       "{'neg': 0.273, 'neu': 0.691, 'pos': 0.036, 'compound': -0.9932}"
      ]
     },
     "execution_count": 13,
     "metadata": {},
     "output_type": "execute_result"
    },
    {
     "data": {
      "text/plain": [
       "{'neg': 0.145, 'neu': 0.842, 'pos': 0.014, 'compound': -0.9753}"
      ]
     },
     "execution_count": 13,
     "metadata": {},
     "output_type": "execute_result"
    },
    {
     "data": {
      "text/plain": [
       "{'neg': 0.127, 'neu': 0.765, 'pos': 0.108, 'compound': -0.8442}"
      ]
     },
     "execution_count": 13,
     "metadata": {},
     "output_type": "execute_result"
    },
    {
     "data": {
      "text/plain": [
       "{'neg': 0.133, 'neu': 0.784, 'pos': 0.083, 'compound': -0.9666}"
      ]
     },
     "execution_count": 13,
     "metadata": {},
     "output_type": "execute_result"
    },
    {
     "data": {
      "text/plain": [
       "{'neg': 0.147, 'neu': 0.757, 'pos': 0.096, 'compound': -0.978}"
      ]
     },
     "execution_count": 13,
     "metadata": {},
     "output_type": "execute_result"
    },
    {
     "data": {
      "text/plain": [
       "{'neg': 0.177, 'neu': 0.726, 'pos': 0.097, 'compound': -0.9951}"
      ]
     },
     "execution_count": 13,
     "metadata": {},
     "output_type": "execute_result"
    },
    {
     "data": {
      "text/plain": [
       "{'neg': 0.199, 'neu': 0.731, 'pos': 0.07, 'compound': -0.995}"
      ]
     },
     "execution_count": 13,
     "metadata": {},
     "output_type": "execute_result"
    },
    {
     "data": {
      "text/plain": [
       "{'neg': 0.175, 'neu': 0.751, 'pos': 0.074, 'compound': -0.9962}"
      ]
     },
     "execution_count": 13,
     "metadata": {},
     "output_type": "execute_result"
    },
    {
     "data": {
      "text/plain": [
       "{'neg': 0.198, 'neu': 0.745, 'pos': 0.057, 'compound': -0.9989}"
      ]
     },
     "execution_count": 13,
     "metadata": {},
     "output_type": "execute_result"
    },
    {
     "data": {
      "text/plain": [
       "{'neg': 0.228, 'neu': 0.713, 'pos': 0.059, 'compound': -0.9989}"
      ]
     },
     "execution_count": 13,
     "metadata": {},
     "output_type": "execute_result"
    },
    {
     "data": {
      "text/plain": [
       "{'neg': 0.218, 'neu': 0.713, 'pos': 0.069, 'compound': -0.9989}"
      ]
     },
     "execution_count": 13,
     "metadata": {},
     "output_type": "execute_result"
    },
    {
     "data": {
      "text/plain": [
       "{'neg': 0.228, 'neu': 0.754, 'pos': 0.018, 'compound': -0.9974}"
      ]
     },
     "execution_count": 13,
     "metadata": {},
     "output_type": "execute_result"
    },
    {
     "data": {
      "text/plain": [
       "{'neg': 0.133, 'neu': 0.758, 'pos': 0.11, 'compound': -0.8771}"
      ]
     },
     "execution_count": 13,
     "metadata": {},
     "output_type": "execute_result"
    },
    {
     "data": {
      "text/plain": [
       "{'neg': 0.15, 'neu': 0.768, 'pos': 0.083, 'compound': -0.9665}"
      ]
     },
     "execution_count": 13,
     "metadata": {},
     "output_type": "execute_result"
    },
    {
     "data": {
      "text/plain": [
       "{'neg': 0.215, 'neu': 0.721, 'pos': 0.065, 'compound': -0.9978}"
      ]
     },
     "execution_count": 13,
     "metadata": {},
     "output_type": "execute_result"
    },
    {
     "data": {
      "text/plain": [
       "{'neg': 0.178, 'neu': 0.748, 'pos': 0.074, 'compound': -0.9924}"
      ]
     },
     "execution_count": 13,
     "metadata": {},
     "output_type": "execute_result"
    },
    {
     "data": {
      "text/plain": [
       "{'neg': 0.245, 'neu': 0.687, 'pos': 0.069, 'compound': -0.9989}"
      ]
     },
     "execution_count": 13,
     "metadata": {},
     "output_type": "execute_result"
    },
    {
     "data": {
      "text/plain": [
       "{'neg': 0.123, 'neu': 0.822, 'pos': 0.055, 'compound': -0.9774}"
      ]
     },
     "execution_count": 13,
     "metadata": {},
     "output_type": "execute_result"
    },
    {
     "data": {
      "text/plain": [
       "{'neg': 0.203, 'neu': 0.768, 'pos': 0.029, 'compound': -0.9981}"
      ]
     },
     "execution_count": 13,
     "metadata": {},
     "output_type": "execute_result"
    },
    {
     "data": {
      "text/plain": [
       "{'neg': 0.251, 'neu': 0.713, 'pos': 0.036, 'compound': -0.9982}"
      ]
     },
     "execution_count": 13,
     "metadata": {},
     "output_type": "execute_result"
    },
    {
     "data": {
      "text/plain": [
       "{'neg': 0.212, 'neu': 0.75, 'pos': 0.038, 'compound': -0.9965}"
      ]
     },
     "execution_count": 13,
     "metadata": {},
     "output_type": "execute_result"
    },
    {
     "data": {
      "text/plain": [
       "{'neg': 0.204, 'neu': 0.731, 'pos': 0.065, 'compound': -0.9892}"
      ]
     },
     "execution_count": 13,
     "metadata": {},
     "output_type": "execute_result"
    },
    {
     "data": {
      "text/plain": [
       "{'neg': 0.232, 'neu': 0.725, 'pos': 0.044, 'compound': -0.9949}"
      ]
     },
     "execution_count": 13,
     "metadata": {},
     "output_type": "execute_result"
    },
    {
     "data": {
      "text/plain": [
       "{'neg': 0.064, 'neu': 0.863, 'pos': 0.073, 'compound': 0.25}"
      ]
     },
     "execution_count": 13,
     "metadata": {},
     "output_type": "execute_result"
    },
    {
     "data": {
      "text/plain": [
       "{'neg': 0.071, 'neu': 0.824, 'pos': 0.105, 'compound': 0.8344}"
      ]
     },
     "execution_count": 13,
     "metadata": {},
     "output_type": "execute_result"
    },
    {
     "data": {
      "text/plain": [
       "{'neg': 0.056, 'neu': 0.853, 'pos': 0.091, 'compound': 0.9459}"
      ]
     },
     "execution_count": 13,
     "metadata": {},
     "output_type": "execute_result"
    },
    {
     "data": {
      "text/plain": [
       "{'neg': 0.191, 'neu': 0.736, 'pos': 0.073, 'compound': -0.9988}"
      ]
     },
     "execution_count": 13,
     "metadata": {},
     "output_type": "execute_result"
    },
    {
     "data": {
      "text/plain": [
       "{'neg': 0.173, 'neu': 0.766, 'pos': 0.06, 'compound': -0.9836}"
      ]
     },
     "execution_count": 13,
     "metadata": {},
     "output_type": "execute_result"
    },
    {
     "data": {
      "text/plain": [
       "{'neg': 0.014, 'neu': 0.849, 'pos': 0.136, 'compound': 0.9983}"
      ]
     },
     "execution_count": 13,
     "metadata": {},
     "output_type": "execute_result"
    },
    {
     "data": {
      "text/plain": [
       "{'neg': 0.027, 'neu': 0.823, 'pos': 0.15, 'compound': 0.9926}"
      ]
     },
     "execution_count": 13,
     "metadata": {},
     "output_type": "execute_result"
    },
    {
     "data": {
      "text/plain": [
       "{'neg': 0.078, 'neu': 0.823, 'pos': 0.1, 'compound': 0.3182}"
      ]
     },
     "execution_count": 13,
     "metadata": {},
     "output_type": "execute_result"
    },
    {
     "data": {
      "text/plain": [
       "{'neg': 0.087, 'neu': 0.831, 'pos': 0.081, 'compound': -0.7506}"
      ]
     },
     "execution_count": 13,
     "metadata": {},
     "output_type": "execute_result"
    },
    {
     "data": {
      "text/plain": [
       "{'neg': 0.216, 'neu': 0.697, 'pos': 0.087, 'compound': -0.9988}"
      ]
     },
     "execution_count": 13,
     "metadata": {},
     "output_type": "execute_result"
    },
    {
     "data": {
      "text/plain": [
       "{'neg': 0.166, 'neu': 0.811, 'pos': 0.023, 'compound': -0.9801}"
      ]
     },
     "execution_count": 13,
     "metadata": {},
     "output_type": "execute_result"
    },
    {
     "data": {
      "text/plain": [
       "{'neg': 0.21, 'neu': 0.746, 'pos': 0.044, 'compound': -0.9877}"
      ]
     },
     "execution_count": 13,
     "metadata": {},
     "output_type": "execute_result"
    },
    {
     "data": {
      "text/plain": [
       "{'neg': 0.136, 'neu': 0.826, 'pos': 0.038, 'compound': -0.9846}"
      ]
     },
     "execution_count": 13,
     "metadata": {},
     "output_type": "execute_result"
    },
    {
     "data": {
      "text/plain": [
       "{'neg': 0.186, 'neu': 0.732, 'pos': 0.081, 'compound': -0.9868}"
      ]
     },
     "execution_count": 13,
     "metadata": {},
     "output_type": "execute_result"
    },
    {
     "data": {
      "text/plain": [
       "{'neg': 0.245, 'neu': 0.711, 'pos': 0.045, 'compound': -0.9961}"
      ]
     },
     "execution_count": 13,
     "metadata": {},
     "output_type": "execute_result"
    },
    {
     "data": {
      "text/plain": [
       "{'neg': 0.227, 'neu': 0.706, 'pos': 0.066, 'compound': -0.9956}"
      ]
     },
     "execution_count": 13,
     "metadata": {},
     "output_type": "execute_result"
    },
    {
     "data": {
      "text/plain": [
       "{'neg': 0.165, 'neu': 0.766, 'pos': 0.069, 'compound': -0.983}"
      ]
     },
     "execution_count": 13,
     "metadata": {},
     "output_type": "execute_result"
    },
    {
     "data": {
      "text/plain": [
       "{'neg': 0.075, 'neu': 0.819, 'pos': 0.106, 'compound': 0.6597}"
      ]
     },
     "execution_count": 13,
     "metadata": {},
     "output_type": "execute_result"
    },
    {
     "data": {
      "text/plain": [
       "{'neg': 0.097, 'neu': 0.847, 'pos': 0.056, 'compound': -0.8807}"
      ]
     },
     "execution_count": 13,
     "metadata": {},
     "output_type": "execute_result"
    },
    {
     "data": {
      "text/plain": [
       "{'neg': 0.099, 'neu': 0.808, 'pos': 0.093, 'compound': -0.5423}"
      ]
     },
     "execution_count": 13,
     "metadata": {},
     "output_type": "execute_result"
    },
    {
     "data": {
      "text/plain": [
       "{'neg': 0.136, 'neu': 0.788, 'pos': 0.077, 'compound': -0.9118}"
      ]
     },
     "execution_count": 13,
     "metadata": {},
     "output_type": "execute_result"
    },
    {
     "data": {
      "text/plain": [
       "{'neg': 0.084, 'neu': 0.814, 'pos': 0.103, 'compound': 0.5106}"
      ]
     },
     "execution_count": 13,
     "metadata": {},
     "output_type": "execute_result"
    },
    {
     "data": {
      "text/plain": [
       "{'neg': 0.073, 'neu': 0.844, 'pos': 0.083, 'compound': 0.7906}"
      ]
     },
     "execution_count": 13,
     "metadata": {},
     "output_type": "execute_result"
    },
    {
     "data": {
      "text/plain": [
       "{'neg': 0.092, 'neu': 0.808, 'pos': 0.1, 'compound': 0.2732}"
      ]
     },
     "execution_count": 13,
     "metadata": {},
     "output_type": "execute_result"
    },
    {
     "data": {
      "text/plain": [
       "{'neg': 0.12, 'neu': 0.783, 'pos': 0.097, 'compound': -0.9139}"
      ]
     },
     "execution_count": 13,
     "metadata": {},
     "output_type": "execute_result"
    },
    {
     "data": {
      "text/plain": [
       "{'neg': 0.114, 'neu': 0.79, 'pos': 0.096, 'compound': -0.5719}"
      ]
     },
     "execution_count": 13,
     "metadata": {},
     "output_type": "execute_result"
    },
    {
     "data": {
      "text/plain": [
       "{'neg': 0.103, 'neu': 0.775, 'pos': 0.122, 'compound': 0.6486}"
      ]
     },
     "execution_count": 13,
     "metadata": {},
     "output_type": "execute_result"
    },
    {
     "data": {
      "text/plain": [
       "{'neg': 0.083, 'neu': 0.852, 'pos': 0.065, 'compound': -0.8391}"
      ]
     },
     "execution_count": 13,
     "metadata": {},
     "output_type": "execute_result"
    },
    {
     "data": {
      "text/plain": [
       "{'neg': 0.057, 'neu': 0.866, 'pos': 0.076, 'compound': 0.5106}"
      ]
     },
     "execution_count": 13,
     "metadata": {},
     "output_type": "execute_result"
    },
    {
     "data": {
      "text/plain": [
       "{'neg': 0.064, 'neu': 0.864, 'pos': 0.073, 'compound': 0.3818}"
      ]
     },
     "execution_count": 13,
     "metadata": {},
     "output_type": "execute_result"
    },
    {
     "data": {
      "text/plain": [
       "{'neg': 0.235, 'neu': 0.689, 'pos': 0.076, 'compound': -0.9933}"
      ]
     },
     "execution_count": 13,
     "metadata": {},
     "output_type": "execute_result"
    },
    {
     "data": {
      "text/plain": [
       "{'neg': 0.242, 'neu': 0.711, 'pos': 0.047, 'compound': -0.9904}"
      ]
     },
     "execution_count": 13,
     "metadata": {},
     "output_type": "execute_result"
    },
    {
     "data": {
      "text/plain": [
       "{'neg': 0.151, 'neu': 0.757, 'pos': 0.092, 'compound': -0.9901}"
      ]
     },
     "execution_count": 13,
     "metadata": {},
     "output_type": "execute_result"
    },
    {
     "data": {
      "text/plain": [
       "{'neg': 0.188, 'neu': 0.77, 'pos': 0.042, 'compound': -0.9943}"
      ]
     },
     "execution_count": 13,
     "metadata": {},
     "output_type": "execute_result"
    },
    {
     "data": {
      "text/plain": [
       "{'neg': 0.155, 'neu': 0.781, 'pos': 0.064, 'compound': -0.9689}"
      ]
     },
     "execution_count": 13,
     "metadata": {},
     "output_type": "execute_result"
    },
    {
     "data": {
      "text/plain": [
       "{'neg': 0.084, 'neu': 0.816, 'pos': 0.099, 'compound': 0.5267}"
      ]
     },
     "execution_count": 13,
     "metadata": {},
     "output_type": "execute_result"
    },
    {
     "data": {
      "text/plain": [
       "{'neg': 0.159, 'neu': 0.751, 'pos': 0.089, 'compound': -0.9648}"
      ]
     },
     "execution_count": 13,
     "metadata": {},
     "output_type": "execute_result"
    },
    {
     "data": {
      "text/plain": [
       "{'neg': 0.138, 'neu': 0.762, 'pos': 0.1, 'compound': -0.9795}"
      ]
     },
     "execution_count": 13,
     "metadata": {},
     "output_type": "execute_result"
    },
    {
     "data": {
      "text/plain": [
       "{'neg': 0.152, 'neu': 0.817, 'pos': 0.031, 'compound': -0.9921}"
      ]
     },
     "execution_count": 13,
     "metadata": {},
     "output_type": "execute_result"
    }
   ],
   "source": [
    "#Apply to each press release in doj_subset \n",
    "\n",
    "for press_release in doj_subset['contents']: \n",
    "    get_sentiment(press_release)"
   ]
  },
  {
   "cell_type": "markdown",
   "metadata": {},
   "source": [
    "C. Add the four sentiment scores to the `doj_subset` dataframe to create a dataframe: `doj_subset_wscore`. Sort from highest neg to lowest neg score and print the top `id`, `contents`, and `neg` columns of the two most neg press releases. \n",
    "\n",
    "Notes:\n",
    "\n",
    "- Don't worry if your sentiment score differs slightly from our output on GitHub; differences in preprocessing can lead to diff scores"
   ]
  },
  {
   "cell_type": "code",
   "execution_count": 23,
   "metadata": {},
   "outputs": [],
   "source": [
    "doj_subset_wscore = doj_subset "
   ]
  },
  {
   "cell_type": "code",
   "execution_count": 24,
   "metadata": {},
   "outputs": [],
   "source": [
    "#C \n",
    "\n",
    "for index,row in doj_subset_wscore.iterrows():\n",
    "    # Get the press release content from the 'contents' column\n",
    "    press_release = row['contents']\n",
    "    \n",
    "    # Apply the sentiment analysis function to get sentiment scores\n",
    "    sentiment_scores = get_sentiment(press_release)\n",
    "    \n",
    "    \n",
    "    # Fill in the 'neg', 'neu', 'pos', and 'compound' columns with sentiment scores\n",
    "    doj_subset_wscore.at[index, 'neg'] = sentiment_scores['pos']\n",
    "    doj_subset_wscore.at[index, 'neu'] = sentiment_scores['neu']\n",
    "    doj_subset_wscore.at[index, 'pos'] = sentiment_scores['pos']\n",
    "    doj_subset_wscore.at[index, 'compound'] = sentiment_scores['compound']\n"
   ]
  },
  {
   "cell_type": "code",
   "execution_count": 25,
   "metadata": {},
   "outputs": [
    {
     "data": {
      "text/html": [
       "<div>\n",
       "<style scoped>\n",
       "    .dataframe tbody tr th:only-of-type {\n",
       "        vertical-align: middle;\n",
       "    }\n",
       "\n",
       "    .dataframe tbody tr th {\n",
       "        vertical-align: top;\n",
       "    }\n",
       "\n",
       "    .dataframe thead th {\n",
       "        text-align: right;\n",
       "    }\n",
       "</style>\n",
       "<table border=\"1\" class=\"dataframe\">\n",
       "  <thead>\n",
       "    <tr style=\"text-align: right;\">\n",
       "      <th></th>\n",
       "      <th>id</th>\n",
       "      <th>contents</th>\n",
       "      <th>neg</th>\n",
       "    </tr>\n",
       "  </thead>\n",
       "  <tbody>\n",
       "    <tr>\n",
       "      <th>5247</th>\n",
       "      <td>18-913</td>\n",
       "      <td>Glenn Eugene Halfin, 64, from Grapevine, Texas, appeared today before U.S. Magistrate Judge Jeffrey L. Cureton in the U.S. District Court for the Northern District of Texas and pleaded guilty to a federal charge of interfering with an African-American family’s housing rights, announced Acting Assistant Attorney General John Gore of the Civil Rights Division and U.S. Attorney Erin Nealy Cox of the Northern District of Texas. According to court documents, Halfin threatened force, intimidated, and interfered with a family because of their race and occupancy of an apartment that was located directly above his own apartment.  According to documents filed in connection with the guilty plea, on Dec. 19, 2017, Halfin purchased a baby doll at a Wal-Mart in Grapevine, Texas. He took a rope, fashioned it into a noose, and hung the baby doll from the noose. Halfin then hung the rope noose and baby doll on the railing directly in front of the only staircase the family could use to access their apartment. Halfin did so, knowing that this display would be particularly intimidating for the family who had a young daughter. In addition, the defendant referenced in his factual basis repeated intimidation of and interference with the same African-American family on other occasions. “The Justice Department will not tolerate acts of intimidation and fear, or illegal threats against any individual or family because of their race,” said Acting Assistant Attorney John Gore. “We will continue to prosecute hate crime offenders.” “No one should be afraid to go home at night,” said U.S. Attorney Erin Nealy Cox.  “Our community will not tolerate crimes of intimidation or bigotry, and my office will continue to prosecute all those who persecute others based on their race, color, ethnicity, or religious beliefs.” Halfin faces a statutory maximum penalty of no more one year in federal prison and a $100,000 fine. His sentencing is scheduled for October 24. This case was investigated by the FBI and the Grapevine Police Department. The case was prosecuted by Trial Attorney Rebekah Bailey of the Civil Rights Division’s Criminal Section and Assistant United States Attorney Nicole Dana.</td>\n",
       "      <td>0.005</td>\n",
       "    </tr>\n",
       "    <tr>\n",
       "      <th>8075</th>\n",
       "      <td>11-1245</td>\n",
       "      <td>WASHINGTON –    Paul W. Miller, of Denham Springs, La., was convicted late yesterday of two counts of producing and one count of possessing child pornography, announced Assistant Attorney General Lanny A. Breuer of the Criminal Division and U.S. Attorney Donald J. Cazayoux Jr. of the Middle District of Louisiana.        Miller, 44, was convicted by a federal jury following a two-day trial.  U.S. District Judge James J. Brady presided over the trial.       Evidence presented at trial showed that from October 2007 to May 2008, Miller sexually abused a 12-year-old girl and an 11-year-old girl and produced numerous photographs of the abuse.  According to trial evidence, forensic examination of Miller’s computer revealed that Miller had used his computer to print and possess numerous images of child pornography, including both the images of child pornography he had produced and images of other child victims.                 Miller faces a maximum statutory sentence of 30 years in prison for each count of production of child pornography and 10 years in prison for the possession of child pornography count.       The case is being prosecuted by Trial Attorney Alecia Riewerts Wolak of the Criminal Division’s Child Exploitation and Obscenity Section (CEOS) and Assistant U.S. Attorney Richard L. Bourgeois Jr. of the Middle District of Louisiana.  The investigation was conducted by the FBI, the Denham Springs Police Department and the Louisiana Attorney General’s Office.</td>\n",
       "      <td>0.007</td>\n",
       "    </tr>\n",
       "  </tbody>\n",
       "</table>\n",
       "</div>"
      ],
      "text/plain": [
       "           id  \\\n",
       "5247   18-913   \n",
       "8075  11-1245   \n",
       "\n",
       "                                                                                                                                                                                                                                                                                                                                                                                                                                                                                                                                                                                                                                                                                                                                                                                                                                                                                                                                                                                                                                                                                                                                                                                                                                                                                                                                                                                                                                                                                                                                                                                                                                                                                                                                                                                                                                                                                                                                                                                                                                                                                                                                                                                                                                                                        contents  \\\n",
       "5247  Glenn Eugene Halfin, 64, from Grapevine, Texas, appeared today before U.S. Magistrate Judge Jeffrey L. Cureton in the U.S. District Court for the Northern District of Texas and pleaded guilty to a federal charge of interfering with an African-American family’s housing rights, announced Acting Assistant Attorney General John Gore of the Civil Rights Division and U.S. Attorney Erin Nealy Cox of the Northern District of Texas. According to court documents, Halfin threatened force, intimidated, and interfered with a family because of their race and occupancy of an apartment that was located directly above his own apartment.  According to documents filed in connection with the guilty plea, on Dec. 19, 2017, Halfin purchased a baby doll at a Wal-Mart in Grapevine, Texas. He took a rope, fashioned it into a noose, and hung the baby doll from the noose. Halfin then hung the rope noose and baby doll on the railing directly in front of the only staircase the family could use to access their apartment. Halfin did so, knowing that this display would be particularly intimidating for the family who had a young daughter. In addition, the defendant referenced in his factual basis repeated intimidation of and interference with the same African-American family on other occasions. “The Justice Department will not tolerate acts of intimidation and fear, or illegal threats against any individual or family because of their race,” said Acting Assistant Attorney John Gore. “We will continue to prosecute hate crime offenders.” “No one should be afraid to go home at night,” said U.S. Attorney Erin Nealy Cox.  “Our community will not tolerate crimes of intimidation or bigotry, and my office will continue to prosecute all those who persecute others based on their race, color, ethnicity, or religious beliefs.” Halfin faces a statutory maximum penalty of no more one year in federal prison and a $100,000 fine. His sentencing is scheduled for October 24. This case was investigated by the FBI and the Grapevine Police Department. The case was prosecuted by Trial Attorney Rebekah Bailey of the Civil Rights Division’s Criminal Section and Assistant United States Attorney Nicole Dana.   \n",
       "8075                                                                                                                                                                                                                                                                                                                                                                                                                                                                                                                                                                                                                                                                                                                                 WASHINGTON –    Paul W. Miller, of Denham Springs, La., was convicted late yesterday of two counts of producing and one count of possessing child pornography, announced Assistant Attorney General Lanny A. Breuer of the Criminal Division and U.S. Attorney Donald J. Cazayoux Jr. of the Middle District of Louisiana.        Miller, 44, was convicted by a federal jury following a two-day trial.  U.S. District Judge James J. Brady presided over the trial.       Evidence presented at trial showed that from October 2007 to May 2008, Miller sexually abused a 12-year-old girl and an 11-year-old girl and produced numerous photographs of the abuse.  According to trial evidence, forensic examination of Miller’s computer revealed that Miller had used his computer to print and possess numerous images of child pornography, including both the images of child pornography he had produced and images of other child victims.                 Miller faces a maximum statutory sentence of 30 years in prison for each count of production of child pornography and 10 years in prison for the possession of child pornography count.       The case is being prosecuted by Trial Attorney Alecia Riewerts Wolak of the Criminal Division’s Child Exploitation and Obscenity Section (CEOS) and Assistant U.S. Attorney Richard L. Bourgeois Jr. of the Middle District of Louisiana.  The investigation was conducted by the FBI, the Denham Springs Police Department and the Louisiana Attorney General’s Office.   \n",
       "\n",
       "        neg  \n",
       "5247  0.005  \n",
       "8075  0.007  "
      ]
     },
     "execution_count": 25,
     "metadata": {},
     "output_type": "execute_result"
    }
   ],
   "source": [
    "doj_subset_wscore = doj_subset_wscore.sort_values(by='pos', ascending=True)\n",
    "id_contents_neg = doj_subset_wscore.head(2)[['id', 'contents','neg']]\n",
    "id_contents_neg"
   ]
  },
  {
   "cell_type": "markdown",
   "metadata": {},
   "source": [
    "D. With the dataframe from part C, find the mean compound sentiment score for each of the three topics in `topics_clean` using group_by and agg.\n",
    "\n",
    "E. Add a 1 sentence interpretation of why we might see the variation in scores (remember that compound is a standardized summary where -1 is most negative; +1 is most positive)\n"
   ]
  },
  {
   "cell_type": "code",
   "execution_count": 26,
   "metadata": {},
   "outputs": [
    {
     "name": "stdout",
     "output_type": "stream",
     "text": [
      "the mean compound sentiment score for Civil Rights topics is:               compound\n",
      "topics_clean          \n",
      "False        -0.824946\n",
      "True         -0.094465\n",
      "the mean compound sentiment score for Hate Crimes topics is: topics_clean\n",
      "False   -0.293930\n",
      "True    -0.935971\n",
      "Name: compound, dtype: float64\n",
      "the mean compound sentiment score for Project Safe Childhood topics is: topics_clean\n",
      "False   -0.470165\n",
      "True    -0.660416\n",
      "Name: compound, dtype: float64\n"
     ]
    }
   ],
   "source": [
    "#D \n",
    "#Civil Rights, Hate Crimes, and Project Safe Childhood\n",
    "\n",
    "#mean compound sentiment score for Civil Rights \n",
    "mean_civil = doj_subset_wscore.groupby(doj_subset_wscore['topics_clean'] == 'Civil Rights').agg({'compound': 'mean'})\n",
    "print(\"the mean compound sentiment score for Civil Rights topics is:\", mean_civil)\n",
    "\n",
    "#mean compound sentiment score for Hate Crimes \n",
    "mean_hate = doj_subset_wscore.groupby(doj_subset_wscore['topics_clean'] == 'Hate Crimes')['compound'].mean()\n",
    "print(\"the mean compound sentiment score for Hate Crimes topics is:\", mean_hate)\n",
    "\n",
    "#mean compound sentiment score for Project Safe Childhood\n",
    "mean_project = doj_subset_wscore.groupby(doj_subset_wscore['topics_clean'] == 'Project Safe Childhood')['compound'].mean()\n",
    "print(\"the mean compound sentiment score for Project Safe Childhood topics is:\", mean_project)"
   ]
  },
  {
   "cell_type": "markdown",
   "metadata": {},
   "source": [
    "**#E** One reason that we might see a variation in scores is that some topics may be talked about in a positive light in press releases (such as Project Safe Childhood), raising the mean compound score, whereas it would be unlikely to for a press release to talk about hate crimes in a positive way. "
   ]
  },
  {
   "cell_type": "markdown",
   "metadata": {},
   "source": [
    "# 2. Topic modeling (25 points)\n",
    "\n",
    "For this question, use the `doj_subset_wscores` data that is restricted to civil rights, hate crimes, and project safe childhood and with the sentiment scores added\n"
   ]
  },
  {
   "cell_type": "markdown",
   "metadata": {},
   "source": [
    "## 2.1 Preprocess the data by removing stopwords, punctuation, and non-alpha words (5 points)\n",
    "\n",
    "A. Write a function that:\n",
    "\n",
    "- Takes in a single raw string in the `contents` column from that dataframe\n",
    "- Does the following preprocessing steps:\n",
    "\n",
    "    - Converts the words to lowercase\n",
    "    - Removes stopwords, adding the custom stopwords in your code cell below to the default stopwords list\n",
    "    - Only retains alpha words (so removes digits and punctuation)\n",
    "    - Only retains words 4 characters or longer\n",
    "    - Uses the snowball stemmer from nltk to stem\n",
    "\n",
    "- Returns a joined preprocessed string\n",
    "    \n",
    "B. Use `apply` or list comprehension to execute that function and create a new column in the data called `processed_text`\n",
    "    \n",
    "C. Print the `id`, `contents`, and `processed_text` columns for the following press releases:\n",
    "\n",
    "id = 16-718 (this case: https://www.seattletimes.com/nation-world/doj-miami-police-reach-settlement-in-civil-rights-case/)\n",
    "\n",
    "id = 16-217 (this case: https://www.wlbt.com/story/32275512/three-mississippi-correctional-officers-indicted-for-inmate-assault-and-cover-up/)\n",
    "    \n",
    "**Resources**:\n",
    "\n",
    "- Here's code examples for the snowball stemmer: https://www.geeksforgeeks.org/snowball-stemmer-nlp/"
   ]
  },
  {
   "cell_type": "code",
   "execution_count": 68,
   "metadata": {},
   "outputs": [],
   "source": [
    "custom_doj_stopwords = [\"civil\", \"rights\", \"division\", \"department\", \"justice\",\n",
    "                        \"office\", \"attorney\", \"district\", \"case\", \"investigation\", \"assistant\",\n",
    "                       \"trial\", \"assistance\", \"assist\"]\n",
    "list_stopwords = stopwords.words(\"english\")\n",
    "list_stopwords_new = list_stopwords + custom_doj_stopwords\n",
    "## initialize stemmer\n",
    "snow_stemmer = SnowballStemmer(language='english')"
   ]
  },
  {
   "cell_type": "code",
   "execution_count": 91,
   "metadata": {},
   "outputs": [],
   "source": [
    "#A \n",
    "def preprocess(string): \n",
    "    try:\n",
    "        if not isinstance(string, str):\n",
    "            string = string.to_string()\n",
    "        string_lower = string.lower()\n",
    "        nostop_string = [word \n",
    "                    for word in wordpunct_tokenize(string_lower) \n",
    "                    if word not in list_stopwords_new \n",
    "                        and word.isalpha()\n",
    "                        and len(word) > 3]\n",
    "        clean_string = [snow_stemmer.stem(word) for word in nostop_string]\n",
    "        clean_string_str = \" \".join(clean_string)\n",
    "        return(clean_string_str)\n",
    "    except:\n",
    "        return(\"\")\n",
    "    "
   ]
  },
  {
   "cell_type": "code",
   "execution_count": 90,
   "metadata": {},
   "outputs": [
    {
     "data": {
      "text/plain": [
       "'washington paul miller denham spring convict late yesterday count produc count possess child pornographi announc general lanni breuer crimin donald cazayoux middl louisiana miller convict feder juri follow judg jame bradi presid evid present show octob miller sexual abus year girl year girl produc numer photograph abus accord evid forens examin miller comput reveal miller use comput print possess numer imag child pornographi includ imag child pornographi produc imag child victim miller face maximum statutori sentenc year prison count product child pornographi year prison possess child pornographi count prosecut alecia riewert wolak crimin child exploit obscen section ceo richard bourgeoi middl louisiana conduct denham spring polic louisiana general'"
      ]
     },
     "execution_count": 90,
     "metadata": {},
     "output_type": "execute_result"
    }
   ],
   "source": [
    "# testing the function on one contents instance\n",
    "preprocess(doj_subset_wscore.iloc[1].contents)"
   ]
  },
  {
   "cell_type": "code",
   "execution_count": 95,
   "metadata": {},
   "outputs": [
    {
     "data": {
      "text/html": [
       "<div>\n",
       "<style scoped>\n",
       "    .dataframe tbody tr th:only-of-type {\n",
       "        vertical-align: middle;\n",
       "    }\n",
       "\n",
       "    .dataframe tbody tr th {\n",
       "        vertical-align: top;\n",
       "    }\n",
       "\n",
       "    .dataframe thead th {\n",
       "        text-align: right;\n",
       "    }\n",
       "</style>\n",
       "<table border=\"1\" class=\"dataframe\">\n",
       "  <thead>\n",
       "    <tr style=\"text-align: right;\">\n",
       "      <th></th>\n",
       "      <th>id</th>\n",
       "      <th>title</th>\n",
       "      <th>contents</th>\n",
       "      <th>date</th>\n",
       "      <th>topics_clean</th>\n",
       "      <th>components_clean</th>\n",
       "      <th>neg</th>\n",
       "      <th>neu</th>\n",
       "      <th>pos</th>\n",
       "      <th>compound</th>\n",
       "      <th>processed_text</th>\n",
       "    </tr>\n",
       "  </thead>\n",
       "  <tbody>\n",
       "    <tr>\n",
       "      <th>5247</th>\n",
       "      <td>18-913</td>\n",
       "      <td>Grapevine Texas Man Pleads Guilty to Federal Hate Crime  Against an African-American Family</td>\n",
       "      <td>Glenn Eugene Halfin, 64, from Grapevine, Texas, appeared today before U.S. Magistrate Judge Jeffrey L. Cureton in the U.S. District Court for the Northern District of Texas and pleaded guilty to a federal charge of interfering with an African-American family’s housing rights, announced Acting Assistant Attorney General John Gore of the Civil Rights Division and U.S. Attorney Erin Nealy Cox of the Northern District of Texas. According to court documents, Halfin threatened force, intimidated, and interfered with a family because of their race and occupancy of an apartment that was located directly above his own apartment.  According to documents filed in connection with the guilty plea, on Dec. 19, 2017, Halfin purchased a baby doll at a Wal-Mart in Grapevine, Texas. He took a rope, fashioned it into a noose, and hung the baby doll from the noose. Halfin then hung the rope noose and baby doll on the railing directly in front of the only staircase the family could use to access their apartment. Halfin did so, knowing that this display would be particularly intimidating for the family who had a young daughter. In addition, the defendant referenced in his factual basis repeated intimidation of and interference with the same African-American family on other occasions. “The Justice Department will not tolerate acts of intimidation and fear, or illegal threats against any individual or family because of their race,” said Acting Assistant Attorney John Gore. “We will continue to prosecute hate crime offenders.” “No one should be afraid to go home at night,” said U.S. Attorney Erin Nealy Cox.  “Our community will not tolerate crimes of intimidation or bigotry, and my office will continue to prosecute all those who persecute others based on their race, color, ethnicity, or religious beliefs.” Halfin faces a statutory maximum penalty of no more one year in federal prison and a $100,000 fine. His sentencing is scheduled for October 24. This case was investigated by the FBI and the Grapevine Police Department. The case was prosecuted by Trial Attorney Rebekah Bailey of the Civil Rights Division’s Criminal Section and Assistant United States Attorney Nicole Dana.</td>\n",
       "      <td>2018-07-12T00:00:00-04:00</td>\n",
       "      <td>Hate Crimes</td>\n",
       "      <td>Civil Rights Division; Civil Rights - Criminal Section</td>\n",
       "      <td>0.005</td>\n",
       "      <td>0.806</td>\n",
       "      <td>0.005</td>\n",
       "      <td>-0.9955</td>\n",
       "      <td>glenn eugen halfin grapevin texa appear today magistr judg jeffrey cureton court northern texa plead guilti feder charg interf african american famili hous announc act general john gore erin neali northern texa accord court document halfin threaten forc intimid interf famili race occup apart locat direct apart accord document file connect guilti plea halfin purchas babi doll mart grapevin texa took rope fashion noos hung babi doll noos halfin hung rope noos babi doll rail direct front staircas famili could access apart halfin know display would particular intimid famili young daughter addit defend referenc factual basi repeat intimid interfer african american famili occas toler act intimid fear illeg threat individu famili race said act john gore continu prosecut hate crime offend afraid home night said erin neali communiti toler crime intimid bigotri continu prosecut persecut other base race color ethnic religi belief halfin face statutori maximum penalti year feder prison fine sentenc schedul octob investig grapevin polic prosecut rebekah bailey crimin section unit state nicol dana</td>\n",
       "    </tr>\n",
       "    <tr>\n",
       "      <th>8075</th>\n",
       "      <td>11-1245</td>\n",
       "      <td>Louisiana Man Convicted of Producing and Possessing Child Pornography</td>\n",
       "      <td>WASHINGTON –    Paul W. Miller, of Denham Springs, La., was convicted late yesterday of two counts of producing and one count of possessing child pornography, announced Assistant Attorney General Lanny A. Breuer of the Criminal Division and U.S. Attorney Donald J. Cazayoux Jr. of the Middle District of Louisiana.        Miller, 44, was convicted by a federal jury following a two-day trial.  U.S. District Judge James J. Brady presided over the trial.       Evidence presented at trial showed that from October 2007 to May 2008, Miller sexually abused a 12-year-old girl and an 11-year-old girl and produced numerous photographs of the abuse.  According to trial evidence, forensic examination of Miller’s computer revealed that Miller had used his computer to print and possess numerous images of child pornography, including both the images of child pornography he had produced and images of other child victims.                 Miller faces a maximum statutory sentence of 30 years in prison for each count of production of child pornography and 10 years in prison for the possession of child pornography count.       The case is being prosecuted by Trial Attorney Alecia Riewerts Wolak of the Criminal Division’s Child Exploitation and Obscenity Section (CEOS) and Assistant U.S. Attorney Richard L. Bourgeois Jr. of the Middle District of Louisiana.  The investigation was conducted by the FBI, the Denham Springs Police Department and the Louisiana Attorney General’s Office.</td>\n",
       "      <td>2011-09-22T00:00:00-04:00</td>\n",
       "      <td>Project Safe Childhood</td>\n",
       "      <td>Criminal Division</td>\n",
       "      <td>0.007</td>\n",
       "      <td>0.887</td>\n",
       "      <td>0.007</td>\n",
       "      <td>-0.9565</td>\n",
       "      <td>washington paul miller denham spring convict late yesterday count produc count possess child pornographi announc general lanni breuer crimin donald cazayoux middl louisiana miller convict feder juri follow judg jame bradi presid evid present show octob miller sexual abus year girl year girl produc numer photograph abus accord evid forens examin miller comput reveal miller use comput print possess numer imag child pornographi includ imag child pornographi produc imag child victim miller face maximum statutori sentenc year prison count product child pornographi year prison possess child pornographi count prosecut alecia riewert wolak crimin child exploit obscen section ceo richard bourgeoi middl louisiana conduct denham spring polic louisiana general</td>\n",
       "    </tr>\n",
       "    <tr>\n",
       "      <th>8353</th>\n",
       "      <td>11-1331</td>\n",
       "      <td>Massachusetts Man Pleads Guilty to Receiving and Possessing Child Pornography</td>\n",
       "      <td>WASHINGTON –    A Springfield, Mass., man pleaded guilty today to receiving and possessing child pornography, announced Assistant Attorney General Lanny A. Breuer of the Criminal Division.       Robert Rosenbeck, 48, pleaded guilty before U.S. District Judge Denise J. Casper in Boston to one count of receipt of child pornography and two counts of possession of child pornography.  He was indicted on those charges on Dec. 10, 2009.        According to court documents, Rosenbeck possessed two different computers containing child pornography in 2007.  Additionally, from approximately July 22, 2007, to July 25, 2007, Rosenbeck received computer files containing child pornography from an Internet website.                 At sentencing, scheduled for Dec. 5, 2011, Rosenbeck faces a maximum statutory sentence of 20 years in prison for the receipt of child pornography count and 10 years in prison for each count of possession of child pornography.  Rosenbeck also faces a term of supervised release of at least five years and up to life.       The case is being prosecuted by Trial Attorneys Alecia Riewerts Wolak and Michael W. Grant of the Criminal Division’s Child Exploitation and Obscenity Section (CEOS).  The investigation was conducted by the FBI with assistance provided by the Springfield Police Department.</td>\n",
       "      <td>2011-10-06T00:00:00-04:00</td>\n",
       "      <td>Project Safe Childhood</td>\n",
       "      <td>Criminal Division</td>\n",
       "      <td>0.008</td>\n",
       "      <td>0.874</td>\n",
       "      <td>0.008</td>\n",
       "      <td>-0.9451</td>\n",
       "      <td>washington springfield mass plead guilti today receiv possess child pornographi announc general lanni breuer crimin robert rosenbeck plead guilti judg denis casper boston count receipt child pornographi count possess child pornographi indict charg accord court document rosenbeck possess differ comput contain child pornographi addit approxim juli juli rosenbeck receiv comput file contain child pornographi internet websit sentenc schedul rosenbeck face maximum statutori sentenc year prison receipt child pornographi count year prison count possess child pornographi rosenbeck also face term supervis releas least five year life prosecut attorney alecia riewert wolak michael grant crimin child exploit obscen section ceo conduct provid springfield polic</td>\n",
       "    </tr>\n",
       "    <tr>\n",
       "      <th>7618</th>\n",
       "      <td>17-242</td>\n",
       "      <td>Justice Department Sues Edmonds, Washington Landlords for Discriminating Against Families With Children</td>\n",
       "      <td>The U.S. Department of Justice today filed a lawsuit in U.S. District Court for the Western District of Washington alleging that the owners and manager of three Edmonds, Washington apartment buildings refused to rent their apartments to families with children, in violation of the Fair Housing Act.    “The Fair Housing Act prohibits landlords from denying apartments to families just because they have children,” said Acting Assistant Attorney General Tom Wheeler of the Justice Department’s Civil Rights Division. “Many families already face challenges finding affordable housing, and they should not also have to deal with unlawful discrimination.”   “Equal access to housing is essential for all Americans, including families with young children,” said U.S. Attorney Annette L. Hayes of the Western District of Washington. “Particularly in our tight housing market, landlords must follow the law and make units available without discrimination based on race, color, religion, sex, national origin, disability or familial status.”   The complaint concerns three apartment buildings – located at 201 5th Ave. N., 621 5th Ave. S., and 401 Pine Street in Edmonds – that are managed by defendant Debbie A. Appleby, of Stanwood, Washington. The properties are owned by three Limited Liability Corporations (LLCs) controlled by Appleby – Apple One, LLC, Apple Two, LLC, and Apple Three, LLC—which are also named as defendants in the suit. The complaint alleges that in March 2014, defendant Appleby told a woman seeking an apartment for herself, her husband, and their one year old child that the apartment buildings were “adult only” and therefore not available to her family. The complaint also alleges that at various other times from April 2014 to November 2015, defendants advertised their available apartments as being restricted to adults only. The family filed a complaint with the Department of Housing and Urban Development (“HUD”) which conducted an investigation, issued a charge of discrimination against the defendants, and referred the case to the Department of Justice.    The complaint seeks a court order requiring defendants to cease their discriminatory housing practices, damages for the family that filed the HUD complaint and any other families against whom the defendants discriminated against because they had children, and civil penalties. Any individuals who have information relevant to this case are encouraged to contact the Civil Rights Division at 1-800-896-7743, Option 96.   The federal Fair Housing Act prohibits discrimination in housing on the basis of race, color, religion, sex, familial status, national origin and disability. More information about the Civil Rights Division and the civil rights laws it enforces is available at www.usdoj.gov/crt  and https://www.justice.gov/usao-wdwa/civil-rights. Individuals who believe that they have been victims of housing discrimination may call the Justice Department at 1-800-896-7743, email the Justice Department at fairhousing@usdoj.gov, or contact HUD at 1-800-669-9777 or through its website at www.hud.gov.   The case is being jointly handled by the Department’s Civil Rights Division and the U.S. Attorney’s Office for the Western District of Washington.   The complaint is an allegation of unlawful conduct. The allegations must still be proven in federal court.</td>\n",
       "      <td>2017-03-03T00:00:00-05:00</td>\n",
       "      <td>Civil Rights</td>\n",
       "      <td>Civil Rights Division; Civil Rights - Housing and Civil Enforcement Section; USAO - Washington, Western</td>\n",
       "      <td>0.009</td>\n",
       "      <td>0.912</td>\n",
       "      <td>0.009</td>\n",
       "      <td>-0.9753</td>\n",
       "      <td>today file lawsuit court western washington alleg owner manag three edmond washington apart build refus rent apart famili children violat fair hous fair hous prohibit landlord deni apart famili children said act general wheeler mani famili alreadi face challeng find afford hous also deal unlaw discrimin equal access hous essenti american includ famili young children said annett hay western washington particular tight hous market landlord must follow make unit avail without discrimin base race color religion nation origin disabl famili status complaint concern three apart build locat pine street edmond manag defend debbi applebi stanwood washington properti own three limit liabil corpor llcs control applebi appl appl appl three also name defend suit complaint alleg march defend applebi told woman seek apart husband year child apart build adult therefor avail famili complaint also alleg various time april novemb defend advertis avail apart restrict adult famili file complaint hous urban develop conduct issu charg discrimin defend refer complaint seek court order requir defend ceas discriminatori hous practic damag famili file complaint famili defend discrimin children penalti individu inform relev encourag contact option feder fair hous prohibit discrimin hous basi race color religion famili status nation origin disabl inform law enforc avail usdoj https usao wdwa individu believ victim hous discrimin call email fairhous usdoj contact websit joint handl western washington complaint alleg unlaw conduct alleg must still proven feder court</td>\n",
       "    </tr>\n",
       "    <tr>\n",
       "      <th>8847</th>\n",
       "      <td>17-550</td>\n",
       "      <td>Mother Sentenced to 26 Months in Prison for Taking Child from Illinois to Canada in International Parental Kidnapping Case</td>\n",
       "      <td>A Canadian woman was sentenced to serve 26 months in prison following her December conviction for international parental kidnapping, announced Acting Assistant Attorney General Kenneth A. Blanco of the Justice Department’s Criminal Division and Acting U.S. Attorney Patrick D. Hansen of the Central District of Illinois.   Sarah M. Nixon, 48, of Montreal, Canada, was sentenced before U.S. District Judge Colin S. Bruce of the Central District of Illinois. On Dec. 21, 2016, a federal jury found Nixon guilty of one count of international parental kidnapping for taking her minor child from the United States to Canada in July 2015, with the intent to obstruct the lawful exercise of the father’s rights.   Evidence at trial established that after a custody trial where it was apparent that Nixon would lose custody of her six-year-old daughter, Nixon fled the United States with the child in the middle of the night. When she did not appear for the custody ruling and neither she nor her daughter could be located, law enforcement issued a child abduction alert. Nixon and the child were eventually located in a farmhouse in rural Ontario, Canada. Authorities then returned the child to the father. Nixon was arrested in New York on Sept. 20, 2015, as she attempted to return to the United States.    Trial Attorneys Elly M. Peirson and Lauren S. Kupersmith of the Criminal Division’s Child Exploitation and Obscenity Section prosecuted the case. The FBI; Urbana, Illinois, Police Department; University of Illinois Police Department; Illinois Department of Children and Family Services; Ontario Provincial Police; and U.S. Customs and Border Protection investigated the case, with assistance from the Champaign County, Illinois, State’s Attorney’s Office and the Criminal Division’s Office of International Affairs.</td>\n",
       "      <td>2017-05-19T00:00:00-04:00</td>\n",
       "      <td>Project Safe Childhood</td>\n",
       "      <td>Criminal Division; Criminal - Child Exploitation and Obscenity Section; USAO - Illinois, Central</td>\n",
       "      <td>0.010</td>\n",
       "      <td>0.894</td>\n",
       "      <td>0.010</td>\n",
       "      <td>-0.9460</td>\n",
       "      <td>canadian woman sentenc serv month prison follow decemb convict intern parent kidnap announc act general kenneth blanco crimin act patrick hansen central illinoi sarah nixon montreal canada sentenc judg colin bruce central illinoi feder juri found nixon guilti count intern parent kidnap take minor child unit state canada juli intent obstruct law exercis father evid establish custodi appar nixon would lose custodi year daughter nixon fled unit state child middl night appear custodi rule neither daughter could locat enforc issu child abduct alert nixon child eventu locat farmhous rural ontario canada author return child father nixon arrest york sept attempt return unit state attorney elli peirson lauren kupersmith crimin child exploit obscen section prosecut urbana illinoi polic univers illinoi polic illinoi children famili servic ontario provinci polic custom border protect investig champaign counti illinoi state crimin intern affair</td>\n",
       "    </tr>\n",
       "    <tr>\n",
       "      <th>...</th>\n",
       "      <td>...</td>\n",
       "      <td>...</td>\n",
       "      <td>...</td>\n",
       "      <td>...</td>\n",
       "      <td>...</td>\n",
       "      <td>...</td>\n",
       "      <td>...</td>\n",
       "      <td>...</td>\n",
       "      <td>...</td>\n",
       "      <td>...</td>\n",
       "      <td>...</td>\n",
       "    </tr>\n",
       "    <tr>\n",
       "      <th>6089</th>\n",
       "      <td>18-119</td>\n",
       "      <td>Justice Department Announces Religious Liberty Update to U.S. Attorneys’ Manual and Directs the Designation of Religious Liberty Point of Contact for All U.S. Attorney's Offices</td>\n",
       "      <td>The Department of Justice today announced the update of the United States Attorneys’ Manual (USAM) with a new section titled, “Associate Attorney General’s Approval and Notice Requirements for Issues Implicating Religious Liberty.” On Oct. 6, 2017, the Attorney General issued a Memorandum for All Executive Departments and Agencies entitled Federal Law Protections for Religious Liberty. The memo directed components and United States Attorney’s Offices to use the guidance in litigation, advice to the Executive Branch, operations, grants, and all other aspects of the Department’s work. In order to ensure compliance with the Attorney General’s memo, the USAM will be updated with language that directs relevant Department of Justice components to: The updated USAM will also instruct relevant Justice Department components to consult the 20 religious liberty principles laid out in the Attorney General’s October 6 memo when considering whether the notice or approval requirements are initiated. In order to fully effectuate the approval and notice requirements in the updated USAM, the Department will instruct all U.S. Attorneys to designate a point of contact to lead these efforts for their office. “Religious liberty is an inalienable right protected by the Constitution, and defending it is one of the most important things we do at the Department of Justice,” said Associate Attorney General Rachel Brand. At President Trump's direction, Attorney General Sessions issued a robust and clear guidance document in October that clearly explains how the federal government is to apply the religious liberty protections currently on the books.  The requirement that each of the U.S. Attorney offices designate a religious liberty point of contact will ensure that the Attorney General’s Memorandum is effectively implemented. The designees will be responsible for working directly with the leadership offices on civil cases related to religious liberty, ensuring that these cases receive the rigorous attention they deserve.</td>\n",
       "      <td>2018-01-31T00:00:00-05:00</td>\n",
       "      <td>Civil Rights</td>\n",
       "      <td>Civil Rights Division; Office of the Associate Attorney General</td>\n",
       "      <td>0.199</td>\n",
       "      <td>0.788</td>\n",
       "      <td>0.199</td>\n",
       "      <td>0.9944</td>\n",
       "      <td>today announc updat unit state attorney manual usam section titl associ general approv notic requir issu implic religi liberti general issu memorandum execut depart agenc entitl feder protect religi liberti memo direct compon unit state offic guidanc litig advic execut branch oper grant aspect work order ensur complianc general memo usam updat languag direct relev compon updat usam also instruct relev compon consult religi liberti principl laid general octob memo consid whether notic approv requir initi order fulli effectu approv notic requir updat usam instruct attorney design point contact lead effort religi liberti inalien right protect constitut defend import thing said associ general rachel brand presid trump direct general session issu robust clear guidanc document octob clear explain feder govern appli religi liberti protect current book requir offic design religi liberti point contact ensur general memorandum effect implement designe respons work direct leadership offic case relat religi liberti ensur case receiv rigor attent deserv</td>\n",
       "    </tr>\n",
       "    <tr>\n",
       "      <th>6733</th>\n",
       "      <td>16-1321</td>\n",
       "      <td>Justice Department Reaches Agreement with City of Yonkers, New York, to Enhance Police Department Policies and Procedures</td>\n",
       "      <td>The Justice Department announced today that it has reached an agreement with the city of Yonkers, New York, and the Yonkers Police Department (YPD) to resolve the department’s investigation of YPD and ensure constitutional policing. The agreement is the result of the department’s investigation of YPD under the Violent Crime Control and Law Enforcement Act of 1994 and the Omnibus Crime Control and Safe Streets Act of 1968.  In June 2009, the United States sent the city a technical assistance letter that identified necessary reforms to YPD practices and policies in the areas of use of force, civilian complaints, investigations, supervisory oversight and training.  After receiving the department’s technical assistance letter, the city and YPD made substantial changes to its policies and procedures.  This agreement implements and further improves those policies and procedures and addresses the department’s remaining concerns.  “This agreement will ensure that the Yonkers Police Department continues to advance constitutional, effective and community-oriented policing,” said Principal Deputy Assistant Attorney General Vanita Gupta, head of the Justice Department’s Civil Rights Division.  “Through clear policy guidance, data analysis and accountability systems, we believe these reforms will make the entire community safer and strengthen public trust in the police.” “This agreement ensures that the Yonkers Police Department polices in a way that keeps its citizens safe, while protecting their constitutional rights,” said U.S. Attorney Preet Bharara of the Southern District of New York.  “The measures put in place with this agreement, including clear and reasonable use-of-force policies and guidance on how to properly evaluate and respond to use-of-force incidents, will make Yonkers safer for citizens and police alike.  We thank the Yonkers Police Department and the city of Yonkers for cooperating with our investigation, and for joining our effort to ensure that the Yonkers Police Department protects its citizens not only from physical harm, but also from violations of their constitutional rights.” The agreement is carefully tailored to address the department’s remaining concerns while also taking into account and seeking to build upon the positive reforms YPD has already made following the department’s investigation.  Under the agreement, the YPD will, among other things: The agreement also provides that consultants retained by the department will conduct compliance reviews to ensure that YPD has implemented the measures required by the agreement and issue public reports of those compliance reviews. This case is being handled by the Civil Rights Division’s Special Litigation Section and the U.S. Attorney’s Office of the Southern District of New York. Yonkers Police Department Agreement</td>\n",
       "      <td>2016-11-14T00:00:00-05:00</td>\n",
       "      <td>Civil Rights</td>\n",
       "      <td>Civil Rights Division; Civil Rights - Special Litigation Section; USAO - New York, Southern</td>\n",
       "      <td>0.199</td>\n",
       "      <td>0.778</td>\n",
       "      <td>0.199</td>\n",
       "      <td>0.9950</td>\n",
       "      <td>announc today reach agreement citi yonker york yonker polic resolv ensur constitut polic agreement result violent crime control enforc omnibus crime control safe street june unit state sent citi technic letter identifi necessari reform practic polici area forc civilian complaint investig supervisori oversight train receiv technic letter citi made substanti chang polici procedur agreement implement improv polici procedur address remain concern agreement ensur yonker polic continu advanc constitut effect communiti orient polic said princip deputi general vanita gupta head clear polici guidanc data analysi account system believ reform make entir communiti safer strengthen public trust polic agreement ensur yonker polic polic keep citizen safe protect constitut said preet bharara southern york measur place agreement includ clear reason forc polici guidanc proper evalu respond forc incid make yonker safer citizen polic alik thank yonker polic citi yonker cooper join effort ensur yonker polic protect citizen physic harm also violat constitut agreement care tailor address remain concern also take account seek build upon posit reform alreadi made follow agreement among thing agreement also provid consult retain conduct complianc review ensur implement measur requir agreement issu public report complianc review handl special litig section southern york yonker polic agreement</td>\n",
       "    </tr>\n",
       "    <tr>\n",
       "      <th>6905</th>\n",
       "      <td>16-740</td>\n",
       "      <td>Justice Department Reaches Settlement to Reform Criminal Justice System in Hinds County, Mississippi</td>\n",
       "      <td>The Justice Department today reached a landmark settlement agreement to reform the criminal justice system in Hinds County, Mississippi.  The agreement resolves the department’s findings that the Hinds County Adult Detention Center and the Jackson City Detention Center – which together form the Hinds County Jail – failed to protect prisoners from violence and excessive force and held them past their court-ordered release dates, in violation of the Civil Rights of Institutionalized Persons Act (CRIPA). The settlement agreement is the first of its kind to incorporate broader criminal justice system reform through diversion at the front end and reentry to the community after incarceration.  It creates a criminal justice coordinating committee that will help ensure the county’s systems operate effectively and efficiently, develop interventions to divert individuals in appropriate cases from arrest, detention and incarceration, and engage in community outreach.  To promote successful reentry, the agreement includes mechanisms for notifying community health providers when a person with serious mental illness is released to help the person transition safely back to the community.  The agreement also addresses unlawful enforcement of court-ordered fines and fees by ensuring that the county cannot incarcerate an individual for non-payment if the court does not first assess whether the individual is indigent. “Across the board, this settlement will make the Hinds County criminal justice system smarter and fairer,” said Principal Deputy Assistant Attorney General Vanita Gupta, head of the Justice Department’s Civil Rights Division.  “If implemented, these reforms will make pretrial detainees, prisoners, corrections staff and the entire community safer, while also ensuring that vulnerable individuals get access to the treatment, care and community services they need and deserve.  We commend the county for its commitment to making these reforms a reality.” “For too long, the conditions in the Jail have posed a serious challenge to law enforcement and the safety of our community,” said U.S. Attorney Gregory K. Davis of the Southern District of Mississippi.  “I appreciate the commitment made by Hinds County officials to turn the page and begin making necessary reforms.” The settlement agreement – subject to approval by the U.S. District Court of the Southern District of Mississippi – requires the county to implement a series of reforms across various stages of the criminal justice system, including the following: Together these reforms aim to improve communication and coordination among criminal justice entities and community service providers to help individuals with mental illness transition back to the community and to reduce recidivism.  If approved by the federal district court, an independent monitor will be appointed to assess the county’s compliance.  In May 2015, the Justice Department completed a comprehensive investigation – which included on-site inspections, document reviews and stakeholder interviews by department experts and staff – and issued a findings letter that determined that Hinds County Adult Detention Center and the Jackson City Detention Center violated CRIPA by failing to protect prisoners from violence by other prisoners and from improper use of force by staff.  The department also found that inadequate staffing and training, a backlog in record filing and a lack of centralized information resulted in prisoners being held beyond court-ordered release dates. CRIPA authorizes the department to seek a remedy for a pattern or practice of conduct that violates the constitutional rights of persons confined in a jail, prison or other correctional facility.  For more information on the Civil Rights Division’s work in this area, please visit www.justice.gov/crt. Hinds County Settlement Agreement Hinds County Fact Sheet</td>\n",
       "      <td>2016-06-23T00:00:00-04:00</td>\n",
       "      <td>Civil Rights</td>\n",
       "      <td>Civil Rights Division; Civil Rights - Special Litigation Section; USAO - Mississippi, Southern</td>\n",
       "      <td>0.205</td>\n",
       "      <td>0.659</td>\n",
       "      <td>0.205</td>\n",
       "      <td>0.9888</td>\n",
       "      <td>today reach landmark settlement agreement reform crimin system hind counti mississippi agreement resolv find hind counti adult detent center jackson citi detent center togeth form hind counti jail fail protect prison violenc excess forc held past court order releas date violat institution person cripa settlement agreement first kind incorpor broader crimin system reform divers front reentri communiti incarcer creat crimin coordin committe help ensur counti system oper effect effici develop intervent divert individu appropri case arrest detent incarcer engag communiti outreach promot success reentri agreement includ mechan notifi communiti health provid person serious mental ill releas help person transit safe back communiti agreement also address unlaw enforc court order fine fee ensur counti cannot incarcer individu payment court first assess whether individu indig across board settlement make hind counti crimin system smarter fairer said princip deputi general vanita gupta head implement reform make pretrial detaine prison correct staff entir communiti safer also ensur vulner individu access treatment care communiti servic need deserv commend counti commit make reform realiti long condit jail pose serious challeng enforc safeti communiti said gregori davi southern mississippi appreci commit made hind counti offici turn page begin make necessari reform settlement agreement subject approv court southern mississippi requir counti implement seri reform across various stage crimin system includ follow togeth reform improv communic coordin among crimin entiti communiti servic provid help individu mental ill transit back communiti reduc recidiv approv feder court independ monitor appoint assess counti complianc complet comprehens includ site inspect document review stakehold interview expert staff issu find letter determin hind counti adult detent center jackson citi detent center violat cripa fail protect prison violenc prison improp forc staff also found inadequ staf train backlog record file lack central inform result prison held beyond court order releas date cripa author seek remedi pattern practic conduct violat constitut person confin jail prison correct facil inform work area pleas visit hind counti settlement agreement hind counti fact sheet</td>\n",
       "    </tr>\n",
       "    <tr>\n",
       "      <th>11066</th>\n",
       "      <td>16-163</td>\n",
       "      <td>Statement from Head of the Civil Rights Division Vanita Gupta Regarding Ferguson, Missouri, City Council Vote on Proposed Consent Decree</td>\n",
       "      <td>Principal Deputy Assistant Attorney General Vanita Gupta, head of the Justice Department’s Civil Rights Division, released the following statement regarding the Ferguson, Missouri, City Council vote on the proposed consent decree with the Department of Justice:  “The Ferguson City Council has attempted to unilaterally amend the negotiated agreement.  Their vote to do so creates an unnecessary delay in the essential work to bring constitutional policing to the city, and marks an unfortunate outcome for concerned community members and Ferguson police officers.  Both parties engaged in thoughtful negotiations over many months to create an agreement with cost-effective remedies that would ensure Ferguson brings policing and court practices in line with the Constitution.  The agreement already negotiated by the department and the city will provide Ferguson residents a police department and municipal court that fully respects civil rights and operates free from racial discrimination. “The Department of Justice will take the necessary legal actions to ensure that Ferguson’s policing and court practices comply with the Constitution and relevant federal laws.”</td>\n",
       "      <td>2016-02-10T00:00:00-05:00</td>\n",
       "      <td>Civil Rights</td>\n",
       "      <td>Civil Rights Division; Civil Rights - Special Litigation Section</td>\n",
       "      <td>0.217</td>\n",
       "      <td>0.752</td>\n",
       "      <td>0.217</td>\n",
       "      <td>0.9811</td>\n",
       "      <td>princip deputi general vanita gupta head releas follow statement regard ferguson missouri citi council vote propos consent decre ferguson citi council attempt unilater amend negoti agreement vote creat unnecessari delay essenti work bring constitut polic citi mark unfortun outcom concern communiti member ferguson polic offic parti engag thought negoti mani month creat agreement cost effect remedi would ensur ferguson bring polic court practic line constitut agreement alreadi negoti citi provid ferguson resid polic municip court fulli respect oper free racial discrimin take necessari legal action ensur ferguson polic court practic compli constitut relev feder law</td>\n",
       "    </tr>\n",
       "    <tr>\n",
       "      <th>6727</th>\n",
       "      <td>16-217</td>\n",
       "      <td>Justice Department Reaches Agreement with the City of Miami and the Miami Police Department to Implement Reforms on Officer-Involved Shootings</td>\n",
       "      <td>The Justice Department has reached a comprehensive settlement agreement with the city of Miami and the Miami Police Department (MPD) resolving the Justice Department’s investigation of officer-involved shootings by MPD officers, announced Principal Deputy Assistant Attorney General Vanita Gupta, head of the Justice Department’s Civil Rights Division and U.S. Attorney Wifredo A. Ferrer of the Southern District of Florida. The settlement, which was approved by Miami’s city commission today and will go into effect when the agreement is signed by all parties, resolves claims stemming from the Justice Department’s investigation into officer-involved shootings by MPD officers, which was conducted under the Violent Crime Control and Law Enforcement Act of 1994.  The investigation’s findings, issued in July 2013, identified a pattern or practice of excessive use of force through officer-involved shootings in violation of the Fourth Amendment of the Constitution.  The city’s compliance with the settlement will be monitored by an independent reviewer, former Tampa, Florida, Police Chief Jane Castor.  Under the settlement agreement, the city will implement comprehensive reforms to ensure constitutional policing and support public trust.  The settlement agreement is designed to minimize officer-involved shootings and to more effectively and quickly investigate officer-involved shootings that do occur, through measures that include: “This settlement represents a renewed commitment by the city of Miami and Chief Rodolfo Llanes to provide constitutional policing for Miami residents and to protect public safety through sustainable reform,” said Principal Deputy Assistant Attorney General Gupta.  “The agreement will help to strengthen the relationship between the MPD and the communities they serve by improving accountability for officers who fire their weapons unlawfully, and provides for community participation in the enforcement of this agreement.”  “Today's agreement is the result of a joint effort between the Department of Justice and the City of Miami to ensure that the Miami Police Department continues its efforts to make our community safe while protecting the sacred Constitutional rights of all of our citizens,” said U.S. Attorney Ferrer.  “Through oversight and communication, the agreement seeks to make permanent the positive changes that former Chief Orosa and Chief Llanes have made, and we applaud the City Commission’s vote.” The settlement agreement builds upon important reforms implemented by the city since the Justice Department issued its findings, including:  The investigation was conducted by attorneys and staff from the Civil Rights Division’s Special Litigation Section and the Civil Division of the U. S. Attorney’s Office of the Southern District of Florida.</td>\n",
       "      <td>2016-02-25T00:00:00-05:00</td>\n",
       "      <td>Civil Rights</td>\n",
       "      <td>Civil Rights Division; Civil Rights - Special Litigation Section; USAO - Florida, Southern</td>\n",
       "      <td>0.222</td>\n",
       "      <td>0.755</td>\n",
       "      <td>0.222</td>\n",
       "      <td>0.9966</td>\n",
       "      <td>reach comprehens settlement agreement citi miami miami polic resolv offic involv shoot offic announc princip deputi general vanita gupta head wifredo ferrer southern florida settlement approv miami citi commiss today effect agreement sign parti resolv claim stem offic involv shoot offic conduct violent crime control enforc find issu juli identifi pattern practic excess forc offic involv shoot violat fourth amend constitut citi complianc settlement monitor independ review former tampa florida polic chief jane castor settlement agreement citi implement comprehens reform ensur constitut polic support public trust settlement agreement design minim offic involv shoot effect quick investig offic involv shoot occur measur includ settlement repres renew commit citi miami chief rodolfo llane provid constitut polic miami resid protect public safeti sustain reform said princip deputi general gupta agreement help strengthen relationship communiti serv improv account offic fire weapon unlaw provid communiti particip enforc agreement today agreement result joint effort citi miami ensur miami polic continu effort make communiti safe protect sacr constitut citizen said ferrer oversight communic agreement seek make perman posit chang former chief orosa chief llane made applaud citi commiss vote settlement agreement build upon import reform implement citi sinc issu find includ conduct attorney staff special litig section southern florida</td>\n",
       "    </tr>\n",
       "  </tbody>\n",
       "</table>\n",
       "<p>717 rows × 11 columns</p>\n",
       "</div>"
      ],
      "text/plain": [
       "            id  \\\n",
       "5247    18-913   \n",
       "8075   11-1245   \n",
       "8353   11-1331   \n",
       "7618    17-242   \n",
       "8847    17-550   \n",
       "...        ...   \n",
       "6089    18-119   \n",
       "6733   16-1321   \n",
       "6905    16-740   \n",
       "11066   16-163   \n",
       "6727    16-217   \n",
       "\n",
       "                                                                                                                                                                                   title  \\\n",
       "5247                                                                                         Grapevine Texas Man Pleads Guilty to Federal Hate Crime  Against an African-American Family   \n",
       "8075                                                                                                               Louisiana Man Convicted of Producing and Possessing Child Pornography   \n",
       "8353                                                                                                       Massachusetts Man Pleads Guilty to Receiving and Possessing Child Pornography   \n",
       "7618                                                                             Justice Department Sues Edmonds, Washington Landlords for Discriminating Against Families With Children   \n",
       "8847                                                          Mother Sentenced to 26 Months in Prison for Taking Child from Illinois to Canada in International Parental Kidnapping Case   \n",
       "...                                                                                                                                                                                  ...   \n",
       "6089   Justice Department Announces Religious Liberty Update to U.S. Attorneys’ Manual and Directs the Designation of Religious Liberty Point of Contact for All U.S. Attorney's Offices   \n",
       "6733                                                           Justice Department Reaches Agreement with City of Yonkers, New York, to Enhance Police Department Policies and Procedures   \n",
       "6905                                                                                Justice Department Reaches Settlement to Reform Criminal Justice System in Hinds County, Mississippi   \n",
       "11066                                           Statement from Head of the Civil Rights Division Vanita Gupta Regarding Ferguson, Missouri, City Council Vote on Proposed Consent Decree   \n",
       "6727                                      Justice Department Reaches Agreement with the City of Miami and the Miami Police Department to Implement Reforms on Officer-Involved Shootings   \n",
       "\n",
       "                                                                                                                                                                                                                                                                                                                                                                                                                                                                                                                                                                                                                                                                                                                                                                                                                                                                                                                                                                                                                                                                                                                                                                                                                                                                                                                                                                                                                                                                                                                                                                                                                                                                                                                                                                                                                                                                                                                                                                                                                                                                                                                                                                                                                                                                                                                                                                                                                                                                                                                                                                                                                                                                                                                                                                                                                                                                                                                                                                                                                                                                                                                                                                                                                                                                                                                                                                                                                                                                                                                                                                                                                                                                                                                                                                                                                                                                                                                                                                                                                                                    contents  \\\n",
       "5247                                                                                                                                                                                                                                                                                                                                                                                                                                                                                                                                                                                                                                                                                                                                                                                                                                                                                                                                                                                                                                                                                                                                                                                                                                                                                                                                                                                                                                                                                                                                                                                                                                                                                                                                                                              Glenn Eugene Halfin, 64, from Grapevine, Texas, appeared today before U.S. Magistrate Judge Jeffrey L. Cureton in the U.S. District Court for the Northern District of Texas and pleaded guilty to a federal charge of interfering with an African-American family’s housing rights, announced Acting Assistant Attorney General John Gore of the Civil Rights Division and U.S. Attorney Erin Nealy Cox of the Northern District of Texas. According to court documents, Halfin threatened force, intimidated, and interfered with a family because of their race and occupancy of an apartment that was located directly above his own apartment.  According to documents filed in connection with the guilty plea, on Dec. 19, 2017, Halfin purchased a baby doll at a Wal-Mart in Grapevine, Texas. He took a rope, fashioned it into a noose, and hung the baby doll from the noose. Halfin then hung the rope noose and baby doll on the railing directly in front of the only staircase the family could use to access their apartment. Halfin did so, knowing that this display would be particularly intimidating for the family who had a young daughter. In addition, the defendant referenced in his factual basis repeated intimidation of and interference with the same African-American family on other occasions. “The Justice Department will not tolerate acts of intimidation and fear, or illegal threats against any individual or family because of their race,” said Acting Assistant Attorney John Gore. “We will continue to prosecute hate crime offenders.” “No one should be afraid to go home at night,” said U.S. Attorney Erin Nealy Cox.  “Our community will not tolerate crimes of intimidation or bigotry, and my office will continue to prosecute all those who persecute others based on their race, color, ethnicity, or religious beliefs.” Halfin faces a statutory maximum penalty of no more one year in federal prison and a $100,000 fine. His sentencing is scheduled for October 24. This case was investigated by the FBI and the Grapevine Police Department. The case was prosecuted by Trial Attorney Rebekah Bailey of the Civil Rights Division’s Criminal Section and Assistant United States Attorney Nicole Dana.   \n",
       "8075                                                                                                                                                                                                                                                                                                                                                                                                                                                                                                                                                                                                                                                                                                                                                                                                                                                                                                                                                                                                                                                                                                                                                                                                                                                                                                                                                                                                                                                                                                                                                                                                                                                                                                                                                                                                                                                                                                                                                                                                                                                                                                                                                                                                                                                                                                                                                                                                                                                                                                             WASHINGTON –    Paul W. Miller, of Denham Springs, La., was convicted late yesterday of two counts of producing and one count of possessing child pornography, announced Assistant Attorney General Lanny A. Breuer of the Criminal Division and U.S. Attorney Donald J. Cazayoux Jr. of the Middle District of Louisiana.        Miller, 44, was convicted by a federal jury following a two-day trial.  U.S. District Judge James J. Brady presided over the trial.       Evidence presented at trial showed that from October 2007 to May 2008, Miller sexually abused a 12-year-old girl and an 11-year-old girl and produced numerous photographs of the abuse.  According to trial evidence, forensic examination of Miller’s computer revealed that Miller had used his computer to print and possess numerous images of child pornography, including both the images of child pornography he had produced and images of other child victims.                 Miller faces a maximum statutory sentence of 30 years in prison for each count of production of child pornography and 10 years in prison for the possession of child pornography count.       The case is being prosecuted by Trial Attorney Alecia Riewerts Wolak of the Criminal Division’s Child Exploitation and Obscenity Section (CEOS) and Assistant U.S. Attorney Richard L. Bourgeois Jr. of the Middle District of Louisiana.  The investigation was conducted by the FBI, the Denham Springs Police Department and the Louisiana Attorney General’s Office.   \n",
       "8353                                                                                                                                                                                                                                                                                                                                                                                                                                                                                                                                                                                                                                                                                                                                                                                                                                                                                                                                                                                                                                                                                                                                                                                                                                                                                                                                                                                                                                                                                                                                                                                                                                                                                                                                                                                                                                                                                                                                                                                                                                                                                                                                                                                                                                                                                                                                                                                                                                                                                                                                                                                                                                                                               WASHINGTON –    A Springfield, Mass., man pleaded guilty today to receiving and possessing child pornography, announced Assistant Attorney General Lanny A. Breuer of the Criminal Division.       Robert Rosenbeck, 48, pleaded guilty before U.S. District Judge Denise J. Casper in Boston to one count of receipt of child pornography and two counts of possession of child pornography.  He was indicted on those charges on Dec. 10, 2009.        According to court documents, Rosenbeck possessed two different computers containing child pornography in 2007.  Additionally, from approximately July 22, 2007, to July 25, 2007, Rosenbeck received computer files containing child pornography from an Internet website.                 At sentencing, scheduled for Dec. 5, 2011, Rosenbeck faces a maximum statutory sentence of 20 years in prison for the receipt of child pornography count and 10 years in prison for each count of possession of child pornography.  Rosenbeck also faces a term of supervised release of at least five years and up to life.       The case is being prosecuted by Trial Attorneys Alecia Riewerts Wolak and Michael W. Grant of the Criminal Division’s Child Exploitation and Obscenity Section (CEOS).  The investigation was conducted by the FBI with assistance provided by the Springfield Police Department.   \n",
       "7618                                                                                                                                                                                                                                                                                                                                                                                                                                                                                                                                                                 The U.S. Department of Justice today filed a lawsuit in U.S. District Court for the Western District of Washington alleging that the owners and manager of three Edmonds, Washington apartment buildings refused to rent their apartments to families with children, in violation of the Fair Housing Act.    “The Fair Housing Act prohibits landlords from denying apartments to families just because they have children,” said Acting Assistant Attorney General Tom Wheeler of the Justice Department’s Civil Rights Division. “Many families already face challenges finding affordable housing, and they should not also have to deal with unlawful discrimination.”   “Equal access to housing is essential for all Americans, including families with young children,” said U.S. Attorney Annette L. Hayes of the Western District of Washington. “Particularly in our tight housing market, landlords must follow the law and make units available without discrimination based on race, color, religion, sex, national origin, disability or familial status.”   The complaint concerns three apartment buildings – located at 201 5th Ave. N., 621 5th Ave. S., and 401 Pine Street in Edmonds – that are managed by defendant Debbie A. Appleby, of Stanwood, Washington. The properties are owned by three Limited Liability Corporations (LLCs) controlled by Appleby – Apple One, LLC, Apple Two, LLC, and Apple Three, LLC—which are also named as defendants in the suit. The complaint alleges that in March 2014, defendant Appleby told a woman seeking an apartment for herself, her husband, and their one year old child that the apartment buildings were “adult only” and therefore not available to her family. The complaint also alleges that at various other times from April 2014 to November 2015, defendants advertised their available apartments as being restricted to adults only. The family filed a complaint with the Department of Housing and Urban Development (“HUD”) which conducted an investigation, issued a charge of discrimination against the defendants, and referred the case to the Department of Justice.    The complaint seeks a court order requiring defendants to cease their discriminatory housing practices, damages for the family that filed the HUD complaint and any other families against whom the defendants discriminated against because they had children, and civil penalties. Any individuals who have information relevant to this case are encouraged to contact the Civil Rights Division at 1-800-896-7743, Option 96.   The federal Fair Housing Act prohibits discrimination in housing on the basis of race, color, religion, sex, familial status, national origin and disability. More information about the Civil Rights Division and the civil rights laws it enforces is available at www.usdoj.gov/crt  and https://www.justice.gov/usao-wdwa/civil-rights. Individuals who believe that they have been victims of housing discrimination may call the Justice Department at 1-800-896-7743, email the Justice Department at fairhousing@usdoj.gov, or contact HUD at 1-800-669-9777 or through its website at www.hud.gov.   The case is being jointly handled by the Department’s Civil Rights Division and the U.S. Attorney’s Office for the Western District of Washington.   The complaint is an allegation of unlawful conduct. The allegations must still be proven in federal court.   \n",
       "8847                                                                                                                                                                                                                                                                                                                                                                                                                                                                                                                                                                                                                                                                                                                                                                                                                                                                                                                                                                                                                                                                                                                                                                                                                                                                                                                                                                                                                                                                                                                                                                                                                                                                                                                                                                                                                                                                                                                                                                                                                                                                                                                                                              A Canadian woman was sentenced to serve 26 months in prison following her December conviction for international parental kidnapping, announced Acting Assistant Attorney General Kenneth A. Blanco of the Justice Department’s Criminal Division and Acting U.S. Attorney Patrick D. Hansen of the Central District of Illinois.   Sarah M. Nixon, 48, of Montreal, Canada, was sentenced before U.S. District Judge Colin S. Bruce of the Central District of Illinois. On Dec. 21, 2016, a federal jury found Nixon guilty of one count of international parental kidnapping for taking her minor child from the United States to Canada in July 2015, with the intent to obstruct the lawful exercise of the father’s rights.   Evidence at trial established that after a custody trial where it was apparent that Nixon would lose custody of her six-year-old daughter, Nixon fled the United States with the child in the middle of the night. When she did not appear for the custody ruling and neither she nor her daughter could be located, law enforcement issued a child abduction alert. Nixon and the child were eventually located in a farmhouse in rural Ontario, Canada. Authorities then returned the child to the father. Nixon was arrested in New York on Sept. 20, 2015, as she attempted to return to the United States.    Trial Attorneys Elly M. Peirson and Lauren S. Kupersmith of the Criminal Division’s Child Exploitation and Obscenity Section prosecuted the case. The FBI; Urbana, Illinois, Police Department; University of Illinois Police Department; Illinois Department of Children and Family Services; Ontario Provincial Police; and U.S. Customs and Border Protection investigated the case, with assistance from the Champaign County, Illinois, State’s Attorney’s Office and the Criminal Division’s Office of International Affairs.    \n",
       "...                                                                                                                                                                                                                                                                                                                                                                                                                                                                                                                                                                                                                                                                                                                                                                                                                                                                                                                                                                                                                                                                                                                                                                                                                                                                                                                                                                                                                                                                                                                                                                                                                                                                                                                                                                                                                                                                                                                                                                                                                                                                                                                                                                                                                                                                                                                                                                                                                                                                                                                                                                                                                                                                                                                                                                                                                                                                                                                                                                                                                                                                                                                                                                                                                                                                                                                                                                                                                                                                                                                                                                                                                                                                                                                                                                                                                                                                                                                                                                                                                                                      ...   \n",
       "6089                                                                                                                                                                                                                                                                                                                                                                                                                                                                                                                                                                                                                                                                                                                                                                                                                                                                                                                                                                                                                                                                                                                                                                                                                                                                                                                                                                                                                                                                                                                                                                                                                                                                                                                                                                                                                                                                                                                                           The Department of Justice today announced the update of the United States Attorneys’ Manual (USAM) with a new section titled, “Associate Attorney General’s Approval and Notice Requirements for Issues Implicating Religious Liberty.” On Oct. 6, 2017, the Attorney General issued a Memorandum for All Executive Departments and Agencies entitled Federal Law Protections for Religious Liberty. The memo directed components and United States Attorney’s Offices to use the guidance in litigation, advice to the Executive Branch, operations, grants, and all other aspects of the Department’s work. In order to ensure compliance with the Attorney General’s memo, the USAM will be updated with language that directs relevant Department of Justice components to: The updated USAM will also instruct relevant Justice Department components to consult the 20 religious liberty principles laid out in the Attorney General’s October 6 memo when considering whether the notice or approval requirements are initiated. In order to fully effectuate the approval and notice requirements in the updated USAM, the Department will instruct all U.S. Attorneys to designate a point of contact to lead these efforts for their office. “Religious liberty is an inalienable right protected by the Constitution, and defending it is one of the most important things we do at the Department of Justice,” said Associate Attorney General Rachel Brand. At President Trump's direction, Attorney General Sessions issued a robust and clear guidance document in October that clearly explains how the federal government is to apply the religious liberty protections currently on the books.  The requirement that each of the U.S. Attorney offices designate a religious liberty point of contact will ensure that the Attorney General’s Memorandum is effectively implemented. The designees will be responsible for working directly with the leadership offices on civil cases related to religious liberty, ensuring that these cases receive the rigorous attention they deserve.   \n",
       "6733                                                                                                                                                                                                                                                                                                                                                                                                                                                                                                                                                                                                                                                                                                                                                                                                                                                                                                                                                                                                                                                                                                            The Justice Department announced today that it has reached an agreement with the city of Yonkers, New York, and the Yonkers Police Department (YPD) to resolve the department’s investigation of YPD and ensure constitutional policing. The agreement is the result of the department’s investigation of YPD under the Violent Crime Control and Law Enforcement Act of 1994 and the Omnibus Crime Control and Safe Streets Act of 1968.  In June 2009, the United States sent the city a technical assistance letter that identified necessary reforms to YPD practices and policies in the areas of use of force, civilian complaints, investigations, supervisory oversight and training.  After receiving the department’s technical assistance letter, the city and YPD made substantial changes to its policies and procedures.  This agreement implements and further improves those policies and procedures and addresses the department’s remaining concerns.  “This agreement will ensure that the Yonkers Police Department continues to advance constitutional, effective and community-oriented policing,” said Principal Deputy Assistant Attorney General Vanita Gupta, head of the Justice Department’s Civil Rights Division.  “Through clear policy guidance, data analysis and accountability systems, we believe these reforms will make the entire community safer and strengthen public trust in the police.” “This agreement ensures that the Yonkers Police Department polices in a way that keeps its citizens safe, while protecting their constitutional rights,” said U.S. Attorney Preet Bharara of the Southern District of New York.  “The measures put in place with this agreement, including clear and reasonable use-of-force policies and guidance on how to properly evaluate and respond to use-of-force incidents, will make Yonkers safer for citizens and police alike.  We thank the Yonkers Police Department and the city of Yonkers for cooperating with our investigation, and for joining our effort to ensure that the Yonkers Police Department protects its citizens not only from physical harm, but also from violations of their constitutional rights.” The agreement is carefully tailored to address the department’s remaining concerns while also taking into account and seeking to build upon the positive reforms YPD has already made following the department’s investigation.  Under the agreement, the YPD will, among other things: The agreement also provides that consultants retained by the department will conduct compliance reviews to ensure that YPD has implemented the measures required by the agreement and issue public reports of those compliance reviews. This case is being handled by the Civil Rights Division’s Special Litigation Section and the U.S. Attorney’s Office of the Southern District of New York. Yonkers Police Department Agreement   \n",
       "6905   The Justice Department today reached a landmark settlement agreement to reform the criminal justice system in Hinds County, Mississippi.  The agreement resolves the department’s findings that the Hinds County Adult Detention Center and the Jackson City Detention Center – which together form the Hinds County Jail – failed to protect prisoners from violence and excessive force and held them past their court-ordered release dates, in violation of the Civil Rights of Institutionalized Persons Act (CRIPA). The settlement agreement is the first of its kind to incorporate broader criminal justice system reform through diversion at the front end and reentry to the community after incarceration.  It creates a criminal justice coordinating committee that will help ensure the county’s systems operate effectively and efficiently, develop interventions to divert individuals in appropriate cases from arrest, detention and incarceration, and engage in community outreach.  To promote successful reentry, the agreement includes mechanisms for notifying community health providers when a person with serious mental illness is released to help the person transition safely back to the community.  The agreement also addresses unlawful enforcement of court-ordered fines and fees by ensuring that the county cannot incarcerate an individual for non-payment if the court does not first assess whether the individual is indigent. “Across the board, this settlement will make the Hinds County criminal justice system smarter and fairer,” said Principal Deputy Assistant Attorney General Vanita Gupta, head of the Justice Department’s Civil Rights Division.  “If implemented, these reforms will make pretrial detainees, prisoners, corrections staff and the entire community safer, while also ensuring that vulnerable individuals get access to the treatment, care and community services they need and deserve.  We commend the county for its commitment to making these reforms a reality.” “For too long, the conditions in the Jail have posed a serious challenge to law enforcement and the safety of our community,” said U.S. Attorney Gregory K. Davis of the Southern District of Mississippi.  “I appreciate the commitment made by Hinds County officials to turn the page and begin making necessary reforms.” The settlement agreement – subject to approval by the U.S. District Court of the Southern District of Mississippi – requires the county to implement a series of reforms across various stages of the criminal justice system, including the following: Together these reforms aim to improve communication and coordination among criminal justice entities and community service providers to help individuals with mental illness transition back to the community and to reduce recidivism.  If approved by the federal district court, an independent monitor will be appointed to assess the county’s compliance.  In May 2015, the Justice Department completed a comprehensive investigation – which included on-site inspections, document reviews and stakeholder interviews by department experts and staff – and issued a findings letter that determined that Hinds County Adult Detention Center and the Jackson City Detention Center violated CRIPA by failing to protect prisoners from violence by other prisoners and from improper use of force by staff.  The department also found that inadequate staffing and training, a backlog in record filing and a lack of centralized information resulted in prisoners being held beyond court-ordered release dates. CRIPA authorizes the department to seek a remedy for a pattern or practice of conduct that violates the constitutional rights of persons confined in a jail, prison or other correctional facility.  For more information on the Civil Rights Division’s work in this area, please visit www.justice.gov/crt. Hinds County Settlement Agreement Hinds County Fact Sheet   \n",
       "11066                                                                                                                                                                                                                                                                                                                                                                                                                                                                                                                                                                                                                                                                                                                                                                                                                                                                                                                                                                                                                                                                                                                                                                                                                                                                                                                                                                                                                                                                                                                                                                                                                                                                                                                                                                                                                                                                                                                                                                                                                                                                                                                                                                                                                                                                                                                                                                                                                                                                                                                                                                                                                                                                                                                                                                                                                                      Principal Deputy Assistant Attorney General Vanita Gupta, head of the Justice Department’s Civil Rights Division, released the following statement regarding the Ferguson, Missouri, City Council vote on the proposed consent decree with the Department of Justice:  “The Ferguson City Council has attempted to unilaterally amend the negotiated agreement.  Their vote to do so creates an unnecessary delay in the essential work to bring constitutional policing to the city, and marks an unfortunate outcome for concerned community members and Ferguson police officers.  Both parties engaged in thoughtful negotiations over many months to create an agreement with cost-effective remedies that would ensure Ferguson brings policing and court practices in line with the Constitution.  The agreement already negotiated by the department and the city will provide Ferguson residents a police department and municipal court that fully respects civil rights and operates free from racial discrimination. “The Department of Justice will take the necessary legal actions to ensure that Ferguson’s policing and court practices comply with the Constitution and relevant federal laws.”   \n",
       "6727                                                                                                                                                                                                                                                                                                                                                                                                                                                                                                                                                                                                                                                                                                                                                                                                                                                                                                                                                                                                                                                                                                                              The Justice Department has reached a comprehensive settlement agreement with the city of Miami and the Miami Police Department (MPD) resolving the Justice Department’s investigation of officer-involved shootings by MPD officers, announced Principal Deputy Assistant Attorney General Vanita Gupta, head of the Justice Department’s Civil Rights Division and U.S. Attorney Wifredo A. Ferrer of the Southern District of Florida. The settlement, which was approved by Miami’s city commission today and will go into effect when the agreement is signed by all parties, resolves claims stemming from the Justice Department’s investigation into officer-involved shootings by MPD officers, which was conducted under the Violent Crime Control and Law Enforcement Act of 1994.  The investigation’s findings, issued in July 2013, identified a pattern or practice of excessive use of force through officer-involved shootings in violation of the Fourth Amendment of the Constitution.  The city’s compliance with the settlement will be monitored by an independent reviewer, former Tampa, Florida, Police Chief Jane Castor.  Under the settlement agreement, the city will implement comprehensive reforms to ensure constitutional policing and support public trust.  The settlement agreement is designed to minimize officer-involved shootings and to more effectively and quickly investigate officer-involved shootings that do occur, through measures that include: “This settlement represents a renewed commitment by the city of Miami and Chief Rodolfo Llanes to provide constitutional policing for Miami residents and to protect public safety through sustainable reform,” said Principal Deputy Assistant Attorney General Gupta.  “The agreement will help to strengthen the relationship between the MPD and the communities they serve by improving accountability for officers who fire their weapons unlawfully, and provides for community participation in the enforcement of this agreement.”  “Today's agreement is the result of a joint effort between the Department of Justice and the City of Miami to ensure that the Miami Police Department continues its efforts to make our community safe while protecting the sacred Constitutional rights of all of our citizens,” said U.S. Attorney Ferrer.  “Through oversight and communication, the agreement seeks to make permanent the positive changes that former Chief Orosa and Chief Llanes have made, and we applaud the City Commission’s vote.” The settlement agreement builds upon important reforms implemented by the city since the Justice Department issued its findings, including:  The investigation was conducted by attorneys and staff from the Civil Rights Division’s Special Litigation Section and the Civil Division of the U. S. Attorney’s Office of the Southern District of Florida.   \n",
       "\n",
       "                            date            topics_clean  \\\n",
       "5247   2018-07-12T00:00:00-04:00             Hate Crimes   \n",
       "8075   2011-09-22T00:00:00-04:00  Project Safe Childhood   \n",
       "8353   2011-10-06T00:00:00-04:00  Project Safe Childhood   \n",
       "7618   2017-03-03T00:00:00-05:00            Civil Rights   \n",
       "8847   2017-05-19T00:00:00-04:00  Project Safe Childhood   \n",
       "...                          ...                     ...   \n",
       "6089   2018-01-31T00:00:00-05:00            Civil Rights   \n",
       "6733   2016-11-14T00:00:00-05:00            Civil Rights   \n",
       "6905   2016-06-23T00:00:00-04:00            Civil Rights   \n",
       "11066  2016-02-10T00:00:00-05:00            Civil Rights   \n",
       "6727   2016-02-25T00:00:00-05:00            Civil Rights   \n",
       "\n",
       "                                                                                              components_clean  \\\n",
       "5247                                                    Civil Rights Division; Civil Rights - Criminal Section   \n",
       "8075                                                                                         Criminal Division   \n",
       "8353                                                                                         Criminal Division   \n",
       "7618   Civil Rights Division; Civil Rights - Housing and Civil Enforcement Section; USAO - Washington, Western   \n",
       "8847          Criminal Division; Criminal - Child Exploitation and Obscenity Section; USAO - Illinois, Central   \n",
       "...                                                                                                        ...   \n",
       "6089                                           Civil Rights Division; Office of the Associate Attorney General   \n",
       "6733               Civil Rights Division; Civil Rights - Special Litigation Section; USAO - New York, Southern   \n",
       "6905            Civil Rights Division; Civil Rights - Special Litigation Section; USAO - Mississippi, Southern   \n",
       "11066                                         Civil Rights Division; Civil Rights - Special Litigation Section   \n",
       "6727                Civil Rights Division; Civil Rights - Special Litigation Section; USAO - Florida, Southern   \n",
       "\n",
       "         neg    neu    pos  compound  \\\n",
       "5247   0.005  0.806  0.005   -0.9955   \n",
       "8075   0.007  0.887  0.007   -0.9565   \n",
       "8353   0.008  0.874  0.008   -0.9451   \n",
       "7618   0.009  0.912  0.009   -0.9753   \n",
       "8847   0.010  0.894  0.010   -0.9460   \n",
       "...      ...    ...    ...       ...   \n",
       "6089   0.199  0.788  0.199    0.9944   \n",
       "6733   0.199  0.778  0.199    0.9950   \n",
       "6905   0.205  0.659  0.205    0.9888   \n",
       "11066  0.217  0.752  0.217    0.9811   \n",
       "6727   0.222  0.755  0.222    0.9966   \n",
       "\n",
       "                                                                                                                                                                                                                                                                                                                                                                                                                                                                                                                                                                                                                                                                                                                                                                                                                                                                                                                                                                                                                                                                                                                                                                                                                                                                                                                                                                                                                                                                                                                                                                                                                                                                                                                                                                                                                                                                                                                                                                                                                                                                                                                                                                                                                                                                                                                                                                      processed_text  \n",
       "5247                                                                                                                                                                                                                                                                                                                                                                                                                                                                                                                                                                                                                                                                                                                                                                                                                                                                                                                                                                                                                                                                                                                                                                                                                                    glenn eugen halfin grapevin texa appear today magistr judg jeffrey cureton court northern texa plead guilti feder charg interf african american famili hous announc act general john gore erin neali northern texa accord court document halfin threaten forc intimid interf famili race occup apart locat direct apart accord document file connect guilti plea halfin purchas babi doll mart grapevin texa took rope fashion noos hung babi doll noos halfin hung rope noos babi doll rail direct front staircas famili could access apart halfin know display would particular intimid famili young daughter addit defend referenc factual basi repeat intimid interfer african american famili occas toler act intimid fear illeg threat individu famili race said act john gore continu prosecut hate crime offend afraid home night said erin neali communiti toler crime intimid bigotri continu prosecut persecut other base race color ethnic religi belief halfin face statutori maximum penalti year feder prison fine sentenc schedul octob investig grapevin polic prosecut rebekah bailey crimin section unit state nicol dana  \n",
       "8075                                                                                                                                                                                                                                                                                                                                                                                                                                                                                                                                                                                                                                                                                                                                                                                                                                                                                                                                                                                                                                                                                                                                                                                                                                                                                                                                                                                                                                                                                                                                                                                          washington paul miller denham spring convict late yesterday count produc count possess child pornographi announc general lanni breuer crimin donald cazayoux middl louisiana miller convict feder juri follow judg jame bradi presid evid present show octob miller sexual abus year girl year girl produc numer photograph abus accord evid forens examin miller comput reveal miller use comput print possess numer imag child pornographi includ imag child pornographi produc imag child victim miller face maximum statutori sentenc year prison count product child pornographi year prison possess child pornographi count prosecut alecia riewert wolak crimin child exploit obscen section ceo richard bourgeoi middl louisiana conduct denham spring polic louisiana general  \n",
       "8353                                                                                                                                                                                                                                                                                                                                                                                                                                                                                                                                                                                                                                                                                                                                                                                                                                                                                                                                                                                                                                                                                                                                                                                                                                                                                                                                                                                                                                                                                                                                                                                            washington springfield mass plead guilti today receiv possess child pornographi announc general lanni breuer crimin robert rosenbeck plead guilti judg denis casper boston count receipt child pornographi count possess child pornographi indict charg accord court document rosenbeck possess differ comput contain child pornographi addit approxim juli juli rosenbeck receiv comput file contain child pornographi internet websit sentenc schedul rosenbeck face maximum statutori sentenc year prison receipt child pornographi count year prison count possess child pornographi rosenbeck also face term supervis releas least five year life prosecut attorney alecia riewert wolak michael grant crimin child exploit obscen section ceo conduct provid springfield polic  \n",
       "7618                                                                                                                                                                                                                                                                                                                                                                                                                                                                                                                                                                                                                                                                                                                                                        today file lawsuit court western washington alleg owner manag three edmond washington apart build refus rent apart famili children violat fair hous fair hous prohibit landlord deni apart famili children said act general wheeler mani famili alreadi face challeng find afford hous also deal unlaw discrimin equal access hous essenti american includ famili young children said annett hay western washington particular tight hous market landlord must follow make unit avail without discrimin base race color religion nation origin disabl famili status complaint concern three apart build locat pine street edmond manag defend debbi applebi stanwood washington properti own three limit liabil corpor llcs control applebi appl appl appl three also name defend suit complaint alleg march defend applebi told woman seek apart husband year child apart build adult therefor avail famili complaint also alleg various time april novemb defend advertis avail apart restrict adult famili file complaint hous urban develop conduct issu charg discrimin defend refer complaint seek court order requir defend ceas discriminatori hous practic damag famili file complaint famili defend discrimin children penalti individu inform relev encourag contact option feder fair hous prohibit discrimin hous basi race color religion famili status nation origin disabl inform law enforc avail usdoj https usao wdwa individu believ victim hous discrimin call email fairhous usdoj contact websit joint handl western washington complaint alleg unlaw conduct alleg must still proven feder court  \n",
       "8847                                                                                                                                                                                                                                                                                                                                                                                                                                                                                                                                                                                                                                                                                                                                                                                                                                                                                                                                                                                                                                                                                                                                                                                                                                                                                                                                                                                               canadian woman sentenc serv month prison follow decemb convict intern parent kidnap announc act general kenneth blanco crimin act patrick hansen central illinoi sarah nixon montreal canada sentenc judg colin bruce central illinoi feder juri found nixon guilti count intern parent kidnap take minor child unit state canada juli intent obstruct law exercis father evid establish custodi appar nixon would lose custodi year daughter nixon fled unit state child middl night appear custodi rule neither daughter could locat enforc issu child abduct alert nixon child eventu locat farmhous rural ontario canada author return child father nixon arrest york sept attempt return unit state attorney elli peirson lauren kupersmith crimin child exploit obscen section prosecut urbana illinoi polic univers illinoi polic illinoi children famili servic ontario provinci polic custom border protect investig champaign counti illinoi state crimin intern affair  \n",
       "...                                                                                                                                                                                                                                                                                                                                                                                                                                                                                                                                                                                                                                                                                                                                                                                                                                                                                                                                                                                                                                                                                                                                                                                                                                                                                                                                                                                                                                                                                                                                                                                                                                                                                                                                                                                                                                                                                                                                                                                                                                                                                                                                                                                                                                                                                                                                                                              ...  \n",
       "6089                                                                                                                                                                                                                                                                                                                                                                                                                                                                                                                                                                                                                                                                                                                                                                                                                                                                                                                                                                                                                                                                                                                                                                                                                                                                                today announc updat unit state attorney manual usam section titl associ general approv notic requir issu implic religi liberti general issu memorandum execut depart agenc entitl feder protect religi liberti memo direct compon unit state offic guidanc litig advic execut branch oper grant aspect work order ensur complianc general memo usam updat languag direct relev compon updat usam also instruct relev compon consult religi liberti principl laid general octob memo consid whether notic approv requir initi order fulli effectu approv notic requir updat usam instruct attorney design point contact lead effort religi liberti inalien right protect constitut defend import thing said associ general rachel brand presid trump direct general session issu robust clear guidanc document octob clear explain feder govern appli religi liberti protect current book requir offic design religi liberti point contact ensur general memorandum effect implement designe respons work direct leadership offic case relat religi liberti ensur case receiv rigor attent deserv  \n",
       "6733                                                                                                                                                                                                                                                                                                                                                                                                                                                                                                                                                                                                                                                                                                                                                                                                                                                                                                                                    announc today reach agreement citi yonker york yonker polic resolv ensur constitut polic agreement result violent crime control enforc omnibus crime control safe street june unit state sent citi technic letter identifi necessari reform practic polici area forc civilian complaint investig supervisori oversight train receiv technic letter citi made substanti chang polici procedur agreement implement improv polici procedur address remain concern agreement ensur yonker polic continu advanc constitut effect communiti orient polic said princip deputi general vanita gupta head clear polici guidanc data analysi account system believ reform make entir communiti safer strengthen public trust polic agreement ensur yonker polic polic keep citizen safe protect constitut said preet bharara southern york measur place agreement includ clear reason forc polici guidanc proper evalu respond forc incid make yonker safer citizen polic alik thank yonker polic citi yonker cooper join effort ensur yonker polic protect citizen physic harm also violat constitut agreement care tailor address remain concern also take account seek build upon posit reform alreadi made follow agreement among thing agreement also provid consult retain conduct complianc review ensur implement measur requir agreement issu public report complianc review handl special litig section southern york yonker polic agreement  \n",
       "6905   today reach landmark settlement agreement reform crimin system hind counti mississippi agreement resolv find hind counti adult detent center jackson citi detent center togeth form hind counti jail fail protect prison violenc excess forc held past court order releas date violat institution person cripa settlement agreement first kind incorpor broader crimin system reform divers front reentri communiti incarcer creat crimin coordin committe help ensur counti system oper effect effici develop intervent divert individu appropri case arrest detent incarcer engag communiti outreach promot success reentri agreement includ mechan notifi communiti health provid person serious mental ill releas help person transit safe back communiti agreement also address unlaw enforc court order fine fee ensur counti cannot incarcer individu payment court first assess whether individu indig across board settlement make hind counti crimin system smarter fairer said princip deputi general vanita gupta head implement reform make pretrial detaine prison correct staff entir communiti safer also ensur vulner individu access treatment care communiti servic need deserv commend counti commit make reform realiti long condit jail pose serious challeng enforc safeti communiti said gregori davi southern mississippi appreci commit made hind counti offici turn page begin make necessari reform settlement agreement subject approv court southern mississippi requir counti implement seri reform across various stage crimin system includ follow togeth reform improv communic coordin among crimin entiti communiti servic provid help individu mental ill transit back communiti reduc recidiv approv feder court independ monitor appoint assess counti complianc complet comprehens includ site inspect document review stakehold interview expert staff issu find letter determin hind counti adult detent center jackson citi detent center violat cripa fail protect prison violenc prison improp forc staff also found inadequ staf train backlog record file lack central inform result prison held beyond court order releas date cripa author seek remedi pattern practic conduct violat constitut person confin jail prison correct facil inform work area pleas visit hind counti settlement agreement hind counti fact sheet  \n",
       "11066                                                                                                                                                                                                                                                                                                                                                                                                                                                                                                                                                                                                                                                                                                                                                                                                                                                                                                                                                                                                                                                                                                                                                                                                                                                                                                                                                                                                                                                                                                                                                                                                                                                                                 princip deputi general vanita gupta head releas follow statement regard ferguson missouri citi council vote propos consent decre ferguson citi council attempt unilater amend negoti agreement vote creat unnecessari delay essenti work bring constitut polic citi mark unfortun outcom concern communiti member ferguson polic offic parti engag thought negoti mani month creat agreement cost effect remedi would ensur ferguson bring polic court practic line constitut agreement alreadi negoti citi provid ferguson resid polic municip court fulli respect oper free racial discrimin take necessari legal action ensur ferguson polic court practic compli constitut relev feder law  \n",
       "6727                                                                                                                                                                                                                                                                                                                                                                                                                                                                                                                                                                                                                                                                                                                                                                                                                                                                             reach comprehens settlement agreement citi miami miami polic resolv offic involv shoot offic announc princip deputi general vanita gupta head wifredo ferrer southern florida settlement approv miami citi commiss today effect agreement sign parti resolv claim stem offic involv shoot offic conduct violent crime control enforc find issu juli identifi pattern practic excess forc offic involv shoot violat fourth amend constitut citi complianc settlement monitor independ review former tampa florida polic chief jane castor settlement agreement citi implement comprehens reform ensur constitut polic support public trust settlement agreement design minim offic involv shoot effect quick investig offic involv shoot occur measur includ settlement repres renew commit citi miami chief rodolfo llane provid constitut polic miami resid protect public safeti sustain reform said princip deputi general gupta agreement help strengthen relationship communiti serv improv account offic fire weapon unlaw provid communiti particip enforc agreement today agreement result joint effort citi miami ensur miami polic continu effort make communiti safe protect sacr constitut citizen said ferrer oversight communic agreement seek make perman posit chang former chief orosa chief llane made applaud citi commiss vote settlement agreement build upon import reform implement citi sinc issu find includ conduct attorney staff special litig section southern florida  \n",
       "\n",
       "[717 rows x 11 columns]"
      ]
     },
     "execution_count": 95,
     "metadata": {},
     "output_type": "execute_result"
    }
   ],
   "source": [
    "#B\n",
    "cleaned_strings = [preprocess(string) for string in \n",
    "                   doj_subset_wscore.contents]\n",
    "doj_subset_wscore['processed_text'] = cleaned_strings\n",
    "doj_subset_wscore"
   ]
  },
  {
   "cell_type": "code",
   "execution_count": 101,
   "metadata": {},
   "outputs": [
    {
     "data": {
      "text/html": [
       "<div>\n",
       "<style scoped>\n",
       "    .dataframe tbody tr th:only-of-type {\n",
       "        vertical-align: middle;\n",
       "    }\n",
       "\n",
       "    .dataframe tbody tr th {\n",
       "        vertical-align: top;\n",
       "    }\n",
       "\n",
       "    .dataframe thead th {\n",
       "        text-align: right;\n",
       "    }\n",
       "</style>\n",
       "<table border=\"1\" class=\"dataframe\">\n",
       "  <thead>\n",
       "    <tr style=\"text-align: right;\">\n",
       "      <th></th>\n",
       "      <th>id</th>\n",
       "      <th>contents</th>\n",
       "      <th>processed_text</th>\n",
       "    </tr>\n",
       "  </thead>\n",
       "  <tbody>\n",
       "    <tr>\n",
       "      <th>11593</th>\n",
       "      <td>16-718</td>\n",
       "      <td>In a nine-count indictment unsealed today, two Mississippi correctional officers were charged with beating an inmate and a third was charged with helping to cover it up.  The indictment charged Lawardrick Marsher, 28, and Robert Sturdivant, 47, officers at Mississippi State Penitentiary, in Parchman, Mississippi, with a beating that included kicking, punching and throwing the victim to the ground.  Marsher and Sturdivant were charged with violating the right of K.H., a convicted prisoner, to be free from cruel and unusual punishment.  Sturdivant was also charged with failing to intervene while Marsher was punching and beating K.H.  The indictment alleges that their actions involved the use of a dangerous weapon and resulted in bodily injury to the victim. A third officer, Deonte Pate, 23, was charged along with Marsher and Sturdivant for conspiring to cover up the beating.  The indictment alleges that all three officers submitted false reports and that all three lied to the FBI. If convicted, Marsher and Sturdivant face a maximum sentence of 10 years in prison on the excessive force charges.  Each of the three officers faces up to five years in prison on the conspiracy and false statement charges, and up to 20 years in prison on the false report charges. An indictment is merely an accusation, and the defendants are presumed innocent unless and until proven guilty. This case is being investigated by the FBI’s Jackson Division, with the cooperation of the Mississippi Department of Corrections.  It is being prosecuted by Assistant U.S. Attorney Robert Coleman of the Northern District of Mississippi and Trial Attorney Dana Mulhauser of the Civil Rights Division’s Criminal Section.     Marsher Indictment</td>\n",
       "      <td>nine count indict unseal today mississippi correct offic charg beat inmat third charg help cover indict charg lawardrick marsher robert sturdiv offic mississippi state penitentiari parchman mississippi beat includ kick punch throw victim ground marsher sturdiv charg violat right convict prison free cruel unusu punish sturdiv also charg fail interven marsher punch beat indict alleg action involv danger weapon result bodili injuri victim third offic deont pate charg along marsher sturdiv conspir cover beat indict alleg three offic submit fals report three lie convict marsher sturdiv face maximum sentenc year prison excess forc charg three offic face five year prison conspiraci fals statement charg year prison fals report charg indict mere accus defend presum innoc unless proven guilti investig jackson cooper mississippi correct prosecut robert coleman northern mississippi dana mulhaus crimin section marsher indict</td>\n",
       "    </tr>\n",
       "    <tr>\n",
       "      <th>6727</th>\n",
       "      <td>16-217</td>\n",
       "      <td>The Justice Department has reached a comprehensive settlement agreement with the city of Miami and the Miami Police Department (MPD) resolving the Justice Department’s investigation of officer-involved shootings by MPD officers, announced Principal Deputy Assistant Attorney General Vanita Gupta, head of the Justice Department’s Civil Rights Division and U.S. Attorney Wifredo A. Ferrer of the Southern District of Florida. The settlement, which was approved by Miami’s city commission today and will go into effect when the agreement is signed by all parties, resolves claims stemming from the Justice Department’s investigation into officer-involved shootings by MPD officers, which was conducted under the Violent Crime Control and Law Enforcement Act of 1994.  The investigation’s findings, issued in July 2013, identified a pattern or practice of excessive use of force through officer-involved shootings in violation of the Fourth Amendment of the Constitution.  The city’s compliance with the settlement will be monitored by an independent reviewer, former Tampa, Florida, Police Chief Jane Castor.  Under the settlement agreement, the city will implement comprehensive reforms to ensure constitutional policing and support public trust.  The settlement agreement is designed to minimize officer-involved shootings and to more effectively and quickly investigate officer-involved shootings that do occur, through measures that include: “This settlement represents a renewed commitment by the city of Miami and Chief Rodolfo Llanes to provide constitutional policing for Miami residents and to protect public safety through sustainable reform,” said Principal Deputy Assistant Attorney General Gupta.  “The agreement will help to strengthen the relationship between the MPD and the communities they serve by improving accountability for officers who fire their weapons unlawfully, and provides for community participation in the enforcement of this agreement.”  “Today's agreement is the result of a joint effort between the Department of Justice and the City of Miami to ensure that the Miami Police Department continues its efforts to make our community safe while protecting the sacred Constitutional rights of all of our citizens,” said U.S. Attorney Ferrer.  “Through oversight and communication, the agreement seeks to make permanent the positive changes that former Chief Orosa and Chief Llanes have made, and we applaud the City Commission’s vote.” The settlement agreement builds upon important reforms implemented by the city since the Justice Department issued its findings, including:  The investigation was conducted by attorneys and staff from the Civil Rights Division’s Special Litigation Section and the Civil Division of the U. S. Attorney’s Office of the Southern District of Florida.</td>\n",
       "      <td>reach comprehens settlement agreement citi miami miami polic resolv offic involv shoot offic announc princip deputi general vanita gupta head wifredo ferrer southern florida settlement approv miami citi commiss today effect agreement sign parti resolv claim stem offic involv shoot offic conduct violent crime control enforc find issu juli identifi pattern practic excess forc offic involv shoot violat fourth amend constitut citi complianc settlement monitor independ review former tampa florida polic chief jane castor settlement agreement citi implement comprehens reform ensur constitut polic support public trust settlement agreement design minim offic involv shoot effect quick investig offic involv shoot occur measur includ settlement repres renew commit citi miami chief rodolfo llane provid constitut polic miami resid protect public safeti sustain reform said princip deputi general gupta agreement help strengthen relationship communiti serv improv account offic fire weapon unlaw provid communiti particip enforc agreement today agreement result joint effort citi miami ensur miami polic continu effort make communiti safe protect sacr constitut citizen said ferrer oversight communic agreement seek make perman posit chang former chief orosa chief llane made applaud citi commiss vote settlement agreement build upon import reform implement citi sinc issu find includ conduct attorney staff special litig section southern florida</td>\n",
       "    </tr>\n",
       "  </tbody>\n",
       "</table>\n",
       "</div>"
      ],
      "text/plain": [
       "           id  \\\n",
       "11593  16-718   \n",
       "6727   16-217   \n",
       "\n",
       "                                                                                                                                                                                                                                                                                                                                                                                                                                                                                                                                                                                                                                                                                                                                                                                                                                                                                                                                                                                                                                                                                                                                                                                                                                                                                                                                                                                                                                                                                                                                                                                                                                                                                                                                                                                                                                                                                                                                                                                                                                                                                                                                                                                                                                                                                                                                                                                                                                                                                                                                                                                                                                                                                                                                                                                                                                                                                                                         contents  \\\n",
       "11593                                                                                                                                                                                                                                                                                                                                                                                                                                                                                                                                                                                                                                                                                                                                                                                                                                                                                                                                                                                                                                                                                                                            In a nine-count indictment unsealed today, two Mississippi correctional officers were charged with beating an inmate and a third was charged with helping to cover it up.  The indictment charged Lawardrick Marsher, 28, and Robert Sturdivant, 47, officers at Mississippi State Penitentiary, in Parchman, Mississippi, with a beating that included kicking, punching and throwing the victim to the ground.  Marsher and Sturdivant were charged with violating the right of K.H., a convicted prisoner, to be free from cruel and unusual punishment.  Sturdivant was also charged with failing to intervene while Marsher was punching and beating K.H.  The indictment alleges that their actions involved the use of a dangerous weapon and resulted in bodily injury to the victim. A third officer, Deonte Pate, 23, was charged along with Marsher and Sturdivant for conspiring to cover up the beating.  The indictment alleges that all three officers submitted false reports and that all three lied to the FBI. If convicted, Marsher and Sturdivant face a maximum sentence of 10 years in prison on the excessive force charges.  Each of the three officers faces up to five years in prison on the conspiracy and false statement charges, and up to 20 years in prison on the false report charges. An indictment is merely an accusation, and the defendants are presumed innocent unless and until proven guilty. This case is being investigated by the FBI’s Jackson Division, with the cooperation of the Mississippi Department of Corrections.  It is being prosecuted by Assistant U.S. Attorney Robert Coleman of the Northern District of Mississippi and Trial Attorney Dana Mulhauser of the Civil Rights Division’s Criminal Section.     Marsher Indictment   \n",
       "6727   The Justice Department has reached a comprehensive settlement agreement with the city of Miami and the Miami Police Department (MPD) resolving the Justice Department’s investigation of officer-involved shootings by MPD officers, announced Principal Deputy Assistant Attorney General Vanita Gupta, head of the Justice Department’s Civil Rights Division and U.S. Attorney Wifredo A. Ferrer of the Southern District of Florida. The settlement, which was approved by Miami’s city commission today and will go into effect when the agreement is signed by all parties, resolves claims stemming from the Justice Department’s investigation into officer-involved shootings by MPD officers, which was conducted under the Violent Crime Control and Law Enforcement Act of 1994.  The investigation’s findings, issued in July 2013, identified a pattern or practice of excessive use of force through officer-involved shootings in violation of the Fourth Amendment of the Constitution.  The city’s compliance with the settlement will be monitored by an independent reviewer, former Tampa, Florida, Police Chief Jane Castor.  Under the settlement agreement, the city will implement comprehensive reforms to ensure constitutional policing and support public trust.  The settlement agreement is designed to minimize officer-involved shootings and to more effectively and quickly investigate officer-involved shootings that do occur, through measures that include: “This settlement represents a renewed commitment by the city of Miami and Chief Rodolfo Llanes to provide constitutional policing for Miami residents and to protect public safety through sustainable reform,” said Principal Deputy Assistant Attorney General Gupta.  “The agreement will help to strengthen the relationship between the MPD and the communities they serve by improving accountability for officers who fire their weapons unlawfully, and provides for community participation in the enforcement of this agreement.”  “Today's agreement is the result of a joint effort between the Department of Justice and the City of Miami to ensure that the Miami Police Department continues its efforts to make our community safe while protecting the sacred Constitutional rights of all of our citizens,” said U.S. Attorney Ferrer.  “Through oversight and communication, the agreement seeks to make permanent the positive changes that former Chief Orosa and Chief Llanes have made, and we applaud the City Commission’s vote.” The settlement agreement builds upon important reforms implemented by the city since the Justice Department issued its findings, including:  The investigation was conducted by attorneys and staff from the Civil Rights Division’s Special Litigation Section and the Civil Division of the U. S. Attorney’s Office of the Southern District of Florida.   \n",
       "\n",
       "                                                                                                                                                                                                                                                                                                                                                                                                                                                                                                                                                                                                                                                                                                                                                                                                                                                                                                                                                                                                                                                                                                                                                                                                                                                                                                                                                                                                                                                                                            processed_text  \n",
       "11593                                                                                                                                                                                                                                                                                                                                                                                                                                                                                                                                        nine count indict unseal today mississippi correct offic charg beat inmat third charg help cover indict charg lawardrick marsher robert sturdiv offic mississippi state penitentiari parchman mississippi beat includ kick punch throw victim ground marsher sturdiv charg violat right convict prison free cruel unusu punish sturdiv also charg fail interven marsher punch beat indict alleg action involv danger weapon result bodili injuri victim third offic deont pate charg along marsher sturdiv conspir cover beat indict alleg three offic submit fals report three lie convict marsher sturdiv face maximum sentenc year prison excess forc charg three offic face five year prison conspiraci fals statement charg year prison fals report charg indict mere accus defend presum innoc unless proven guilti investig jackson cooper mississippi correct prosecut robert coleman northern mississippi dana mulhaus crimin section marsher indict  \n",
       "6727   reach comprehens settlement agreement citi miami miami polic resolv offic involv shoot offic announc princip deputi general vanita gupta head wifredo ferrer southern florida settlement approv miami citi commiss today effect agreement sign parti resolv claim stem offic involv shoot offic conduct violent crime control enforc find issu juli identifi pattern practic excess forc offic involv shoot violat fourth amend constitut citi complianc settlement monitor independ review former tampa florida polic chief jane castor settlement agreement citi implement comprehens reform ensur constitut polic support public trust settlement agreement design minim offic involv shoot effect quick investig offic involv shoot occur measur includ settlement repres renew commit citi miami chief rodolfo llane provid constitut polic miami resid protect public safeti sustain reform said princip deputi general gupta agreement help strengthen relationship communiti serv improv account offic fire weapon unlaw provid communiti particip enforc agreement today agreement result joint effort citi miami ensur miami polic continu effort make communiti safe protect sacr constitut citizen said ferrer oversight communic agreement seek make perman posit chang former chief orosa chief llane made applaud citi commiss vote settlement agreement build upon import reform implement citi sinc issu find includ conduct attorney staff special litig section southern florida  "
      ]
     },
     "execution_count": 101,
     "metadata": {},
     "output_type": "execute_result"
    }
   ],
   "source": [
    "## your code showing the examples\n",
    "\n",
    "doj_subset_wscore[(doj_subset_wscore['id'] == '16-718') | (doj_subset_wscore['id'] == '16-217')][['id', 'contents', 'processed_text']]\n"
   ]
  },
  {
   "cell_type": "markdown",
   "metadata": {},
   "source": [
    "## 2.2 Create a document-term matrix from the preprocessed press releases and to explore top words (5 points)\n",
    "\n",
    "A. Use the `create_dtm` function I provide (alternately, feel free to write your own!) and create a document-term matrix using the preprocessed press releases; make sure metadata contains the following columns: `id`, `compound` sentiment column you added, and the `topics_clean` column\n",
    "\n",
    "B. Print the top 10 words for press releases with compound sentiment in the top 5% (so the most positive sentiment)\n",
    "\n",
    "C. Print the top 10 words for press releases with compound sentiment in the bottom 5% (so the most negative sentiment)\n",
    "\n",
    "**Hint**: for these, remember the pandas quantile function from pset one.  \n",
    "\n",
    "D. Print the top 10 words for press releases in each of the three `topics_clean`\n",
    "\n",
    "For steps B - D, to receive full credit, write a function `get_topwords` that helps you avoid duplicated code when you find top words for the different subsets of the data. There are different ways to structure it but one way is to feed it subsetted data (so data subsetted to one topic etc.) and for it to get the top words for that subset.\n"
   ]
  },
  {
   "cell_type": "code",
   "execution_count": 167,
   "metadata": {},
   "outputs": [],
   "source": [
    "\n",
    "def create_dtm(list_of_strings, metadata):\n",
    "    vectorizer = CountVectorizer(lowercase = True)\n",
    "    dtm_sparse = vectorizer.fit_transform(list_of_strings)\n",
    "    dtm_dense_named = pd.DataFrame(dtm_sparse.todense(), \n",
    "        columns=vectorizer.get_feature_names_out()) #had to edit from get_feature_names because version difference\n",
    "    dtm_dense_named_withid = pd.concat([metadata.reset_index(), dtm_dense_named], axis = 1)\n",
    "    return(dtm_dense_named_withid)"
   ]
  },
  {
   "cell_type": "code",
   "execution_count": 178,
   "metadata": {},
   "outputs": [],
   "source": [
    "# your code here\n",
    "\n",
    "doj_subset_wscore.rename(columns={'compound': 'Compound'}, inplace=True)\n",
    "\n",
    "doj_subset_wscore.rename_axis('Index', inplace=True)\n",
    "\n",
    "dtm_doj = create_dtm(list_of_strings= doj_subset_wscore.processed_text,\n",
    "                metadata = \n",
    "                doj_subset_wscore[['id','Compound', 'topics_clean']])\n",
    "\n"
   ]
  },
  {
   "cell_type": "code",
   "execution_count": 179,
   "metadata": {},
   "outputs": [],
   "source": [
    "list1 = dtm_doj.keys().to_list()"
   ]
  },
  {
   "cell_type": "code",
   "execution_count": 180,
   "metadata": {},
   "outputs": [
    {
     "data": {
      "text/plain": [
       "[]"
      ]
     },
     "execution_count": 180,
     "metadata": {},
     "output_type": "execute_result"
    }
   ],
   "source": [
    "seen = set()\n",
    "dupes = [x for x in list1 if x in seen or seen.add(x)]    \n",
    "dupes"
   ]
  },
  {
   "cell_type": "code",
   "execution_count": 204,
   "metadata": {},
   "outputs": [],
   "source": [
    "def get_topwords(data, subset, decimal=None, specific_value=None):\n",
    "    if decimal is not None:\n",
    "        press = data[data[subset] > data[subset].quantile(decimal)]\n",
    "    else:\n",
    "        press = data\n",
    "        \n",
    "    if specific_value is not None:\n",
    "        press = press[press[subset] == specific_value]\n",
    "        \n",
    "    top_terms = press[press.columns[4:]].sum(axis=0)\n",
    "    return top_terms.sort_values(ascending=False).head(10)"
   ]
  },
  {
   "cell_type": "code",
   "execution_count": 205,
   "metadata": {},
   "outputs": [
    {
     "data": {
      "text/plain": [
       "agreement     175\n",
       "enforc        121\n",
       "state         118\n",
       "ensur         110\n",
       "disabl        107\n",
       "communiti      97\n",
       "court          91\n",
       "servic         90\n",
       "student        87\n",
       "settlement     87\n",
       "dtype: int64"
      ]
     },
     "execution_count": 205,
     "metadata": {},
     "output_type": "execute_result"
    }
   ],
   "source": [
    "#B\n",
    "\n",
    "top_positive_words = get_topwords(data=dtm_doj, subset='Compound', decimal=0.95)\n",
    "top_positive_words"
   ]
  },
  {
   "cell_type": "code",
   "execution_count": 207,
   "metadata": {},
   "outputs": [
    {
     "data": {
      "text/plain": [
       "child       1079\n",
       "feder       1070\n",
       "victim       996\n",
       "prosecut     948\n",
       "sentenc      904\n",
       "said         896\n",
       "state        881\n",
       "charg        857\n",
       "year         834\n",
       "general      817\n",
       "dtype: int64"
      ]
     },
     "execution_count": 207,
     "metadata": {},
     "output_type": "execute_result"
    }
   ],
   "source": [
    "#C\n",
    "\n",
    "top_negative_words = get_topwords(data=dtm_doj, subset='Compound', decimal=0.05)\n",
    "top_negative_words"
   ]
  },
  {
   "cell_type": "code",
   "execution_count": 203,
   "metadata": {},
   "outputs": [
    {
     "data": {
      "text/plain": [
       "array(['Hate Crimes', 'Project Safe Childhood', 'Civil Rights'],\n",
       "      dtype=object)"
      ]
     },
     "execution_count": 203,
     "metadata": {},
     "output_type": "execute_result"
    }
   ],
   "source": [
    "dtm_doj.topics_clean.unique()"
   ]
  },
  {
   "cell_type": "code",
   "execution_count": 214,
   "metadata": {},
   "outputs": [
    {
     "data": {
      "text/plain": [
       "victim      591\n",
       "crime       557\n",
       "hate        524\n",
       "defend      484\n",
       "prosecut    478\n",
       "charg       463\n",
       "sentenc     455\n",
       "american    451\n",
       "feder       432\n",
       "guilti      430\n",
       "dtype: int64"
      ]
     },
     "execution_count": 214,
     "metadata": {},
     "output_type": "execute_result"
    },
    {
     "data": {
      "text/plain": [
       "child          1022\n",
       "exploit         701\n",
       "sexual          572\n",
       "safe            479\n",
       "childhood       474\n",
       "project         472\n",
       "pornographi     452\n",
       "children        423\n",
       "crimin          405\n",
       "prosecut        374\n",
       "dtype: int64"
      ]
     },
     "execution_count": 214,
     "metadata": {},
     "output_type": "execute_result"
    },
    {
     "data": {
      "text/plain": [
       "offic        637\n",
       "hous         633\n",
       "discrimin    616\n",
       "enforc       544\n",
       "disabl       532\n",
       "said         497\n",
       "feder        479\n",
       "violat       477\n",
       "state        452\n",
       "court        414\n",
       "dtype: int64"
      ]
     },
     "execution_count": 214,
     "metadata": {},
     "output_type": "execute_result"
    }
   ],
   "source": [
    "#D\n",
    "\n",
    "top_hatecrime_words = get_topwords(data=dtm_doj, subset='topics_clean', specific_value='Hate Crimes')\n",
    "top_hatecrime_words\n",
    "\n",
    "top_childhood_words = get_topwords(data=dtm_doj, subset='topics_clean', specific_value='Project Safe Childhood')\n",
    "top_childhood_words\n",
    "\n",
    "top_civilrights_words = get_topwords(data=dtm_doj, subset='topics_clean', specific_value='Civil Rights')\n",
    "top_civilrights_words"
   ]
  },
  {
   "cell_type": "markdown",
   "metadata": {},
   "source": [
    "## 2.3 Estimate a topic model using those preprocessed words (5 points)\n",
    "\n",
    "A. Going back to the preprocessed words from part 2.3.1, estimate a topic model with 3 topics, since you want to see if the unsupervised topic models recover different themes for each of the three manually-labeled areas (civil rights; hate crimes; project safe childhood). You have free rein over the other topic model parameters beyond the number of topics.\n",
    "\n",
    "B. After estimating the topic model, print the top 15 words in each topic.\n",
    "\n",
    "**Hints and Resources**:\n",
    "\n",
    "- Same topic modeling resources linked to above\n",
    "- Make sure to use the `random_state` argument within the model so that the numbering of topics does not move around between runs of your code"
   ]
  },
  {
   "cell_type": "code",
   "execution_count": 224,
   "metadata": {},
   "outputs": [
    {
     "data": {
      "text/plain": [
       "{0: 'access', 1: 'accord', 2: 'act', 3: 'addit', 4: 'afraid'}"
      ]
     },
     "execution_count": 224,
     "metadata": {},
     "output_type": "execute_result"
    },
    {
     "name": "stdout",
     "output_type": "stream",
     "text": [
      "Filtering out very rare and very common words reduced the length of dictionary from 6866 to 623.\n"
     ]
    },
    {
     "data": {
      "text/plain": [
       "{0: 'access', 1: 'accord', 2: 'act', 3: 'addit', 4: 'african'}"
      ]
     },
     "execution_count": 224,
     "metadata": {},
     "output_type": "execute_result"
    }
   ],
   "source": [
    "# A\n",
    "## Step 1: re-tokenize and store in list using the preprocessed texts\n",
    "\n",
    "text_raw_tokens = [wordpunct_tokenize(one_text) for one_text in \n",
    "                  doj_subset_wscore['processed_text']]\n",
    "\n",
    "\n",
    "## Step 2: use gensim create dictionary - gets all unique words across documents\n",
    "text_raw_dict = corpora.Dictionary(text_raw_tokens)\n",
    "raw_len = len(text_raw_dict) # get length for comparison below\n",
    "\n",
    "### explore first few keys and values\n",
    "### see that key is just an arbitrary counter; value is the word itself\n",
    "{k: text_raw_dict[k] for k in list(text_raw_dict)[:5]}\n",
    "\n",
    "\n",
    "## Step 3: filter out very rare and very common words\n",
    "## here, we are using the threshold that a word needs to appear in at least\n",
    "## 5% of docs but not more than 95%\n",
    "## this is an integer count of docs so we round\n",
    "lower_bound = round(doj_subset_wscore.shape[0]*0.05)\n",
    "upper_bound = round(doj_subset_wscore.shape[0]*0.95)\n",
    "\n",
    "### apply filtering to dictionary\n",
    "text_raw_dict.filter_extremes(no_below = lower_bound,\n",
    "                             no_above = upper_bound)\n",
    "print(f'Filtering out very rare and very common words reduced the \\\n",
    "length of dictionary from {str(raw_len)} to {str(len(text_raw_dict))}.')\n",
    "{k: text_raw_dict[k] for k in list(text_raw_dict)[:5]} # show first five entries after filtering\n",
    "\n",
    "\n",
    "## Step 4: apply dictionary to TOKENIZED texts\n",
    "## this creates a mapping between each word \n",
    "## in a specific listing and the key in the dictionary.\n",
    "## for words that remain in the filtered dictionary,\n",
    "## output is a list where len(list) == n documents\n",
    "## and each element in the list is a list of tuples\n",
    "## containing the mappings\n",
    "corpus_fromdict = [text_raw_dict.doc2bow(one_text) \n",
    "                   for one_text in text_raw_tokens]"
   ]
  },
  {
   "cell_type": "code",
   "execution_count": 245,
   "metadata": {},
   "outputs": [],
   "source": [
    "## Step 5: estimate the model\n",
    "## full documentation here - https://radimrehurek.com/gensim/models/ldamodel.html\n",
    "## here, we're feed the lda function (1) the corpus we created from the dictionary\n",
    "## (2) a parameter we decide on for the number of topics,\n",
    "## (3) the dictionary itself,\n",
    "## (4) parameter for number of passes through training data\n",
    "## (5) parameter that returns, for each word remaining in dict, the \n",
    "## topic probabilities\n",
    "## see documentation for many other arguments you can vary\n",
    "num_topics = 3\n",
    "ldamod = gensim.models.ldamodel.LdaModel(corpus_fromdict, \n",
    "                                         num_topics = num_topics, \n",
    "                                         id2word=text_raw_dict, \n",
    "                                         passes=6, \n",
    "                                         alpha = 'auto',\n",
    "                                         per_word_topics = True, \n",
    "                                         random_state = 91988)"
   ]
  },
  {
   "cell_type": "code",
   "execution_count": 237,
   "metadata": {},
   "outputs": [
    {
     "name": "stdout",
     "output_type": "stream",
     "text": [
      "Topic 1\n",
      "(0, '0.018*\"discrimin\" + 0.017*\"hous\" + 0.015*\"disabl\" + 0.011*\"enforc\" + 0.011*\"agreement\" + 0.011*\"state\" + 0.010*\"court\" + 0.010*\"said\" + 0.009*\"alleg\" + 0.009*\"requir\" + 0.009*\"settlement\" + 0.009*\"feder\" + 0.008*\"fair\" + 0.008*\"inform\" + 0.008*\"violat\"')\n",
      "Topic 2\n",
      "(1, '0.015*\"victim\" + 0.014*\"charg\" + 0.013*\"prosecut\" + 0.013*\"sentenc\" + 0.013*\"defend\" + 0.013*\"feder\" + 0.013*\"crime\" + 0.012*\"said\" + 0.012*\"guilti\" + 0.011*\"hate\" + 0.010*\"year\" + 0.010*\"indict\" + 0.010*\"american\" + 0.010*\"investig\" + 0.010*\"prison\"')\n",
      "Topic 3\n",
      "(2, '0.037*\"child\" + 0.025*\"exploit\" + 0.022*\"sexual\" + 0.017*\"safe\" + 0.017*\"project\" + 0.017*\"childhood\" + 0.016*\"pornographi\" + 0.015*\"children\" + 0.015*\"crimin\" + 0.014*\"prosecut\" + 0.013*\"sentenc\" + 0.013*\"victim\" + 0.011*\"ceo\" + 0.011*\"year\" + 0.011*\"minor\"')\n"
     ]
    }
   ],
   "source": [
    "### print topics and words\n",
    "topics = ldamod.print_topics(num_words = 15)\n",
    "counter = 1\n",
    "for topic in topics:\n",
    "    print(\"Topic \" + str(counter))\n",
    "    print(topic)\n",
    "    counter += 1"
   ]
  },
  {
   "cell_type": "code",
   "execution_count": 222,
   "metadata": {},
   "outputs": [],
   "source": [
    "import pyLDAvis.gensim_models as gensimvis\n",
    "import pyLDAvis\n",
    "pyLDAvis.enable_notebook()"
   ]
  },
  {
   "cell_type": "code",
   "execution_count": 223,
   "metadata": {},
   "outputs": [
    {
     "data": {
      "text/html": [
       "\n",
       "<link rel=\"stylesheet\" type=\"text/css\" href=\"https://cdn.jsdelivr.net/gh/bmabey/pyLDAvis@3.4.0/pyLDAvis/js/ldavis.v1.0.0.css\">\n",
       "\n",
       "\n",
       "<div id=\"ldavis_el3758114082557768586242587\" style=\"background-color:white;\"></div>\n",
       "<script type=\"text/javascript\">\n",
       "\n",
       "var ldavis_el3758114082557768586242587_data = {\"mdsDat\": {\"x\": [-0.08155414709331761, -0.0658719350918838, 0.1474260821852013], \"y\": [-0.06568028808696319, 0.07050926969328053, -0.004828981606317353], \"topics\": [1, 2, 3], \"cluster\": [1, 1, 1], \"Freq\": [35.2055436098955, 32.57235080329287, 32.22210558681163]}, \"tinfo\": {\"Term\": [\"child\", \"disabl\", \"exploit\", \"discrimin\", \"hate\", \"hous\", \"sentenc\", \"offic\", \"guilti\", \"childhood\", \"prosecut\", \"crime\", \"settlement\", \"pornographi\", \"fair\", \"sexual\", \"safe\", \"project\", \"agreement\", \"crimin\", \"african\", \"american\", \"abus\", \"requir\", \"victim\", \"access\", \"indict\", \"ceo\", \"practic\", \"cross\", \"hate\", \"motiv\", \"shepard\", \"byrd\", \"slur\", \"hatr\", \"burn\", \"fuel\", \"tobacco\", \"firearm\", \"perez\", \"kill\", \"explos\", \"cross\", \"attack\", \"drove\", \"jackson\", \"thoma\", \"morn\", \"alcohol\", \"racial\", \"matthew\", \"violenc\", \"interfer\", \"african\", \"front\", \"orient\", \"intimid\", \"injur\", \"conspir\", \"crime\", \"threaten\", \"threat\", \"assault\", \"american\", \"guilti\", \"admit\", \"defend\", \"victim\", \"plead\", \"sentenc\", \"prosecut\", \"indict\", \"charg\", \"count\", \"face\", \"plea\", \"said\", \"year\", \"prison\", \"commit\", \"feder\", \"investig\", \"home\", \"act\", \"today\", \"general\", \"court\", \"violat\", \"girl\", \"explicit\", \"caldwel\", \"exploit\", \"ceo\", \"epidem\", \"lifetim\", \"obscen\", \"abus\", \"lesli\", \"childhood\", \"rescu\", \"grow\", \"nationwid\", \"launch\", \"minor\", \"apprehend\", \"dana\", \"video\", \"internet\", \"marshal\", \"depict\", \"imag\", \"homeland\", \"project\", \"produc\", \"combat\", \"pornographi\", \"safe\", \"product\", \"child\", \"better\", \"offic\", \"sexual\", \"crimin\", \"resourc\", \"engag\", \"children\", \"evid\", \"identifi\", \"section\", \"sentenc\", \"prosecut\", \"investig\", \"attorney\", \"year\", \"state\", \"charg\", \"feder\", \"polic\", \"victim\", \"prison\", \"enforc\", \"general\", \"guilti\", \"also\", \"indict\", \"today\", \"decre\", \"fairhous\", \"consent\", \"implement\", \"toll\", \"opportun\", \"remedi\", \"lawsuit\", \"improv\", \"settlement\", \"monitor\", \"disabl\", \"complianc\", \"polici\", \"compens\", \"barrier\", \"pattern\", \"discriminatori\", \"oblig\", \"usdoj\", \"titl\", \"equal\", \"chang\", \"develop\", \"resolv\", \"procedur\", \"fair\", \"discrimin\", \"effect\", \"limit\", \"practic\", \"access\", \"educ\", \"approv\", \"avail\", \"requir\", \"student\", \"agreement\", \"hous\", \"ensur\", \"complaint\", \"prohibit\", \"citi\", \"file\", \"provid\", \"school\", \"employ\", \"communiti\", \"enforc\", \"court\", \"alleg\", \"inform\", \"said\", \"state\", \"work\", \"servic\", \"individu\", \"violat\", \"includ\", \"general\", \"today\", \"feder\", \"also\"], \"Freq\": [1058.0, 600.0, 685.0, 670.0, 522.0, 853.0, 974.0, 861.0, 823.0, 459.0, 1005.0, 726.0, 333.0, 438.0, 360.0, 771.0, 509.0, 474.0, 507.0, 679.0, 418.0, 624.0, 358.0, 373.0, 1127.0, 317.0, 572.0, 307.0, 307.0, 270.0, 509.09134861978566, 198.62464254711452, 81.40223217907206, 83.20724283018693, 64.31714422867262, 39.93224781088467, 228.9446632293597, 38.42148506483962, 43.51367660339818, 103.34466100361936, 140.10519508376933, 61.574533970142305, 74.08525201886926, 252.2708813950336, 169.35427587307703, 79.1083386224021, 123.9709710753761, 158.5084926058016, 36.83949733842663, 54.44546221905263, 226.94164978568887, 78.70207228761689, 209.2736999950624, 80.093820229498, 353.1865144990028, 45.447944822811856, 67.17849950829044, 178.58211607442922, 40.792073453752, 280.9718798790498, 577.0059647412497, 218.50305098164256, 156.11994116038406, 341.60976297892876, 435.0987356129754, 539.6302533047019, 273.90850929983833, 510.7384282579626, 676.030562363802, 351.675153733805, 561.7155232754459, 575.2886695610491, 349.4684720529733, 506.74948763212774, 329.55930834773307, 228.7798257696653, 220.78237625218568, 468.9046773822958, 429.5388661186686, 373.17006639118205, 270.0967262275212, 480.0639485843746, 380.8914378937889, 248.29868530547537, 304.41318750512573, 366.7110998308499, 289.12206258886164, 239.77208326189995, 235.34460125257047, 88.4871776929682, 114.59864941507759, 60.592604904900995, 593.4400899873187, 264.3014869346459, 125.8221245653209, 38.82851065116802, 152.36745916980888, 304.22419385122123, 62.16133297780229, 387.11381983595027, 150.4783676298239, 128.24832381005697, 130.5427900164641, 132.5914371982121, 286.7498017408033, 129.55536215971944, 29.367494258533238, 148.44217572240032, 177.19545522554688, 147.73258285263964, 49.11818551357647, 166.6809905341072, 60.93195496918462, 379.3609648594136, 87.83961991029024, 147.26861764393794, 349.3864028599524, 405.90073327918344, 63.94089797723514, 835.5177066583424, 134.12419307435883, 618.125461919831, 554.2381748711925, 469.5552556287572, 149.97521448386902, 221.6683226255098, 368.361784488888, 187.91785726896768, 196.35745796543546, 252.42353163149218, 401.11361473784046, 408.26335820787887, 336.2908092890439, 186.3416036144856, 341.7265339527876, 352.4065198382218, 346.2140270171962, 388.6502199406568, 291.67506816115934, 367.555361637439, 284.2787152515915, 292.91410587150756, 286.25385385040283, 276.1302534723981, 226.96721399497204, 220.09040493972188, 226.82933236096792, 149.08107815865847, 60.3329256406244, 196.0093189824072, 123.87838883768877, 42.98220464137353, 164.4520421882749, 47.820147333149635, 204.6370752216152, 55.609912205876896, 313.66772507135386, 75.41102521479688, 561.6183190638803, 124.50358391303777, 186.43666292829622, 64.56167372080797, 51.747623306794985, 82.98377968248126, 96.54700407388229, 46.25395790588757, 97.00656471886329, 142.57412412939505, 166.20513003670482, 67.5782426343416, 115.16927221564498, 142.67116397902927, 55.76265325842879, 319.807261043987, 591.0777408152251, 78.6808648435993, 51.779953461957255, 270.18007779672234, 277.2035900077536, 128.59225385913106, 118.32871358294244, 163.7675285212114, 307.4706071828564, 184.74719832309552, 404.2126374854989, 651.7048807446556, 292.07694290682, 272.6548820365878, 174.2289016918706, 259.8361565899546, 268.5230421149787, 290.9566799845119, 198.90155095883318, 201.56250051161868, 285.122996498088, 397.91520393225653, 366.3954755515281, 319.4544606949861, 286.73825319113416, 369.96101099355855, 358.6720582808281, 239.7003301760177, 219.61426652127406, 284.46974299632654, 288.0870330248286, 246.412837488128, 288.75217164473014, 282.5375717680543, 282.2826178764284, 223.99246749286203], \"Total\": [1058.0, 600.0, 685.0, 670.0, 522.0, 853.0, 974.0, 861.0, 823.0, 459.0, 1005.0, 726.0, 333.0, 438.0, 360.0, 771.0, 509.0, 474.0, 507.0, 679.0, 418.0, 624.0, 358.0, 373.0, 1127.0, 317.0, 572.0, 307.0, 307.0, 270.0, 522.2765454098168, 204.78012076255357, 83.99082306352827, 85.93986710875623, 66.62125459381669, 41.552400333348466, 238.83218993248815, 40.64977338435673, 46.384792619536505, 110.22067520467012, 149.6187802453598, 65.77523274923067, 79.2997148585678, 270.59972671550645, 181.6717734751954, 85.09125354831393, 136.7015252787466, 177.7539716782616, 41.64292255691866, 62.25504996711331, 260.1126886541518, 90.77653008197356, 242.49574087634835, 93.56663659237762, 418.55584440341255, 54.7418344167601, 80.98706960288344, 215.6280548258382, 49.31555257291106, 342.1242858534016, 726.6771038649977, 270.3023166165574, 192.68981783618224, 450.3270066015065, 624.2731218374288, 823.5750866694759, 383.71435622308826, 805.5652376341907, 1127.7787263802845, 533.9843696641493, 974.4286954075767, 1005.2730997180036, 572.2975975753118, 921.8603634033008, 547.8734688647532, 343.6765882864128, 327.6863657694271, 977.7437360057518, 873.8641762573567, 708.988596457324, 439.8195744436081, 1150.9967864014598, 798.5850756933261, 392.00311143130006, 574.1118967917764, 876.0780039598721, 864.1280880839947, 768.1000363324883, 701.9912124465561, 99.44101519980234, 129.53301955039024, 69.54191486768254, 685.6994825996969, 307.97718437574036, 146.75002493664593, 45.406781167676186, 178.6341184566252, 358.8698048189017, 73.59704825626117, 459.5416394307591, 178.80292926192104, 153.81303137230336, 157.67574253951278, 161.36949675158027, 350.24713841615204, 158.3451188043216, 35.91349913127281, 181.71913942863662, 218.21594261591304, 182.59994659615725, 60.85011563540942, 206.58829216896774, 75.60421457071398, 474.26023748613005, 109.87877780797776, 184.3220625980361, 438.2143192710045, 509.9395070709968, 80.69164181488891, 1058.9016370641584, 173.7941178410761, 861.7013751082279, 771.3069256873779, 679.7336746244941, 200.47715876992655, 325.518055914451, 599.0643043267588, 277.0513285855335, 298.8212468072759, 440.824345828314, 974.4286954075767, 1005.2730997180036, 798.5850756933261, 289.95312376035855, 873.8641762573567, 928.5096370537569, 921.8603634033008, 1150.9967864014598, 696.662466290567, 1127.7787263802845, 708.988596457324, 860.7600401690031, 864.1280880839947, 823.5750866694759, 642.9973364120847, 572.2975975753118, 876.0780039598721, 151.77625100801367, 62.509504723544474, 203.39694072858467, 130.14322161720173, 45.4629932998984, 174.4232595397896, 50.73660605852047, 217.70386441382868, 59.1756460935505, 333.9343250121683, 80.3068377243677, 600.0339227070739, 133.09532584113555, 199.61479176646733, 69.65238009123237, 55.92375250799541, 89.69102511500739, 104.45396851572997, 50.58976517376168, 106.42745199872363, 156.95754949394438, 183.26563374027978, 74.75476987154538, 127.40380349730555, 157.93156177227434, 62.08356506147305, 360.5450837234846, 670.2992258359171, 89.2893846055312, 58.820182801806645, 307.7088679090419, 317.0432117091887, 146.97815375162932, 135.41275832293246, 190.75802915275034, 373.87813657713224, 217.78420821566775, 507.2901209601656, 853.405802332014, 357.00781650502717, 333.9872145215532, 211.98471873700709, 359.80276161570737, 377.9803323406905, 423.4690560213289, 262.5072256531237, 283.0199616349581, 496.2326729854828, 860.7600401690031, 768.1000363324883, 615.191079583473, 542.7120210988782, 977.7437360057518, 928.5096370537569, 427.39584125483174, 355.11317731167827, 677.5483401904945, 701.9912124465561, 507.12196359572425, 864.1280880839947, 876.0780039598721, 1150.9967864014598, 642.9973364120847], \"Category\": [\"Default\", \"Default\", \"Default\", \"Default\", \"Default\", \"Default\", \"Default\", \"Default\", \"Default\", \"Default\", \"Default\", \"Default\", \"Default\", \"Default\", \"Default\", \"Default\", \"Default\", \"Default\", \"Default\", \"Default\", \"Default\", \"Default\", \"Default\", \"Default\", \"Default\", \"Default\", \"Default\", \"Default\", \"Default\", \"Default\", \"Topic1\", \"Topic1\", \"Topic1\", \"Topic1\", \"Topic1\", \"Topic1\", \"Topic1\", \"Topic1\", \"Topic1\", \"Topic1\", \"Topic1\", \"Topic1\", \"Topic1\", \"Topic1\", \"Topic1\", \"Topic1\", \"Topic1\", \"Topic1\", \"Topic1\", \"Topic1\", \"Topic1\", \"Topic1\", \"Topic1\", \"Topic1\", \"Topic1\", \"Topic1\", \"Topic1\", \"Topic1\", \"Topic1\", \"Topic1\", \"Topic1\", \"Topic1\", \"Topic1\", \"Topic1\", \"Topic1\", \"Topic1\", \"Topic1\", \"Topic1\", \"Topic1\", \"Topic1\", \"Topic1\", \"Topic1\", \"Topic1\", \"Topic1\", \"Topic1\", \"Topic1\", \"Topic1\", \"Topic1\", \"Topic1\", \"Topic1\", \"Topic1\", \"Topic1\", \"Topic1\", \"Topic1\", \"Topic1\", \"Topic1\", \"Topic1\", \"Topic1\", \"Topic1\", \"Topic2\", \"Topic2\", \"Topic2\", \"Topic2\", \"Topic2\", \"Topic2\", \"Topic2\", \"Topic2\", \"Topic2\", \"Topic2\", \"Topic2\", \"Topic2\", \"Topic2\", \"Topic2\", \"Topic2\", \"Topic2\", \"Topic2\", \"Topic2\", \"Topic2\", \"Topic2\", \"Topic2\", \"Topic2\", \"Topic2\", \"Topic2\", \"Topic2\", \"Topic2\", \"Topic2\", \"Topic2\", \"Topic2\", \"Topic2\", \"Topic2\", \"Topic2\", \"Topic2\", \"Topic2\", \"Topic2\", \"Topic2\", \"Topic2\", \"Topic2\", \"Topic2\", \"Topic2\", \"Topic2\", \"Topic2\", \"Topic2\", \"Topic2\", \"Topic2\", \"Topic2\", \"Topic2\", \"Topic2\", \"Topic2\", \"Topic2\", \"Topic2\", \"Topic2\", \"Topic2\", \"Topic2\", \"Topic2\", \"Topic2\", \"Topic2\", \"Topic2\", \"Topic3\", \"Topic3\", \"Topic3\", \"Topic3\", \"Topic3\", \"Topic3\", \"Topic3\", \"Topic3\", \"Topic3\", \"Topic3\", \"Topic3\", \"Topic3\", \"Topic3\", \"Topic3\", \"Topic3\", \"Topic3\", \"Topic3\", \"Topic3\", \"Topic3\", \"Topic3\", \"Topic3\", \"Topic3\", \"Topic3\", \"Topic3\", \"Topic3\", \"Topic3\", \"Topic3\", \"Topic3\", \"Topic3\", \"Topic3\", \"Topic3\", \"Topic3\", \"Topic3\", \"Topic3\", \"Topic3\", \"Topic3\", \"Topic3\", \"Topic3\", \"Topic3\", \"Topic3\", \"Topic3\", \"Topic3\", \"Topic3\", \"Topic3\", \"Topic3\", \"Topic3\", \"Topic3\", \"Topic3\", \"Topic3\", \"Topic3\", \"Topic3\", \"Topic3\", \"Topic3\", \"Topic3\", \"Topic3\", \"Topic3\", \"Topic3\", \"Topic3\", \"Topic3\", \"Topic3\", \"Topic3\", \"Topic3\", \"Topic3\"], \"logprob\": [30.0, 29.0, 28.0, 27.0, 26.0, 25.0, 24.0, 23.0, 22.0, 21.0, 20.0, 19.0, 18.0, 17.0, 16.0, 15.0, 14.0, 13.0, 12.0, 11.0, 10.0, 9.0, 8.0, 7.0, 6.0, 5.0, 4.0, 3.0, 2.0, 1.0, -4.329, -5.2702, -6.1622, -6.1403, -6.3978, -6.8744, -5.1281, -6.913, -6.7885, -5.9236, -5.6192, -6.4414, -6.2564, -5.0311, -5.4296, -6.1908, -5.7416, -5.4958, -6.955, -6.5644, -5.1369, -6.196, -5.218, -6.1784, -4.6946, -6.7451, -6.3543, -5.3766, -6.8531, -4.9234, -4.2038, -5.1748, -5.511, -4.728, -4.486, -4.2707, -4.9488, -4.3258, -4.0454, -4.6989, -4.2306, -4.2067, -4.7052, -4.3336, -4.7639, -5.1289, -5.1644, -4.4112, -4.4989, -4.6396, -4.9628, -4.3877, -4.6191, -5.047, -4.8432, -4.657, -4.8948, -5.0819, -5.1006, -6.001, -5.7424, -6.3797, -4.0979, -4.9068, -5.649, -6.8247, -5.4576, -4.7661, -6.3541, -4.5252, -5.4701, -5.6299, -5.6122, -5.5966, -4.8253, -5.6198, -7.104, -5.4837, -5.3066, -5.4885, -6.5897, -5.3678, -6.3741, -4.5454, -6.0084, -5.4916, -4.6277, -4.4778, -6.3259, -3.7558, -5.5851, -4.0572, -4.1663, -4.3321, -5.4734, -5.0827, -4.5748, -5.2479, -5.2039, -4.9528, -4.4896, -4.472, -4.6659, -5.2563, -4.6499, -4.6191, -4.6368, -4.5212, -4.8082, -4.577, -4.8339, -4.804, -4.827, -4.863, -5.0591, -5.0898, -5.0597, -5.4686, -6.3732, -5.1949, -5.6538, -6.7123, -5.3705, -6.6056, -5.1518, -6.4547, -4.7247, -6.1501, -4.1422, -5.6487, -5.245, -6.3054, -6.5267, -6.0544, -5.903, -6.6389, -5.8983, -5.5132, -5.3598, -6.2598, -5.7267, -5.5125, -6.452, -4.7054, -4.0911, -6.1077, -6.5261, -4.874, -4.8483, -5.6164, -5.6996, -5.3746, -4.7447, -5.2541, -4.4711, -3.9935, -4.7961, -4.8649, -5.3127, -4.913, -4.8801, -4.7999, -5.1803, -5.167, -4.8201, -4.4868, -4.5694, -4.7065, -4.8145, -4.5597, -4.5907, -4.9937, -5.0812, -4.8224, -4.8098, -4.9661, -4.8075, -4.8293, -4.8302, -5.0615], \"loglift\": [30.0, 29.0, 28.0, 27.0, 26.0, 25.0, 24.0, 23.0, 22.0, 21.0, 20.0, 19.0, 18.0, 17.0, 16.0, 15.0, 14.0, 13.0, 12.0, 11.0, 10.0, 9.0, 8.0, 7.0, 6.0, 5.0, 4.0, 3.0, 2.0, 1.0, 1.0184, 1.0134, 1.0127, 1.0117, 1.0088, 1.0042, 1.0017, 0.9876, 0.9801, 0.9796, 0.9783, 0.978, 0.9759, 0.9738, 0.9738, 0.9711, 0.9462, 0.9294, 0.9214, 0.9099, 0.9075, 0.9012, 0.8966, 0.8885, 0.8742, 0.8579, 0.857, 0.8555, 0.8542, 0.847, 0.8133, 0.8312, 0.8335, 0.7677, 0.683, 0.6212, 0.7069, 0.5883, 0.5322, 0.6263, 0.4931, 0.4858, 0.5507, 0.4456, 0.5357, 0.637, 0.6491, 0.3091, 0.3338, 0.4022, 0.5564, 0.1695, 0.3036, 0.5873, 0.4095, 0.1731, -0.0509, -0.1203, -0.0489, 1.005, 0.9992, 0.9839, 0.9772, 0.9688, 0.9678, 0.9652, 0.9627, 0.9565, 0.9528, 0.9502, 0.9492, 0.9399, 0.9329, 0.9253, 0.9217, 0.921, 0.9205, 0.9194, 0.9135, 0.9098, 0.9075, 0.9071, 0.906, 0.8984, 0.8978, 0.8973, 0.8952, 0.8935, 0.889, 0.8848, 0.8626, 0.7895, 0.7912, 0.7518, 0.8315, 0.7375, 0.6354, 0.7335, 0.7018, 0.5642, 0.2341, 0.2206, 0.2568, 0.6796, 0.1828, 0.1529, 0.1424, 0.036, 0.251, 0.0006, 0.2078, 0.0438, 0.0169, 0.0289, 0.0804, 0.1661, -0.2296, 1.1146, 1.0971, 1.0955, 1.0832, 1.0764, 1.0737, 1.0733, 1.0706, 1.0704, 1.0699, 1.0696, 1.0664, 1.0658, 1.0642, 1.0566, 1.0549, 1.0548, 1.0538, 1.0429, 1.0398, 1.0364, 1.0348, 1.0316, 1.0316, 1.0309, 1.0251, 1.0126, 1.0067, 1.006, 1.005, 1.0025, 0.9982, 0.9989, 0.9977, 0.98, 0.937, 0.968, 0.9054, 0.8629, 0.9318, 0.9296, 0.9364, 0.807, 0.7906, 0.7572, 0.855, 0.7931, 0.5784, 0.3609, 0.3923, 0.4772, 0.4945, 0.1607, 0.1813, 0.5542, 0.652, 0.2647, 0.2419, 0.4108, 0.0364, 0.0009, -0.273, 0.078]}, \"token.table\": {\"Topic\": [1, 2, 3, 1, 2, 3, 1, 2, 3, 1, 2, 3, 1, 2, 3, 1, 2, 3, 1, 2, 3, 1, 2, 3, 1, 2, 3, 1, 2, 3, 1, 2, 3, 1, 2, 3, 1, 2, 3, 1, 2, 3, 1, 2, 3, 1, 2, 3, 1, 2, 3, 1, 2, 3, 1, 2, 3, 1, 2, 3, 1, 2, 3, 1, 2, 3, 1, 2, 3, 1, 2, 3, 1, 2, 3, 1, 2, 3, 1, 2, 3, 1, 2, 3, 1, 2, 3, 1, 2, 3, 1, 2, 3, 1, 2, 3, 1, 2, 3, 1, 2, 3, 1, 2, 3, 1, 2, 3, 1, 2, 3, 1, 2, 3, 1, 2, 3, 1, 2, 3, 1, 2, 3, 1, 2, 3, 1, 2, 3, 1, 2, 3, 1, 2, 3, 1, 2, 3, 1, 2, 3, 1, 2, 3, 1, 2, 3, 1, 2, 3, 1, 2, 3, 1, 2, 3, 1, 2, 3, 1, 2, 3, 1, 2, 3, 1, 2, 3, 1, 2, 3, 1, 2, 3, 1, 2, 3, 1, 2, 3, 1, 2, 3, 1, 2, 3, 1, 2, 3, 1, 2, 3, 1, 2, 3, 1, 2, 3, 1, 2, 3, 1, 2, 3, 1, 2, 3, 1, 2, 3, 1, 2, 3, 1, 2, 3, 1, 2, 3, 1, 2, 3, 1, 2, 3, 1, 2, 3, 1, 2, 3, 1, 2, 3, 1, 2, 3, 1, 2, 3, 1, 2, 3, 1, 2, 3, 1, 2, 3, 1, 2, 3, 1, 2, 3, 1, 2, 3, 1, 2, 3, 1, 2, 3, 1, 2, 3, 1, 2, 3, 1, 2, 3, 1, 2, 3, 1, 2, 3, 1, 2, 3, 1, 2, 3, 1, 2, 3, 1, 2, 3, 1, 2, 3, 1, 2, 3, 1, 2, 3, 1, 2, 3, 1, 2, 3, 1, 2, 3, 1, 2, 3, 1, 2, 3, 1, 2, 3, 1, 2, 3, 1, 2, 3, 1, 2, 3, 1, 2, 3, 1, 2, 3, 1, 2, 3, 1, 2, 3, 1, 2, 3, 1, 2, 3, 1, 2, 3, 1, 2, 3, 1, 2, 3, 1, 2, 3, 1, 2, 3, 1, 2, 3, 1, 2, 3, 1, 2, 3, 1, 2, 3, 1, 2, 3, 1, 2, 3, 1, 2, 3, 1, 2, 3, 1, 2, 3, 1, 2, 3, 1, 2, 3, 1, 2, 3, 1, 2, 3, 1, 2, 3, 1, 2, 3, 1, 2, 3, 1, 2, 3, 1, 2, 3, 1, 2, 3, 1, 2, 3, 1, 2, 3, 1, 2, 3, 1, 2, 3, 1, 2, 3, 1, 2, 3, 1, 2, 3, 1, 2, 3, 1, 2, 3, 1, 2, 3, 1, 2, 3, 1, 2, 3, 1, 2, 3, 1, 2, 3, 1, 2, 3, 1, 2, 3, 1, 2, 3, 1, 2, 3, 1, 2, 3, 1, 2, 3], \"Freq\": [0.12260713888203535, 0.847103868639517, 0.027865258836826216, 0.04100387429813318, 0.08200774859626636, 0.8736979369679148, 0.5295135002406285, 0.35881506924200485, 0.11147652636644811, 0.7140728397472278, 0.2658227359642965, 0.02084884203641541, 0.8433761103088827, 0.009556669805199803, 0.14812838198059697, 0.10447670437517108, 0.09856292865582177, 0.7963884635390399, 0.8673995126262994, 0.032125907875048126, 0.09637772362514438, 0.24057566000502847, 0.24057566000502847, 0.5185380779838114, 0.2986015479805205, 0.35303412183113625, 0.3483684726439406, 0.6968103940141784, 0.017620492722197616, 0.28673347247939757, 0.17051362368401032, 0.8209915214415312, 0.006315319395704086, 0.07384828522695026, 0.05169379965886518, 0.8714097656780131, 0.7594481232226765, 0.1998547692691254, 0.042191562401259805, 0.9302490792444125, 0.04953989179408114, 0.022017729686258283, 0.26556016711045755, 0.6414830010720144, 0.09311850015561499, 0.04718018968833658, 0.09436037937667316, 0.8597279009874665, 0.017881489620300964, 0.0536444688609029, 0.9298374602556502, 0.16111017074584916, 0.7710272457122782, 0.06904721603393536, 0.9588322246876878, 0.016748161129915944, 0.025122241694873915, 0.9657915795350736, 0.023272086253857197, 0.011636043126928598, 0.11503853489254082, 0.8771688285556237, 0.014379816861567602, 0.13312674470709787, 0.8572063561627765, 0.006493987546687701, 0.04013121845141174, 0.05350829126854898, 0.9096409515653326, 0.5499748336377868, 0.3753279929756888, 0.07484864599804199, 0.15582183861521665, 0.789497315650431, 0.05477373721019736, 0.15014961448427458, 0.84214348993354, 0.006528244108011939, 0.12519524107564145, 0.6142913162111473, 0.2604061014373342, 0.16675803079044701, 0.11117202052696468, 0.7226181334252705, 0.14105744930111813, 0.7975171172024756, 0.059678151627396134, 0.6138880934109455, 0.12732493789264057, 0.25919719499573257, 0.3123534753716922, 0.11285028787622428, 0.5743273579414986, 0.028714022369089924, 0.04307103355363488, 0.9332057269954225, 0.0509001520443021, 0.1317415699970172, 0.8173965592996749, 0.015026823724728156, 0.05259388303654854, 0.9391764827955097, 0.024582473964896358, 0.009832989585958542, 0.9636329794239372, 0.821338944994998, 0.1578373773299996, 0.020460400764999952, 0.6023288564854069, 0.379649703481711, 0.018252389590466874, 0.3124593004134567, 0.2109100277790833, 0.4765004331305215, 0.7940252925695527, 0.14449333746932935, 0.06192571605828401, 0.2545114453768537, 0.6914472793475217, 0.05443308369331554, 0.931264798596559, 0.007390990465052055, 0.05912792372041644, 0.11137873214133218, 0.8074958080246583, 0.05568936607066609, 0.006588646071823192, 0.006588646071823192, 0.9817082647016555, 0.634337203403564, 0.20979058194755837, 0.1564119131680021, 0.18077204759819662, 0.8052573029374213, 0.016433822508926964, 0.031396236926981506, 0.07064153308570839, 0.9026418116507183, 0.0333314488450408, 0.03166487640278876, 0.9366137125456465, 0.034313033811604284, 0.08354477797608, 0.8816957818547013, 0.028720785266748605, 0.04786797544458101, 0.9286387236248715, 0.928415045092086, 0.04700835671352334, 0.02350417835676167, 0.047626125524946605, 0.07484105439634467, 0.8776814561025874, 0.044798158456030086, 0.07839677729805265, 0.8847636295065942, 0.03533319679019, 0.250865697210349, 0.713730575161838, 0.19749987460689034, 0.34039684270481685, 0.4623820593737785, 0.11366496981575709, 0.6819898188945425, 0.20582575615285742, 0.10363918740551999, 0.07842965533390701, 0.8179092627678874, 0.1362861778635764, 0.8586029205405313, 0.006814308893178821, 0.07093528521786757, 0.021826241605497714, 0.9057890266281551, 0.27792683901975207, 0.6785746199443297, 0.04331327361346785, 0.09264047145393553, 0.8878045181002155, 0.023160117863483883, 0.12250264457183233, 0.864810336084483, 0.011666918530650699, 0.9331685508829393, 0.03783115746822727, 0.025220771645484846, 0.6663241192593434, 0.23568669720526994, 0.09893021857998985, 0.07766019081673081, 0.036056517164910734, 0.887545037905495, 0.015997567160748048, 0.015997567160748048, 0.9598540296448829, 0.41702983507078123, 0.3379679288386123, 0.24500502810408398, 0.08730612991327716, 0.20371430313098005, 0.7116772408082289, 0.9344889224162167, 0.036290831938493855, 0.027218123953870393, 0.8220404098519307, 0.01826756466337624, 0.14614051730700992, 0.9348145594982225, 0.024600383144690062, 0.049200766289380124, 0.3344411598062864, 0.33096945226504465, 0.3344411598062864, 0.10056212700471182, 0.8849467176414639, 0.010056212700471181, 0.13652939424338922, 0.8321791649120867, 0.032506998629378385, 0.6556779202534538, 0.33512427035176534, 0.009713746966717835, 0.9745794722613879, 0.017232250000692517, 0.009573472222606953, 0.9626399360591796, 0.02406599840147949, 0.02406599840147949, 0.6326480396915495, 0.09183600576167654, 0.2755080172850296, 0.14549453443116592, 0.8068333273001018, 0.05290710342951487, 0.19451473091276028, 0.04218391754734561, 0.763997617801926, 0.17736355954027003, 0.6559105220734515, 0.16397763051836287, 0.1839407238476029, 0.8083710758565706, 0.004840545364410602, 0.015367684733383373, 0.030735369466766745, 0.9527964534697692, 0.033797687596654365, 0.033797687596654365, 0.9463352527063222, 0.26029241380921514, 0.254376677131733, 0.48509040755353733, 0.6098225844012445, 0.38441538271711684, 0.005242027946142503, 0.2597600636886176, 0.3202723512524433, 0.4191582845884511, 0.11608366417319851, 0.35562138389567166, 0.5288255812334599, 0.8313807280042772, 0.14194305112268146, 0.020277578731811637, 0.8550056186001366, 0.032062710697505124, 0.10687570232501707, 0.17872204721835933, 0.8111231373756308, 0.009165233190685095, 0.8301331667837818, 0.05101377002581899, 0.12057800187920853, 0.4770938145434516, 0.42074415140839827, 0.10142939364309601, 0.9070857091546927, 0.036576036659463414, 0.05852165865514146, 0.9426040381548506, 0.030406581875962922, 0.030406581875962922, 0.16112090899078413, 0.8241954190682419, 0.018590874114321247, 0.018373582897896954, 0.041340561520268146, 0.9416461235172189, 0.10870001161112341, 0.8424250899862065, 0.04076250435417128, 0.13213885339820633, 0.8589025470883412, 0.02202314223303439, 0.01700096722530562, 0.10200580335183371, 0.8840502957158922, 0.1752464915598909, 0.8105150234644953, 0.01642935858373977, 0.8702689993620703, 0.12117669611370599, 0.011016063283064181, 0.11991532661744973, 0.8194213985525732, 0.059957663308724866, 0.024904479577000392, 0.03735671936550059, 0.9339179841375147, 0.8885063229994823, 0.07204105321617424, 0.048027368810782824, 0.9717740142889372, 0.014649859511893525, 0.014649859511893525, 0.14586898168078272, 0.8308189826166319, 0.031710648191474504, 0.039533688150766466, 0.0593005322261497, 0.9092748274676287, 0.13995086837831788, 0.8509012797401727, 0.011196069470265432, 0.08703711304926275, 0.7171858115259251, 0.19496313323034856, 0.02866590163027767, 0.02866590163027767, 0.9402415734731077, 0.8272925582877807, 0.04939060049479288, 0.1234765012369822, 0.011149387563780635, 0.05574693781890317, 0.9253991677937927, 0.9357114111638528, 0.0534692234950773, 0.006683652936884663, 0.6744253746446816, 0.3051698527803989, 0.02136188969462792, 0.6591953248020934, 0.3314703763919617, 0.011236283945490227, 0.29569556272618347, 0.41914128308759985, 0.2856476552549054, 0.025048243949023493, 0.04007719031843759, 0.931794674903674, 0.19625100371677973, 0.7964139569436758, 0.004563976830622784, 0.06174667675036379, 0.06174667675036379, 0.8774527748735907, 0.5261015506649999, 0.40057061766450397, 0.07334391591040212, 0.016107322429210272, 0.08053661214605136, 0.9020100560357751, 0.11831220058452574, 0.8008825885721743, 0.08190844655851783, 0.12392857271315105, 0.7931428653641667, 0.08675000089920573, 0.09434642326653951, 0.08491178093988556, 0.8208138824188937, 0.16446666584035763, 0.7991393122243018, 0.03584529896520615, 0.5719838720058236, 0.40585986048413214, 0.021884600320222814, 0.1440483056143956, 0.1676627819446244, 0.6871812612096577, 0.8726986798472615, 0.01922243788209827, 0.10764565213975032, 0.0197096352650507, 0.0394192705301014, 0.9460624927224335, 0.0294213513010025, 0.14978142480510365, 0.8211231681279789, 0.13981873844683232, 0.838912430680994, 0.022370998151493172, 0.03799113953328441, 0.06331856588880734, 0.905455492209945, 0.10475008788457649, 0.7482149134612607, 0.14465488326917705, 0.15099830260705727, 0.7961728682917566, 0.05294745675831879, 0.4796757910369686, 0.14216404041394165, 0.37842226585006056, 0.1333296632613416, 0.11047314955939733, 0.7580743711144851, 0.14518254403518316, 0.5716562671385337, 0.28129117906816736, 0.5767482039975546, 0.41152318470288146, 0.012314908270410417, 0.13516817473059023, 0.2449923166991948, 0.6195208008485386, 0.020962205666473267, 0.04192441133294653, 0.9403046541818009, 0.14002207993108828, 0.7182614100168788, 0.14131858067119096, 0.964391073281112, 0.023812125266200294, 0.011906062633100147, 0.9606543796000507, 0.030020449362501585, 0.015010224681250793, 0.23370785971436997, 0.379102150320084, 0.3866411135366766, 0.08724232190969809, 0.06428381614398807, 0.8494647133312708, 0.8944947811787481, 0.0900120534519495, 0.01687726002224053, 0.8095912993836832, 0.1505009466803001, 0.04151750253249657, 0.8102039329195492, 0.14428289216375534, 0.04809429738791844, 0.05096919533844181, 0.044598045921136587, 0.9110743666746474, 0.9485867568904023, 0.04311757985865465, 0.021558789929327325, 0.41891246937049004, 0.2591093475397854, 0.32303059627206726, 0.02199591200261411, 0.04399182400522822, 0.9458242161124066, 0.018792143966990638, 0.07516857586796255, 0.911418982399046, 0.5994083628174897, 0.32630514425567486, 0.07448269597140404, 0.15958693229112866, 0.8144436544512773, 0.022011990660845332, 0.3347620252694986, 0.2549889469074053, 0.41026154586219404, 0.8618708074818178, 0.07835189158925616, 0.06185675651783381, 0.21291737358235524, 0.22695588173064238, 0.5615403259314863, 0.4920673162752047, 0.3913651678281861, 0.11786728738685137], \"Term\": [\"abus\", \"abus\", \"abus\", \"access\", \"access\", \"access\", \"act\", \"act\", \"act\", \"admit\", \"admit\", \"admit\", \"african\", \"african\", \"african\", \"agreement\", \"agreement\", \"agreement\", \"alcohol\", \"alcohol\", \"alcohol\", \"alleg\", \"alleg\", \"alleg\", \"also\", \"also\", \"also\", \"american\", \"american\", \"american\", \"apprehend\", \"apprehend\", \"apprehend\", \"approv\", \"approv\", \"approv\", \"assault\", \"assault\", \"assault\", \"attack\", \"attack\", \"attack\", \"attorney\", \"attorney\", \"attorney\", \"avail\", \"avail\", \"avail\", \"barrier\", \"barrier\", \"barrier\", \"better\", \"better\", \"better\", \"burn\", \"burn\", \"burn\", \"byrd\", \"byrd\", \"byrd\", \"caldwel\", \"caldwel\", \"caldwel\", \"ceo\", \"ceo\", \"ceo\", \"chang\", \"chang\", \"chang\", \"charg\", \"charg\", \"charg\", \"child\", \"child\", \"child\", \"childhood\", \"childhood\", \"childhood\", \"children\", \"children\", \"children\", \"citi\", \"citi\", \"citi\", \"combat\", \"combat\", \"combat\", \"commit\", \"commit\", \"commit\", \"communiti\", \"communiti\", \"communiti\", \"compens\", \"compens\", \"compens\", \"complaint\", \"complaint\", \"complaint\", \"complianc\", \"complianc\", \"complianc\", \"consent\", \"consent\", \"consent\", \"conspir\", \"conspir\", \"conspir\", \"count\", \"count\", \"count\", \"court\", \"court\", \"court\", \"crime\", \"crime\", \"crime\", \"crimin\", \"crimin\", \"crimin\", \"cross\", \"cross\", \"cross\", \"dana\", \"dana\", \"dana\", \"decre\", \"decre\", \"decre\", \"defend\", \"defend\", \"defend\", \"depict\", \"depict\", \"depict\", \"develop\", \"develop\", \"develop\", \"disabl\", \"disabl\", \"disabl\", \"discrimin\", \"discrimin\", \"discrimin\", \"discriminatori\", \"discriminatori\", \"discriminatori\", \"drove\", \"drove\", \"drove\", \"educ\", \"educ\", \"educ\", \"effect\", \"effect\", \"effect\", \"employ\", \"employ\", \"employ\", \"enforc\", \"enforc\", \"enforc\", \"engag\", \"engag\", \"engag\", \"ensur\", \"ensur\", \"ensur\", \"epidem\", \"epidem\", \"epidem\", \"equal\", \"equal\", \"equal\", \"evid\", \"evid\", \"evid\", \"explicit\", \"explicit\", \"explicit\", \"exploit\", \"exploit\", \"exploit\", \"explos\", \"explos\", \"explos\", \"face\", \"face\", \"face\", \"fair\", \"fair\", \"fair\", \"fairhous\", \"fairhous\", \"fairhous\", \"feder\", \"feder\", \"feder\", \"file\", \"file\", \"file\", \"firearm\", \"firearm\", \"firearm\", \"front\", \"front\", \"front\", \"fuel\", \"fuel\", \"fuel\", \"general\", \"general\", \"general\", \"girl\", \"girl\", \"girl\", \"grow\", \"grow\", \"grow\", \"guilti\", \"guilti\", \"guilti\", \"hate\", \"hate\", \"hate\", \"hatr\", \"hatr\", \"hatr\", \"home\", \"home\", \"home\", \"homeland\", \"homeland\", \"homeland\", \"hous\", \"hous\", \"hous\", \"identifi\", \"identifi\", \"identifi\", \"imag\", \"imag\", \"imag\", \"implement\", \"implement\", \"implement\", \"improv\", \"improv\", \"improv\", \"includ\", \"includ\", \"includ\", \"indict\", \"indict\", \"indict\", \"individu\", \"individu\", \"individu\", \"inform\", \"inform\", \"inform\", \"injur\", \"injur\", \"injur\", \"interfer\", \"interfer\", \"interfer\", \"internet\", \"internet\", \"internet\", \"intimid\", \"intimid\", \"intimid\", \"investig\", \"investig\", \"investig\", \"jackson\", \"jackson\", \"jackson\", \"kill\", \"kill\", \"kill\", \"launch\", \"launch\", \"launch\", \"lawsuit\", \"lawsuit\", \"lawsuit\", \"lesli\", \"lesli\", \"lesli\", \"lifetim\", \"lifetim\", \"lifetim\", \"limit\", \"limit\", \"limit\", \"marshal\", \"marshal\", \"marshal\", \"matthew\", \"matthew\", \"matthew\", \"minor\", \"minor\", \"minor\", \"monitor\", \"monitor\", \"monitor\", \"morn\", \"morn\", \"morn\", \"motiv\", \"motiv\", \"motiv\", \"nationwid\", \"nationwid\", \"nationwid\", \"oblig\", \"oblig\", \"oblig\", \"obscen\", \"obscen\", \"obscen\", \"offic\", \"offic\", \"offic\", \"opportun\", \"opportun\", \"opportun\", \"orient\", \"orient\", \"orient\", \"pattern\", \"pattern\", \"pattern\", \"perez\", \"perez\", \"perez\", \"plea\", \"plea\", \"plea\", \"plead\", \"plead\", \"plead\", \"polic\", \"polic\", \"polic\", \"polici\", \"polici\", \"polici\", \"pornographi\", \"pornographi\", \"pornographi\", \"practic\", \"practic\", \"practic\", \"prison\", \"prison\", \"prison\", \"procedur\", \"procedur\", \"procedur\", \"produc\", \"produc\", \"produc\", \"product\", \"product\", \"product\", \"prohibit\", \"prohibit\", \"prohibit\", \"project\", \"project\", \"project\", \"prosecut\", \"prosecut\", \"prosecut\", \"provid\", \"provid\", \"provid\", \"racial\", \"racial\", \"racial\", \"remedi\", \"remedi\", \"remedi\", \"requir\", \"requir\", \"requir\", \"rescu\", \"rescu\", \"rescu\", \"resolv\", \"resolv\", \"resolv\", \"resourc\", \"resourc\", \"resourc\", \"safe\", \"safe\", \"safe\", \"said\", \"said\", \"said\", \"school\", \"school\", \"school\", \"section\", \"section\", \"section\", \"sentenc\", \"sentenc\", \"sentenc\", \"servic\", \"servic\", \"servic\", \"settlement\", \"settlement\", \"settlement\", \"sexual\", \"sexual\", \"sexual\", \"shepard\", \"shepard\", \"shepard\", \"slur\", \"slur\", \"slur\", \"state\", \"state\", \"state\", \"student\", \"student\", \"student\", \"thoma\", \"thoma\", \"thoma\", \"threat\", \"threat\", \"threat\", \"threaten\", \"threaten\", \"threaten\", \"titl\", \"titl\", \"titl\", \"tobacco\", \"tobacco\", \"tobacco\", \"today\", \"today\", \"today\", \"toll\", \"toll\", \"toll\", \"usdoj\", \"usdoj\", \"usdoj\", \"victim\", \"victim\", \"victim\", \"video\", \"video\", \"video\", \"violat\", \"violat\", \"violat\", \"violenc\", \"violenc\", \"violenc\", \"work\", \"work\", \"work\", \"year\", \"year\", \"year\"]}, \"R\": 30, \"lambda.step\": 0.01, \"plot.opts\": {\"xlab\": \"PC1\", \"ylab\": \"PC2\"}, \"topic.order\": [2, 1, 3]};\n",
       "\n",
       "function LDAvis_load_lib(url, callback){\n",
       "  var s = document.createElement('script');\n",
       "  s.src = url;\n",
       "  s.async = true;\n",
       "  s.onreadystatechange = s.onload = callback;\n",
       "  s.onerror = function(){console.warn(\"failed to load library \" + url);};\n",
       "  document.getElementsByTagName(\"head\")[0].appendChild(s);\n",
       "}\n",
       "\n",
       "if(typeof(LDAvis) !== \"undefined\"){\n",
       "   // already loaded: just create the visualization\n",
       "   !function(LDAvis){\n",
       "       new LDAvis(\"#\" + \"ldavis_el3758114082557768586242587\", ldavis_el3758114082557768586242587_data);\n",
       "   }(LDAvis);\n",
       "}else if(typeof define === \"function\" && define.amd){\n",
       "   // require.js is available: use it to load d3/LDAvis\n",
       "   require.config({paths: {d3: \"https://d3js.org/d3.v5\"}});\n",
       "   require([\"d3\"], function(d3){\n",
       "      window.d3 = d3;\n",
       "      LDAvis_load_lib(\"https://cdn.jsdelivr.net/gh/bmabey/pyLDAvis@3.4.0/pyLDAvis/js/ldavis.v3.0.0.js\", function(){\n",
       "        new LDAvis(\"#\" + \"ldavis_el3758114082557768586242587\", ldavis_el3758114082557768586242587_data);\n",
       "      });\n",
       "    });\n",
       "}else{\n",
       "    // require.js not available: dynamically load d3 & LDAvis\n",
       "    LDAvis_load_lib(\"https://d3js.org/d3.v5.js\", function(){\n",
       "         LDAvis_load_lib(\"https://cdn.jsdelivr.net/gh/bmabey/pyLDAvis@3.4.0/pyLDAvis/js/ldavis.v3.0.0.js\", function(){\n",
       "                 new LDAvis(\"#\" + \"ldavis_el3758114082557768586242587\", ldavis_el3758114082557768586242587_data);\n",
       "            })\n",
       "         });\n",
       "}\n",
       "</script>"
      ],
      "text/plain": [
       "<IPython.core.display.HTML object>"
      ]
     },
     "execution_count": 223,
     "metadata": {},
     "output_type": "execute_result"
    }
   ],
   "source": [
    "lda_display = gensimvis.prepare(ldamod, corpus_fromdict, text_raw_dict)\n",
    "pyLDAvis.display(lda_display)"
   ]
  },
  {
   "cell_type": "markdown",
   "metadata": {},
   "source": [
    "## 2.4 Add topics back to main data and explore correlation between manual labels and our estimated topics (10 points)\n",
    "\n",
    "A. Extract the document-level topic probabilities. Within `get_document_topics`, use the argument `minimum_probability` = 0 to make sure all 3 topic probabilities are returned. Write an assert statement to make sure the length of the list is equal to the number of rows in the `doj_subset_wscores` dataframe\n",
    "\n",
    "B. Add the topic probabilities to the `doj_subset_wscores` dataframe as columns and create a column, `top_topic`, that reflects each document to its highest-probability topic (eg topic 1, 2, or 3)\n",
    "\n",
    "C. For each of the manual labels in `topics_clean` (Hate Crime, Civil Rights, Project Safe Childhood), print the breakdown of the % of documents with each top topic (so, for instance, Hate Crime has 246 documents-- if 123 of those documents are coded to topic_1, that would be 50%; and so on). **Hint**: pd.crosstab and normalize may be helpful: https://pandas.pydata.org/pandas-docs/version/0.23/generated/pandas.crosstab.html\n",
    "\n",
    "D. Using a couple press releases as examples, write a 1-2 sentence interpretation of why some of the manual topics map on more cleanly to an estimated topic than other manual topic(s)\n"
   ]
  },
  {
   "cell_type": "code",
   "execution_count": 241,
   "metadata": {},
   "outputs": [],
   "source": [
    "topic_probs_bydoc = [ldamod.get_document_topics(item, minimum_probability=0) for item in corpus_fromdict]"
   ]
  },
  {
   "cell_type": "code",
   "execution_count": 243,
   "metadata": {},
   "outputs": [
    {
     "name": "stdout",
     "output_type": "stream",
     "text": [
      "Assertion passed: Length of topic probabilities equals the number of rows in doj_subset_wscore DataFrame.\n"
     ]
    }
   ],
   "source": [
    "\n",
    "# Write an assert statement to check the length of topic_probs_bydoc\n",
    "assert len(topic_probs_bydoc) == len(doj_subset_wscore), \"Length of topic probabilities and doj_subset_wscore DataFrame rows are not equal\"\n",
    "\n",
    "# Print a message if the assertion passes\n",
    "print(\"Assertion passed: Length of topic probabilities equals the number of rows in doj_subset_wscore DataFrame.\")\n"
   ]
  },
  {
   "cell_type": "code",
   "execution_count": 252,
   "metadata": {},
   "outputs": [],
   "source": [
    "for topic_id in range(num_topics):\n",
    "    col_name = \"topic_\" + str(topic_id + 1) + \"_prob\"\n",
    "    doj_subset_wscore[col_name] = [doc_probs[topic_id][1] if len(doc_probs) > topic_id else 0 for doc_probs in topic_probs_bydoc]"
   ]
  },
  {
   "cell_type": "code",
   "execution_count": 253,
   "metadata": {},
   "outputs": [
    {
     "data": {
      "text/html": [
       "<div>\n",
       "<style scoped>\n",
       "    .dataframe tbody tr th:only-of-type {\n",
       "        vertical-align: middle;\n",
       "    }\n",
       "\n",
       "    .dataframe tbody tr th {\n",
       "        vertical-align: top;\n",
       "    }\n",
       "\n",
       "    .dataframe thead th {\n",
       "        text-align: right;\n",
       "    }\n",
       "</style>\n",
       "<table border=\"1\" class=\"dataframe\">\n",
       "  <thead>\n",
       "    <tr style=\"text-align: right;\">\n",
       "      <th></th>\n",
       "      <th>id</th>\n",
       "      <th>title</th>\n",
       "      <th>contents</th>\n",
       "      <th>date</th>\n",
       "      <th>topics_clean</th>\n",
       "      <th>components_clean</th>\n",
       "      <th>neg</th>\n",
       "      <th>neu</th>\n",
       "      <th>pos</th>\n",
       "      <th>Compound</th>\n",
       "      <th>processed_text</th>\n",
       "      <th>topic_1_prob</th>\n",
       "      <th>topic_2_prob</th>\n",
       "      <th>topic_3_prob</th>\n",
       "      <th>top_topic</th>\n",
       "    </tr>\n",
       "    <tr>\n",
       "      <th>Index</th>\n",
       "      <th></th>\n",
       "      <th></th>\n",
       "      <th></th>\n",
       "      <th></th>\n",
       "      <th></th>\n",
       "      <th></th>\n",
       "      <th></th>\n",
       "      <th></th>\n",
       "      <th></th>\n",
       "      <th></th>\n",
       "      <th></th>\n",
       "      <th></th>\n",
       "      <th></th>\n",
       "      <th></th>\n",
       "      <th></th>\n",
       "    </tr>\n",
       "  </thead>\n",
       "  <tbody>\n",
       "    <tr>\n",
       "      <th>5247</th>\n",
       "      <td>18-913</td>\n",
       "      <td>Grapevine Texas Man Pleads Guilty to Federal Hate Crime  Against an African-American Family</td>\n",
       "      <td>Glenn Eugene Halfin, 64, from Grapevine, Texas, appeared today before U.S. Magistrate Judge Jeffrey L. Cureton in the U.S. District Court for the Northern District of Texas and pleaded guilty to a federal charge of interfering with an African-American family’s housing rights, announced Acting Assistant Attorney General John Gore of the Civil Rights Division and U.S. Attorney Erin Nealy Cox of the Northern District of Texas. According to court documents, Halfin threatened force, intimidated, and interfered with a family because of their race and occupancy of an apartment that was located directly above his own apartment.  According to documents filed in connection with the guilty plea, on Dec. 19, 2017, Halfin purchased a baby doll at a Wal-Mart in Grapevine, Texas. He took a rope, fashioned it into a noose, and hung the baby doll from the noose. Halfin then hung the rope noose and baby doll on the railing directly in front of the only staircase the family could use to access their apartment. Halfin did so, knowing that this display would be particularly intimidating for the family who had a young daughter. In addition, the defendant referenced in his factual basis repeated intimidation of and interference with the same African-American family on other occasions. “The Justice Department will not tolerate acts of intimidation and fear, or illegal threats against any individual or family because of their race,” said Acting Assistant Attorney John Gore. “We will continue to prosecute hate crime offenders.” “No one should be afraid to go home at night,” said U.S. Attorney Erin Nealy Cox.  “Our community will not tolerate crimes of intimidation or bigotry, and my office will continue to prosecute all those who persecute others based on their race, color, ethnicity, or religious beliefs.” Halfin faces a statutory maximum penalty of no more one year in federal prison and a $100,000 fine. His sentencing is scheduled for October 24. This case was investigated by the FBI and the Grapevine Police Department. The case was prosecuted by Trial Attorney Rebekah Bailey of the Civil Rights Division’s Criminal Section and Assistant United States Attorney Nicole Dana.</td>\n",
       "      <td>2018-07-12T00:00:00-04:00</td>\n",
       "      <td>Hate Crimes</td>\n",
       "      <td>Civil Rights Division; Civil Rights - Criminal Section</td>\n",
       "      <td>0.005</td>\n",
       "      <td>0.806</td>\n",
       "      <td>0.005</td>\n",
       "      <td>-0.9955</td>\n",
       "      <td>glenn eugen halfin grapevin texa appear today magistr judg jeffrey cureton court northern texa plead guilti feder charg interf african american famili hous announc act general john gore erin neali northern texa accord court document halfin threaten forc intimid interf famili race occup apart locat direct apart accord document file connect guilti plea halfin purchas babi doll mart grapevin texa took rope fashion noos hung babi doll noos halfin hung rope noos babi doll rail direct front staircas famili could access apart halfin know display would particular intimid famili young daughter addit defend referenc factual basi repeat intimid interfer african american famili occas toler act intimid fear illeg threat individu famili race said act john gore continu prosecut hate crime offend afraid home night said erin neali communiti toler crime intimid bigotri continu prosecut persecut other base race color ethnic religi belief halfin face statutori maximum penalti year feder prison fine sentenc schedul octob investig grapevin polic prosecut rebekah bailey crimin section unit state nicol dana</td>\n",
       "      <td>0.000479</td>\n",
       "      <td>0.999077</td>\n",
       "      <td>0.000444</td>\n",
       "      <td>1</td>\n",
       "    </tr>\n",
       "    <tr>\n",
       "      <th>8075</th>\n",
       "      <td>11-1245</td>\n",
       "      <td>Louisiana Man Convicted of Producing and Possessing Child Pornography</td>\n",
       "      <td>WASHINGTON –    Paul W. Miller, of Denham Springs, La., was convicted late yesterday of two counts of producing and one count of possessing child pornography, announced Assistant Attorney General Lanny A. Breuer of the Criminal Division and U.S. Attorney Donald J. Cazayoux Jr. of the Middle District of Louisiana.        Miller, 44, was convicted by a federal jury following a two-day trial.  U.S. District Judge James J. Brady presided over the trial.       Evidence presented at trial showed that from October 2007 to May 2008, Miller sexually abused a 12-year-old girl and an 11-year-old girl and produced numerous photographs of the abuse.  According to trial evidence, forensic examination of Miller’s computer revealed that Miller had used his computer to print and possess numerous images of child pornography, including both the images of child pornography he had produced and images of other child victims.                 Miller faces a maximum statutory sentence of 30 years in prison for each count of production of child pornography and 10 years in prison for the possession of child pornography count.       The case is being prosecuted by Trial Attorney Alecia Riewerts Wolak of the Criminal Division’s Child Exploitation and Obscenity Section (CEOS) and Assistant U.S. Attorney Richard L. Bourgeois Jr. of the Middle District of Louisiana.  The investigation was conducted by the FBI, the Denham Springs Police Department and the Louisiana Attorney General’s Office.</td>\n",
       "      <td>2011-09-22T00:00:00-04:00</td>\n",
       "      <td>Project Safe Childhood</td>\n",
       "      <td>Criminal Division</td>\n",
       "      <td>0.007</td>\n",
       "      <td>0.887</td>\n",
       "      <td>0.007</td>\n",
       "      <td>-0.9565</td>\n",
       "      <td>washington paul miller denham spring convict late yesterday count produc count possess child pornographi announc general lanni breuer crimin donald cazayoux middl louisiana miller convict feder juri follow judg jame bradi presid evid present show octob miller sexual abus year girl year girl produc numer photograph abus accord evid forens examin miller comput reveal miller use comput print possess numer imag child pornographi includ imag child pornographi produc imag child victim miller face maximum statutori sentenc year prison count product child pornographi year prison possess child pornographi count prosecut alecia riewert wolak crimin child exploit obscen section ceo richard bourgeoi middl louisiana conduct denham spring polic louisiana general</td>\n",
       "      <td>0.000628</td>\n",
       "      <td>0.001000</td>\n",
       "      <td>0.998371</td>\n",
       "      <td>2</td>\n",
       "    </tr>\n",
       "    <tr>\n",
       "      <th>8353</th>\n",
       "      <td>11-1331</td>\n",
       "      <td>Massachusetts Man Pleads Guilty to Receiving and Possessing Child Pornography</td>\n",
       "      <td>WASHINGTON –    A Springfield, Mass., man pleaded guilty today to receiving and possessing child pornography, announced Assistant Attorney General Lanny A. Breuer of the Criminal Division.       Robert Rosenbeck, 48, pleaded guilty before U.S. District Judge Denise J. Casper in Boston to one count of receipt of child pornography and two counts of possession of child pornography.  He was indicted on those charges on Dec. 10, 2009.        According to court documents, Rosenbeck possessed two different computers containing child pornography in 2007.  Additionally, from approximately July 22, 2007, to July 25, 2007, Rosenbeck received computer files containing child pornography from an Internet website.                 At sentencing, scheduled for Dec. 5, 2011, Rosenbeck faces a maximum statutory sentence of 20 years in prison for the receipt of child pornography count and 10 years in prison for each count of possession of child pornography.  Rosenbeck also faces a term of supervised release of at least five years and up to life.       The case is being prosecuted by Trial Attorneys Alecia Riewerts Wolak and Michael W. Grant of the Criminal Division’s Child Exploitation and Obscenity Section (CEOS).  The investigation was conducted by the FBI with assistance provided by the Springfield Police Department.</td>\n",
       "      <td>2011-10-06T00:00:00-04:00</td>\n",
       "      <td>Project Safe Childhood</td>\n",
       "      <td>Criminal Division</td>\n",
       "      <td>0.008</td>\n",
       "      <td>0.874</td>\n",
       "      <td>0.008</td>\n",
       "      <td>-0.9451</td>\n",
       "      <td>washington springfield mass plead guilti today receiv possess child pornographi announc general lanni breuer crimin robert rosenbeck plead guilti judg denis casper boston count receipt child pornographi count possess child pornographi indict charg accord court document rosenbeck possess differ comput contain child pornographi addit approxim juli juli rosenbeck receiv comput file contain child pornographi internet websit sentenc schedul rosenbeck face maximum statutori sentenc year prison receipt child pornographi count year prison count possess child pornographi rosenbeck also face term supervis releas least five year life prosecut attorney alecia riewert wolak michael grant crimin child exploit obscen section ceo conduct provid springfield polic</td>\n",
       "      <td>0.000636</td>\n",
       "      <td>0.001012</td>\n",
       "      <td>0.998352</td>\n",
       "      <td>2</td>\n",
       "    </tr>\n",
       "    <tr>\n",
       "      <th>7618</th>\n",
       "      <td>17-242</td>\n",
       "      <td>Justice Department Sues Edmonds, Washington Landlords for Discriminating Against Families With Children</td>\n",
       "      <td>The U.S. Department of Justice today filed a lawsuit in U.S. District Court for the Western District of Washington alleging that the owners and manager of three Edmonds, Washington apartment buildings refused to rent their apartments to families with children, in violation of the Fair Housing Act.    “The Fair Housing Act prohibits landlords from denying apartments to families just because they have children,” said Acting Assistant Attorney General Tom Wheeler of the Justice Department’s Civil Rights Division. “Many families already face challenges finding affordable housing, and they should not also have to deal with unlawful discrimination.”   “Equal access to housing is essential for all Americans, including families with young children,” said U.S. Attorney Annette L. Hayes of the Western District of Washington. “Particularly in our tight housing market, landlords must follow the law and make units available without discrimination based on race, color, religion, sex, national origin, disability or familial status.”   The complaint concerns three apartment buildings – located at 201 5th Ave. N., 621 5th Ave. S., and 401 Pine Street in Edmonds – that are managed by defendant Debbie A. Appleby, of Stanwood, Washington. The properties are owned by three Limited Liability Corporations (LLCs) controlled by Appleby – Apple One, LLC, Apple Two, LLC, and Apple Three, LLC—which are also named as defendants in the suit. The complaint alleges that in March 2014, defendant Appleby told a woman seeking an apartment for herself, her husband, and their one year old child that the apartment buildings were “adult only” and therefore not available to her family. The complaint also alleges that at various other times from April 2014 to November 2015, defendants advertised their available apartments as being restricted to adults only. The family filed a complaint with the Department of Housing and Urban Development (“HUD”) which conducted an investigation, issued a charge of discrimination against the defendants, and referred the case to the Department of Justice.    The complaint seeks a court order requiring defendants to cease their discriminatory housing practices, damages for the family that filed the HUD complaint and any other families against whom the defendants discriminated against because they had children, and civil penalties. Any individuals who have information relevant to this case are encouraged to contact the Civil Rights Division at 1-800-896-7743, Option 96.   The federal Fair Housing Act prohibits discrimination in housing on the basis of race, color, religion, sex, familial status, national origin and disability. More information about the Civil Rights Division and the civil rights laws it enforces is available at www.usdoj.gov/crt  and https://www.justice.gov/usao-wdwa/civil-rights. Individuals who believe that they have been victims of housing discrimination may call the Justice Department at 1-800-896-7743, email the Justice Department at fairhousing@usdoj.gov, or contact HUD at 1-800-669-9777 or through its website at www.hud.gov.   The case is being jointly handled by the Department’s Civil Rights Division and the U.S. Attorney’s Office for the Western District of Washington.   The complaint is an allegation of unlawful conduct. The allegations must still be proven in federal court.</td>\n",
       "      <td>2017-03-03T00:00:00-05:00</td>\n",
       "      <td>Civil Rights</td>\n",
       "      <td>Civil Rights Division; Civil Rights - Housing and Civil Enforcement Section; USAO - Washington, Western</td>\n",
       "      <td>0.009</td>\n",
       "      <td>0.912</td>\n",
       "      <td>0.009</td>\n",
       "      <td>-0.9753</td>\n",
       "      <td>today file lawsuit court western washington alleg owner manag three edmond washington apart build refus rent apart famili children violat fair hous fair hous prohibit landlord deni apart famili children said act general wheeler mani famili alreadi face challeng find afford hous also deal unlaw discrimin equal access hous essenti american includ famili young children said annett hay western washington particular tight hous market landlord must follow make unit avail without discrimin base race color religion nation origin disabl famili status complaint concern three apart build locat pine street edmond manag defend debbi applebi stanwood washington properti own three limit liabil corpor llcs control applebi appl appl appl three also name defend suit complaint alleg march defend applebi told woman seek apart husband year child apart build adult therefor avail famili complaint also alleg various time april novemb defend advertis avail apart restrict adult famili file complaint hous urban develop conduct issu charg discrimin defend refer complaint seek court order requir defend ceas discriminatori hous practic damag famili file complaint famili defend discrimin children penalti individu inform relev encourag contact option feder fair hous prohibit discrimin hous basi race color religion famili status nation origin disabl inform law enforc avail usdoj https usao wdwa individu believ victim hous discrimin call email fairhous usdoj contact websit joint handl western washington complaint alleg unlaw conduct alleg must still proven feder court</td>\n",
       "      <td>0.999255</td>\n",
       "      <td>0.000471</td>\n",
       "      <td>0.000274</td>\n",
       "      <td>0</td>\n",
       "    </tr>\n",
       "    <tr>\n",
       "      <th>8847</th>\n",
       "      <td>17-550</td>\n",
       "      <td>Mother Sentenced to 26 Months in Prison for Taking Child from Illinois to Canada in International Parental Kidnapping Case</td>\n",
       "      <td>A Canadian woman was sentenced to serve 26 months in prison following her December conviction for international parental kidnapping, announced Acting Assistant Attorney General Kenneth A. Blanco of the Justice Department’s Criminal Division and Acting U.S. Attorney Patrick D. Hansen of the Central District of Illinois.   Sarah M. Nixon, 48, of Montreal, Canada, was sentenced before U.S. District Judge Colin S. Bruce of the Central District of Illinois. On Dec. 21, 2016, a federal jury found Nixon guilty of one count of international parental kidnapping for taking her minor child from the United States to Canada in July 2015, with the intent to obstruct the lawful exercise of the father’s rights.   Evidence at trial established that after a custody trial where it was apparent that Nixon would lose custody of her six-year-old daughter, Nixon fled the United States with the child in the middle of the night. When she did not appear for the custody ruling and neither she nor her daughter could be located, law enforcement issued a child abduction alert. Nixon and the child were eventually located in a farmhouse in rural Ontario, Canada. Authorities then returned the child to the father. Nixon was arrested in New York on Sept. 20, 2015, as she attempted to return to the United States.    Trial Attorneys Elly M. Peirson and Lauren S. Kupersmith of the Criminal Division’s Child Exploitation and Obscenity Section prosecuted the case. The FBI; Urbana, Illinois, Police Department; University of Illinois Police Department; Illinois Department of Children and Family Services; Ontario Provincial Police; and U.S. Customs and Border Protection investigated the case, with assistance from the Champaign County, Illinois, State’s Attorney’s Office and the Criminal Division’s Office of International Affairs.</td>\n",
       "      <td>2017-05-19T00:00:00-04:00</td>\n",
       "      <td>Project Safe Childhood</td>\n",
       "      <td>Criminal Division; Criminal - Child Exploitation and Obscenity Section; USAO - Illinois, Central</td>\n",
       "      <td>0.010</td>\n",
       "      <td>0.894</td>\n",
       "      <td>0.010</td>\n",
       "      <td>-0.9460</td>\n",
       "      <td>canadian woman sentenc serv month prison follow decemb convict intern parent kidnap announc act general kenneth blanco crimin act patrick hansen central illinoi sarah nixon montreal canada sentenc judg colin bruce central illinoi feder juri found nixon guilti count intern parent kidnap take minor child unit state canada juli intent obstruct law exercis father evid establish custodi appar nixon would lose custodi year daughter nixon fled unit state child middl night appear custodi rule neither daughter could locat enforc issu child abduct alert nixon child eventu locat farmhous rural ontario canada author return child father nixon arrest york sept attempt return unit state attorney elli peirson lauren kupersmith crimin child exploit obscen section prosecut urbana illinoi polic univers illinoi polic illinoi children famili servic ontario provinci polic custom border protect investig champaign counti illinoi state crimin intern affair</td>\n",
       "      <td>0.000651</td>\n",
       "      <td>0.214084</td>\n",
       "      <td>0.785265</td>\n",
       "      <td>2</td>\n",
       "    </tr>\n",
       "    <tr>\n",
       "      <th>...</th>\n",
       "      <td>...</td>\n",
       "      <td>...</td>\n",
       "      <td>...</td>\n",
       "      <td>...</td>\n",
       "      <td>...</td>\n",
       "      <td>...</td>\n",
       "      <td>...</td>\n",
       "      <td>...</td>\n",
       "      <td>...</td>\n",
       "      <td>...</td>\n",
       "      <td>...</td>\n",
       "      <td>...</td>\n",
       "      <td>...</td>\n",
       "      <td>...</td>\n",
       "      <td>...</td>\n",
       "    </tr>\n",
       "    <tr>\n",
       "      <th>6089</th>\n",
       "      <td>18-119</td>\n",
       "      <td>Justice Department Announces Religious Liberty Update to U.S. Attorneys’ Manual and Directs the Designation of Religious Liberty Point of Contact for All U.S. Attorney's Offices</td>\n",
       "      <td>The Department of Justice today announced the update of the United States Attorneys’ Manual (USAM) with a new section titled, “Associate Attorney General’s Approval and Notice Requirements for Issues Implicating Religious Liberty.” On Oct. 6, 2017, the Attorney General issued a Memorandum for All Executive Departments and Agencies entitled Federal Law Protections for Religious Liberty. The memo directed components and United States Attorney’s Offices to use the guidance in litigation, advice to the Executive Branch, operations, grants, and all other aspects of the Department’s work. In order to ensure compliance with the Attorney General’s memo, the USAM will be updated with language that directs relevant Department of Justice components to: The updated USAM will also instruct relevant Justice Department components to consult the 20 religious liberty principles laid out in the Attorney General’s October 6 memo when considering whether the notice or approval requirements are initiated. In order to fully effectuate the approval and notice requirements in the updated USAM, the Department will instruct all U.S. Attorneys to designate a point of contact to lead these efforts for their office. “Religious liberty is an inalienable right protected by the Constitution, and defending it is one of the most important things we do at the Department of Justice,” said Associate Attorney General Rachel Brand. At President Trump's direction, Attorney General Sessions issued a robust and clear guidance document in October that clearly explains how the federal government is to apply the religious liberty protections currently on the books.  The requirement that each of the U.S. Attorney offices designate a religious liberty point of contact will ensure that the Attorney General’s Memorandum is effectively implemented. The designees will be responsible for working directly with the leadership offices on civil cases related to religious liberty, ensuring that these cases receive the rigorous attention they deserve.</td>\n",
       "      <td>2018-01-31T00:00:00-05:00</td>\n",
       "      <td>Civil Rights</td>\n",
       "      <td>Civil Rights Division; Office of the Associate Attorney General</td>\n",
       "      <td>0.199</td>\n",
       "      <td>0.788</td>\n",
       "      <td>0.199</td>\n",
       "      <td>0.9944</td>\n",
       "      <td>today announc updat unit state attorney manual usam section titl associ general approv notic requir issu implic religi liberti general issu memorandum execut depart agenc entitl feder protect religi liberti memo direct compon unit state offic guidanc litig advic execut branch oper grant aspect work order ensur complianc general memo usam updat languag direct relev compon updat usam also instruct relev compon consult religi liberti principl laid general octob memo consid whether notic approv requir initi order fulli effectu approv notic requir updat usam instruct attorney design point contact lead effort religi liberti inalien right protect constitut defend import thing said associ general rachel brand presid trump direct general session issu robust clear guidanc document octob clear explain feder govern appli religi liberti protect current book requir offic design religi liberti point contact ensur general memorandum effect implement designe respons work direct leadership offic case relat religi liberti ensur case receiv rigor attent deserv</td>\n",
       "      <td>0.998535</td>\n",
       "      <td>0.000925</td>\n",
       "      <td>0.000540</td>\n",
       "      <td>0</td>\n",
       "    </tr>\n",
       "    <tr>\n",
       "      <th>6733</th>\n",
       "      <td>16-1321</td>\n",
       "      <td>Justice Department Reaches Agreement with City of Yonkers, New York, to Enhance Police Department Policies and Procedures</td>\n",
       "      <td>The Justice Department announced today that it has reached an agreement with the city of Yonkers, New York, and the Yonkers Police Department (YPD) to resolve the department’s investigation of YPD and ensure constitutional policing. The agreement is the result of the department’s investigation of YPD under the Violent Crime Control and Law Enforcement Act of 1994 and the Omnibus Crime Control and Safe Streets Act of 1968.  In June 2009, the United States sent the city a technical assistance letter that identified necessary reforms to YPD practices and policies in the areas of use of force, civilian complaints, investigations, supervisory oversight and training.  After receiving the department’s technical assistance letter, the city and YPD made substantial changes to its policies and procedures.  This agreement implements and further improves those policies and procedures and addresses the department’s remaining concerns.  “This agreement will ensure that the Yonkers Police Department continues to advance constitutional, effective and community-oriented policing,” said Principal Deputy Assistant Attorney General Vanita Gupta, head of the Justice Department’s Civil Rights Division.  “Through clear policy guidance, data analysis and accountability systems, we believe these reforms will make the entire community safer and strengthen public trust in the police.” “This agreement ensures that the Yonkers Police Department polices in a way that keeps its citizens safe, while protecting their constitutional rights,” said U.S. Attorney Preet Bharara of the Southern District of New York.  “The measures put in place with this agreement, including clear and reasonable use-of-force policies and guidance on how to properly evaluate and respond to use-of-force incidents, will make Yonkers safer for citizens and police alike.  We thank the Yonkers Police Department and the city of Yonkers for cooperating with our investigation, and for joining our effort to ensure that the Yonkers Police Department protects its citizens not only from physical harm, but also from violations of their constitutional rights.” The agreement is carefully tailored to address the department’s remaining concerns while also taking into account and seeking to build upon the positive reforms YPD has already made following the department’s investigation.  Under the agreement, the YPD will, among other things: The agreement also provides that consultants retained by the department will conduct compliance reviews to ensure that YPD has implemented the measures required by the agreement and issue public reports of those compliance reviews. This case is being handled by the Civil Rights Division’s Special Litigation Section and the U.S. Attorney’s Office of the Southern District of New York. Yonkers Police Department Agreement</td>\n",
       "      <td>2016-11-14T00:00:00-05:00</td>\n",
       "      <td>Civil Rights</td>\n",
       "      <td>Civil Rights Division; Civil Rights - Special Litigation Section; USAO - New York, Southern</td>\n",
       "      <td>0.199</td>\n",
       "      <td>0.778</td>\n",
       "      <td>0.199</td>\n",
       "      <td>0.9950</td>\n",
       "      <td>announc today reach agreement citi yonker york yonker polic resolv ensur constitut polic agreement result violent crime control enforc omnibus crime control safe street june unit state sent citi technic letter identifi necessari reform practic polici area forc civilian complaint investig supervisori oversight train receiv technic letter citi made substanti chang polici procedur agreement implement improv polici procedur address remain concern agreement ensur yonker polic continu advanc constitut effect communiti orient polic said princip deputi general vanita gupta head clear polici guidanc data analysi account system believ reform make entir communiti safer strengthen public trust polic agreement ensur yonker polic polic keep citizen safe protect constitut said preet bharara southern york measur place agreement includ clear reason forc polici guidanc proper evalu respond forc incid make yonker safer citizen polic alik thank yonker polic citi yonker cooper join effort ensur yonker polic protect citizen physic harm also violat constitut agreement care tailor address remain concern also take account seek build upon posit reform alreadi made follow agreement among thing agreement also provid consult retain conduct complianc review ensur implement measur requir agreement issu public report complianc review handl special litig section southern york yonker polic agreement</td>\n",
       "      <td>0.999066</td>\n",
       "      <td>0.000590</td>\n",
       "      <td>0.000344</td>\n",
       "      <td>0</td>\n",
       "    </tr>\n",
       "    <tr>\n",
       "      <th>6905</th>\n",
       "      <td>16-740</td>\n",
       "      <td>Justice Department Reaches Settlement to Reform Criminal Justice System in Hinds County, Mississippi</td>\n",
       "      <td>The Justice Department today reached a landmark settlement agreement to reform the criminal justice system in Hinds County, Mississippi.  The agreement resolves the department’s findings that the Hinds County Adult Detention Center and the Jackson City Detention Center – which together form the Hinds County Jail – failed to protect prisoners from violence and excessive force and held them past their court-ordered release dates, in violation of the Civil Rights of Institutionalized Persons Act (CRIPA). The settlement agreement is the first of its kind to incorporate broader criminal justice system reform through diversion at the front end and reentry to the community after incarceration.  It creates a criminal justice coordinating committee that will help ensure the county’s systems operate effectively and efficiently, develop interventions to divert individuals in appropriate cases from arrest, detention and incarceration, and engage in community outreach.  To promote successful reentry, the agreement includes mechanisms for notifying community health providers when a person with serious mental illness is released to help the person transition safely back to the community.  The agreement also addresses unlawful enforcement of court-ordered fines and fees by ensuring that the county cannot incarcerate an individual for non-payment if the court does not first assess whether the individual is indigent. “Across the board, this settlement will make the Hinds County criminal justice system smarter and fairer,” said Principal Deputy Assistant Attorney General Vanita Gupta, head of the Justice Department’s Civil Rights Division.  “If implemented, these reforms will make pretrial detainees, prisoners, corrections staff and the entire community safer, while also ensuring that vulnerable individuals get access to the treatment, care and community services they need and deserve.  We commend the county for its commitment to making these reforms a reality.” “For too long, the conditions in the Jail have posed a serious challenge to law enforcement and the safety of our community,” said U.S. Attorney Gregory K. Davis of the Southern District of Mississippi.  “I appreciate the commitment made by Hinds County officials to turn the page and begin making necessary reforms.” The settlement agreement – subject to approval by the U.S. District Court of the Southern District of Mississippi – requires the county to implement a series of reforms across various stages of the criminal justice system, including the following: Together these reforms aim to improve communication and coordination among criminal justice entities and community service providers to help individuals with mental illness transition back to the community and to reduce recidivism.  If approved by the federal district court, an independent monitor will be appointed to assess the county’s compliance.  In May 2015, the Justice Department completed a comprehensive investigation – which included on-site inspections, document reviews and stakeholder interviews by department experts and staff – and issued a findings letter that determined that Hinds County Adult Detention Center and the Jackson City Detention Center violated CRIPA by failing to protect prisoners from violence by other prisoners and from improper use of force by staff.  The department also found that inadequate staffing and training, a backlog in record filing and a lack of centralized information resulted in prisoners being held beyond court-ordered release dates. CRIPA authorizes the department to seek a remedy for a pattern or practice of conduct that violates the constitutional rights of persons confined in a jail, prison or other correctional facility.  For more information on the Civil Rights Division’s work in this area, please visit www.justice.gov/crt. Hinds County Settlement Agreement Hinds County Fact Sheet</td>\n",
       "      <td>2016-06-23T00:00:00-04:00</td>\n",
       "      <td>Civil Rights</td>\n",
       "      <td>Civil Rights Division; Civil Rights - Special Litigation Section; USAO - Mississippi, Southern</td>\n",
       "      <td>0.205</td>\n",
       "      <td>0.659</td>\n",
       "      <td>0.205</td>\n",
       "      <td>0.9888</td>\n",
       "      <td>today reach landmark settlement agreement reform crimin system hind counti mississippi agreement resolv find hind counti adult detent center jackson citi detent center togeth form hind counti jail fail protect prison violenc excess forc held past court order releas date violat institution person cripa settlement agreement first kind incorpor broader crimin system reform divers front reentri communiti incarcer creat crimin coordin committe help ensur counti system oper effect effici develop intervent divert individu appropri case arrest detent incarcer engag communiti outreach promot success reentri agreement includ mechan notifi communiti health provid person serious mental ill releas help person transit safe back communiti agreement also address unlaw enforc court order fine fee ensur counti cannot incarcer individu payment court first assess whether individu indig across board settlement make hind counti crimin system smarter fairer said princip deputi general vanita gupta head implement reform make pretrial detaine prison correct staff entir communiti safer also ensur vulner individu access treatment care communiti servic need deserv commend counti commit make reform realiti long condit jail pose serious challeng enforc safeti communiti said gregori davi southern mississippi appreci commit made hind counti offici turn page begin make necessari reform settlement agreement subject approv court southern mississippi requir counti implement seri reform across various stage crimin system includ follow togeth reform improv communic coordin among crimin entiti communiti servic provid help individu mental ill transit back communiti reduc recidiv approv feder court independ monitor appoint assess counti complianc complet comprehens includ site inspect document review stakehold interview expert staff issu find letter determin hind counti adult detent center jackson citi detent center violat cripa fail protect prison violenc prison improp forc staff also found inadequ staf train backlog record file lack central inform result prison held beyond court order releas date cripa author seek remedi pattern practic conduct violat constitut person confin jail prison correct facil inform work area pleas visit hind counti settlement agreement hind counti fact sheet</td>\n",
       "      <td>0.887984</td>\n",
       "      <td>0.111796</td>\n",
       "      <td>0.000220</td>\n",
       "      <td>0</td>\n",
       "    </tr>\n",
       "    <tr>\n",
       "      <th>11066</th>\n",
       "      <td>16-163</td>\n",
       "      <td>Statement from Head of the Civil Rights Division Vanita Gupta Regarding Ferguson, Missouri, City Council Vote on Proposed Consent Decree</td>\n",
       "      <td>Principal Deputy Assistant Attorney General Vanita Gupta, head of the Justice Department’s Civil Rights Division, released the following statement regarding the Ferguson, Missouri, City Council vote on the proposed consent decree with the Department of Justice:  “The Ferguson City Council has attempted to unilaterally amend the negotiated agreement.  Their vote to do so creates an unnecessary delay in the essential work to bring constitutional policing to the city, and marks an unfortunate outcome for concerned community members and Ferguson police officers.  Both parties engaged in thoughtful negotiations over many months to create an agreement with cost-effective remedies that would ensure Ferguson brings policing and court practices in line with the Constitution.  The agreement already negotiated by the department and the city will provide Ferguson residents a police department and municipal court that fully respects civil rights and operates free from racial discrimination. “The Department of Justice will take the necessary legal actions to ensure that Ferguson’s policing and court practices comply with the Constitution and relevant federal laws.”</td>\n",
       "      <td>2016-02-10T00:00:00-05:00</td>\n",
       "      <td>Civil Rights</td>\n",
       "      <td>Civil Rights Division; Civil Rights - Special Litigation Section</td>\n",
       "      <td>0.217</td>\n",
       "      <td>0.752</td>\n",
       "      <td>0.217</td>\n",
       "      <td>0.9811</td>\n",
       "      <td>princip deputi general vanita gupta head releas follow statement regard ferguson missouri citi council vote propos consent decre ferguson citi council attempt unilater amend negoti agreement vote creat unnecessari delay essenti work bring constitut polic citi mark unfortun outcom concern communiti member ferguson polic offic parti engag thought negoti mani month creat agreement cost effect remedi would ensur ferguson bring polic court practic line constitut agreement alreadi negoti citi provid ferguson resid polic municip court fulli respect oper free racial discrimin take necessari legal action ensur ferguson polic court practic compli constitut relev feder law</td>\n",
       "      <td>0.997998</td>\n",
       "      <td>0.001264</td>\n",
       "      <td>0.000737</td>\n",
       "      <td>0</td>\n",
       "    </tr>\n",
       "    <tr>\n",
       "      <th>6727</th>\n",
       "      <td>16-217</td>\n",
       "      <td>Justice Department Reaches Agreement with the City of Miami and the Miami Police Department to Implement Reforms on Officer-Involved Shootings</td>\n",
       "      <td>The Justice Department has reached a comprehensive settlement agreement with the city of Miami and the Miami Police Department (MPD) resolving the Justice Department’s investigation of officer-involved shootings by MPD officers, announced Principal Deputy Assistant Attorney General Vanita Gupta, head of the Justice Department’s Civil Rights Division and U.S. Attorney Wifredo A. Ferrer of the Southern District of Florida. The settlement, which was approved by Miami’s city commission today and will go into effect when the agreement is signed by all parties, resolves claims stemming from the Justice Department’s investigation into officer-involved shootings by MPD officers, which was conducted under the Violent Crime Control and Law Enforcement Act of 1994.  The investigation’s findings, issued in July 2013, identified a pattern or practice of excessive use of force through officer-involved shootings in violation of the Fourth Amendment of the Constitution.  The city’s compliance with the settlement will be monitored by an independent reviewer, former Tampa, Florida, Police Chief Jane Castor.  Under the settlement agreement, the city will implement comprehensive reforms to ensure constitutional policing and support public trust.  The settlement agreement is designed to minimize officer-involved shootings and to more effectively and quickly investigate officer-involved shootings that do occur, through measures that include: “This settlement represents a renewed commitment by the city of Miami and Chief Rodolfo Llanes to provide constitutional policing for Miami residents and to protect public safety through sustainable reform,” said Principal Deputy Assistant Attorney General Gupta.  “The agreement will help to strengthen the relationship between the MPD and the communities they serve by improving accountability for officers who fire their weapons unlawfully, and provides for community participation in the enforcement of this agreement.”  “Today's agreement is the result of a joint effort between the Department of Justice and the City of Miami to ensure that the Miami Police Department continues its efforts to make our community safe while protecting the sacred Constitutional rights of all of our citizens,” said U.S. Attorney Ferrer.  “Through oversight and communication, the agreement seeks to make permanent the positive changes that former Chief Orosa and Chief Llanes have made, and we applaud the City Commission’s vote.” The settlement agreement builds upon important reforms implemented by the city since the Justice Department issued its findings, including:  The investigation was conducted by attorneys and staff from the Civil Rights Division’s Special Litigation Section and the Civil Division of the U. S. Attorney’s Office of the Southern District of Florida.</td>\n",
       "      <td>2016-02-25T00:00:00-05:00</td>\n",
       "      <td>Civil Rights</td>\n",
       "      <td>Civil Rights Division; Civil Rights - Special Litigation Section; USAO - Florida, Southern</td>\n",
       "      <td>0.222</td>\n",
       "      <td>0.755</td>\n",
       "      <td>0.222</td>\n",
       "      <td>0.9966</td>\n",
       "      <td>reach comprehens settlement agreement citi miami miami polic resolv offic involv shoot offic announc princip deputi general vanita gupta head wifredo ferrer southern florida settlement approv miami citi commiss today effect agreement sign parti resolv claim stem offic involv shoot offic conduct violent crime control enforc find issu juli identifi pattern practic excess forc offic involv shoot violat fourth amend constitut citi complianc settlement monitor independ review former tampa florida polic chief jane castor settlement agreement citi implement comprehens reform ensur constitut polic support public trust settlement agreement design minim offic involv shoot effect quick investig offic involv shoot occur measur includ settlement repres renew commit citi miami chief rodolfo llane provid constitut polic miami resid protect public safeti sustain reform said princip deputi general gupta agreement help strengthen relationship communiti serv improv account offic fire weapon unlaw provid communiti particip enforc agreement today agreement result joint effort citi miami ensur miami polic continu effort make communiti safe protect sacr constitut citizen said ferrer oversight communic agreement seek make perman posit chang former chief orosa chief llane made applaud citi commiss vote settlement agreement build upon import reform implement citi sinc issu find includ conduct attorney staff special litig section southern florida</td>\n",
       "      <td>0.999153</td>\n",
       "      <td>0.000535</td>\n",
       "      <td>0.000312</td>\n",
       "      <td>0</td>\n",
       "    </tr>\n",
       "  </tbody>\n",
       "</table>\n",
       "<p>717 rows × 15 columns</p>\n",
       "</div>"
      ],
      "text/plain": [
       "            id  \\\n",
       "Index            \n",
       "5247    18-913   \n",
       "8075   11-1245   \n",
       "8353   11-1331   \n",
       "7618    17-242   \n",
       "8847    17-550   \n",
       "...        ...   \n",
       "6089    18-119   \n",
       "6733   16-1321   \n",
       "6905    16-740   \n",
       "11066   16-163   \n",
       "6727    16-217   \n",
       "\n",
       "                                                                                                                                                                                   title  \\\n",
       "Index                                                                                                                                                                                      \n",
       "5247                                                                                         Grapevine Texas Man Pleads Guilty to Federal Hate Crime  Against an African-American Family   \n",
       "8075                                                                                                               Louisiana Man Convicted of Producing and Possessing Child Pornography   \n",
       "8353                                                                                                       Massachusetts Man Pleads Guilty to Receiving and Possessing Child Pornography   \n",
       "7618                                                                             Justice Department Sues Edmonds, Washington Landlords for Discriminating Against Families With Children   \n",
       "8847                                                          Mother Sentenced to 26 Months in Prison for Taking Child from Illinois to Canada in International Parental Kidnapping Case   \n",
       "...                                                                                                                                                                                  ...   \n",
       "6089   Justice Department Announces Religious Liberty Update to U.S. Attorneys’ Manual and Directs the Designation of Religious Liberty Point of Contact for All U.S. Attorney's Offices   \n",
       "6733                                                           Justice Department Reaches Agreement with City of Yonkers, New York, to Enhance Police Department Policies and Procedures   \n",
       "6905                                                                                Justice Department Reaches Settlement to Reform Criminal Justice System in Hinds County, Mississippi   \n",
       "11066                                           Statement from Head of the Civil Rights Division Vanita Gupta Regarding Ferguson, Missouri, City Council Vote on Proposed Consent Decree   \n",
       "6727                                      Justice Department Reaches Agreement with the City of Miami and the Miami Police Department to Implement Reforms on Officer-Involved Shootings   \n",
       "\n",
       "                                                                                                                                                                                                                                                                                                                                                                                                                                                                                                                                                                                                                                                                                                                                                                                                                                                                                                                                                                                                                                                                                                                                                                                                                                                                                                                                                                                                                                                                                                                                                                                                                                                                                                                                                                                                                                                                                                                                                                                                                                                                                                                                                                                                                                                                                                                                                                                                                                                                                                                                                                                                                                                                                                                                                                                                                                                                                                                                                                                                                                                                                                                                                                                                                                                                                                                                                                                                                                                                                                                                                                                                                                                                                                                                                                                                                                                                                                                                                                                                                                                    contents  \\\n",
       "Index                                                                                                                                                                                                                                                                                                                                                                                                                                                                                                                                                                                                                                                                                                                                                                                                                                                                                                                                                                                                                                                                                                                                                                                                                                                                                                                                                                                                                                                                                                                                                                                                                                                                                                                                                                                                                                                                                                                                                                                                                                                                                                                                                                                                                                                                                                                                                                                                                                                                                                                                                                                                                                                                                                                                                                                                                                                                                                                                                                                                                                                                                                                                                                                                                                                                                                                                                                                                                                                                                                                                                                                                                                                                                                                                                                                                                                                                                                                                                                                                                                                          \n",
       "5247                                                                                                                                                                                                                                                                                                                                                                                                                                                                                                                                                                                                                                                                                                                                                                                                                                                                                                                                                                                                                                                                                                                                                                                                                                                                                                                                                                                                                                                                                                                                                                                                                                                                                                                                                                              Glenn Eugene Halfin, 64, from Grapevine, Texas, appeared today before U.S. Magistrate Judge Jeffrey L. Cureton in the U.S. District Court for the Northern District of Texas and pleaded guilty to a federal charge of interfering with an African-American family’s housing rights, announced Acting Assistant Attorney General John Gore of the Civil Rights Division and U.S. Attorney Erin Nealy Cox of the Northern District of Texas. According to court documents, Halfin threatened force, intimidated, and interfered with a family because of their race and occupancy of an apartment that was located directly above his own apartment.  According to documents filed in connection with the guilty plea, on Dec. 19, 2017, Halfin purchased a baby doll at a Wal-Mart in Grapevine, Texas. He took a rope, fashioned it into a noose, and hung the baby doll from the noose. Halfin then hung the rope noose and baby doll on the railing directly in front of the only staircase the family could use to access their apartment. Halfin did so, knowing that this display would be particularly intimidating for the family who had a young daughter. In addition, the defendant referenced in his factual basis repeated intimidation of and interference with the same African-American family on other occasions. “The Justice Department will not tolerate acts of intimidation and fear, or illegal threats against any individual or family because of their race,” said Acting Assistant Attorney John Gore. “We will continue to prosecute hate crime offenders.” “No one should be afraid to go home at night,” said U.S. Attorney Erin Nealy Cox.  “Our community will not tolerate crimes of intimidation or bigotry, and my office will continue to prosecute all those who persecute others based on their race, color, ethnicity, or religious beliefs.” Halfin faces a statutory maximum penalty of no more one year in federal prison and a $100,000 fine. His sentencing is scheduled for October 24. This case was investigated by the FBI and the Grapevine Police Department. The case was prosecuted by Trial Attorney Rebekah Bailey of the Civil Rights Division’s Criminal Section and Assistant United States Attorney Nicole Dana.   \n",
       "8075                                                                                                                                                                                                                                                                                                                                                                                                                                                                                                                                                                                                                                                                                                                                                                                                                                                                                                                                                                                                                                                                                                                                                                                                                                                                                                                                                                                                                                                                                                                                                                                                                                                                                                                                                                                                                                                                                                                                                                                                                                                                                                                                                                                                                                                                                                                                                                                                                                                                                                             WASHINGTON –    Paul W. Miller, of Denham Springs, La., was convicted late yesterday of two counts of producing and one count of possessing child pornography, announced Assistant Attorney General Lanny A. Breuer of the Criminal Division and U.S. Attorney Donald J. Cazayoux Jr. of the Middle District of Louisiana.        Miller, 44, was convicted by a federal jury following a two-day trial.  U.S. District Judge James J. Brady presided over the trial.       Evidence presented at trial showed that from October 2007 to May 2008, Miller sexually abused a 12-year-old girl and an 11-year-old girl and produced numerous photographs of the abuse.  According to trial evidence, forensic examination of Miller’s computer revealed that Miller had used his computer to print and possess numerous images of child pornography, including both the images of child pornography he had produced and images of other child victims.                 Miller faces a maximum statutory sentence of 30 years in prison for each count of production of child pornography and 10 years in prison for the possession of child pornography count.       The case is being prosecuted by Trial Attorney Alecia Riewerts Wolak of the Criminal Division’s Child Exploitation and Obscenity Section (CEOS) and Assistant U.S. Attorney Richard L. Bourgeois Jr. of the Middle District of Louisiana.  The investigation was conducted by the FBI, the Denham Springs Police Department and the Louisiana Attorney General’s Office.   \n",
       "8353                                                                                                                                                                                                                                                                                                                                                                                                                                                                                                                                                                                                                                                                                                                                                                                                                                                                                                                                                                                                                                                                                                                                                                                                                                                                                                                                                                                                                                                                                                                                                                                                                                                                                                                                                                                                                                                                                                                                                                                                                                                                                                                                                                                                                                                                                                                                                                                                                                                                                                                                                                                                                                                                               WASHINGTON –    A Springfield, Mass., man pleaded guilty today to receiving and possessing child pornography, announced Assistant Attorney General Lanny A. Breuer of the Criminal Division.       Robert Rosenbeck, 48, pleaded guilty before U.S. District Judge Denise J. Casper in Boston to one count of receipt of child pornography and two counts of possession of child pornography.  He was indicted on those charges on Dec. 10, 2009.        According to court documents, Rosenbeck possessed two different computers containing child pornography in 2007.  Additionally, from approximately July 22, 2007, to July 25, 2007, Rosenbeck received computer files containing child pornography from an Internet website.                 At sentencing, scheduled for Dec. 5, 2011, Rosenbeck faces a maximum statutory sentence of 20 years in prison for the receipt of child pornography count and 10 years in prison for each count of possession of child pornography.  Rosenbeck also faces a term of supervised release of at least five years and up to life.       The case is being prosecuted by Trial Attorneys Alecia Riewerts Wolak and Michael W. Grant of the Criminal Division’s Child Exploitation and Obscenity Section (CEOS).  The investigation was conducted by the FBI with assistance provided by the Springfield Police Department.   \n",
       "7618                                                                                                                                                                                                                                                                                                                                                                                                                                                                                                                                                                 The U.S. Department of Justice today filed a lawsuit in U.S. District Court for the Western District of Washington alleging that the owners and manager of three Edmonds, Washington apartment buildings refused to rent their apartments to families with children, in violation of the Fair Housing Act.    “The Fair Housing Act prohibits landlords from denying apartments to families just because they have children,” said Acting Assistant Attorney General Tom Wheeler of the Justice Department’s Civil Rights Division. “Many families already face challenges finding affordable housing, and they should not also have to deal with unlawful discrimination.”   “Equal access to housing is essential for all Americans, including families with young children,” said U.S. Attorney Annette L. Hayes of the Western District of Washington. “Particularly in our tight housing market, landlords must follow the law and make units available without discrimination based on race, color, religion, sex, national origin, disability or familial status.”   The complaint concerns three apartment buildings – located at 201 5th Ave. N., 621 5th Ave. S., and 401 Pine Street in Edmonds – that are managed by defendant Debbie A. Appleby, of Stanwood, Washington. The properties are owned by three Limited Liability Corporations (LLCs) controlled by Appleby – Apple One, LLC, Apple Two, LLC, and Apple Three, LLC—which are also named as defendants in the suit. The complaint alleges that in March 2014, defendant Appleby told a woman seeking an apartment for herself, her husband, and their one year old child that the apartment buildings were “adult only” and therefore not available to her family. The complaint also alleges that at various other times from April 2014 to November 2015, defendants advertised their available apartments as being restricted to adults only. The family filed a complaint with the Department of Housing and Urban Development (“HUD”) which conducted an investigation, issued a charge of discrimination against the defendants, and referred the case to the Department of Justice.    The complaint seeks a court order requiring defendants to cease their discriminatory housing practices, damages for the family that filed the HUD complaint and any other families against whom the defendants discriminated against because they had children, and civil penalties. Any individuals who have information relevant to this case are encouraged to contact the Civil Rights Division at 1-800-896-7743, Option 96.   The federal Fair Housing Act prohibits discrimination in housing on the basis of race, color, religion, sex, familial status, national origin and disability. More information about the Civil Rights Division and the civil rights laws it enforces is available at www.usdoj.gov/crt  and https://www.justice.gov/usao-wdwa/civil-rights. Individuals who believe that they have been victims of housing discrimination may call the Justice Department at 1-800-896-7743, email the Justice Department at fairhousing@usdoj.gov, or contact HUD at 1-800-669-9777 or through its website at www.hud.gov.   The case is being jointly handled by the Department’s Civil Rights Division and the U.S. Attorney’s Office for the Western District of Washington.   The complaint is an allegation of unlawful conduct. The allegations must still be proven in federal court.   \n",
       "8847                                                                                                                                                                                                                                                                                                                                                                                                                                                                                                                                                                                                                                                                                                                                                                                                                                                                                                                                                                                                                                                                                                                                                                                                                                                                                                                                                                                                                                                                                                                                                                                                                                                                                                                                                                                                                                                                                                                                                                                                                                                                                                                                                              A Canadian woman was sentenced to serve 26 months in prison following her December conviction for international parental kidnapping, announced Acting Assistant Attorney General Kenneth A. Blanco of the Justice Department’s Criminal Division and Acting U.S. Attorney Patrick D. Hansen of the Central District of Illinois.   Sarah M. Nixon, 48, of Montreal, Canada, was sentenced before U.S. District Judge Colin S. Bruce of the Central District of Illinois. On Dec. 21, 2016, a federal jury found Nixon guilty of one count of international parental kidnapping for taking her minor child from the United States to Canada in July 2015, with the intent to obstruct the lawful exercise of the father’s rights.   Evidence at trial established that after a custody trial where it was apparent that Nixon would lose custody of her six-year-old daughter, Nixon fled the United States with the child in the middle of the night. When she did not appear for the custody ruling and neither she nor her daughter could be located, law enforcement issued a child abduction alert. Nixon and the child were eventually located in a farmhouse in rural Ontario, Canada. Authorities then returned the child to the father. Nixon was arrested in New York on Sept. 20, 2015, as she attempted to return to the United States.    Trial Attorneys Elly M. Peirson and Lauren S. Kupersmith of the Criminal Division’s Child Exploitation and Obscenity Section prosecuted the case. The FBI; Urbana, Illinois, Police Department; University of Illinois Police Department; Illinois Department of Children and Family Services; Ontario Provincial Police; and U.S. Customs and Border Protection investigated the case, with assistance from the Champaign County, Illinois, State’s Attorney’s Office and the Criminal Division’s Office of International Affairs.    \n",
       "...                                                                                                                                                                                                                                                                                                                                                                                                                                                                                                                                                                                                                                                                                                                                                                                                                                                                                                                                                                                                                                                                                                                                                                                                                                                                                                                                                                                                                                                                                                                                                                                                                                                                                                                                                                                                                                                                                                                                                                                                                                                                                                                                                                                                                                                                                                                                                                                                                                                                                                                                                                                                                                                                                                                                                                                                                                                                                                                                                                                                                                                                                                                                                                                                                                                                                                                                                                                                                                                                                                                                                                                                                                                                                                                                                                                                                                                                                                                                                                                                                                                      ...   \n",
       "6089                                                                                                                                                                                                                                                                                                                                                                                                                                                                                                                                                                                                                                                                                                                                                                                                                                                                                                                                                                                                                                                                                                                                                                                                                                                                                                                                                                                                                                                                                                                                                                                                                                                                                                                                                                                                                                                                                                                                           The Department of Justice today announced the update of the United States Attorneys’ Manual (USAM) with a new section titled, “Associate Attorney General’s Approval and Notice Requirements for Issues Implicating Religious Liberty.” On Oct. 6, 2017, the Attorney General issued a Memorandum for All Executive Departments and Agencies entitled Federal Law Protections for Religious Liberty. The memo directed components and United States Attorney’s Offices to use the guidance in litigation, advice to the Executive Branch, operations, grants, and all other aspects of the Department’s work. In order to ensure compliance with the Attorney General’s memo, the USAM will be updated with language that directs relevant Department of Justice components to: The updated USAM will also instruct relevant Justice Department components to consult the 20 religious liberty principles laid out in the Attorney General’s October 6 memo when considering whether the notice or approval requirements are initiated. In order to fully effectuate the approval and notice requirements in the updated USAM, the Department will instruct all U.S. Attorneys to designate a point of contact to lead these efforts for their office. “Religious liberty is an inalienable right protected by the Constitution, and defending it is one of the most important things we do at the Department of Justice,” said Associate Attorney General Rachel Brand. At President Trump's direction, Attorney General Sessions issued a robust and clear guidance document in October that clearly explains how the federal government is to apply the religious liberty protections currently on the books.  The requirement that each of the U.S. Attorney offices designate a religious liberty point of contact will ensure that the Attorney General’s Memorandum is effectively implemented. The designees will be responsible for working directly with the leadership offices on civil cases related to religious liberty, ensuring that these cases receive the rigorous attention they deserve.   \n",
       "6733                                                                                                                                                                                                                                                                                                                                                                                                                                                                                                                                                                                                                                                                                                                                                                                                                                                                                                                                                                                                                                                                                                            The Justice Department announced today that it has reached an agreement with the city of Yonkers, New York, and the Yonkers Police Department (YPD) to resolve the department’s investigation of YPD and ensure constitutional policing. The agreement is the result of the department’s investigation of YPD under the Violent Crime Control and Law Enforcement Act of 1994 and the Omnibus Crime Control and Safe Streets Act of 1968.  In June 2009, the United States sent the city a technical assistance letter that identified necessary reforms to YPD practices and policies in the areas of use of force, civilian complaints, investigations, supervisory oversight and training.  After receiving the department’s technical assistance letter, the city and YPD made substantial changes to its policies and procedures.  This agreement implements and further improves those policies and procedures and addresses the department’s remaining concerns.  “This agreement will ensure that the Yonkers Police Department continues to advance constitutional, effective and community-oriented policing,” said Principal Deputy Assistant Attorney General Vanita Gupta, head of the Justice Department’s Civil Rights Division.  “Through clear policy guidance, data analysis and accountability systems, we believe these reforms will make the entire community safer and strengthen public trust in the police.” “This agreement ensures that the Yonkers Police Department polices in a way that keeps its citizens safe, while protecting their constitutional rights,” said U.S. Attorney Preet Bharara of the Southern District of New York.  “The measures put in place with this agreement, including clear and reasonable use-of-force policies and guidance on how to properly evaluate and respond to use-of-force incidents, will make Yonkers safer for citizens and police alike.  We thank the Yonkers Police Department and the city of Yonkers for cooperating with our investigation, and for joining our effort to ensure that the Yonkers Police Department protects its citizens not only from physical harm, but also from violations of their constitutional rights.” The agreement is carefully tailored to address the department’s remaining concerns while also taking into account and seeking to build upon the positive reforms YPD has already made following the department’s investigation.  Under the agreement, the YPD will, among other things: The agreement also provides that consultants retained by the department will conduct compliance reviews to ensure that YPD has implemented the measures required by the agreement and issue public reports of those compliance reviews. This case is being handled by the Civil Rights Division’s Special Litigation Section and the U.S. Attorney’s Office of the Southern District of New York. Yonkers Police Department Agreement   \n",
       "6905   The Justice Department today reached a landmark settlement agreement to reform the criminal justice system in Hinds County, Mississippi.  The agreement resolves the department’s findings that the Hinds County Adult Detention Center and the Jackson City Detention Center – which together form the Hinds County Jail – failed to protect prisoners from violence and excessive force and held them past their court-ordered release dates, in violation of the Civil Rights of Institutionalized Persons Act (CRIPA). The settlement agreement is the first of its kind to incorporate broader criminal justice system reform through diversion at the front end and reentry to the community after incarceration.  It creates a criminal justice coordinating committee that will help ensure the county’s systems operate effectively and efficiently, develop interventions to divert individuals in appropriate cases from arrest, detention and incarceration, and engage in community outreach.  To promote successful reentry, the agreement includes mechanisms for notifying community health providers when a person with serious mental illness is released to help the person transition safely back to the community.  The agreement also addresses unlawful enforcement of court-ordered fines and fees by ensuring that the county cannot incarcerate an individual for non-payment if the court does not first assess whether the individual is indigent. “Across the board, this settlement will make the Hinds County criminal justice system smarter and fairer,” said Principal Deputy Assistant Attorney General Vanita Gupta, head of the Justice Department’s Civil Rights Division.  “If implemented, these reforms will make pretrial detainees, prisoners, corrections staff and the entire community safer, while also ensuring that vulnerable individuals get access to the treatment, care and community services they need and deserve.  We commend the county for its commitment to making these reforms a reality.” “For too long, the conditions in the Jail have posed a serious challenge to law enforcement and the safety of our community,” said U.S. Attorney Gregory K. Davis of the Southern District of Mississippi.  “I appreciate the commitment made by Hinds County officials to turn the page and begin making necessary reforms.” The settlement agreement – subject to approval by the U.S. District Court of the Southern District of Mississippi – requires the county to implement a series of reforms across various stages of the criminal justice system, including the following: Together these reforms aim to improve communication and coordination among criminal justice entities and community service providers to help individuals with mental illness transition back to the community and to reduce recidivism.  If approved by the federal district court, an independent monitor will be appointed to assess the county’s compliance.  In May 2015, the Justice Department completed a comprehensive investigation – which included on-site inspections, document reviews and stakeholder interviews by department experts and staff – and issued a findings letter that determined that Hinds County Adult Detention Center and the Jackson City Detention Center violated CRIPA by failing to protect prisoners from violence by other prisoners and from improper use of force by staff.  The department also found that inadequate staffing and training, a backlog in record filing and a lack of centralized information resulted in prisoners being held beyond court-ordered release dates. CRIPA authorizes the department to seek a remedy for a pattern or practice of conduct that violates the constitutional rights of persons confined in a jail, prison or other correctional facility.  For more information on the Civil Rights Division’s work in this area, please visit www.justice.gov/crt. Hinds County Settlement Agreement Hinds County Fact Sheet   \n",
       "11066                                                                                                                                                                                                                                                                                                                                                                                                                                                                                                                                                                                                                                                                                                                                                                                                                                                                                                                                                                                                                                                                                                                                                                                                                                                                                                                                                                                                                                                                                                                                                                                                                                                                                                                                                                                                                                                                                                                                                                                                                                                                                                                                                                                                                                                                                                                                                                                                                                                                                                                                                                                                                                                                                                                                                                                                                                      Principal Deputy Assistant Attorney General Vanita Gupta, head of the Justice Department’s Civil Rights Division, released the following statement regarding the Ferguson, Missouri, City Council vote on the proposed consent decree with the Department of Justice:  “The Ferguson City Council has attempted to unilaterally amend the negotiated agreement.  Their vote to do so creates an unnecessary delay in the essential work to bring constitutional policing to the city, and marks an unfortunate outcome for concerned community members and Ferguson police officers.  Both parties engaged in thoughtful negotiations over many months to create an agreement with cost-effective remedies that would ensure Ferguson brings policing and court practices in line with the Constitution.  The agreement already negotiated by the department and the city will provide Ferguson residents a police department and municipal court that fully respects civil rights and operates free from racial discrimination. “The Department of Justice will take the necessary legal actions to ensure that Ferguson’s policing and court practices comply with the Constitution and relevant federal laws.”   \n",
       "6727                                                                                                                                                                                                                                                                                                                                                                                                                                                                                                                                                                                                                                                                                                                                                                                                                                                                                                                                                                                                                                                                                                                              The Justice Department has reached a comprehensive settlement agreement with the city of Miami and the Miami Police Department (MPD) resolving the Justice Department’s investigation of officer-involved shootings by MPD officers, announced Principal Deputy Assistant Attorney General Vanita Gupta, head of the Justice Department’s Civil Rights Division and U.S. Attorney Wifredo A. Ferrer of the Southern District of Florida. The settlement, which was approved by Miami’s city commission today and will go into effect when the agreement is signed by all parties, resolves claims stemming from the Justice Department’s investigation into officer-involved shootings by MPD officers, which was conducted under the Violent Crime Control and Law Enforcement Act of 1994.  The investigation’s findings, issued in July 2013, identified a pattern or practice of excessive use of force through officer-involved shootings in violation of the Fourth Amendment of the Constitution.  The city’s compliance with the settlement will be monitored by an independent reviewer, former Tampa, Florida, Police Chief Jane Castor.  Under the settlement agreement, the city will implement comprehensive reforms to ensure constitutional policing and support public trust.  The settlement agreement is designed to minimize officer-involved shootings and to more effectively and quickly investigate officer-involved shootings that do occur, through measures that include: “This settlement represents a renewed commitment by the city of Miami and Chief Rodolfo Llanes to provide constitutional policing for Miami residents and to protect public safety through sustainable reform,” said Principal Deputy Assistant Attorney General Gupta.  “The agreement will help to strengthen the relationship between the MPD and the communities they serve by improving accountability for officers who fire their weapons unlawfully, and provides for community participation in the enforcement of this agreement.”  “Today's agreement is the result of a joint effort between the Department of Justice and the City of Miami to ensure that the Miami Police Department continues its efforts to make our community safe while protecting the sacred Constitutional rights of all of our citizens,” said U.S. Attorney Ferrer.  “Through oversight and communication, the agreement seeks to make permanent the positive changes that former Chief Orosa and Chief Llanes have made, and we applaud the City Commission’s vote.” The settlement agreement builds upon important reforms implemented by the city since the Justice Department issued its findings, including:  The investigation was conducted by attorneys and staff from the Civil Rights Division’s Special Litigation Section and the Civil Division of the U. S. Attorney’s Office of the Southern District of Florida.   \n",
       "\n",
       "                            date            topics_clean  \\\n",
       "Index                                                      \n",
       "5247   2018-07-12T00:00:00-04:00             Hate Crimes   \n",
       "8075   2011-09-22T00:00:00-04:00  Project Safe Childhood   \n",
       "8353   2011-10-06T00:00:00-04:00  Project Safe Childhood   \n",
       "7618   2017-03-03T00:00:00-05:00            Civil Rights   \n",
       "8847   2017-05-19T00:00:00-04:00  Project Safe Childhood   \n",
       "...                          ...                     ...   \n",
       "6089   2018-01-31T00:00:00-05:00            Civil Rights   \n",
       "6733   2016-11-14T00:00:00-05:00            Civil Rights   \n",
       "6905   2016-06-23T00:00:00-04:00            Civil Rights   \n",
       "11066  2016-02-10T00:00:00-05:00            Civil Rights   \n",
       "6727   2016-02-25T00:00:00-05:00            Civil Rights   \n",
       "\n",
       "                                                                                              components_clean  \\\n",
       "Index                                                                                                            \n",
       "5247                                                    Civil Rights Division; Civil Rights - Criminal Section   \n",
       "8075                                                                                         Criminal Division   \n",
       "8353                                                                                         Criminal Division   \n",
       "7618   Civil Rights Division; Civil Rights - Housing and Civil Enforcement Section; USAO - Washington, Western   \n",
       "8847          Criminal Division; Criminal - Child Exploitation and Obscenity Section; USAO - Illinois, Central   \n",
       "...                                                                                                        ...   \n",
       "6089                                           Civil Rights Division; Office of the Associate Attorney General   \n",
       "6733               Civil Rights Division; Civil Rights - Special Litigation Section; USAO - New York, Southern   \n",
       "6905            Civil Rights Division; Civil Rights - Special Litigation Section; USAO - Mississippi, Southern   \n",
       "11066                                         Civil Rights Division; Civil Rights - Special Litigation Section   \n",
       "6727                Civil Rights Division; Civil Rights - Special Litigation Section; USAO - Florida, Southern   \n",
       "\n",
       "         neg    neu    pos  Compound  \\\n",
       "Index                                  \n",
       "5247   0.005  0.806  0.005   -0.9955   \n",
       "8075   0.007  0.887  0.007   -0.9565   \n",
       "8353   0.008  0.874  0.008   -0.9451   \n",
       "7618   0.009  0.912  0.009   -0.9753   \n",
       "8847   0.010  0.894  0.010   -0.9460   \n",
       "...      ...    ...    ...       ...   \n",
       "6089   0.199  0.788  0.199    0.9944   \n",
       "6733   0.199  0.778  0.199    0.9950   \n",
       "6905   0.205  0.659  0.205    0.9888   \n",
       "11066  0.217  0.752  0.217    0.9811   \n",
       "6727   0.222  0.755  0.222    0.9966   \n",
       "\n",
       "                                                                                                                                                                                                                                                                                                                                                                                                                                                                                                                                                                                                                                                                                                                                                                                                                                                                                                                                                                                                                                                                                                                                                                                                                                                                                                                                                                                                                                                                                                                                                                                                                                                                                                                                                                                                                                                                                                                                                                                                                                                                                                                                                                                                                                                                                                                                                                      processed_text  \\\n",
       "Index                                                                                                                                                                                                                                                                                                                                                                                                                                                                                                                                                                                                                                                                                                                                                                                                                                                                                                                                                                                                                                                                                                                                                                                                                                                                                                                                                                                                                                                                                                                                                                                                                                                                                                                                                                                                                                                                                                                                                                                                                                                                                                                                                                                                                                                                                                                                                                                  \n",
       "5247                                                                                                                                                                                                                                                                                                                                                                                                                                                                                                                                                                                                                                                                                                                                                                                                                                                                                                                                                                                                                                                                                                                                                                                                                                    glenn eugen halfin grapevin texa appear today magistr judg jeffrey cureton court northern texa plead guilti feder charg interf african american famili hous announc act general john gore erin neali northern texa accord court document halfin threaten forc intimid interf famili race occup apart locat direct apart accord document file connect guilti plea halfin purchas babi doll mart grapevin texa took rope fashion noos hung babi doll noos halfin hung rope noos babi doll rail direct front staircas famili could access apart halfin know display would particular intimid famili young daughter addit defend referenc factual basi repeat intimid interfer african american famili occas toler act intimid fear illeg threat individu famili race said act john gore continu prosecut hate crime offend afraid home night said erin neali communiti toler crime intimid bigotri continu prosecut persecut other base race color ethnic religi belief halfin face statutori maximum penalti year feder prison fine sentenc schedul octob investig grapevin polic prosecut rebekah bailey crimin section unit state nicol dana   \n",
       "8075                                                                                                                                                                                                                                                                                                                                                                                                                                                                                                                                                                                                                                                                                                                                                                                                                                                                                                                                                                                                                                                                                                                                                                                                                                                                                                                                                                                                                                                                                                                                                                                          washington paul miller denham spring convict late yesterday count produc count possess child pornographi announc general lanni breuer crimin donald cazayoux middl louisiana miller convict feder juri follow judg jame bradi presid evid present show octob miller sexual abus year girl year girl produc numer photograph abus accord evid forens examin miller comput reveal miller use comput print possess numer imag child pornographi includ imag child pornographi produc imag child victim miller face maximum statutori sentenc year prison count product child pornographi year prison possess child pornographi count prosecut alecia riewert wolak crimin child exploit obscen section ceo richard bourgeoi middl louisiana conduct denham spring polic louisiana general   \n",
       "8353                                                                                                                                                                                                                                                                                                                                                                                                                                                                                                                                                                                                                                                                                                                                                                                                                                                                                                                                                                                                                                                                                                                                                                                                                                                                                                                                                                                                                                                                                                                                                                                            washington springfield mass plead guilti today receiv possess child pornographi announc general lanni breuer crimin robert rosenbeck plead guilti judg denis casper boston count receipt child pornographi count possess child pornographi indict charg accord court document rosenbeck possess differ comput contain child pornographi addit approxim juli juli rosenbeck receiv comput file contain child pornographi internet websit sentenc schedul rosenbeck face maximum statutori sentenc year prison receipt child pornographi count year prison count possess child pornographi rosenbeck also face term supervis releas least five year life prosecut attorney alecia riewert wolak michael grant crimin child exploit obscen section ceo conduct provid springfield polic   \n",
       "7618                                                                                                                                                                                                                                                                                                                                                                                                                                                                                                                                                                                                                                                                                                                                                        today file lawsuit court western washington alleg owner manag three edmond washington apart build refus rent apart famili children violat fair hous fair hous prohibit landlord deni apart famili children said act general wheeler mani famili alreadi face challeng find afford hous also deal unlaw discrimin equal access hous essenti american includ famili young children said annett hay western washington particular tight hous market landlord must follow make unit avail without discrimin base race color religion nation origin disabl famili status complaint concern three apart build locat pine street edmond manag defend debbi applebi stanwood washington properti own three limit liabil corpor llcs control applebi appl appl appl three also name defend suit complaint alleg march defend applebi told woman seek apart husband year child apart build adult therefor avail famili complaint also alleg various time april novemb defend advertis avail apart restrict adult famili file complaint hous urban develop conduct issu charg discrimin defend refer complaint seek court order requir defend ceas discriminatori hous practic damag famili file complaint famili defend discrimin children penalti individu inform relev encourag contact option feder fair hous prohibit discrimin hous basi race color religion famili status nation origin disabl inform law enforc avail usdoj https usao wdwa individu believ victim hous discrimin call email fairhous usdoj contact websit joint handl western washington complaint alleg unlaw conduct alleg must still proven feder court   \n",
       "8847                                                                                                                                                                                                                                                                                                                                                                                                                                                                                                                                                                                                                                                                                                                                                                                                                                                                                                                                                                                                                                                                                                                                                                                                                                                                                                                                                                                               canadian woman sentenc serv month prison follow decemb convict intern parent kidnap announc act general kenneth blanco crimin act patrick hansen central illinoi sarah nixon montreal canada sentenc judg colin bruce central illinoi feder juri found nixon guilti count intern parent kidnap take minor child unit state canada juli intent obstruct law exercis father evid establish custodi appar nixon would lose custodi year daughter nixon fled unit state child middl night appear custodi rule neither daughter could locat enforc issu child abduct alert nixon child eventu locat farmhous rural ontario canada author return child father nixon arrest york sept attempt return unit state attorney elli peirson lauren kupersmith crimin child exploit obscen section prosecut urbana illinoi polic univers illinoi polic illinoi children famili servic ontario provinci polic custom border protect investig champaign counti illinoi state crimin intern affair   \n",
       "...                                                                                                                                                                                                                                                                                                                                                                                                                                                                                                                                                                                                                                                                                                                                                                                                                                                                                                                                                                                                                                                                                                                                                                                                                                                                                                                                                                                                                                                                                                                                                                                                                                                                                                                                                                                                                                                                                                                                                                                                                                                                                                                                                                                                                                                                                                                                                                              ...   \n",
       "6089                                                                                                                                                                                                                                                                                                                                                                                                                                                                                                                                                                                                                                                                                                                                                                                                                                                                                                                                                                                                                                                                                                                                                                                                                                                                                today announc updat unit state attorney manual usam section titl associ general approv notic requir issu implic religi liberti general issu memorandum execut depart agenc entitl feder protect religi liberti memo direct compon unit state offic guidanc litig advic execut branch oper grant aspect work order ensur complianc general memo usam updat languag direct relev compon updat usam also instruct relev compon consult religi liberti principl laid general octob memo consid whether notic approv requir initi order fulli effectu approv notic requir updat usam instruct attorney design point contact lead effort religi liberti inalien right protect constitut defend import thing said associ general rachel brand presid trump direct general session issu robust clear guidanc document octob clear explain feder govern appli religi liberti protect current book requir offic design religi liberti point contact ensur general memorandum effect implement designe respons work direct leadership offic case relat religi liberti ensur case receiv rigor attent deserv   \n",
       "6733                                                                                                                                                                                                                                                                                                                                                                                                                                                                                                                                                                                                                                                                                                                                                                                                                                                                                                                                    announc today reach agreement citi yonker york yonker polic resolv ensur constitut polic agreement result violent crime control enforc omnibus crime control safe street june unit state sent citi technic letter identifi necessari reform practic polici area forc civilian complaint investig supervisori oversight train receiv technic letter citi made substanti chang polici procedur agreement implement improv polici procedur address remain concern agreement ensur yonker polic continu advanc constitut effect communiti orient polic said princip deputi general vanita gupta head clear polici guidanc data analysi account system believ reform make entir communiti safer strengthen public trust polic agreement ensur yonker polic polic keep citizen safe protect constitut said preet bharara southern york measur place agreement includ clear reason forc polici guidanc proper evalu respond forc incid make yonker safer citizen polic alik thank yonker polic citi yonker cooper join effort ensur yonker polic protect citizen physic harm also violat constitut agreement care tailor address remain concern also take account seek build upon posit reform alreadi made follow agreement among thing agreement also provid consult retain conduct complianc review ensur implement measur requir agreement issu public report complianc review handl special litig section southern york yonker polic agreement   \n",
       "6905   today reach landmark settlement agreement reform crimin system hind counti mississippi agreement resolv find hind counti adult detent center jackson citi detent center togeth form hind counti jail fail protect prison violenc excess forc held past court order releas date violat institution person cripa settlement agreement first kind incorpor broader crimin system reform divers front reentri communiti incarcer creat crimin coordin committe help ensur counti system oper effect effici develop intervent divert individu appropri case arrest detent incarcer engag communiti outreach promot success reentri agreement includ mechan notifi communiti health provid person serious mental ill releas help person transit safe back communiti agreement also address unlaw enforc court order fine fee ensur counti cannot incarcer individu payment court first assess whether individu indig across board settlement make hind counti crimin system smarter fairer said princip deputi general vanita gupta head implement reform make pretrial detaine prison correct staff entir communiti safer also ensur vulner individu access treatment care communiti servic need deserv commend counti commit make reform realiti long condit jail pose serious challeng enforc safeti communiti said gregori davi southern mississippi appreci commit made hind counti offici turn page begin make necessari reform settlement agreement subject approv court southern mississippi requir counti implement seri reform across various stage crimin system includ follow togeth reform improv communic coordin among crimin entiti communiti servic provid help individu mental ill transit back communiti reduc recidiv approv feder court independ monitor appoint assess counti complianc complet comprehens includ site inspect document review stakehold interview expert staff issu find letter determin hind counti adult detent center jackson citi detent center violat cripa fail protect prison violenc prison improp forc staff also found inadequ staf train backlog record file lack central inform result prison held beyond court order releas date cripa author seek remedi pattern practic conduct violat constitut person confin jail prison correct facil inform work area pleas visit hind counti settlement agreement hind counti fact sheet   \n",
       "11066                                                                                                                                                                                                                                                                                                                                                                                                                                                                                                                                                                                                                                                                                                                                                                                                                                                                                                                                                                                                                                                                                                                                                                                                                                                                                                                                                                                                                                                                                                                                                                                                                                                                                 princip deputi general vanita gupta head releas follow statement regard ferguson missouri citi council vote propos consent decre ferguson citi council attempt unilater amend negoti agreement vote creat unnecessari delay essenti work bring constitut polic citi mark unfortun outcom concern communiti member ferguson polic offic parti engag thought negoti mani month creat agreement cost effect remedi would ensur ferguson bring polic court practic line constitut agreement alreadi negoti citi provid ferguson resid polic municip court fulli respect oper free racial discrimin take necessari legal action ensur ferguson polic court practic compli constitut relev feder law   \n",
       "6727                                                                                                                                                                                                                                                                                                                                                                                                                                                                                                                                                                                                                                                                                                                                                                                                                                                                             reach comprehens settlement agreement citi miami miami polic resolv offic involv shoot offic announc princip deputi general vanita gupta head wifredo ferrer southern florida settlement approv miami citi commiss today effect agreement sign parti resolv claim stem offic involv shoot offic conduct violent crime control enforc find issu juli identifi pattern practic excess forc offic involv shoot violat fourth amend constitut citi complianc settlement monitor independ review former tampa florida polic chief jane castor settlement agreement citi implement comprehens reform ensur constitut polic support public trust settlement agreement design minim offic involv shoot effect quick investig offic involv shoot occur measur includ settlement repres renew commit citi miami chief rodolfo llane provid constitut polic miami resid protect public safeti sustain reform said princip deputi general gupta agreement help strengthen relationship communiti serv improv account offic fire weapon unlaw provid communiti particip enforc agreement today agreement result joint effort citi miami ensur miami polic continu effort make communiti safe protect sacr constitut citizen said ferrer oversight communic agreement seek make perman posit chang former chief orosa chief llane made applaud citi commiss vote settlement agreement build upon import reform implement citi sinc issu find includ conduct attorney staff special litig section southern florida   \n",
       "\n",
       "       topic_1_prob  topic_2_prob  topic_3_prob  top_topic  \n",
       "Index                                                       \n",
       "5247       0.000479      0.999077      0.000444          1  \n",
       "8075       0.000628      0.001000      0.998371          2  \n",
       "8353       0.000636      0.001012      0.998352          2  \n",
       "7618       0.999255      0.000471      0.000274          0  \n",
       "8847       0.000651      0.214084      0.785265          2  \n",
       "...             ...           ...           ...        ...  \n",
       "6089       0.998535      0.000925      0.000540          0  \n",
       "6733       0.999066      0.000590      0.000344          0  \n",
       "6905       0.887984      0.111796      0.000220          0  \n",
       "11066      0.997998      0.001264      0.000737          0  \n",
       "6727       0.999153      0.000535      0.000312          0  \n",
       "\n",
       "[717 rows x 15 columns]"
      ]
     },
     "execution_count": 253,
     "metadata": {},
     "output_type": "execute_result"
    }
   ],
   "source": [
    "# List to store the top topic for each document\n",
    "top_topics = []\n",
    "\n",
    "# Iterate through the topic probabilities for each document\n",
    "for doc_probs in topic_probs_bydoc:\n",
    "    # Find the topic with the highest probability\n",
    "    top_topic = max(doc_probs, key=lambda x: x[1])[0]\n",
    "    top_topics.append(top_topic)\n",
    "\n",
    "# Top_topic column based on the highest-probability topic for each document\n",
    "doj_subset_wscore['top_topic'] = top_topics\n",
    "\n",
    "doj_subset_wscore"
   ]
  },
  {
   "cell_type": "code",
   "execution_count": null,
   "metadata": {},
   "outputs": [],
   "source": [
    "## your code here to add those topic probabilities to the dataframe"
   ]
  },
  {
   "cell_type": "code",
   "execution_count": null,
   "metadata": {},
   "outputs": [],
   "source": [
    "## your code here to summarize the topic proportions for each of the topics_clean "
   ]
  },
  {
   "cell_type": "code",
   "execution_count": 254,
   "metadata": {},
   "outputs": [
    {
     "data": {
      "text/html": [
       "<div>\n",
       "<style scoped>\n",
       "    .dataframe tbody tr th:only-of-type {\n",
       "        vertical-align: middle;\n",
       "    }\n",
       "\n",
       "    .dataframe tbody tr th {\n",
       "        vertical-align: top;\n",
       "    }\n",
       "\n",
       "    .dataframe thead th {\n",
       "        text-align: right;\n",
       "    }\n",
       "</style>\n",
       "<table border=\"1\" class=\"dataframe\">\n",
       "  <thead>\n",
       "    <tr style=\"text-align: right;\">\n",
       "      <th>top_topic</th>\n",
       "      <th>0</th>\n",
       "      <th>1</th>\n",
       "      <th>2</th>\n",
       "    </tr>\n",
       "    <tr>\n",
       "      <th>topics_clean</th>\n",
       "      <th></th>\n",
       "      <th></th>\n",
       "      <th></th>\n",
       "    </tr>\n",
       "  </thead>\n",
       "  <tbody>\n",
       "    <tr>\n",
       "      <th>Civil Rights</th>\n",
       "      <td>0.659016</td>\n",
       "      <td>0.340984</td>\n",
       "      <td>0.000000</td>\n",
       "    </tr>\n",
       "    <tr>\n",
       "      <th>Hate Crimes</th>\n",
       "      <td>0.000000</td>\n",
       "      <td>1.000000</td>\n",
       "      <td>0.000000</td>\n",
       "    </tr>\n",
       "    <tr>\n",
       "      <th>Project Safe Childhood</th>\n",
       "      <td>0.006024</td>\n",
       "      <td>0.000000</td>\n",
       "      <td>0.993976</td>\n",
       "    </tr>\n",
       "  </tbody>\n",
       "</table>\n",
       "</div>"
      ],
      "text/plain": [
       "top_topic                      0         1         2\n",
       "topics_clean                                        \n",
       "Civil Rights            0.659016  0.340984  0.000000\n",
       "Hate Crimes             0.000000  1.000000  0.000000\n",
       "Project Safe Childhood  0.006024  0.000000  0.993976"
      ]
     },
     "execution_count": 254,
     "metadata": {},
     "output_type": "execute_result"
    }
   ],
   "source": [
    "#C\n",
    "pd.crosstab(doj_subset_wscore['topics_clean'], doj_subset_wscore['top_topic'], normalize='index')"
   ]
  },
  {
   "cell_type": "markdown",
   "metadata": {},
   "source": [
    "**write interpretation**"
   ]
  },
  {
   "cell_type": "markdown",
   "metadata": {},
   "source": [
    "# 3. Extend the analysis from unigrams to bigrams (10 points)\n",
    "\n",
    "In the previous question, you found top words via a unigram representation of the text. Now, we want to see how those top words change with bigrams (pairs of words)\n",
    "\n",
    "A. Using the `doj_subset_wscore` data and the `processed_text` column (so the words after stemming/other preprocessing), create a column in the data called `processed_text_bigrams` that combines each consecutive pairs of word into a bigram separated by an underscore. Eg:\n",
    "\n",
    "\"depart reach settlem\" would become \"depart_reach reach_settlem\"\n",
    "\n",
    "Do this by writing a function `create_bigram_onedoc` that takes in a single `processed_text` string and returns a string with its bigrams structured similarly to above example\n",
    " \n",
    "**Hint**: there are many ways to solve but `zip` may be helpful: https://stackoverflow.com/questions/21303224/iterate-over-all-pairs-of-consecutive-items-in-a-list\n",
    "\n",
    "B. Print the `id`, `processed_text`, and `processed_text_bigram` columns for press release with id = 16-217"
   ]
  },
  {
   "cell_type": "code",
   "execution_count": 260,
   "metadata": {},
   "outputs": [
    {
     "data": {
      "text/plain": [
       "Index(['id', 'title', 'contents', 'date', 'topics_clean', 'components_clean',\n",
       "       'neg', 'neu', 'pos', 'Compound', 'processed_text', 'topic_1_prob',\n",
       "       'topic_2_prob', 'topic_3_prob', 'top_topic'],\n",
       "      dtype='object')"
      ]
     },
     "execution_count": 260,
     "metadata": {},
     "output_type": "execute_result"
    }
   ],
   "source": [
    "doj_subset_wscore.columns"
   ]
  },
  {
   "cell_type": "code",
   "execution_count": 263,
   "metadata": {},
   "outputs": [
    {
     "data": {
      "text/plain": [
       "['washington_paul',\n",
       " 'paul_miller',\n",
       " 'miller_denham',\n",
       " 'denham_spring',\n",
       " 'spring_convict',\n",
       " 'convict_late',\n",
       " 'late_yesterday',\n",
       " 'yesterday_count',\n",
       " 'count_produc',\n",
       " 'produc_count',\n",
       " 'count_possess',\n",
       " 'possess_child',\n",
       " 'child_pornographi',\n",
       " 'pornographi_announc',\n",
       " 'announc_general',\n",
       " 'general_lanni',\n",
       " 'lanni_breuer',\n",
       " 'breuer_crimin',\n",
       " 'crimin_donald',\n",
       " 'donald_cazayoux',\n",
       " 'cazayoux_middl',\n",
       " 'middl_louisiana',\n",
       " 'louisiana_miller',\n",
       " 'miller_convict',\n",
       " 'convict_feder',\n",
       " 'feder_juri',\n",
       " 'juri_follow',\n",
       " 'follow_judg',\n",
       " 'judg_jame',\n",
       " 'jame_bradi',\n",
       " 'bradi_presid',\n",
       " 'presid_evid',\n",
       " 'evid_present',\n",
       " 'present_show',\n",
       " 'show_octob',\n",
       " 'octob_miller',\n",
       " 'miller_sexual',\n",
       " 'sexual_abus',\n",
       " 'abus_year',\n",
       " 'year_girl',\n",
       " 'girl_year',\n",
       " 'year_girl',\n",
       " 'girl_produc',\n",
       " 'produc_numer',\n",
       " 'numer_photograph',\n",
       " 'photograph_abus',\n",
       " 'abus_accord',\n",
       " 'accord_evid',\n",
       " 'evid_forens',\n",
       " 'forens_examin',\n",
       " 'examin_miller',\n",
       " 'miller_comput',\n",
       " 'comput_reveal',\n",
       " 'reveal_miller',\n",
       " 'miller_use',\n",
       " 'use_comput',\n",
       " 'comput_print',\n",
       " 'print_possess',\n",
       " 'possess_numer',\n",
       " 'numer_imag',\n",
       " 'imag_child',\n",
       " 'child_pornographi',\n",
       " 'pornographi_includ',\n",
       " 'includ_imag',\n",
       " 'imag_child',\n",
       " 'child_pornographi',\n",
       " 'pornographi_produc',\n",
       " 'produc_imag',\n",
       " 'imag_child',\n",
       " 'child_victim',\n",
       " 'victim_miller',\n",
       " 'miller_face',\n",
       " 'face_maximum',\n",
       " 'maximum_statutori',\n",
       " 'statutori_sentenc',\n",
       " 'sentenc_year',\n",
       " 'year_prison',\n",
       " 'prison_count',\n",
       " 'count_product',\n",
       " 'product_child',\n",
       " 'child_pornographi',\n",
       " 'pornographi_year',\n",
       " 'year_prison',\n",
       " 'prison_possess',\n",
       " 'possess_child',\n",
       " 'child_pornographi',\n",
       " 'pornographi_count',\n",
       " 'count_prosecut',\n",
       " 'prosecut_alecia',\n",
       " 'alecia_riewert',\n",
       " 'riewert_wolak',\n",
       " 'wolak_crimin',\n",
       " 'crimin_child',\n",
       " 'child_exploit',\n",
       " 'exploit_obscen',\n",
       " 'obscen_section',\n",
       " 'section_ceo',\n",
       " 'ceo_richard',\n",
       " 'richard_bourgeoi',\n",
       " 'bourgeoi_middl',\n",
       " 'middl_louisiana',\n",
       " 'louisiana_conduct',\n",
       " 'conduct_denham',\n",
       " 'denham_spring',\n",
       " 'spring_polic',\n",
       " 'polic_louisiana',\n",
       " 'louisiana_general']"
      ]
     },
     "execution_count": 263,
     "metadata": {},
     "output_type": "execute_result"
    }
   ],
   "source": [
    "bigrams = []\n",
    "\n",
    "def create_bigram_onedoc(processed_text):\n",
    "    tokens = processed_text.split()\n",
    "    \n",
    "    for first, second in zip(tokens, tokens[1:]):\n",
    "        string = first + \"_\" + second\n",
    "        bigrams.append(string)\n",
    "    \n",
    "    return bigrams\n",
    "\n",
    "text_to_process = doj_subset_wscore.iloc[1]['processed_text']\n",
    "create_bigram_onedoc(text_to_process)\n"
   ]
  },
  {
   "cell_type": "code",
   "execution_count": 266,
   "metadata": {},
   "outputs": [
    {
     "data": {
      "text/html": [
       "<div>\n",
       "<style scoped>\n",
       "    .dataframe tbody tr th:only-of-type {\n",
       "        vertical-align: middle;\n",
       "    }\n",
       "\n",
       "    .dataframe tbody tr th {\n",
       "        vertical-align: top;\n",
       "    }\n",
       "\n",
       "    .dataframe thead th {\n",
       "        text-align: right;\n",
       "    }\n",
       "</style>\n",
       "<table border=\"1\" class=\"dataframe\">\n",
       "  <thead>\n",
       "    <tr style=\"text-align: right;\">\n",
       "      <th></th>\n",
       "      <th>id</th>\n",
       "      <th>title</th>\n",
       "      <th>contents</th>\n",
       "      <th>date</th>\n",
       "      <th>topics_clean</th>\n",
       "      <th>components_clean</th>\n",
       "      <th>neg</th>\n",
       "      <th>neu</th>\n",
       "      <th>pos</th>\n",
       "      <th>Compound</th>\n",
       "      <th>processed_text</th>\n",
       "      <th>topic_1_prob</th>\n",
       "      <th>topic_2_prob</th>\n",
       "      <th>topic_3_prob</th>\n",
       "      <th>top_topic</th>\n",
       "      <th>processed_text_bigrams</th>\n",
       "    </tr>\n",
       "    <tr>\n",
       "      <th>Index</th>\n",
       "      <th></th>\n",
       "      <th></th>\n",
       "      <th></th>\n",
       "      <th></th>\n",
       "      <th></th>\n",
       "      <th></th>\n",
       "      <th></th>\n",
       "      <th></th>\n",
       "      <th></th>\n",
       "      <th></th>\n",
       "      <th></th>\n",
       "      <th></th>\n",
       "      <th></th>\n",
       "      <th></th>\n",
       "      <th></th>\n",
       "      <th></th>\n",
       "    </tr>\n",
       "  </thead>\n",
       "  <tbody>\n",
       "    <tr>\n",
       "      <th>5247</th>\n",
       "      <td>18-913</td>\n",
       "      <td>Grapevine Texas Man Pleads Guilty to Federal Hate Crime  Against an African-American Family</td>\n",
       "      <td>Glenn Eugene Halfin, 64, from Grapevine, Texas, appeared today before U.S. Magistrate Judge Jeffrey L. Cureton in the U.S. District Court for the Northern District of Texas and pleaded guilty to a federal charge of interfering with an African-American family’s housing rights, announced Acting Assistant Attorney General John Gore of the Civil Rights Division and U.S. Attorney Erin Nealy Cox of the Northern District of Texas. According to court documents, Halfin threatened force, intimidated, and interfered with a family because of their race and occupancy of an apartment that was located directly above his own apartment.  According to documents filed in connection with the guilty plea, on Dec. 19, 2017, Halfin purchased a baby doll at a Wal-Mart in Grapevine, Texas. He took a rope, fashioned it into a noose, and hung the baby doll from the noose. Halfin then hung the rope noose and baby doll on the railing directly in front of the only staircase the family could use to access their apartment. Halfin did so, knowing that this display would be particularly intimidating for the family who had a young daughter. In addition, the defendant referenced in his factual basis repeated intimidation of and interference with the same African-American family on other occasions. “The Justice Department will not tolerate acts of intimidation and fear, or illegal threats against any individual or family because of their race,” said Acting Assistant Attorney John Gore. “We will continue to prosecute hate crime offenders.” “No one should be afraid to go home at night,” said U.S. Attorney Erin Nealy Cox.  “Our community will not tolerate crimes of intimidation or bigotry, and my office will continue to prosecute all those who persecute others based on their race, color, ethnicity, or religious beliefs.” Halfin faces a statutory maximum penalty of no more one year in federal prison and a $100,000 fine. His sentencing is scheduled for October 24. This case was investigated by the FBI and the Grapevine Police Department. The case was prosecuted by Trial Attorney Rebekah Bailey of the Civil Rights Division’s Criminal Section and Assistant United States Attorney Nicole Dana.</td>\n",
       "      <td>2018-07-12T00:00:00-04:00</td>\n",
       "      <td>Hate Crimes</td>\n",
       "      <td>Civil Rights Division; Civil Rights - Criminal Section</td>\n",
       "      <td>0.005</td>\n",
       "      <td>0.806</td>\n",
       "      <td>0.005</td>\n",
       "      <td>-0.9955</td>\n",
       "      <td>glenn eugen halfin grapevin texa appear today magistr judg jeffrey cureton court northern texa plead guilti feder charg interf african american famili hous announc act general john gore erin neali northern texa accord court document halfin threaten forc intimid interf famili race occup apart locat direct apart accord document file connect guilti plea halfin purchas babi doll mart grapevin texa took rope fashion noos hung babi doll noos halfin hung rope noos babi doll rail direct front staircas famili could access apart halfin know display would particular intimid famili young daughter addit defend referenc factual basi repeat intimid interfer african american famili occas toler act intimid fear illeg threat individu famili race said act john gore continu prosecut hate crime offend afraid home night said erin neali communiti toler crime intimid bigotri continu prosecut persecut other base race color ethnic religi belief halfin face statutori maximum penalti year feder prison fine sentenc schedul octob investig grapevin polic prosecut rebekah bailey crimin section unit state nicol dana</td>\n",
       "      <td>0.000479</td>\n",
       "      <td>0.999077</td>\n",
       "      <td>0.000444</td>\n",
       "      <td>1</td>\n",
       "      <td>[washington_paul, paul_miller, miller_denham, denham_spring, spring_convict, convict_late, late_yesterday, yesterday_count, count_produc, produc_count, count_possess, possess_child, child_pornographi, pornographi_announc, announc_general, general_lanni, lanni_breuer, breuer_crimin, crimin_donald, donald_cazayoux, cazayoux_middl, middl_louisiana, louisiana_miller, miller_convict, convict_feder, feder_juri, juri_follow, follow_judg, judg_jame, jame_bradi, bradi_presid, presid_evid, evid_present, present_show, show_octob, octob_miller, miller_sexual, sexual_abus, abus_year, year_girl, girl_year, year_girl, girl_produc, produc_numer, numer_photograph, photograph_abus, abus_accord, accord_evid, evid_forens, forens_examin, examin_miller, miller_comput, comput_reveal, reveal_miller, miller_use, use_comput, comput_print, print_possess, possess_numer, numer_imag, imag_child, child_pornographi, pornographi_includ, includ_imag, imag_child, child_pornographi, pornographi_produc, produc_imag, imag_child, child_victim, victim_miller, miller_face, face_maximum, maximum_statutori, statutori_sentenc, sentenc_year, year_prison, prison_count, count_product, product_child, child_pornographi, pornographi_year, year_prison, prison_possess, possess_child, child_pornographi, pornographi_count, count_prosecut, prosecut_alecia, alecia_riewert, riewert_wolak, wolak_crimin, crimin_child, child_exploit, exploit_obscen, obscen_section, section_ceo, ceo_richard, richard_bourgeoi, bourgeoi_middl, ...]</td>\n",
       "    </tr>\n",
       "    <tr>\n",
       "      <th>8075</th>\n",
       "      <td>11-1245</td>\n",
       "      <td>Louisiana Man Convicted of Producing and Possessing Child Pornography</td>\n",
       "      <td>WASHINGTON –    Paul W. Miller, of Denham Springs, La., was convicted late yesterday of two counts of producing and one count of possessing child pornography, announced Assistant Attorney General Lanny A. Breuer of the Criminal Division and U.S. Attorney Donald J. Cazayoux Jr. of the Middle District of Louisiana.        Miller, 44, was convicted by a federal jury following a two-day trial.  U.S. District Judge James J. Brady presided over the trial.       Evidence presented at trial showed that from October 2007 to May 2008, Miller sexually abused a 12-year-old girl and an 11-year-old girl and produced numerous photographs of the abuse.  According to trial evidence, forensic examination of Miller’s computer revealed that Miller had used his computer to print and possess numerous images of child pornography, including both the images of child pornography he had produced and images of other child victims.                 Miller faces a maximum statutory sentence of 30 years in prison for each count of production of child pornography and 10 years in prison for the possession of child pornography count.       The case is being prosecuted by Trial Attorney Alecia Riewerts Wolak of the Criminal Division’s Child Exploitation and Obscenity Section (CEOS) and Assistant U.S. Attorney Richard L. Bourgeois Jr. of the Middle District of Louisiana.  The investigation was conducted by the FBI, the Denham Springs Police Department and the Louisiana Attorney General’s Office.</td>\n",
       "      <td>2011-09-22T00:00:00-04:00</td>\n",
       "      <td>Project Safe Childhood</td>\n",
       "      <td>Criminal Division</td>\n",
       "      <td>0.007</td>\n",
       "      <td>0.887</td>\n",
       "      <td>0.007</td>\n",
       "      <td>-0.9565</td>\n",
       "      <td>washington paul miller denham spring convict late yesterday count produc count possess child pornographi announc general lanni breuer crimin donald cazayoux middl louisiana miller convict feder juri follow judg jame bradi presid evid present show octob miller sexual abus year girl year girl produc numer photograph abus accord evid forens examin miller comput reveal miller use comput print possess numer imag child pornographi includ imag child pornographi produc imag child victim miller face maximum statutori sentenc year prison count product child pornographi year prison possess child pornographi count prosecut alecia riewert wolak crimin child exploit obscen section ceo richard bourgeoi middl louisiana conduct denham spring polic louisiana general</td>\n",
       "      <td>0.000628</td>\n",
       "      <td>0.001000</td>\n",
       "      <td>0.998371</td>\n",
       "      <td>2</td>\n",
       "      <td>[washington_paul, paul_miller, miller_denham, denham_spring, spring_convict, convict_late, late_yesterday, yesterday_count, count_produc, produc_count, count_possess, possess_child, child_pornographi, pornographi_announc, announc_general, general_lanni, lanni_breuer, breuer_crimin, crimin_donald, donald_cazayoux, cazayoux_middl, middl_louisiana, louisiana_miller, miller_convict, convict_feder, feder_juri, juri_follow, follow_judg, judg_jame, jame_bradi, bradi_presid, presid_evid, evid_present, present_show, show_octob, octob_miller, miller_sexual, sexual_abus, abus_year, year_girl, girl_year, year_girl, girl_produc, produc_numer, numer_photograph, photograph_abus, abus_accord, accord_evid, evid_forens, forens_examin, examin_miller, miller_comput, comput_reveal, reveal_miller, miller_use, use_comput, comput_print, print_possess, possess_numer, numer_imag, imag_child, child_pornographi, pornographi_includ, includ_imag, imag_child, child_pornographi, pornographi_produc, produc_imag, imag_child, child_victim, victim_miller, miller_face, face_maximum, maximum_statutori, statutori_sentenc, sentenc_year, year_prison, prison_count, count_product, product_child, child_pornographi, pornographi_year, year_prison, prison_possess, possess_child, child_pornographi, pornographi_count, count_prosecut, prosecut_alecia, alecia_riewert, riewert_wolak, wolak_crimin, crimin_child, child_exploit, exploit_obscen, obscen_section, section_ceo, ceo_richard, richard_bourgeoi, bourgeoi_middl, ...]</td>\n",
       "    </tr>\n",
       "    <tr>\n",
       "      <th>8353</th>\n",
       "      <td>11-1331</td>\n",
       "      <td>Massachusetts Man Pleads Guilty to Receiving and Possessing Child Pornography</td>\n",
       "      <td>WASHINGTON –    A Springfield, Mass., man pleaded guilty today to receiving and possessing child pornography, announced Assistant Attorney General Lanny A. Breuer of the Criminal Division.       Robert Rosenbeck, 48, pleaded guilty before U.S. District Judge Denise J. Casper in Boston to one count of receipt of child pornography and two counts of possession of child pornography.  He was indicted on those charges on Dec. 10, 2009.        According to court documents, Rosenbeck possessed two different computers containing child pornography in 2007.  Additionally, from approximately July 22, 2007, to July 25, 2007, Rosenbeck received computer files containing child pornography from an Internet website.                 At sentencing, scheduled for Dec. 5, 2011, Rosenbeck faces a maximum statutory sentence of 20 years in prison for the receipt of child pornography count and 10 years in prison for each count of possession of child pornography.  Rosenbeck also faces a term of supervised release of at least five years and up to life.       The case is being prosecuted by Trial Attorneys Alecia Riewerts Wolak and Michael W. Grant of the Criminal Division’s Child Exploitation and Obscenity Section (CEOS).  The investigation was conducted by the FBI with assistance provided by the Springfield Police Department.</td>\n",
       "      <td>2011-10-06T00:00:00-04:00</td>\n",
       "      <td>Project Safe Childhood</td>\n",
       "      <td>Criminal Division</td>\n",
       "      <td>0.008</td>\n",
       "      <td>0.874</td>\n",
       "      <td>0.008</td>\n",
       "      <td>-0.9451</td>\n",
       "      <td>washington springfield mass plead guilti today receiv possess child pornographi announc general lanni breuer crimin robert rosenbeck plead guilti judg denis casper boston count receipt child pornographi count possess child pornographi indict charg accord court document rosenbeck possess differ comput contain child pornographi addit approxim juli juli rosenbeck receiv comput file contain child pornographi internet websit sentenc schedul rosenbeck face maximum statutori sentenc year prison receipt child pornographi count year prison count possess child pornographi rosenbeck also face term supervis releas least five year life prosecut attorney alecia riewert wolak michael grant crimin child exploit obscen section ceo conduct provid springfield polic</td>\n",
       "      <td>0.000636</td>\n",
       "      <td>0.001012</td>\n",
       "      <td>0.998352</td>\n",
       "      <td>2</td>\n",
       "      <td>[washington_paul, paul_miller, miller_denham, denham_spring, spring_convict, convict_late, late_yesterday, yesterday_count, count_produc, produc_count, count_possess, possess_child, child_pornographi, pornographi_announc, announc_general, general_lanni, lanni_breuer, breuer_crimin, crimin_donald, donald_cazayoux, cazayoux_middl, middl_louisiana, louisiana_miller, miller_convict, convict_feder, feder_juri, juri_follow, follow_judg, judg_jame, jame_bradi, bradi_presid, presid_evid, evid_present, present_show, show_octob, octob_miller, miller_sexual, sexual_abus, abus_year, year_girl, girl_year, year_girl, girl_produc, produc_numer, numer_photograph, photograph_abus, abus_accord, accord_evid, evid_forens, forens_examin, examin_miller, miller_comput, comput_reveal, reveal_miller, miller_use, use_comput, comput_print, print_possess, possess_numer, numer_imag, imag_child, child_pornographi, pornographi_includ, includ_imag, imag_child, child_pornographi, pornographi_produc, produc_imag, imag_child, child_victim, victim_miller, miller_face, face_maximum, maximum_statutori, statutori_sentenc, sentenc_year, year_prison, prison_count, count_product, product_child, child_pornographi, pornographi_year, year_prison, prison_possess, possess_child, child_pornographi, pornographi_count, count_prosecut, prosecut_alecia, alecia_riewert, riewert_wolak, wolak_crimin, crimin_child, child_exploit, exploit_obscen, obscen_section, section_ceo, ceo_richard, richard_bourgeoi, bourgeoi_middl, ...]</td>\n",
       "    </tr>\n",
       "    <tr>\n",
       "      <th>7618</th>\n",
       "      <td>17-242</td>\n",
       "      <td>Justice Department Sues Edmonds, Washington Landlords for Discriminating Against Families With Children</td>\n",
       "      <td>The U.S. Department of Justice today filed a lawsuit in U.S. District Court for the Western District of Washington alleging that the owners and manager of three Edmonds, Washington apartment buildings refused to rent their apartments to families with children, in violation of the Fair Housing Act.    “The Fair Housing Act prohibits landlords from denying apartments to families just because they have children,” said Acting Assistant Attorney General Tom Wheeler of the Justice Department’s Civil Rights Division. “Many families already face challenges finding affordable housing, and they should not also have to deal with unlawful discrimination.”   “Equal access to housing is essential for all Americans, including families with young children,” said U.S. Attorney Annette L. Hayes of the Western District of Washington. “Particularly in our tight housing market, landlords must follow the law and make units available without discrimination based on race, color, religion, sex, national origin, disability or familial status.”   The complaint concerns three apartment buildings – located at 201 5th Ave. N., 621 5th Ave. S., and 401 Pine Street in Edmonds – that are managed by defendant Debbie A. Appleby, of Stanwood, Washington. The properties are owned by three Limited Liability Corporations (LLCs) controlled by Appleby – Apple One, LLC, Apple Two, LLC, and Apple Three, LLC—which are also named as defendants in the suit. The complaint alleges that in March 2014, defendant Appleby told a woman seeking an apartment for herself, her husband, and their one year old child that the apartment buildings were “adult only” and therefore not available to her family. The complaint also alleges that at various other times from April 2014 to November 2015, defendants advertised their available apartments as being restricted to adults only. The family filed a complaint with the Department of Housing and Urban Development (“HUD”) which conducted an investigation, issued a charge of discrimination against the defendants, and referred the case to the Department of Justice.    The complaint seeks a court order requiring defendants to cease their discriminatory housing practices, damages for the family that filed the HUD complaint and any other families against whom the defendants discriminated against because they had children, and civil penalties. Any individuals who have information relevant to this case are encouraged to contact the Civil Rights Division at 1-800-896-7743, Option 96.   The federal Fair Housing Act prohibits discrimination in housing on the basis of race, color, religion, sex, familial status, national origin and disability. More information about the Civil Rights Division and the civil rights laws it enforces is available at www.usdoj.gov/crt  and https://www.justice.gov/usao-wdwa/civil-rights. Individuals who believe that they have been victims of housing discrimination may call the Justice Department at 1-800-896-7743, email the Justice Department at fairhousing@usdoj.gov, or contact HUD at 1-800-669-9777 or through its website at www.hud.gov.   The case is being jointly handled by the Department’s Civil Rights Division and the U.S. Attorney’s Office for the Western District of Washington.   The complaint is an allegation of unlawful conduct. The allegations must still be proven in federal court.</td>\n",
       "      <td>2017-03-03T00:00:00-05:00</td>\n",
       "      <td>Civil Rights</td>\n",
       "      <td>Civil Rights Division; Civil Rights - Housing and Civil Enforcement Section; USAO - Washington, Western</td>\n",
       "      <td>0.009</td>\n",
       "      <td>0.912</td>\n",
       "      <td>0.009</td>\n",
       "      <td>-0.9753</td>\n",
       "      <td>today file lawsuit court western washington alleg owner manag three edmond washington apart build refus rent apart famili children violat fair hous fair hous prohibit landlord deni apart famili children said act general wheeler mani famili alreadi face challeng find afford hous also deal unlaw discrimin equal access hous essenti american includ famili young children said annett hay western washington particular tight hous market landlord must follow make unit avail without discrimin base race color religion nation origin disabl famili status complaint concern three apart build locat pine street edmond manag defend debbi applebi stanwood washington properti own three limit liabil corpor llcs control applebi appl appl appl three also name defend suit complaint alleg march defend applebi told woman seek apart husband year child apart build adult therefor avail famili complaint also alleg various time april novemb defend advertis avail apart restrict adult famili file complaint hous urban develop conduct issu charg discrimin defend refer complaint seek court order requir defend ceas discriminatori hous practic damag famili file complaint famili defend discrimin children penalti individu inform relev encourag contact option feder fair hous prohibit discrimin hous basi race color religion famili status nation origin disabl inform law enforc avail usdoj https usao wdwa individu believ victim hous discrimin call email fairhous usdoj contact websit joint handl western washington complaint alleg unlaw conduct alleg must still proven feder court</td>\n",
       "      <td>0.999255</td>\n",
       "      <td>0.000471</td>\n",
       "      <td>0.000274</td>\n",
       "      <td>0</td>\n",
       "      <td>[washington_paul, paul_miller, miller_denham, denham_spring, spring_convict, convict_late, late_yesterday, yesterday_count, count_produc, produc_count, count_possess, possess_child, child_pornographi, pornographi_announc, announc_general, general_lanni, lanni_breuer, breuer_crimin, crimin_donald, donald_cazayoux, cazayoux_middl, middl_louisiana, louisiana_miller, miller_convict, convict_feder, feder_juri, juri_follow, follow_judg, judg_jame, jame_bradi, bradi_presid, presid_evid, evid_present, present_show, show_octob, octob_miller, miller_sexual, sexual_abus, abus_year, year_girl, girl_year, year_girl, girl_produc, produc_numer, numer_photograph, photograph_abus, abus_accord, accord_evid, evid_forens, forens_examin, examin_miller, miller_comput, comput_reveal, reveal_miller, miller_use, use_comput, comput_print, print_possess, possess_numer, numer_imag, imag_child, child_pornographi, pornographi_includ, includ_imag, imag_child, child_pornographi, pornographi_produc, produc_imag, imag_child, child_victim, victim_miller, miller_face, face_maximum, maximum_statutori, statutori_sentenc, sentenc_year, year_prison, prison_count, count_product, product_child, child_pornographi, pornographi_year, year_prison, prison_possess, possess_child, child_pornographi, pornographi_count, count_prosecut, prosecut_alecia, alecia_riewert, riewert_wolak, wolak_crimin, crimin_child, child_exploit, exploit_obscen, obscen_section, section_ceo, ceo_richard, richard_bourgeoi, bourgeoi_middl, ...]</td>\n",
       "    </tr>\n",
       "    <tr>\n",
       "      <th>8847</th>\n",
       "      <td>17-550</td>\n",
       "      <td>Mother Sentenced to 26 Months in Prison for Taking Child from Illinois to Canada in International Parental Kidnapping Case</td>\n",
       "      <td>A Canadian woman was sentenced to serve 26 months in prison following her December conviction for international parental kidnapping, announced Acting Assistant Attorney General Kenneth A. Blanco of the Justice Department’s Criminal Division and Acting U.S. Attorney Patrick D. Hansen of the Central District of Illinois.   Sarah M. Nixon, 48, of Montreal, Canada, was sentenced before U.S. District Judge Colin S. Bruce of the Central District of Illinois. On Dec. 21, 2016, a federal jury found Nixon guilty of one count of international parental kidnapping for taking her minor child from the United States to Canada in July 2015, with the intent to obstruct the lawful exercise of the father’s rights.   Evidence at trial established that after a custody trial where it was apparent that Nixon would lose custody of her six-year-old daughter, Nixon fled the United States with the child in the middle of the night. When she did not appear for the custody ruling and neither she nor her daughter could be located, law enforcement issued a child abduction alert. Nixon and the child were eventually located in a farmhouse in rural Ontario, Canada. Authorities then returned the child to the father. Nixon was arrested in New York on Sept. 20, 2015, as she attempted to return to the United States.    Trial Attorneys Elly M. Peirson and Lauren S. Kupersmith of the Criminal Division’s Child Exploitation and Obscenity Section prosecuted the case. The FBI; Urbana, Illinois, Police Department; University of Illinois Police Department; Illinois Department of Children and Family Services; Ontario Provincial Police; and U.S. Customs and Border Protection investigated the case, with assistance from the Champaign County, Illinois, State’s Attorney’s Office and the Criminal Division’s Office of International Affairs.</td>\n",
       "      <td>2017-05-19T00:00:00-04:00</td>\n",
       "      <td>Project Safe Childhood</td>\n",
       "      <td>Criminal Division; Criminal - Child Exploitation and Obscenity Section; USAO - Illinois, Central</td>\n",
       "      <td>0.010</td>\n",
       "      <td>0.894</td>\n",
       "      <td>0.010</td>\n",
       "      <td>-0.9460</td>\n",
       "      <td>canadian woman sentenc serv month prison follow decemb convict intern parent kidnap announc act general kenneth blanco crimin act patrick hansen central illinoi sarah nixon montreal canada sentenc judg colin bruce central illinoi feder juri found nixon guilti count intern parent kidnap take minor child unit state canada juli intent obstruct law exercis father evid establish custodi appar nixon would lose custodi year daughter nixon fled unit state child middl night appear custodi rule neither daughter could locat enforc issu child abduct alert nixon child eventu locat farmhous rural ontario canada author return child father nixon arrest york sept attempt return unit state attorney elli peirson lauren kupersmith crimin child exploit obscen section prosecut urbana illinoi polic univers illinoi polic illinoi children famili servic ontario provinci polic custom border protect investig champaign counti illinoi state crimin intern affair</td>\n",
       "      <td>0.000651</td>\n",
       "      <td>0.214084</td>\n",
       "      <td>0.785265</td>\n",
       "      <td>2</td>\n",
       "      <td>[washington_paul, paul_miller, miller_denham, denham_spring, spring_convict, convict_late, late_yesterday, yesterday_count, count_produc, produc_count, count_possess, possess_child, child_pornographi, pornographi_announc, announc_general, general_lanni, lanni_breuer, breuer_crimin, crimin_donald, donald_cazayoux, cazayoux_middl, middl_louisiana, louisiana_miller, miller_convict, convict_feder, feder_juri, juri_follow, follow_judg, judg_jame, jame_bradi, bradi_presid, presid_evid, evid_present, present_show, show_octob, octob_miller, miller_sexual, sexual_abus, abus_year, year_girl, girl_year, year_girl, girl_produc, produc_numer, numer_photograph, photograph_abus, abus_accord, accord_evid, evid_forens, forens_examin, examin_miller, miller_comput, comput_reveal, reveal_miller, miller_use, use_comput, comput_print, print_possess, possess_numer, numer_imag, imag_child, child_pornographi, pornographi_includ, includ_imag, imag_child, child_pornographi, pornographi_produc, produc_imag, imag_child, child_victim, victim_miller, miller_face, face_maximum, maximum_statutori, statutori_sentenc, sentenc_year, year_prison, prison_count, count_product, product_child, child_pornographi, pornographi_year, year_prison, prison_possess, possess_child, child_pornographi, pornographi_count, count_prosecut, prosecut_alecia, alecia_riewert, riewert_wolak, wolak_crimin, crimin_child, child_exploit, exploit_obscen, obscen_section, section_ceo, ceo_richard, richard_bourgeoi, bourgeoi_middl, ...]</td>\n",
       "    </tr>\n",
       "    <tr>\n",
       "      <th>...</th>\n",
       "      <td>...</td>\n",
       "      <td>...</td>\n",
       "      <td>...</td>\n",
       "      <td>...</td>\n",
       "      <td>...</td>\n",
       "      <td>...</td>\n",
       "      <td>...</td>\n",
       "      <td>...</td>\n",
       "      <td>...</td>\n",
       "      <td>...</td>\n",
       "      <td>...</td>\n",
       "      <td>...</td>\n",
       "      <td>...</td>\n",
       "      <td>...</td>\n",
       "      <td>...</td>\n",
       "      <td>...</td>\n",
       "    </tr>\n",
       "    <tr>\n",
       "      <th>6089</th>\n",
       "      <td>18-119</td>\n",
       "      <td>Justice Department Announces Religious Liberty Update to U.S. Attorneys’ Manual and Directs the Designation of Religious Liberty Point of Contact for All U.S. Attorney's Offices</td>\n",
       "      <td>The Department of Justice today announced the update of the United States Attorneys’ Manual (USAM) with a new section titled, “Associate Attorney General’s Approval and Notice Requirements for Issues Implicating Religious Liberty.” On Oct. 6, 2017, the Attorney General issued a Memorandum for All Executive Departments and Agencies entitled Federal Law Protections for Religious Liberty. The memo directed components and United States Attorney’s Offices to use the guidance in litigation, advice to the Executive Branch, operations, grants, and all other aspects of the Department’s work. In order to ensure compliance with the Attorney General’s memo, the USAM will be updated with language that directs relevant Department of Justice components to: The updated USAM will also instruct relevant Justice Department components to consult the 20 religious liberty principles laid out in the Attorney General’s October 6 memo when considering whether the notice or approval requirements are initiated. In order to fully effectuate the approval and notice requirements in the updated USAM, the Department will instruct all U.S. Attorneys to designate a point of contact to lead these efforts for their office. “Religious liberty is an inalienable right protected by the Constitution, and defending it is one of the most important things we do at the Department of Justice,” said Associate Attorney General Rachel Brand. At President Trump's direction, Attorney General Sessions issued a robust and clear guidance document in October that clearly explains how the federal government is to apply the religious liberty protections currently on the books.  The requirement that each of the U.S. Attorney offices designate a religious liberty point of contact will ensure that the Attorney General’s Memorandum is effectively implemented. The designees will be responsible for working directly with the leadership offices on civil cases related to religious liberty, ensuring that these cases receive the rigorous attention they deserve.</td>\n",
       "      <td>2018-01-31T00:00:00-05:00</td>\n",
       "      <td>Civil Rights</td>\n",
       "      <td>Civil Rights Division; Office of the Associate Attorney General</td>\n",
       "      <td>0.199</td>\n",
       "      <td>0.788</td>\n",
       "      <td>0.199</td>\n",
       "      <td>0.9944</td>\n",
       "      <td>today announc updat unit state attorney manual usam section titl associ general approv notic requir issu implic religi liberti general issu memorandum execut depart agenc entitl feder protect religi liberti memo direct compon unit state offic guidanc litig advic execut branch oper grant aspect work order ensur complianc general memo usam updat languag direct relev compon updat usam also instruct relev compon consult religi liberti principl laid general octob memo consid whether notic approv requir initi order fulli effectu approv notic requir updat usam instruct attorney design point contact lead effort religi liberti inalien right protect constitut defend import thing said associ general rachel brand presid trump direct general session issu robust clear guidanc document octob clear explain feder govern appli religi liberti protect current book requir offic design religi liberti point contact ensur general memorandum effect implement designe respons work direct leadership offic case relat religi liberti ensur case receiv rigor attent deserv</td>\n",
       "      <td>0.998535</td>\n",
       "      <td>0.000925</td>\n",
       "      <td>0.000540</td>\n",
       "      <td>0</td>\n",
       "      <td>[washington_paul, paul_miller, miller_denham, denham_spring, spring_convict, convict_late, late_yesterday, yesterday_count, count_produc, produc_count, count_possess, possess_child, child_pornographi, pornographi_announc, announc_general, general_lanni, lanni_breuer, breuer_crimin, crimin_donald, donald_cazayoux, cazayoux_middl, middl_louisiana, louisiana_miller, miller_convict, convict_feder, feder_juri, juri_follow, follow_judg, judg_jame, jame_bradi, bradi_presid, presid_evid, evid_present, present_show, show_octob, octob_miller, miller_sexual, sexual_abus, abus_year, year_girl, girl_year, year_girl, girl_produc, produc_numer, numer_photograph, photograph_abus, abus_accord, accord_evid, evid_forens, forens_examin, examin_miller, miller_comput, comput_reveal, reveal_miller, miller_use, use_comput, comput_print, print_possess, possess_numer, numer_imag, imag_child, child_pornographi, pornographi_includ, includ_imag, imag_child, child_pornographi, pornographi_produc, produc_imag, imag_child, child_victim, victim_miller, miller_face, face_maximum, maximum_statutori, statutori_sentenc, sentenc_year, year_prison, prison_count, count_product, product_child, child_pornographi, pornographi_year, year_prison, prison_possess, possess_child, child_pornographi, pornographi_count, count_prosecut, prosecut_alecia, alecia_riewert, riewert_wolak, wolak_crimin, crimin_child, child_exploit, exploit_obscen, obscen_section, section_ceo, ceo_richard, richard_bourgeoi, bourgeoi_middl, ...]</td>\n",
       "    </tr>\n",
       "    <tr>\n",
       "      <th>6733</th>\n",
       "      <td>16-1321</td>\n",
       "      <td>Justice Department Reaches Agreement with City of Yonkers, New York, to Enhance Police Department Policies and Procedures</td>\n",
       "      <td>The Justice Department announced today that it has reached an agreement with the city of Yonkers, New York, and the Yonkers Police Department (YPD) to resolve the department’s investigation of YPD and ensure constitutional policing. The agreement is the result of the department’s investigation of YPD under the Violent Crime Control and Law Enforcement Act of 1994 and the Omnibus Crime Control and Safe Streets Act of 1968.  In June 2009, the United States sent the city a technical assistance letter that identified necessary reforms to YPD practices and policies in the areas of use of force, civilian complaints, investigations, supervisory oversight and training.  After receiving the department’s technical assistance letter, the city and YPD made substantial changes to its policies and procedures.  This agreement implements and further improves those policies and procedures and addresses the department’s remaining concerns.  “This agreement will ensure that the Yonkers Police Department continues to advance constitutional, effective and community-oriented policing,” said Principal Deputy Assistant Attorney General Vanita Gupta, head of the Justice Department’s Civil Rights Division.  “Through clear policy guidance, data analysis and accountability systems, we believe these reforms will make the entire community safer and strengthen public trust in the police.” “This agreement ensures that the Yonkers Police Department polices in a way that keeps its citizens safe, while protecting their constitutional rights,” said U.S. Attorney Preet Bharara of the Southern District of New York.  “The measures put in place with this agreement, including clear and reasonable use-of-force policies and guidance on how to properly evaluate and respond to use-of-force incidents, will make Yonkers safer for citizens and police alike.  We thank the Yonkers Police Department and the city of Yonkers for cooperating with our investigation, and for joining our effort to ensure that the Yonkers Police Department protects its citizens not only from physical harm, but also from violations of their constitutional rights.” The agreement is carefully tailored to address the department’s remaining concerns while also taking into account and seeking to build upon the positive reforms YPD has already made following the department’s investigation.  Under the agreement, the YPD will, among other things: The agreement also provides that consultants retained by the department will conduct compliance reviews to ensure that YPD has implemented the measures required by the agreement and issue public reports of those compliance reviews. This case is being handled by the Civil Rights Division’s Special Litigation Section and the U.S. Attorney’s Office of the Southern District of New York. Yonkers Police Department Agreement</td>\n",
       "      <td>2016-11-14T00:00:00-05:00</td>\n",
       "      <td>Civil Rights</td>\n",
       "      <td>Civil Rights Division; Civil Rights - Special Litigation Section; USAO - New York, Southern</td>\n",
       "      <td>0.199</td>\n",
       "      <td>0.778</td>\n",
       "      <td>0.199</td>\n",
       "      <td>0.9950</td>\n",
       "      <td>announc today reach agreement citi yonker york yonker polic resolv ensur constitut polic agreement result violent crime control enforc omnibus crime control safe street june unit state sent citi technic letter identifi necessari reform practic polici area forc civilian complaint investig supervisori oversight train receiv technic letter citi made substanti chang polici procedur agreement implement improv polici procedur address remain concern agreement ensur yonker polic continu advanc constitut effect communiti orient polic said princip deputi general vanita gupta head clear polici guidanc data analysi account system believ reform make entir communiti safer strengthen public trust polic agreement ensur yonker polic polic keep citizen safe protect constitut said preet bharara southern york measur place agreement includ clear reason forc polici guidanc proper evalu respond forc incid make yonker safer citizen polic alik thank yonker polic citi yonker cooper join effort ensur yonker polic protect citizen physic harm also violat constitut agreement care tailor address remain concern also take account seek build upon posit reform alreadi made follow agreement among thing agreement also provid consult retain conduct complianc review ensur implement measur requir agreement issu public report complianc review handl special litig section southern york yonker polic agreement</td>\n",
       "      <td>0.999066</td>\n",
       "      <td>0.000590</td>\n",
       "      <td>0.000344</td>\n",
       "      <td>0</td>\n",
       "      <td>[washington_paul, paul_miller, miller_denham, denham_spring, spring_convict, convict_late, late_yesterday, yesterday_count, count_produc, produc_count, count_possess, possess_child, child_pornographi, pornographi_announc, announc_general, general_lanni, lanni_breuer, breuer_crimin, crimin_donald, donald_cazayoux, cazayoux_middl, middl_louisiana, louisiana_miller, miller_convict, convict_feder, feder_juri, juri_follow, follow_judg, judg_jame, jame_bradi, bradi_presid, presid_evid, evid_present, present_show, show_octob, octob_miller, miller_sexual, sexual_abus, abus_year, year_girl, girl_year, year_girl, girl_produc, produc_numer, numer_photograph, photograph_abus, abus_accord, accord_evid, evid_forens, forens_examin, examin_miller, miller_comput, comput_reveal, reveal_miller, miller_use, use_comput, comput_print, print_possess, possess_numer, numer_imag, imag_child, child_pornographi, pornographi_includ, includ_imag, imag_child, child_pornographi, pornographi_produc, produc_imag, imag_child, child_victim, victim_miller, miller_face, face_maximum, maximum_statutori, statutori_sentenc, sentenc_year, year_prison, prison_count, count_product, product_child, child_pornographi, pornographi_year, year_prison, prison_possess, possess_child, child_pornographi, pornographi_count, count_prosecut, prosecut_alecia, alecia_riewert, riewert_wolak, wolak_crimin, crimin_child, child_exploit, exploit_obscen, obscen_section, section_ceo, ceo_richard, richard_bourgeoi, bourgeoi_middl, ...]</td>\n",
       "    </tr>\n",
       "    <tr>\n",
       "      <th>6905</th>\n",
       "      <td>16-740</td>\n",
       "      <td>Justice Department Reaches Settlement to Reform Criminal Justice System in Hinds County, Mississippi</td>\n",
       "      <td>The Justice Department today reached a landmark settlement agreement to reform the criminal justice system in Hinds County, Mississippi.  The agreement resolves the department’s findings that the Hinds County Adult Detention Center and the Jackson City Detention Center – which together form the Hinds County Jail – failed to protect prisoners from violence and excessive force and held them past their court-ordered release dates, in violation of the Civil Rights of Institutionalized Persons Act (CRIPA). The settlement agreement is the first of its kind to incorporate broader criminal justice system reform through diversion at the front end and reentry to the community after incarceration.  It creates a criminal justice coordinating committee that will help ensure the county’s systems operate effectively and efficiently, develop interventions to divert individuals in appropriate cases from arrest, detention and incarceration, and engage in community outreach.  To promote successful reentry, the agreement includes mechanisms for notifying community health providers when a person with serious mental illness is released to help the person transition safely back to the community.  The agreement also addresses unlawful enforcement of court-ordered fines and fees by ensuring that the county cannot incarcerate an individual for non-payment if the court does not first assess whether the individual is indigent. “Across the board, this settlement will make the Hinds County criminal justice system smarter and fairer,” said Principal Deputy Assistant Attorney General Vanita Gupta, head of the Justice Department’s Civil Rights Division.  “If implemented, these reforms will make pretrial detainees, prisoners, corrections staff and the entire community safer, while also ensuring that vulnerable individuals get access to the treatment, care and community services they need and deserve.  We commend the county for its commitment to making these reforms a reality.” “For too long, the conditions in the Jail have posed a serious challenge to law enforcement and the safety of our community,” said U.S. Attorney Gregory K. Davis of the Southern District of Mississippi.  “I appreciate the commitment made by Hinds County officials to turn the page and begin making necessary reforms.” The settlement agreement – subject to approval by the U.S. District Court of the Southern District of Mississippi – requires the county to implement a series of reforms across various stages of the criminal justice system, including the following: Together these reforms aim to improve communication and coordination among criminal justice entities and community service providers to help individuals with mental illness transition back to the community and to reduce recidivism.  If approved by the federal district court, an independent monitor will be appointed to assess the county’s compliance.  In May 2015, the Justice Department completed a comprehensive investigation – which included on-site inspections, document reviews and stakeholder interviews by department experts and staff – and issued a findings letter that determined that Hinds County Adult Detention Center and the Jackson City Detention Center violated CRIPA by failing to protect prisoners from violence by other prisoners and from improper use of force by staff.  The department also found that inadequate staffing and training, a backlog in record filing and a lack of centralized information resulted in prisoners being held beyond court-ordered release dates. CRIPA authorizes the department to seek a remedy for a pattern or practice of conduct that violates the constitutional rights of persons confined in a jail, prison or other correctional facility.  For more information on the Civil Rights Division’s work in this area, please visit www.justice.gov/crt. Hinds County Settlement Agreement Hinds County Fact Sheet</td>\n",
       "      <td>2016-06-23T00:00:00-04:00</td>\n",
       "      <td>Civil Rights</td>\n",
       "      <td>Civil Rights Division; Civil Rights - Special Litigation Section; USAO - Mississippi, Southern</td>\n",
       "      <td>0.205</td>\n",
       "      <td>0.659</td>\n",
       "      <td>0.205</td>\n",
       "      <td>0.9888</td>\n",
       "      <td>today reach landmark settlement agreement reform crimin system hind counti mississippi agreement resolv find hind counti adult detent center jackson citi detent center togeth form hind counti jail fail protect prison violenc excess forc held past court order releas date violat institution person cripa settlement agreement first kind incorpor broader crimin system reform divers front reentri communiti incarcer creat crimin coordin committe help ensur counti system oper effect effici develop intervent divert individu appropri case arrest detent incarcer engag communiti outreach promot success reentri agreement includ mechan notifi communiti health provid person serious mental ill releas help person transit safe back communiti agreement also address unlaw enforc court order fine fee ensur counti cannot incarcer individu payment court first assess whether individu indig across board settlement make hind counti crimin system smarter fairer said princip deputi general vanita gupta head implement reform make pretrial detaine prison correct staff entir communiti safer also ensur vulner individu access treatment care communiti servic need deserv commend counti commit make reform realiti long condit jail pose serious challeng enforc safeti communiti said gregori davi southern mississippi appreci commit made hind counti offici turn page begin make necessari reform settlement agreement subject approv court southern mississippi requir counti implement seri reform across various stage crimin system includ follow togeth reform improv communic coordin among crimin entiti communiti servic provid help individu mental ill transit back communiti reduc recidiv approv feder court independ monitor appoint assess counti complianc complet comprehens includ site inspect document review stakehold interview expert staff issu find letter determin hind counti adult detent center jackson citi detent center violat cripa fail protect prison violenc prison improp forc staff also found inadequ staf train backlog record file lack central inform result prison held beyond court order releas date cripa author seek remedi pattern practic conduct violat constitut person confin jail prison correct facil inform work area pleas visit hind counti settlement agreement hind counti fact sheet</td>\n",
       "      <td>0.887984</td>\n",
       "      <td>0.111796</td>\n",
       "      <td>0.000220</td>\n",
       "      <td>0</td>\n",
       "      <td>[washington_paul, paul_miller, miller_denham, denham_spring, spring_convict, convict_late, late_yesterday, yesterday_count, count_produc, produc_count, count_possess, possess_child, child_pornographi, pornographi_announc, announc_general, general_lanni, lanni_breuer, breuer_crimin, crimin_donald, donald_cazayoux, cazayoux_middl, middl_louisiana, louisiana_miller, miller_convict, convict_feder, feder_juri, juri_follow, follow_judg, judg_jame, jame_bradi, bradi_presid, presid_evid, evid_present, present_show, show_octob, octob_miller, miller_sexual, sexual_abus, abus_year, year_girl, girl_year, year_girl, girl_produc, produc_numer, numer_photograph, photograph_abus, abus_accord, accord_evid, evid_forens, forens_examin, examin_miller, miller_comput, comput_reveal, reveal_miller, miller_use, use_comput, comput_print, print_possess, possess_numer, numer_imag, imag_child, child_pornographi, pornographi_includ, includ_imag, imag_child, child_pornographi, pornographi_produc, produc_imag, imag_child, child_victim, victim_miller, miller_face, face_maximum, maximum_statutori, statutori_sentenc, sentenc_year, year_prison, prison_count, count_product, product_child, child_pornographi, pornographi_year, year_prison, prison_possess, possess_child, child_pornographi, pornographi_count, count_prosecut, prosecut_alecia, alecia_riewert, riewert_wolak, wolak_crimin, crimin_child, child_exploit, exploit_obscen, obscen_section, section_ceo, ceo_richard, richard_bourgeoi, bourgeoi_middl, ...]</td>\n",
       "    </tr>\n",
       "    <tr>\n",
       "      <th>11066</th>\n",
       "      <td>16-163</td>\n",
       "      <td>Statement from Head of the Civil Rights Division Vanita Gupta Regarding Ferguson, Missouri, City Council Vote on Proposed Consent Decree</td>\n",
       "      <td>Principal Deputy Assistant Attorney General Vanita Gupta, head of the Justice Department’s Civil Rights Division, released the following statement regarding the Ferguson, Missouri, City Council vote on the proposed consent decree with the Department of Justice:  “The Ferguson City Council has attempted to unilaterally amend the negotiated agreement.  Their vote to do so creates an unnecessary delay in the essential work to bring constitutional policing to the city, and marks an unfortunate outcome for concerned community members and Ferguson police officers.  Both parties engaged in thoughtful negotiations over many months to create an agreement with cost-effective remedies that would ensure Ferguson brings policing and court practices in line with the Constitution.  The agreement already negotiated by the department and the city will provide Ferguson residents a police department and municipal court that fully respects civil rights and operates free from racial discrimination. “The Department of Justice will take the necessary legal actions to ensure that Ferguson’s policing and court practices comply with the Constitution and relevant federal laws.”</td>\n",
       "      <td>2016-02-10T00:00:00-05:00</td>\n",
       "      <td>Civil Rights</td>\n",
       "      <td>Civil Rights Division; Civil Rights - Special Litigation Section</td>\n",
       "      <td>0.217</td>\n",
       "      <td>0.752</td>\n",
       "      <td>0.217</td>\n",
       "      <td>0.9811</td>\n",
       "      <td>princip deputi general vanita gupta head releas follow statement regard ferguson missouri citi council vote propos consent decre ferguson citi council attempt unilater amend negoti agreement vote creat unnecessari delay essenti work bring constitut polic citi mark unfortun outcom concern communiti member ferguson polic offic parti engag thought negoti mani month creat agreement cost effect remedi would ensur ferguson bring polic court practic line constitut agreement alreadi negoti citi provid ferguson resid polic municip court fulli respect oper free racial discrimin take necessari legal action ensur ferguson polic court practic compli constitut relev feder law</td>\n",
       "      <td>0.997998</td>\n",
       "      <td>0.001264</td>\n",
       "      <td>0.000737</td>\n",
       "      <td>0</td>\n",
       "      <td>[washington_paul, paul_miller, miller_denham, denham_spring, spring_convict, convict_late, late_yesterday, yesterday_count, count_produc, produc_count, count_possess, possess_child, child_pornographi, pornographi_announc, announc_general, general_lanni, lanni_breuer, breuer_crimin, crimin_donald, donald_cazayoux, cazayoux_middl, middl_louisiana, louisiana_miller, miller_convict, convict_feder, feder_juri, juri_follow, follow_judg, judg_jame, jame_bradi, bradi_presid, presid_evid, evid_present, present_show, show_octob, octob_miller, miller_sexual, sexual_abus, abus_year, year_girl, girl_year, year_girl, girl_produc, produc_numer, numer_photograph, photograph_abus, abus_accord, accord_evid, evid_forens, forens_examin, examin_miller, miller_comput, comput_reveal, reveal_miller, miller_use, use_comput, comput_print, print_possess, possess_numer, numer_imag, imag_child, child_pornographi, pornographi_includ, includ_imag, imag_child, child_pornographi, pornographi_produc, produc_imag, imag_child, child_victim, victim_miller, miller_face, face_maximum, maximum_statutori, statutori_sentenc, sentenc_year, year_prison, prison_count, count_product, product_child, child_pornographi, pornographi_year, year_prison, prison_possess, possess_child, child_pornographi, pornographi_count, count_prosecut, prosecut_alecia, alecia_riewert, riewert_wolak, wolak_crimin, crimin_child, child_exploit, exploit_obscen, obscen_section, section_ceo, ceo_richard, richard_bourgeoi, bourgeoi_middl, ...]</td>\n",
       "    </tr>\n",
       "    <tr>\n",
       "      <th>6727</th>\n",
       "      <td>16-217</td>\n",
       "      <td>Justice Department Reaches Agreement with the City of Miami and the Miami Police Department to Implement Reforms on Officer-Involved Shootings</td>\n",
       "      <td>The Justice Department has reached a comprehensive settlement agreement with the city of Miami and the Miami Police Department (MPD) resolving the Justice Department’s investigation of officer-involved shootings by MPD officers, announced Principal Deputy Assistant Attorney General Vanita Gupta, head of the Justice Department’s Civil Rights Division and U.S. Attorney Wifredo A. Ferrer of the Southern District of Florida. The settlement, which was approved by Miami’s city commission today and will go into effect when the agreement is signed by all parties, resolves claims stemming from the Justice Department’s investigation into officer-involved shootings by MPD officers, which was conducted under the Violent Crime Control and Law Enforcement Act of 1994.  The investigation’s findings, issued in July 2013, identified a pattern or practice of excessive use of force through officer-involved shootings in violation of the Fourth Amendment of the Constitution.  The city’s compliance with the settlement will be monitored by an independent reviewer, former Tampa, Florida, Police Chief Jane Castor.  Under the settlement agreement, the city will implement comprehensive reforms to ensure constitutional policing and support public trust.  The settlement agreement is designed to minimize officer-involved shootings and to more effectively and quickly investigate officer-involved shootings that do occur, through measures that include: “This settlement represents a renewed commitment by the city of Miami and Chief Rodolfo Llanes to provide constitutional policing for Miami residents and to protect public safety through sustainable reform,” said Principal Deputy Assistant Attorney General Gupta.  “The agreement will help to strengthen the relationship between the MPD and the communities they serve by improving accountability for officers who fire their weapons unlawfully, and provides for community participation in the enforcement of this agreement.”  “Today's agreement is the result of a joint effort between the Department of Justice and the City of Miami to ensure that the Miami Police Department continues its efforts to make our community safe while protecting the sacred Constitutional rights of all of our citizens,” said U.S. Attorney Ferrer.  “Through oversight and communication, the agreement seeks to make permanent the positive changes that former Chief Orosa and Chief Llanes have made, and we applaud the City Commission’s vote.” The settlement agreement builds upon important reforms implemented by the city since the Justice Department issued its findings, including:  The investigation was conducted by attorneys and staff from the Civil Rights Division’s Special Litigation Section and the Civil Division of the U. S. Attorney’s Office of the Southern District of Florida.</td>\n",
       "      <td>2016-02-25T00:00:00-05:00</td>\n",
       "      <td>Civil Rights</td>\n",
       "      <td>Civil Rights Division; Civil Rights - Special Litigation Section; USAO - Florida, Southern</td>\n",
       "      <td>0.222</td>\n",
       "      <td>0.755</td>\n",
       "      <td>0.222</td>\n",
       "      <td>0.9966</td>\n",
       "      <td>reach comprehens settlement agreement citi miami miami polic resolv offic involv shoot offic announc princip deputi general vanita gupta head wifredo ferrer southern florida settlement approv miami citi commiss today effect agreement sign parti resolv claim stem offic involv shoot offic conduct violent crime control enforc find issu juli identifi pattern practic excess forc offic involv shoot violat fourth amend constitut citi complianc settlement monitor independ review former tampa florida polic chief jane castor settlement agreement citi implement comprehens reform ensur constitut polic support public trust settlement agreement design minim offic involv shoot effect quick investig offic involv shoot occur measur includ settlement repres renew commit citi miami chief rodolfo llane provid constitut polic miami resid protect public safeti sustain reform said princip deputi general gupta agreement help strengthen relationship communiti serv improv account offic fire weapon unlaw provid communiti particip enforc agreement today agreement result joint effort citi miami ensur miami polic continu effort make communiti safe protect sacr constitut citizen said ferrer oversight communic agreement seek make perman posit chang former chief orosa chief llane made applaud citi commiss vote settlement agreement build upon import reform implement citi sinc issu find includ conduct attorney staff special litig section southern florida</td>\n",
       "      <td>0.999153</td>\n",
       "      <td>0.000535</td>\n",
       "      <td>0.000312</td>\n",
       "      <td>0</td>\n",
       "      <td>[washington_paul, paul_miller, miller_denham, denham_spring, spring_convict, convict_late, late_yesterday, yesterday_count, count_produc, produc_count, count_possess, possess_child, child_pornographi, pornographi_announc, announc_general, general_lanni, lanni_breuer, breuer_crimin, crimin_donald, donald_cazayoux, cazayoux_middl, middl_louisiana, louisiana_miller, miller_convict, convict_feder, feder_juri, juri_follow, follow_judg, judg_jame, jame_bradi, bradi_presid, presid_evid, evid_present, present_show, show_octob, octob_miller, miller_sexual, sexual_abus, abus_year, year_girl, girl_year, year_girl, girl_produc, produc_numer, numer_photograph, photograph_abus, abus_accord, accord_evid, evid_forens, forens_examin, examin_miller, miller_comput, comput_reveal, reveal_miller, miller_use, use_comput, comput_print, print_possess, possess_numer, numer_imag, imag_child, child_pornographi, pornographi_includ, includ_imag, imag_child, child_pornographi, pornographi_produc, produc_imag, imag_child, child_victim, victim_miller, miller_face, face_maximum, maximum_statutori, statutori_sentenc, sentenc_year, year_prison, prison_count, count_product, product_child, child_pornographi, pornographi_year, year_prison, prison_possess, possess_child, child_pornographi, pornographi_count, count_prosecut, prosecut_alecia, alecia_riewert, riewert_wolak, wolak_crimin, crimin_child, child_exploit, exploit_obscen, obscen_section, section_ceo, ceo_richard, richard_bourgeoi, bourgeoi_middl, ...]</td>\n",
       "    </tr>\n",
       "  </tbody>\n",
       "</table>\n",
       "<p>717 rows × 16 columns</p>\n",
       "</div>"
      ],
      "text/plain": [
       "            id  \\\n",
       "Index            \n",
       "5247    18-913   \n",
       "8075   11-1245   \n",
       "8353   11-1331   \n",
       "7618    17-242   \n",
       "8847    17-550   \n",
       "...        ...   \n",
       "6089    18-119   \n",
       "6733   16-1321   \n",
       "6905    16-740   \n",
       "11066   16-163   \n",
       "6727    16-217   \n",
       "\n",
       "                                                                                                                                                                                   title  \\\n",
       "Index                                                                                                                                                                                      \n",
       "5247                                                                                         Grapevine Texas Man Pleads Guilty to Federal Hate Crime  Against an African-American Family   \n",
       "8075                                                                                                               Louisiana Man Convicted of Producing and Possessing Child Pornography   \n",
       "8353                                                                                                       Massachusetts Man Pleads Guilty to Receiving and Possessing Child Pornography   \n",
       "7618                                                                             Justice Department Sues Edmonds, Washington Landlords for Discriminating Against Families With Children   \n",
       "8847                                                          Mother Sentenced to 26 Months in Prison for Taking Child from Illinois to Canada in International Parental Kidnapping Case   \n",
       "...                                                                                                                                                                                  ...   \n",
       "6089   Justice Department Announces Religious Liberty Update to U.S. Attorneys’ Manual and Directs the Designation of Religious Liberty Point of Contact for All U.S. Attorney's Offices   \n",
       "6733                                                           Justice Department Reaches Agreement with City of Yonkers, New York, to Enhance Police Department Policies and Procedures   \n",
       "6905                                                                                Justice Department Reaches Settlement to Reform Criminal Justice System in Hinds County, Mississippi   \n",
       "11066                                           Statement from Head of the Civil Rights Division Vanita Gupta Regarding Ferguson, Missouri, City Council Vote on Proposed Consent Decree   \n",
       "6727                                      Justice Department Reaches Agreement with the City of Miami and the Miami Police Department to Implement Reforms on Officer-Involved Shootings   \n",
       "\n",
       "                                                                                                                                                                                                                                                                                                                                                                                                                                                                                                                                                                                                                                                                                                                                                                                                                                                                                                                                                                                                                                                                                                                                                                                                                                                                                                                                                                                                                                                                                                                                                                                                                                                                                                                                                                                                                                                                                                                                                                                                                                                                                                                                                                                                                                                                                                                                                                                                                                                                                                                                                                                                                                                                                                                                                                                                                                                                                                                                                                                                                                                                                                                                                                                                                                                                                                                                                                                                                                                                                                                                                                                                                                                                                                                                                                                                                                                                                                                                                                                                                                                    contents  \\\n",
       "Index                                                                                                                                                                                                                                                                                                                                                                                                                                                                                                                                                                                                                                                                                                                                                                                                                                                                                                                                                                                                                                                                                                                                                                                                                                                                                                                                                                                                                                                                                                                                                                                                                                                                                                                                                                                                                                                                                                                                                                                                                                                                                                                                                                                                                                                                                                                                                                                                                                                                                                                                                                                                                                                                                                                                                                                                                                                                                                                                                                                                                                                                                                                                                                                                                                                                                                                                                                                                                                                                                                                                                                                                                                                                                                                                                                                                                                                                                                                                                                                                                                                          \n",
       "5247                                                                                                                                                                                                                                                                                                                                                                                                                                                                                                                                                                                                                                                                                                                                                                                                                                                                                                                                                                                                                                                                                                                                                                                                                                                                                                                                                                                                                                                                                                                                                                                                                                                                                                                                                                              Glenn Eugene Halfin, 64, from Grapevine, Texas, appeared today before U.S. Magistrate Judge Jeffrey L. Cureton in the U.S. District Court for the Northern District of Texas and pleaded guilty to a federal charge of interfering with an African-American family’s housing rights, announced Acting Assistant Attorney General John Gore of the Civil Rights Division and U.S. Attorney Erin Nealy Cox of the Northern District of Texas. According to court documents, Halfin threatened force, intimidated, and interfered with a family because of their race and occupancy of an apartment that was located directly above his own apartment.  According to documents filed in connection with the guilty plea, on Dec. 19, 2017, Halfin purchased a baby doll at a Wal-Mart in Grapevine, Texas. He took a rope, fashioned it into a noose, and hung the baby doll from the noose. Halfin then hung the rope noose and baby doll on the railing directly in front of the only staircase the family could use to access their apartment. Halfin did so, knowing that this display would be particularly intimidating for the family who had a young daughter. In addition, the defendant referenced in his factual basis repeated intimidation of and interference with the same African-American family on other occasions. “The Justice Department will not tolerate acts of intimidation and fear, or illegal threats against any individual or family because of their race,” said Acting Assistant Attorney John Gore. “We will continue to prosecute hate crime offenders.” “No one should be afraid to go home at night,” said U.S. Attorney Erin Nealy Cox.  “Our community will not tolerate crimes of intimidation or bigotry, and my office will continue to prosecute all those who persecute others based on their race, color, ethnicity, or religious beliefs.” Halfin faces a statutory maximum penalty of no more one year in federal prison and a $100,000 fine. His sentencing is scheduled for October 24. This case was investigated by the FBI and the Grapevine Police Department. The case was prosecuted by Trial Attorney Rebekah Bailey of the Civil Rights Division’s Criminal Section and Assistant United States Attorney Nicole Dana.   \n",
       "8075                                                                                                                                                                                                                                                                                                                                                                                                                                                                                                                                                                                                                                                                                                                                                                                                                                                                                                                                                                                                                                                                                                                                                                                                                                                                                                                                                                                                                                                                                                                                                                                                                                                                                                                                                                                                                                                                                                                                                                                                                                                                                                                                                                                                                                                                                                                                                                                                                                                                                                             WASHINGTON –    Paul W. Miller, of Denham Springs, La., was convicted late yesterday of two counts of producing and one count of possessing child pornography, announced Assistant Attorney General Lanny A. Breuer of the Criminal Division and U.S. Attorney Donald J. Cazayoux Jr. of the Middle District of Louisiana.        Miller, 44, was convicted by a federal jury following a two-day trial.  U.S. District Judge James J. Brady presided over the trial.       Evidence presented at trial showed that from October 2007 to May 2008, Miller sexually abused a 12-year-old girl and an 11-year-old girl and produced numerous photographs of the abuse.  According to trial evidence, forensic examination of Miller’s computer revealed that Miller had used his computer to print and possess numerous images of child pornography, including both the images of child pornography he had produced and images of other child victims.                 Miller faces a maximum statutory sentence of 30 years in prison for each count of production of child pornography and 10 years in prison for the possession of child pornography count.       The case is being prosecuted by Trial Attorney Alecia Riewerts Wolak of the Criminal Division’s Child Exploitation and Obscenity Section (CEOS) and Assistant U.S. Attorney Richard L. Bourgeois Jr. of the Middle District of Louisiana.  The investigation was conducted by the FBI, the Denham Springs Police Department and the Louisiana Attorney General’s Office.   \n",
       "8353                                                                                                                                                                                                                                                                                                                                                                                                                                                                                                                                                                                                                                                                                                                                                                                                                                                                                                                                                                                                                                                                                                                                                                                                                                                                                                                                                                                                                                                                                                                                                                                                                                                                                                                                                                                                                                                                                                                                                                                                                                                                                                                                                                                                                                                                                                                                                                                                                                                                                                                                                                                                                                                                               WASHINGTON –    A Springfield, Mass., man pleaded guilty today to receiving and possessing child pornography, announced Assistant Attorney General Lanny A. Breuer of the Criminal Division.       Robert Rosenbeck, 48, pleaded guilty before U.S. District Judge Denise J. Casper in Boston to one count of receipt of child pornography and two counts of possession of child pornography.  He was indicted on those charges on Dec. 10, 2009.        According to court documents, Rosenbeck possessed two different computers containing child pornography in 2007.  Additionally, from approximately July 22, 2007, to July 25, 2007, Rosenbeck received computer files containing child pornography from an Internet website.                 At sentencing, scheduled for Dec. 5, 2011, Rosenbeck faces a maximum statutory sentence of 20 years in prison for the receipt of child pornography count and 10 years in prison for each count of possession of child pornography.  Rosenbeck also faces a term of supervised release of at least five years and up to life.       The case is being prosecuted by Trial Attorneys Alecia Riewerts Wolak and Michael W. Grant of the Criminal Division’s Child Exploitation and Obscenity Section (CEOS).  The investigation was conducted by the FBI with assistance provided by the Springfield Police Department.   \n",
       "7618                                                                                                                                                                                                                                                                                                                                                                                                                                                                                                                                                                 The U.S. Department of Justice today filed a lawsuit in U.S. District Court for the Western District of Washington alleging that the owners and manager of three Edmonds, Washington apartment buildings refused to rent their apartments to families with children, in violation of the Fair Housing Act.    “The Fair Housing Act prohibits landlords from denying apartments to families just because they have children,” said Acting Assistant Attorney General Tom Wheeler of the Justice Department’s Civil Rights Division. “Many families already face challenges finding affordable housing, and they should not also have to deal with unlawful discrimination.”   “Equal access to housing is essential for all Americans, including families with young children,” said U.S. Attorney Annette L. Hayes of the Western District of Washington. “Particularly in our tight housing market, landlords must follow the law and make units available without discrimination based on race, color, religion, sex, national origin, disability or familial status.”   The complaint concerns three apartment buildings – located at 201 5th Ave. N., 621 5th Ave. S., and 401 Pine Street in Edmonds – that are managed by defendant Debbie A. Appleby, of Stanwood, Washington. The properties are owned by three Limited Liability Corporations (LLCs) controlled by Appleby – Apple One, LLC, Apple Two, LLC, and Apple Three, LLC—which are also named as defendants in the suit. The complaint alleges that in March 2014, defendant Appleby told a woman seeking an apartment for herself, her husband, and their one year old child that the apartment buildings were “adult only” and therefore not available to her family. The complaint also alleges that at various other times from April 2014 to November 2015, defendants advertised their available apartments as being restricted to adults only. The family filed a complaint with the Department of Housing and Urban Development (“HUD”) which conducted an investigation, issued a charge of discrimination against the defendants, and referred the case to the Department of Justice.    The complaint seeks a court order requiring defendants to cease their discriminatory housing practices, damages for the family that filed the HUD complaint and any other families against whom the defendants discriminated against because they had children, and civil penalties. Any individuals who have information relevant to this case are encouraged to contact the Civil Rights Division at 1-800-896-7743, Option 96.   The federal Fair Housing Act prohibits discrimination in housing on the basis of race, color, religion, sex, familial status, national origin and disability. More information about the Civil Rights Division and the civil rights laws it enforces is available at www.usdoj.gov/crt  and https://www.justice.gov/usao-wdwa/civil-rights. Individuals who believe that they have been victims of housing discrimination may call the Justice Department at 1-800-896-7743, email the Justice Department at fairhousing@usdoj.gov, or contact HUD at 1-800-669-9777 or through its website at www.hud.gov.   The case is being jointly handled by the Department’s Civil Rights Division and the U.S. Attorney’s Office for the Western District of Washington.   The complaint is an allegation of unlawful conduct. The allegations must still be proven in federal court.   \n",
       "8847                                                                                                                                                                                                                                                                                                                                                                                                                                                                                                                                                                                                                                                                                                                                                                                                                                                                                                                                                                                                                                                                                                                                                                                                                                                                                                                                                                                                                                                                                                                                                                                                                                                                                                                                                                                                                                                                                                                                                                                                                                                                                                                                                              A Canadian woman was sentenced to serve 26 months in prison following her December conviction for international parental kidnapping, announced Acting Assistant Attorney General Kenneth A. Blanco of the Justice Department’s Criminal Division and Acting U.S. Attorney Patrick D. Hansen of the Central District of Illinois.   Sarah M. Nixon, 48, of Montreal, Canada, was sentenced before U.S. District Judge Colin S. Bruce of the Central District of Illinois. On Dec. 21, 2016, a federal jury found Nixon guilty of one count of international parental kidnapping for taking her minor child from the United States to Canada in July 2015, with the intent to obstruct the lawful exercise of the father’s rights.   Evidence at trial established that after a custody trial where it was apparent that Nixon would lose custody of her six-year-old daughter, Nixon fled the United States with the child in the middle of the night. When she did not appear for the custody ruling and neither she nor her daughter could be located, law enforcement issued a child abduction alert. Nixon and the child were eventually located in a farmhouse in rural Ontario, Canada. Authorities then returned the child to the father. Nixon was arrested in New York on Sept. 20, 2015, as she attempted to return to the United States.    Trial Attorneys Elly M. Peirson and Lauren S. Kupersmith of the Criminal Division’s Child Exploitation and Obscenity Section prosecuted the case. The FBI; Urbana, Illinois, Police Department; University of Illinois Police Department; Illinois Department of Children and Family Services; Ontario Provincial Police; and U.S. Customs and Border Protection investigated the case, with assistance from the Champaign County, Illinois, State’s Attorney’s Office and the Criminal Division’s Office of International Affairs.    \n",
       "...                                                                                                                                                                                                                                                                                                                                                                                                                                                                                                                                                                                                                                                                                                                                                                                                                                                                                                                                                                                                                                                                                                                                                                                                                                                                                                                                                                                                                                                                                                                                                                                                                                                                                                                                                                                                                                                                                                                                                                                                                                                                                                                                                                                                                                                                                                                                                                                                                                                                                                                                                                                                                                                                                                                                                                                                                                                                                                                                                                                                                                                                                                                                                                                                                                                                                                                                                                                                                                                                                                                                                                                                                                                                                                                                                                                                                                                                                                                                                                                                                                                      ...   \n",
       "6089                                                                                                                                                                                                                                                                                                                                                                                                                                                                                                                                                                                                                                                                                                                                                                                                                                                                                                                                                                                                                                                                                                                                                                                                                                                                                                                                                                                                                                                                                                                                                                                                                                                                                                                                                                                                                                                                                                                                           The Department of Justice today announced the update of the United States Attorneys’ Manual (USAM) with a new section titled, “Associate Attorney General’s Approval and Notice Requirements for Issues Implicating Religious Liberty.” On Oct. 6, 2017, the Attorney General issued a Memorandum for All Executive Departments and Agencies entitled Federal Law Protections for Religious Liberty. The memo directed components and United States Attorney’s Offices to use the guidance in litigation, advice to the Executive Branch, operations, grants, and all other aspects of the Department’s work. In order to ensure compliance with the Attorney General’s memo, the USAM will be updated with language that directs relevant Department of Justice components to: The updated USAM will also instruct relevant Justice Department components to consult the 20 religious liberty principles laid out in the Attorney General’s October 6 memo when considering whether the notice or approval requirements are initiated. In order to fully effectuate the approval and notice requirements in the updated USAM, the Department will instruct all U.S. Attorneys to designate a point of contact to lead these efforts for their office. “Religious liberty is an inalienable right protected by the Constitution, and defending it is one of the most important things we do at the Department of Justice,” said Associate Attorney General Rachel Brand. At President Trump's direction, Attorney General Sessions issued a robust and clear guidance document in October that clearly explains how the federal government is to apply the religious liberty protections currently on the books.  The requirement that each of the U.S. Attorney offices designate a religious liberty point of contact will ensure that the Attorney General’s Memorandum is effectively implemented. The designees will be responsible for working directly with the leadership offices on civil cases related to religious liberty, ensuring that these cases receive the rigorous attention they deserve.   \n",
       "6733                                                                                                                                                                                                                                                                                                                                                                                                                                                                                                                                                                                                                                                                                                                                                                                                                                                                                                                                                                                                                                                                                                            The Justice Department announced today that it has reached an agreement with the city of Yonkers, New York, and the Yonkers Police Department (YPD) to resolve the department’s investigation of YPD and ensure constitutional policing. The agreement is the result of the department’s investigation of YPD under the Violent Crime Control and Law Enforcement Act of 1994 and the Omnibus Crime Control and Safe Streets Act of 1968.  In June 2009, the United States sent the city a technical assistance letter that identified necessary reforms to YPD practices and policies in the areas of use of force, civilian complaints, investigations, supervisory oversight and training.  After receiving the department’s technical assistance letter, the city and YPD made substantial changes to its policies and procedures.  This agreement implements and further improves those policies and procedures and addresses the department’s remaining concerns.  “This agreement will ensure that the Yonkers Police Department continues to advance constitutional, effective and community-oriented policing,” said Principal Deputy Assistant Attorney General Vanita Gupta, head of the Justice Department’s Civil Rights Division.  “Through clear policy guidance, data analysis and accountability systems, we believe these reforms will make the entire community safer and strengthen public trust in the police.” “This agreement ensures that the Yonkers Police Department polices in a way that keeps its citizens safe, while protecting their constitutional rights,” said U.S. Attorney Preet Bharara of the Southern District of New York.  “The measures put in place with this agreement, including clear and reasonable use-of-force policies and guidance on how to properly evaluate and respond to use-of-force incidents, will make Yonkers safer for citizens and police alike.  We thank the Yonkers Police Department and the city of Yonkers for cooperating with our investigation, and for joining our effort to ensure that the Yonkers Police Department protects its citizens not only from physical harm, but also from violations of their constitutional rights.” The agreement is carefully tailored to address the department’s remaining concerns while also taking into account and seeking to build upon the positive reforms YPD has already made following the department’s investigation.  Under the agreement, the YPD will, among other things: The agreement also provides that consultants retained by the department will conduct compliance reviews to ensure that YPD has implemented the measures required by the agreement and issue public reports of those compliance reviews. This case is being handled by the Civil Rights Division’s Special Litigation Section and the U.S. Attorney’s Office of the Southern District of New York. Yonkers Police Department Agreement   \n",
       "6905   The Justice Department today reached a landmark settlement agreement to reform the criminal justice system in Hinds County, Mississippi.  The agreement resolves the department’s findings that the Hinds County Adult Detention Center and the Jackson City Detention Center – which together form the Hinds County Jail – failed to protect prisoners from violence and excessive force and held them past their court-ordered release dates, in violation of the Civil Rights of Institutionalized Persons Act (CRIPA). The settlement agreement is the first of its kind to incorporate broader criminal justice system reform through diversion at the front end and reentry to the community after incarceration.  It creates a criminal justice coordinating committee that will help ensure the county’s systems operate effectively and efficiently, develop interventions to divert individuals in appropriate cases from arrest, detention and incarceration, and engage in community outreach.  To promote successful reentry, the agreement includes mechanisms for notifying community health providers when a person with serious mental illness is released to help the person transition safely back to the community.  The agreement also addresses unlawful enforcement of court-ordered fines and fees by ensuring that the county cannot incarcerate an individual for non-payment if the court does not first assess whether the individual is indigent. “Across the board, this settlement will make the Hinds County criminal justice system smarter and fairer,” said Principal Deputy Assistant Attorney General Vanita Gupta, head of the Justice Department’s Civil Rights Division.  “If implemented, these reforms will make pretrial detainees, prisoners, corrections staff and the entire community safer, while also ensuring that vulnerable individuals get access to the treatment, care and community services they need and deserve.  We commend the county for its commitment to making these reforms a reality.” “For too long, the conditions in the Jail have posed a serious challenge to law enforcement and the safety of our community,” said U.S. Attorney Gregory K. Davis of the Southern District of Mississippi.  “I appreciate the commitment made by Hinds County officials to turn the page and begin making necessary reforms.” The settlement agreement – subject to approval by the U.S. District Court of the Southern District of Mississippi – requires the county to implement a series of reforms across various stages of the criminal justice system, including the following: Together these reforms aim to improve communication and coordination among criminal justice entities and community service providers to help individuals with mental illness transition back to the community and to reduce recidivism.  If approved by the federal district court, an independent monitor will be appointed to assess the county’s compliance.  In May 2015, the Justice Department completed a comprehensive investigation – which included on-site inspections, document reviews and stakeholder interviews by department experts and staff – and issued a findings letter that determined that Hinds County Adult Detention Center and the Jackson City Detention Center violated CRIPA by failing to protect prisoners from violence by other prisoners and from improper use of force by staff.  The department also found that inadequate staffing and training, a backlog in record filing and a lack of centralized information resulted in prisoners being held beyond court-ordered release dates. CRIPA authorizes the department to seek a remedy for a pattern or practice of conduct that violates the constitutional rights of persons confined in a jail, prison or other correctional facility.  For more information on the Civil Rights Division’s work in this area, please visit www.justice.gov/crt. Hinds County Settlement Agreement Hinds County Fact Sheet   \n",
       "11066                                                                                                                                                                                                                                                                                                                                                                                                                                                                                                                                                                                                                                                                                                                                                                                                                                                                                                                                                                                                                                                                                                                                                                                                                                                                                                                                                                                                                                                                                                                                                                                                                                                                                                                                                                                                                                                                                                                                                                                                                                                                                                                                                                                                                                                                                                                                                                                                                                                                                                                                                                                                                                                                                                                                                                                                                                      Principal Deputy Assistant Attorney General Vanita Gupta, head of the Justice Department’s Civil Rights Division, released the following statement regarding the Ferguson, Missouri, City Council vote on the proposed consent decree with the Department of Justice:  “The Ferguson City Council has attempted to unilaterally amend the negotiated agreement.  Their vote to do so creates an unnecessary delay in the essential work to bring constitutional policing to the city, and marks an unfortunate outcome for concerned community members and Ferguson police officers.  Both parties engaged in thoughtful negotiations over many months to create an agreement with cost-effective remedies that would ensure Ferguson brings policing and court practices in line with the Constitution.  The agreement already negotiated by the department and the city will provide Ferguson residents a police department and municipal court that fully respects civil rights and operates free from racial discrimination. “The Department of Justice will take the necessary legal actions to ensure that Ferguson’s policing and court practices comply with the Constitution and relevant federal laws.”   \n",
       "6727                                                                                                                                                                                                                                                                                                                                                                                                                                                                                                                                                                                                                                                                                                                                                                                                                                                                                                                                                                                                                                                                                                                              The Justice Department has reached a comprehensive settlement agreement with the city of Miami and the Miami Police Department (MPD) resolving the Justice Department’s investigation of officer-involved shootings by MPD officers, announced Principal Deputy Assistant Attorney General Vanita Gupta, head of the Justice Department’s Civil Rights Division and U.S. Attorney Wifredo A. Ferrer of the Southern District of Florida. The settlement, which was approved by Miami’s city commission today and will go into effect when the agreement is signed by all parties, resolves claims stemming from the Justice Department’s investigation into officer-involved shootings by MPD officers, which was conducted under the Violent Crime Control and Law Enforcement Act of 1994.  The investigation’s findings, issued in July 2013, identified a pattern or practice of excessive use of force through officer-involved shootings in violation of the Fourth Amendment of the Constitution.  The city’s compliance with the settlement will be monitored by an independent reviewer, former Tampa, Florida, Police Chief Jane Castor.  Under the settlement agreement, the city will implement comprehensive reforms to ensure constitutional policing and support public trust.  The settlement agreement is designed to minimize officer-involved shootings and to more effectively and quickly investigate officer-involved shootings that do occur, through measures that include: “This settlement represents a renewed commitment by the city of Miami and Chief Rodolfo Llanes to provide constitutional policing for Miami residents and to protect public safety through sustainable reform,” said Principal Deputy Assistant Attorney General Gupta.  “The agreement will help to strengthen the relationship between the MPD and the communities they serve by improving accountability for officers who fire their weapons unlawfully, and provides for community participation in the enforcement of this agreement.”  “Today's agreement is the result of a joint effort between the Department of Justice and the City of Miami to ensure that the Miami Police Department continues its efforts to make our community safe while protecting the sacred Constitutional rights of all of our citizens,” said U.S. Attorney Ferrer.  “Through oversight and communication, the agreement seeks to make permanent the positive changes that former Chief Orosa and Chief Llanes have made, and we applaud the City Commission’s vote.” The settlement agreement builds upon important reforms implemented by the city since the Justice Department issued its findings, including:  The investigation was conducted by attorneys and staff from the Civil Rights Division’s Special Litigation Section and the Civil Division of the U. S. Attorney’s Office of the Southern District of Florida.   \n",
       "\n",
       "                            date            topics_clean  \\\n",
       "Index                                                      \n",
       "5247   2018-07-12T00:00:00-04:00             Hate Crimes   \n",
       "8075   2011-09-22T00:00:00-04:00  Project Safe Childhood   \n",
       "8353   2011-10-06T00:00:00-04:00  Project Safe Childhood   \n",
       "7618   2017-03-03T00:00:00-05:00            Civil Rights   \n",
       "8847   2017-05-19T00:00:00-04:00  Project Safe Childhood   \n",
       "...                          ...                     ...   \n",
       "6089   2018-01-31T00:00:00-05:00            Civil Rights   \n",
       "6733   2016-11-14T00:00:00-05:00            Civil Rights   \n",
       "6905   2016-06-23T00:00:00-04:00            Civil Rights   \n",
       "11066  2016-02-10T00:00:00-05:00            Civil Rights   \n",
       "6727   2016-02-25T00:00:00-05:00            Civil Rights   \n",
       "\n",
       "                                                                                              components_clean  \\\n",
       "Index                                                                                                            \n",
       "5247                                                    Civil Rights Division; Civil Rights - Criminal Section   \n",
       "8075                                                                                         Criminal Division   \n",
       "8353                                                                                         Criminal Division   \n",
       "7618   Civil Rights Division; Civil Rights - Housing and Civil Enforcement Section; USAO - Washington, Western   \n",
       "8847          Criminal Division; Criminal - Child Exploitation and Obscenity Section; USAO - Illinois, Central   \n",
       "...                                                                                                        ...   \n",
       "6089                                           Civil Rights Division; Office of the Associate Attorney General   \n",
       "6733               Civil Rights Division; Civil Rights - Special Litigation Section; USAO - New York, Southern   \n",
       "6905            Civil Rights Division; Civil Rights - Special Litigation Section; USAO - Mississippi, Southern   \n",
       "11066                                         Civil Rights Division; Civil Rights - Special Litigation Section   \n",
       "6727                Civil Rights Division; Civil Rights - Special Litigation Section; USAO - Florida, Southern   \n",
       "\n",
       "         neg    neu    pos  Compound  \\\n",
       "Index                                  \n",
       "5247   0.005  0.806  0.005   -0.9955   \n",
       "8075   0.007  0.887  0.007   -0.9565   \n",
       "8353   0.008  0.874  0.008   -0.9451   \n",
       "7618   0.009  0.912  0.009   -0.9753   \n",
       "8847   0.010  0.894  0.010   -0.9460   \n",
       "...      ...    ...    ...       ...   \n",
       "6089   0.199  0.788  0.199    0.9944   \n",
       "6733   0.199  0.778  0.199    0.9950   \n",
       "6905   0.205  0.659  0.205    0.9888   \n",
       "11066  0.217  0.752  0.217    0.9811   \n",
       "6727   0.222  0.755  0.222    0.9966   \n",
       "\n",
       "                                                                                                                                                                                                                                                                                                                                                                                                                                                                                                                                                                                                                                                                                                                                                                                                                                                                                                                                                                                                                                                                                                                                                                                                                                                                                                                                                                                                                                                                                                                                                                                                                                                                                                                                                                                                                                                                                                                                                                                                                                                                                                                                                                                                                                                                                                                                                                      processed_text  \\\n",
       "Index                                                                                                                                                                                                                                                                                                                                                                                                                                                                                                                                                                                                                                                                                                                                                                                                                                                                                                                                                                                                                                                                                                                                                                                                                                                                                                                                                                                                                                                                                                                                                                                                                                                                                                                                                                                                                                                                                                                                                                                                                                                                                                                                                                                                                                                                                                                                                                                  \n",
       "5247                                                                                                                                                                                                                                                                                                                                                                                                                                                                                                                                                                                                                                                                                                                                                                                                                                                                                                                                                                                                                                                                                                                                                                                                                                    glenn eugen halfin grapevin texa appear today magistr judg jeffrey cureton court northern texa plead guilti feder charg interf african american famili hous announc act general john gore erin neali northern texa accord court document halfin threaten forc intimid interf famili race occup apart locat direct apart accord document file connect guilti plea halfin purchas babi doll mart grapevin texa took rope fashion noos hung babi doll noos halfin hung rope noos babi doll rail direct front staircas famili could access apart halfin know display would particular intimid famili young daughter addit defend referenc factual basi repeat intimid interfer african american famili occas toler act intimid fear illeg threat individu famili race said act john gore continu prosecut hate crime offend afraid home night said erin neali communiti toler crime intimid bigotri continu prosecut persecut other base race color ethnic religi belief halfin face statutori maximum penalti year feder prison fine sentenc schedul octob investig grapevin polic prosecut rebekah bailey crimin section unit state nicol dana   \n",
       "8075                                                                                                                                                                                                                                                                                                                                                                                                                                                                                                                                                                                                                                                                                                                                                                                                                                                                                                                                                                                                                                                                                                                                                                                                                                                                                                                                                                                                                                                                                                                                                                                          washington paul miller denham spring convict late yesterday count produc count possess child pornographi announc general lanni breuer crimin donald cazayoux middl louisiana miller convict feder juri follow judg jame bradi presid evid present show octob miller sexual abus year girl year girl produc numer photograph abus accord evid forens examin miller comput reveal miller use comput print possess numer imag child pornographi includ imag child pornographi produc imag child victim miller face maximum statutori sentenc year prison count product child pornographi year prison possess child pornographi count prosecut alecia riewert wolak crimin child exploit obscen section ceo richard bourgeoi middl louisiana conduct denham spring polic louisiana general   \n",
       "8353                                                                                                                                                                                                                                                                                                                                                                                                                                                                                                                                                                                                                                                                                                                                                                                                                                                                                                                                                                                                                                                                                                                                                                                                                                                                                                                                                                                                                                                                                                                                                                                            washington springfield mass plead guilti today receiv possess child pornographi announc general lanni breuer crimin robert rosenbeck plead guilti judg denis casper boston count receipt child pornographi count possess child pornographi indict charg accord court document rosenbeck possess differ comput contain child pornographi addit approxim juli juli rosenbeck receiv comput file contain child pornographi internet websit sentenc schedul rosenbeck face maximum statutori sentenc year prison receipt child pornographi count year prison count possess child pornographi rosenbeck also face term supervis releas least five year life prosecut attorney alecia riewert wolak michael grant crimin child exploit obscen section ceo conduct provid springfield polic   \n",
       "7618                                                                                                                                                                                                                                                                                                                                                                                                                                                                                                                                                                                                                                                                                                                                                        today file lawsuit court western washington alleg owner manag three edmond washington apart build refus rent apart famili children violat fair hous fair hous prohibit landlord deni apart famili children said act general wheeler mani famili alreadi face challeng find afford hous also deal unlaw discrimin equal access hous essenti american includ famili young children said annett hay western washington particular tight hous market landlord must follow make unit avail without discrimin base race color religion nation origin disabl famili status complaint concern three apart build locat pine street edmond manag defend debbi applebi stanwood washington properti own three limit liabil corpor llcs control applebi appl appl appl three also name defend suit complaint alleg march defend applebi told woman seek apart husband year child apart build adult therefor avail famili complaint also alleg various time april novemb defend advertis avail apart restrict adult famili file complaint hous urban develop conduct issu charg discrimin defend refer complaint seek court order requir defend ceas discriminatori hous practic damag famili file complaint famili defend discrimin children penalti individu inform relev encourag contact option feder fair hous prohibit discrimin hous basi race color religion famili status nation origin disabl inform law enforc avail usdoj https usao wdwa individu believ victim hous discrimin call email fairhous usdoj contact websit joint handl western washington complaint alleg unlaw conduct alleg must still proven feder court   \n",
       "8847                                                                                                                                                                                                                                                                                                                                                                                                                                                                                                                                                                                                                                                                                                                                                                                                                                                                                                                                                                                                                                                                                                                                                                                                                                                                                                                                                                                               canadian woman sentenc serv month prison follow decemb convict intern parent kidnap announc act general kenneth blanco crimin act patrick hansen central illinoi sarah nixon montreal canada sentenc judg colin bruce central illinoi feder juri found nixon guilti count intern parent kidnap take minor child unit state canada juli intent obstruct law exercis father evid establish custodi appar nixon would lose custodi year daughter nixon fled unit state child middl night appear custodi rule neither daughter could locat enforc issu child abduct alert nixon child eventu locat farmhous rural ontario canada author return child father nixon arrest york sept attempt return unit state attorney elli peirson lauren kupersmith crimin child exploit obscen section prosecut urbana illinoi polic univers illinoi polic illinoi children famili servic ontario provinci polic custom border protect investig champaign counti illinoi state crimin intern affair   \n",
       "...                                                                                                                                                                                                                                                                                                                                                                                                                                                                                                                                                                                                                                                                                                                                                                                                                                                                                                                                                                                                                                                                                                                                                                                                                                                                                                                                                                                                                                                                                                                                                                                                                                                                                                                                                                                                                                                                                                                                                                                                                                                                                                                                                                                                                                                                                                                                                                              ...   \n",
       "6089                                                                                                                                                                                                                                                                                                                                                                                                                                                                                                                                                                                                                                                                                                                                                                                                                                                                                                                                                                                                                                                                                                                                                                                                                                                                                today announc updat unit state attorney manual usam section titl associ general approv notic requir issu implic religi liberti general issu memorandum execut depart agenc entitl feder protect religi liberti memo direct compon unit state offic guidanc litig advic execut branch oper grant aspect work order ensur complianc general memo usam updat languag direct relev compon updat usam also instruct relev compon consult religi liberti principl laid general octob memo consid whether notic approv requir initi order fulli effectu approv notic requir updat usam instruct attorney design point contact lead effort religi liberti inalien right protect constitut defend import thing said associ general rachel brand presid trump direct general session issu robust clear guidanc document octob clear explain feder govern appli religi liberti protect current book requir offic design religi liberti point contact ensur general memorandum effect implement designe respons work direct leadership offic case relat religi liberti ensur case receiv rigor attent deserv   \n",
       "6733                                                                                                                                                                                                                                                                                                                                                                                                                                                                                                                                                                                                                                                                                                                                                                                                                                                                                                                                    announc today reach agreement citi yonker york yonker polic resolv ensur constitut polic agreement result violent crime control enforc omnibus crime control safe street june unit state sent citi technic letter identifi necessari reform practic polici area forc civilian complaint investig supervisori oversight train receiv technic letter citi made substanti chang polici procedur agreement implement improv polici procedur address remain concern agreement ensur yonker polic continu advanc constitut effect communiti orient polic said princip deputi general vanita gupta head clear polici guidanc data analysi account system believ reform make entir communiti safer strengthen public trust polic agreement ensur yonker polic polic keep citizen safe protect constitut said preet bharara southern york measur place agreement includ clear reason forc polici guidanc proper evalu respond forc incid make yonker safer citizen polic alik thank yonker polic citi yonker cooper join effort ensur yonker polic protect citizen physic harm also violat constitut agreement care tailor address remain concern also take account seek build upon posit reform alreadi made follow agreement among thing agreement also provid consult retain conduct complianc review ensur implement measur requir agreement issu public report complianc review handl special litig section southern york yonker polic agreement   \n",
       "6905   today reach landmark settlement agreement reform crimin system hind counti mississippi agreement resolv find hind counti adult detent center jackson citi detent center togeth form hind counti jail fail protect prison violenc excess forc held past court order releas date violat institution person cripa settlement agreement first kind incorpor broader crimin system reform divers front reentri communiti incarcer creat crimin coordin committe help ensur counti system oper effect effici develop intervent divert individu appropri case arrest detent incarcer engag communiti outreach promot success reentri agreement includ mechan notifi communiti health provid person serious mental ill releas help person transit safe back communiti agreement also address unlaw enforc court order fine fee ensur counti cannot incarcer individu payment court first assess whether individu indig across board settlement make hind counti crimin system smarter fairer said princip deputi general vanita gupta head implement reform make pretrial detaine prison correct staff entir communiti safer also ensur vulner individu access treatment care communiti servic need deserv commend counti commit make reform realiti long condit jail pose serious challeng enforc safeti communiti said gregori davi southern mississippi appreci commit made hind counti offici turn page begin make necessari reform settlement agreement subject approv court southern mississippi requir counti implement seri reform across various stage crimin system includ follow togeth reform improv communic coordin among crimin entiti communiti servic provid help individu mental ill transit back communiti reduc recidiv approv feder court independ monitor appoint assess counti complianc complet comprehens includ site inspect document review stakehold interview expert staff issu find letter determin hind counti adult detent center jackson citi detent center violat cripa fail protect prison violenc prison improp forc staff also found inadequ staf train backlog record file lack central inform result prison held beyond court order releas date cripa author seek remedi pattern practic conduct violat constitut person confin jail prison correct facil inform work area pleas visit hind counti settlement agreement hind counti fact sheet   \n",
       "11066                                                                                                                                                                                                                                                                                                                                                                                                                                                                                                                                                                                                                                                                                                                                                                                                                                                                                                                                                                                                                                                                                                                                                                                                                                                                                                                                                                                                                                                                                                                                                                                                                                                                                 princip deputi general vanita gupta head releas follow statement regard ferguson missouri citi council vote propos consent decre ferguson citi council attempt unilater amend negoti agreement vote creat unnecessari delay essenti work bring constitut polic citi mark unfortun outcom concern communiti member ferguson polic offic parti engag thought negoti mani month creat agreement cost effect remedi would ensur ferguson bring polic court practic line constitut agreement alreadi negoti citi provid ferguson resid polic municip court fulli respect oper free racial discrimin take necessari legal action ensur ferguson polic court practic compli constitut relev feder law   \n",
       "6727                                                                                                                                                                                                                                                                                                                                                                                                                                                                                                                                                                                                                                                                                                                                                                                                                                                                             reach comprehens settlement agreement citi miami miami polic resolv offic involv shoot offic announc princip deputi general vanita gupta head wifredo ferrer southern florida settlement approv miami citi commiss today effect agreement sign parti resolv claim stem offic involv shoot offic conduct violent crime control enforc find issu juli identifi pattern practic excess forc offic involv shoot violat fourth amend constitut citi complianc settlement monitor independ review former tampa florida polic chief jane castor settlement agreement citi implement comprehens reform ensur constitut polic support public trust settlement agreement design minim offic involv shoot effect quick investig offic involv shoot occur measur includ settlement repres renew commit citi miami chief rodolfo llane provid constitut polic miami resid protect public safeti sustain reform said princip deputi general gupta agreement help strengthen relationship communiti serv improv account offic fire weapon unlaw provid communiti particip enforc agreement today agreement result joint effort citi miami ensur miami polic continu effort make communiti safe protect sacr constitut citizen said ferrer oversight communic agreement seek make perman posit chang former chief orosa chief llane made applaud citi commiss vote settlement agreement build upon import reform implement citi sinc issu find includ conduct attorney staff special litig section southern florida   \n",
       "\n",
       "       topic_1_prob  topic_2_prob  topic_3_prob  top_topic  \\\n",
       "Index                                                        \n",
       "5247       0.000479      0.999077      0.000444          1   \n",
       "8075       0.000628      0.001000      0.998371          2   \n",
       "8353       0.000636      0.001012      0.998352          2   \n",
       "7618       0.999255      0.000471      0.000274          0   \n",
       "8847       0.000651      0.214084      0.785265          2   \n",
       "...             ...           ...           ...        ...   \n",
       "6089       0.998535      0.000925      0.000540          0   \n",
       "6733       0.999066      0.000590      0.000344          0   \n",
       "6905       0.887984      0.111796      0.000220          0   \n",
       "11066      0.997998      0.001264      0.000737          0   \n",
       "6727       0.999153      0.000535      0.000312          0   \n",
       "\n",
       "                                                                                                                                                                                                                                                                                                                                                                                                                                                                                                                                                                                                                                                                                                                                                                                                                                                                                                                                                                                                                                                                                                                                                                                                                                                                                                                                                                                                                                                                                                                                       processed_text_bigrams  \n",
       "Index                                                                                                                                                                                                                                                                                                                                                                                                                                                                                                                                                                                                                                                                                                                                                                                                                                                                                                                                                                                                                                                                                                                                                                                                                                                                                                                                                                                                                                                                                                                                                          \n",
       "5247   [washington_paul, paul_miller, miller_denham, denham_spring, spring_convict, convict_late, late_yesterday, yesterday_count, count_produc, produc_count, count_possess, possess_child, child_pornographi, pornographi_announc, announc_general, general_lanni, lanni_breuer, breuer_crimin, crimin_donald, donald_cazayoux, cazayoux_middl, middl_louisiana, louisiana_miller, miller_convict, convict_feder, feder_juri, juri_follow, follow_judg, judg_jame, jame_bradi, bradi_presid, presid_evid, evid_present, present_show, show_octob, octob_miller, miller_sexual, sexual_abus, abus_year, year_girl, girl_year, year_girl, girl_produc, produc_numer, numer_photograph, photograph_abus, abus_accord, accord_evid, evid_forens, forens_examin, examin_miller, miller_comput, comput_reveal, reveal_miller, miller_use, use_comput, comput_print, print_possess, possess_numer, numer_imag, imag_child, child_pornographi, pornographi_includ, includ_imag, imag_child, child_pornographi, pornographi_produc, produc_imag, imag_child, child_victim, victim_miller, miller_face, face_maximum, maximum_statutori, statutori_sentenc, sentenc_year, year_prison, prison_count, count_product, product_child, child_pornographi, pornographi_year, year_prison, prison_possess, possess_child, child_pornographi, pornographi_count, count_prosecut, prosecut_alecia, alecia_riewert, riewert_wolak, wolak_crimin, crimin_child, child_exploit, exploit_obscen, obscen_section, section_ceo, ceo_richard, richard_bourgeoi, bourgeoi_middl, ...]  \n",
       "8075   [washington_paul, paul_miller, miller_denham, denham_spring, spring_convict, convict_late, late_yesterday, yesterday_count, count_produc, produc_count, count_possess, possess_child, child_pornographi, pornographi_announc, announc_general, general_lanni, lanni_breuer, breuer_crimin, crimin_donald, donald_cazayoux, cazayoux_middl, middl_louisiana, louisiana_miller, miller_convict, convict_feder, feder_juri, juri_follow, follow_judg, judg_jame, jame_bradi, bradi_presid, presid_evid, evid_present, present_show, show_octob, octob_miller, miller_sexual, sexual_abus, abus_year, year_girl, girl_year, year_girl, girl_produc, produc_numer, numer_photograph, photograph_abus, abus_accord, accord_evid, evid_forens, forens_examin, examin_miller, miller_comput, comput_reveal, reveal_miller, miller_use, use_comput, comput_print, print_possess, possess_numer, numer_imag, imag_child, child_pornographi, pornographi_includ, includ_imag, imag_child, child_pornographi, pornographi_produc, produc_imag, imag_child, child_victim, victim_miller, miller_face, face_maximum, maximum_statutori, statutori_sentenc, sentenc_year, year_prison, prison_count, count_product, product_child, child_pornographi, pornographi_year, year_prison, prison_possess, possess_child, child_pornographi, pornographi_count, count_prosecut, prosecut_alecia, alecia_riewert, riewert_wolak, wolak_crimin, crimin_child, child_exploit, exploit_obscen, obscen_section, section_ceo, ceo_richard, richard_bourgeoi, bourgeoi_middl, ...]  \n",
       "8353   [washington_paul, paul_miller, miller_denham, denham_spring, spring_convict, convict_late, late_yesterday, yesterday_count, count_produc, produc_count, count_possess, possess_child, child_pornographi, pornographi_announc, announc_general, general_lanni, lanni_breuer, breuer_crimin, crimin_donald, donald_cazayoux, cazayoux_middl, middl_louisiana, louisiana_miller, miller_convict, convict_feder, feder_juri, juri_follow, follow_judg, judg_jame, jame_bradi, bradi_presid, presid_evid, evid_present, present_show, show_octob, octob_miller, miller_sexual, sexual_abus, abus_year, year_girl, girl_year, year_girl, girl_produc, produc_numer, numer_photograph, photograph_abus, abus_accord, accord_evid, evid_forens, forens_examin, examin_miller, miller_comput, comput_reveal, reveal_miller, miller_use, use_comput, comput_print, print_possess, possess_numer, numer_imag, imag_child, child_pornographi, pornographi_includ, includ_imag, imag_child, child_pornographi, pornographi_produc, produc_imag, imag_child, child_victim, victim_miller, miller_face, face_maximum, maximum_statutori, statutori_sentenc, sentenc_year, year_prison, prison_count, count_product, product_child, child_pornographi, pornographi_year, year_prison, prison_possess, possess_child, child_pornographi, pornographi_count, count_prosecut, prosecut_alecia, alecia_riewert, riewert_wolak, wolak_crimin, crimin_child, child_exploit, exploit_obscen, obscen_section, section_ceo, ceo_richard, richard_bourgeoi, bourgeoi_middl, ...]  \n",
       "7618   [washington_paul, paul_miller, miller_denham, denham_spring, spring_convict, convict_late, late_yesterday, yesterday_count, count_produc, produc_count, count_possess, possess_child, child_pornographi, pornographi_announc, announc_general, general_lanni, lanni_breuer, breuer_crimin, crimin_donald, donald_cazayoux, cazayoux_middl, middl_louisiana, louisiana_miller, miller_convict, convict_feder, feder_juri, juri_follow, follow_judg, judg_jame, jame_bradi, bradi_presid, presid_evid, evid_present, present_show, show_octob, octob_miller, miller_sexual, sexual_abus, abus_year, year_girl, girl_year, year_girl, girl_produc, produc_numer, numer_photograph, photograph_abus, abus_accord, accord_evid, evid_forens, forens_examin, examin_miller, miller_comput, comput_reveal, reveal_miller, miller_use, use_comput, comput_print, print_possess, possess_numer, numer_imag, imag_child, child_pornographi, pornographi_includ, includ_imag, imag_child, child_pornographi, pornographi_produc, produc_imag, imag_child, child_victim, victim_miller, miller_face, face_maximum, maximum_statutori, statutori_sentenc, sentenc_year, year_prison, prison_count, count_product, product_child, child_pornographi, pornographi_year, year_prison, prison_possess, possess_child, child_pornographi, pornographi_count, count_prosecut, prosecut_alecia, alecia_riewert, riewert_wolak, wolak_crimin, crimin_child, child_exploit, exploit_obscen, obscen_section, section_ceo, ceo_richard, richard_bourgeoi, bourgeoi_middl, ...]  \n",
       "8847   [washington_paul, paul_miller, miller_denham, denham_spring, spring_convict, convict_late, late_yesterday, yesterday_count, count_produc, produc_count, count_possess, possess_child, child_pornographi, pornographi_announc, announc_general, general_lanni, lanni_breuer, breuer_crimin, crimin_donald, donald_cazayoux, cazayoux_middl, middl_louisiana, louisiana_miller, miller_convict, convict_feder, feder_juri, juri_follow, follow_judg, judg_jame, jame_bradi, bradi_presid, presid_evid, evid_present, present_show, show_octob, octob_miller, miller_sexual, sexual_abus, abus_year, year_girl, girl_year, year_girl, girl_produc, produc_numer, numer_photograph, photograph_abus, abus_accord, accord_evid, evid_forens, forens_examin, examin_miller, miller_comput, comput_reveal, reveal_miller, miller_use, use_comput, comput_print, print_possess, possess_numer, numer_imag, imag_child, child_pornographi, pornographi_includ, includ_imag, imag_child, child_pornographi, pornographi_produc, produc_imag, imag_child, child_victim, victim_miller, miller_face, face_maximum, maximum_statutori, statutori_sentenc, sentenc_year, year_prison, prison_count, count_product, product_child, child_pornographi, pornographi_year, year_prison, prison_possess, possess_child, child_pornographi, pornographi_count, count_prosecut, prosecut_alecia, alecia_riewert, riewert_wolak, wolak_crimin, crimin_child, child_exploit, exploit_obscen, obscen_section, section_ceo, ceo_richard, richard_bourgeoi, bourgeoi_middl, ...]  \n",
       "...                                                                                                                                                                                                                                                                                                                                                                                                                                                                                                                                                                                                                                                                                                                                                                                                                                                                                                                                                                                                                                                                                                                                                                                                                                                                                                                                                                                                                                                                                                                                                       ...  \n",
       "6089   [washington_paul, paul_miller, miller_denham, denham_spring, spring_convict, convict_late, late_yesterday, yesterday_count, count_produc, produc_count, count_possess, possess_child, child_pornographi, pornographi_announc, announc_general, general_lanni, lanni_breuer, breuer_crimin, crimin_donald, donald_cazayoux, cazayoux_middl, middl_louisiana, louisiana_miller, miller_convict, convict_feder, feder_juri, juri_follow, follow_judg, judg_jame, jame_bradi, bradi_presid, presid_evid, evid_present, present_show, show_octob, octob_miller, miller_sexual, sexual_abus, abus_year, year_girl, girl_year, year_girl, girl_produc, produc_numer, numer_photograph, photograph_abus, abus_accord, accord_evid, evid_forens, forens_examin, examin_miller, miller_comput, comput_reveal, reveal_miller, miller_use, use_comput, comput_print, print_possess, possess_numer, numer_imag, imag_child, child_pornographi, pornographi_includ, includ_imag, imag_child, child_pornographi, pornographi_produc, produc_imag, imag_child, child_victim, victim_miller, miller_face, face_maximum, maximum_statutori, statutori_sentenc, sentenc_year, year_prison, prison_count, count_product, product_child, child_pornographi, pornographi_year, year_prison, prison_possess, possess_child, child_pornographi, pornographi_count, count_prosecut, prosecut_alecia, alecia_riewert, riewert_wolak, wolak_crimin, crimin_child, child_exploit, exploit_obscen, obscen_section, section_ceo, ceo_richard, richard_bourgeoi, bourgeoi_middl, ...]  \n",
       "6733   [washington_paul, paul_miller, miller_denham, denham_spring, spring_convict, convict_late, late_yesterday, yesterday_count, count_produc, produc_count, count_possess, possess_child, child_pornographi, pornographi_announc, announc_general, general_lanni, lanni_breuer, breuer_crimin, crimin_donald, donald_cazayoux, cazayoux_middl, middl_louisiana, louisiana_miller, miller_convict, convict_feder, feder_juri, juri_follow, follow_judg, judg_jame, jame_bradi, bradi_presid, presid_evid, evid_present, present_show, show_octob, octob_miller, miller_sexual, sexual_abus, abus_year, year_girl, girl_year, year_girl, girl_produc, produc_numer, numer_photograph, photograph_abus, abus_accord, accord_evid, evid_forens, forens_examin, examin_miller, miller_comput, comput_reveal, reveal_miller, miller_use, use_comput, comput_print, print_possess, possess_numer, numer_imag, imag_child, child_pornographi, pornographi_includ, includ_imag, imag_child, child_pornographi, pornographi_produc, produc_imag, imag_child, child_victim, victim_miller, miller_face, face_maximum, maximum_statutori, statutori_sentenc, sentenc_year, year_prison, prison_count, count_product, product_child, child_pornographi, pornographi_year, year_prison, prison_possess, possess_child, child_pornographi, pornographi_count, count_prosecut, prosecut_alecia, alecia_riewert, riewert_wolak, wolak_crimin, crimin_child, child_exploit, exploit_obscen, obscen_section, section_ceo, ceo_richard, richard_bourgeoi, bourgeoi_middl, ...]  \n",
       "6905   [washington_paul, paul_miller, miller_denham, denham_spring, spring_convict, convict_late, late_yesterday, yesterday_count, count_produc, produc_count, count_possess, possess_child, child_pornographi, pornographi_announc, announc_general, general_lanni, lanni_breuer, breuer_crimin, crimin_donald, donald_cazayoux, cazayoux_middl, middl_louisiana, louisiana_miller, miller_convict, convict_feder, feder_juri, juri_follow, follow_judg, judg_jame, jame_bradi, bradi_presid, presid_evid, evid_present, present_show, show_octob, octob_miller, miller_sexual, sexual_abus, abus_year, year_girl, girl_year, year_girl, girl_produc, produc_numer, numer_photograph, photograph_abus, abus_accord, accord_evid, evid_forens, forens_examin, examin_miller, miller_comput, comput_reveal, reveal_miller, miller_use, use_comput, comput_print, print_possess, possess_numer, numer_imag, imag_child, child_pornographi, pornographi_includ, includ_imag, imag_child, child_pornographi, pornographi_produc, produc_imag, imag_child, child_victim, victim_miller, miller_face, face_maximum, maximum_statutori, statutori_sentenc, sentenc_year, year_prison, prison_count, count_product, product_child, child_pornographi, pornographi_year, year_prison, prison_possess, possess_child, child_pornographi, pornographi_count, count_prosecut, prosecut_alecia, alecia_riewert, riewert_wolak, wolak_crimin, crimin_child, child_exploit, exploit_obscen, obscen_section, section_ceo, ceo_richard, richard_bourgeoi, bourgeoi_middl, ...]  \n",
       "11066  [washington_paul, paul_miller, miller_denham, denham_spring, spring_convict, convict_late, late_yesterday, yesterday_count, count_produc, produc_count, count_possess, possess_child, child_pornographi, pornographi_announc, announc_general, general_lanni, lanni_breuer, breuer_crimin, crimin_donald, donald_cazayoux, cazayoux_middl, middl_louisiana, louisiana_miller, miller_convict, convict_feder, feder_juri, juri_follow, follow_judg, judg_jame, jame_bradi, bradi_presid, presid_evid, evid_present, present_show, show_octob, octob_miller, miller_sexual, sexual_abus, abus_year, year_girl, girl_year, year_girl, girl_produc, produc_numer, numer_photograph, photograph_abus, abus_accord, accord_evid, evid_forens, forens_examin, examin_miller, miller_comput, comput_reveal, reveal_miller, miller_use, use_comput, comput_print, print_possess, possess_numer, numer_imag, imag_child, child_pornographi, pornographi_includ, includ_imag, imag_child, child_pornographi, pornographi_produc, produc_imag, imag_child, child_victim, victim_miller, miller_face, face_maximum, maximum_statutori, statutori_sentenc, sentenc_year, year_prison, prison_count, count_product, product_child, child_pornographi, pornographi_year, year_prison, prison_possess, possess_child, child_pornographi, pornographi_count, count_prosecut, prosecut_alecia, alecia_riewert, riewert_wolak, wolak_crimin, crimin_child, child_exploit, exploit_obscen, obscen_section, section_ceo, ceo_richard, richard_bourgeoi, bourgeoi_middl, ...]  \n",
       "6727   [washington_paul, paul_miller, miller_denham, denham_spring, spring_convict, convict_late, late_yesterday, yesterday_count, count_produc, produc_count, count_possess, possess_child, child_pornographi, pornographi_announc, announc_general, general_lanni, lanni_breuer, breuer_crimin, crimin_donald, donald_cazayoux, cazayoux_middl, middl_louisiana, louisiana_miller, miller_convict, convict_feder, feder_juri, juri_follow, follow_judg, judg_jame, jame_bradi, bradi_presid, presid_evid, evid_present, present_show, show_octob, octob_miller, miller_sexual, sexual_abus, abus_year, year_girl, girl_year, year_girl, girl_produc, produc_numer, numer_photograph, photograph_abus, abus_accord, accord_evid, evid_forens, forens_examin, examin_miller, miller_comput, comput_reveal, reveal_miller, miller_use, use_comput, comput_print, print_possess, possess_numer, numer_imag, imag_child, child_pornographi, pornographi_includ, includ_imag, imag_child, child_pornographi, pornographi_produc, produc_imag, imag_child, child_victim, victim_miller, miller_face, face_maximum, maximum_statutori, statutori_sentenc, sentenc_year, year_prison, prison_count, count_product, product_child, child_pornographi, pornographi_year, year_prison, prison_possess, possess_child, child_pornographi, pornographi_count, count_prosecut, prosecut_alecia, alecia_riewert, riewert_wolak, wolak_crimin, crimin_child, child_exploit, exploit_obscen, obscen_section, section_ceo, ceo_richard, richard_bourgeoi, bourgeoi_middl, ...]  \n",
       "\n",
       "[717 rows x 16 columns]"
      ]
     },
     "execution_count": 266,
     "metadata": {},
     "output_type": "execute_result"
    }
   ],
   "source": [
    "doj_subset_wscore['processed_text_bigrams'] = doj_subset_wscore['processed_text'].apply(create_bigram_onedoc)\n",
    "doj_subset_wscore\n",
    "\n",
    "#for some reason, it's applying the function and matching to the wrong row"
   ]
  },
  {
   "cell_type": "markdown",
   "metadata": {},
   "source": [
    "C. Use the create_dtm function and the `processed_text_bigrams` column to create a document-term matrix (`dtm_bigram`) with these bigrams. Keep the following three columns in the data: `id`, `topics_clean`, and `compound` \n",
    "\n",
    "D. Print the (1) dimensions of the `dtm` matrix from question 2.2  and (2) the dimensions of the `dtm_bigram` matrix. Comment on why the bigram matrix has more dimensions than the unigram matrix "
   ]
  },
  {
   "cell_type": "markdown",
   "metadata": {},
   "source": [
    "E. Find and print the 10 most prevelant bigrams for each of the three topics_clean using the `get_topwords` function from 2.2"
   ]
  },
  {
   "cell_type": "code",
   "execution_count": null,
   "metadata": {},
   "outputs": [],
   "source": [
    "# your code here"
   ]
  },
  {
   "cell_type": "markdown",
   "metadata": {},
   "source": [
    "# 4. Optional extra credit (2 points)\n",
    "\n",
    "You notice that the pharmaceutical kickbacks press release we analyzed in question 1 was for an indictment, and that in the original data, there's not a clear label for whether a press release outlines an indictment (charging someone with a crime), a conviction (convicting them after that charge either via a settlement or trial), or a sentencing (how many years of prison or supervised release a defendant is sentenced to after their conviction).\n",
    "\n",
    "You want to see if you can identify pairs of press releases where one press release is from one stage (e.g., indictment) and another is from a different stage (e.g., a sentencing).\n",
    "\n",
    "You decide that one way to approach is to find the pairwise string similarity between each of the processed press releases in `doj_subset`. There are many ways to do this, so Google for some approaches, focusing on ones that work well for entire documents rather than small strings.\n",
    "\n",
    "Find the top two pairs (so four press releases total)-- do they seem like different stages of the same crime or just press releases covering similar crimes?"
   ]
  },
  {
   "cell_type": "code",
   "execution_count": null,
   "metadata": {},
   "outputs": [],
   "source": [
    "# your code here "
   ]
  }
 ],
 "metadata": {
  "kernelspec": {
   "display_name": "Python 3 (ipykernel)",
   "language": "python",
   "name": "python3"
  },
  "language_info": {
   "codemirror_mode": {
    "name": "ipython",
    "version": 3
   },
   "file_extension": ".py",
   "mimetype": "text/x-python",
   "name": "python",
   "nbconvert_exporter": "python",
   "pygments_lexer": "ipython3",
   "version": "3.11.7"
  }
 },
 "nbformat": 4,
 "nbformat_minor": 4
}
