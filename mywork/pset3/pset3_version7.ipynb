{
 "cells": [
  {
   "cell_type": "markdown",
   "metadata": {},
   "source": [
    "# Problem set 3: Text analysis of DOJ press releases\n",
    "\n",
    "**Total points (without extra credit)**: 52 \n",
    "\n",
    "- For background:\n",
    "\n",
    "    - DOJ is the federal law enforcement agency responsible for federal prosecutions; this contrasts with the local prosecutions in the Cook County dataset we analyzed earlier. Here's a short explainer on which crimes get prosecuted federally versus locally: https://www.criminaldefenselawyer.com/resources/criminal-defense/federal-crime/state-vs-federal-crimes.htm#:~:text=Federal%20criminal%20prosecutions%20are%20handled,of%20state%20and%20local%20law. \n",
    "    - Here's the Kaggle that contains the data: https://www.kaggle.com/jbencina/department-of-justice-20092018-press-releases \n",
    "    - Here's the code the dataset creator used to scrape those press releases here if you're interested: https://github.com/jbencina/dojreleases"
   ]
  },
  {
   "cell_type": "markdown",
   "metadata": {},
   "source": [
    "## 0.0 Import packages"
   ]
  },
  {
   "cell_type": "code",
   "execution_count": 1,
   "metadata": {},
   "outputs": [],
   "source": [
    "## helpful packages\n",
    "import warnings\n",
    "warnings.filterwarnings(\"ignore\")\n",
    "\n",
    "import pandas as pd\n",
    "import numpy as np\n",
    "import random\n",
    "import re\n",
    "import string\n",
    "\n",
    "## nltk imports\n",
    "import nltk\n",
    "### uncomment and run these lines if you haven't downloaded relevant nltk add-ons yet\n",
    "#nltk.download('averaged_perceptron_tagger')\n",
    "#nltk.download('stopwords')\n",
    "from nltk import pos_tag\n",
    "from nltk.tokenize import word_tokenize, wordpunct_tokenize\n",
    "from nltk.stem.snowball import SnowballStemmer\n",
    "from nltk.corpus import stopwords\n",
    "\n",
    "\n",
    "\n",
    "## spacy imports\n",
    "import spacy\n",
    "### uncomment and run the below line if you haven't loaded the en_core_web_sm library yet\n",
    "#! python -m spacy download en_core_web_sm\n",
    "import en_core_web_sm\n",
    "nlp = en_core_web_sm.load()\n",
    "\n",
    "## vectorizer\n",
    "from sklearn.feature_extraction.text import CountVectorizer\n",
    "\n",
    "## sentiment\n",
    "from vaderSentiment.vaderSentiment import SentimentIntensityAnalyzer\n",
    "\n",
    "## lda\n",
    "from gensim import corpora\n",
    "import gensim\n",
    "\n",
    "## repeated printouts and wide-format text\n",
    "from IPython.core.interactiveshell import InteractiveShell\n",
    "InteractiveShell.ast_node_interactivity = \"all\"\n",
    "pd.set_option('display.max_colwidth', None)"
   ]
  },
  {
   "cell_type": "markdown",
   "metadata": {},
   "source": [
    "## 0.1 Load and clean text data"
   ]
  },
  {
   "cell_type": "code",
   "execution_count": 2,
   "metadata": {},
   "outputs": [
    {
     "data": {
      "text/html": [
       "<div>\n",
       "<style scoped>\n",
       "    .dataframe tbody tr th:only-of-type {\n",
       "        vertical-align: middle;\n",
       "    }\n",
       "\n",
       "    .dataframe tbody tr th {\n",
       "        vertical-align: top;\n",
       "    }\n",
       "\n",
       "    .dataframe thead th {\n",
       "        text-align: right;\n",
       "    }\n",
       "</style>\n",
       "<table border=\"1\" class=\"dataframe\">\n",
       "  <thead>\n",
       "    <tr style=\"text-align: right;\">\n",
       "      <th></th>\n",
       "      <th>id</th>\n",
       "      <th>title</th>\n",
       "      <th>contents</th>\n",
       "      <th>date</th>\n",
       "      <th>topics_clean</th>\n",
       "      <th>components_clean</th>\n",
       "    </tr>\n",
       "  </thead>\n",
       "  <tbody>\n",
       "    <tr>\n",
       "      <th>0</th>\n",
       "      <td>None</td>\n",
       "      <td>Convicted Bomb Plotter Sentenced to 30 Years</td>\n",
       "      <td>PORTLAND, Oregon. – Mohamed Osman Mohamud, 23, who was convicted in 2013 of attempting to use a weapon of mass destruction (explosives) in connection with a plot to detonate a vehicle bomb at an annual Christmas tree lighting ceremony in Portland, was sentenced today to serve 30 years in prison, followed by a lifetime term of supervised release. Mohamud, a naturalized U.S. citizen from Somalia and former resident of Corvallis, Oregon, was arrested on Nov. 26, 2010, after he attempted to detonate what he believed to be an explosives-laden van that was parked near the tree lighting ceremony in Portland.  The arrest was the culmination of a long-term undercover operation, during which Mohamud was monitored closely for months as his bomb plot developed.  The device was in fact inert, and the public was never in danger from the device. At sentencing, United States District Court Judge Garr M. King, who presided over Mohamed’s 14-day trial, said “the intended crime was horrific,” and that the defendant, even though he was presented with options by undercover FBI employees, “never once expressed a change of heart.”  King further noted that the Christmas tree ceremony was attended by up to 10,000 people, and that the defendant “wanted everyone to leave either dead or injured.”  King said his sentence was necessary in view of the seriousness of the crime and to serve as deterrence to others who might consider similar acts.     “With today’s sentencing, Mohamed Osman Mohamud is being held accountable for his attempted use of what he believed to be a massive bomb to attack innocent civilians attending a public Christmas tree lighting ceremony in Portland,” said John P. Carlin, Assistant Attorney General for National Security.  “The evidence clearly indicated that Mohamud was intent on killing as many people as possible with his attack.  Fortunately, law enforcement was able to identify him as a threat, insert themselves in the place of a terrorist that Mohamud was trying to contact, and thwart Mohamud’s efforts to conduct an attack on our soil.  This case highlights how the use of undercover operations against would-be terrorists allows us to engage and disrupt those who wish to commit horrific acts of violence against the innocent public.  The many agents, analysts, and prosecutors who have worked on this case deserve great credit for their roles in protecting Portland from the threat posed by this defendant and ensuring that he was brought to justice.” “This trial provided a rare glimpse into the techniques Al Qaeda employs to radicalize home-grown extremists,” said Amanda Marshall, U.S. Attorney for the District of Oregon.  “With the sentencing today, the court has held this defendant accountable.   I thank the dedicated professionals in the law enforcement and intelligence communities who were responsible for this successful outcome.  I look forward to our continued work with Muslim communities in Oregon who are committed to ensuring that all young people are safe from extremists who seek to radicalize others to engage in violence.”  According to the trial evidence, in February 2009, Mohamud began communicating via e-mail with Samir Khan, a now-deceased al Qaeda terrorist who published Jihad Recollections, an online magazine that advocated violent jihad, and who also published Inspire, the official magazine of al-Qaeda in the Arabian Peninsula.  Between February and August 2009, Mohamed exchanged approximately 150 emails with Khan.  Mohamud wrote several articles for Jihad Recollections that were published under assumed names. In August 2009, Mohamud was in email contact with Amro Al-Ali, a Saudi national who was in Yemen at the time and is today in custody in Saudi Arabia for terrorism offenses.  Al-Ali sent Mohamud detailed e-mails designed to facilitate Mohamud’s travel to Yemen to train for violent jihad.  In December 2009, while Al-Ali was in the northwest frontier province of Pakistan, Mohamud and Al-Ali discussed the possibility of Mohamud traveling to Pakistan to join Al-Ali in terrorist activities. Mohamud responded to Al-Ali in an e-mail: “yes, that would be wonderful, just tell me what I need to do.”  Al-Ali referred Mohamud to a second associate overseas and provided Mohamud with a name and email address to facilitate the process. In the following months, Mohamud made several unsuccessful attempts to contact Al-Ali’s associate.  Ultimately, an FBI undercover operative contacted Mohamud via email under the guise of being an associate of Al-Ali’s.  Mohamud and the FBI undercover operative agreed to meet in Portland in July 2010.  At the meeting, Mohamud told the FBI undercover operative he had written articles that were published in Jihad Recollections.  Mohamud also said that he wanted to become “operational.”  Asked what he meant by “operational,” Mohamud said he wanted to put an explosion together, but needed help. According to evidence presented at trial, at a meeting in August 2010, Mohamud told undercover FBI operatives he had been thinking of committing violent jihad since the age of 15.  Mohamud then told the undercover FBI operatives that he had identified a potential target for a bomb: the annual Christmas tree lighting ceremony in Portland’s Pioneer Courthouse Square on Nov. 26, 2010.  The undercover FBI operatives cautioned Mohamud several times about the seriousness of this plan, noting there would be many people at the event, including children, and emphasized that Mohamud could abandon his attack plans at any time with no shame.  Mohamud indicated the deaths would be justified and that he would not mind carrying out a suicide attack on the crowd. According to evidence presented at trial, in the ensuing months Mohamud continued to express his interest in carrying out the attack and worked on logistics.  On Nov. 4, 2010, Mohamud and the undercover FBI operatives traveled to a remote location in Lincoln County, Oregon, where they detonated a bomb concealed in a backpack as a trial run for the upcoming attack.  During the drive back to Corvallis, Mohamud was asked if was capable looking at all the bodies of those who would be killed during the explosion.  In response, Mohamud noted, “I want whoever is attending that event to be, to leave either dead or injured.”  Mohamud later recorded a video of himself, with the assistance of the undercover FBI operatives, in which he read a statement that offered his rationale for his bomb attack.  On Nov. 18, 2010, undercover FBI operatives picked up Mohamud to travel to Portland to finalize the details of the attack.  On Nov. 26, 2010, just hours before the planned attack, Mohamud examined the 1,800 pound bomb in the van and remarked that it was “beautiful.”  Later that day, Mohamud was arrested after he attempted to remotely detonate the inert vehicle bomb rked near the Christmas tree lighting ceremony This case was investigated by the FBI, with assistance from the Oregon State Police, the Corvallis Police Department, the Lincoln County Sheriff’s Office and the Portland Police Bureau.  The prosecution was handled by Assistant U.S. Attorneys Ethan D. Knight and Pamala Holsinger from the U.S. Attorney’s Office for the District of Oregon.  Trial Attorney Jolie F. Zimmerman, from the Counterterrorism Section of the Justice Department’s National Security Division, assisted. # # # 14-1077</td>\n",
       "      <td>2014-10-01T00:00:00-04:00</td>\n",
       "      <td>No topic</td>\n",
       "      <td>National Security Division (NSD)</td>\n",
       "    </tr>\n",
       "    <tr>\n",
       "      <th>1</th>\n",
       "      <td>12-919</td>\n",
       "      <td>$1 Million in Restitution Payments Announced to Preserve North Carolina Wetlands</td>\n",
       "      <td>WASHINGTON – North Carolina’s Waccamaw River watershed will benefit from a $1 million restitution order from a federal court, funding environmental projects to acquire and preserve wetlands in an area damaged by illegal releases of wastewater from a corporate hog farm, announced Ignacia S. Moreno, Assistant Attorney General of the Justice Department’s Environment and Natural Resources Division; U.S. Attorney for the Eastern District of North Carolina Thomas G. Walker; Director Greg McLeod from the North Carolina State Bureau of Investigation; and Camilla M. Herlevich, Executive Director of the North Carolina Coastal Land Trust.   Freedman Farms Inc. was sentenced in February 2012 to five years of probation and ordered to pay $1.5 million in fines, restitution and community service payments for violating the Clean Water Act when it discharged hog waste into a stream that leads to the Waccamaw River.  William B. Freedman, president of Freedman Farms, was sentenced to six months in prison to be followed by six months of home confinement.  Freedman Farms also is required to implement a comprehensive environmental compliance program and institute an annual training program.   In an order issued on April 19, 2012, the court ordered that the defendants would be responsible for restitution of $1 million in the form of five annual payments starting in January 2013, which the court will direct to the North Carolina Coastal Land Trust (NCCLT).  The NCCLT plans to use the money to acquire and conserve land along streams in the Waccamaw watershed.  The court also directed a $75,000 community service payment to the Southern Environmental Enforcement Network, an organization dedicated to environmental law enforcement training and information sharing in the region.    “The resolution of the case against Freedman Farms demonstrates the commitment of the Department of Justice to enforcing the Clean Water Act to ensure the protection of human health and the environment,” said Assistant Attorney General Moreno.  “The court-ordered restitution in this case will conserve wetlands for the benefit of the people of North Carolina.  By enforcing the nation’s environmental laws, we will continue to ensure that concentrated animal feeding operations (CAFOs) operate without threatening our drinking water, the health of our communities and the environment.”   “This office is committed to doing our part to hold accountable those who commit crimes against our environment, which can cause serious health problems to residents and damage the environment that makes North Carolina such a beautiful place to live and visit,” said U.S. Attorney Walker.   “This case shows what we can accomplish when our SBI agents work closely with their local, state and federal partners to investigate environmental crimes and hold the polluters accountable,” said Director McLeod.  “We’ll continue our efforts to fight illegal pollution that damages our water and puts the public’s health at risk.”    “The Waccamaw is unique and wild,” said Director Herlevich of the North Carolina Coastal Land Trust. “Its watershed includes some of the most extensive cypress gum swamps in the state, and its headwaters at Lake Waccamaw contain fish that are found nowhere else on Earth.  We appreciate the trust of the court and the U. S. Attorney, and we look forward to using these funds for conservation projects in a river system that is one of our top conservation priorities.”   According to evidence presented in court, in December 2007 Freedman Farms discharged hog waste into Browder’s Branch, a tributary to the Waccamaw River that flows through the White Marsh, a large wetlands complex.  Freedman Farms, located in Columbus County, N.C., is in the business of raising hogs for market, and this particular farm had some 4,800 hogs.  The hog waste was supposed to be directed to two lagoons for treatment and disposal.  Instead, hog waste was discharged from Freedman Farms directly into Browder’s Branch.    The Clean Water Act is a federal law that makes it illegal to knowingly or negligently discharge a pollutant into a water of the United States.    The Freedman case was investigated by the U.S. Environmental Protection Agency (EPA) Criminal Investigation Division, the U.S. Army Corps of Engineers and the North Carolina State Bureau of Investigation, with assistance from the EPA Science and Ecosystem Support Division.  The case was prosecuted by Assistant U.S. Attorney J. Gaston B. Williams of the Eastern District of North Carolina and Trial Attorney Mary Dee Carraway of the Environmental Crimes Section of the Justice Department’s Environment and Natural Resources Division.   The North Carolina Coastal Land Trust is celebrating its 20th anniversary of saving special lands in eastern North Carolina. The organization has protected nearly 50,000 acres of lands with scenic, recreational, historic and ecological values. North Carolina Coastal Land Trust has saved streams and wetlands that provide clean water, forests that are havens for wildlife, working farms that provide local food and nature parks that everyone can enjoy.  More information about the Coastal Land Trust is available at www.coastallandtrust.org.</td>\n",
       "      <td>2012-07-25T00:00:00-04:00</td>\n",
       "      <td>No topic</td>\n",
       "      <td>Environment and Natural Resources Division</td>\n",
       "    </tr>\n",
       "    <tr>\n",
       "      <th>2</th>\n",
       "      <td>11-1002</td>\n",
       "      <td>$1 Million Settlement Reached for Natural Resource Damages at Superfund Site in Massachusetts</td>\n",
       "      <td>BOSTON– A $1-million settlement has been reached for natural resource damages (NRD) at the Blackburn &amp; Union Privileges Superfund Site in Walpole, Mass., the Departments of Justice and Interior (DOI), and the Office of the Massachusetts Attorney General announced today.                The Blackburn &amp; Union Privileges Superfund Site includes 22 acres of contaminated land and water in Walpole. The contamination resulted from the operations of various industrial facilities dating back to the 19th century that exposed the site to asbestos, arsenic, lead and other hazardous substances.                The private parties involved in the settlement include two former owners and operators of the site, W.R. Grace &amp; Co.– Conn. and Tyco Healthcare Group LP, as well as the current owners, BIM Investment Corp. and Shaffer Realty Nominee Trust.               From about 1915 to 1936, a predecessor of W.R. Grace manufactured asbestos brake linings and clutch linings on a large portion of the property. From 1946 to about 1983, a predecessor of Tyco Healthcare operated a cotton fabric manufacturing business, which used caustic solutions, on a portion of the property.               In a 2010 settlement with U.S. Environmental Protection Agency (EPA), the four private parties agreed to perform a remedial action to clean up the site at an estimated cost of $13 million. The consent decree lodged today resolves both state and federal NRD liability claims; it requires the parties to pay $1,094,169.56 to the state and federal natural resource trustees, the Massachusetts Executive Office of Energy and Environmental Affairs (EEA) and DOI, for injuries to ecological resources including groundwater and wetlands, which provide habitat for waterfowl and wading birds, including black ducks and great blue herons.  The trustees will use the settlement funds for natural resource restoration projects in the area.               “This settlement demonstrates our commitment to recovering damages from the parties responsible for injury to natural resources, in partnership with state trustees,” said Bruce Gelber, Acting Deputy Assistant Attorney General of the Justice Department’s Environment and Natural Resources Division.               “The citizens of Walpole have had to live with the environmental impact of this contamination for many years,” Attorney General Martha Coakley said. “We are pleased that today’s agreement will not only require the responsible parties to reimburse taxpayer dollars, but will also provide funding to begin restoring or replacing the wetland and other natural resources.”                 The consent decree was lodged in the U.S. District Court for Massachusetts.     A portion of the funds, $300,000, will be distributed to the EEA-sponsored groundwater restoration projects; $575,000 will be used for ecological restoration projects jointly sponsored by EEA and the U.S. Fish and Wildlife Service (FWS).               In addition, $125,000 will go for projects jointly sponsored by EEA and FWS that achieve both ecological and groundwater restoration; $57,491.34 will be allocated for reimbursement for the FWS’s assessment costs; and $36,678.22 will be distributed as reimbursement for the commonwealth’s assessment costs.       “This settlement provides the means for a range of projects designed to compensate the public for decades of groundwater and other ecological damage at this site.  I encourage local citizens and organizations to become engaged in the public process that will take place as we solicit, take comment on, and choose these projects in the months ahead,” said Energy and Environmental Affairs Secretary Richard K. Sullivan Jr., who serves as the Commonwealth’s Natural Resources Damages trustee.       “This settlement will help restore habitat for fish and wildlife in the Neponset River watershed,” said Tom Chapman of the FWS New England Field Office. “We look forward to working with the commonwealth and local stakeholders to implement restoration.”               “More than 100 years-worth of industrial activities at this site caused major environmental contamination to the Neponset River, nearby wetlands and to groundwater below the site,” said Commissioner Kenneth Kimmell of the Massachusetts Department of Environmental Protection (MassDEP), which will staff the Trustee Council for the Commonwealth. “We will ensure that the community and the public will be active participants in the process to use these NRD funds to restore the injured natural resources.”                Under the federal Comprehensive Environmental Response, Compensation and Liability Act, EEA and DOI, acting through the FWS, are the designated state and federal natural resource Trustees for the site. The site has been listed on the EPA’s National Priorities List since 1994.        The consent decree is subject to a public comment period and court approval. A copy of the consent decree and instructions about how to submit comments is available on www.usdoj.gov/enrd/Consent_Decrees.html  .               After the consent decree is approved, EEA and FWS will develop proposed restoration plans to use the settlement funds for restoration projects. The proposed restoration plans will also be made available to the public for review and comment.                Assistant Attorney General Matthew Brock of Massachusetts Attorney General Coakley's Environmental Protection Division handled this matter.  Attorney Jennifer Davis of MassDEP, Attorney Anna Blumkin of EEA and MassDEP’s NRD Coordinator Karen Pelto also worked on this settlement.</td>\n",
       "      <td>2011-08-03T00:00:00-04:00</td>\n",
       "      <td>No topic</td>\n",
       "      <td>Environment and Natural Resources Division</td>\n",
       "    </tr>\n",
       "    <tr>\n",
       "      <th>3</th>\n",
       "      <td>10-015</td>\n",
       "      <td>10 Las Vegas Men Indicted \\r\\nfor Falsifying Vehicle Emissions Tests</td>\n",
       "      <td>WASHINGTON—A federal grand jury in Las Vegas today returned indictments against 10 Nevada-certified emissions testers for falsifying vehicle emissions test reports, the Justice Department announced.   Each defendant faces one felony Clean Air Act count for falsifying reports between November 2007 and May 2009. The number of falsifications varied by defendant, with some defendants having falsified approximately 250 records, while others falsified more than double that figure. One defendant is alleged to have falsified over 700 reports.   The individuals indicted include:     Escudero resides in Pahrump, Nev. All other individuals are from Clark County, Nev.    The 10 defendants are alleged to have engaged in a practice known as \"clean scanning\" vehicles. The scheme involved entering the Vehicle Identification Number (VIN) for a vehicle that would not pass the emissions test into the computerized system, then connecting a different vehicle the testers knew would pass the test. These falsifications were allegedly performed for anywhere from $10 to $100 over and above the usual emissions testing fee.    The U.S. Environmental Protection Agency (EPA), under the Clean Air Act, requires the state of Nevada to conduct vehicle emissions testing in certain areas because the areas exceed national standards for carbon monoxide and ozone. Las Vegas is currently required to perform emissions testing.    To obtain a registration renewal, vehicle owners bring the vehicles to a licensed inspection station for testing. The emissions inspector logs into a computer to activate the system by using a unique password issued to the emissions inspector. The emissions inspector manually inputs the vehicle’s VIN to identify the tested vehicle, then connects the vehicle for model year 1996 and later to an onboard diagnostics port connected to an analyzer. The analyzer downloads data from the vehicle’s computer, analyzes the data and provides a \"pass\" or \"fail\" result. The pass or fail result and vehicle identification data are reported on the Vehicle Inspection Report. It is a crime to knowingly alter or conceal any record or other document required to be maintained by the Clean Air Act.     \"Falsifications of vehicle emissions testing, such as those alleged in the indictments unsealed today, are serious matters and we intend to use all of our enforcement tools to stop this harmful practice. These actions undermine a system that is designed to reduce air pollutants including smog and provide better air quality for the citizens of Nevada,\" said Ignacia S. Moreno, Assistant Attorney General for the Justice Department’s Environment and Natural Resources Division.    \"The residents of Nevada deserve to know that the vast majority of licensed vehicle emission inspectors are not corrupt and are not circumventing emission testing procedures,\" said U.S. Attorney Bogden. \"These indictments should serve as a clear warning to offenders that the Department of Justice will prosecute you if you make fraudulent statements and reports concerning compliance with the federal Clean Air Act.\"    \"Lying about car emissions means dirtier air, which is especially of concern in areas like Las Vegas that are already experiencing air quality problems,\" said Cynthia Giles, Assistant Administrator for Enforcement and Compliance Assurance at EPA. \"We will take aggressive action to ensure communities have clean air.\"    The maximum penalty for the felony violations contained in the indictments includes up to two years in prison and a fine of up to $250,000.    An indictment is merely an accusation, and a defendant is presumed innocent unless and until proven guilty in a court of law.    The case was investigated by the EPA, Criminal Investigation Division; and the Nevada Department of Motor Vehicles Compliance Enforcement Division. The case is being prosecuted by the U.S. Attorney’s Office for the District of Nevada and the Justice Department’s Environmental Crimes Section.</td>\n",
       "      <td>2010-01-08T00:00:00-05:00</td>\n",
       "      <td>No topic</td>\n",
       "      <td>Environment and Natural Resources Division</td>\n",
       "    </tr>\n",
       "    <tr>\n",
       "      <th>4</th>\n",
       "      <td>18-898</td>\n",
       "      <td>$100 Million Settlement Will Speed Cleanup Work at Centredale Manor Superfund Site in North Providence, R.I.</td>\n",
       "      <td>The U.S. Department of Justice, the U.S. Environmental Protection Agency (EPA), and the Rhode Island Department of Environmental Management (RIDEM) announced today that two subsidiaries of Stanley Black &amp; Decker Inc.—Emhart Industries Inc. and Black &amp; Decker Inc.—have agreed to clean up dioxin contaminated sediment and soil at the Centredale Manor Restoration Project Superfund Site in North Providence and Johnston, Rhode Island.  “We are pleased to reach a resolution through collaborative work with the responsible parties, EPA, and other stakeholders,” said Acting Assistant Attorney General Jeffrey H. Wood for the Justice Department's Environment and Natural Resources Division . “Today’s settlement ends protracted litigation and allows for important work to get underway to restore a healthy environment for citizens living in and around the Centredale Manor Site and the Woonasquatucket River.” “This settlement demonstrates the tremendous progress we are achieving working with responsible parties, states, and our federal partners to expedite sites through the entire Superfund remediation process,” said EPA Acting Administrator Andrew Wheeler. “The Centredale Manor Site has been on the National Priorities List for 18 years; we are taking charge and ensuring the Agency makes good on its promise to clean it up for the betterment of the environment and those communities affected.” “Successfully concluding this settlement paves the way for EPA to make good on our commitment to aggressively pursue cleaning up the Centredale Manor Superfund Site,” said EPA New England Regional Administrator Alexandra Dunn. “We are excited to get to work on the cleanup at this site, and get it closer to the goal of being fully utilized by the North Providence and Johnston communities.” “We are pleased that the collective efforts of the State of Rhode Island, EPA, and DOJ in these negotiations have concluded in this major milestone toward the cleanup of the Centredale Manor Restoration Superfund site and are consistent with our long-standing efforts to make the polluter pay,” said RIDEM Director Janet Coit. “The settlement will speed up a remedy that protects public health and the river environment, and moves us closer to the day that we can reclaim recreational uses of this beautiful river resource.” The settlement, which includes cleanup work in the Woonasquatucket River (River) and bordering residential and commercial properties along the River, requires the companies to perform the remedy selected by EPA for the Site in 2012, which is estimated to cost approximately $100 million, and resolves longstanding litigation. The cleanup remedy includes excavation of contaminated sediment and floodplain soil from the Woonasquatucket River, including from adjacent residential properties. Once the cleanup remedy is completed, full access to the Woonasquatucket River should be restored for local citizens. The cleanup will be a step toward the State’s goal of a fishable and swimmable river. The work will also include upgrading caps over contaminated soil in the peninsula area of the Site that currently house two high-rise apartment buildings. The settlement also ensures that the long-term monitoring and maintenance of the site, as directed in the remedy, will be implemented to ensure that public health is protected.  Under the settlement, Emhart and Black &amp; Decker will reimburse EPA for approximately $42 million in past costs incurred at the Site. The companies will also reimburse EPA and the State of Rhode Island for future costs incurred by those agencies in overseeing the work required by the settlement. The settlement will also include payments on behalf of two federal agencies to resolve claims against those agencies. These payments, along with prior settlements related to the Site, will result in a 100 percent recovery for the United States of its past and future response costs related to the Site. Litigation related to the Site has been ongoing for nearly eight years. While the Federal District Court found Black &amp; Decker and Emhart to be liable for their hazardous waste and responsible to conduct the cleanup of the Site, it had also ruled that EPA needed to reconsider certain aspects of that cleanup. EPA appealed the decision requiring it to reconsider aspects of the cleanup. This settlement, once entered by the District Court, will resolve the litigation between the United States, Rhode Island, and Emhart and Black and Decker, allowing the cleanup of the Site to begin. The Site spans a one and a half mile stretch of the Woonasquatucket River and encompasses a nine-acre peninsula, two ponds and a significant forested wetland. From the 1940s to the early 1970s, Emhart’s predecessor operated a chemical manufacturing facility on the peninsula and used a raw material that was contaminated with 2,3,7,8-tetrachlorodibenzo-p-dioxin, a toxic form of dioxin. The Site property was also previously used by a barrel refurbisher. Elevated levels of dioxins and other contaminants have been detected in soil, groundwater, sediment, surface water and fish.  The Site was added to the National Priorities List (NPL) in 2000, and in December 2017, EPA included the Centredale Manor Restoration Project Superfund Site on a list of Superfund sites targeted for immediate and intense attention. Several short-term actions were previously performed at the Site to address immediate threats to the residents and minimize potential erosion and downstream transport of contaminated soil and sediment. This settlement is the latest agreement EPA has reached since the Site was listed on the NPL. Prior agreements addressed the performance and recovery of costs for the past environmental investigations and interim cleanup actions from Emhart, the barrel reconditioning company, the current owners of the peninsula portion of the Site, and other potentially responsible parties. The Consent Decree, lodged in the U.S. District Court of Rhode Island, will be posted in the Federal Register and available for public comment for a period of 30 days. The Consent Decree can be viewed on the Justice Department website: www.justice.gov/enrd/Consent_Decrees.html.  EPA information on the Centredale Manor Superfund Site: www.epa.gov/superfund/centredale.</td>\n",
       "      <td>2018-07-09T00:00:00-04:00</td>\n",
       "      <td>Environment</td>\n",
       "      <td>Environment and Natural Resources Division</td>\n",
       "    </tr>\n",
       "  </tbody>\n",
       "</table>\n",
       "</div>"
      ],
      "text/plain": [
       "        id  \\\n",
       "0     None   \n",
       "1  12-919    \n",
       "2  11-1002   \n",
       "3   10-015   \n",
       "4   18-898   \n",
       "\n",
       "                                                                                                          title  \\\n",
       "0                                                                  Convicted Bomb Plotter Sentenced to 30 Years   \n",
       "1                              $1 Million in Restitution Payments Announced to Preserve North Carolina Wetlands   \n",
       "2                 $1 Million Settlement Reached for Natural Resource Damages at Superfund Site in Massachusetts   \n",
       "3                                          10 Las Vegas Men Indicted \\r\\nfor Falsifying Vehicle Emissions Tests   \n",
       "4  $100 Million Settlement Will Speed Cleanup Work at Centredale Manor Superfund Site in North Providence, R.I.   \n",
       "\n",
       "                                                                                                                                                                                                                                                                                                                                                                                                                                                                                                                                                                                                                                                                                                                                                                                                                                                                                                                                                                                                                                                                                                                                                                                                                                                                                                                                                                                                                                                                                                                                                                                                                                                                                                                                                                                                                                                                                                                                                                                                                                                                                                                                                                                                                                                                                                                                                                                                                                                                                                                                                                                                                                                                                                                                                                                                                                                                                                                                                                                                                                                                                                                                                                                                                                                                                                                                                                                                                                                                                                                                                                                                                                                                                                                                                                                                                                                                                                                                                                                                                                                                                                                                                                                                                                                                                                                                                                                                                                                                                                                                                                                                                                                                                                                                                                                                                                                                                                                                                                                                                                                                                                                                                                                                                                                                                                                                                                                                                                                                                                                                                                                                                                                                                                                                                                                                                                                                                                                                                                                                                                                                                                                                                                                                                                                                                                                                                                                                                                                                                                                                                                                                                                                                                                                                                                                                                                                                                                                                                                                                                                                                                                                                                                                                                                                                                                                                                                                                                                                                                                                                                                                                                                                                          contents  \\\n",
       "0  PORTLAND, Oregon. – Mohamed Osman Mohamud, 23, who was convicted in 2013 of attempting to use a weapon of mass destruction (explosives) in connection with a plot to detonate a vehicle bomb at an annual Christmas tree lighting ceremony in Portland, was sentenced today to serve 30 years in prison, followed by a lifetime term of supervised release. Mohamud, a naturalized U.S. citizen from Somalia and former resident of Corvallis, Oregon, was arrested on Nov. 26, 2010, after he attempted to detonate what he believed to be an explosives-laden van that was parked near the tree lighting ceremony in Portland.  The arrest was the culmination of a long-term undercover operation, during which Mohamud was monitored closely for months as his bomb plot developed.  The device was in fact inert, and the public was never in danger from the device. At sentencing, United States District Court Judge Garr M. King, who presided over Mohamed’s 14-day trial, said “the intended crime was horrific,” and that the defendant, even though he was presented with options by undercover FBI employees, “never once expressed a change of heart.”  King further noted that the Christmas tree ceremony was attended by up to 10,000 people, and that the defendant “wanted everyone to leave either dead or injured.”  King said his sentence was necessary in view of the seriousness of the crime and to serve as deterrence to others who might consider similar acts.     “With today’s sentencing, Mohamed Osman Mohamud is being held accountable for his attempted use of what he believed to be a massive bomb to attack innocent civilians attending a public Christmas tree lighting ceremony in Portland,” said John P. Carlin, Assistant Attorney General for National Security.  “The evidence clearly indicated that Mohamud was intent on killing as many people as possible with his attack.  Fortunately, law enforcement was able to identify him as a threat, insert themselves in the place of a terrorist that Mohamud was trying to contact, and thwart Mohamud’s efforts to conduct an attack on our soil.  This case highlights how the use of undercover operations against would-be terrorists allows us to engage and disrupt those who wish to commit horrific acts of violence against the innocent public.  The many agents, analysts, and prosecutors who have worked on this case deserve great credit for their roles in protecting Portland from the threat posed by this defendant and ensuring that he was brought to justice.” “This trial provided a rare glimpse into the techniques Al Qaeda employs to radicalize home-grown extremists,” said Amanda Marshall, U.S. Attorney for the District of Oregon.  “With the sentencing today, the court has held this defendant accountable.   I thank the dedicated professionals in the law enforcement and intelligence communities who were responsible for this successful outcome.  I look forward to our continued work with Muslim communities in Oregon who are committed to ensuring that all young people are safe from extremists who seek to radicalize others to engage in violence.”  According to the trial evidence, in February 2009, Mohamud began communicating via e-mail with Samir Khan, a now-deceased al Qaeda terrorist who published Jihad Recollections, an online magazine that advocated violent jihad, and who also published Inspire, the official magazine of al-Qaeda in the Arabian Peninsula.  Between February and August 2009, Mohamed exchanged approximately 150 emails with Khan.  Mohamud wrote several articles for Jihad Recollections that were published under assumed names. In August 2009, Mohamud was in email contact with Amro Al-Ali, a Saudi national who was in Yemen at the time and is today in custody in Saudi Arabia for terrorism offenses.  Al-Ali sent Mohamud detailed e-mails designed to facilitate Mohamud’s travel to Yemen to train for violent jihad.  In December 2009, while Al-Ali was in the northwest frontier province of Pakistan, Mohamud and Al-Ali discussed the possibility of Mohamud traveling to Pakistan to join Al-Ali in terrorist activities. Mohamud responded to Al-Ali in an e-mail: “yes, that would be wonderful, just tell me what I need to do.”  Al-Ali referred Mohamud to a second associate overseas and provided Mohamud with a name and email address to facilitate the process. In the following months, Mohamud made several unsuccessful attempts to contact Al-Ali’s associate.  Ultimately, an FBI undercover operative contacted Mohamud via email under the guise of being an associate of Al-Ali’s.  Mohamud and the FBI undercover operative agreed to meet in Portland in July 2010.  At the meeting, Mohamud told the FBI undercover operative he had written articles that were published in Jihad Recollections.  Mohamud also said that he wanted to become “operational.”  Asked what he meant by “operational,” Mohamud said he wanted to put an explosion together, but needed help. According to evidence presented at trial, at a meeting in August 2010, Mohamud told undercover FBI operatives he had been thinking of committing violent jihad since the age of 15.  Mohamud then told the undercover FBI operatives that he had identified a potential target for a bomb: the annual Christmas tree lighting ceremony in Portland’s Pioneer Courthouse Square on Nov. 26, 2010.  The undercover FBI operatives cautioned Mohamud several times about the seriousness of this plan, noting there would be many people at the event, including children, and emphasized that Mohamud could abandon his attack plans at any time with no shame.  Mohamud indicated the deaths would be justified and that he would not mind carrying out a suicide attack on the crowd. According to evidence presented at trial, in the ensuing months Mohamud continued to express his interest in carrying out the attack and worked on logistics.  On Nov. 4, 2010, Mohamud and the undercover FBI operatives traveled to a remote location in Lincoln County, Oregon, where they detonated a bomb concealed in a backpack as a trial run for the upcoming attack.  During the drive back to Corvallis, Mohamud was asked if was capable looking at all the bodies of those who would be killed during the explosion.  In response, Mohamud noted, “I want whoever is attending that event to be, to leave either dead or injured.”  Mohamud later recorded a video of himself, with the assistance of the undercover FBI operatives, in which he read a statement that offered his rationale for his bomb attack.  On Nov. 18, 2010, undercover FBI operatives picked up Mohamud to travel to Portland to finalize the details of the attack.  On Nov. 26, 2010, just hours before the planned attack, Mohamud examined the 1,800 pound bomb in the van and remarked that it was “beautiful.”  Later that day, Mohamud was arrested after he attempted to remotely detonate the inert vehicle bomb rked near the Christmas tree lighting ceremony This case was investigated by the FBI, with assistance from the Oregon State Police, the Corvallis Police Department, the Lincoln County Sheriff’s Office and the Portland Police Bureau.  The prosecution was handled by Assistant U.S. Attorneys Ethan D. Knight and Pamala Holsinger from the U.S. Attorney’s Office for the District of Oregon.  Trial Attorney Jolie F. Zimmerman, from the Counterterrorism Section of the Justice Department’s National Security Division, assisted. # # # 14-1077   \n",
       "1                                                                                                                                                                                                                                                                                                                                                                                                                                                                                                                                                                                                                                                                                                                                                                                                                                                                                                                                                                                                                                                                                                                                                                                                                                                                                                                                                                                                                                                                                                                                                                                                                                                                                                                                                                                                                                                                                                                                                                                                                                                                                                                                                                                                                                       WASHINGTON – North Carolina’s Waccamaw River watershed will benefit from a $1 million restitution order from a federal court, funding environmental projects to acquire and preserve wetlands in an area damaged by illegal releases of wastewater from a corporate hog farm, announced Ignacia S. Moreno, Assistant Attorney General of the Justice Department’s Environment and Natural Resources Division; U.S. Attorney for the Eastern District of North Carolina Thomas G. Walker; Director Greg McLeod from the North Carolina State Bureau of Investigation; and Camilla M. Herlevich, Executive Director of the North Carolina Coastal Land Trust.   Freedman Farms Inc. was sentenced in February 2012 to five years of probation and ordered to pay $1.5 million in fines, restitution and community service payments for violating the Clean Water Act when it discharged hog waste into a stream that leads to the Waccamaw River.  William B. Freedman, president of Freedman Farms, was sentenced to six months in prison to be followed by six months of home confinement.  Freedman Farms also is required to implement a comprehensive environmental compliance program and institute an annual training program.   In an order issued on April 19, 2012, the court ordered that the defendants would be responsible for restitution of $1 million in the form of five annual payments starting in January 2013, which the court will direct to the North Carolina Coastal Land Trust (NCCLT).  The NCCLT plans to use the money to acquire and conserve land along streams in the Waccamaw watershed.  The court also directed a $75,000 community service payment to the Southern Environmental Enforcement Network, an organization dedicated to environmental law enforcement training and information sharing in the region.    “The resolution of the case against Freedman Farms demonstrates the commitment of the Department of Justice to enforcing the Clean Water Act to ensure the protection of human health and the environment,” said Assistant Attorney General Moreno.  “The court-ordered restitution in this case will conserve wetlands for the benefit of the people of North Carolina.  By enforcing the nation’s environmental laws, we will continue to ensure that concentrated animal feeding operations (CAFOs) operate without threatening our drinking water, the health of our communities and the environment.”   “This office is committed to doing our part to hold accountable those who commit crimes against our environment, which can cause serious health problems to residents and damage the environment that makes North Carolina such a beautiful place to live and visit,” said U.S. Attorney Walker.   “This case shows what we can accomplish when our SBI agents work closely with their local, state and federal partners to investigate environmental crimes and hold the polluters accountable,” said Director McLeod.  “We’ll continue our efforts to fight illegal pollution that damages our water and puts the public’s health at risk.”    “The Waccamaw is unique and wild,” said Director Herlevich of the North Carolina Coastal Land Trust. “Its watershed includes some of the most extensive cypress gum swamps in the state, and its headwaters at Lake Waccamaw contain fish that are found nowhere else on Earth.  We appreciate the trust of the court and the U. S. Attorney, and we look forward to using these funds for conservation projects in a river system that is one of our top conservation priorities.”   According to evidence presented in court, in December 2007 Freedman Farms discharged hog waste into Browder’s Branch, a tributary to the Waccamaw River that flows through the White Marsh, a large wetlands complex.  Freedman Farms, located in Columbus County, N.C., is in the business of raising hogs for market, and this particular farm had some 4,800 hogs.  The hog waste was supposed to be directed to two lagoons for treatment and disposal.  Instead, hog waste was discharged from Freedman Farms directly into Browder’s Branch.    The Clean Water Act is a federal law that makes it illegal to knowingly or negligently discharge a pollutant into a water of the United States.    The Freedman case was investigated by the U.S. Environmental Protection Agency (EPA) Criminal Investigation Division, the U.S. Army Corps of Engineers and the North Carolina State Bureau of Investigation, with assistance from the EPA Science and Ecosystem Support Division.  The case was prosecuted by Assistant U.S. Attorney J. Gaston B. Williams of the Eastern District of North Carolina and Trial Attorney Mary Dee Carraway of the Environmental Crimes Section of the Justice Department’s Environment and Natural Resources Division.   The North Carolina Coastal Land Trust is celebrating its 20th anniversary of saving special lands in eastern North Carolina. The organization has protected nearly 50,000 acres of lands with scenic, recreational, historic and ecological values. North Carolina Coastal Land Trust has saved streams and wetlands that provide clean water, forests that are havens for wildlife, working farms that provide local food and nature parks that everyone can enjoy.  More information about the Coastal Land Trust is available at www.coastallandtrust.org.   \n",
       "2                                                                                                                                                                                                                                                                                                                                                                                                                                                                                                                                                                                                                                                                                                                                                                                                                                                                                                                                                                                                                                                                                                                                                                                                                                                                                                                                                                                                                                                                                                                                                                                                                                                                                                                                                                                                                                                        BOSTON– A $1-million settlement has been reached for natural resource damages (NRD) at the Blackburn & Union Privileges Superfund Site in Walpole, Mass., the Departments of Justice and Interior (DOI), and the Office of the Massachusetts Attorney General announced today.                The Blackburn & Union Privileges Superfund Site includes 22 acres of contaminated land and water in Walpole. The contamination resulted from the operations of various industrial facilities dating back to the 19th century that exposed the site to asbestos, arsenic, lead and other hazardous substances.                The private parties involved in the settlement include two former owners and operators of the site, W.R. Grace & Co.– Conn. and Tyco Healthcare Group LP, as well as the current owners, BIM Investment Corp. and Shaffer Realty Nominee Trust.               From about 1915 to 1936, a predecessor of W.R. Grace manufactured asbestos brake linings and clutch linings on a large portion of the property. From 1946 to about 1983, a predecessor of Tyco Healthcare operated a cotton fabric manufacturing business, which used caustic solutions, on a portion of the property.               In a 2010 settlement with U.S. Environmental Protection Agency (EPA), the four private parties agreed to perform a remedial action to clean up the site at an estimated cost of $13 million. The consent decree lodged today resolves both state and federal NRD liability claims; it requires the parties to pay $1,094,169.56 to the state and federal natural resource trustees, the Massachusetts Executive Office of Energy and Environmental Affairs (EEA) and DOI, for injuries to ecological resources including groundwater and wetlands, which provide habitat for waterfowl and wading birds, including black ducks and great blue herons.  The trustees will use the settlement funds for natural resource restoration projects in the area.               “This settlement demonstrates our commitment to recovering damages from the parties responsible for injury to natural resources, in partnership with state trustees,” said Bruce Gelber, Acting Deputy Assistant Attorney General of the Justice Department’s Environment and Natural Resources Division.               “The citizens of Walpole have had to live with the environmental impact of this contamination for many years,” Attorney General Martha Coakley said. “We are pleased that today’s agreement will not only require the responsible parties to reimburse taxpayer dollars, but will also provide funding to begin restoring or replacing the wetland and other natural resources.”                 The consent decree was lodged in the U.S. District Court for Massachusetts.     A portion of the funds, $300,000, will be distributed to the EEA-sponsored groundwater restoration projects; $575,000 will be used for ecological restoration projects jointly sponsored by EEA and the U.S. Fish and Wildlife Service (FWS).               In addition, $125,000 will go for projects jointly sponsored by EEA and FWS that achieve both ecological and groundwater restoration; $57,491.34 will be allocated for reimbursement for the FWS’s assessment costs; and $36,678.22 will be distributed as reimbursement for the commonwealth’s assessment costs.       “This settlement provides the means for a range of projects designed to compensate the public for decades of groundwater and other ecological damage at this site.  I encourage local citizens and organizations to become engaged in the public process that will take place as we solicit, take comment on, and choose these projects in the months ahead,” said Energy and Environmental Affairs Secretary Richard K. Sullivan Jr., who serves as the Commonwealth’s Natural Resources Damages trustee.       “This settlement will help restore habitat for fish and wildlife in the Neponset River watershed,” said Tom Chapman of the FWS New England Field Office. “We look forward to working with the commonwealth and local stakeholders to implement restoration.”               “More than 100 years-worth of industrial activities at this site caused major environmental contamination to the Neponset River, nearby wetlands and to groundwater below the site,” said Commissioner Kenneth Kimmell of the Massachusetts Department of Environmental Protection (MassDEP), which will staff the Trustee Council for the Commonwealth. “We will ensure that the community and the public will be active participants in the process to use these NRD funds to restore the injured natural resources.”                Under the federal Comprehensive Environmental Response, Compensation and Liability Act, EEA and DOI, acting through the FWS, are the designated state and federal natural resource Trustees for the site. The site has been listed on the EPA’s National Priorities List since 1994.        The consent decree is subject to a public comment period and court approval. A copy of the consent decree and instructions about how to submit comments is available on www.usdoj.gov/enrd/Consent_Decrees.html  .               After the consent decree is approved, EEA and FWS will develop proposed restoration plans to use the settlement funds for restoration projects. The proposed restoration plans will also be made available to the public for review and comment.                Assistant Attorney General Matthew Brock of Massachusetts Attorney General Coakley's Environmental Protection Division handled this matter.  Attorney Jennifer Davis of MassDEP, Attorney Anna Blumkin of EEA and MassDEP’s NRD Coordinator Karen Pelto also worked on this settlement.   \n",
       "3                                                                                                                                                                                                                                                                                                                                                                                                                                                                                                                                                                                                                                                                                                                                                                                                                                                                                                                                                                                                                                                                                                                                                                                                                                                                                                                                                                                                                                                                                                                                                                                                                                                                                                                                                                                                                                                                                                                                                                                                                                                                                                                                                                                                                                                                                                                                                                                                                                                                                                                                                                                                                                                                                                                                                                                                                                                                                                                                                                                                                                                                                                                                                                                                                                                                                                                                                                                                                                                                                                                           WASHINGTON—A federal grand jury in Las Vegas today returned indictments against 10 Nevada-certified emissions testers for falsifying vehicle emissions test reports, the Justice Department announced.   Each defendant faces one felony Clean Air Act count for falsifying reports between November 2007 and May 2009. The number of falsifications varied by defendant, with some defendants having falsified approximately 250 records, while others falsified more than double that figure. One defendant is alleged to have falsified over 700 reports.   The individuals indicted include:     Escudero resides in Pahrump, Nev. All other individuals are from Clark County, Nev.    The 10 defendants are alleged to have engaged in a practice known as \"clean scanning\" vehicles. The scheme involved entering the Vehicle Identification Number (VIN) for a vehicle that would not pass the emissions test into the computerized system, then connecting a different vehicle the testers knew would pass the test. These falsifications were allegedly performed for anywhere from $10 to $100 over and above the usual emissions testing fee.    The U.S. Environmental Protection Agency (EPA), under the Clean Air Act, requires the state of Nevada to conduct vehicle emissions testing in certain areas because the areas exceed national standards for carbon monoxide and ozone. Las Vegas is currently required to perform emissions testing.    To obtain a registration renewal, vehicle owners bring the vehicles to a licensed inspection station for testing. The emissions inspector logs into a computer to activate the system by using a unique password issued to the emissions inspector. The emissions inspector manually inputs the vehicle’s VIN to identify the tested vehicle, then connects the vehicle for model year 1996 and later to an onboard diagnostics port connected to an analyzer. The analyzer downloads data from the vehicle’s computer, analyzes the data and provides a \"pass\" or \"fail\" result. The pass or fail result and vehicle identification data are reported on the Vehicle Inspection Report. It is a crime to knowingly alter or conceal any record or other document required to be maintained by the Clean Air Act.     \"Falsifications of vehicle emissions testing, such as those alleged in the indictments unsealed today, are serious matters and we intend to use all of our enforcement tools to stop this harmful practice. These actions undermine a system that is designed to reduce air pollutants including smog and provide better air quality for the citizens of Nevada,\" said Ignacia S. Moreno, Assistant Attorney General for the Justice Department’s Environment and Natural Resources Division.    \"The residents of Nevada deserve to know that the vast majority of licensed vehicle emission inspectors are not corrupt and are not circumventing emission testing procedures,\" said U.S. Attorney Bogden. \"These indictments should serve as a clear warning to offenders that the Department of Justice will prosecute you if you make fraudulent statements and reports concerning compliance with the federal Clean Air Act.\"    \"Lying about car emissions means dirtier air, which is especially of concern in areas like Las Vegas that are already experiencing air quality problems,\" said Cynthia Giles, Assistant Administrator for Enforcement and Compliance Assurance at EPA. \"We will take aggressive action to ensure communities have clean air.\"    The maximum penalty for the felony violations contained in the indictments includes up to two years in prison and a fine of up to $250,000.    An indictment is merely an accusation, and a defendant is presumed innocent unless and until proven guilty in a court of law.    The case was investigated by the EPA, Criminal Investigation Division; and the Nevada Department of Motor Vehicles Compliance Enforcement Division. The case is being prosecuted by the U.S. Attorney’s Office for the District of Nevada and the Justice Department’s Environmental Crimes Section.   \n",
       "4                                                                                                                                                                                                                                                                                                                                                                                                                                                                                                                                                                                                                                                                                                                                                                                                                                                                                                                                                                                                                                                                                                                                   The U.S. Department of Justice, the U.S. Environmental Protection Agency (EPA), and the Rhode Island Department of Environmental Management (RIDEM) announced today that two subsidiaries of Stanley Black & Decker Inc.—Emhart Industries Inc. and Black & Decker Inc.—have agreed to clean up dioxin contaminated sediment and soil at the Centredale Manor Restoration Project Superfund Site in North Providence and Johnston, Rhode Island.  “We are pleased to reach a resolution through collaborative work with the responsible parties, EPA, and other stakeholders,” said Acting Assistant Attorney General Jeffrey H. Wood for the Justice Department's Environment and Natural Resources Division . “Today’s settlement ends protracted litigation and allows for important work to get underway to restore a healthy environment for citizens living in and around the Centredale Manor Site and the Woonasquatucket River.” “This settlement demonstrates the tremendous progress we are achieving working with responsible parties, states, and our federal partners to expedite sites through the entire Superfund remediation process,” said EPA Acting Administrator Andrew Wheeler. “The Centredale Manor Site has been on the National Priorities List for 18 years; we are taking charge and ensuring the Agency makes good on its promise to clean it up for the betterment of the environment and those communities affected.” “Successfully concluding this settlement paves the way for EPA to make good on our commitment to aggressively pursue cleaning up the Centredale Manor Superfund Site,” said EPA New England Regional Administrator Alexandra Dunn. “We are excited to get to work on the cleanup at this site, and get it closer to the goal of being fully utilized by the North Providence and Johnston communities.” “We are pleased that the collective efforts of the State of Rhode Island, EPA, and DOJ in these negotiations have concluded in this major milestone toward the cleanup of the Centredale Manor Restoration Superfund site and are consistent with our long-standing efforts to make the polluter pay,” said RIDEM Director Janet Coit. “The settlement will speed up a remedy that protects public health and the river environment, and moves us closer to the day that we can reclaim recreational uses of this beautiful river resource.” The settlement, which includes cleanup work in the Woonasquatucket River (River) and bordering residential and commercial properties along the River, requires the companies to perform the remedy selected by EPA for the Site in 2012, which is estimated to cost approximately $100 million, and resolves longstanding litigation. The cleanup remedy includes excavation of contaminated sediment and floodplain soil from the Woonasquatucket River, including from adjacent residential properties. Once the cleanup remedy is completed, full access to the Woonasquatucket River should be restored for local citizens. The cleanup will be a step toward the State’s goal of a fishable and swimmable river. The work will also include upgrading caps over contaminated soil in the peninsula area of the Site that currently house two high-rise apartment buildings. The settlement also ensures that the long-term monitoring and maintenance of the site, as directed in the remedy, will be implemented to ensure that public health is protected.  Under the settlement, Emhart and Black & Decker will reimburse EPA for approximately $42 million in past costs incurred at the Site. The companies will also reimburse EPA and the State of Rhode Island for future costs incurred by those agencies in overseeing the work required by the settlement. The settlement will also include payments on behalf of two federal agencies to resolve claims against those agencies. These payments, along with prior settlements related to the Site, will result in a 100 percent recovery for the United States of its past and future response costs related to the Site. Litigation related to the Site has been ongoing for nearly eight years. While the Federal District Court found Black & Decker and Emhart to be liable for their hazardous waste and responsible to conduct the cleanup of the Site, it had also ruled that EPA needed to reconsider certain aspects of that cleanup. EPA appealed the decision requiring it to reconsider aspects of the cleanup. This settlement, once entered by the District Court, will resolve the litigation between the United States, Rhode Island, and Emhart and Black and Decker, allowing the cleanup of the Site to begin. The Site spans a one and a half mile stretch of the Woonasquatucket River and encompasses a nine-acre peninsula, two ponds and a significant forested wetland. From the 1940s to the early 1970s, Emhart’s predecessor operated a chemical manufacturing facility on the peninsula and used a raw material that was contaminated with 2,3,7,8-tetrachlorodibenzo-p-dioxin, a toxic form of dioxin. The Site property was also previously used by a barrel refurbisher. Elevated levels of dioxins and other contaminants have been detected in soil, groundwater, sediment, surface water and fish.  The Site was added to the National Priorities List (NPL) in 2000, and in December 2017, EPA included the Centredale Manor Restoration Project Superfund Site on a list of Superfund sites targeted for immediate and intense attention. Several short-term actions were previously performed at the Site to address immediate threats to the residents and minimize potential erosion and downstream transport of contaminated soil and sediment. This settlement is the latest agreement EPA has reached since the Site was listed on the NPL. Prior agreements addressed the performance and recovery of costs for the past environmental investigations and interim cleanup actions from Emhart, the barrel reconditioning company, the current owners of the peninsula portion of the Site, and other potentially responsible parties. The Consent Decree, lodged in the U.S. District Court of Rhode Island, will be posted in the Federal Register and available for public comment for a period of 30 days. The Consent Decree can be viewed on the Justice Department website: www.justice.gov/enrd/Consent_Decrees.html.  EPA information on the Centredale Manor Superfund Site: www.epa.gov/superfund/centredale.   \n",
       "\n",
       "                        date topics_clean  \\\n",
       "0  2014-10-01T00:00:00-04:00     No topic   \n",
       "1  2012-07-25T00:00:00-04:00     No topic   \n",
       "2  2011-08-03T00:00:00-04:00     No topic   \n",
       "3  2010-01-08T00:00:00-05:00     No topic   \n",
       "4  2018-07-09T00:00:00-04:00  Environment   \n",
       "\n",
       "                             components_clean  \n",
       "0            National Security Division (NSD)  \n",
       "1  Environment and Natural Resources Division  \n",
       "2  Environment and Natural Resources Division  \n",
       "3  Environment and Natural Resources Division  \n",
       "4  Environment and Natural Resources Division  "
      ]
     },
     "execution_count": 2,
     "metadata": {},
     "output_type": "execute_result"
    }
   ],
   "source": [
    "## first, unzip the file pset3_inputdata.zip \n",
    "## then, run this code to load the unzipped json file and convert to a dataframe\n",
    "## (may need to change the pathname depending on where you store stuff)\n",
    "## and convert some of the attributes from lists to values\n",
    "doj = pd.read_json(\"combined.json\", lines = True)\n",
    "\n",
    "## due to json, topics are in a list so remove them and concatenate with ;\n",
    "doj['topics_clean'] = [\"; \".join(topic) \n",
    "                      if len(topic) > 0 else \"No topic\" \n",
    "                      for topic in doj.topics]\n",
    "\n",
    "## similarly with components\n",
    "doj['components_clean'] = [\"; \".join(comp) \n",
    "                           if len(comp) > 0 else \"No component\" \n",
    "                           for comp in doj.components]\n",
    "\n",
    "## drop older columns from data\n",
    "doj = doj[['id', 'title', 'contents', 'date', 'topics_clean', \n",
    "           'components_clean']].copy()\n",
    "\n",
    "doj.head()"
   ]
  },
  {
   "cell_type": "markdown",
   "metadata": {},
   "source": [
    "## 1. Tagging and sentiment scoring (17 points)\n",
    "\n",
    "Focus on the following press release: `id` == \"17-1204\" about this pharmaceutical kickback prosecution: https://www.forbes.com/sites/michelatindera/2017/11/16/fentanyl-billionaire-john-kapoor-to-plead-not-guilty-in-opioid-kickback-case/?sh=21b8574d6c6c \n",
    "\n",
    "The `contents` column is the one we're treating as a document. You may need to to convert it from a pandas series to a single string.\n",
    "\n",
    "We'll call the raw string of this press release `pharma`"
   ]
  },
  {
   "cell_type": "code",
   "execution_count": 3,
   "metadata": {},
   "outputs": [],
   "source": [
    "## your code to subset to one press release and take the string\n",
    "\n",
    "pharma = doj.loc[doj['id'] == \"17-1204\"]['contents']"
   ]
  },
  {
   "cell_type": "markdown",
   "metadata": {},
   "source": [
    "### 1.1 part of speech tagging (3 points)\n",
    "\n",
    "A. Preprocess the `pharma` press release to remove all punctuation / digits (you can use `.isalpha()` to subset)\n",
    "\n",
    "B. With the preprocessed press release from part A, use the part of speech tagger within nltk to tag all the words in that one press release with their part of speech. \n",
    "\n",
    "C. Using the output from B, extract the adjectives and sort those adjectives from most occurrences to fewest occurrences. Print a dataframe with the 5 most frequent adjectives and their counts in the `pharma` release. See here for a list of the names of adjectives within nltk: https://pythonprogramming.net/natural-language-toolkit-nltk-part-speech-tagging/\n",
    "\n",
    "**Resources**:\n",
    "\n",
    "- Documentation for `.isalpha()`: https://www.w3schools.com/python/ref_string_isalpha.asp"
   ]
  },
  {
   "cell_type": "code",
   "execution_count": 4,
   "metadata": {},
   "outputs": [],
   "source": [
    "#A\n",
    "pharma_cleaned = pharma.apply(lambda x: ''.join([char for char in x if char.isalpha() or char.isspace()]))"
   ]
  },
  {
   "cell_type": "code",
   "execution_count": 5,
   "metadata": {},
   "outputs": [],
   "source": [
    "#B\n",
    "pharma_str = pharma_cleaned.to_string()\n",
    "tokens = word_tokenize(pharma_str)\n",
    "tokens_pos = nltk.pos_tag(tokens)"
   ]
  },
  {
   "cell_type": "code",
   "execution_count": 6,
   "metadata": {},
   "outputs": [
    {
     "data": {
      "text/html": [
       "<div>\n",
       "<style scoped>\n",
       "    .dataframe tbody tr th:only-of-type {\n",
       "        vertical-align: middle;\n",
       "    }\n",
       "\n",
       "    .dataframe tbody tr th {\n",
       "        vertical-align: top;\n",
       "    }\n",
       "\n",
       "    .dataframe thead th {\n",
       "        text-align: right;\n",
       "    }\n",
       "</style>\n",
       "<table border=\"1\" class=\"dataframe\">\n",
       "  <thead>\n",
       "    <tr style=\"text-align: right;\">\n",
       "      <th></th>\n",
       "      <th>Adjective</th>\n",
       "      <th>Count</th>\n",
       "    </tr>\n",
       "  </thead>\n",
       "  <tbody>\n",
       "    <tr>\n",
       "      <th>0</th>\n",
       "      <td>former</td>\n",
       "      <td>8</td>\n",
       "    </tr>\n",
       "    <tr>\n",
       "      <th>1</th>\n",
       "      <td>opioid</td>\n",
       "      <td>5</td>\n",
       "    </tr>\n",
       "    <tr>\n",
       "      <th>2</th>\n",
       "      <td>nationwide</td>\n",
       "      <td>4</td>\n",
       "    </tr>\n",
       "    <tr>\n",
       "      <th>3</th>\n",
       "      <td>addictive</td>\n",
       "      <td>3</td>\n",
       "    </tr>\n",
       "    <tr>\n",
       "      <th>4</th>\n",
       "      <td>other</td>\n",
       "      <td>3</td>\n",
       "    </tr>\n",
       "  </tbody>\n",
       "</table>\n",
       "</div>"
      ],
      "text/plain": [
       "    Adjective  Count\n",
       "0      former      8\n",
       "1      opioid      5\n",
       "2  nationwide      4\n",
       "3   addictive      3\n",
       "4       other      3"
      ]
     },
     "execution_count": 6,
     "metadata": {},
     "output_type": "execute_result"
    }
   ],
   "source": [
    "#C\n",
    "\n",
    "#create list of all adjectives\n",
    "all_adj = [one_tok[0] for one_tok in tokens_pos if one_tok[1] == 'JJ']\n",
    "\n",
    "#convert from list to dataframe\n",
    "df_all_adj = pd.DataFrame(all_adj)\n",
    "df_all_adj = df_all_adj.rename(columns={0:'Adjective'})\n",
    "\n",
    "#sort by value counts\n",
    "sorted_adj = df_all_adj['Adjective'].value_counts().reset_index()\n",
    "sorted_adj.columns = ['Adjective','Count']\n",
    "\n",
    "#find most 5 frequent \n",
    "most_freq_5 = sorted_adj.head(5) \n",
    "most_freq_5"
   ]
  },
  {
   "cell_type": "markdown",
   "metadata": {},
   "source": [
    "## 1.2 named entity recognition (4 points)"
   ]
  },
  {
   "cell_type": "markdown",
   "metadata": {},
   "source": [
    "A. Using the original `pharma` press release (so the one before stripping punctuation/digits), use spaCy to extract all named entities from the press release.\n",
    "\n",
    "B. Print the unique named entities with the tag: `LAW`"
   ]
  },
  {
   "cell_type": "code",
   "execution_count": 7,
   "metadata": {},
   "outputs": [
    {
     "name": "stdout",
     "output_type": "stream",
     "text": [
      "Entity: 4909 ; NER tag: DATE\n",
      "Entity: Insys Therapeutics Inc. ; NER tag: ORG\n",
      "Entity: today ; NER tag: DATE\n",
      "Entity: Fentanyl ; NER tag: PERSON\n",
      "Entity: More than 20,000 ; NER tag: CARDINAL\n",
      "Entity: Americans ; NER tag: NORP\n",
      "Entity: last year ; NER tag: DATE\n",
      "Entity: millions ; NER tag: CARDINAL\n",
      "Entity: Jeff Sessions ; NER tag: PERSON\n",
      "Entity: This Justice Department ; NER tag: ORG\n",
      "Entity: Trump ; NER tag: PERSON\n",
      "Entity: American ; NER tag: NORP\n",
      "Entity: ”John N. Kapoor ; NER tag: PERSON\n",
      "Entity: 74 ; NER tag: DATE\n",
      "Entity: Phoenix ; NER tag: GPE\n",
      "Entity: Ariz. ; NER tag: GPE\n",
      "Entity: the Board of Directors ; NER tag: ORG\n",
      "Entity: Insys ; NER tag: ORG\n",
      "Entity: this morning ; NER tag: TIME\n",
      "Entity: Arizona ; NER tag: GPE\n",
      "Entity: RICO ; NER tag: LAW\n",
      "Entity: Kapoor ; NER tag: PERSON\n",
      "Entity: Executive ; NER tag: ORG\n",
      "Entity: Board ; NER tag: ORG\n",
      "Entity: Insys ; NER tag: ORG\n",
      "Entity: Phoenix ; NER tag: GPE\n",
      "Entity: today ; NER tag: DATE\n",
      "Entity: U.S. ; NER tag: GPE\n",
      "Entity: District Court ; NER tag: ORG\n",
      "Entity: Boston ; NER tag: GPE\n",
      "Entity: a later date ; NER tag: DATE\n",
      "Entity: today ; NER tag: DATE\n",
      "Entity: Boston ; NER tag: GPE\n",
      "Entity: Insys ; NER tag: ORG\n",
      "Entity: December 2016.The ; NER tag: DATE\n",
      "Entity: Kapoor ; NER tag: GPE\n",
      "Entity: Michael L. Babich ; NER tag: PERSON\n",
      "Entity: 40 ; NER tag: DATE\n",
      "Entity: Scottsdale ; NER tag: GPE\n",
      "Entity: Ariz. ; NER tag: GPE\n",
      "Entity: Alec Burlakoff ; NER tag: PERSON\n",
      "Entity: 42 ; NER tag: DATE\n",
      "Entity: Charlotte ; NER tag: GPE\n",
      "Entity: N.C. ; NER tag: GPE\n",
      "Entity: Richard M. Simon ; NER tag: PERSON\n",
      "Entity: 46 ; NER tag: DATE\n",
      "Entity: Seal Beach ; NER tag: GPE\n",
      "Entity: Calif. ; NER tag: GPE\n",
      "Entity: Sunrise Lee ; NER tag: PERSON\n",
      "Entity: 36 ; NER tag: DATE\n",
      "Entity: Bryant City ; NER tag: GPE\n",
      "Entity: Mich. ; NER tag: GPE\n",
      "Entity: Joseph A. Rowan ; NER tag: PERSON\n",
      "Entity: 43 ; NER tag: DATE\n",
      "Entity: Panama City ; NER tag: GPE\n",
      "Entity: Fla. ; NER tag: GPE\n",
      "Entity: Managed Markets ; NER tag: ORG\n",
      "Entity: Michael J. Gurry ; NER tag: PERSON\n",
      "Entity: 53 ; NER tag: DATE\n",
      "Entity: Scottsdale ; NER tag: GPE\n",
      "Entity: Ariz. ; NER tag: GPE\n",
      "Entity: Subsys ; NER tag: ORG\n",
      "Entity: Kapoor ; NER tag: GPE\n",
      "Entity: six ; NER tag: CARDINAL\n",
      "Entity: Kapoor ; NER tag: PERSON\n",
      "Entity: United States ; NER tag: GPE\n",
      "Entity: William D. Weinreb ; NER tag: PERSON\n",
      "Entity: Today ; NER tag: DATE\n",
      "Entity: Insys ; NER tag: ORG\n",
      "Entity: Harold H. Shaw ; NER tag: PERSON\n",
      "Entity: Charge of the Federal Bureau of Investigation ; NER tag: ORG\n",
      "Entity: Boston Field Division ; NER tag: ORG\n",
      "Entity: Today ; NER tag: DATE\n",
      "Entity: FBI ; NER tag: ORG\n",
      "Entity: Insys ; NER tag: PERSON\n",
      "Entity: Phillip Coyne ; NER tag: PERSON\n",
      "Entity: Charge for the Office of Inspector General of the U.S. Department of Health and Human Services ; NER tag: ORG\n",
      "Entity: Insys ; NER tag: ORG\n",
      "Entity: FDA ; NER tag: ORG\n",
      "Entity: Mark A. McCormack ; NER tag: PERSON\n",
      "Entity: Charge ; NER tag: GPE\n",
      "Entity: FDA Office of Criminal Investigations’ Metro ; NER tag: ORG\n",
      "Entity: Field Office ; NER tag: ORG\n",
      "Entity: DEA Special ; NER tag: ORG\n",
      "Entity: Michael J. Ferguson ; NER tag: PERSON\n",
      "Entity: DEA ; NER tag: ORG\n",
      "Entity: the Controlled Substances Act ; NER tag: LAW\n",
      "Entity: Charge Leigh-Alistair Barzey ; NER tag: PERSON\n",
      "Entity: Defense Criminal Investigative Service ; NER tag: ORG\n",
      "Entity: Northeast Field Office ; NER tag: ORG\n",
      "Entity: DCIS ; NER tag: ORG\n",
      "Entity: U.S. ; NER tag: GPE\n",
      "Entity: Massachusetts ; NER tag: GPE\n",
      "Entity: U.S. ; NER tag: GPE\n",
      "Entity: TRICARE ; NER tag: ORG\n",
      "Entity: the Defense Department’s ; NER tag: ORG\n",
      "Entity: John Kapoor ; NER tag: PERSON\n",
      "Entity: Susan A. Hensley ; NER tag: PERSON\n",
      "Entity: the U.S. Department of Labor ; NER tag: ORG\n",
      "Entity: Employee Benefits Security Administration ; NER tag: ORG\n",
      "Entity: Boston Regional Office ; NER tag: ORG\n",
      "Entity: the United States Postal Inspection Service ; NER tag: ORG\n",
      "Entity: Shelly Binkowski ; NER tag: PERSON\n",
      "Entity: the U.S. Postal Inspection Service ; NER tag: ORG\n",
      "Entity: U.S. Department ; NER tag: ORG\n",
      "Entity: Veterans Affairs ; NER tag: ORG\n",
      "Entity: Office of Inspector General ; NER tag: ORG\n",
      "Entity: Donna L. Neves ; NER tag: PERSON\n",
      "Entity: Charge of the VA OIG Northeast Field Office ; NER tag: ORG\n",
      "Entity: RICO ; NER tag: LAW\n",
      "Entity: 20 years ; NER tag: DATE\n",
      "Entity: three years ; NER tag: DATE\n",
      "Entity: 250,000 ; NER tag: MONEY\n",
      "Entity: five years ; NER tag: DATE\n",
      "Entity: three years ; NER tag: DATE\n",
      "Entity: 25,000 ; NER tag: MONEY\n",
      "Entity: the U.S. Sentencing Guidelines ; NER tag: ORG\n",
      "Entity: FBI ; NER tag: ORG\n",
      "Entity: HHS-OIG ; NER tag: ORG\n",
      "Entity: FDA Office of Criminal Investigations ; NER tag: ORG\n",
      "Entity: the Defense Criminal Investigative Service ; NER tag: ORG\n",
      "Entity: the Drug Enforcement Administration ; NER tag: ORG\n",
      "Entity: the Department of Labor ; NER tag: ORG\n",
      "Entity: Employee Benefits Security Administration ; NER tag: ORG\n",
      "Entity: the Office of Personnel Management ; NER tag: ORG\n",
      "Entity: the U.S. Postal Inspection Service ; NER tag: ORG\n",
      "Entity: the U.S. Postal Service Office of Inspector General ; NER tag: ORG\n",
      "Entity: the Department of Veterans Affairs ; NER tag: ORG\n",
      "Entity: U.S. ; NER tag: GPE\n",
      "Entity: U.S. ; NER tag: GPE\n",
      "Entity: the District of Connecticut ; NER tag: GPE\n",
      "Entity: Eastern District ; NER tag: LOC\n",
      "Entity: Michigan ; NER tag: GPE\n",
      "Entity: Southern District ; NER tag: LOC\n",
      "Entity: Southern District ; NER tag: LOC\n",
      "Entity: New York ; NER tag: GPE\n",
      "Entity: District of ; NER tag: GPE\n",
      "Entity: Rhode Island ; NER tag: GPE\n",
      "Entity: the District of New Hampshire ; NER tag: GPE\n",
      "Entity: the Central District ; NER tag: LOC\n",
      "Entity: California ; NER tag: GPE\n",
      "Entity: the Justice Department’s ; NER tag: ORG\n",
      "Entity: Civil Fraud Section ; NER tag: ORG\n",
      "Entity: the Department of Justice ; NER tag: ORG\n",
      "Entity: U.S. ; NER tag: GPE\n",
      "Entity: Nathaniel Yeager ; NER tag: PERSON\n",
      "Entity: Weinreb’s Health Care Fraud Unit ; NER tag: ORG\n",
      "Entity: Susan M. Poswistilo ; NER tag: PERSON\n",
      "Entity: Weinreb’s Civil Division ; NER tag: ORG\n"
     ]
    }
   ],
   "source": [
    "#A #QUESTION: not sure if this we should be sotring the named entities somewhere? or if just printing them is ok? \n",
    "spacy_pharma = nlp(pharma.to_string())\n",
    "for one_tok in spacy_pharma.ents: \n",
    "    print( \"Entity: \" + one_tok.text + \" ; NER tag: \" + one_tok.label_)"
   ]
  },
  {
   "cell_type": "code",
   "execution_count": 8,
   "metadata": {},
   "outputs": [
    {
     "data": {
      "text/plain": [
       "['Entity: RICO ; NER tag: LAW',\n",
       " 'Entity: the Controlled Substances Act ; NER tag: LAW',\n",
       " 'Entity: RICO ; NER tag: LAW']"
      ]
     },
     "execution_count": 8,
     "metadata": {},
     "output_type": "execute_result"
    }
   ],
   "source": [
    "#B\n",
    "[(\"Entity: \" + one_tok.text + \" ; NER tag: \" + one_tok.label_) for one_tok in spacy_pharma.ents if one_tok.label_ == \"LAW\"]"
   ]
  },
  {
   "cell_type": "markdown",
   "metadata": {},
   "source": [
    "C. Use Google to summarize in one sentence what the `RICO` named entity means and why this might apply to a pharmaceutical kickbacks case (and not just a mafia case...) "
   ]
  },
  {
   "cell_type": "markdown",
   "metadata": {},
   "source": [
    "**The Racketeer Influenced and Corrupt Organizations Act target organized crime, which can involve illicit drug activities such as moving money illegally via kickbacks from drug sales.**"
   ]
  },
  {
   "cell_type": "markdown",
   "metadata": {},
   "source": [
    "D. You want to extract the possible sentence lengths the CEO is facing; pull out the named entities with (1) the label `DATE` and (2) that contain the word year or years (hint: you may want to use the `re` module for that second part). Print these named entities."
   ]
  },
  {
   "cell_type": "code",
   "execution_count": 9,
   "metadata": {},
   "outputs": [
    {
     "name": "stdout",
     "output_type": "stream",
     "text": [
      "Entity: last year ; NER tag: DATE\n",
      "Entity: 20 years ; NER tag: DATE\n",
      "Entity: three years ; NER tag: DATE\n",
      "Entity: five years ; NER tag: DATE\n",
      "Entity: three years ; NER tag: DATE\n"
     ]
    }
   ],
   "source": [
    "#D\n",
    "for one_tok in spacy_pharma.ents:\n",
    "    if one_tok.label_ == \"DATE\":\n",
    "        match = re.search(r'((?:.*?)(?:year|years)(?:.*?))', one_tok.text)\n",
    "        if match:\n",
    "            print(\"Entity: \" + one_tok.text + \" ; NER tag: \" + one_tok.label_)\n"
   ]
  },
  {
   "cell_type": "markdown",
   "metadata": {},
   "source": [
    "E. Pull and print the original parts of the press releases where those year lengths are mentioned (e.g., the sentences or rough region of the press release). Describe in your own words (1 sentence) what length of sentence (prison) and probation (supervised release) the CEO may be facing if convicted after this indictment (if there are multiple lengths mentioned describe the maximum). \n",
    "\n",
    "**Hint**: you may want to use re.search or re.findall \n",
    "\n",
    "- For part E, you can use `re.search` and `re.findall`, or anything that works 😳."
   ]
  },
  {
   "cell_type": "code",
   "execution_count": 10,
   "metadata": {},
   "outputs": [
    {
     "data": {
      "text/plain": [
       "[['Americans died of synthetic opioid overdoses last year, and millions are addicted to opioids. And yet so',\n",
       "  'each provide for a sentence of no greater than 20 years in prison, three years of supervised release and',\n",
       "  'aw provide for a sentence of no greater than five years in prison, three years of supervised release and']]"
      ]
     },
     "execution_count": 10,
     "metadata": {},
     "output_type": "execute_result"
    }
   ],
   "source": [
    "press_pattern = r'(?<=\\.|\\s)(.*?((?:\\d+ (?:year|years)).*?))(?=\\.)'\n",
    "press_pattern2 = r'((?:[^.]{0,50})(?:\\d+ (?:year|years).*?\\.)(?:.*?\\.[^.]{0,50}))'\n",
    "press_pattern3 = r'((?:.{0,50})(?:year|years)(?:.{0,50}))'\n",
    "\n",
    "\n",
    "press_search = [re.findall(press_pattern3, spacy_pharma.text, re.IGNORECASE)]\n",
    "press_search"
   ]
  },
  {
   "cell_type": "markdown",
   "metadata": {},
   "source": [
    "**Based on these other mentions of sentence and probation lengths, the CEO may be facing up to 20 years in prison with three years of probation if convicted after the indictment.**"
   ]
  },
  {
   "cell_type": "markdown",
   "metadata": {},
   "source": [
    "## 1.3 sentiment analysis  (10 points)\n",
    "\n",
    "A. Subset the press releases to those labeled with one of three topics via `topics_clean`: Civil Rights, Hate Crimes, and Project Safe Childhood. We'll call this `doj_subset` going forward and it should have 717 rows.\n",
    "\n"
   ]
  },
  {
   "cell_type": "code",
   "execution_count": 11,
   "metadata": {},
   "outputs": [
    {
     "data": {
      "text/plain": [
       "(717, 6)"
      ]
     },
     "execution_count": 11,
     "metadata": {},
     "output_type": "execute_result"
    }
   ],
   "source": [
    "#A \n",
    "\n",
    "doj_subset = doj[(doj['topics_clean'] == 'Civil Rights') | \n",
    "                 (doj['topics_clean'] == 'Hate Crimes') | \n",
    "                 (doj['topics_clean'] == 'Project Safe Childhood')]\n",
    "\n",
    "#Confirming it has 717 rows\n",
    "doj_subset.shape\n"
   ]
  },
  {
   "cell_type": "markdown",
   "metadata": {},
   "source": [
    "B. Write a function that takes one press release string as an input and:\n",
    "\n",
    "- Removes named entities from each press release string (**Hint**: you may want to use `re.sub` with an or condition)\n",
    "- Scores the sentiment of the entire press release using the `SentimentIntensityAnalyzer` and `polarity_scores`\n",
    "- Returns the length-four (negative, positive, neutral, compound) sentiment dictionary (any order is fine)\n",
    "\n",
    "Apply that function to each of the press releases in `doj_subset`. \n",
    "\n",
    "**Hints**: \n",
    "\n",
    "- A function + list comprehension to execute will takes about 30 seconds on a respectable local machine and about 2 mins on jhub; if it's taking a very long time, you may want to check your code for inefficiencies. If you can't fix those, for partial credit on this part/full credit on remainder, you can take a small random sample of the 717\n"
   ]
  },
  {
   "cell_type": "code",
   "execution_count": 12,
   "metadata": {},
   "outputs": [],
   "source": [
    "def get_sentiment(press): \n",
    "    # Check if press is already a string\n",
    "    if not isinstance(press, str):\n",
    "        press = press.to_string()\n",
    "    \n",
    "    # create spaCy doc object from string \n",
    "    press_doc = nlp(press)\n",
    "    \n",
    "    # initialize sentiment analyzer\n",
    "    sent_obj = SentimentIntensityAnalyzer()\n",
    "    \n",
    "    # create variable to store modified press\n",
    "    mod_press = press\n",
    "    \n",
    "    # Create regex pattern for all named entities\n",
    "    pattern = '|'.join([re.escape(entity.text) for entity in press_doc.ents])\n",
    "    \n",
    "    # Remove named entities from the press text\n",
    "    mod_press = re.sub(pattern, '', mod_press)\n",
    "    \n",
    "    # Get sentiment score for modified_press \n",
    "    sentiment = sent_obj.polarity_scores(mod_press)\n",
    "    \n",
    "    return sentiment\n"
   ]
  },
  {
   "cell_type": "code",
   "execution_count": 13,
   "metadata": {},
   "outputs": [
    {
     "data": {
      "text/plain": [
       "{'neg': 0.2, 'neu': 0.751, 'pos': 0.049, 'compound': -0.9931}"
      ]
     },
     "execution_count": 13,
     "metadata": {},
     "output_type": "execute_result"
    },
    {
     "data": {
      "text/plain": [
       "{'neg': 0.134, 'neu': 0.797, 'pos': 0.069, 'compound': -0.9325}"
      ]
     },
     "execution_count": 13,
     "metadata": {},
     "output_type": "execute_result"
    },
    {
     "data": {
      "text/plain": [
       "{'neg': 0.092, 'neu': 0.832, 'pos': 0.076, 'compound': -0.7579}"
      ]
     },
     "execution_count": 13,
     "metadata": {},
     "output_type": "execute_result"
    },
    {
     "data": {
      "text/plain": [
       "{'neg': 0.127, 'neu': 0.788, 'pos': 0.085, 'compound': -0.9037}"
      ]
     },
     "execution_count": 13,
     "metadata": {},
     "output_type": "execute_result"
    },
    {
     "data": {
      "text/plain": [
       "{'neg': 0.179, 'neu': 0.777, 'pos': 0.044, 'compound': -0.9864}"
      ]
     },
     "execution_count": 13,
     "metadata": {},
     "output_type": "execute_result"
    },
    {
     "data": {
      "text/plain": [
       "{'neg': 0.148, 'neu': 0.799, 'pos': 0.053, 'compound': -0.987}"
      ]
     },
     "execution_count": 13,
     "metadata": {},
     "output_type": "execute_result"
    },
    {
     "data": {
      "text/plain": [
       "{'neg': 0.155, 'neu': 0.766, 'pos': 0.079, 'compound': -0.9559}"
      ]
     },
     "execution_count": 13,
     "metadata": {},
     "output_type": "execute_result"
    },
    {
     "data": {
      "text/plain": [
       "{'neg': 0.093, 'neu': 0.841, 'pos': 0.066, 'compound': -0.7783}"
      ]
     },
     "execution_count": 13,
     "metadata": {},
     "output_type": "execute_result"
    },
    {
     "data": {
      "text/plain": [
       "{'neg': 0.107, 'neu': 0.832, 'pos': 0.061, 'compound': -0.9136}"
      ]
     },
     "execution_count": 13,
     "metadata": {},
     "output_type": "execute_result"
    },
    {
     "data": {
      "text/plain": [
       "{'neg': 0.167, 'neu': 0.776, 'pos': 0.056, 'compound': -0.9801}"
      ]
     },
     "execution_count": 13,
     "metadata": {},
     "output_type": "execute_result"
    },
    {
     "data": {
      "text/plain": [
       "{'neg': 0.216, 'neu': 0.748, 'pos': 0.036, 'compound': -0.9973}"
      ]
     },
     "execution_count": 13,
     "metadata": {},
     "output_type": "execute_result"
    },
    {
     "data": {
      "text/plain": [
       "{'neg': 0.095, 'neu': 0.841, 'pos': 0.064, 'compound': -0.8519}"
      ]
     },
     "execution_count": 13,
     "metadata": {},
     "output_type": "execute_result"
    },
    {
     "data": {
      "text/plain": [
       "{'neg': 0.082, 'neu': 0.853, 'pos': 0.065, 'compound': -0.6486}"
      ]
     },
     "execution_count": 13,
     "metadata": {},
     "output_type": "execute_result"
    },
    {
     "data": {
      "text/plain": [
       "{'neg': 0.334, 'neu': 0.633, 'pos': 0.033, 'compound': -0.9951}"
      ]
     },
     "execution_count": 13,
     "metadata": {},
     "output_type": "execute_result"
    },
    {
     "data": {
      "text/plain": [
       "{'neg': 0.178, 'neu': 0.753, 'pos': 0.068, 'compound': -0.9889}"
      ]
     },
     "execution_count": 13,
     "metadata": {},
     "output_type": "execute_result"
    },
    {
     "data": {
      "text/plain": [
       "{'neg': 0.125, 'neu': 0.803, 'pos': 0.071, 'compound': -0.9643}"
      ]
     },
     "execution_count": 13,
     "metadata": {},
     "output_type": "execute_result"
    },
    {
     "data": {
      "text/plain": [
       "{'neg': 0.152, 'neu': 0.756, 'pos': 0.092, 'compound': -0.9896}"
      ]
     },
     "execution_count": 13,
     "metadata": {},
     "output_type": "execute_result"
    },
    {
     "data": {
      "text/plain": [
       "{'neg': 0.247, 'neu': 0.699, 'pos': 0.053, 'compound': -0.9985}"
      ]
     },
     "execution_count": 13,
     "metadata": {},
     "output_type": "execute_result"
    },
    {
     "data": {
      "text/plain": [
       "{'neg': 0.152, 'neu': 0.759, 'pos': 0.089, 'compound': -0.9799}"
      ]
     },
     "execution_count": 13,
     "metadata": {},
     "output_type": "execute_result"
    },
    {
     "data": {
      "text/plain": [
       "{'neg': 0.138, 'neu': 0.792, 'pos': 0.07, 'compound': -0.9779}"
      ]
     },
     "execution_count": 13,
     "metadata": {},
     "output_type": "execute_result"
    },
    {
     "data": {
      "text/plain": [
       "{'neg': 0.233, 'neu': 0.698, 'pos': 0.069, 'compound': -0.9971}"
      ]
     },
     "execution_count": 13,
     "metadata": {},
     "output_type": "execute_result"
    },
    {
     "data": {
      "text/plain": [
       "{'neg': 0.158, 'neu': 0.825, 'pos': 0.017, 'compound': -0.9884}"
      ]
     },
     "execution_count": 13,
     "metadata": {},
     "output_type": "execute_result"
    },
    {
     "data": {
      "text/plain": [
       "{'neg': 0.294, 'neu': 0.676, 'pos': 0.031, 'compound': -0.9986}"
      ]
     },
     "execution_count": 13,
     "metadata": {},
     "output_type": "execute_result"
    },
    {
     "data": {
      "text/plain": [
       "{'neg': 0.211, 'neu': 0.733, 'pos': 0.057, 'compound': -0.9948}"
      ]
     },
     "execution_count": 13,
     "metadata": {},
     "output_type": "execute_result"
    },
    {
     "data": {
      "text/plain": [
       "{'neg': 0.198, 'neu': 0.728, 'pos': 0.075, 'compound': -0.9884}"
      ]
     },
     "execution_count": 13,
     "metadata": {},
     "output_type": "execute_result"
    },
    {
     "data": {
      "text/plain": [
       "{'neg': 0.141, 'neu': 0.802, 'pos': 0.057, 'compound': -0.9665}"
      ]
     },
     "execution_count": 13,
     "metadata": {},
     "output_type": "execute_result"
    },
    {
     "data": {
      "text/plain": [
       "{'neg': 0.153, 'neu': 0.791, 'pos': 0.056, 'compound': -0.9858}"
      ]
     },
     "execution_count": 13,
     "metadata": {},
     "output_type": "execute_result"
    },
    {
     "data": {
      "text/plain": [
       "{'neg': 0.239, 'neu': 0.732, 'pos': 0.029, 'compound': -0.9944}"
      ]
     },
     "execution_count": 13,
     "metadata": {},
     "output_type": "execute_result"
    },
    {
     "data": {
      "text/plain": [
       "{'neg': 0.189, 'neu': 0.763, 'pos': 0.049, 'compound': -0.9716}"
      ]
     },
     "execution_count": 13,
     "metadata": {},
     "output_type": "execute_result"
    },
    {
     "data": {
      "text/plain": [
       "{'neg': 0.212, 'neu': 0.733, 'pos': 0.054, 'compound': -0.9983}"
      ]
     },
     "execution_count": 13,
     "metadata": {},
     "output_type": "execute_result"
    },
    {
     "data": {
      "text/plain": [
       "{'neg': 0.143, 'neu': 0.81, 'pos': 0.047, 'compound': -0.9666}"
      ]
     },
     "execution_count": 13,
     "metadata": {},
     "output_type": "execute_result"
    },
    {
     "data": {
      "text/plain": [
       "{'neg': 0.106, 'neu': 0.77, 'pos': 0.124, 'compound': 0.4754}"
      ]
     },
     "execution_count": 13,
     "metadata": {},
     "output_type": "execute_result"
    },
    {
     "data": {
      "text/plain": [
       "{'neg': 0.078, 'neu': 0.845, 'pos': 0.077, 'compound': -0.0772}"
      ]
     },
     "execution_count": 13,
     "metadata": {},
     "output_type": "execute_result"
    },
    {
     "data": {
      "text/plain": [
       "{'neg': 0.106, 'neu': 0.757, 'pos': 0.137, 'compound': 0.6486}"
      ]
     },
     "execution_count": 13,
     "metadata": {},
     "output_type": "execute_result"
    },
    {
     "data": {
      "text/plain": [
       "{'neg': 0.301, 'neu': 0.675, 'pos': 0.025, 'compound': -0.9983}"
      ]
     },
     "execution_count": 13,
     "metadata": {},
     "output_type": "execute_result"
    },
    {
     "data": {
      "text/plain": [
       "{'neg': 0.071, 'neu': 0.792, 'pos': 0.136, 'compound': 0.997}"
      ]
     },
     "execution_count": 13,
     "metadata": {},
     "output_type": "execute_result"
    },
    {
     "data": {
      "text/plain": [
       "{'neg': 0.134, 'neu': 0.748, 'pos': 0.118, 'compound': -0.9416}"
      ]
     },
     "execution_count": 13,
     "metadata": {},
     "output_type": "execute_result"
    },
    {
     "data": {
      "text/plain": [
       "{'neg': 0.207, 'neu': 0.677, 'pos': 0.116, 'compound': -0.9739}"
      ]
     },
     "execution_count": 13,
     "metadata": {},
     "output_type": "execute_result"
    },
    {
     "data": {
      "text/plain": [
       "{'neg': 0.159, 'neu': 0.725, 'pos': 0.117, 'compound': -0.9936}"
      ]
     },
     "execution_count": 13,
     "metadata": {},
     "output_type": "execute_result"
    },
    {
     "data": {
      "text/plain": [
       "{'neg': 0.271, 'neu': 0.643, 'pos': 0.086, 'compound': -0.9169}"
      ]
     },
     "execution_count": 13,
     "metadata": {},
     "output_type": "execute_result"
    },
    {
     "data": {
      "text/plain": [
       "{'neg': 0.034, 'neu': 0.851, 'pos': 0.114, 'compound': 0.9217}"
      ]
     },
     "execution_count": 13,
     "metadata": {},
     "output_type": "execute_result"
    },
    {
     "data": {
      "text/plain": [
       "{'neg': 0.156, 'neu': 0.798, 'pos': 0.046, 'compound': -0.975}"
      ]
     },
     "execution_count": 13,
     "metadata": {},
     "output_type": "execute_result"
    },
    {
     "data": {
      "text/plain": [
       "{'neg': 0.122, 'neu': 0.816, 'pos': 0.063, 'compound': -0.9371}"
      ]
     },
     "execution_count": 13,
     "metadata": {},
     "output_type": "execute_result"
    },
    {
     "data": {
      "text/plain": [
       "{'neg': 0.119, 'neu': 0.829, 'pos': 0.053, 'compound': -0.9778}"
      ]
     },
     "execution_count": 13,
     "metadata": {},
     "output_type": "execute_result"
    },
    {
     "data": {
      "text/plain": [
       "{'neg': 0.085, 'neu': 0.841, 'pos': 0.074, 'compound': 0.0433}"
      ]
     },
     "execution_count": 13,
     "metadata": {},
     "output_type": "execute_result"
    },
    {
     "data": {
      "text/plain": [
       "{'neg': 0.068, 'neu': 0.871, 'pos': 0.061, 'compound': -0.4767}"
      ]
     },
     "execution_count": 13,
     "metadata": {},
     "output_type": "execute_result"
    },
    {
     "data": {
      "text/plain": [
       "{'neg': 0.196, 'neu': 0.761, 'pos': 0.043, 'compound': -0.9913}"
      ]
     },
     "execution_count": 13,
     "metadata": {},
     "output_type": "execute_result"
    },
    {
     "data": {
      "text/plain": [
       "{'neg': 0.138, 'neu': 0.799, 'pos': 0.063, 'compound': -0.9524}"
      ]
     },
     "execution_count": 13,
     "metadata": {},
     "output_type": "execute_result"
    },
    {
     "data": {
      "text/plain": [
       "{'neg': 0.131, 'neu': 0.793, 'pos': 0.076, 'compound': -0.9517}"
      ]
     },
     "execution_count": 13,
     "metadata": {},
     "output_type": "execute_result"
    },
    {
     "data": {
      "text/plain": [
       "{'neg': 0.11, 'neu': 0.812, 'pos': 0.078, 'compound': -0.8904}"
      ]
     },
     "execution_count": 13,
     "metadata": {},
     "output_type": "execute_result"
    },
    {
     "data": {
      "text/plain": [
       "{'neg': 0.194, 'neu': 0.722, 'pos': 0.084, 'compound': -0.9906}"
      ]
     },
     "execution_count": 13,
     "metadata": {},
     "output_type": "execute_result"
    },
    {
     "data": {
      "text/plain": [
       "{'neg': 0.11, 'neu': 0.812, 'pos': 0.079, 'compound': -0.9477}"
      ]
     },
     "execution_count": 13,
     "metadata": {},
     "output_type": "execute_result"
    },
    {
     "data": {
      "text/plain": [
       "{'neg': 0.205, 'neu': 0.721, 'pos': 0.073, 'compound': -0.993}"
      ]
     },
     "execution_count": 13,
     "metadata": {},
     "output_type": "execute_result"
    },
    {
     "data": {
      "text/plain": [
       "{'neg': 0.098, 'neu': 0.787, 'pos': 0.116, 'compound': 0.5267}"
      ]
     },
     "execution_count": 13,
     "metadata": {},
     "output_type": "execute_result"
    },
    {
     "data": {
      "text/plain": [
       "{'neg': 0.097, 'neu': 0.816, 'pos': 0.088, 'compound': -0.4939}"
      ]
     },
     "execution_count": 13,
     "metadata": {},
     "output_type": "execute_result"
    },
    {
     "data": {
      "text/plain": [
       "{'neg': 0.126, 'neu': 0.762, 'pos': 0.111, 'compound': -0.6682}"
      ]
     },
     "execution_count": 13,
     "metadata": {},
     "output_type": "execute_result"
    },
    {
     "data": {
      "text/plain": [
       "{'neg': 0.128, 'neu': 0.8, 'pos': 0.071, 'compound': -0.9001}"
      ]
     },
     "execution_count": 13,
     "metadata": {},
     "output_type": "execute_result"
    },
    {
     "data": {
      "text/plain": [
       "{'neg': 0.178, 'neu': 0.793, 'pos': 0.029, 'compound': -0.9924}"
      ]
     },
     "execution_count": 13,
     "metadata": {},
     "output_type": "execute_result"
    },
    {
     "data": {
      "text/plain": [
       "{'neg': 0.195, 'neu': 0.778, 'pos': 0.027, 'compound': -0.9982}"
      ]
     },
     "execution_count": 13,
     "metadata": {},
     "output_type": "execute_result"
    },
    {
     "data": {
      "text/plain": [
       "{'neg': 0.142, 'neu': 0.777, 'pos': 0.08, 'compound': -0.9659}"
      ]
     },
     "execution_count": 13,
     "metadata": {},
     "output_type": "execute_result"
    },
    {
     "data": {
      "text/plain": [
       "{'neg': 0.206, 'neu': 0.766, 'pos': 0.028, 'compound': -0.9973}"
      ]
     },
     "execution_count": 13,
     "metadata": {},
     "output_type": "execute_result"
    },
    {
     "data": {
      "text/plain": [
       "{'neg': 0.101, 'neu': 0.802, 'pos': 0.097, 'compound': -0.2263}"
      ]
     },
     "execution_count": 13,
     "metadata": {},
     "output_type": "execute_result"
    },
    {
     "data": {
      "text/plain": [
       "{'neg': 0.175, 'neu': 0.754, 'pos': 0.071, 'compound': -0.9846}"
      ]
     },
     "execution_count": 13,
     "metadata": {},
     "output_type": "execute_result"
    },
    {
     "data": {
      "text/plain": [
       "{'neg': 0.149, 'neu': 0.791, 'pos': 0.06, 'compound': -0.9702}"
      ]
     },
     "execution_count": 13,
     "metadata": {},
     "output_type": "execute_result"
    },
    {
     "data": {
      "text/plain": [
       "{'neg': 0.193, 'neu': 0.75, 'pos': 0.056, 'compound': -0.9776}"
      ]
     },
     "execution_count": 13,
     "metadata": {},
     "output_type": "execute_result"
    },
    {
     "data": {
      "text/plain": [
       "{'neg': 0.12, 'neu': 0.815, 'pos': 0.065, 'compound': -0.9874}"
      ]
     },
     "execution_count": 13,
     "metadata": {},
     "output_type": "execute_result"
    },
    {
     "data": {
      "text/plain": [
       "{'neg': 0.138, 'neu': 0.799, 'pos': 0.063, 'compound': -0.9851}"
      ]
     },
     "execution_count": 13,
     "metadata": {},
     "output_type": "execute_result"
    },
    {
     "data": {
      "text/plain": [
       "{'neg': 0.154, 'neu': 0.81, 'pos': 0.037, 'compound': -0.9729}"
      ]
     },
     "execution_count": 13,
     "metadata": {},
     "output_type": "execute_result"
    },
    {
     "data": {
      "text/plain": [
       "{'neg': 0.119, 'neu': 0.765, 'pos': 0.117, 'compound': -0.1045}"
      ]
     },
     "execution_count": 13,
     "metadata": {},
     "output_type": "execute_result"
    },
    {
     "data": {
      "text/plain": [
       "{'neg': 0.112, 'neu': 0.799, 'pos': 0.089, 'compound': -0.9655}"
      ]
     },
     "execution_count": 13,
     "metadata": {},
     "output_type": "execute_result"
    },
    {
     "data": {
      "text/plain": [
       "{'neg': 0.21, 'neu': 0.755, 'pos': 0.036, 'compound': -0.9859}"
      ]
     },
     "execution_count": 13,
     "metadata": {},
     "output_type": "execute_result"
    },
    {
     "data": {
      "text/plain": [
       "{'neg': 0.124, 'neu': 0.813, 'pos': 0.063, 'compound': -0.93}"
      ]
     },
     "execution_count": 13,
     "metadata": {},
     "output_type": "execute_result"
    },
    {
     "data": {
      "text/plain": [
       "{'neg': 0.0, 'neu': 0.834, 'pos': 0.166, 'compound': 0.9909}"
      ]
     },
     "execution_count": 13,
     "metadata": {},
     "output_type": "execute_result"
    },
    {
     "data": {
      "text/plain": [
       "{'neg': 0.126, 'neu': 0.832, 'pos': 0.042, 'compound': -0.9423}"
      ]
     },
     "execution_count": 13,
     "metadata": {},
     "output_type": "execute_result"
    },
    {
     "data": {
      "text/plain": [
       "{'neg': 0.098, 'neu': 0.833, 'pos': 0.069, 'compound': -0.9466}"
      ]
     },
     "execution_count": 13,
     "metadata": {},
     "output_type": "execute_result"
    },
    {
     "data": {
      "text/plain": [
       "{'neg': 0.097, 'neu': 0.842, 'pos': 0.061, 'compound': -0.8215}"
      ]
     },
     "execution_count": 13,
     "metadata": {},
     "output_type": "execute_result"
    },
    {
     "data": {
      "text/plain": [
       "{'neg': 0.112, 'neu': 0.82, 'pos': 0.068, 'compound': -0.91}"
      ]
     },
     "execution_count": 13,
     "metadata": {},
     "output_type": "execute_result"
    },
    {
     "data": {
      "text/plain": [
       "{'neg': 0.067, 'neu': 0.83, 'pos': 0.103, 'compound': 0.836}"
      ]
     },
     "execution_count": 13,
     "metadata": {},
     "output_type": "execute_result"
    },
    {
     "data": {
      "text/plain": [
       "{'neg': 0.084, 'neu': 0.888, 'pos': 0.028, 'compound': -0.9709}"
      ]
     },
     "execution_count": 13,
     "metadata": {},
     "output_type": "execute_result"
    },
    {
     "data": {
      "text/plain": [
       "{'neg': 0.081, 'neu': 0.824, 'pos': 0.095, 'compound': 0.5574}"
      ]
     },
     "execution_count": 13,
     "metadata": {},
     "output_type": "execute_result"
    },
    {
     "data": {
      "text/plain": [
       "{'neg': 0.14, 'neu': 0.789, 'pos': 0.072, 'compound': -0.9565}"
      ]
     },
     "execution_count": 13,
     "metadata": {},
     "output_type": "execute_result"
    },
    {
     "data": {
      "text/plain": [
       "{'neg': 0.162, 'neu': 0.767, 'pos': 0.072, 'compound': -0.9371}"
      ]
     },
     "execution_count": 13,
     "metadata": {},
     "output_type": "execute_result"
    },
    {
     "data": {
      "text/plain": [
       "{'neg': 0.054, 'neu': 0.824, 'pos': 0.122, 'compound': 0.9696}"
      ]
     },
     "execution_count": 13,
     "metadata": {},
     "output_type": "execute_result"
    },
    {
     "data": {
      "text/plain": [
       "{'neg': 0.084, 'neu': 0.831, 'pos': 0.085, 'compound': 0.0439}"
      ]
     },
     "execution_count": 13,
     "metadata": {},
     "output_type": "execute_result"
    },
    {
     "data": {
      "text/plain": [
       "{'neg': 0.038, 'neu': 0.863, 'pos': 0.099, 'compound': 0.9678}"
      ]
     },
     "execution_count": 13,
     "metadata": {},
     "output_type": "execute_result"
    },
    {
     "data": {
      "text/plain": [
       "{'neg': 0.075, 'neu': 0.842, 'pos': 0.083, 'compound': 0.5994}"
      ]
     },
     "execution_count": 13,
     "metadata": {},
     "output_type": "execute_result"
    },
    {
     "data": {
      "text/plain": [
       "{'neg': 0.119, 'neu': 0.744, 'pos': 0.138, 'compound': 0.7351}"
      ]
     },
     "execution_count": 13,
     "metadata": {},
     "output_type": "execute_result"
    },
    {
     "data": {
      "text/plain": [
       "{'neg': 0.07, 'neu': 0.85, 'pos': 0.08, 'compound': 0.3897}"
      ]
     },
     "execution_count": 13,
     "metadata": {},
     "output_type": "execute_result"
    },
    {
     "data": {
      "text/plain": [
       "{'neg': 0.129, 'neu': 0.778, 'pos': 0.093, 'compound': -0.978}"
      ]
     },
     "execution_count": 13,
     "metadata": {},
     "output_type": "execute_result"
    },
    {
     "data": {
      "text/plain": [
       "{'neg': 0.011, 'neu': 0.811, 'pos': 0.178, 'compound': 0.996}"
      ]
     },
     "execution_count": 13,
     "metadata": {},
     "output_type": "execute_result"
    },
    {
     "data": {
      "text/plain": [
       "{'neg': 0.024, 'neu': 0.861, 'pos': 0.115, 'compound': 0.9948}"
      ]
     },
     "execution_count": 13,
     "metadata": {},
     "output_type": "execute_result"
    },
    {
     "data": {
      "text/plain": [
       "{'neg': 0.024, 'neu': 0.865, 'pos': 0.111, 'compound': 0.987}"
      ]
     },
     "execution_count": 13,
     "metadata": {},
     "output_type": "execute_result"
    },
    {
     "data": {
      "text/plain": [
       "{'neg': 0.174, 'neu': 0.747, 'pos': 0.079, 'compound': -0.9828}"
      ]
     },
     "execution_count": 13,
     "metadata": {},
     "output_type": "execute_result"
    },
    {
     "data": {
      "text/plain": [
       "{'neg': 0.206, 'neu': 0.728, 'pos': 0.067, 'compound': -0.9928}"
      ]
     },
     "execution_count": 13,
     "metadata": {},
     "output_type": "execute_result"
    },
    {
     "data": {
      "text/plain": [
       "{'neg': 0.186, 'neu': 0.744, 'pos': 0.07, 'compound': -0.9806}"
      ]
     },
     "execution_count": 13,
     "metadata": {},
     "output_type": "execute_result"
    },
    {
     "data": {
      "text/plain": [
       "{'neg': 0.155, 'neu': 0.775, 'pos': 0.069, 'compound': -0.9846}"
      ]
     },
     "execution_count": 13,
     "metadata": {},
     "output_type": "execute_result"
    },
    {
     "data": {
      "text/plain": [
       "{'neg': 0.171, 'neu': 0.757, 'pos': 0.072, 'compound': -0.9829}"
      ]
     },
     "execution_count": 13,
     "metadata": {},
     "output_type": "execute_result"
    },
    {
     "data": {
      "text/plain": [
       "{'neg': 0.177, 'neu': 0.743, 'pos': 0.08, 'compound': -0.9755}"
      ]
     },
     "execution_count": 13,
     "metadata": {},
     "output_type": "execute_result"
    },
    {
     "data": {
      "text/plain": [
       "{'neg': 0.083, 'neu': 0.823, 'pos': 0.095, 'compound': 0.5983}"
      ]
     },
     "execution_count": 13,
     "metadata": {},
     "output_type": "execute_result"
    },
    {
     "data": {
      "text/plain": [
       "{'neg': 0.127, 'neu': 0.803, 'pos': 0.07, 'compound': -0.9928}"
      ]
     },
     "execution_count": 13,
     "metadata": {},
     "output_type": "execute_result"
    },
    {
     "data": {
      "text/plain": [
       "{'neg': 0.095, 'neu': 0.808, 'pos': 0.097, 'compound': -0.6652}"
      ]
     },
     "execution_count": 13,
     "metadata": {},
     "output_type": "execute_result"
    },
    {
     "data": {
      "text/plain": [
       "{'neg': 0.064, 'neu': 0.802, 'pos': 0.134, 'compound': 0.9933}"
      ]
     },
     "execution_count": 13,
     "metadata": {},
     "output_type": "execute_result"
    },
    {
     "data": {
      "text/plain": [
       "{'neg': 0.019, 'neu': 0.928, 'pos': 0.053, 'compound': 0.871}"
      ]
     },
     "execution_count": 13,
     "metadata": {},
     "output_type": "execute_result"
    },
    {
     "data": {
      "text/plain": [
       "{'neg': 0.088, 'neu': 0.789, 'pos': 0.123, 'compound': 0.9661}"
      ]
     },
     "execution_count": 13,
     "metadata": {},
     "output_type": "execute_result"
    },
    {
     "data": {
      "text/plain": [
       "{'neg': 0.15, 'neu': 0.792, 'pos': 0.058, 'compound': -0.9919}"
      ]
     },
     "execution_count": 13,
     "metadata": {},
     "output_type": "execute_result"
    },
    {
     "data": {
      "text/plain": [
       "{'neg': 0.163, 'neu': 0.758, 'pos': 0.079, 'compound': -0.9931}"
      ]
     },
     "execution_count": 13,
     "metadata": {},
     "output_type": "execute_result"
    },
    {
     "data": {
      "text/plain": [
       "{'neg': 0.124, 'neu': 0.784, 'pos': 0.092, 'compound': -0.9878}"
      ]
     },
     "execution_count": 13,
     "metadata": {},
     "output_type": "execute_result"
    },
    {
     "data": {
      "text/plain": [
       "{'neg': 0.127, 'neu': 0.818, 'pos': 0.055, 'compound': -0.9996}"
      ]
     },
     "execution_count": 13,
     "metadata": {},
     "output_type": "execute_result"
    },
    {
     "data": {
      "text/plain": [
       "{'neg': 0.122, 'neu': 0.795, 'pos': 0.083, 'compound': -0.9834}"
      ]
     },
     "execution_count": 13,
     "metadata": {},
     "output_type": "execute_result"
    },
    {
     "data": {
      "text/plain": [
       "{'neg': 0.183, 'neu': 0.781, 'pos': 0.035, 'compound': -0.9962}"
      ]
     },
     "execution_count": 13,
     "metadata": {},
     "output_type": "execute_result"
    },
    {
     "data": {
      "text/plain": [
       "{'neg': 0.091, 'neu': 0.864, 'pos': 0.045, 'compound': -0.9977}"
      ]
     },
     "execution_count": 13,
     "metadata": {},
     "output_type": "execute_result"
    },
    {
     "data": {
      "text/plain": [
       "{'neg': 0.191, 'neu': 0.711, 'pos': 0.098, 'compound': -0.9964}"
      ]
     },
     "execution_count": 13,
     "metadata": {},
     "output_type": "execute_result"
    },
    {
     "data": {
      "text/plain": [
       "{'neg': 0.147, 'neu': 0.806, 'pos': 0.047, 'compound': -0.9817}"
      ]
     },
     "execution_count": 13,
     "metadata": {},
     "output_type": "execute_result"
    },
    {
     "data": {
      "text/plain": [
       "{'neg': 0.158, 'neu': 0.809, 'pos': 0.033, 'compound': -0.9853}"
      ]
     },
     "execution_count": 13,
     "metadata": {},
     "output_type": "execute_result"
    },
    {
     "data": {
      "text/plain": [
       "{'neg': 0.111, 'neu': 0.795, 'pos': 0.094, 'compound': -0.8944}"
      ]
     },
     "execution_count": 13,
     "metadata": {},
     "output_type": "execute_result"
    },
    {
     "data": {
      "text/plain": [
       "{'neg': 0.096, 'neu': 0.792, 'pos': 0.112, 'compound': 0.1868}"
      ]
     },
     "execution_count": 13,
     "metadata": {},
     "output_type": "execute_result"
    },
    {
     "data": {
      "text/plain": [
       "{'neg': 0.201, 'neu': 0.742, 'pos': 0.057, 'compound': -0.9872}"
      ]
     },
     "execution_count": 13,
     "metadata": {},
     "output_type": "execute_result"
    },
    {
     "data": {
      "text/plain": [
       "{'neg': 0.139, 'neu': 0.774, 'pos': 0.088, 'compound': -0.9738}"
      ]
     },
     "execution_count": 13,
     "metadata": {},
     "output_type": "execute_result"
    },
    {
     "data": {
      "text/plain": [
       "{'neg': 0.272, 'neu': 0.638, 'pos': 0.09, 'compound': -0.9974}"
      ]
     },
     "execution_count": 13,
     "metadata": {},
     "output_type": "execute_result"
    },
    {
     "data": {
      "text/plain": [
       "{'neg': 0.202, 'neu': 0.727, 'pos': 0.071, 'compound': -0.9939}"
      ]
     },
     "execution_count": 13,
     "metadata": {},
     "output_type": "execute_result"
    },
    {
     "data": {
      "text/plain": [
       "{'neg': 0.118, 'neu': 0.818, 'pos': 0.064, 'compound': -0.9656}"
      ]
     },
     "execution_count": 13,
     "metadata": {},
     "output_type": "execute_result"
    },
    {
     "data": {
      "text/plain": [
       "{'neg': 0.123, 'neu': 0.762, 'pos': 0.115, 'compound': -0.7351}"
      ]
     },
     "execution_count": 13,
     "metadata": {},
     "output_type": "execute_result"
    },
    {
     "data": {
      "text/plain": [
       "{'neg': 0.103, 'neu': 0.814, 'pos': 0.083, 'compound': -0.6808}"
      ]
     },
     "execution_count": 13,
     "metadata": {},
     "output_type": "execute_result"
    },
    {
     "data": {
      "text/plain": [
       "{'neg': 0.128, 'neu': 0.777, 'pos': 0.094, 'compound': -0.9919}"
      ]
     },
     "execution_count": 13,
     "metadata": {},
     "output_type": "execute_result"
    },
    {
     "data": {
      "text/plain": [
       "{'neg': 0.202, 'neu': 0.705, 'pos': 0.092, 'compound': -0.9891}"
      ]
     },
     "execution_count": 13,
     "metadata": {},
     "output_type": "execute_result"
    },
    {
     "data": {
      "text/plain": [
       "{'neg': 0.166, 'neu': 0.787, 'pos': 0.047, 'compound': -0.9929}"
      ]
     },
     "execution_count": 13,
     "metadata": {},
     "output_type": "execute_result"
    },
    {
     "data": {
      "text/plain": [
       "{'neg': 0.155, 'neu': 0.798, 'pos': 0.047, 'compound': -0.9816}"
      ]
     },
     "execution_count": 13,
     "metadata": {},
     "output_type": "execute_result"
    },
    {
     "data": {
      "text/plain": [
       "{'neg': 0.092, 'neu': 0.833, 'pos': 0.075, 'compound': -0.6249}"
      ]
     },
     "execution_count": 13,
     "metadata": {},
     "output_type": "execute_result"
    },
    {
     "data": {
      "text/plain": [
       "{'neg': 0.161, 'neu': 0.779, 'pos': 0.06, 'compound': -0.9956}"
      ]
     },
     "execution_count": 13,
     "metadata": {},
     "output_type": "execute_result"
    },
    {
     "data": {
      "text/plain": [
       "{'neg': 0.161, 'neu': 0.809, 'pos': 0.031, 'compound': -0.9974}"
      ]
     },
     "execution_count": 13,
     "metadata": {},
     "output_type": "execute_result"
    },
    {
     "data": {
      "text/plain": [
       "{'neg': 0.129, 'neu': 0.805, 'pos': 0.066, 'compound': -0.9579}"
      ]
     },
     "execution_count": 13,
     "metadata": {},
     "output_type": "execute_result"
    },
    {
     "data": {
      "text/plain": [
       "{'neg': 0.152, 'neu': 0.745, 'pos': 0.102, 'compound': -0.9431}"
      ]
     },
     "execution_count": 13,
     "metadata": {},
     "output_type": "execute_result"
    },
    {
     "data": {
      "text/plain": [
       "{'neg': 0.126, 'neu': 0.768, 'pos': 0.106, 'compound': -0.9305}"
      ]
     },
     "execution_count": 13,
     "metadata": {},
     "output_type": "execute_result"
    },
    {
     "data": {
      "text/plain": [
       "{'neg': 0.146, 'neu': 0.762, 'pos': 0.092, 'compound': -0.9543}"
      ]
     },
     "execution_count": 13,
     "metadata": {},
     "output_type": "execute_result"
    },
    {
     "data": {
      "text/plain": [
       "{'neg': 0.105, 'neu': 0.831, 'pos': 0.064, 'compound': -0.9081}"
      ]
     },
     "execution_count": 13,
     "metadata": {},
     "output_type": "execute_result"
    },
    {
     "data": {
      "text/plain": [
       "{'neg': 0.148, 'neu': 0.77, 'pos': 0.082, 'compound': -0.9524}"
      ]
     },
     "execution_count": 13,
     "metadata": {},
     "output_type": "execute_result"
    },
    {
     "data": {
      "text/plain": [
       "{'neg': 0.246, 'neu': 0.722, 'pos': 0.032, 'compound': -0.9889}"
      ]
     },
     "execution_count": 13,
     "metadata": {},
     "output_type": "execute_result"
    },
    {
     "data": {
      "text/plain": [
       "{'neg': 0.152, 'neu': 0.798, 'pos': 0.05, 'compound': -0.9797}"
      ]
     },
     "execution_count": 13,
     "metadata": {},
     "output_type": "execute_result"
    },
    {
     "data": {
      "text/plain": [
       "{'neg': 0.166, 'neu': 0.758, 'pos': 0.076, 'compound': -0.9859}"
      ]
     },
     "execution_count": 13,
     "metadata": {},
     "output_type": "execute_result"
    },
    {
     "data": {
      "text/plain": [
       "{'neg': 0.136, 'neu': 0.753, 'pos': 0.112, 'compound': -0.8248}"
      ]
     },
     "execution_count": 13,
     "metadata": {},
     "output_type": "execute_result"
    },
    {
     "data": {
      "text/plain": [
       "{'neg': 0.148, 'neu': 0.752, 'pos': 0.1, 'compound': -0.9267}"
      ]
     },
     "execution_count": 13,
     "metadata": {},
     "output_type": "execute_result"
    },
    {
     "data": {
      "text/plain": [
       "{'neg': 0.194, 'neu': 0.731, 'pos': 0.075, 'compound': -0.9627}"
      ]
     },
     "execution_count": 13,
     "metadata": {},
     "output_type": "execute_result"
    },
    {
     "data": {
      "text/plain": [
       "{'neg': 0.15, 'neu': 0.794, 'pos': 0.056, 'compound': -0.9928}"
      ]
     },
     "execution_count": 13,
     "metadata": {},
     "output_type": "execute_result"
    },
    {
     "data": {
      "text/plain": [
       "{'neg': 0.196, 'neu': 0.771, 'pos': 0.033, 'compound': -0.9852}"
      ]
     },
     "execution_count": 13,
     "metadata": {},
     "output_type": "execute_result"
    },
    {
     "data": {
      "text/plain": [
       "{'neg': 0.185, 'neu': 0.777, 'pos': 0.037, 'compound': -0.998}"
      ]
     },
     "execution_count": 13,
     "metadata": {},
     "output_type": "execute_result"
    },
    {
     "data": {
      "text/plain": [
       "{'neg': 0.118, 'neu': 0.794, 'pos': 0.088, 'compound': -0.8462}"
      ]
     },
     "execution_count": 13,
     "metadata": {},
     "output_type": "execute_result"
    },
    {
     "data": {
      "text/plain": [
       "{'neg': 0.089, 'neu': 0.865, 'pos': 0.045, 'compound': -0.9712}"
      ]
     },
     "execution_count": 13,
     "metadata": {},
     "output_type": "execute_result"
    },
    {
     "data": {
      "text/plain": [
       "{'neg': 0.093, 'neu': 0.817, 'pos': 0.09, 'compound': -0.4404}"
      ]
     },
     "execution_count": 13,
     "metadata": {},
     "output_type": "execute_result"
    },
    {
     "data": {
      "text/plain": [
       "{'neg': 0.128, 'neu': 0.816, 'pos': 0.056, 'compound': -0.9772}"
      ]
     },
     "execution_count": 13,
     "metadata": {},
     "output_type": "execute_result"
    },
    {
     "data": {
      "text/plain": [
       "{'neg': 0.111, 'neu': 0.816, 'pos': 0.073, 'compound': -0.875}"
      ]
     },
     "execution_count": 13,
     "metadata": {},
     "output_type": "execute_result"
    },
    {
     "data": {
      "text/plain": [
       "{'neg': 0.105, 'neu': 0.816, 'pos': 0.079, 'compound': -0.8591}"
      ]
     },
     "execution_count": 13,
     "metadata": {},
     "output_type": "execute_result"
    },
    {
     "data": {
      "text/plain": [
       "{'neg': 0.196, 'neu': 0.738, 'pos': 0.067, 'compound': -0.9955}"
      ]
     },
     "execution_count": 13,
     "metadata": {},
     "output_type": "execute_result"
    },
    {
     "data": {
      "text/plain": [
       "{'neg': 0.119, 'neu': 0.834, 'pos': 0.047, 'compound': -0.9681}"
      ]
     },
     "execution_count": 13,
     "metadata": {},
     "output_type": "execute_result"
    },
    {
     "data": {
      "text/plain": [
       "{'neg': 0.123, 'neu': 0.791, 'pos': 0.086, 'compound': -0.8316}"
      ]
     },
     "execution_count": 13,
     "metadata": {},
     "output_type": "execute_result"
    },
    {
     "data": {
      "text/plain": [
       "{'neg': 0.146, 'neu': 0.812, 'pos': 0.042, 'compound': -0.9885}"
      ]
     },
     "execution_count": 13,
     "metadata": {},
     "output_type": "execute_result"
    },
    {
     "data": {
      "text/plain": [
       "{'neg': 0.135, 'neu': 0.781, 'pos': 0.084, 'compound': -0.9328}"
      ]
     },
     "execution_count": 13,
     "metadata": {},
     "output_type": "execute_result"
    },
    {
     "data": {
      "text/plain": [
       "{'neg': 0.123, 'neu': 0.823, 'pos': 0.053, 'compound': -0.984}"
      ]
     },
     "execution_count": 13,
     "metadata": {},
     "output_type": "execute_result"
    },
    {
     "data": {
      "text/plain": [
       "{'neg': 0.149, 'neu': 0.776, 'pos': 0.075, 'compound': -0.9887}"
      ]
     },
     "execution_count": 13,
     "metadata": {},
     "output_type": "execute_result"
    },
    {
     "data": {
      "text/plain": [
       "{'neg': 0.208, 'neu': 0.754, 'pos': 0.038, 'compound': -0.9956}"
      ]
     },
     "execution_count": 13,
     "metadata": {},
     "output_type": "execute_result"
    },
    {
     "data": {
      "text/plain": [
       "{'neg': 0.109, 'neu': 0.871, 'pos': 0.02, 'compound': -0.9833}"
      ]
     },
     "execution_count": 13,
     "metadata": {},
     "output_type": "execute_result"
    },
    {
     "data": {
      "text/plain": [
       "{'neg': 0.125, 'neu': 0.81, 'pos': 0.065, 'compound': -0.9081}"
      ]
     },
     "execution_count": 13,
     "metadata": {},
     "output_type": "execute_result"
    },
    {
     "data": {
      "text/plain": [
       "{'neg': 0.107, 'neu': 0.817, 'pos': 0.075, 'compound': -0.882}"
      ]
     },
     "execution_count": 13,
     "metadata": {},
     "output_type": "execute_result"
    },
    {
     "data": {
      "text/plain": [
       "{'neg': 0.162, 'neu': 0.742, 'pos': 0.097, 'compound': -0.9873}"
      ]
     },
     "execution_count": 13,
     "metadata": {},
     "output_type": "execute_result"
    },
    {
     "data": {
      "text/plain": [
       "{'neg': 0.118, 'neu': 0.824, 'pos': 0.058, 'compound': -0.9637}"
      ]
     },
     "execution_count": 13,
     "metadata": {},
     "output_type": "execute_result"
    },
    {
     "data": {
      "text/plain": [
       "{'neg': 0.091, 'neu': 0.835, 'pos': 0.073, 'compound': -0.5405}"
      ]
     },
     "execution_count": 13,
     "metadata": {},
     "output_type": "execute_result"
    },
    {
     "data": {
      "text/plain": [
       "{'neg': 0.132, 'neu': 0.739, 'pos': 0.128, 'compound': 0.3291}"
      ]
     },
     "execution_count": 13,
     "metadata": {},
     "output_type": "execute_result"
    },
    {
     "data": {
      "text/plain": [
       "{'neg': 0.113, 'neu': 0.759, 'pos': 0.128, 'compound': 0.6486}"
      ]
     },
     "execution_count": 13,
     "metadata": {},
     "output_type": "execute_result"
    },
    {
     "data": {
      "text/plain": [
       "{'neg': 0.138, 'neu': 0.787, 'pos': 0.074, 'compound': -0.9477}"
      ]
     },
     "execution_count": 13,
     "metadata": {},
     "output_type": "execute_result"
    },
    {
     "data": {
      "text/plain": [
       "{'neg': 0.102, 'neu': 0.81, 'pos': 0.087, 'compound': -0.8126}"
      ]
     },
     "execution_count": 13,
     "metadata": {},
     "output_type": "execute_result"
    },
    {
     "data": {
      "text/plain": [
       "{'neg': 0.174, 'neu': 0.785, 'pos': 0.041, 'compound': -0.9873}"
      ]
     },
     "execution_count": 13,
     "metadata": {},
     "output_type": "execute_result"
    },
    {
     "data": {
      "text/plain": [
       "{'neg': 0.115, 'neu': 0.844, 'pos': 0.041, 'compound': -0.9477}"
      ]
     },
     "execution_count": 13,
     "metadata": {},
     "output_type": "execute_result"
    },
    {
     "data": {
      "text/plain": [
       "{'neg': 0.19, 'neu': 0.719, 'pos': 0.091, 'compound': -0.9958}"
      ]
     },
     "execution_count": 13,
     "metadata": {},
     "output_type": "execute_result"
    },
    {
     "data": {
      "text/plain": [
       "{'neg': 0.149, 'neu': 0.797, 'pos': 0.054, 'compound': -0.9938}"
      ]
     },
     "execution_count": 13,
     "metadata": {},
     "output_type": "execute_result"
    },
    {
     "data": {
      "text/plain": [
       "{'neg': 0.101, 'neu': 0.841, 'pos': 0.059, 'compound': -0.9304}"
      ]
     },
     "execution_count": 13,
     "metadata": {},
     "output_type": "execute_result"
    },
    {
     "data": {
      "text/plain": [
       "{'neg': 0.192, 'neu': 0.761, 'pos': 0.047, 'compound': -0.975}"
      ]
     },
     "execution_count": 13,
     "metadata": {},
     "output_type": "execute_result"
    },
    {
     "data": {
      "text/plain": [
       "{'neg': 0.184, 'neu': 0.768, 'pos': 0.048, 'compound': -0.9938}"
      ]
     },
     "execution_count": 13,
     "metadata": {},
     "output_type": "execute_result"
    },
    {
     "data": {
      "text/plain": [
       "{'neg': 0.129, 'neu': 0.766, 'pos': 0.105, 'compound': -0.5994}"
      ]
     },
     "execution_count": 13,
     "metadata": {},
     "output_type": "execute_result"
    },
    {
     "data": {
      "text/plain": [
       "{'neg': 0.113, 'neu': 0.809, 'pos': 0.078, 'compound': -0.8658}"
      ]
     },
     "execution_count": 13,
     "metadata": {},
     "output_type": "execute_result"
    },
    {
     "data": {
      "text/plain": [
       "{'neg': 0.19, 'neu': 0.723, 'pos': 0.087, 'compound': -0.9919}"
      ]
     },
     "execution_count": 13,
     "metadata": {},
     "output_type": "execute_result"
    },
    {
     "data": {
      "text/plain": [
       "{'neg': 0.091, 'neu': 0.843, 'pos': 0.067, 'compound': -0.9207}"
      ]
     },
     "execution_count": 13,
     "metadata": {},
     "output_type": "execute_result"
    },
    {
     "data": {
      "text/plain": [
       "{'neg': 0.164, 'neu': 0.757, 'pos': 0.079, 'compound': -0.9646}"
      ]
     },
     "execution_count": 13,
     "metadata": {},
     "output_type": "execute_result"
    },
    {
     "data": {
      "text/plain": [
       "{'neg': 0.091, 'neu': 0.765, 'pos': 0.143, 'compound': 0.9903}"
      ]
     },
     "execution_count": 13,
     "metadata": {},
     "output_type": "execute_result"
    },
    {
     "data": {
      "text/plain": [
       "{'neg': 0.164, 'neu': 0.792, 'pos': 0.044, 'compound': -0.9898}"
      ]
     },
     "execution_count": 13,
     "metadata": {},
     "output_type": "execute_result"
    },
    {
     "data": {
      "text/plain": [
       "{'neg': 0.126, 'neu': 0.827, 'pos': 0.047, 'compound': -0.9882}"
      ]
     },
     "execution_count": 13,
     "metadata": {},
     "output_type": "execute_result"
    },
    {
     "data": {
      "text/plain": [
       "{'neg': 0.201, 'neu': 0.756, 'pos': 0.043, 'compound': -0.9877}"
      ]
     },
     "execution_count": 13,
     "metadata": {},
     "output_type": "execute_result"
    },
    {
     "data": {
      "text/plain": [
       "{'neg': 0.171, 'neu': 0.788, 'pos': 0.042, 'compound': -0.9958}"
      ]
     },
     "execution_count": 13,
     "metadata": {},
     "output_type": "execute_result"
    },
    {
     "data": {
      "text/plain": [
       "{'neg': 0.148, 'neu': 0.793, 'pos': 0.059, 'compound': -0.9965}"
      ]
     },
     "execution_count": 13,
     "metadata": {},
     "output_type": "execute_result"
    },
    {
     "data": {
      "text/plain": [
       "{'neg': 0.183, 'neu': 0.762, 'pos': 0.055, 'compound': -0.9839}"
      ]
     },
     "execution_count": 13,
     "metadata": {},
     "output_type": "execute_result"
    },
    {
     "data": {
      "text/plain": [
       "{'neg': 0.113, 'neu': 0.817, 'pos': 0.07, 'compound': -0.9777}"
      ]
     },
     "execution_count": 13,
     "metadata": {},
     "output_type": "execute_result"
    },
    {
     "data": {
      "text/plain": [
       "{'neg': 0.117, 'neu': 0.811, 'pos': 0.072, 'compound': -0.9849}"
      ]
     },
     "execution_count": 13,
     "metadata": {},
     "output_type": "execute_result"
    },
    {
     "data": {
      "text/plain": [
       "{'neg': 0.149, 'neu': 0.777, 'pos': 0.074, 'compound': -0.9956}"
      ]
     },
     "execution_count": 13,
     "metadata": {},
     "output_type": "execute_result"
    },
    {
     "data": {
      "text/plain": [
       "{'neg': 0.213, 'neu': 0.721, 'pos': 0.066, 'compound': -0.9988}"
      ]
     },
     "execution_count": 13,
     "metadata": {},
     "output_type": "execute_result"
    },
    {
     "data": {
      "text/plain": [
       "{'neg': 0.171, 'neu': 0.764, 'pos': 0.066, 'compound': -0.9972}"
      ]
     },
     "execution_count": 13,
     "metadata": {},
     "output_type": "execute_result"
    },
    {
     "data": {
      "text/plain": [
       "{'neg': 0.157, 'neu': 0.806, 'pos': 0.037, 'compound': -0.9913}"
      ]
     },
     "execution_count": 13,
     "metadata": {},
     "output_type": "execute_result"
    },
    {
     "data": {
      "text/plain": [
       "{'neg': 0.129, 'neu': 0.77, 'pos': 0.101, 'compound': -0.9225}"
      ]
     },
     "execution_count": 13,
     "metadata": {},
     "output_type": "execute_result"
    },
    {
     "data": {
      "text/plain": [
       "{'neg': 0.14, 'neu': 0.809, 'pos': 0.051, 'compound': -0.9844}"
      ]
     },
     "execution_count": 13,
     "metadata": {},
     "output_type": "execute_result"
    },
    {
     "data": {
      "text/plain": [
       "{'neg': 0.084, 'neu': 0.807, 'pos': 0.108, 'compound': 0.4588}"
      ]
     },
     "execution_count": 13,
     "metadata": {},
     "output_type": "execute_result"
    },
    {
     "data": {
      "text/plain": [
       "{'neg': 0.085, 'neu': 0.819, 'pos': 0.096, 'compound': 0.128}"
      ]
     },
     "execution_count": 13,
     "metadata": {},
     "output_type": "execute_result"
    },
    {
     "data": {
      "text/plain": [
       "{'neg': 0.216, 'neu': 0.693, 'pos': 0.091, 'compound': -0.9913}"
      ]
     },
     "execution_count": 13,
     "metadata": {},
     "output_type": "execute_result"
    },
    {
     "data": {
      "text/plain": [
       "{'neg': 0.111, 'neu': 0.846, 'pos': 0.043, 'compound': -0.9201}"
      ]
     },
     "execution_count": 13,
     "metadata": {},
     "output_type": "execute_result"
    },
    {
     "data": {
      "text/plain": [
       "{'neg': 0.115, 'neu': 0.819, 'pos': 0.067, 'compound': -0.9403}"
      ]
     },
     "execution_count": 13,
     "metadata": {},
     "output_type": "execute_result"
    },
    {
     "data": {
      "text/plain": [
       "{'neg': 0.093, 'neu': 0.821, 'pos': 0.085, 'compound': -0.5994}"
      ]
     },
     "execution_count": 13,
     "metadata": {},
     "output_type": "execute_result"
    },
    {
     "data": {
      "text/plain": [
       "{'neg': 0.106, 'neu': 0.851, 'pos': 0.044, 'compound': -0.9552}"
      ]
     },
     "execution_count": 13,
     "metadata": {},
     "output_type": "execute_result"
    },
    {
     "data": {
      "text/plain": [
       "{'neg': 0.093, 'neu': 0.824, 'pos': 0.083, 'compound': -0.802}"
      ]
     },
     "execution_count": 13,
     "metadata": {},
     "output_type": "execute_result"
    },
    {
     "data": {
      "text/plain": [
       "{'neg': 0.144, 'neu': 0.787, 'pos': 0.068, 'compound': -0.9732}"
      ]
     },
     "execution_count": 13,
     "metadata": {},
     "output_type": "execute_result"
    },
    {
     "data": {
      "text/plain": [
       "{'neg': 0.159, 'neu': 0.73, 'pos': 0.111, 'compound': -0.9509}"
      ]
     },
     "execution_count": 13,
     "metadata": {},
     "output_type": "execute_result"
    },
    {
     "data": {
      "text/plain": [
       "{'neg': 0.197, 'neu': 0.756, 'pos': 0.047, 'compound': -0.9959}"
      ]
     },
     "execution_count": 13,
     "metadata": {},
     "output_type": "execute_result"
    },
    {
     "data": {
      "text/plain": [
       "{'neg': 0.158, 'neu': 0.745, 'pos': 0.097, 'compound': -0.9746}"
      ]
     },
     "execution_count": 13,
     "metadata": {},
     "output_type": "execute_result"
    },
    {
     "data": {
      "text/plain": [
       "{'neg': 0.184, 'neu': 0.751, 'pos': 0.065, 'compound': -0.9976}"
      ]
     },
     "execution_count": 13,
     "metadata": {},
     "output_type": "execute_result"
    },
    {
     "data": {
      "text/plain": [
       "{'neg': 0.157, 'neu': 0.764, 'pos': 0.079, 'compound': -0.9905}"
      ]
     },
     "execution_count": 13,
     "metadata": {},
     "output_type": "execute_result"
    },
    {
     "data": {
      "text/plain": [
       "{'neg': 0.193, 'neu': 0.735, 'pos': 0.072, 'compound': -0.9981}"
      ]
     },
     "execution_count": 13,
     "metadata": {},
     "output_type": "execute_result"
    },
    {
     "data": {
      "text/plain": [
       "{'neg': 0.216, 'neu': 0.73, 'pos': 0.054, 'compound': -0.9885}"
      ]
     },
     "execution_count": 13,
     "metadata": {},
     "output_type": "execute_result"
    },
    {
     "data": {
      "text/plain": [
       "{'neg': 0.214, 'neu': 0.681, 'pos': 0.105, 'compound': -0.9958}"
      ]
     },
     "execution_count": 13,
     "metadata": {},
     "output_type": "execute_result"
    },
    {
     "data": {
      "text/plain": [
       "{'neg': 0.231, 'neu': 0.721, 'pos': 0.048, 'compound': -0.9973}"
      ]
     },
     "execution_count": 13,
     "metadata": {},
     "output_type": "execute_result"
    },
    {
     "data": {
      "text/plain": [
       "{'neg': 0.259, 'neu': 0.697, 'pos': 0.045, 'compound': -0.998}"
      ]
     },
     "execution_count": 13,
     "metadata": {},
     "output_type": "execute_result"
    },
    {
     "data": {
      "text/plain": [
       "{'neg': 0.151, 'neu': 0.772, 'pos': 0.077, 'compound': -0.9853}"
      ]
     },
     "execution_count": 13,
     "metadata": {},
     "output_type": "execute_result"
    },
    {
     "data": {
      "text/plain": [
       "{'neg': 0.126, 'neu': 0.786, 'pos': 0.088, 'compound': -0.9434}"
      ]
     },
     "execution_count": 13,
     "metadata": {},
     "output_type": "execute_result"
    },
    {
     "data": {
      "text/plain": [
       "{'neg': 0.095, 'neu': 0.831, 'pos': 0.075, 'compound': -0.8481}"
      ]
     },
     "execution_count": 13,
     "metadata": {},
     "output_type": "execute_result"
    },
    {
     "data": {
      "text/plain": [
       "{'neg': 0.097, 'neu': 0.814, 'pos': 0.089, 'compound': -0.296}"
      ]
     },
     "execution_count": 13,
     "metadata": {},
     "output_type": "execute_result"
    },
    {
     "data": {
      "text/plain": [
       "{'neg': 0.189, 'neu': 0.806, 'pos': 0.005, 'compound': -0.9955}"
      ]
     },
     "execution_count": 13,
     "metadata": {},
     "output_type": "execute_result"
    },
    {
     "data": {
      "text/plain": [
       "{'neg': 0.084, 'neu': 0.788, 'pos': 0.128, 'compound': 0.9438}"
      ]
     },
     "execution_count": 13,
     "metadata": {},
     "output_type": "execute_result"
    },
    {
     "data": {
      "text/plain": [
       "{'neg': 0.24, 'neu': 0.723, 'pos': 0.037, 'compound': -0.9961}"
      ]
     },
     "execution_count": 13,
     "metadata": {},
     "output_type": "execute_result"
    },
    {
     "data": {
      "text/plain": [
       "{'neg': 0.218, 'neu': 0.753, 'pos': 0.029, 'compound': -0.9905}"
      ]
     },
     "execution_count": 13,
     "metadata": {},
     "output_type": "execute_result"
    },
    {
     "data": {
      "text/plain": [
       "{'neg': 0.224, 'neu': 0.689, 'pos': 0.087, 'compound': -0.9906}"
      ]
     },
     "execution_count": 13,
     "metadata": {},
     "output_type": "execute_result"
    },
    {
     "data": {
      "text/plain": [
       "{'neg': 0.21, 'neu': 0.715, 'pos': 0.075, 'compound': -0.9871}"
      ]
     },
     "execution_count": 13,
     "metadata": {},
     "output_type": "execute_result"
    },
    {
     "data": {
      "text/plain": [
       "{'neg': 0.19, 'neu': 0.782, 'pos': 0.028, 'compound': -0.9921}"
      ]
     },
     "execution_count": 13,
     "metadata": {},
     "output_type": "execute_result"
    },
    {
     "data": {
      "text/plain": [
       "{'neg': 0.184, 'neu': 0.788, 'pos': 0.028, 'compound': -0.9906}"
      ]
     },
     "execution_count": 13,
     "metadata": {},
     "output_type": "execute_result"
    },
    {
     "data": {
      "text/plain": [
       "{'neg': 0.224, 'neu': 0.73, 'pos': 0.046, 'compound': -0.9917}"
      ]
     },
     "execution_count": 13,
     "metadata": {},
     "output_type": "execute_result"
    },
    {
     "data": {
      "text/plain": [
       "{'neg': 0.125, 'neu': 0.809, 'pos': 0.065, 'compound': -0.9432}"
      ]
     },
     "execution_count": 13,
     "metadata": {},
     "output_type": "execute_result"
    },
    {
     "data": {
      "text/plain": [
       "{'neg': 0.156, 'neu': 0.782, 'pos': 0.061, 'compound': -0.9869}"
      ]
     },
     "execution_count": 13,
     "metadata": {},
     "output_type": "execute_result"
    },
    {
     "data": {
      "text/plain": [
       "{'neg': 0.093, 'neu': 0.831, 'pos': 0.076, 'compound': -0.5859}"
      ]
     },
     "execution_count": 13,
     "metadata": {},
     "output_type": "execute_result"
    },
    {
     "data": {
      "text/plain": [
       "{'neg': 0.188, 'neu': 0.766, 'pos': 0.047, 'compound': -0.9623}"
      ]
     },
     "execution_count": 13,
     "metadata": {},
     "output_type": "execute_result"
    },
    {
     "data": {
      "text/plain": [
       "{'neg': 0.222, 'neu': 0.748, 'pos': 0.03, 'compound': -0.9938}"
      ]
     },
     "execution_count": 13,
     "metadata": {},
     "output_type": "execute_result"
    },
    {
     "data": {
      "text/plain": [
       "{'neg': 0.15, 'neu': 0.723, 'pos': 0.127, 'compound': -0.9392}"
      ]
     },
     "execution_count": 13,
     "metadata": {},
     "output_type": "execute_result"
    },
    {
     "data": {
      "text/plain": [
       "{'neg': 0.114, 'neu': 0.789, 'pos': 0.097, 'compound': -0.791}"
      ]
     },
     "execution_count": 13,
     "metadata": {},
     "output_type": "execute_result"
    },
    {
     "data": {
      "text/plain": [
       "{'neg': 0.139, 'neu': 0.742, 'pos': 0.12, 'compound': -0.6512}"
      ]
     },
     "execution_count": 13,
     "metadata": {},
     "output_type": "execute_result"
    },
    {
     "data": {
      "text/plain": [
       "{'neg': 0.125, 'neu': 0.806, 'pos': 0.07, 'compound': -0.9001}"
      ]
     },
     "execution_count": 13,
     "metadata": {},
     "output_type": "execute_result"
    },
    {
     "data": {
      "text/plain": [
       "{'neg': 0.216, 'neu': 0.741, 'pos': 0.043, 'compound': -0.9928}"
      ]
     },
     "execution_count": 13,
     "metadata": {},
     "output_type": "execute_result"
    },
    {
     "data": {
      "text/plain": [
       "{'neg': 0.115, 'neu': 0.8, 'pos': 0.086, 'compound': -0.9705}"
      ]
     },
     "execution_count": 13,
     "metadata": {},
     "output_type": "execute_result"
    },
    {
     "data": {
      "text/plain": [
       "{'neg': 0.153, 'neu': 0.767, 'pos': 0.08, 'compound': -0.9349}"
      ]
     },
     "execution_count": 13,
     "metadata": {},
     "output_type": "execute_result"
    },
    {
     "data": {
      "text/plain": [
       "{'neg': 0.193, 'neu': 0.728, 'pos': 0.08, 'compound': -0.9957}"
      ]
     },
     "execution_count": 13,
     "metadata": {},
     "output_type": "execute_result"
    },
    {
     "data": {
      "text/plain": [
       "{'neg': 0.165, 'neu': 0.768, 'pos': 0.067, 'compound': -0.9977}"
      ]
     },
     "execution_count": 13,
     "metadata": {},
     "output_type": "execute_result"
    },
    {
     "data": {
      "text/plain": [
       "{'neg': 0.183, 'neu': 0.76, 'pos': 0.058, 'compound': -0.9932}"
      ]
     },
     "execution_count": 13,
     "metadata": {},
     "output_type": "execute_result"
    },
    {
     "data": {
      "text/plain": [
       "{'neg': 0.167, 'neu': 0.766, 'pos': 0.067, 'compound': -0.9833}"
      ]
     },
     "execution_count": 13,
     "metadata": {},
     "output_type": "execute_result"
    },
    {
     "data": {
      "text/plain": [
       "{'neg': 0.183, 'neu': 0.725, 'pos': 0.092, 'compound': -0.996}"
      ]
     },
     "execution_count": 13,
     "metadata": {},
     "output_type": "execute_result"
    },
    {
     "data": {
      "text/plain": [
       "{'neg': 0.037, 'neu': 0.835, 'pos': 0.128, 'compound': 0.9934}"
      ]
     },
     "execution_count": 13,
     "metadata": {},
     "output_type": "execute_result"
    },
    {
     "data": {
      "text/plain": [
       "{'neg': 0.07, 'neu': 0.769, 'pos': 0.162, 'compound': 0.989}"
      ]
     },
     "execution_count": 13,
     "metadata": {},
     "output_type": "execute_result"
    },
    {
     "data": {
      "text/plain": [
       "{'neg': 0.042, 'neu': 0.845, 'pos': 0.113, 'compound': 0.9842}"
      ]
     },
     "execution_count": 13,
     "metadata": {},
     "output_type": "execute_result"
    },
    {
     "data": {
      "text/plain": [
       "{'neg': 0.051, 'neu': 0.778, 'pos': 0.171, 'compound': 0.9926}"
      ]
     },
     "execution_count": 13,
     "metadata": {},
     "output_type": "execute_result"
    },
    {
     "data": {
      "text/plain": [
       "{'neg': 0.069, 'neu': 0.827, 'pos': 0.105, 'compound': 0.9414}"
      ]
     },
     "execution_count": 13,
     "metadata": {},
     "output_type": "execute_result"
    },
    {
     "data": {
      "text/plain": [
       "{'neg': 0.06, 'neu': 0.875, 'pos': 0.065, 'compound': 0.2023}"
      ]
     },
     "execution_count": 13,
     "metadata": {},
     "output_type": "execute_result"
    },
    {
     "data": {
      "text/plain": [
       "{'neg': 0.087, 'neu': 0.787, 'pos': 0.125, 'compound': 0.9914}"
      ]
     },
     "execution_count": 13,
     "metadata": {},
     "output_type": "execute_result"
    },
    {
     "data": {
      "text/plain": [
       "{'neg': 0.053, 'neu': 0.832, 'pos': 0.115, 'compound': 0.9963}"
      ]
     },
     "execution_count": 13,
     "metadata": {},
     "output_type": "execute_result"
    },
    {
     "data": {
      "text/plain": [
       "{'neg': 0.072, 'neu': 0.807, 'pos': 0.12, 'compound': 0.9651}"
      ]
     },
     "execution_count": 13,
     "metadata": {},
     "output_type": "execute_result"
    },
    {
     "data": {
      "text/plain": [
       "{'neg': 0.019, 'neu': 0.861, 'pos': 0.119, 'compound': 0.988}"
      ]
     },
     "execution_count": 13,
     "metadata": {},
     "output_type": "execute_result"
    },
    {
     "data": {
      "text/plain": [
       "{'neg': 0.062, 'neu': 0.826, 'pos': 0.112, 'compound': 0.9559}"
      ]
     },
     "execution_count": 13,
     "metadata": {},
     "output_type": "execute_result"
    },
    {
     "data": {
      "text/plain": [
       "{'neg': 0.054, 'neu': 0.834, 'pos': 0.113, 'compound': 0.9712}"
      ]
     },
     "execution_count": 13,
     "metadata": {},
     "output_type": "execute_result"
    },
    {
     "data": {
      "text/plain": [
       "{'neg': 0.031, 'neu': 0.89, 'pos': 0.079, 'compound': 0.9592}"
      ]
     },
     "execution_count": 13,
     "metadata": {},
     "output_type": "execute_result"
    },
    {
     "data": {
      "text/plain": [
       "{'neg': 0.057, 'neu': 0.837, 'pos': 0.106, 'compound': 0.9899}"
      ]
     },
     "execution_count": 13,
     "metadata": {},
     "output_type": "execute_result"
    },
    {
     "data": {
      "text/plain": [
       "{'neg': 0.05, 'neu': 0.82, 'pos': 0.131, 'compound': 0.9978}"
      ]
     },
     "execution_count": 13,
     "metadata": {},
     "output_type": "execute_result"
    },
    {
     "data": {
      "text/plain": [
       "{'neg': 0.065, 'neu': 0.857, 'pos': 0.078, 'compound': 0.1779}"
      ]
     },
     "execution_count": 13,
     "metadata": {},
     "output_type": "execute_result"
    },
    {
     "data": {
      "text/plain": [
       "{'neg': 0.035, 'neu': 0.794, 'pos': 0.17, 'compound': 0.997}"
      ]
     },
     "execution_count": 13,
     "metadata": {},
     "output_type": "execute_result"
    },
    {
     "data": {
      "text/plain": [
       "{'neg': 0.099, 'neu': 0.811, 'pos': 0.09, 'compound': -0.6976}"
      ]
     },
     "execution_count": 13,
     "metadata": {},
     "output_type": "execute_result"
    },
    {
     "data": {
      "text/plain": [
       "{'neg': 0.022, 'neu': 0.889, 'pos': 0.089, 'compound': 0.9932}"
      ]
     },
     "execution_count": 13,
     "metadata": {},
     "output_type": "execute_result"
    },
    {
     "data": {
      "text/plain": [
       "{'neg': 0.013, 'neu': 0.788, 'pos': 0.199, 'compound': 0.9944}"
      ]
     },
     "execution_count": 13,
     "metadata": {},
     "output_type": "execute_result"
    },
    {
     "data": {
      "text/plain": [
       "{'neg': 0.111, 'neu': 0.753, 'pos': 0.135, 'compound': 0.4243}"
      ]
     },
     "execution_count": 13,
     "metadata": {},
     "output_type": "execute_result"
    },
    {
     "data": {
      "text/plain": [
       "{'neg': 0.069, 'neu': 0.88, 'pos': 0.051, 'compound': -0.7096}"
      ]
     },
     "execution_count": 13,
     "metadata": {},
     "output_type": "execute_result"
    },
    {
     "data": {
      "text/plain": [
       "{'neg': 0.057, 'neu': 0.811, 'pos': 0.132, 'compound': 0.9905}"
      ]
     },
     "execution_count": 13,
     "metadata": {},
     "output_type": "execute_result"
    },
    {
     "data": {
      "text/plain": [
       "{'neg': 0.091, 'neu': 0.826, 'pos': 0.083, 'compound': -0.4854}"
      ]
     },
     "execution_count": 13,
     "metadata": {},
     "output_type": "execute_result"
    },
    {
     "data": {
      "text/plain": [
       "{'neg': 0.007, 'neu': 0.8, 'pos': 0.194, 'compound': 0.994}"
      ]
     },
     "execution_count": 13,
     "metadata": {},
     "output_type": "execute_result"
    },
    {
     "data": {
      "text/plain": [
       "{'neg': 0.103, 'neu': 0.706, 'pos': 0.191, 'compound': 0.9864}"
      ]
     },
     "execution_count": 13,
     "metadata": {},
     "output_type": "execute_result"
    },
    {
     "data": {
      "text/plain": [
       "{'neg': 0.107, 'neu': 0.818, 'pos': 0.075, 'compound': -0.8986}"
      ]
     },
     "execution_count": 13,
     "metadata": {},
     "output_type": "execute_result"
    },
    {
     "data": {
      "text/plain": [
       "{'neg': 0.142, 'neu': 0.776, 'pos': 0.082, 'compound': -0.9898}"
      ]
     },
     "execution_count": 13,
     "metadata": {},
     "output_type": "execute_result"
    },
    {
     "data": {
      "text/plain": [
       "{'neg': 0.078, 'neu': 0.851, 'pos': 0.071, 'compound': -0.7705}"
      ]
     },
     "execution_count": 13,
     "metadata": {},
     "output_type": "execute_result"
    },
    {
     "data": {
      "text/plain": [
       "{'neg': 0.092, 'neu': 0.834, 'pos': 0.074, 'compound': -0.9223}"
      ]
     },
     "execution_count": 13,
     "metadata": {},
     "output_type": "execute_result"
    },
    {
     "data": {
      "text/plain": [
       "{'neg': 0.16, 'neu': 0.762, 'pos': 0.078, 'compound': -0.9959}"
      ]
     },
     "execution_count": 13,
     "metadata": {},
     "output_type": "execute_result"
    },
    {
     "data": {
      "text/plain": [
       "{'neg': 0.079, 'neu': 0.857, 'pos': 0.064, 'compound': -0.5831}"
      ]
     },
     "execution_count": 13,
     "metadata": {},
     "output_type": "execute_result"
    },
    {
     "data": {
      "text/plain": [
       "{'neg': 0.084, 'neu': 0.869, 'pos': 0.048, 'compound': -0.8151}"
      ]
     },
     "execution_count": 13,
     "metadata": {},
     "output_type": "execute_result"
    },
    {
     "data": {
      "text/plain": [
       "{'neg': 0.087, 'neu': 0.85, 'pos': 0.063, 'compound': -0.7906}"
      ]
     },
     "execution_count": 13,
     "metadata": {},
     "output_type": "execute_result"
    },
    {
     "data": {
      "text/plain": [
       "{'neg': 0.099, 'neu': 0.786, 'pos': 0.115, 'compound': 0.7126}"
      ]
     },
     "execution_count": 13,
     "metadata": {},
     "output_type": "execute_result"
    },
    {
     "data": {
      "text/plain": [
       "{'neg': 0.085, 'neu': 0.824, 'pos': 0.091, 'compound': 0.5385}"
      ]
     },
     "execution_count": 13,
     "metadata": {},
     "output_type": "execute_result"
    },
    {
     "data": {
      "text/plain": [
       "{'neg': 0.089, 'neu': 0.81, 'pos': 0.101, 'compound': 0.4207}"
      ]
     },
     "execution_count": 13,
     "metadata": {},
     "output_type": "execute_result"
    },
    {
     "data": {
      "text/plain": [
       "{'neg': 0.074, 'neu': 0.879, 'pos': 0.048, 'compound': -0.6705}"
      ]
     },
     "execution_count": 13,
     "metadata": {},
     "output_type": "execute_result"
    },
    {
     "data": {
      "text/plain": [
       "{'neg': 0.068, 'neu': 0.901, 'pos': 0.032, 'compound': -0.9468}"
      ]
     },
     "execution_count": 13,
     "metadata": {},
     "output_type": "execute_result"
    },
    {
     "data": {
      "text/plain": [
       "{'neg': 0.14, 'neu': 0.755, 'pos': 0.105, 'compound': -0.9738}"
      ]
     },
     "execution_count": 13,
     "metadata": {},
     "output_type": "execute_result"
    },
    {
     "data": {
      "text/plain": [
       "{'neg': 0.109, 'neu': 0.828, 'pos': 0.064, 'compound': -0.9698}"
      ]
     },
     "execution_count": 13,
     "metadata": {},
     "output_type": "execute_result"
    },
    {
     "data": {
      "text/plain": [
       "{'neg': 0.154, 'neu': 0.802, 'pos': 0.044, 'compound': -0.9886}"
      ]
     },
     "execution_count": 13,
     "metadata": {},
     "output_type": "execute_result"
    },
    {
     "data": {
      "text/plain": [
       "{'neg': 0.173, 'neu': 0.765, 'pos': 0.062, 'compound': -0.9949}"
      ]
     },
     "execution_count": 13,
     "metadata": {},
     "output_type": "execute_result"
    },
    {
     "data": {
      "text/plain": [
       "{'neg': 0.151, 'neu': 0.8, 'pos': 0.049, 'compound': -0.9925}"
      ]
     },
     "execution_count": 13,
     "metadata": {},
     "output_type": "execute_result"
    },
    {
     "data": {
      "text/plain": [
       "{'neg': 0.182, 'neu': 0.751, 'pos': 0.068, 'compound': -0.9887}"
      ]
     },
     "execution_count": 13,
     "metadata": {},
     "output_type": "execute_result"
    },
    {
     "data": {
      "text/plain": [
       "{'neg': 0.047, 'neu': 0.882, 'pos': 0.071, 'compound': 0.8246}"
      ]
     },
     "execution_count": 13,
     "metadata": {},
     "output_type": "execute_result"
    },
    {
     "data": {
      "text/plain": [
       "{'neg': 0.099, 'neu': 0.816, 'pos': 0.085, 'compound': -0.5413}"
      ]
     },
     "execution_count": 13,
     "metadata": {},
     "output_type": "execute_result"
    },
    {
     "data": {
      "text/plain": [
       "{'neg': 0.075, 'neu': 0.856, 'pos': 0.069, 'compound': -0.296}"
      ]
     },
     "execution_count": 13,
     "metadata": {},
     "output_type": "execute_result"
    },
    {
     "data": {
      "text/plain": [
       "{'neg': 0.079, 'neu': 0.779, 'pos': 0.142, 'compound': 0.9528}"
      ]
     },
     "execution_count": 13,
     "metadata": {},
     "output_type": "execute_result"
    },
    {
     "data": {
      "text/plain": [
       "{'neg': 0.08, 'neu': 0.827, 'pos': 0.093, 'compound': 0.7467}"
      ]
     },
     "execution_count": 13,
     "metadata": {},
     "output_type": "execute_result"
    },
    {
     "data": {
      "text/plain": [
       "{'neg': 0.06, 'neu': 0.85, 'pos': 0.09, 'compound': 0.8689}"
      ]
     },
     "execution_count": 13,
     "metadata": {},
     "output_type": "execute_result"
    },
    {
     "data": {
      "text/plain": [
       "{'neg': 0.103, 'neu': 0.784, 'pos': 0.113, 'compound': 0.5979}"
      ]
     },
     "execution_count": 13,
     "metadata": {},
     "output_type": "execute_result"
    },
    {
     "data": {
      "text/plain": [
       "{'neg': 0.099, 'neu': 0.785, 'pos': 0.116, 'compound': 0.7891}"
      ]
     },
     "execution_count": 13,
     "metadata": {},
     "output_type": "execute_result"
    },
    {
     "data": {
      "text/plain": [
       "{'neg': 0.044, 'neu': 0.892, 'pos': 0.064, 'compound': 0.8769}"
      ]
     },
     "execution_count": 13,
     "metadata": {},
     "output_type": "execute_result"
    },
    {
     "data": {
      "text/plain": [
       "{'neg': 0.078, 'neu': 0.805, 'pos': 0.116, 'compound': 0.9411}"
      ]
     },
     "execution_count": 13,
     "metadata": {},
     "output_type": "execute_result"
    },
    {
     "data": {
      "text/plain": [
       "{'neg': 0.098, 'neu': 0.835, 'pos': 0.067, 'compound': -0.8902}"
      ]
     },
     "execution_count": 13,
     "metadata": {},
     "output_type": "execute_result"
    },
    {
     "data": {
      "text/plain": [
       "{'neg': 0.037, 'neu': 0.89, 'pos': 0.073, 'compound': 0.81}"
      ]
     },
     "execution_count": 13,
     "metadata": {},
     "output_type": "execute_result"
    },
    {
     "data": {
      "text/plain": [
       "{'neg': 0.033, 'neu': 0.913, 'pos': 0.054, 'compound': 0.8521}"
      ]
     },
     "execution_count": 13,
     "metadata": {},
     "output_type": "execute_result"
    },
    {
     "data": {
      "text/plain": [
       "{'neg': 0.097, 'neu': 0.849, 'pos': 0.054, 'compound': -0.9869}"
      ]
     },
     "execution_count": 13,
     "metadata": {},
     "output_type": "execute_result"
    },
    {
     "data": {
      "text/plain": [
       "{'neg': 0.082, 'neu': 0.846, 'pos': 0.072, 'compound': -0.7684}"
      ]
     },
     "execution_count": 13,
     "metadata": {},
     "output_type": "execute_result"
    },
    {
     "data": {
      "text/plain": [
       "{'neg': 0.065, 'neu': 0.883, 'pos': 0.053, 'compound': -0.5267}"
      ]
     },
     "execution_count": 13,
     "metadata": {},
     "output_type": "execute_result"
    },
    {
     "data": {
      "text/plain": [
       "{'neg': 0.084, 'neu': 0.853, 'pos': 0.063, 'compound': -0.8834}"
      ]
     },
     "execution_count": 13,
     "metadata": {},
     "output_type": "execute_result"
    },
    {
     "data": {
      "text/plain": [
       "{'neg': 0.12, 'neu': 0.792, 'pos': 0.088, 'compound': -0.9279}"
      ]
     },
     "execution_count": 13,
     "metadata": {},
     "output_type": "execute_result"
    },
    {
     "data": {
      "text/plain": [
       "{'neg': 0.094, 'neu': 0.753, 'pos': 0.153, 'compound': 0.951}"
      ]
     },
     "execution_count": 13,
     "metadata": {},
     "output_type": "execute_result"
    },
    {
     "data": {
      "text/plain": [
       "{'neg': 0.04, 'neu': 0.873, 'pos': 0.088, 'compound': 0.9617}"
      ]
     },
     "execution_count": 13,
     "metadata": {},
     "output_type": "execute_result"
    },
    {
     "data": {
      "text/plain": [
       "{'neg': 0.034, 'neu': 0.866, 'pos': 0.1, 'compound': 0.9786}"
      ]
     },
     "execution_count": 13,
     "metadata": {},
     "output_type": "execute_result"
    },
    {
     "data": {
      "text/plain": [
       "{'neg': 0.084, 'neu': 0.8, 'pos': 0.115, 'compound': 0.9727}"
      ]
     },
     "execution_count": 13,
     "metadata": {},
     "output_type": "execute_result"
    },
    {
     "data": {
      "text/plain": [
       "{'neg': 0.049, 'neu': 0.787, 'pos': 0.164, 'compound': 0.9968}"
      ]
     },
     "execution_count": 13,
     "metadata": {},
     "output_type": "execute_result"
    },
    {
     "data": {
      "text/plain": [
       "{'neg': 0.023, 'neu': 0.755, 'pos': 0.222, 'compound': 0.9966}"
      ]
     },
     "execution_count": 13,
     "metadata": {},
     "output_type": "execute_result"
    },
    {
     "data": {
      "text/plain": [
       "{'neg': 0.054, 'neu': 0.777, 'pos': 0.169, 'compound': 0.994}"
      ]
     },
     "execution_count": 13,
     "metadata": {},
     "output_type": "execute_result"
    },
    {
     "data": {
      "text/plain": [
       "{'neg': 0.067, 'neu': 0.832, 'pos': 0.101, 'compound': 0.8666}"
      ]
     },
     "execution_count": 13,
     "metadata": {},
     "output_type": "execute_result"
    },
    {
     "data": {
      "text/plain": [
       "{'neg': 0.023, 'neu': 0.778, 'pos': 0.199, 'compound': 0.995}"
      ]
     },
     "execution_count": 13,
     "metadata": {},
     "output_type": "execute_result"
    },
    {
     "data": {
      "text/plain": [
       "{'neg': 0.005, 'neu': 0.898, 'pos': 0.096, 'compound': 0.986}"
      ]
     },
     "execution_count": 13,
     "metadata": {},
     "output_type": "execute_result"
    },
    {
     "data": {
      "text/plain": [
       "{'neg': 0.012, 'neu': 0.805, 'pos': 0.184, 'compound': 0.9968}"
      ]
     },
     "execution_count": 13,
     "metadata": {},
     "output_type": "execute_result"
    },
    {
     "data": {
      "text/plain": [
       "{'neg': 0.006, 'neu': 0.798, 'pos': 0.196, 'compound': 0.9969}"
      ]
     },
     "execution_count": 13,
     "metadata": {},
     "output_type": "execute_result"
    },
    {
     "data": {
      "text/plain": [
       "{'neg': 0.063, 'neu': 0.828, 'pos': 0.109, 'compound': 0.9468}"
      ]
     },
     "execution_count": 13,
     "metadata": {},
     "output_type": "execute_result"
    },
    {
     "data": {
      "text/plain": [
       "{'neg': 0.055, 'neu': 0.858, 'pos': 0.087, 'compound': 0.9241}"
      ]
     },
     "execution_count": 13,
     "metadata": {},
     "output_type": "execute_result"
    },
    {
     "data": {
      "text/plain": [
       "{'neg': 0.008, 'neu': 0.833, 'pos': 0.158, 'compound': 0.9893}"
      ]
     },
     "execution_count": 13,
     "metadata": {},
     "output_type": "execute_result"
    },
    {
     "data": {
      "text/plain": [
       "{'neg': 0.028, 'neu': 0.829, 'pos': 0.143, 'compound': 0.9867}"
      ]
     },
     "execution_count": 13,
     "metadata": {},
     "output_type": "execute_result"
    },
    {
     "data": {
      "text/plain": [
       "{'neg': 0.0, 'neu': 0.84, 'pos': 0.16, 'compound': 0.9794}"
      ]
     },
     "execution_count": 13,
     "metadata": {},
     "output_type": "execute_result"
    },
    {
     "data": {
      "text/plain": [
       "{'neg': 0.014, 'neu': 0.826, 'pos': 0.16, 'compound': 0.9883}"
      ]
     },
     "execution_count": 13,
     "metadata": {},
     "output_type": "execute_result"
    },
    {
     "data": {
      "text/plain": [
       "{'neg': 0.047, 'neu': 0.844, 'pos': 0.109, 'compound': 0.9831}"
      ]
     },
     "execution_count": 13,
     "metadata": {},
     "output_type": "execute_result"
    },
    {
     "data": {
      "text/plain": [
       "{'neg': 0.112, 'neu': 0.717, 'pos': 0.171, 'compound': 0.9548}"
      ]
     },
     "execution_count": 13,
     "metadata": {},
     "output_type": "execute_result"
    },
    {
     "data": {
      "text/plain": [
       "{'neg': 0.065, 'neu': 0.752, 'pos': 0.182, 'compound': 0.9924}"
      ]
     },
     "execution_count": 13,
     "metadata": {},
     "output_type": "execute_result"
    },
    {
     "data": {
      "text/plain": [
       "{'neg': 0.04, 'neu': 0.794, 'pos': 0.166, 'compound': 0.9977}"
      ]
     },
     "execution_count": 13,
     "metadata": {},
     "output_type": "execute_result"
    },
    {
     "data": {
      "text/plain": [
       "{'neg': 0.037, 'neu': 0.84, 'pos': 0.124, 'compound': 0.9963}"
      ]
     },
     "execution_count": 13,
     "metadata": {},
     "output_type": "execute_result"
    },
    {
     "data": {
      "text/plain": [
       "{'neg': 0.026, 'neu': 0.871, 'pos': 0.104, 'compound': 0.9943}"
      ]
     },
     "execution_count": 13,
     "metadata": {},
     "output_type": "execute_result"
    },
    {
     "data": {
      "text/plain": [
       "{'neg': 0.122, 'neu': 0.701, 'pos': 0.177, 'compound': 0.8176}"
      ]
     },
     "execution_count": 13,
     "metadata": {},
     "output_type": "execute_result"
    },
    {
     "data": {
      "text/plain": [
       "{'neg': 0.02, 'neu': 0.811, 'pos': 0.168, 'compound': 0.9881}"
      ]
     },
     "execution_count": 13,
     "metadata": {},
     "output_type": "execute_result"
    },
    {
     "data": {
      "text/plain": [
       "{'neg': 0.079, 'neu': 0.791, 'pos': 0.13, 'compound': 0.9837}"
      ]
     },
     "execution_count": 13,
     "metadata": {},
     "output_type": "execute_result"
    },
    {
     "data": {
      "text/plain": [
       "{'neg': 0.068, 'neu': 0.773, 'pos': 0.159, 'compound': 0.9941}"
      ]
     },
     "execution_count": 13,
     "metadata": {},
     "output_type": "execute_result"
    },
    {
     "data": {
      "text/plain": [
       "{'neg': 0.023, 'neu': 0.798, 'pos': 0.179, 'compound': 0.9935}"
      ]
     },
     "execution_count": 13,
     "metadata": {},
     "output_type": "execute_result"
    },
    {
     "data": {
      "text/plain": [
       "{'neg': 0.038, 'neu': 0.86, 'pos': 0.102, 'compound': 0.9552}"
      ]
     },
     "execution_count": 13,
     "metadata": {},
     "output_type": "execute_result"
    },
    {
     "data": {
      "text/plain": [
       "{'neg': 0.095, 'neu': 0.807, 'pos': 0.098, 'compound': -0.9391}"
      ]
     },
     "execution_count": 13,
     "metadata": {},
     "output_type": "execute_result"
    },
    {
     "data": {
      "text/plain": [
       "{'neg': 0.077, 'neu': 0.808, 'pos': 0.115, 'compound': 0.9631}"
      ]
     },
     "execution_count": 13,
     "metadata": {},
     "output_type": "execute_result"
    },
    {
     "data": {
      "text/plain": [
       "{'neg': 0.064, 'neu': 0.763, 'pos': 0.173, 'compound': 0.9932}"
      ]
     },
     "execution_count": 13,
     "metadata": {},
     "output_type": "execute_result"
    },
    {
     "data": {
      "text/plain": [
       "{'neg': 0.006, 'neu': 0.834, 'pos': 0.16, 'compound': 0.9943}"
      ]
     },
     "execution_count": 13,
     "metadata": {},
     "output_type": "execute_result"
    },
    {
     "data": {
      "text/plain": [
       "{'neg': 0.056, 'neu': 0.808, 'pos': 0.136, 'compound': 0.9921}"
      ]
     },
     "execution_count": 13,
     "metadata": {},
     "output_type": "execute_result"
    },
    {
     "data": {
      "text/plain": [
       "{'neg': 0.136, 'neu': 0.659, 'pos': 0.205, 'compound': 0.9888}"
      ]
     },
     "execution_count": 13,
     "metadata": {},
     "output_type": "execute_result"
    },
    {
     "data": {
      "text/plain": [
       "{'neg': 0.063, 'neu': 0.828, 'pos': 0.109, 'compound': 0.9688}"
      ]
     },
     "execution_count": 13,
     "metadata": {},
     "output_type": "execute_result"
    },
    {
     "data": {
      "text/plain": [
       "{'neg': 0.129, 'neu': 0.746, 'pos': 0.125, 'compound': -0.891}"
      ]
     },
     "execution_count": 13,
     "metadata": {},
     "output_type": "execute_result"
    },
    {
     "data": {
      "text/plain": [
       "{'neg': 0.0, 'neu': 0.861, 'pos': 0.139, 'compound': 0.9766}"
      ]
     },
     "execution_count": 13,
     "metadata": {},
     "output_type": "execute_result"
    },
    {
     "data": {
      "text/plain": [
       "{'neg': 0.028, 'neu': 0.875, 'pos': 0.097, 'compound': 0.9735}"
      ]
     },
     "execution_count": 13,
     "metadata": {},
     "output_type": "execute_result"
    },
    {
     "data": {
      "text/plain": [
       "{'neg': 0.041, 'neu': 0.864, 'pos': 0.095, 'compound': 0.9427}"
      ]
     },
     "execution_count": 13,
     "metadata": {},
     "output_type": "execute_result"
    },
    {
     "data": {
      "text/plain": [
       "{'neg': 0.033, 'neu': 0.89, 'pos': 0.078, 'compound': 0.9118}"
      ]
     },
     "execution_count": 13,
     "metadata": {},
     "output_type": "execute_result"
    },
    {
     "data": {
      "text/plain": [
       "{'neg': 0.006, 'neu': 0.95, 'pos': 0.044, 'compound': 0.9348}"
      ]
     },
     "execution_count": 13,
     "metadata": {},
     "output_type": "execute_result"
    },
    {
     "data": {
      "text/plain": [
       "{'neg': 0.089, 'neu': 0.87, 'pos': 0.041, 'compound': -0.9371}"
      ]
     },
     "execution_count": 13,
     "metadata": {},
     "output_type": "execute_result"
    },
    {
     "data": {
      "text/plain": [
       "{'neg': 0.121, 'neu': 0.782, 'pos': 0.096, 'compound': -0.9317}"
      ]
     },
     "execution_count": 13,
     "metadata": {},
     "output_type": "execute_result"
    },
    {
     "data": {
      "text/plain": [
       "{'neg': 0.095, 'neu': 0.766, 'pos': 0.139, 'compound': 0.802}"
      ]
     },
     "execution_count": 13,
     "metadata": {},
     "output_type": "execute_result"
    },
    {
     "data": {
      "text/plain": [
       "{'neg': 0.063, 'neu': 0.862, 'pos': 0.075, 'compound': 0.5574}"
      ]
     },
     "execution_count": 13,
     "metadata": {},
     "output_type": "execute_result"
    },
    {
     "data": {
      "text/plain": [
       "{'neg': 0.062, 'neu': 0.833, 'pos': 0.105, 'compound': 0.9502}"
      ]
     },
     "execution_count": 13,
     "metadata": {},
     "output_type": "execute_result"
    },
    {
     "data": {
      "text/plain": [
       "{'neg': 0.035, 'neu': 0.848, 'pos': 0.116, 'compound': 0.9767}"
      ]
     },
     "execution_count": 13,
     "metadata": {},
     "output_type": "execute_result"
    },
    {
     "data": {
      "text/plain": [
       "{'neg': 0.041, 'neu': 0.9, 'pos': 0.059, 'compound': 0.6896}"
      ]
     },
     "execution_count": 13,
     "metadata": {},
     "output_type": "execute_result"
    },
    {
     "data": {
      "text/plain": [
       "{'neg': 0.084, 'neu': 0.86, 'pos': 0.056, 'compound': -0.9062}"
      ]
     },
     "execution_count": 13,
     "metadata": {},
     "output_type": "execute_result"
    },
    {
     "data": {
      "text/plain": [
       "{'neg': 0.048, 'neu': 0.811, 'pos': 0.141, 'compound': 0.9812}"
      ]
     },
     "execution_count": 13,
     "metadata": {},
     "output_type": "execute_result"
    },
    {
     "data": {
      "text/plain": [
       "{'neg': 0.062, 'neu': 0.854, 'pos': 0.085, 'compound': 0.0161}"
      ]
     },
     "execution_count": 13,
     "metadata": {},
     "output_type": "execute_result"
    },
    {
     "data": {
      "text/plain": [
       "{'neg': 0.057, 'neu': 0.807, 'pos': 0.136, 'compound': 0.9843}"
      ]
     },
     "execution_count": 13,
     "metadata": {},
     "output_type": "execute_result"
    },
    {
     "data": {
      "text/plain": [
       "{'neg': 0.037, 'neu': 0.884, 'pos': 0.079, 'compound': 0.9584}"
      ]
     },
     "execution_count": 13,
     "metadata": {},
     "output_type": "execute_result"
    },
    {
     "data": {
      "text/plain": [
       "{'neg': 0.082, 'neu': 0.828, 'pos': 0.09, 'compound': 0.4404}"
      ]
     },
     "execution_count": 13,
     "metadata": {},
     "output_type": "execute_result"
    },
    {
     "data": {
      "text/plain": [
       "{'neg': 0.054, 'neu': 0.82, 'pos': 0.126, 'compound': 0.9902}"
      ]
     },
     "execution_count": 13,
     "metadata": {},
     "output_type": "execute_result"
    },
    {
     "data": {
      "text/plain": [
       "{'neg': 0.013, 'neu': 0.83, 'pos': 0.157, 'compound': 0.9894}"
      ]
     },
     "execution_count": 13,
     "metadata": {},
     "output_type": "execute_result"
    },
    {
     "data": {
      "text/plain": [
       "{'neg': 0.095, 'neu': 0.838, 'pos': 0.067, 'compound': -0.9092}"
      ]
     },
     "execution_count": 13,
     "metadata": {},
     "output_type": "execute_result"
    },
    {
     "data": {
      "text/plain": [
       "{'neg': 0.108, 'neu': 0.797, 'pos': 0.095, 'compound': -0.4939}"
      ]
     },
     "execution_count": 13,
     "metadata": {},
     "output_type": "execute_result"
    },
    {
     "data": {
      "text/plain": [
       "{'neg': 0.092, 'neu': 0.856, 'pos': 0.052, 'compound': -0.9277}"
      ]
     },
     "execution_count": 13,
     "metadata": {},
     "output_type": "execute_result"
    },
    {
     "data": {
      "text/plain": [
       "{'neg': 0.054, 'neu': 0.874, 'pos': 0.071, 'compound': 0.8225}"
      ]
     },
     "execution_count": 13,
     "metadata": {},
     "output_type": "execute_result"
    },
    {
     "data": {
      "text/plain": [
       "{'neg': 0.052, 'neu': 0.888, 'pos': 0.06, 'compound': 0.7579}"
      ]
     },
     "execution_count": 13,
     "metadata": {},
     "output_type": "execute_result"
    },
    {
     "data": {
      "text/plain": [
       "{'neg': 0.04, 'neu': 0.81, 'pos': 0.15, 'compound': 0.9866}"
      ]
     },
     "execution_count": 13,
     "metadata": {},
     "output_type": "execute_result"
    },
    {
     "data": {
      "text/plain": [
       "{'neg': 0.041, 'neu': 0.902, 'pos': 0.057, 'compound': 0.7003}"
      ]
     },
     "execution_count": 13,
     "metadata": {},
     "output_type": "execute_result"
    },
    {
     "data": {
      "text/plain": [
       "{'neg': 0.059, 'neu': 0.893, 'pos': 0.049, 'compound': -0.6187}"
      ]
     },
     "execution_count": 13,
     "metadata": {},
     "output_type": "execute_result"
    },
    {
     "data": {
      "text/plain": [
       "{'neg': 0.049, 'neu': 0.884, 'pos': 0.067, 'compound': 0.6597}"
      ]
     },
     "execution_count": 13,
     "metadata": {},
     "output_type": "execute_result"
    },
    {
     "data": {
      "text/plain": [
       "{'neg': 0.066, 'neu': 0.863, 'pos': 0.071, 'compound': 0.34}"
      ]
     },
     "execution_count": 13,
     "metadata": {},
     "output_type": "execute_result"
    },
    {
     "data": {
      "text/plain": [
       "{'neg': 0.049, 'neu': 0.881, 'pos': 0.069, 'compound': 0.8567}"
      ]
     },
     "execution_count": 13,
     "metadata": {},
     "output_type": "execute_result"
    },
    {
     "data": {
      "text/plain": [
       "{'neg': 0.076, 'neu': 0.843, 'pos': 0.081, 'compound': 0.2445}"
      ]
     },
     "execution_count": 13,
     "metadata": {},
     "output_type": "execute_result"
    },
    {
     "data": {
      "text/plain": [
       "{'neg': 0.075, 'neu': 0.862, 'pos': 0.063, 'compound': -0.5267}"
      ]
     },
     "execution_count": 13,
     "metadata": {},
     "output_type": "execute_result"
    },
    {
     "data": {
      "text/plain": [
       "{'neg': 0.075, 'neu': 0.826, 'pos': 0.099, 'compound': 0.7391}"
      ]
     },
     "execution_count": 13,
     "metadata": {},
     "output_type": "execute_result"
    },
    {
     "data": {
      "text/plain": [
       "{'neg': 0.068, 'neu': 0.869, 'pos': 0.064, 'compound': -0.128}"
      ]
     },
     "execution_count": 13,
     "metadata": {},
     "output_type": "execute_result"
    },
    {
     "data": {
      "text/plain": [
       "{'neg': 0.138, 'neu': 0.779, 'pos': 0.082, 'compound': -0.9484}"
      ]
     },
     "execution_count": 13,
     "metadata": {},
     "output_type": "execute_result"
    },
    {
     "data": {
      "text/plain": [
       "{'neg': 0.015, 'neu': 0.794, 'pos': 0.191, 'compound': 0.997}"
      ]
     },
     "execution_count": 13,
     "metadata": {},
     "output_type": "execute_result"
    },
    {
     "data": {
      "text/plain": [
       "{'neg': 0.025, 'neu': 0.853, 'pos': 0.122, 'compound': 0.959}"
      ]
     },
     "execution_count": 13,
     "metadata": {},
     "output_type": "execute_result"
    },
    {
     "data": {
      "text/plain": [
       "{'neg': 0.063, 'neu': 0.847, 'pos': 0.091, 'compound': 0.9715}"
      ]
     },
     "execution_count": 13,
     "metadata": {},
     "output_type": "execute_result"
    },
    {
     "data": {
      "text/plain": [
       "{'neg': 0.049, 'neu': 0.845, 'pos': 0.106, 'compound': 0.9757}"
      ]
     },
     "execution_count": 13,
     "metadata": {},
     "output_type": "execute_result"
    },
    {
     "data": {
      "text/plain": [
       "{'neg': 0.057, 'neu': 0.861, 'pos': 0.082, 'compound': 0.8338}"
      ]
     },
     "execution_count": 13,
     "metadata": {},
     "output_type": "execute_result"
    },
    {
     "data": {
      "text/plain": [
       "{'neg': 0.092, 'neu': 0.81, 'pos': 0.098, 'compound': -0.0451}"
      ]
     },
     "execution_count": 13,
     "metadata": {},
     "output_type": "execute_result"
    },
    {
     "data": {
      "text/plain": [
       "{'neg': 0.101, 'neu': 0.843, 'pos': 0.056, 'compound': -0.9744}"
      ]
     },
     "execution_count": 13,
     "metadata": {},
     "output_type": "execute_result"
    },
    {
     "data": {
      "text/plain": [
       "{'neg': 0.098, 'neu': 0.803, 'pos': 0.099, 'compound': 0.3893}"
      ]
     },
     "execution_count": 13,
     "metadata": {},
     "output_type": "execute_result"
    },
    {
     "data": {
      "text/plain": [
       "{'neg': 0.159, 'neu': 0.801, 'pos': 0.039, 'compound': -0.9963}"
      ]
     },
     "execution_count": 13,
     "metadata": {},
     "output_type": "execute_result"
    },
    {
     "data": {
      "text/plain": [
       "{'neg': 0.095, 'neu': 0.842, 'pos': 0.062, 'compound': -0.9272}"
      ]
     },
     "execution_count": 13,
     "metadata": {},
     "output_type": "execute_result"
    },
    {
     "data": {
      "text/plain": [
       "{'neg': 0.0, 'neu': 0.829, 'pos': 0.171, 'compound': 0.9854}"
      ]
     },
     "execution_count": 13,
     "metadata": {},
     "output_type": "execute_result"
    },
    {
     "data": {
      "text/plain": [
       "{'neg': 0.079, 'neu': 0.912, 'pos': 0.009, 'compound': -0.9753}"
      ]
     },
     "execution_count": 13,
     "metadata": {},
     "output_type": "execute_result"
    },
    {
     "data": {
      "text/plain": [
       "{'neg': 0.055, 'neu': 0.86, 'pos': 0.085, 'compound': 0.9793}"
      ]
     },
     "execution_count": 13,
     "metadata": {},
     "output_type": "execute_result"
    },
    {
     "data": {
      "text/plain": [
       "{'neg': 0.129, 'neu': 0.809, 'pos': 0.062, 'compound': -0.9786}"
      ]
     },
     "execution_count": 13,
     "metadata": {},
     "output_type": "execute_result"
    },
    {
     "data": {
      "text/plain": [
       "{'neg': 0.084, 'neu': 0.877, 'pos': 0.039, 'compound': -0.9684}"
      ]
     },
     "execution_count": 13,
     "metadata": {},
     "output_type": "execute_result"
    },
    {
     "data": {
      "text/plain": [
       "{'neg': 0.179, 'neu': 0.696, 'pos': 0.126, 'compound': -0.9921}"
      ]
     },
     "execution_count": 13,
     "metadata": {},
     "output_type": "execute_result"
    },
    {
     "data": {
      "text/plain": [
       "{'neg': 0.1, 'neu': 0.843, 'pos': 0.057, 'compound': -0.929}"
      ]
     },
     "execution_count": 13,
     "metadata": {},
     "output_type": "execute_result"
    },
    {
     "data": {
      "text/plain": [
       "{'neg': 0.08, 'neu': 0.853, 'pos': 0.067, 'compound': -0.5106}"
      ]
     },
     "execution_count": 13,
     "metadata": {},
     "output_type": "execute_result"
    },
    {
     "data": {
      "text/plain": [
       "{'neg': 0.107, 'neu': 0.831, 'pos': 0.063, 'compound': -0.9768}"
      ]
     },
     "execution_count": 13,
     "metadata": {},
     "output_type": "execute_result"
    },
    {
     "data": {
      "text/plain": [
       "{'neg': 0.218, 'neu': 0.687, 'pos': 0.095, 'compound': -0.995}"
      ]
     },
     "execution_count": 13,
     "metadata": {},
     "output_type": "execute_result"
    },
    {
     "data": {
      "text/plain": [
       "{'neg': 0.065, 'neu': 0.833, 'pos': 0.103, 'compound': 0.9382}"
      ]
     },
     "execution_count": 13,
     "metadata": {},
     "output_type": "execute_result"
    },
    {
     "data": {
      "text/plain": [
       "{'neg': 0.115, 'neu': 0.757, 'pos': 0.128, 'compound': -0.2529}"
      ]
     },
     "execution_count": 13,
     "metadata": {},
     "output_type": "execute_result"
    },
    {
     "data": {
      "text/plain": [
       "{'neg': 0.15, 'neu': 0.746, 'pos': 0.104, 'compound': -0.8828}"
      ]
     },
     "execution_count": 13,
     "metadata": {},
     "output_type": "execute_result"
    },
    {
     "data": {
      "text/plain": [
       "{'neg': 0.121, 'neu': 0.806, 'pos': 0.073, 'compound': -0.8834}"
      ]
     },
     "execution_count": 13,
     "metadata": {},
     "output_type": "execute_result"
    },
    {
     "data": {
      "text/plain": [
       "{'neg': 0.096, 'neu': 0.817, 'pos': 0.087, 'compound': -0.5719}"
      ]
     },
     "execution_count": 13,
     "metadata": {},
     "output_type": "execute_result"
    },
    {
     "data": {
      "text/plain": [
       "{'neg': 0.185, 'neu': 0.735, 'pos': 0.08, 'compound': -0.9983}"
      ]
     },
     "execution_count": 13,
     "metadata": {},
     "output_type": "execute_result"
    },
    {
     "data": {
      "text/plain": [
       "{'neg': 0.158, 'neu': 0.789, 'pos': 0.052, 'compound': -0.9835}"
      ]
     },
     "execution_count": 13,
     "metadata": {},
     "output_type": "execute_result"
    },
    {
     "data": {
      "text/plain": [
       "{'neg': 0.185, 'neu': 0.765, 'pos': 0.051, 'compound': -0.9942}"
      ]
     },
     "execution_count": 13,
     "metadata": {},
     "output_type": "execute_result"
    },
    {
     "data": {
      "text/plain": [
       "{'neg': 0.11, 'neu': 0.794, 'pos': 0.096, 'compound': -0.813}"
      ]
     },
     "execution_count": 13,
     "metadata": {},
     "output_type": "execute_result"
    },
    {
     "data": {
      "text/plain": [
       "{'neg': 0.127, 'neu': 0.8, 'pos': 0.073, 'compound': -0.9771}"
      ]
     },
     "execution_count": 13,
     "metadata": {},
     "output_type": "execute_result"
    },
    {
     "data": {
      "text/plain": [
       "{'neg': 0.17, 'neu': 0.698, 'pos': 0.133, 'compound': -0.972}"
      ]
     },
     "execution_count": 13,
     "metadata": {},
     "output_type": "execute_result"
    },
    {
     "data": {
      "text/plain": [
       "{'neg': 0.067, 'neu': 0.869, 'pos': 0.064, 'compound': -0.6059}"
      ]
     },
     "execution_count": 13,
     "metadata": {},
     "output_type": "execute_result"
    },
    {
     "data": {
      "text/plain": [
       "{'neg': 0.074, 'neu': 0.825, 'pos': 0.102, 'compound': 0.9118}"
      ]
     },
     "execution_count": 13,
     "metadata": {},
     "output_type": "execute_result"
    },
    {
     "data": {
      "text/plain": [
       "{'neg': 0.181, 'neu': 0.755, 'pos': 0.064, 'compound': -0.9928}"
      ]
     },
     "execution_count": 13,
     "metadata": {},
     "output_type": "execute_result"
    },
    {
     "data": {
      "text/plain": [
       "{'neg': 0.19, 'neu': 0.745, 'pos': 0.066, 'compound': -0.9914}"
      ]
     },
     "execution_count": 13,
     "metadata": {},
     "output_type": "execute_result"
    },
    {
     "data": {
      "text/plain": [
       "{'neg': 0.095, 'neu': 0.864, 'pos': 0.041, 'compound': -0.9618}"
      ]
     },
     "execution_count": 13,
     "metadata": {},
     "output_type": "execute_result"
    },
    {
     "data": {
      "text/plain": [
       "{'neg': 0.16, 'neu': 0.804, 'pos': 0.036, 'compound': -0.9944}"
      ]
     },
     "execution_count": 13,
     "metadata": {},
     "output_type": "execute_result"
    },
    {
     "data": {
      "text/plain": [
       "{'neg': 0.234, 'neu': 0.698, 'pos': 0.068, 'compound': -0.998}"
      ]
     },
     "execution_count": 13,
     "metadata": {},
     "output_type": "execute_result"
    },
    {
     "data": {
      "text/plain": [
       "{'neg': 0.106, 'neu': 0.887, 'pos': 0.007, 'compound': -0.9565}"
      ]
     },
     "execution_count": 13,
     "metadata": {},
     "output_type": "execute_result"
    },
    {
     "data": {
      "text/plain": [
       "{'neg': 0.226, 'neu': 0.733, 'pos': 0.041, 'compound': -0.9865}"
      ]
     },
     "execution_count": 13,
     "metadata": {},
     "output_type": "execute_result"
    },
    {
     "data": {
      "text/plain": [
       "{'neg': 0.156, 'neu': 0.745, 'pos': 0.099, 'compound': -0.9674}"
      ]
     },
     "execution_count": 13,
     "metadata": {},
     "output_type": "execute_result"
    },
    {
     "data": {
      "text/plain": [
       "{'neg': 0.125, 'neu': 0.81, 'pos': 0.065, 'compound': -0.9618}"
      ]
     },
     "execution_count": 13,
     "metadata": {},
     "output_type": "execute_result"
    },
    {
     "data": {
      "text/plain": [
       "{'neg': 0.182, 'neu': 0.747, 'pos': 0.071, 'compound': -0.9887}"
      ]
     },
     "execution_count": 13,
     "metadata": {},
     "output_type": "execute_result"
    },
    {
     "data": {
      "text/plain": [
       "{'neg': 0.165, 'neu': 0.772, 'pos': 0.062, 'compound': -0.9852}"
      ]
     },
     "execution_count": 13,
     "metadata": {},
     "output_type": "execute_result"
    },
    {
     "data": {
      "text/plain": [
       "{'neg': 0.098, 'neu': 0.815, 'pos': 0.087, 'compound': -0.5994}"
      ]
     },
     "execution_count": 13,
     "metadata": {},
     "output_type": "execute_result"
    },
    {
     "data": {
      "text/plain": [
       "{'neg': 0.129, 'neu': 0.818, 'pos': 0.053, 'compound': -0.9878}"
      ]
     },
     "execution_count": 13,
     "metadata": {},
     "output_type": "execute_result"
    },
    {
     "data": {
      "text/plain": [
       "{'neg': 0.191, 'neu': 0.701, 'pos': 0.108, 'compound': -0.9758}"
      ]
     },
     "execution_count": 13,
     "metadata": {},
     "output_type": "execute_result"
    },
    {
     "data": {
      "text/plain": [
       "{'neg': 0.158, 'neu': 0.771, 'pos': 0.072, 'compound': -0.9779}"
      ]
     },
     "execution_count": 13,
     "metadata": {},
     "output_type": "execute_result"
    },
    {
     "data": {
      "text/plain": [
       "{'neg': 0.205, 'neu': 0.738, 'pos': 0.057, 'compound': -0.9803}"
      ]
     },
     "execution_count": 13,
     "metadata": {},
     "output_type": "execute_result"
    },
    {
     "data": {
      "text/plain": [
       "{'neg': 0.16, 'neu': 0.78, 'pos': 0.059, 'compound': -0.9933}"
      ]
     },
     "execution_count": 13,
     "metadata": {},
     "output_type": "execute_result"
    },
    {
     "data": {
      "text/plain": [
       "{'neg': 0.145, 'neu': 0.791, 'pos': 0.064, 'compound': -0.9652}"
      ]
     },
     "execution_count": 13,
     "metadata": {},
     "output_type": "execute_result"
    },
    {
     "data": {
      "text/plain": [
       "{'neg': 0.17, 'neu': 0.768, 'pos': 0.062, 'compound': -0.9877}"
      ]
     },
     "execution_count": 13,
     "metadata": {},
     "output_type": "execute_result"
    },
    {
     "data": {
      "text/plain": [
       "{'neg': 0.111, 'neu': 0.791, 'pos': 0.099, 'compound': -0.7096}"
      ]
     },
     "execution_count": 13,
     "metadata": {},
     "output_type": "execute_result"
    },
    {
     "data": {
      "text/plain": [
       "{'neg': 0.181, 'neu': 0.755, 'pos': 0.063, 'compound': -0.9946}"
      ]
     },
     "execution_count": 13,
     "metadata": {},
     "output_type": "execute_result"
    },
    {
     "data": {
      "text/plain": [
       "{'neg': 0.141, 'neu': 0.804, 'pos': 0.055, 'compound': -0.9875}"
      ]
     },
     "execution_count": 13,
     "metadata": {},
     "output_type": "execute_result"
    },
    {
     "data": {
      "text/plain": [
       "{'neg': 0.137, 'neu': 0.821, 'pos': 0.042, 'compound': -0.9817}"
      ]
     },
     "execution_count": 13,
     "metadata": {},
     "output_type": "execute_result"
    },
    {
     "data": {
      "text/plain": [
       "{'neg': 0.188, 'neu': 0.73, 'pos': 0.081, 'compound': -0.9867}"
      ]
     },
     "execution_count": 13,
     "metadata": {},
     "output_type": "execute_result"
    },
    {
     "data": {
      "text/plain": [
       "{'neg': 0.201, 'neu': 0.749, 'pos': 0.051, 'compound': -0.9709}"
      ]
     },
     "execution_count": 13,
     "metadata": {},
     "output_type": "execute_result"
    },
    {
     "data": {
      "text/plain": [
       "{'neg': 0.17, 'neu': 0.769, 'pos': 0.06, 'compound': -0.984}"
      ]
     },
     "execution_count": 13,
     "metadata": {},
     "output_type": "execute_result"
    },
    {
     "data": {
      "text/plain": [
       "{'neg': 0.157, 'neu': 0.761, 'pos': 0.082, 'compound': -0.994}"
      ]
     },
     "execution_count": 13,
     "metadata": {},
     "output_type": "execute_result"
    },
    {
     "data": {
      "text/plain": [
       "{'neg': 0.212, 'neu': 0.692, 'pos': 0.097, 'compound': -0.9982}"
      ]
     },
     "execution_count": 13,
     "metadata": {},
     "output_type": "execute_result"
    },
    {
     "data": {
      "text/plain": [
       "{'neg': 0.206, 'neu': 0.764, 'pos': 0.03, 'compound': -0.991}"
      ]
     },
     "execution_count": 13,
     "metadata": {},
     "output_type": "execute_result"
    },
    {
     "data": {
      "text/plain": [
       "{'neg': 0.1, 'neu': 0.832, 'pos': 0.069, 'compound': -0.836}"
      ]
     },
     "execution_count": 13,
     "metadata": {},
     "output_type": "execute_result"
    },
    {
     "data": {
      "text/plain": [
       "{'neg': 0.075, 'neu': 0.806, 'pos': 0.12, 'compound': 0.8885}"
      ]
     },
     "execution_count": 13,
     "metadata": {},
     "output_type": "execute_result"
    },
    {
     "data": {
      "text/plain": [
       "{'neg': 0.202, 'neu': 0.702, 'pos': 0.096, 'compound': -0.9871}"
      ]
     },
     "execution_count": 13,
     "metadata": {},
     "output_type": "execute_result"
    },
    {
     "data": {
      "text/plain": [
       "{'neg': 0.159, 'neu': 0.763, 'pos': 0.078, 'compound': -0.9538}"
      ]
     },
     "execution_count": 13,
     "metadata": {},
     "output_type": "execute_result"
    },
    {
     "data": {
      "text/plain": [
       "{'neg': 0.172, 'neu': 0.729, 'pos': 0.1, 'compound': -0.9612}"
      ]
     },
     "execution_count": 13,
     "metadata": {},
     "output_type": "execute_result"
    },
    {
     "data": {
      "text/plain": [
       "{'neg': 0.103, 'neu': 0.81, 'pos': 0.087, 'compound': -0.8126}"
      ]
     },
     "execution_count": 13,
     "metadata": {},
     "output_type": "execute_result"
    },
    {
     "data": {
      "text/plain": [
       "{'neg': 0.1, 'neu': 0.818, 'pos': 0.082, 'compound': -0.5719}"
      ]
     },
     "execution_count": 13,
     "metadata": {},
     "output_type": "execute_result"
    },
    {
     "data": {
      "text/plain": [
       "{'neg': 0.129, 'neu': 0.796, 'pos': 0.076, 'compound': -0.9413}"
      ]
     },
     "execution_count": 13,
     "metadata": {},
     "output_type": "execute_result"
    },
    {
     "data": {
      "text/plain": [
       "{'neg': 0.123, 'neu': 0.778, 'pos': 0.099, 'compound': -0.8481}"
      ]
     },
     "execution_count": 13,
     "metadata": {},
     "output_type": "execute_result"
    },
    {
     "data": {
      "text/plain": [
       "{'neg': 0.118, 'neu': 0.874, 'pos': 0.008, 'compound': -0.9451}"
      ]
     },
     "execution_count": 13,
     "metadata": {},
     "output_type": "execute_result"
    },
    {
     "data": {
      "text/plain": [
       "{'neg': 0.127, 'neu': 0.79, 'pos': 0.083, 'compound': -0.8481}"
      ]
     },
     "execution_count": 13,
     "metadata": {},
     "output_type": "execute_result"
    },
    {
     "data": {
      "text/plain": [
       "{'neg': 0.155, 'neu': 0.739, 'pos': 0.105, 'compound': -0.9246}"
      ]
     },
     "execution_count": 13,
     "metadata": {},
     "output_type": "execute_result"
    },
    {
     "data": {
      "text/plain": [
       "{'neg': 0.117, 'neu': 0.815, 'pos': 0.068, 'compound': -0.9042}"
      ]
     },
     "execution_count": 13,
     "metadata": {},
     "output_type": "execute_result"
    },
    {
     "data": {
      "text/plain": [
       "{'neg': 0.124, 'neu': 0.795, 'pos': 0.081, 'compound': -0.8555}"
      ]
     },
     "execution_count": 13,
     "metadata": {},
     "output_type": "execute_result"
    },
    {
     "data": {
      "text/plain": [
       "{'neg': 0.11, 'neu': 0.795, 'pos': 0.096, 'compound': -0.7181}"
      ]
     },
     "execution_count": 13,
     "metadata": {},
     "output_type": "execute_result"
    },
    {
     "data": {
      "text/plain": [
       "{'neg': 0.097, 'neu': 0.809, 'pos': 0.095, 'compound': -0.1531}"
      ]
     },
     "execution_count": 13,
     "metadata": {},
     "output_type": "execute_result"
    },
    {
     "data": {
      "text/plain": [
       "{'neg': 0.149, 'neu': 0.771, 'pos': 0.08, 'compound': -0.9944}"
      ]
     },
     "execution_count": 13,
     "metadata": {},
     "output_type": "execute_result"
    },
    {
     "data": {
      "text/plain": [
       "{'neg': 0.184, 'neu': 0.745, 'pos': 0.072, 'compound': -0.9794}"
      ]
     },
     "execution_count": 13,
     "metadata": {},
     "output_type": "execute_result"
    },
    {
     "data": {
      "text/plain": [
       "{'neg': 0.097, 'neu': 0.797, 'pos': 0.107, 'compound': -0.1531}"
      ]
     },
     "execution_count": 13,
     "metadata": {},
     "output_type": "execute_result"
    },
    {
     "data": {
      "text/plain": [
       "{'neg': 0.097, 'neu': 0.794, 'pos': 0.109, 'compound': -0.0964}"
      ]
     },
     "execution_count": 13,
     "metadata": {},
     "output_type": "execute_result"
    },
    {
     "data": {
      "text/plain": [
       "{'neg': 0.109, 'neu': 0.817, 'pos': 0.074, 'compound': -0.9201}"
      ]
     },
     "execution_count": 13,
     "metadata": {},
     "output_type": "execute_result"
    },
    {
     "data": {
      "text/plain": [
       "{'neg': 0.101, 'neu': 0.797, 'pos': 0.102, 'compound': -0.5423}"
      ]
     },
     "execution_count": 13,
     "metadata": {},
     "output_type": "execute_result"
    },
    {
     "data": {
      "text/plain": [
       "{'neg': 0.094, 'neu': 0.803, 'pos': 0.103, 'compound': -0.0258}"
      ]
     },
     "execution_count": 13,
     "metadata": {},
     "output_type": "execute_result"
    },
    {
     "data": {
      "text/plain": [
       "{'neg': 0.129, 'neu': 0.787, 'pos': 0.084, 'compound': -0.9524}"
      ]
     },
     "execution_count": 13,
     "metadata": {},
     "output_type": "execute_result"
    },
    {
     "data": {
      "text/plain": [
       "{'neg': 0.233, 'neu': 0.73, 'pos': 0.037, 'compound': -0.9887}"
      ]
     },
     "execution_count": 13,
     "metadata": {},
     "output_type": "execute_result"
    },
    {
     "data": {
      "text/plain": [
       "{'neg': 0.15, 'neu': 0.767, 'pos': 0.083, 'compound': -0.9946}"
      ]
     },
     "execution_count": 13,
     "metadata": {},
     "output_type": "execute_result"
    },
    {
     "data": {
      "text/plain": [
       "{'neg': 0.146, 'neu': 0.774, 'pos': 0.08, 'compound': -0.9849}"
      ]
     },
     "execution_count": 13,
     "metadata": {},
     "output_type": "execute_result"
    },
    {
     "data": {
      "text/plain": [
       "{'neg': 0.143, 'neu': 0.773, 'pos': 0.085, 'compound': -0.9843}"
      ]
     },
     "execution_count": 13,
     "metadata": {},
     "output_type": "execute_result"
    },
    {
     "data": {
      "text/plain": [
       "{'neg': 0.14, 'neu': 0.733, 'pos': 0.127, 'compound': -0.81}"
      ]
     },
     "execution_count": 13,
     "metadata": {},
     "output_type": "execute_result"
    },
    {
     "data": {
      "text/plain": [
       "{'neg': 0.048, 'neu': 0.776, 'pos': 0.176, 'compound': 0.9924}"
      ]
     },
     "execution_count": 13,
     "metadata": {},
     "output_type": "execute_result"
    },
    {
     "data": {
      "text/plain": [
       "{'neg': 0.21, 'neu': 0.709, 'pos': 0.082, 'compound': -0.9848}"
      ]
     },
     "execution_count": 13,
     "metadata": {},
     "output_type": "execute_result"
    },
    {
     "data": {
      "text/plain": [
       "{'neg': 0.097, 'neu': 0.829, 'pos': 0.074, 'compound': -0.802}"
      ]
     },
     "execution_count": 13,
     "metadata": {},
     "output_type": "execute_result"
    },
    {
     "data": {
      "text/plain": [
       "{'neg': 0.136, 'neu': 0.764, 'pos': 0.099, 'compound': -0.872}"
      ]
     },
     "execution_count": 13,
     "metadata": {},
     "output_type": "execute_result"
    },
    {
     "data": {
      "text/plain": [
       "{'neg': 0.172, 'neu': 0.752, 'pos': 0.076, 'compound': -0.981}"
      ]
     },
     "execution_count": 13,
     "metadata": {},
     "output_type": "execute_result"
    },
    {
     "data": {
      "text/plain": [
       "{'neg': 0.169, 'neu': 0.704, 'pos': 0.127, 'compound': -0.9612}"
      ]
     },
     "execution_count": 13,
     "metadata": {},
     "output_type": "execute_result"
    },
    {
     "data": {
      "text/plain": [
       "{'neg': 0.158, 'neu': 0.728, 'pos': 0.113, 'compound': -0.9274}"
      ]
     },
     "execution_count": 13,
     "metadata": {},
     "output_type": "execute_result"
    },
    {
     "data": {
      "text/plain": [
       "{'neg': 0.094, 'neu': 0.821, 'pos': 0.085, 'compound': -0.5994}"
      ]
     },
     "execution_count": 13,
     "metadata": {},
     "output_type": "execute_result"
    },
    {
     "data": {
      "text/plain": [
       "{'neg': 0.187, 'neu': 0.753, 'pos': 0.06, 'compound': -0.9909}"
      ]
     },
     "execution_count": 13,
     "metadata": {},
     "output_type": "execute_result"
    },
    {
     "data": {
      "text/plain": [
       "{'neg': 0.171, 'neu': 0.755, 'pos': 0.074, 'compound': -0.9724}"
      ]
     },
     "execution_count": 13,
     "metadata": {},
     "output_type": "execute_result"
    },
    {
     "data": {
      "text/plain": [
       "{'neg': 0.219, 'neu': 0.695, 'pos': 0.086, 'compound': -0.995}"
      ]
     },
     "execution_count": 13,
     "metadata": {},
     "output_type": "execute_result"
    },
    {
     "data": {
      "text/plain": [
       "{'neg': 0.202, 'neu': 0.739, 'pos': 0.059, 'compound': -0.9946}"
      ]
     },
     "execution_count": 13,
     "metadata": {},
     "output_type": "execute_result"
    },
    {
     "data": {
      "text/plain": [
       "{'neg': 0.223, 'neu': 0.697, 'pos': 0.081, 'compound': -0.9929}"
      ]
     },
     "execution_count": 13,
     "metadata": {},
     "output_type": "execute_result"
    },
    {
     "data": {
      "text/plain": [
       "{'neg': 0.047, 'neu': 0.883, 'pos': 0.07, 'compound': 0.8765}"
      ]
     },
     "execution_count": 13,
     "metadata": {},
     "output_type": "execute_result"
    },
    {
     "data": {
      "text/plain": [
       "{'neg': 0.171, 'neu': 0.781, 'pos': 0.047, 'compound': -0.9758}"
      ]
     },
     "execution_count": 13,
     "metadata": {},
     "output_type": "execute_result"
    },
    {
     "data": {
      "text/plain": [
       "{'neg': 0.212, 'neu': 0.735, 'pos': 0.052, 'compound': -0.9985}"
      ]
     },
     "execution_count": 13,
     "metadata": {},
     "output_type": "execute_result"
    },
    {
     "data": {
      "text/plain": [
       "{'neg': 0.212, 'neu': 0.728, 'pos': 0.06, 'compound': -0.9988}"
      ]
     },
     "execution_count": 13,
     "metadata": {},
     "output_type": "execute_result"
    },
    {
     "data": {
      "text/plain": [
       "{'neg': 0.155, 'neu': 0.768, 'pos': 0.077, 'compound': -0.9848}"
      ]
     },
     "execution_count": 13,
     "metadata": {},
     "output_type": "execute_result"
    },
    {
     "data": {
      "text/plain": [
       "{'neg': 0.193, 'neu': 0.723, 'pos': 0.084, 'compound': -0.993}"
      ]
     },
     "execution_count": 13,
     "metadata": {},
     "output_type": "execute_result"
    },
    {
     "data": {
      "text/plain": [
       "{'neg': 0.171, 'neu': 0.757, 'pos': 0.072, 'compound': -0.9857}"
      ]
     },
     "execution_count": 13,
     "metadata": {},
     "output_type": "execute_result"
    },
    {
     "data": {
      "text/plain": [
       "{'neg': 0.155, 'neu': 0.741, 'pos': 0.104, 'compound': -0.9775}"
      ]
     },
     "execution_count": 13,
     "metadata": {},
     "output_type": "execute_result"
    },
    {
     "data": {
      "text/plain": [
       "{'neg': 0.17, 'neu': 0.72, 'pos': 0.111, 'compound': -0.9866}"
      ]
     },
     "execution_count": 13,
     "metadata": {},
     "output_type": "execute_result"
    },
    {
     "data": {
      "text/plain": [
       "{'neg': 0.173, 'neu': 0.761, 'pos': 0.067, 'compound': -0.9917}"
      ]
     },
     "execution_count": 13,
     "metadata": {},
     "output_type": "execute_result"
    },
    {
     "data": {
      "text/plain": [
       "{'neg': 0.214, 'neu': 0.702, 'pos': 0.084, 'compound': -0.995}"
      ]
     },
     "execution_count": 13,
     "metadata": {},
     "output_type": "execute_result"
    },
    {
     "data": {
      "text/plain": [
       "{'neg': 0.155, 'neu': 0.749, 'pos': 0.097, 'compound': -0.9691}"
      ]
     },
     "execution_count": 13,
     "metadata": {},
     "output_type": "execute_result"
    },
    {
     "data": {
      "text/plain": [
       "{'neg': 0.141, 'neu': 0.761, 'pos': 0.098, 'compound': -0.9287}"
      ]
     },
     "execution_count": 13,
     "metadata": {},
     "output_type": "execute_result"
    },
    {
     "data": {
      "text/plain": [
       "{'neg': 0.132, 'neu': 0.811, 'pos': 0.057, 'compound': -0.9595}"
      ]
     },
     "execution_count": 13,
     "metadata": {},
     "output_type": "execute_result"
    },
    {
     "data": {
      "text/plain": [
       "{'neg': 0.17, 'neu': 0.765, 'pos': 0.065, 'compound': -0.9786}"
      ]
     },
     "execution_count": 13,
     "metadata": {},
     "output_type": "execute_result"
    },
    {
     "data": {
      "text/plain": [
       "{'neg': 0.095, 'neu': 0.894, 'pos': 0.01, 'compound': -0.946}"
      ]
     },
     "execution_count": 13,
     "metadata": {},
     "output_type": "execute_result"
    },
    {
     "data": {
      "text/plain": [
       "{'neg': 0.127, 'neu': 0.809, 'pos': 0.064, 'compound': -0.9468}"
      ]
     },
     "execution_count": 13,
     "metadata": {},
     "output_type": "execute_result"
    },
    {
     "data": {
      "text/plain": [
       "{'neg': 0.131, 'neu': 0.806, 'pos': 0.063, 'compound': -0.9607}"
      ]
     },
     "execution_count": 13,
     "metadata": {},
     "output_type": "execute_result"
    },
    {
     "data": {
      "text/plain": [
       "{'neg': 0.097, 'neu': 0.841, 'pos': 0.062, 'compound': -0.7906}"
      ]
     },
     "execution_count": 13,
     "metadata": {},
     "output_type": "execute_result"
    },
    {
     "data": {
      "text/plain": [
       "{'neg': 0.137, 'neu': 0.801, 'pos': 0.062, 'compound': -0.9538}"
      ]
     },
     "execution_count": 13,
     "metadata": {},
     "output_type": "execute_result"
    },
    {
     "data": {
      "text/plain": [
       "{'neg': 0.128, 'neu': 0.792, 'pos': 0.08, 'compound': -0.8658}"
      ]
     },
     "execution_count": 13,
     "metadata": {},
     "output_type": "execute_result"
    },
    {
     "data": {
      "text/plain": [
       "{'neg': 0.121, 'neu': 0.786, 'pos': 0.093, 'compound': -0.8074}"
      ]
     },
     "execution_count": 13,
     "metadata": {},
     "output_type": "execute_result"
    },
    {
     "data": {
      "text/plain": [
       "{'neg': 0.178, 'neu': 0.756, 'pos': 0.066, 'compound': -0.9824}"
      ]
     },
     "execution_count": 13,
     "metadata": {},
     "output_type": "execute_result"
    },
    {
     "data": {
      "text/plain": [
       "{'neg': 0.172, 'neu': 0.783, 'pos': 0.045, 'compound': -0.9936}"
      ]
     },
     "execution_count": 13,
     "metadata": {},
     "output_type": "execute_result"
    },
    {
     "data": {
      "text/plain": [
       "{'neg': 0.16, 'neu': 0.751, 'pos': 0.089, 'compound': -0.9889}"
      ]
     },
     "execution_count": 13,
     "metadata": {},
     "output_type": "execute_result"
    },
    {
     "data": {
      "text/plain": [
       "{'neg': 0.204, 'neu': 0.708, 'pos': 0.089, 'compound': -0.9974}"
      ]
     },
     "execution_count": 13,
     "metadata": {},
     "output_type": "execute_result"
    },
    {
     "data": {
      "text/plain": [
       "{'neg': 0.17, 'neu': 0.719, 'pos': 0.111, 'compound': -0.9932}"
      ]
     },
     "execution_count": 13,
     "metadata": {},
     "output_type": "execute_result"
    },
    {
     "data": {
      "text/plain": [
       "{'neg': 0.22, 'neu': 0.73, 'pos': 0.051, 'compound': -0.9905}"
      ]
     },
     "execution_count": 13,
     "metadata": {},
     "output_type": "execute_result"
    },
    {
     "data": {
      "text/plain": [
       "{'neg': 0.177, 'neu': 0.786, 'pos': 0.036, 'compound': -0.9941}"
      ]
     },
     "execution_count": 13,
     "metadata": {},
     "output_type": "execute_result"
    },
    {
     "data": {
      "text/plain": [
       "{'neg': 0.135, 'neu': 0.768, 'pos': 0.097, 'compound': -0.9389}"
      ]
     },
     "execution_count": 13,
     "metadata": {},
     "output_type": "execute_result"
    },
    {
     "data": {
      "text/plain": [
       "{'neg': 0.139, 'neu': 0.779, 'pos': 0.082, 'compound': -0.9313}"
      ]
     },
     "execution_count": 13,
     "metadata": {},
     "output_type": "execute_result"
    },
    {
     "data": {
      "text/plain": [
       "{'neg': 0.196, 'neu': 0.74, 'pos': 0.064, 'compound': -0.9766}"
      ]
     },
     "execution_count": 13,
     "metadata": {},
     "output_type": "execute_result"
    },
    {
     "data": {
      "text/plain": [
       "{'neg': 0.154, 'neu': 0.775, 'pos': 0.071, 'compound': -0.8225}"
      ]
     },
     "execution_count": 13,
     "metadata": {},
     "output_type": "execute_result"
    },
    {
     "data": {
      "text/plain": [
       "{'neg': 0.174, 'neu': 0.747, 'pos': 0.079, 'compound': -0.9769}"
      ]
     },
     "execution_count": 13,
     "metadata": {},
     "output_type": "execute_result"
    },
    {
     "data": {
      "text/plain": [
       "{'neg': 0.088, 'neu': 0.858, 'pos': 0.054, 'compound': -0.8809}"
      ]
     },
     "execution_count": 13,
     "metadata": {},
     "output_type": "execute_result"
    },
    {
     "data": {
      "text/plain": [
       "{'neg': 0.176, 'neu': 0.75, 'pos': 0.075, 'compound': -0.9803}"
      ]
     },
     "execution_count": 13,
     "metadata": {},
     "output_type": "execute_result"
    },
    {
     "data": {
      "text/plain": [
       "{'neg': 0.128, 'neu': 0.778, 'pos': 0.094, 'compound': -0.9595}"
      ]
     },
     "execution_count": 13,
     "metadata": {},
     "output_type": "execute_result"
    },
    {
     "data": {
      "text/plain": [
       "{'neg': 0.125, 'neu': 0.783, 'pos': 0.092, 'compound': -0.9008}"
      ]
     },
     "execution_count": 13,
     "metadata": {},
     "output_type": "execute_result"
    },
    {
     "data": {
      "text/plain": [
       "{'neg': 0.171, 'neu': 0.766, 'pos': 0.063, 'compound': -0.9884}"
      ]
     },
     "execution_count": 13,
     "metadata": {},
     "output_type": "execute_result"
    },
    {
     "data": {
      "text/plain": [
       "{'neg': 0.167, 'neu': 0.733, 'pos': 0.1, 'compound': -0.9674}"
      ]
     },
     "execution_count": 13,
     "metadata": {},
     "output_type": "execute_result"
    },
    {
     "data": {
      "text/plain": [
       "{'neg': 0.154, 'neu': 0.764, 'pos': 0.082, 'compound': -0.9967}"
      ]
     },
     "execution_count": 13,
     "metadata": {},
     "output_type": "execute_result"
    },
    {
     "data": {
      "text/plain": [
       "{'neg': 0.114, 'neu': 0.812, 'pos': 0.074, 'compound': -0.9042}"
      ]
     },
     "execution_count": 13,
     "metadata": {},
     "output_type": "execute_result"
    },
    {
     "data": {
      "text/plain": [
       "{'neg': 0.12, 'neu': 0.85, 'pos': 0.03, 'compound': -0.9823}"
      ]
     },
     "execution_count": 13,
     "metadata": {},
     "output_type": "execute_result"
    },
    {
     "data": {
      "text/plain": [
       "{'neg': 0.119, 'neu': 0.815, 'pos': 0.065, 'compound': -0.8846}"
      ]
     },
     "execution_count": 13,
     "metadata": {},
     "output_type": "execute_result"
    },
    {
     "data": {
      "text/plain": [
       "{'neg': 0.092, 'neu': 0.82, 'pos': 0.088, 'compound': -0.128}"
      ]
     },
     "execution_count": 13,
     "metadata": {},
     "output_type": "execute_result"
    },
    {
     "data": {
      "text/plain": [
       "{'neg': 0.16, 'neu': 0.714, 'pos': 0.126, 'compound': -0.922}"
      ]
     },
     "execution_count": 13,
     "metadata": {},
     "output_type": "execute_result"
    },
    {
     "data": {
      "text/plain": [
       "{'neg': 0.197, 'neu': 0.751, 'pos': 0.053, 'compound': -0.9911}"
      ]
     },
     "execution_count": 13,
     "metadata": {},
     "output_type": "execute_result"
    },
    {
     "data": {
      "text/plain": [
       "{'neg': 0.141, 'neu': 0.764, 'pos': 0.096, 'compound': -0.986}"
      ]
     },
     "execution_count": 13,
     "metadata": {},
     "output_type": "execute_result"
    },
    {
     "data": {
      "text/plain": [
       "{'neg': 0.127, 'neu': 0.796, 'pos': 0.078, 'compound': -0.9042}"
      ]
     },
     "execution_count": 13,
     "metadata": {},
     "output_type": "execute_result"
    },
    {
     "data": {
      "text/plain": [
       "{'neg': 0.108, 'neu': 0.819, 'pos': 0.073, 'compound': -0.8519}"
      ]
     },
     "execution_count": 13,
     "metadata": {},
     "output_type": "execute_result"
    },
    {
     "data": {
      "text/plain": [
       "{'neg': 0.165, 'neu': 0.748, 'pos': 0.087, 'compound': -0.9908}"
      ]
     },
     "execution_count": 13,
     "metadata": {},
     "output_type": "execute_result"
    },
    {
     "data": {
      "text/plain": [
       "{'neg': 0.158, 'neu': 0.776, 'pos': 0.066, 'compound': -0.9824}"
      ]
     },
     "execution_count": 13,
     "metadata": {},
     "output_type": "execute_result"
    },
    {
     "data": {
      "text/plain": [
       "{'neg': 0.14, 'neu': 0.775, 'pos': 0.085, 'compound': -0.9231}"
      ]
     },
     "execution_count": 13,
     "metadata": {},
     "output_type": "execute_result"
    },
    {
     "data": {
      "text/plain": [
       "{'neg': 0.115, 'neu': 0.772, 'pos': 0.113, 'compound': -0.3612}"
      ]
     },
     "execution_count": 13,
     "metadata": {},
     "output_type": "execute_result"
    },
    {
     "data": {
      "text/plain": [
       "{'neg': 0.18, 'neu': 0.747, 'pos': 0.073, 'compound': -0.9468}"
      ]
     },
     "execution_count": 13,
     "metadata": {},
     "output_type": "execute_result"
    },
    {
     "data": {
      "text/plain": [
       "{'neg': 0.141, 'neu': 0.825, 'pos': 0.034, 'compound': -0.9893}"
      ]
     },
     "execution_count": 13,
     "metadata": {},
     "output_type": "execute_result"
    },
    {
     "data": {
      "text/plain": [
       "{'neg': 0.163, 'neu': 0.809, 'pos': 0.028, 'compound': -0.9932}"
      ]
     },
     "execution_count": 13,
     "metadata": {},
     "output_type": "execute_result"
    },
    {
     "data": {
      "text/plain": [
       "{'neg': 0.089, 'neu': 0.798, 'pos': 0.112, 'compound': 0.5423}"
      ]
     },
     "execution_count": 13,
     "metadata": {},
     "output_type": "execute_result"
    },
    {
     "data": {
      "text/plain": [
       "{'neg': 0.118, 'neu': 0.79, 'pos': 0.092, 'compound': -0.9118}"
      ]
     },
     "execution_count": 13,
     "metadata": {},
     "output_type": "execute_result"
    },
    {
     "data": {
      "text/plain": [
       "{'neg': 0.13, 'neu': 0.825, 'pos': 0.045, 'compound': -0.9853}"
      ]
     },
     "execution_count": 13,
     "metadata": {},
     "output_type": "execute_result"
    },
    {
     "data": {
      "text/plain": [
       "{'neg': 0.125, 'neu': 0.819, 'pos': 0.056, 'compound': -0.9803}"
      ]
     },
     "execution_count": 13,
     "metadata": {},
     "output_type": "execute_result"
    },
    {
     "data": {
      "text/plain": [
       "{'neg': 0.221, 'neu': 0.744, 'pos': 0.034, 'compound': -0.9912}"
      ]
     },
     "execution_count": 13,
     "metadata": {},
     "output_type": "execute_result"
    },
    {
     "data": {
      "text/plain": [
       "{'neg': 0.201, 'neu': 0.772, 'pos': 0.027, 'compound': -0.9924}"
      ]
     },
     "execution_count": 13,
     "metadata": {},
     "output_type": "execute_result"
    },
    {
     "data": {
      "text/plain": [
       "{'neg': 0.169, 'neu': 0.763, 'pos': 0.068, 'compound': -0.9806}"
      ]
     },
     "execution_count": 13,
     "metadata": {},
     "output_type": "execute_result"
    },
    {
     "data": {
      "text/plain": [
       "{'neg': 0.138, 'neu': 0.81, 'pos': 0.052, 'compound': -0.9891}"
      ]
     },
     "execution_count": 13,
     "metadata": {},
     "output_type": "execute_result"
    },
    {
     "data": {
      "text/plain": [
       "{'neg': 0.0, 'neu': 0.95, 'pos': 0.05, 'compound': 0.8481}"
      ]
     },
     "execution_count": 13,
     "metadata": {},
     "output_type": "execute_result"
    },
    {
     "data": {
      "text/plain": [
       "{'neg': 0.108, 'neu': 0.813, 'pos': 0.079, 'compound': -0.9274}"
      ]
     },
     "execution_count": 13,
     "metadata": {},
     "output_type": "execute_result"
    },
    {
     "data": {
      "text/plain": [
       "{'neg': 0.109, 'neu': 0.808, 'pos': 0.082, 'compound': -0.8957}"
      ]
     },
     "execution_count": 13,
     "metadata": {},
     "output_type": "execute_result"
    },
    {
     "data": {
      "text/plain": [
       "{'neg': 0.118, 'neu': 0.828, 'pos': 0.054, 'compound': -0.9632}"
      ]
     },
     "execution_count": 13,
     "metadata": {},
     "output_type": "execute_result"
    },
    {
     "data": {
      "text/plain": [
       "{'neg': 0.133, 'neu': 0.819, 'pos': 0.048, 'compound': -0.9787}"
      ]
     },
     "execution_count": 13,
     "metadata": {},
     "output_type": "execute_result"
    },
    {
     "data": {
      "text/plain": [
       "{'neg': 0.104, 'neu': 0.834, 'pos': 0.063, 'compound': -0.8834}"
      ]
     },
     "execution_count": 13,
     "metadata": {},
     "output_type": "execute_result"
    },
    {
     "data": {
      "text/plain": [
       "{'neg': 0.109, 'neu': 0.813, 'pos': 0.078, 'compound': -0.6908}"
      ]
     },
     "execution_count": 13,
     "metadata": {},
     "output_type": "execute_result"
    },
    {
     "data": {
      "text/plain": [
       "{'neg': 0.211, 'neu': 0.7, 'pos': 0.089, 'compound': -0.9962}"
      ]
     },
     "execution_count": 13,
     "metadata": {},
     "output_type": "execute_result"
    },
    {
     "data": {
      "text/plain": [
       "{'neg': 0.182, 'neu': 0.759, 'pos': 0.059, 'compound': -0.9975}"
      ]
     },
     "execution_count": 13,
     "metadata": {},
     "output_type": "execute_result"
    },
    {
     "data": {
      "text/plain": [
       "{'neg': 0.176, 'neu': 0.766, 'pos': 0.058, 'compound': -0.9847}"
      ]
     },
     "execution_count": 13,
     "metadata": {},
     "output_type": "execute_result"
    },
    {
     "data": {
      "text/plain": [
       "{'neg': 0.164, 'neu': 0.767, 'pos': 0.069, 'compound': -0.9953}"
      ]
     },
     "execution_count": 13,
     "metadata": {},
     "output_type": "execute_result"
    },
    {
     "data": {
      "text/plain": [
       "{'neg': 0.172, 'neu': 0.759, 'pos': 0.069, 'compound': -0.9808}"
      ]
     },
     "execution_count": 13,
     "metadata": {},
     "output_type": "execute_result"
    },
    {
     "data": {
      "text/plain": [
       "{'neg': 0.121, 'neu': 0.783, 'pos': 0.096, 'compound': -0.8429}"
      ]
     },
     "execution_count": 13,
     "metadata": {},
     "output_type": "execute_result"
    },
    {
     "data": {
      "text/plain": [
       "{'neg': 0.282, 'neu': 0.685, 'pos': 0.033, 'compound': -0.9964}"
      ]
     },
     "execution_count": 13,
     "metadata": {},
     "output_type": "execute_result"
    },
    {
     "data": {
      "text/plain": [
       "{'neg': 0.198, 'neu': 0.739, 'pos': 0.063, 'compound': -0.9987}"
      ]
     },
     "execution_count": 13,
     "metadata": {},
     "output_type": "execute_result"
    },
    {
     "data": {
      "text/plain": [
       "{'neg': 0.167, 'neu': 0.759, 'pos': 0.075, 'compound': -0.9979}"
      ]
     },
     "execution_count": 13,
     "metadata": {},
     "output_type": "execute_result"
    },
    {
     "data": {
      "text/plain": [
       "{'neg': 0.257, 'neu': 0.668, 'pos': 0.075, 'compound': -0.9939}"
      ]
     },
     "execution_count": 13,
     "metadata": {},
     "output_type": "execute_result"
    },
    {
     "data": {
      "text/plain": [
       "{'neg': 0.247, 'neu': 0.705, 'pos': 0.047, 'compound': -0.9915}"
      ]
     },
     "execution_count": 13,
     "metadata": {},
     "output_type": "execute_result"
    },
    {
     "data": {
      "text/plain": [
       "{'neg': 0.15, 'neu': 0.786, 'pos': 0.064, 'compound': -0.9783}"
      ]
     },
     "execution_count": 13,
     "metadata": {},
     "output_type": "execute_result"
    },
    {
     "data": {
      "text/plain": [
       "{'neg': 0.186, 'neu': 0.721, 'pos': 0.093, 'compound': -0.992}"
      ]
     },
     "execution_count": 13,
     "metadata": {},
     "output_type": "execute_result"
    },
    {
     "data": {
      "text/plain": [
       "{'neg': 0.1, 'neu': 0.827, 'pos': 0.074, 'compound': -0.9501}"
      ]
     },
     "execution_count": 13,
     "metadata": {},
     "output_type": "execute_result"
    },
    {
     "data": {
      "text/plain": [
       "{'neg': 0.102, 'neu': 0.778, 'pos': 0.12, 'compound': 0.7425}"
      ]
     },
     "execution_count": 13,
     "metadata": {},
     "output_type": "execute_result"
    },
    {
     "data": {
      "text/plain": [
       "{'neg': 0.012, 'neu': 0.87, 'pos': 0.118, 'compound': 0.9957}"
      ]
     },
     "execution_count": 13,
     "metadata": {},
     "output_type": "execute_result"
    },
    {
     "data": {
      "text/plain": [
       "{'neg': 0.02, 'neu': 0.861, 'pos': 0.119, 'compound': 0.9916}"
      ]
     },
     "execution_count": 13,
     "metadata": {},
     "output_type": "execute_result"
    },
    {
     "data": {
      "text/plain": [
       "{'neg': 0.039, 'neu': 0.932, 'pos': 0.028, 'compound': -0.3549}"
      ]
     },
     "execution_count": 13,
     "metadata": {},
     "output_type": "execute_result"
    },
    {
     "data": {
      "text/plain": [
       "{'neg': 0.138, 'neu': 0.765, 'pos': 0.097, 'compound': -0.9623}"
      ]
     },
     "execution_count": 13,
     "metadata": {},
     "output_type": "execute_result"
    },
    {
     "data": {
      "text/plain": [
       "{'neg': 0.0, 'neu': 0.892, 'pos': 0.108, 'compound': 0.7717}"
      ]
     },
     "execution_count": 13,
     "metadata": {},
     "output_type": "execute_result"
    },
    {
     "data": {
      "text/plain": [
       "{'neg': 0.0, 'neu': 0.879, 'pos': 0.121, 'compound': 0.8519}"
      ]
     },
     "execution_count": 13,
     "metadata": {},
     "output_type": "execute_result"
    },
    {
     "data": {
      "text/plain": [
       "{'neg': 0.031, 'neu': 0.752, 'pos': 0.217, 'compound': 0.9811}"
      ]
     },
     "execution_count": 13,
     "metadata": {},
     "output_type": "execute_result"
    },
    {
     "data": {
      "text/plain": [
       "{'neg': 0.08, 'neu': 0.851, 'pos': 0.069, 'compound': -0.3612}"
      ]
     },
     "execution_count": 13,
     "metadata": {},
     "output_type": "execute_result"
    },
    {
     "data": {
      "text/plain": [
       "{'neg': 0.0, 'neu': 0.94, 'pos': 0.06, 'compound': 0.7003}"
      ]
     },
     "execution_count": 13,
     "metadata": {},
     "output_type": "execute_result"
    },
    {
     "data": {
      "text/plain": [
       "{'neg': 0.22, 'neu': 0.733, 'pos': 0.047, 'compound': -0.9723}"
      ]
     },
     "execution_count": 13,
     "metadata": {},
     "output_type": "execute_result"
    },
    {
     "data": {
      "text/plain": [
       "{'neg': 0.148, 'neu': 0.774, 'pos': 0.078, 'compound': -0.9777}"
      ]
     },
     "execution_count": 13,
     "metadata": {},
     "output_type": "execute_result"
    },
    {
     "data": {
      "text/plain": [
       "{'neg': 0.156, 'neu': 0.751, 'pos': 0.093, 'compound': -0.9804}"
      ]
     },
     "execution_count": 13,
     "metadata": {},
     "output_type": "execute_result"
    },
    {
     "data": {
      "text/plain": [
       "{'neg': 0.199, 'neu': 0.738, 'pos': 0.063, 'compound': -0.9947}"
      ]
     },
     "execution_count": 13,
     "metadata": {},
     "output_type": "execute_result"
    },
    {
     "data": {
      "text/plain": [
       "{'neg': 0.026, 'neu': 0.848, 'pos': 0.126, 'compound': 0.9828}"
      ]
     },
     "execution_count": 13,
     "metadata": {},
     "output_type": "execute_result"
    },
    {
     "data": {
      "text/plain": [
       "{'neg': 0.145, 'neu': 0.786, 'pos': 0.069, 'compound': -0.9795}"
      ]
     },
     "execution_count": 13,
     "metadata": {},
     "output_type": "execute_result"
    },
    {
     "data": {
      "text/plain": [
       "{'neg': 0.119, 'neu': 0.823, 'pos': 0.058, 'compound': -0.9403}"
      ]
     },
     "execution_count": 13,
     "metadata": {},
     "output_type": "execute_result"
    },
    {
     "data": {
      "text/plain": [
       "{'neg': 0.12, 'neu': 0.747, 'pos': 0.133, 'compound': 0.5996}"
      ]
     },
     "execution_count": 13,
     "metadata": {},
     "output_type": "execute_result"
    },
    {
     "data": {
      "text/plain": [
       "{'neg': 0.254, 'neu': 0.676, 'pos': 0.07, 'compound': -0.9978}"
      ]
     },
     "execution_count": 13,
     "metadata": {},
     "output_type": "execute_result"
    },
    {
     "data": {
      "text/plain": [
       "{'neg': 0.126, 'neu': 0.818, 'pos': 0.056, 'compound': -0.9709}"
      ]
     },
     "execution_count": 13,
     "metadata": {},
     "output_type": "execute_result"
    },
    {
     "data": {
      "text/plain": [
       "{'neg': 0.16, 'neu': 0.706, 'pos': 0.133, 'compound': -0.9404}"
      ]
     },
     "execution_count": 13,
     "metadata": {},
     "output_type": "execute_result"
    },
    {
     "data": {
      "text/plain": [
       "{'neg': 0.186, 'neu': 0.695, 'pos': 0.119, 'compound': -0.9659}"
      ]
     },
     "execution_count": 13,
     "metadata": {},
     "output_type": "execute_result"
    },
    {
     "data": {
      "text/plain": [
       "{'neg': 0.283, 'neu': 0.652, 'pos': 0.065, 'compound': -0.999}"
      ]
     },
     "execution_count": 13,
     "metadata": {},
     "output_type": "execute_result"
    },
    {
     "data": {
      "text/plain": [
       "{'neg': 0.231, 'neu': 0.671, 'pos': 0.097, 'compound': -0.9971}"
      ]
     },
     "execution_count": 13,
     "metadata": {},
     "output_type": "execute_result"
    },
    {
     "data": {
      "text/plain": [
       "{'neg': 0.215, 'neu': 0.73, 'pos': 0.055, 'compound': -0.9924}"
      ]
     },
     "execution_count": 13,
     "metadata": {},
     "output_type": "execute_result"
    },
    {
     "data": {
      "text/plain": [
       "{'neg': 0.183, 'neu': 0.76, 'pos': 0.057, 'compound': -0.9969}"
      ]
     },
     "execution_count": 13,
     "metadata": {},
     "output_type": "execute_result"
    },
    {
     "data": {
      "text/plain": [
       "{'neg': 0.137, 'neu': 0.813, 'pos': 0.05, 'compound': -0.9884}"
      ]
     },
     "execution_count": 13,
     "metadata": {},
     "output_type": "execute_result"
    },
    {
     "data": {
      "text/plain": [
       "{'neg': 0.134, 'neu': 0.814, 'pos': 0.052, 'compound': -0.9871}"
      ]
     },
     "execution_count": 13,
     "metadata": {},
     "output_type": "execute_result"
    },
    {
     "data": {
      "text/plain": [
       "{'neg': 0.189, 'neu': 0.725, 'pos': 0.086, 'compound': -0.9833}"
      ]
     },
     "execution_count": 13,
     "metadata": {},
     "output_type": "execute_result"
    },
    {
     "data": {
      "text/plain": [
       "{'neg': 0.195, 'neu': 0.761, 'pos': 0.044, 'compound': -0.9965}"
      ]
     },
     "execution_count": 13,
     "metadata": {},
     "output_type": "execute_result"
    },
    {
     "data": {
      "text/plain": [
       "{'neg': 0.199, 'neu': 0.698, 'pos': 0.103, 'compound': -0.9936}"
      ]
     },
     "execution_count": 13,
     "metadata": {},
     "output_type": "execute_result"
    },
    {
     "data": {
      "text/plain": [
       "{'neg': 0.134, 'neu': 0.761, 'pos': 0.106, 'compound': -0.9274}"
      ]
     },
     "execution_count": 13,
     "metadata": {},
     "output_type": "execute_result"
    },
    {
     "data": {
      "text/plain": [
       "{'neg': 0.148, 'neu': 0.81, 'pos': 0.042, 'compound': -0.9747}"
      ]
     },
     "execution_count": 13,
     "metadata": {},
     "output_type": "execute_result"
    },
    {
     "data": {
      "text/plain": [
       "{'neg': 0.19, 'neu': 0.737, 'pos': 0.073, 'compound': -0.9919}"
      ]
     },
     "execution_count": 13,
     "metadata": {},
     "output_type": "execute_result"
    },
    {
     "data": {
      "text/plain": [
       "{'neg': 0.143, 'neu': 0.76, 'pos': 0.096, 'compound': -0.9538}"
      ]
     },
     "execution_count": 13,
     "metadata": {},
     "output_type": "execute_result"
    },
    {
     "data": {
      "text/plain": [
       "{'neg': 0.197, 'neu': 0.758, 'pos': 0.045, 'compound': -0.9968}"
      ]
     },
     "execution_count": 13,
     "metadata": {},
     "output_type": "execute_result"
    },
    {
     "data": {
      "text/plain": [
       "{'neg': 0.125, 'neu': 0.81, 'pos': 0.066, 'compound': -0.9451}"
      ]
     },
     "execution_count": 13,
     "metadata": {},
     "output_type": "execute_result"
    },
    {
     "data": {
      "text/plain": [
       "{'neg': 0.194, 'neu': 0.777, 'pos': 0.029, 'compound': -0.9953}"
      ]
     },
     "execution_count": 13,
     "metadata": {},
     "output_type": "execute_result"
    },
    {
     "data": {
      "text/plain": [
       "{'neg': 0.125, 'neu': 0.752, 'pos': 0.123, 'compound': -0.5817}"
      ]
     },
     "execution_count": 13,
     "metadata": {},
     "output_type": "execute_result"
    },
    {
     "data": {
      "text/plain": [
       "{'neg': 0.121, 'neu': 0.746, 'pos': 0.133, 'compound': 0.9003}"
      ]
     },
     "execution_count": 13,
     "metadata": {},
     "output_type": "execute_result"
    },
    {
     "data": {
      "text/plain": [
       "{'neg': 0.24, 'neu': 0.712, 'pos': 0.048, 'compound': -0.9978}"
      ]
     },
     "execution_count": 13,
     "metadata": {},
     "output_type": "execute_result"
    },
    {
     "data": {
      "text/plain": [
       "{'neg': 0.177, 'neu': 0.78, 'pos': 0.043, 'compound': -0.9652}"
      ]
     },
     "execution_count": 13,
     "metadata": {},
     "output_type": "execute_result"
    },
    {
     "data": {
      "text/plain": [
       "{'neg': 0.159, 'neu': 0.749, 'pos': 0.092, 'compound': -0.9974}"
      ]
     },
     "execution_count": 13,
     "metadata": {},
     "output_type": "execute_result"
    },
    {
     "data": {
      "text/plain": [
       "{'neg': 0.198, 'neu': 0.737, 'pos': 0.066, 'compound': -0.9992}"
      ]
     },
     "execution_count": 13,
     "metadata": {},
     "output_type": "execute_result"
    },
    {
     "data": {
      "text/plain": [
       "{'neg': 0.162, 'neu': 0.758, 'pos': 0.08, 'compound': -0.9981}"
      ]
     },
     "execution_count": 13,
     "metadata": {},
     "output_type": "execute_result"
    },
    {
     "data": {
      "text/plain": [
       "{'neg': 0.221, 'neu': 0.764, 'pos': 0.015, 'compound': -0.9961}"
      ]
     },
     "execution_count": 13,
     "metadata": {},
     "output_type": "execute_result"
    },
    {
     "data": {
      "text/plain": [
       "{'neg': 0.155, 'neu': 0.767, 'pos': 0.078, 'compound': -0.9382}"
      ]
     },
     "execution_count": 13,
     "metadata": {},
     "output_type": "execute_result"
    },
    {
     "data": {
      "text/plain": [
       "{'neg': 0.155, 'neu': 0.807, 'pos': 0.038, 'compound': -0.9847}"
      ]
     },
     "execution_count": 13,
     "metadata": {},
     "output_type": "execute_result"
    },
    {
     "data": {
      "text/plain": [
       "{'neg': 0.164, 'neu': 0.748, 'pos': 0.087, 'compound': -0.9967}"
      ]
     },
     "execution_count": 13,
     "metadata": {},
     "output_type": "execute_result"
    },
    {
     "data": {
      "text/plain": [
       "{'neg': 0.165, 'neu': 0.733, 'pos': 0.102, 'compound': -0.974}"
      ]
     },
     "execution_count": 13,
     "metadata": {},
     "output_type": "execute_result"
    },
    {
     "data": {
      "text/plain": [
       "{'neg': 0.15, 'neu': 0.789, 'pos': 0.061, 'compound': -0.9805}"
      ]
     },
     "execution_count": 13,
     "metadata": {},
     "output_type": "execute_result"
    },
    {
     "data": {
      "text/plain": [
       "{'neg': 0.198, 'neu': 0.744, 'pos': 0.059, 'compound': -0.9973}"
      ]
     },
     "execution_count": 13,
     "metadata": {},
     "output_type": "execute_result"
    },
    {
     "data": {
      "text/plain": [
       "{'neg': 0.12, 'neu': 0.846, 'pos': 0.034, 'compound': -0.992}"
      ]
     },
     "execution_count": 13,
     "metadata": {},
     "output_type": "execute_result"
    },
    {
     "data": {
      "text/plain": [
       "{'neg': 0.147, 'neu': 0.805, 'pos': 0.048, 'compound': -0.9792}"
      ]
     },
     "execution_count": 13,
     "metadata": {},
     "output_type": "execute_result"
    },
    {
     "data": {
      "text/plain": [
       "{'neg': 0.185, 'neu': 0.757, 'pos': 0.058, 'compound': -0.991}"
      ]
     },
     "execution_count": 13,
     "metadata": {},
     "output_type": "execute_result"
    },
    {
     "data": {
      "text/plain": [
       "{'neg': 0.114, 'neu': 0.861, 'pos': 0.026, 'compound': -0.9393}"
      ]
     },
     "execution_count": 13,
     "metadata": {},
     "output_type": "execute_result"
    },
    {
     "data": {
      "text/plain": [
       "{'neg': 0.161, 'neu': 0.806, 'pos': 0.033, 'compound': -0.9951}"
      ]
     },
     "execution_count": 13,
     "metadata": {},
     "output_type": "execute_result"
    },
    {
     "data": {
      "text/plain": [
       "{'neg': 0.17, 'neu': 0.759, 'pos': 0.071, 'compound': -0.9848}"
      ]
     },
     "execution_count": 13,
     "metadata": {},
     "output_type": "execute_result"
    },
    {
     "data": {
      "text/plain": [
       "{'neg': 0.189, 'neu': 0.725, 'pos': 0.086, 'compound': -0.9858}"
      ]
     },
     "execution_count": 13,
     "metadata": {},
     "output_type": "execute_result"
    },
    {
     "data": {
      "text/plain": [
       "{'neg': 0.213, 'neu': 0.724, 'pos': 0.063, 'compound': -0.9951}"
      ]
     },
     "execution_count": 13,
     "metadata": {},
     "output_type": "execute_result"
    },
    {
     "data": {
      "text/plain": [
       "{'neg': 0.297, 'neu': 0.67, 'pos': 0.033, 'compound': -0.9964}"
      ]
     },
     "execution_count": 13,
     "metadata": {},
     "output_type": "execute_result"
    },
    {
     "data": {
      "text/plain": [
       "{'neg': 0.187, 'neu': 0.767, 'pos': 0.046, 'compound': -0.9652}"
      ]
     },
     "execution_count": 13,
     "metadata": {},
     "output_type": "execute_result"
    },
    {
     "data": {
      "text/plain": [
       "{'neg': 0.139, 'neu': 0.804, 'pos': 0.057, 'compound': -0.9949}"
      ]
     },
     "execution_count": 13,
     "metadata": {},
     "output_type": "execute_result"
    },
    {
     "data": {
      "text/plain": [
       "{'neg': 0.118, 'neu': 0.82, 'pos': 0.062, 'compound': -0.9776}"
      ]
     },
     "execution_count": 13,
     "metadata": {},
     "output_type": "execute_result"
    },
    {
     "data": {
      "text/plain": [
       "{'neg': 0.185, 'neu': 0.74, 'pos': 0.075, 'compound': -0.9886}"
      ]
     },
     "execution_count": 13,
     "metadata": {},
     "output_type": "execute_result"
    },
    {
     "data": {
      "text/plain": [
       "{'neg': 0.266, 'neu': 0.684, 'pos': 0.051, 'compound': -0.9989}"
      ]
     },
     "execution_count": 13,
     "metadata": {},
     "output_type": "execute_result"
    },
    {
     "data": {
      "text/plain": [
       "{'neg': 0.143, 'neu': 0.756, 'pos': 0.101, 'compound': -0.9916}"
      ]
     },
     "execution_count": 13,
     "metadata": {},
     "output_type": "execute_result"
    },
    {
     "data": {
      "text/plain": [
       "{'neg': 0.123, 'neu': 0.782, 'pos': 0.095, 'compound': -0.9201}"
      ]
     },
     "execution_count": 13,
     "metadata": {},
     "output_type": "execute_result"
    },
    {
     "data": {
      "text/plain": [
       "{'neg': 0.119, 'neu': 0.79, 'pos': 0.091, 'compound': -0.9117}"
      ]
     },
     "execution_count": 13,
     "metadata": {},
     "output_type": "execute_result"
    },
    {
     "data": {
      "text/plain": [
       "{'neg': 0.234, 'neu': 0.706, 'pos': 0.06, 'compound': -0.9989}"
      ]
     },
     "execution_count": 13,
     "metadata": {},
     "output_type": "execute_result"
    },
    {
     "data": {
      "text/plain": [
       "{'neg': 0.17, 'neu': 0.705, 'pos': 0.126, 'compound': -0.9925}"
      ]
     },
     "execution_count": 13,
     "metadata": {},
     "output_type": "execute_result"
    },
    {
     "data": {
      "text/plain": [
       "{'neg': 0.107, 'neu': 0.868, 'pos': 0.025, 'compound': -0.9623}"
      ]
     },
     "execution_count": 13,
     "metadata": {},
     "output_type": "execute_result"
    },
    {
     "data": {
      "text/plain": [
       "{'neg': 0.194, 'neu': 0.76, 'pos': 0.046, 'compound': -0.9906}"
      ]
     },
     "execution_count": 13,
     "metadata": {},
     "output_type": "execute_result"
    },
    {
     "data": {
      "text/plain": [
       "{'neg': 0.189, 'neu': 0.743, 'pos': 0.067, 'compound': -0.9944}"
      ]
     },
     "execution_count": 13,
     "metadata": {},
     "output_type": "execute_result"
    },
    {
     "data": {
      "text/plain": [
       "{'neg': 0.164, 'neu': 0.789, 'pos': 0.047, 'compound': -0.9988}"
      ]
     },
     "execution_count": 13,
     "metadata": {},
     "output_type": "execute_result"
    },
    {
     "data": {
      "text/plain": [
       "{'neg': 0.137, 'neu': 0.821, 'pos': 0.042, 'compound': -0.9953}"
      ]
     },
     "execution_count": 13,
     "metadata": {},
     "output_type": "execute_result"
    },
    {
     "data": {
      "text/plain": [
       "{'neg': 0.194, 'neu': 0.686, 'pos': 0.119, 'compound': -0.9706}"
      ]
     },
     "execution_count": 13,
     "metadata": {},
     "output_type": "execute_result"
    },
    {
     "data": {
      "text/plain": [
       "{'neg': 0.195, 'neu': 0.732, 'pos': 0.072, 'compound': -0.9916}"
      ]
     },
     "execution_count": 13,
     "metadata": {},
     "output_type": "execute_result"
    },
    {
     "data": {
      "text/plain": [
       "{'neg': 0.271, 'neu': 0.677, 'pos': 0.052, 'compound': -0.9963}"
      ]
     },
     "execution_count": 13,
     "metadata": {},
     "output_type": "execute_result"
    },
    {
     "data": {
      "text/plain": [
       "{'neg': 0.272, 'neu': 0.669, 'pos': 0.059, 'compound': -0.9908}"
      ]
     },
     "execution_count": 13,
     "metadata": {},
     "output_type": "execute_result"
    },
    {
     "data": {
      "text/plain": [
       "{'neg': 0.22, 'neu': 0.726, 'pos': 0.054, 'compound': -0.9946}"
      ]
     },
     "execution_count": 13,
     "metadata": {},
     "output_type": "execute_result"
    },
    {
     "data": {
      "text/plain": [
       "{'neg': 0.242, 'neu': 0.689, 'pos': 0.069, 'compound': -0.9962}"
      ]
     },
     "execution_count": 13,
     "metadata": {},
     "output_type": "execute_result"
    },
    {
     "data": {
      "text/plain": [
       "{'neg': 0.15, 'neu': 0.731, 'pos': 0.119, 'compound': -0.9516}"
      ]
     },
     "execution_count": 13,
     "metadata": {},
     "output_type": "execute_result"
    },
    {
     "data": {
      "text/plain": [
       "{'neg': 0.273, 'neu': 0.691, 'pos': 0.036, 'compound': -0.9932}"
      ]
     },
     "execution_count": 13,
     "metadata": {},
     "output_type": "execute_result"
    },
    {
     "data": {
      "text/plain": [
       "{'neg': 0.145, 'neu': 0.842, 'pos': 0.014, 'compound': -0.9753}"
      ]
     },
     "execution_count": 13,
     "metadata": {},
     "output_type": "execute_result"
    },
    {
     "data": {
      "text/plain": [
       "{'neg': 0.127, 'neu': 0.765, 'pos': 0.108, 'compound': -0.8442}"
      ]
     },
     "execution_count": 13,
     "metadata": {},
     "output_type": "execute_result"
    },
    {
     "data": {
      "text/plain": [
       "{'neg': 0.133, 'neu': 0.784, 'pos': 0.083, 'compound': -0.9666}"
      ]
     },
     "execution_count": 13,
     "metadata": {},
     "output_type": "execute_result"
    },
    {
     "data": {
      "text/plain": [
       "{'neg': 0.147, 'neu': 0.757, 'pos': 0.096, 'compound': -0.978}"
      ]
     },
     "execution_count": 13,
     "metadata": {},
     "output_type": "execute_result"
    },
    {
     "data": {
      "text/plain": [
       "{'neg': 0.177, 'neu': 0.726, 'pos': 0.097, 'compound': -0.9951}"
      ]
     },
     "execution_count": 13,
     "metadata": {},
     "output_type": "execute_result"
    },
    {
     "data": {
      "text/plain": [
       "{'neg': 0.199, 'neu': 0.731, 'pos': 0.07, 'compound': -0.995}"
      ]
     },
     "execution_count": 13,
     "metadata": {},
     "output_type": "execute_result"
    },
    {
     "data": {
      "text/plain": [
       "{'neg': 0.175, 'neu': 0.751, 'pos': 0.074, 'compound': -0.9962}"
      ]
     },
     "execution_count": 13,
     "metadata": {},
     "output_type": "execute_result"
    },
    {
     "data": {
      "text/plain": [
       "{'neg': 0.198, 'neu': 0.745, 'pos': 0.057, 'compound': -0.9989}"
      ]
     },
     "execution_count": 13,
     "metadata": {},
     "output_type": "execute_result"
    },
    {
     "data": {
      "text/plain": [
       "{'neg': 0.228, 'neu': 0.713, 'pos': 0.059, 'compound': -0.9989}"
      ]
     },
     "execution_count": 13,
     "metadata": {},
     "output_type": "execute_result"
    },
    {
     "data": {
      "text/plain": [
       "{'neg': 0.218, 'neu': 0.713, 'pos': 0.069, 'compound': -0.9989}"
      ]
     },
     "execution_count": 13,
     "metadata": {},
     "output_type": "execute_result"
    },
    {
     "data": {
      "text/plain": [
       "{'neg': 0.228, 'neu': 0.754, 'pos': 0.018, 'compound': -0.9974}"
      ]
     },
     "execution_count": 13,
     "metadata": {},
     "output_type": "execute_result"
    },
    {
     "data": {
      "text/plain": [
       "{'neg': 0.133, 'neu': 0.758, 'pos': 0.11, 'compound': -0.8771}"
      ]
     },
     "execution_count": 13,
     "metadata": {},
     "output_type": "execute_result"
    },
    {
     "data": {
      "text/plain": [
       "{'neg': 0.15, 'neu': 0.768, 'pos': 0.083, 'compound': -0.9665}"
      ]
     },
     "execution_count": 13,
     "metadata": {},
     "output_type": "execute_result"
    },
    {
     "data": {
      "text/plain": [
       "{'neg': 0.215, 'neu': 0.721, 'pos': 0.065, 'compound': -0.9978}"
      ]
     },
     "execution_count": 13,
     "metadata": {},
     "output_type": "execute_result"
    },
    {
     "data": {
      "text/plain": [
       "{'neg': 0.178, 'neu': 0.748, 'pos': 0.074, 'compound': -0.9924}"
      ]
     },
     "execution_count": 13,
     "metadata": {},
     "output_type": "execute_result"
    },
    {
     "data": {
      "text/plain": [
       "{'neg': 0.245, 'neu': 0.687, 'pos': 0.069, 'compound': -0.9989}"
      ]
     },
     "execution_count": 13,
     "metadata": {},
     "output_type": "execute_result"
    },
    {
     "data": {
      "text/plain": [
       "{'neg': 0.123, 'neu': 0.822, 'pos': 0.055, 'compound': -0.9774}"
      ]
     },
     "execution_count": 13,
     "metadata": {},
     "output_type": "execute_result"
    },
    {
     "data": {
      "text/plain": [
       "{'neg': 0.203, 'neu': 0.768, 'pos': 0.029, 'compound': -0.9981}"
      ]
     },
     "execution_count": 13,
     "metadata": {},
     "output_type": "execute_result"
    },
    {
     "data": {
      "text/plain": [
       "{'neg': 0.251, 'neu': 0.713, 'pos': 0.036, 'compound': -0.9982}"
      ]
     },
     "execution_count": 13,
     "metadata": {},
     "output_type": "execute_result"
    },
    {
     "data": {
      "text/plain": [
       "{'neg': 0.212, 'neu': 0.75, 'pos': 0.038, 'compound': -0.9965}"
      ]
     },
     "execution_count": 13,
     "metadata": {},
     "output_type": "execute_result"
    },
    {
     "data": {
      "text/plain": [
       "{'neg': 0.204, 'neu': 0.731, 'pos': 0.065, 'compound': -0.9892}"
      ]
     },
     "execution_count": 13,
     "metadata": {},
     "output_type": "execute_result"
    },
    {
     "data": {
      "text/plain": [
       "{'neg': 0.232, 'neu': 0.725, 'pos': 0.044, 'compound': -0.9949}"
      ]
     },
     "execution_count": 13,
     "metadata": {},
     "output_type": "execute_result"
    },
    {
     "data": {
      "text/plain": [
       "{'neg': 0.064, 'neu': 0.863, 'pos': 0.073, 'compound': 0.25}"
      ]
     },
     "execution_count": 13,
     "metadata": {},
     "output_type": "execute_result"
    },
    {
     "data": {
      "text/plain": [
       "{'neg': 0.071, 'neu': 0.824, 'pos': 0.105, 'compound': 0.8344}"
      ]
     },
     "execution_count": 13,
     "metadata": {},
     "output_type": "execute_result"
    },
    {
     "data": {
      "text/plain": [
       "{'neg': 0.056, 'neu': 0.853, 'pos': 0.091, 'compound': 0.9459}"
      ]
     },
     "execution_count": 13,
     "metadata": {},
     "output_type": "execute_result"
    },
    {
     "data": {
      "text/plain": [
       "{'neg': 0.191, 'neu': 0.736, 'pos': 0.073, 'compound': -0.9988}"
      ]
     },
     "execution_count": 13,
     "metadata": {},
     "output_type": "execute_result"
    },
    {
     "data": {
      "text/plain": [
       "{'neg': 0.173, 'neu': 0.766, 'pos': 0.06, 'compound': -0.9836}"
      ]
     },
     "execution_count": 13,
     "metadata": {},
     "output_type": "execute_result"
    },
    {
     "data": {
      "text/plain": [
       "{'neg': 0.014, 'neu': 0.849, 'pos': 0.136, 'compound': 0.9983}"
      ]
     },
     "execution_count": 13,
     "metadata": {},
     "output_type": "execute_result"
    },
    {
     "data": {
      "text/plain": [
       "{'neg': 0.027, 'neu': 0.823, 'pos': 0.15, 'compound': 0.9926}"
      ]
     },
     "execution_count": 13,
     "metadata": {},
     "output_type": "execute_result"
    },
    {
     "data": {
      "text/plain": [
       "{'neg': 0.078, 'neu': 0.823, 'pos': 0.1, 'compound': 0.3182}"
      ]
     },
     "execution_count": 13,
     "metadata": {},
     "output_type": "execute_result"
    },
    {
     "data": {
      "text/plain": [
       "{'neg': 0.087, 'neu': 0.831, 'pos': 0.081, 'compound': -0.7506}"
      ]
     },
     "execution_count": 13,
     "metadata": {},
     "output_type": "execute_result"
    },
    {
     "data": {
      "text/plain": [
       "{'neg': 0.216, 'neu': 0.697, 'pos': 0.087, 'compound': -0.9988}"
      ]
     },
     "execution_count": 13,
     "metadata": {},
     "output_type": "execute_result"
    },
    {
     "data": {
      "text/plain": [
       "{'neg': 0.166, 'neu': 0.811, 'pos': 0.023, 'compound': -0.9801}"
      ]
     },
     "execution_count": 13,
     "metadata": {},
     "output_type": "execute_result"
    },
    {
     "data": {
      "text/plain": [
       "{'neg': 0.21, 'neu': 0.746, 'pos': 0.044, 'compound': -0.9877}"
      ]
     },
     "execution_count": 13,
     "metadata": {},
     "output_type": "execute_result"
    },
    {
     "data": {
      "text/plain": [
       "{'neg': 0.136, 'neu': 0.826, 'pos': 0.038, 'compound': -0.9846}"
      ]
     },
     "execution_count": 13,
     "metadata": {},
     "output_type": "execute_result"
    },
    {
     "data": {
      "text/plain": [
       "{'neg': 0.186, 'neu': 0.732, 'pos': 0.081, 'compound': -0.9868}"
      ]
     },
     "execution_count": 13,
     "metadata": {},
     "output_type": "execute_result"
    },
    {
     "data": {
      "text/plain": [
       "{'neg': 0.245, 'neu': 0.711, 'pos': 0.045, 'compound': -0.9961}"
      ]
     },
     "execution_count": 13,
     "metadata": {},
     "output_type": "execute_result"
    },
    {
     "data": {
      "text/plain": [
       "{'neg': 0.227, 'neu': 0.706, 'pos': 0.066, 'compound': -0.9956}"
      ]
     },
     "execution_count": 13,
     "metadata": {},
     "output_type": "execute_result"
    },
    {
     "data": {
      "text/plain": [
       "{'neg': 0.165, 'neu': 0.766, 'pos': 0.069, 'compound': -0.983}"
      ]
     },
     "execution_count": 13,
     "metadata": {},
     "output_type": "execute_result"
    },
    {
     "data": {
      "text/plain": [
       "{'neg': 0.075, 'neu': 0.819, 'pos': 0.106, 'compound': 0.6597}"
      ]
     },
     "execution_count": 13,
     "metadata": {},
     "output_type": "execute_result"
    },
    {
     "data": {
      "text/plain": [
       "{'neg': 0.097, 'neu': 0.847, 'pos': 0.056, 'compound': -0.8807}"
      ]
     },
     "execution_count": 13,
     "metadata": {},
     "output_type": "execute_result"
    },
    {
     "data": {
      "text/plain": [
       "{'neg': 0.099, 'neu': 0.808, 'pos': 0.093, 'compound': -0.5423}"
      ]
     },
     "execution_count": 13,
     "metadata": {},
     "output_type": "execute_result"
    },
    {
     "data": {
      "text/plain": [
       "{'neg': 0.136, 'neu': 0.788, 'pos': 0.077, 'compound': -0.9118}"
      ]
     },
     "execution_count": 13,
     "metadata": {},
     "output_type": "execute_result"
    },
    {
     "data": {
      "text/plain": [
       "{'neg': 0.084, 'neu': 0.814, 'pos': 0.103, 'compound': 0.5106}"
      ]
     },
     "execution_count": 13,
     "metadata": {},
     "output_type": "execute_result"
    },
    {
     "data": {
      "text/plain": [
       "{'neg': 0.073, 'neu': 0.844, 'pos': 0.083, 'compound': 0.7906}"
      ]
     },
     "execution_count": 13,
     "metadata": {},
     "output_type": "execute_result"
    },
    {
     "data": {
      "text/plain": [
       "{'neg': 0.092, 'neu': 0.808, 'pos': 0.1, 'compound': 0.2732}"
      ]
     },
     "execution_count": 13,
     "metadata": {},
     "output_type": "execute_result"
    },
    {
     "data": {
      "text/plain": [
       "{'neg': 0.12, 'neu': 0.783, 'pos': 0.097, 'compound': -0.9139}"
      ]
     },
     "execution_count": 13,
     "metadata": {},
     "output_type": "execute_result"
    },
    {
     "data": {
      "text/plain": [
       "{'neg': 0.114, 'neu': 0.79, 'pos': 0.096, 'compound': -0.5719}"
      ]
     },
     "execution_count": 13,
     "metadata": {},
     "output_type": "execute_result"
    },
    {
     "data": {
      "text/plain": [
       "{'neg': 0.103, 'neu': 0.775, 'pos': 0.122, 'compound': 0.6486}"
      ]
     },
     "execution_count": 13,
     "metadata": {},
     "output_type": "execute_result"
    },
    {
     "data": {
      "text/plain": [
       "{'neg': 0.083, 'neu': 0.852, 'pos': 0.065, 'compound': -0.8391}"
      ]
     },
     "execution_count": 13,
     "metadata": {},
     "output_type": "execute_result"
    },
    {
     "data": {
      "text/plain": [
       "{'neg': 0.057, 'neu': 0.866, 'pos': 0.076, 'compound': 0.5106}"
      ]
     },
     "execution_count": 13,
     "metadata": {},
     "output_type": "execute_result"
    },
    {
     "data": {
      "text/plain": [
       "{'neg': 0.064, 'neu': 0.864, 'pos': 0.073, 'compound': 0.3818}"
      ]
     },
     "execution_count": 13,
     "metadata": {},
     "output_type": "execute_result"
    },
    {
     "data": {
      "text/plain": [
       "{'neg': 0.235, 'neu': 0.689, 'pos': 0.076, 'compound': -0.9933}"
      ]
     },
     "execution_count": 13,
     "metadata": {},
     "output_type": "execute_result"
    },
    {
     "data": {
      "text/plain": [
       "{'neg': 0.242, 'neu': 0.711, 'pos': 0.047, 'compound': -0.9904}"
      ]
     },
     "execution_count": 13,
     "metadata": {},
     "output_type": "execute_result"
    },
    {
     "data": {
      "text/plain": [
       "{'neg': 0.151, 'neu': 0.757, 'pos': 0.092, 'compound': -0.9901}"
      ]
     },
     "execution_count": 13,
     "metadata": {},
     "output_type": "execute_result"
    },
    {
     "data": {
      "text/plain": [
       "{'neg': 0.188, 'neu': 0.77, 'pos': 0.042, 'compound': -0.9943}"
      ]
     },
     "execution_count": 13,
     "metadata": {},
     "output_type": "execute_result"
    },
    {
     "data": {
      "text/plain": [
       "{'neg': 0.155, 'neu': 0.781, 'pos': 0.064, 'compound': -0.9689}"
      ]
     },
     "execution_count": 13,
     "metadata": {},
     "output_type": "execute_result"
    },
    {
     "data": {
      "text/plain": [
       "{'neg': 0.084, 'neu': 0.816, 'pos': 0.099, 'compound': 0.5267}"
      ]
     },
     "execution_count": 13,
     "metadata": {},
     "output_type": "execute_result"
    },
    {
     "data": {
      "text/plain": [
       "{'neg': 0.159, 'neu': 0.751, 'pos': 0.089, 'compound': -0.9648}"
      ]
     },
     "execution_count": 13,
     "metadata": {},
     "output_type": "execute_result"
    },
    {
     "data": {
      "text/plain": [
       "{'neg': 0.138, 'neu': 0.762, 'pos': 0.1, 'compound': -0.9795}"
      ]
     },
     "execution_count": 13,
     "metadata": {},
     "output_type": "execute_result"
    },
    {
     "data": {
      "text/plain": [
       "{'neg': 0.152, 'neu': 0.817, 'pos': 0.031, 'compound': -0.9921}"
      ]
     },
     "execution_count": 13,
     "metadata": {},
     "output_type": "execute_result"
    }
   ],
   "source": [
    "#Apply to each press release in doj_subset \n",
    "\n",
    "for press_release in doj_subset['contents']: \n",
    "    get_sentiment(press_release)"
   ]
  },
  {
   "cell_type": "markdown",
   "metadata": {},
   "source": [
    "C. Add the four sentiment scores to the `doj_subset` dataframe to create a dataframe: `doj_subset_wscore`. Sort from highest neg to lowest neg score and print the top `id`, `contents`, and `neg` columns of the two most neg press releases. \n",
    "\n",
    "Notes:\n",
    "\n",
    "- Don't worry if your sentiment score differs slightly from our output on GitHub; differences in preprocessing can lead to diff scores"
   ]
  },
  {
   "cell_type": "code",
   "execution_count": 14,
   "metadata": {},
   "outputs": [],
   "source": [
    "doj_subset_wscore = doj_subset "
   ]
  },
  {
   "cell_type": "code",
   "execution_count": 15,
   "metadata": {},
   "outputs": [],
   "source": [
    "#C \n",
    "\n",
    "for index,row in doj_subset_wscore.iterrows():\n",
    "    # Get the press release content from the 'contents' column\n",
    "    press_release = row['contents']\n",
    "    \n",
    "    # Apply the sentiment analysis function to get sentiment scores\n",
    "    sentiment_scores = get_sentiment(press_release)\n",
    "    \n",
    "    \n",
    "    # Fill in the 'neg', 'neu', 'pos', and 'compound' columns with sentiment scores\n",
    "    doj_subset_wscore.at[index, 'neg'] = sentiment_scores['pos']\n",
    "    doj_subset_wscore.at[index, 'neu'] = sentiment_scores['neu']\n",
    "    doj_subset_wscore.at[index, 'pos'] = sentiment_scores['pos']\n",
    "    doj_subset_wscore.at[index, 'compound'] = sentiment_scores['compound']\n"
   ]
  },
  {
   "cell_type": "code",
   "execution_count": 16,
   "metadata": {},
   "outputs": [
    {
     "data": {
      "text/html": [
       "<div>\n",
       "<style scoped>\n",
       "    .dataframe tbody tr th:only-of-type {\n",
       "        vertical-align: middle;\n",
       "    }\n",
       "\n",
       "    .dataframe tbody tr th {\n",
       "        vertical-align: top;\n",
       "    }\n",
       "\n",
       "    .dataframe thead th {\n",
       "        text-align: right;\n",
       "    }\n",
       "</style>\n",
       "<table border=\"1\" class=\"dataframe\">\n",
       "  <thead>\n",
       "    <tr style=\"text-align: right;\">\n",
       "      <th></th>\n",
       "      <th>id</th>\n",
       "      <th>contents</th>\n",
       "      <th>neg</th>\n",
       "    </tr>\n",
       "  </thead>\n",
       "  <tbody>\n",
       "    <tr>\n",
       "      <th>5247</th>\n",
       "      <td>18-913</td>\n",
       "      <td>Glenn Eugene Halfin, 64, from Grapevine, Texas, appeared today before U.S. Magistrate Judge Jeffrey L. Cureton in the U.S. District Court for the Northern District of Texas and pleaded guilty to a federal charge of interfering with an African-American family’s housing rights, announced Acting Assistant Attorney General John Gore of the Civil Rights Division and U.S. Attorney Erin Nealy Cox of the Northern District of Texas. According to court documents, Halfin threatened force, intimidated, and interfered with a family because of their race and occupancy of an apartment that was located directly above his own apartment.  According to documents filed in connection with the guilty plea, on Dec. 19, 2017, Halfin purchased a baby doll at a Wal-Mart in Grapevine, Texas. He took a rope, fashioned it into a noose, and hung the baby doll from the noose. Halfin then hung the rope noose and baby doll on the railing directly in front of the only staircase the family could use to access their apartment. Halfin did so, knowing that this display would be particularly intimidating for the family who had a young daughter. In addition, the defendant referenced in his factual basis repeated intimidation of and interference with the same African-American family on other occasions. “The Justice Department will not tolerate acts of intimidation and fear, or illegal threats against any individual or family because of their race,” said Acting Assistant Attorney John Gore. “We will continue to prosecute hate crime offenders.” “No one should be afraid to go home at night,” said U.S. Attorney Erin Nealy Cox.  “Our community will not tolerate crimes of intimidation or bigotry, and my office will continue to prosecute all those who persecute others based on their race, color, ethnicity, or religious beliefs.” Halfin faces a statutory maximum penalty of no more one year in federal prison and a $100,000 fine. His sentencing is scheduled for October 24. This case was investigated by the FBI and the Grapevine Police Department. The case was prosecuted by Trial Attorney Rebekah Bailey of the Civil Rights Division’s Criminal Section and Assistant United States Attorney Nicole Dana.</td>\n",
       "      <td>0.005</td>\n",
       "    </tr>\n",
       "    <tr>\n",
       "      <th>8075</th>\n",
       "      <td>11-1245</td>\n",
       "      <td>WASHINGTON –    Paul W. Miller, of Denham Springs, La., was convicted late yesterday of two counts of producing and one count of possessing child pornography, announced Assistant Attorney General Lanny A. Breuer of the Criminal Division and U.S. Attorney Donald J. Cazayoux Jr. of the Middle District of Louisiana.        Miller, 44, was convicted by a federal jury following a two-day trial.  U.S. District Judge James J. Brady presided over the trial.       Evidence presented at trial showed that from October 2007 to May 2008, Miller sexually abused a 12-year-old girl and an 11-year-old girl and produced numerous photographs of the abuse.  According to trial evidence, forensic examination of Miller’s computer revealed that Miller had used his computer to print and possess numerous images of child pornography, including both the images of child pornography he had produced and images of other child victims.                 Miller faces a maximum statutory sentence of 30 years in prison for each count of production of child pornography and 10 years in prison for the possession of child pornography count.       The case is being prosecuted by Trial Attorney Alecia Riewerts Wolak of the Criminal Division’s Child Exploitation and Obscenity Section (CEOS) and Assistant U.S. Attorney Richard L. Bourgeois Jr. of the Middle District of Louisiana.  The investigation was conducted by the FBI, the Denham Springs Police Department and the Louisiana Attorney General’s Office.</td>\n",
       "      <td>0.007</td>\n",
       "    </tr>\n",
       "  </tbody>\n",
       "</table>\n",
       "</div>"
      ],
      "text/plain": [
       "           id  \\\n",
       "5247   18-913   \n",
       "8075  11-1245   \n",
       "\n",
       "                                                                                                                                                                                                                                                                                                                                                                                                                                                                                                                                                                                                                                                                                                                                                                                                                                                                                                                                                                                                                                                                                                                                                                                                                                                                                                                                                                                                                                                                                                                                                                                                                                                                                                                                                                                                                                                                                                                                                                                                                                                                                                                                                                                                                                                                        contents  \\\n",
       "5247  Glenn Eugene Halfin, 64, from Grapevine, Texas, appeared today before U.S. Magistrate Judge Jeffrey L. Cureton in the U.S. District Court for the Northern District of Texas and pleaded guilty to a federal charge of interfering with an African-American family’s housing rights, announced Acting Assistant Attorney General John Gore of the Civil Rights Division and U.S. Attorney Erin Nealy Cox of the Northern District of Texas. According to court documents, Halfin threatened force, intimidated, and interfered with a family because of their race and occupancy of an apartment that was located directly above his own apartment.  According to documents filed in connection with the guilty plea, on Dec. 19, 2017, Halfin purchased a baby doll at a Wal-Mart in Grapevine, Texas. He took a rope, fashioned it into a noose, and hung the baby doll from the noose. Halfin then hung the rope noose and baby doll on the railing directly in front of the only staircase the family could use to access their apartment. Halfin did so, knowing that this display would be particularly intimidating for the family who had a young daughter. In addition, the defendant referenced in his factual basis repeated intimidation of and interference with the same African-American family on other occasions. “The Justice Department will not tolerate acts of intimidation and fear, or illegal threats against any individual or family because of their race,” said Acting Assistant Attorney John Gore. “We will continue to prosecute hate crime offenders.” “No one should be afraid to go home at night,” said U.S. Attorney Erin Nealy Cox.  “Our community will not tolerate crimes of intimidation or bigotry, and my office will continue to prosecute all those who persecute others based on their race, color, ethnicity, or religious beliefs.” Halfin faces a statutory maximum penalty of no more one year in federal prison and a $100,000 fine. His sentencing is scheduled for October 24. This case was investigated by the FBI and the Grapevine Police Department. The case was prosecuted by Trial Attorney Rebekah Bailey of the Civil Rights Division’s Criminal Section and Assistant United States Attorney Nicole Dana.   \n",
       "8075                                                                                                                                                                                                                                                                                                                                                                                                                                                                                                                                                                                                                                                                                                                                 WASHINGTON –    Paul W. Miller, of Denham Springs, La., was convicted late yesterday of two counts of producing and one count of possessing child pornography, announced Assistant Attorney General Lanny A. Breuer of the Criminal Division and U.S. Attorney Donald J. Cazayoux Jr. of the Middle District of Louisiana.        Miller, 44, was convicted by a federal jury following a two-day trial.  U.S. District Judge James J. Brady presided over the trial.       Evidence presented at trial showed that from October 2007 to May 2008, Miller sexually abused a 12-year-old girl and an 11-year-old girl and produced numerous photographs of the abuse.  According to trial evidence, forensic examination of Miller’s computer revealed that Miller had used his computer to print and possess numerous images of child pornography, including both the images of child pornography he had produced and images of other child victims.                 Miller faces a maximum statutory sentence of 30 years in prison for each count of production of child pornography and 10 years in prison for the possession of child pornography count.       The case is being prosecuted by Trial Attorney Alecia Riewerts Wolak of the Criminal Division’s Child Exploitation and Obscenity Section (CEOS) and Assistant U.S. Attorney Richard L. Bourgeois Jr. of the Middle District of Louisiana.  The investigation was conducted by the FBI, the Denham Springs Police Department and the Louisiana Attorney General’s Office.   \n",
       "\n",
       "        neg  \n",
       "5247  0.005  \n",
       "8075  0.007  "
      ]
     },
     "execution_count": 16,
     "metadata": {},
     "output_type": "execute_result"
    }
   ],
   "source": [
    "doj_subset_wscore = doj_subset_wscore.sort_values(by='pos', ascending=True)\n",
    "id_contents_neg = doj_subset_wscore.head(2)[['id', 'contents','neg']]\n",
    "id_contents_neg"
   ]
  },
  {
   "cell_type": "markdown",
   "metadata": {},
   "source": [
    "D. With the dataframe from part C, find the mean compound sentiment score for each of the three topics in `topics_clean` using group_by and agg.\n",
    "\n",
    "E. Add a 1 sentence interpretation of why we might see the variation in scores (remember that compound is a standardized summary where -1 is most negative; +1 is most positive)\n"
   ]
  },
  {
   "cell_type": "code",
   "execution_count": 17,
   "metadata": {},
   "outputs": [
    {
     "name": "stdout",
     "output_type": "stream",
     "text": [
      "the mean compound sentiment score for Civil Rights topics is:               compound\n",
      "topics_clean          \n",
      "False        -0.824946\n",
      "True         -0.094465\n",
      "the mean compound sentiment score for Hate Crimes topics is: topics_clean\n",
      "False   -0.293930\n",
      "True    -0.935971\n",
      "Name: compound, dtype: float64\n",
      "the mean compound sentiment score for Project Safe Childhood topics is: topics_clean\n",
      "False   -0.470165\n",
      "True    -0.660416\n",
      "Name: compound, dtype: float64\n"
     ]
    }
   ],
   "source": [
    "#D \n",
    "#Civil Rights, Hate Crimes, and Project Safe Childhood\n",
    "\n",
    "#mean compound sentiment score for Civil Rights \n",
    "mean_civil = doj_subset_wscore.groupby(doj_subset_wscore['topics_clean'] == 'Civil Rights').agg({'compound': 'mean'})\n",
    "print(\"the mean compound sentiment score for Civil Rights topics is:\", mean_civil)\n",
    "\n",
    "#mean compound sentiment score for Hate Crimes \n",
    "mean_hate = doj_subset_wscore.groupby(doj_subset_wscore['topics_clean'] == 'Hate Crimes')['compound'].mean()\n",
    "print(\"the mean compound sentiment score for Hate Crimes topics is:\", mean_hate)\n",
    "\n",
    "#mean compound sentiment score for Project Safe Childhood\n",
    "mean_project = doj_subset_wscore.groupby(doj_subset_wscore['topics_clean'] == 'Project Safe Childhood')['compound'].mean()\n",
    "print(\"the mean compound sentiment score for Project Safe Childhood topics is:\", mean_project)"
   ]
  },
  {
   "cell_type": "markdown",
   "metadata": {},
   "source": [
    "**#E** One reason that we might see a variation in scores is that some topics may be talked about in a positive light in press releases (such as Project Safe Childhood), raising the mean compound score, whereas it would be unlikely to for a press release to talk about hate crimes in a positive way. "
   ]
  },
  {
   "cell_type": "markdown",
   "metadata": {},
   "source": [
    "# 2. Topic modeling (25 points)\n",
    "\n",
    "For this question, use the `doj_subset_wscores` data that is restricted to civil rights, hate crimes, and project safe childhood and with the sentiment scores added\n"
   ]
  },
  {
   "cell_type": "markdown",
   "metadata": {},
   "source": [
    "## 2.1 Preprocess the data by removing stopwords, punctuation, and non-alpha words (5 points)\n",
    "\n",
    "A. Write a function that:\n",
    "\n",
    "- Takes in a single raw string in the `contents` column from that dataframe\n",
    "- Does the following preprocessing steps:\n",
    "\n",
    "    - Converts the words to lowercase\n",
    "    - Removes stopwords, adding the custom stopwords in your code cell below to the default stopwords list\n",
    "    - Only retains alpha words (so removes digits and punctuation)\n",
    "    - Only retains words 4 characters or longer\n",
    "    - Uses the snowball stemmer from nltk to stem\n",
    "\n",
    "- Returns a joined preprocessed string\n",
    "    \n",
    "B. Use `apply` or list comprehension to execute that function and create a new column in the data called `processed_text`\n",
    "    \n",
    "C. Print the `id`, `contents`, and `processed_text` columns for the following press releases:\n",
    "\n",
    "id = 16-718 (this case: https://www.seattletimes.com/nation-world/doj-miami-police-reach-settlement-in-civil-rights-case/)\n",
    "\n",
    "id = 16-217 (this case: https://www.wlbt.com/story/32275512/three-mississippi-correctional-officers-indicted-for-inmate-assault-and-cover-up/)\n",
    "    \n",
    "**Resources**:\n",
    "\n",
    "- Here's code examples for the snowball stemmer: https://www.geeksforgeeks.org/snowball-stemmer-nlp/"
   ]
  },
  {
   "cell_type": "code",
   "execution_count": 18,
   "metadata": {},
   "outputs": [],
   "source": [
    "custom_doj_stopwords = [\"civil\", \"rights\", \"division\", \"department\", \"justice\",\n",
    "                        \"office\", \"attorney\", \"district\", \"case\", \"investigation\", \"assistant\",\n",
    "                       \"trial\", \"assistance\", \"assist\"]\n",
    "list_stopwords = stopwords.words(\"english\")\n",
    "list_stopwords_new = list_stopwords + custom_doj_stopwords\n",
    "## initialize stemmer\n",
    "snow_stemmer = SnowballStemmer(language='english')"
   ]
  },
  {
   "cell_type": "code",
   "execution_count": 19,
   "metadata": {},
   "outputs": [],
   "source": [
    "#A \n",
    "def preprocess(string): \n",
    "    try:\n",
    "        if not isinstance(string, str):\n",
    "            string = string.to_string()\n",
    "        string_lower = string.lower()\n",
    "        nostop_string = [word \n",
    "                    for word in wordpunct_tokenize(string_lower) \n",
    "                    if word not in list_stopwords_new \n",
    "                        and word.isalpha()\n",
    "                        and len(word) > 3]\n",
    "        clean_string = [snow_stemmer.stem(word) for word in nostop_string]\n",
    "        clean_string_str = \" \".join(clean_string)\n",
    "        return(clean_string_str)\n",
    "    except:\n",
    "        return(\"\")\n",
    "    "
   ]
  },
  {
   "cell_type": "code",
   "execution_count": 20,
   "metadata": {},
   "outputs": [
    {
     "data": {
      "text/plain": [
       "'washington paul miller denham spring convict late yesterday count produc count possess child pornographi announc general lanni breuer crimin donald cazayoux middl louisiana miller convict feder juri follow judg jame bradi presid evid present show octob miller sexual abus year girl year girl produc numer photograph abus accord evid forens examin miller comput reveal miller use comput print possess numer imag child pornographi includ imag child pornographi produc imag child victim miller face maximum statutori sentenc year prison count product child pornographi year prison possess child pornographi count prosecut alecia riewert wolak crimin child exploit obscen section ceo richard bourgeoi middl louisiana conduct denham spring polic louisiana general'"
      ]
     },
     "execution_count": 20,
     "metadata": {},
     "output_type": "execute_result"
    }
   ],
   "source": [
    "# testing the function on one contents instance\n",
    "preprocess(doj_subset_wscore.iloc[1].contents)"
   ]
  },
  {
   "cell_type": "code",
   "execution_count": 21,
   "metadata": {},
   "outputs": [
    {
     "data": {
      "text/html": [
       "<div>\n",
       "<style scoped>\n",
       "    .dataframe tbody tr th:only-of-type {\n",
       "        vertical-align: middle;\n",
       "    }\n",
       "\n",
       "    .dataframe tbody tr th {\n",
       "        vertical-align: top;\n",
       "    }\n",
       "\n",
       "    .dataframe thead th {\n",
       "        text-align: right;\n",
       "    }\n",
       "</style>\n",
       "<table border=\"1\" class=\"dataframe\">\n",
       "  <thead>\n",
       "    <tr style=\"text-align: right;\">\n",
       "      <th></th>\n",
       "      <th>id</th>\n",
       "      <th>title</th>\n",
       "      <th>contents</th>\n",
       "      <th>date</th>\n",
       "      <th>topics_clean</th>\n",
       "      <th>components_clean</th>\n",
       "      <th>neg</th>\n",
       "      <th>neu</th>\n",
       "      <th>pos</th>\n",
       "      <th>compound</th>\n",
       "      <th>processed_text</th>\n",
       "    </tr>\n",
       "  </thead>\n",
       "  <tbody>\n",
       "    <tr>\n",
       "      <th>5247</th>\n",
       "      <td>18-913</td>\n",
       "      <td>Grapevine Texas Man Pleads Guilty to Federal Hate Crime  Against an African-American Family</td>\n",
       "      <td>Glenn Eugene Halfin, 64, from Grapevine, Texas, appeared today before U.S. Magistrate Judge Jeffrey L. Cureton in the U.S. District Court for the Northern District of Texas and pleaded guilty to a federal charge of interfering with an African-American family’s housing rights, announced Acting Assistant Attorney General John Gore of the Civil Rights Division and U.S. Attorney Erin Nealy Cox of the Northern District of Texas. According to court documents, Halfin threatened force, intimidated, and interfered with a family because of their race and occupancy of an apartment that was located directly above his own apartment.  According to documents filed in connection with the guilty plea, on Dec. 19, 2017, Halfin purchased a baby doll at a Wal-Mart in Grapevine, Texas. He took a rope, fashioned it into a noose, and hung the baby doll from the noose. Halfin then hung the rope noose and baby doll on the railing directly in front of the only staircase the family could use to access their apartment. Halfin did so, knowing that this display would be particularly intimidating for the family who had a young daughter. In addition, the defendant referenced in his factual basis repeated intimidation of and interference with the same African-American family on other occasions. “The Justice Department will not tolerate acts of intimidation and fear, or illegal threats against any individual or family because of their race,” said Acting Assistant Attorney John Gore. “We will continue to prosecute hate crime offenders.” “No one should be afraid to go home at night,” said U.S. Attorney Erin Nealy Cox.  “Our community will not tolerate crimes of intimidation or bigotry, and my office will continue to prosecute all those who persecute others based on their race, color, ethnicity, or religious beliefs.” Halfin faces a statutory maximum penalty of no more one year in federal prison and a $100,000 fine. His sentencing is scheduled for October 24. This case was investigated by the FBI and the Grapevine Police Department. The case was prosecuted by Trial Attorney Rebekah Bailey of the Civil Rights Division’s Criminal Section and Assistant United States Attorney Nicole Dana.</td>\n",
       "      <td>2018-07-12T00:00:00-04:00</td>\n",
       "      <td>Hate Crimes</td>\n",
       "      <td>Civil Rights Division; Civil Rights - Criminal Section</td>\n",
       "      <td>0.005</td>\n",
       "      <td>0.806</td>\n",
       "      <td>0.005</td>\n",
       "      <td>-0.9955</td>\n",
       "      <td>glenn eugen halfin grapevin texa appear today magistr judg jeffrey cureton court northern texa plead guilti feder charg interf african american famili hous announc act general john gore erin neali northern texa accord court document halfin threaten forc intimid interf famili race occup apart locat direct apart accord document file connect guilti plea halfin purchas babi doll mart grapevin texa took rope fashion noos hung babi doll noos halfin hung rope noos babi doll rail direct front staircas famili could access apart halfin know display would particular intimid famili young daughter addit defend referenc factual basi repeat intimid interfer african american famili occas toler act intimid fear illeg threat individu famili race said act john gore continu prosecut hate crime offend afraid home night said erin neali communiti toler crime intimid bigotri continu prosecut persecut other base race color ethnic religi belief halfin face statutori maximum penalti year feder prison fine sentenc schedul octob investig grapevin polic prosecut rebekah bailey crimin section unit state nicol dana</td>\n",
       "    </tr>\n",
       "    <tr>\n",
       "      <th>8075</th>\n",
       "      <td>11-1245</td>\n",
       "      <td>Louisiana Man Convicted of Producing and Possessing Child Pornography</td>\n",
       "      <td>WASHINGTON –    Paul W. Miller, of Denham Springs, La., was convicted late yesterday of two counts of producing and one count of possessing child pornography, announced Assistant Attorney General Lanny A. Breuer of the Criminal Division and U.S. Attorney Donald J. Cazayoux Jr. of the Middle District of Louisiana.        Miller, 44, was convicted by a federal jury following a two-day trial.  U.S. District Judge James J. Brady presided over the trial.       Evidence presented at trial showed that from October 2007 to May 2008, Miller sexually abused a 12-year-old girl and an 11-year-old girl and produced numerous photographs of the abuse.  According to trial evidence, forensic examination of Miller’s computer revealed that Miller had used his computer to print and possess numerous images of child pornography, including both the images of child pornography he had produced and images of other child victims.                 Miller faces a maximum statutory sentence of 30 years in prison for each count of production of child pornography and 10 years in prison for the possession of child pornography count.       The case is being prosecuted by Trial Attorney Alecia Riewerts Wolak of the Criminal Division’s Child Exploitation and Obscenity Section (CEOS) and Assistant U.S. Attorney Richard L. Bourgeois Jr. of the Middle District of Louisiana.  The investigation was conducted by the FBI, the Denham Springs Police Department and the Louisiana Attorney General’s Office.</td>\n",
       "      <td>2011-09-22T00:00:00-04:00</td>\n",
       "      <td>Project Safe Childhood</td>\n",
       "      <td>Criminal Division</td>\n",
       "      <td>0.007</td>\n",
       "      <td>0.887</td>\n",
       "      <td>0.007</td>\n",
       "      <td>-0.9565</td>\n",
       "      <td>washington paul miller denham spring convict late yesterday count produc count possess child pornographi announc general lanni breuer crimin donald cazayoux middl louisiana miller convict feder juri follow judg jame bradi presid evid present show octob miller sexual abus year girl year girl produc numer photograph abus accord evid forens examin miller comput reveal miller use comput print possess numer imag child pornographi includ imag child pornographi produc imag child victim miller face maximum statutori sentenc year prison count product child pornographi year prison possess child pornographi count prosecut alecia riewert wolak crimin child exploit obscen section ceo richard bourgeoi middl louisiana conduct denham spring polic louisiana general</td>\n",
       "    </tr>\n",
       "    <tr>\n",
       "      <th>8353</th>\n",
       "      <td>11-1331</td>\n",
       "      <td>Massachusetts Man Pleads Guilty to Receiving and Possessing Child Pornography</td>\n",
       "      <td>WASHINGTON –    A Springfield, Mass., man pleaded guilty today to receiving and possessing child pornography, announced Assistant Attorney General Lanny A. Breuer of the Criminal Division.       Robert Rosenbeck, 48, pleaded guilty before U.S. District Judge Denise J. Casper in Boston to one count of receipt of child pornography and two counts of possession of child pornography.  He was indicted on those charges on Dec. 10, 2009.        According to court documents, Rosenbeck possessed two different computers containing child pornography in 2007.  Additionally, from approximately July 22, 2007, to July 25, 2007, Rosenbeck received computer files containing child pornography from an Internet website.                 At sentencing, scheduled for Dec. 5, 2011, Rosenbeck faces a maximum statutory sentence of 20 years in prison for the receipt of child pornography count and 10 years in prison for each count of possession of child pornography.  Rosenbeck also faces a term of supervised release of at least five years and up to life.       The case is being prosecuted by Trial Attorneys Alecia Riewerts Wolak and Michael W. Grant of the Criminal Division’s Child Exploitation and Obscenity Section (CEOS).  The investigation was conducted by the FBI with assistance provided by the Springfield Police Department.</td>\n",
       "      <td>2011-10-06T00:00:00-04:00</td>\n",
       "      <td>Project Safe Childhood</td>\n",
       "      <td>Criminal Division</td>\n",
       "      <td>0.008</td>\n",
       "      <td>0.874</td>\n",
       "      <td>0.008</td>\n",
       "      <td>-0.9451</td>\n",
       "      <td>washington springfield mass plead guilti today receiv possess child pornographi announc general lanni breuer crimin robert rosenbeck plead guilti judg denis casper boston count receipt child pornographi count possess child pornographi indict charg accord court document rosenbeck possess differ comput contain child pornographi addit approxim juli juli rosenbeck receiv comput file contain child pornographi internet websit sentenc schedul rosenbeck face maximum statutori sentenc year prison receipt child pornographi count year prison count possess child pornographi rosenbeck also face term supervis releas least five year life prosecut attorney alecia riewert wolak michael grant crimin child exploit obscen section ceo conduct provid springfield polic</td>\n",
       "    </tr>\n",
       "    <tr>\n",
       "      <th>7618</th>\n",
       "      <td>17-242</td>\n",
       "      <td>Justice Department Sues Edmonds, Washington Landlords for Discriminating Against Families With Children</td>\n",
       "      <td>The U.S. Department of Justice today filed a lawsuit in U.S. District Court for the Western District of Washington alleging that the owners and manager of three Edmonds, Washington apartment buildings refused to rent their apartments to families with children, in violation of the Fair Housing Act.    “The Fair Housing Act prohibits landlords from denying apartments to families just because they have children,” said Acting Assistant Attorney General Tom Wheeler of the Justice Department’s Civil Rights Division. “Many families already face challenges finding affordable housing, and they should not also have to deal with unlawful discrimination.”   “Equal access to housing is essential for all Americans, including families with young children,” said U.S. Attorney Annette L. Hayes of the Western District of Washington. “Particularly in our tight housing market, landlords must follow the law and make units available without discrimination based on race, color, religion, sex, national origin, disability or familial status.”   The complaint concerns three apartment buildings – located at 201 5th Ave. N., 621 5th Ave. S., and 401 Pine Street in Edmonds – that are managed by defendant Debbie A. Appleby, of Stanwood, Washington. The properties are owned by three Limited Liability Corporations (LLCs) controlled by Appleby – Apple One, LLC, Apple Two, LLC, and Apple Three, LLC—which are also named as defendants in the suit. The complaint alleges that in March 2014, defendant Appleby told a woman seeking an apartment for herself, her husband, and their one year old child that the apartment buildings were “adult only” and therefore not available to her family. The complaint also alleges that at various other times from April 2014 to November 2015, defendants advertised their available apartments as being restricted to adults only. The family filed a complaint with the Department of Housing and Urban Development (“HUD”) which conducted an investigation, issued a charge of discrimination against the defendants, and referred the case to the Department of Justice.    The complaint seeks a court order requiring defendants to cease their discriminatory housing practices, damages for the family that filed the HUD complaint and any other families against whom the defendants discriminated against because they had children, and civil penalties. Any individuals who have information relevant to this case are encouraged to contact the Civil Rights Division at 1-800-896-7743, Option 96.   The federal Fair Housing Act prohibits discrimination in housing on the basis of race, color, religion, sex, familial status, national origin and disability. More information about the Civil Rights Division and the civil rights laws it enforces is available at www.usdoj.gov/crt  and https://www.justice.gov/usao-wdwa/civil-rights. Individuals who believe that they have been victims of housing discrimination may call the Justice Department at 1-800-896-7743, email the Justice Department at fairhousing@usdoj.gov, or contact HUD at 1-800-669-9777 or through its website at www.hud.gov.   The case is being jointly handled by the Department’s Civil Rights Division and the U.S. Attorney’s Office for the Western District of Washington.   The complaint is an allegation of unlawful conduct. The allegations must still be proven in federal court.</td>\n",
       "      <td>2017-03-03T00:00:00-05:00</td>\n",
       "      <td>Civil Rights</td>\n",
       "      <td>Civil Rights Division; Civil Rights - Housing and Civil Enforcement Section; USAO - Washington, Western</td>\n",
       "      <td>0.009</td>\n",
       "      <td>0.912</td>\n",
       "      <td>0.009</td>\n",
       "      <td>-0.9753</td>\n",
       "      <td>today file lawsuit court western washington alleg owner manag three edmond washington apart build refus rent apart famili children violat fair hous fair hous prohibit landlord deni apart famili children said act general wheeler mani famili alreadi face challeng find afford hous also deal unlaw discrimin equal access hous essenti american includ famili young children said annett hay western washington particular tight hous market landlord must follow make unit avail without discrimin base race color religion nation origin disabl famili status complaint concern three apart build locat pine street edmond manag defend debbi applebi stanwood washington properti own three limit liabil corpor llcs control applebi appl appl appl three also name defend suit complaint alleg march defend applebi told woman seek apart husband year child apart build adult therefor avail famili complaint also alleg various time april novemb defend advertis avail apart restrict adult famili file complaint hous urban develop conduct issu charg discrimin defend refer complaint seek court order requir defend ceas discriminatori hous practic damag famili file complaint famili defend discrimin children penalti individu inform relev encourag contact option feder fair hous prohibit discrimin hous basi race color religion famili status nation origin disabl inform law enforc avail usdoj https usao wdwa individu believ victim hous discrimin call email fairhous usdoj contact websit joint handl western washington complaint alleg unlaw conduct alleg must still proven feder court</td>\n",
       "    </tr>\n",
       "    <tr>\n",
       "      <th>8847</th>\n",
       "      <td>17-550</td>\n",
       "      <td>Mother Sentenced to 26 Months in Prison for Taking Child from Illinois to Canada in International Parental Kidnapping Case</td>\n",
       "      <td>A Canadian woman was sentenced to serve 26 months in prison following her December conviction for international parental kidnapping, announced Acting Assistant Attorney General Kenneth A. Blanco of the Justice Department’s Criminal Division and Acting U.S. Attorney Patrick D. Hansen of the Central District of Illinois.   Sarah M. Nixon, 48, of Montreal, Canada, was sentenced before U.S. District Judge Colin S. Bruce of the Central District of Illinois. On Dec. 21, 2016, a federal jury found Nixon guilty of one count of international parental kidnapping for taking her minor child from the United States to Canada in July 2015, with the intent to obstruct the lawful exercise of the father’s rights.   Evidence at trial established that after a custody trial where it was apparent that Nixon would lose custody of her six-year-old daughter, Nixon fled the United States with the child in the middle of the night. When she did not appear for the custody ruling and neither she nor her daughter could be located, law enforcement issued a child abduction alert. Nixon and the child were eventually located in a farmhouse in rural Ontario, Canada. Authorities then returned the child to the father. Nixon was arrested in New York on Sept. 20, 2015, as she attempted to return to the United States.    Trial Attorneys Elly M. Peirson and Lauren S. Kupersmith of the Criminal Division’s Child Exploitation and Obscenity Section prosecuted the case. The FBI; Urbana, Illinois, Police Department; University of Illinois Police Department; Illinois Department of Children and Family Services; Ontario Provincial Police; and U.S. Customs and Border Protection investigated the case, with assistance from the Champaign County, Illinois, State’s Attorney’s Office and the Criminal Division’s Office of International Affairs.</td>\n",
       "      <td>2017-05-19T00:00:00-04:00</td>\n",
       "      <td>Project Safe Childhood</td>\n",
       "      <td>Criminal Division; Criminal - Child Exploitation and Obscenity Section; USAO - Illinois, Central</td>\n",
       "      <td>0.010</td>\n",
       "      <td>0.894</td>\n",
       "      <td>0.010</td>\n",
       "      <td>-0.9460</td>\n",
       "      <td>canadian woman sentenc serv month prison follow decemb convict intern parent kidnap announc act general kenneth blanco crimin act patrick hansen central illinoi sarah nixon montreal canada sentenc judg colin bruce central illinoi feder juri found nixon guilti count intern parent kidnap take minor child unit state canada juli intent obstruct law exercis father evid establish custodi appar nixon would lose custodi year daughter nixon fled unit state child middl night appear custodi rule neither daughter could locat enforc issu child abduct alert nixon child eventu locat farmhous rural ontario canada author return child father nixon arrest york sept attempt return unit state attorney elli peirson lauren kupersmith crimin child exploit obscen section prosecut urbana illinoi polic univers illinoi polic illinoi children famili servic ontario provinci polic custom border protect investig champaign counti illinoi state crimin intern affair</td>\n",
       "    </tr>\n",
       "    <tr>\n",
       "      <th>...</th>\n",
       "      <td>...</td>\n",
       "      <td>...</td>\n",
       "      <td>...</td>\n",
       "      <td>...</td>\n",
       "      <td>...</td>\n",
       "      <td>...</td>\n",
       "      <td>...</td>\n",
       "      <td>...</td>\n",
       "      <td>...</td>\n",
       "      <td>...</td>\n",
       "      <td>...</td>\n",
       "    </tr>\n",
       "    <tr>\n",
       "      <th>6089</th>\n",
       "      <td>18-119</td>\n",
       "      <td>Justice Department Announces Religious Liberty Update to U.S. Attorneys’ Manual and Directs the Designation of Religious Liberty Point of Contact for All U.S. Attorney's Offices</td>\n",
       "      <td>The Department of Justice today announced the update of the United States Attorneys’ Manual (USAM) with a new section titled, “Associate Attorney General’s Approval and Notice Requirements for Issues Implicating Religious Liberty.” On Oct. 6, 2017, the Attorney General issued a Memorandum for All Executive Departments and Agencies entitled Federal Law Protections for Religious Liberty. The memo directed components and United States Attorney’s Offices to use the guidance in litigation, advice to the Executive Branch, operations, grants, and all other aspects of the Department’s work. In order to ensure compliance with the Attorney General’s memo, the USAM will be updated with language that directs relevant Department of Justice components to: The updated USAM will also instruct relevant Justice Department components to consult the 20 religious liberty principles laid out in the Attorney General’s October 6 memo when considering whether the notice or approval requirements are initiated. In order to fully effectuate the approval and notice requirements in the updated USAM, the Department will instruct all U.S. Attorneys to designate a point of contact to lead these efforts for their office. “Religious liberty is an inalienable right protected by the Constitution, and defending it is one of the most important things we do at the Department of Justice,” said Associate Attorney General Rachel Brand. At President Trump's direction, Attorney General Sessions issued a robust and clear guidance document in October that clearly explains how the federal government is to apply the religious liberty protections currently on the books.  The requirement that each of the U.S. Attorney offices designate a religious liberty point of contact will ensure that the Attorney General’s Memorandum is effectively implemented. The designees will be responsible for working directly with the leadership offices on civil cases related to religious liberty, ensuring that these cases receive the rigorous attention they deserve.</td>\n",
       "      <td>2018-01-31T00:00:00-05:00</td>\n",
       "      <td>Civil Rights</td>\n",
       "      <td>Civil Rights Division; Office of the Associate Attorney General</td>\n",
       "      <td>0.199</td>\n",
       "      <td>0.788</td>\n",
       "      <td>0.199</td>\n",
       "      <td>0.9944</td>\n",
       "      <td>today announc updat unit state attorney manual usam section titl associ general approv notic requir issu implic religi liberti general issu memorandum execut depart agenc entitl feder protect religi liberti memo direct compon unit state offic guidanc litig advic execut branch oper grant aspect work order ensur complianc general memo usam updat languag direct relev compon updat usam also instruct relev compon consult religi liberti principl laid general octob memo consid whether notic approv requir initi order fulli effectu approv notic requir updat usam instruct attorney design point contact lead effort religi liberti inalien right protect constitut defend import thing said associ general rachel brand presid trump direct general session issu robust clear guidanc document octob clear explain feder govern appli religi liberti protect current book requir offic design religi liberti point contact ensur general memorandum effect implement designe respons work direct leadership offic case relat religi liberti ensur case receiv rigor attent deserv</td>\n",
       "    </tr>\n",
       "    <tr>\n",
       "      <th>6733</th>\n",
       "      <td>16-1321</td>\n",
       "      <td>Justice Department Reaches Agreement with City of Yonkers, New York, to Enhance Police Department Policies and Procedures</td>\n",
       "      <td>The Justice Department announced today that it has reached an agreement with the city of Yonkers, New York, and the Yonkers Police Department (YPD) to resolve the department’s investigation of YPD and ensure constitutional policing. The agreement is the result of the department’s investigation of YPD under the Violent Crime Control and Law Enforcement Act of 1994 and the Omnibus Crime Control and Safe Streets Act of 1968.  In June 2009, the United States sent the city a technical assistance letter that identified necessary reforms to YPD practices and policies in the areas of use of force, civilian complaints, investigations, supervisory oversight and training.  After receiving the department’s technical assistance letter, the city and YPD made substantial changes to its policies and procedures.  This agreement implements and further improves those policies and procedures and addresses the department’s remaining concerns.  “This agreement will ensure that the Yonkers Police Department continues to advance constitutional, effective and community-oriented policing,” said Principal Deputy Assistant Attorney General Vanita Gupta, head of the Justice Department’s Civil Rights Division.  “Through clear policy guidance, data analysis and accountability systems, we believe these reforms will make the entire community safer and strengthen public trust in the police.” “This agreement ensures that the Yonkers Police Department polices in a way that keeps its citizens safe, while protecting their constitutional rights,” said U.S. Attorney Preet Bharara of the Southern District of New York.  “The measures put in place with this agreement, including clear and reasonable use-of-force policies and guidance on how to properly evaluate and respond to use-of-force incidents, will make Yonkers safer for citizens and police alike.  We thank the Yonkers Police Department and the city of Yonkers for cooperating with our investigation, and for joining our effort to ensure that the Yonkers Police Department protects its citizens not only from physical harm, but also from violations of their constitutional rights.” The agreement is carefully tailored to address the department’s remaining concerns while also taking into account and seeking to build upon the positive reforms YPD has already made following the department’s investigation.  Under the agreement, the YPD will, among other things: The agreement also provides that consultants retained by the department will conduct compliance reviews to ensure that YPD has implemented the measures required by the agreement and issue public reports of those compliance reviews. This case is being handled by the Civil Rights Division’s Special Litigation Section and the U.S. Attorney’s Office of the Southern District of New York. Yonkers Police Department Agreement</td>\n",
       "      <td>2016-11-14T00:00:00-05:00</td>\n",
       "      <td>Civil Rights</td>\n",
       "      <td>Civil Rights Division; Civil Rights - Special Litigation Section; USAO - New York, Southern</td>\n",
       "      <td>0.199</td>\n",
       "      <td>0.778</td>\n",
       "      <td>0.199</td>\n",
       "      <td>0.9950</td>\n",
       "      <td>announc today reach agreement citi yonker york yonker polic resolv ensur constitut polic agreement result violent crime control enforc omnibus crime control safe street june unit state sent citi technic letter identifi necessari reform practic polici area forc civilian complaint investig supervisori oversight train receiv technic letter citi made substanti chang polici procedur agreement implement improv polici procedur address remain concern agreement ensur yonker polic continu advanc constitut effect communiti orient polic said princip deputi general vanita gupta head clear polici guidanc data analysi account system believ reform make entir communiti safer strengthen public trust polic agreement ensur yonker polic polic keep citizen safe protect constitut said preet bharara southern york measur place agreement includ clear reason forc polici guidanc proper evalu respond forc incid make yonker safer citizen polic alik thank yonker polic citi yonker cooper join effort ensur yonker polic protect citizen physic harm also violat constitut agreement care tailor address remain concern also take account seek build upon posit reform alreadi made follow agreement among thing agreement also provid consult retain conduct complianc review ensur implement measur requir agreement issu public report complianc review handl special litig section southern york yonker polic agreement</td>\n",
       "    </tr>\n",
       "    <tr>\n",
       "      <th>6905</th>\n",
       "      <td>16-740</td>\n",
       "      <td>Justice Department Reaches Settlement to Reform Criminal Justice System in Hinds County, Mississippi</td>\n",
       "      <td>The Justice Department today reached a landmark settlement agreement to reform the criminal justice system in Hinds County, Mississippi.  The agreement resolves the department’s findings that the Hinds County Adult Detention Center and the Jackson City Detention Center – which together form the Hinds County Jail – failed to protect prisoners from violence and excessive force and held them past their court-ordered release dates, in violation of the Civil Rights of Institutionalized Persons Act (CRIPA). The settlement agreement is the first of its kind to incorporate broader criminal justice system reform through diversion at the front end and reentry to the community after incarceration.  It creates a criminal justice coordinating committee that will help ensure the county’s systems operate effectively and efficiently, develop interventions to divert individuals in appropriate cases from arrest, detention and incarceration, and engage in community outreach.  To promote successful reentry, the agreement includes mechanisms for notifying community health providers when a person with serious mental illness is released to help the person transition safely back to the community.  The agreement also addresses unlawful enforcement of court-ordered fines and fees by ensuring that the county cannot incarcerate an individual for non-payment if the court does not first assess whether the individual is indigent. “Across the board, this settlement will make the Hinds County criminal justice system smarter and fairer,” said Principal Deputy Assistant Attorney General Vanita Gupta, head of the Justice Department’s Civil Rights Division.  “If implemented, these reforms will make pretrial detainees, prisoners, corrections staff and the entire community safer, while also ensuring that vulnerable individuals get access to the treatment, care and community services they need and deserve.  We commend the county for its commitment to making these reforms a reality.” “For too long, the conditions in the Jail have posed a serious challenge to law enforcement and the safety of our community,” said U.S. Attorney Gregory K. Davis of the Southern District of Mississippi.  “I appreciate the commitment made by Hinds County officials to turn the page and begin making necessary reforms.” The settlement agreement – subject to approval by the U.S. District Court of the Southern District of Mississippi – requires the county to implement a series of reforms across various stages of the criminal justice system, including the following: Together these reforms aim to improve communication and coordination among criminal justice entities and community service providers to help individuals with mental illness transition back to the community and to reduce recidivism.  If approved by the federal district court, an independent monitor will be appointed to assess the county’s compliance.  In May 2015, the Justice Department completed a comprehensive investigation – which included on-site inspections, document reviews and stakeholder interviews by department experts and staff – and issued a findings letter that determined that Hinds County Adult Detention Center and the Jackson City Detention Center violated CRIPA by failing to protect prisoners from violence by other prisoners and from improper use of force by staff.  The department also found that inadequate staffing and training, a backlog in record filing and a lack of centralized information resulted in prisoners being held beyond court-ordered release dates. CRIPA authorizes the department to seek a remedy for a pattern or practice of conduct that violates the constitutional rights of persons confined in a jail, prison or other correctional facility.  For more information on the Civil Rights Division’s work in this area, please visit www.justice.gov/crt. Hinds County Settlement Agreement Hinds County Fact Sheet</td>\n",
       "      <td>2016-06-23T00:00:00-04:00</td>\n",
       "      <td>Civil Rights</td>\n",
       "      <td>Civil Rights Division; Civil Rights - Special Litigation Section; USAO - Mississippi, Southern</td>\n",
       "      <td>0.205</td>\n",
       "      <td>0.659</td>\n",
       "      <td>0.205</td>\n",
       "      <td>0.9888</td>\n",
       "      <td>today reach landmark settlement agreement reform crimin system hind counti mississippi agreement resolv find hind counti adult detent center jackson citi detent center togeth form hind counti jail fail protect prison violenc excess forc held past court order releas date violat institution person cripa settlement agreement first kind incorpor broader crimin system reform divers front reentri communiti incarcer creat crimin coordin committe help ensur counti system oper effect effici develop intervent divert individu appropri case arrest detent incarcer engag communiti outreach promot success reentri agreement includ mechan notifi communiti health provid person serious mental ill releas help person transit safe back communiti agreement also address unlaw enforc court order fine fee ensur counti cannot incarcer individu payment court first assess whether individu indig across board settlement make hind counti crimin system smarter fairer said princip deputi general vanita gupta head implement reform make pretrial detaine prison correct staff entir communiti safer also ensur vulner individu access treatment care communiti servic need deserv commend counti commit make reform realiti long condit jail pose serious challeng enforc safeti communiti said gregori davi southern mississippi appreci commit made hind counti offici turn page begin make necessari reform settlement agreement subject approv court southern mississippi requir counti implement seri reform across various stage crimin system includ follow togeth reform improv communic coordin among crimin entiti communiti servic provid help individu mental ill transit back communiti reduc recidiv approv feder court independ monitor appoint assess counti complianc complet comprehens includ site inspect document review stakehold interview expert staff issu find letter determin hind counti adult detent center jackson citi detent center violat cripa fail protect prison violenc prison improp forc staff also found inadequ staf train backlog record file lack central inform result prison held beyond court order releas date cripa author seek remedi pattern practic conduct violat constitut person confin jail prison correct facil inform work area pleas visit hind counti settlement agreement hind counti fact sheet</td>\n",
       "    </tr>\n",
       "    <tr>\n",
       "      <th>11066</th>\n",
       "      <td>16-163</td>\n",
       "      <td>Statement from Head of the Civil Rights Division Vanita Gupta Regarding Ferguson, Missouri, City Council Vote on Proposed Consent Decree</td>\n",
       "      <td>Principal Deputy Assistant Attorney General Vanita Gupta, head of the Justice Department’s Civil Rights Division, released the following statement regarding the Ferguson, Missouri, City Council vote on the proposed consent decree with the Department of Justice:  “The Ferguson City Council has attempted to unilaterally amend the negotiated agreement.  Their vote to do so creates an unnecessary delay in the essential work to bring constitutional policing to the city, and marks an unfortunate outcome for concerned community members and Ferguson police officers.  Both parties engaged in thoughtful negotiations over many months to create an agreement with cost-effective remedies that would ensure Ferguson brings policing and court practices in line with the Constitution.  The agreement already negotiated by the department and the city will provide Ferguson residents a police department and municipal court that fully respects civil rights and operates free from racial discrimination. “The Department of Justice will take the necessary legal actions to ensure that Ferguson’s policing and court practices comply with the Constitution and relevant federal laws.”</td>\n",
       "      <td>2016-02-10T00:00:00-05:00</td>\n",
       "      <td>Civil Rights</td>\n",
       "      <td>Civil Rights Division; Civil Rights - Special Litigation Section</td>\n",
       "      <td>0.217</td>\n",
       "      <td>0.752</td>\n",
       "      <td>0.217</td>\n",
       "      <td>0.9811</td>\n",
       "      <td>princip deputi general vanita gupta head releas follow statement regard ferguson missouri citi council vote propos consent decre ferguson citi council attempt unilater amend negoti agreement vote creat unnecessari delay essenti work bring constitut polic citi mark unfortun outcom concern communiti member ferguson polic offic parti engag thought negoti mani month creat agreement cost effect remedi would ensur ferguson bring polic court practic line constitut agreement alreadi negoti citi provid ferguson resid polic municip court fulli respect oper free racial discrimin take necessari legal action ensur ferguson polic court practic compli constitut relev feder law</td>\n",
       "    </tr>\n",
       "    <tr>\n",
       "      <th>6727</th>\n",
       "      <td>16-217</td>\n",
       "      <td>Justice Department Reaches Agreement with the City of Miami and the Miami Police Department to Implement Reforms on Officer-Involved Shootings</td>\n",
       "      <td>The Justice Department has reached a comprehensive settlement agreement with the city of Miami and the Miami Police Department (MPD) resolving the Justice Department’s investigation of officer-involved shootings by MPD officers, announced Principal Deputy Assistant Attorney General Vanita Gupta, head of the Justice Department’s Civil Rights Division and U.S. Attorney Wifredo A. Ferrer of the Southern District of Florida. The settlement, which was approved by Miami’s city commission today and will go into effect when the agreement is signed by all parties, resolves claims stemming from the Justice Department’s investigation into officer-involved shootings by MPD officers, which was conducted under the Violent Crime Control and Law Enforcement Act of 1994.  The investigation’s findings, issued in July 2013, identified a pattern or practice of excessive use of force through officer-involved shootings in violation of the Fourth Amendment of the Constitution.  The city’s compliance with the settlement will be monitored by an independent reviewer, former Tampa, Florida, Police Chief Jane Castor.  Under the settlement agreement, the city will implement comprehensive reforms to ensure constitutional policing and support public trust.  The settlement agreement is designed to minimize officer-involved shootings and to more effectively and quickly investigate officer-involved shootings that do occur, through measures that include: “This settlement represents a renewed commitment by the city of Miami and Chief Rodolfo Llanes to provide constitutional policing for Miami residents and to protect public safety through sustainable reform,” said Principal Deputy Assistant Attorney General Gupta.  “The agreement will help to strengthen the relationship between the MPD and the communities they serve by improving accountability for officers who fire their weapons unlawfully, and provides for community participation in the enforcement of this agreement.”  “Today's agreement is the result of a joint effort between the Department of Justice and the City of Miami to ensure that the Miami Police Department continues its efforts to make our community safe while protecting the sacred Constitutional rights of all of our citizens,” said U.S. Attorney Ferrer.  “Through oversight and communication, the agreement seeks to make permanent the positive changes that former Chief Orosa and Chief Llanes have made, and we applaud the City Commission’s vote.” The settlement agreement builds upon important reforms implemented by the city since the Justice Department issued its findings, including:  The investigation was conducted by attorneys and staff from the Civil Rights Division’s Special Litigation Section and the Civil Division of the U. S. Attorney’s Office of the Southern District of Florida.</td>\n",
       "      <td>2016-02-25T00:00:00-05:00</td>\n",
       "      <td>Civil Rights</td>\n",
       "      <td>Civil Rights Division; Civil Rights - Special Litigation Section; USAO - Florida, Southern</td>\n",
       "      <td>0.222</td>\n",
       "      <td>0.755</td>\n",
       "      <td>0.222</td>\n",
       "      <td>0.9966</td>\n",
       "      <td>reach comprehens settlement agreement citi miami miami polic resolv offic involv shoot offic announc princip deputi general vanita gupta head wifredo ferrer southern florida settlement approv miami citi commiss today effect agreement sign parti resolv claim stem offic involv shoot offic conduct violent crime control enforc find issu juli identifi pattern practic excess forc offic involv shoot violat fourth amend constitut citi complianc settlement monitor independ review former tampa florida polic chief jane castor settlement agreement citi implement comprehens reform ensur constitut polic support public trust settlement agreement design minim offic involv shoot effect quick investig offic involv shoot occur measur includ settlement repres renew commit citi miami chief rodolfo llane provid constitut polic miami resid protect public safeti sustain reform said princip deputi general gupta agreement help strengthen relationship communiti serv improv account offic fire weapon unlaw provid communiti particip enforc agreement today agreement result joint effort citi miami ensur miami polic continu effort make communiti safe protect sacr constitut citizen said ferrer oversight communic agreement seek make perman posit chang former chief orosa chief llane made applaud citi commiss vote settlement agreement build upon import reform implement citi sinc issu find includ conduct attorney staff special litig section southern florida</td>\n",
       "    </tr>\n",
       "  </tbody>\n",
       "</table>\n",
       "<p>717 rows × 11 columns</p>\n",
       "</div>"
      ],
      "text/plain": [
       "            id  \\\n",
       "5247    18-913   \n",
       "8075   11-1245   \n",
       "8353   11-1331   \n",
       "7618    17-242   \n",
       "8847    17-550   \n",
       "...        ...   \n",
       "6089    18-119   \n",
       "6733   16-1321   \n",
       "6905    16-740   \n",
       "11066   16-163   \n",
       "6727    16-217   \n",
       "\n",
       "                                                                                                                                                                                   title  \\\n",
       "5247                                                                                         Grapevine Texas Man Pleads Guilty to Federal Hate Crime  Against an African-American Family   \n",
       "8075                                                                                                               Louisiana Man Convicted of Producing and Possessing Child Pornography   \n",
       "8353                                                                                                       Massachusetts Man Pleads Guilty to Receiving and Possessing Child Pornography   \n",
       "7618                                                                             Justice Department Sues Edmonds, Washington Landlords for Discriminating Against Families With Children   \n",
       "8847                                                          Mother Sentenced to 26 Months in Prison for Taking Child from Illinois to Canada in International Parental Kidnapping Case   \n",
       "...                                                                                                                                                                                  ...   \n",
       "6089   Justice Department Announces Religious Liberty Update to U.S. Attorneys’ Manual and Directs the Designation of Religious Liberty Point of Contact for All U.S. Attorney's Offices   \n",
       "6733                                                           Justice Department Reaches Agreement with City of Yonkers, New York, to Enhance Police Department Policies and Procedures   \n",
       "6905                                                                                Justice Department Reaches Settlement to Reform Criminal Justice System in Hinds County, Mississippi   \n",
       "11066                                           Statement from Head of the Civil Rights Division Vanita Gupta Regarding Ferguson, Missouri, City Council Vote on Proposed Consent Decree   \n",
       "6727                                      Justice Department Reaches Agreement with the City of Miami and the Miami Police Department to Implement Reforms on Officer-Involved Shootings   \n",
       "\n",
       "                                                                                                                                                                                                                                                                                                                                                                                                                                                                                                                                                                                                                                                                                                                                                                                                                                                                                                                                                                                                                                                                                                                                                                                                                                                                                                                                                                                                                                                                                                                                                                                                                                                                                                                                                                                                                                                                                                                                                                                                                                                                                                                                                                                                                                                                                                                                                                                                                                                                                                                                                                                                                                                                                                                                                                                                                                                                                                                                                                                                                                                                                                                                                                                                                                                                                                                                                                                                                                                                                                                                                                                                                                                                                                                                                                                                                                                                                                                                                                                                                                                    contents  \\\n",
       "5247                                                                                                                                                                                                                                                                                                                                                                                                                                                                                                                                                                                                                                                                                                                                                                                                                                                                                                                                                                                                                                                                                                                                                                                                                                                                                                                                                                                                                                                                                                                                                                                                                                                                                                                                                                              Glenn Eugene Halfin, 64, from Grapevine, Texas, appeared today before U.S. Magistrate Judge Jeffrey L. Cureton in the U.S. District Court for the Northern District of Texas and pleaded guilty to a federal charge of interfering with an African-American family’s housing rights, announced Acting Assistant Attorney General John Gore of the Civil Rights Division and U.S. Attorney Erin Nealy Cox of the Northern District of Texas. According to court documents, Halfin threatened force, intimidated, and interfered with a family because of their race and occupancy of an apartment that was located directly above his own apartment.  According to documents filed in connection with the guilty plea, on Dec. 19, 2017, Halfin purchased a baby doll at a Wal-Mart in Grapevine, Texas. He took a rope, fashioned it into a noose, and hung the baby doll from the noose. Halfin then hung the rope noose and baby doll on the railing directly in front of the only staircase the family could use to access their apartment. Halfin did so, knowing that this display would be particularly intimidating for the family who had a young daughter. In addition, the defendant referenced in his factual basis repeated intimidation of and interference with the same African-American family on other occasions. “The Justice Department will not tolerate acts of intimidation and fear, or illegal threats against any individual or family because of their race,” said Acting Assistant Attorney John Gore. “We will continue to prosecute hate crime offenders.” “No one should be afraid to go home at night,” said U.S. Attorney Erin Nealy Cox.  “Our community will not tolerate crimes of intimidation or bigotry, and my office will continue to prosecute all those who persecute others based on their race, color, ethnicity, or religious beliefs.” Halfin faces a statutory maximum penalty of no more one year in federal prison and a $100,000 fine. His sentencing is scheduled for October 24. This case was investigated by the FBI and the Grapevine Police Department. The case was prosecuted by Trial Attorney Rebekah Bailey of the Civil Rights Division’s Criminal Section and Assistant United States Attorney Nicole Dana.   \n",
       "8075                                                                                                                                                                                                                                                                                                                                                                                                                                                                                                                                                                                                                                                                                                                                                                                                                                                                                                                                                                                                                                                                                                                                                                                                                                                                                                                                                                                                                                                                                                                                                                                                                                                                                                                                                                                                                                                                                                                                                                                                                                                                                                                                                                                                                                                                                                                                                                                                                                                                                                             WASHINGTON –    Paul W. Miller, of Denham Springs, La., was convicted late yesterday of two counts of producing and one count of possessing child pornography, announced Assistant Attorney General Lanny A. Breuer of the Criminal Division and U.S. Attorney Donald J. Cazayoux Jr. of the Middle District of Louisiana.        Miller, 44, was convicted by a federal jury following a two-day trial.  U.S. District Judge James J. Brady presided over the trial.       Evidence presented at trial showed that from October 2007 to May 2008, Miller sexually abused a 12-year-old girl and an 11-year-old girl and produced numerous photographs of the abuse.  According to trial evidence, forensic examination of Miller’s computer revealed that Miller had used his computer to print and possess numerous images of child pornography, including both the images of child pornography he had produced and images of other child victims.                 Miller faces a maximum statutory sentence of 30 years in prison for each count of production of child pornography and 10 years in prison for the possession of child pornography count.       The case is being prosecuted by Trial Attorney Alecia Riewerts Wolak of the Criminal Division’s Child Exploitation and Obscenity Section (CEOS) and Assistant U.S. Attorney Richard L. Bourgeois Jr. of the Middle District of Louisiana.  The investigation was conducted by the FBI, the Denham Springs Police Department and the Louisiana Attorney General’s Office.   \n",
       "8353                                                                                                                                                                                                                                                                                                                                                                                                                                                                                                                                                                                                                                                                                                                                                                                                                                                                                                                                                                                                                                                                                                                                                                                                                                                                                                                                                                                                                                                                                                                                                                                                                                                                                                                                                                                                                                                                                                                                                                                                                                                                                                                                                                                                                                                                                                                                                                                                                                                                                                                                                                                                                                                                               WASHINGTON –    A Springfield, Mass., man pleaded guilty today to receiving and possessing child pornography, announced Assistant Attorney General Lanny A. Breuer of the Criminal Division.       Robert Rosenbeck, 48, pleaded guilty before U.S. District Judge Denise J. Casper in Boston to one count of receipt of child pornography and two counts of possession of child pornography.  He was indicted on those charges on Dec. 10, 2009.        According to court documents, Rosenbeck possessed two different computers containing child pornography in 2007.  Additionally, from approximately July 22, 2007, to July 25, 2007, Rosenbeck received computer files containing child pornography from an Internet website.                 At sentencing, scheduled for Dec. 5, 2011, Rosenbeck faces a maximum statutory sentence of 20 years in prison for the receipt of child pornography count and 10 years in prison for each count of possession of child pornography.  Rosenbeck also faces a term of supervised release of at least five years and up to life.       The case is being prosecuted by Trial Attorneys Alecia Riewerts Wolak and Michael W. Grant of the Criminal Division’s Child Exploitation and Obscenity Section (CEOS).  The investigation was conducted by the FBI with assistance provided by the Springfield Police Department.   \n",
       "7618                                                                                                                                                                                                                                                                                                                                                                                                                                                                                                                                                                 The U.S. Department of Justice today filed a lawsuit in U.S. District Court for the Western District of Washington alleging that the owners and manager of three Edmonds, Washington apartment buildings refused to rent their apartments to families with children, in violation of the Fair Housing Act.    “The Fair Housing Act prohibits landlords from denying apartments to families just because they have children,” said Acting Assistant Attorney General Tom Wheeler of the Justice Department’s Civil Rights Division. “Many families already face challenges finding affordable housing, and they should not also have to deal with unlawful discrimination.”   “Equal access to housing is essential for all Americans, including families with young children,” said U.S. Attorney Annette L. Hayes of the Western District of Washington. “Particularly in our tight housing market, landlords must follow the law and make units available without discrimination based on race, color, religion, sex, national origin, disability or familial status.”   The complaint concerns three apartment buildings – located at 201 5th Ave. N., 621 5th Ave. S., and 401 Pine Street in Edmonds – that are managed by defendant Debbie A. Appleby, of Stanwood, Washington. The properties are owned by three Limited Liability Corporations (LLCs) controlled by Appleby – Apple One, LLC, Apple Two, LLC, and Apple Three, LLC—which are also named as defendants in the suit. The complaint alleges that in March 2014, defendant Appleby told a woman seeking an apartment for herself, her husband, and their one year old child that the apartment buildings were “adult only” and therefore not available to her family. The complaint also alleges that at various other times from April 2014 to November 2015, defendants advertised their available apartments as being restricted to adults only. The family filed a complaint with the Department of Housing and Urban Development (“HUD”) which conducted an investigation, issued a charge of discrimination against the defendants, and referred the case to the Department of Justice.    The complaint seeks a court order requiring defendants to cease their discriminatory housing practices, damages for the family that filed the HUD complaint and any other families against whom the defendants discriminated against because they had children, and civil penalties. Any individuals who have information relevant to this case are encouraged to contact the Civil Rights Division at 1-800-896-7743, Option 96.   The federal Fair Housing Act prohibits discrimination in housing on the basis of race, color, religion, sex, familial status, national origin and disability. More information about the Civil Rights Division and the civil rights laws it enforces is available at www.usdoj.gov/crt  and https://www.justice.gov/usao-wdwa/civil-rights. Individuals who believe that they have been victims of housing discrimination may call the Justice Department at 1-800-896-7743, email the Justice Department at fairhousing@usdoj.gov, or contact HUD at 1-800-669-9777 or through its website at www.hud.gov.   The case is being jointly handled by the Department’s Civil Rights Division and the U.S. Attorney’s Office for the Western District of Washington.   The complaint is an allegation of unlawful conduct. The allegations must still be proven in federal court.   \n",
       "8847                                                                                                                                                                                                                                                                                                                                                                                                                                                                                                                                                                                                                                                                                                                                                                                                                                                                                                                                                                                                                                                                                                                                                                                                                                                                                                                                                                                                                                                                                                                                                                                                                                                                                                                                                                                                                                                                                                                                                                                                                                                                                                                                                              A Canadian woman was sentenced to serve 26 months in prison following her December conviction for international parental kidnapping, announced Acting Assistant Attorney General Kenneth A. Blanco of the Justice Department’s Criminal Division and Acting U.S. Attorney Patrick D. Hansen of the Central District of Illinois.   Sarah M. Nixon, 48, of Montreal, Canada, was sentenced before U.S. District Judge Colin S. Bruce of the Central District of Illinois. On Dec. 21, 2016, a federal jury found Nixon guilty of one count of international parental kidnapping for taking her minor child from the United States to Canada in July 2015, with the intent to obstruct the lawful exercise of the father’s rights.   Evidence at trial established that after a custody trial where it was apparent that Nixon would lose custody of her six-year-old daughter, Nixon fled the United States with the child in the middle of the night. When she did not appear for the custody ruling and neither she nor her daughter could be located, law enforcement issued a child abduction alert. Nixon and the child were eventually located in a farmhouse in rural Ontario, Canada. Authorities then returned the child to the father. Nixon was arrested in New York on Sept. 20, 2015, as she attempted to return to the United States.    Trial Attorneys Elly M. Peirson and Lauren S. Kupersmith of the Criminal Division’s Child Exploitation and Obscenity Section prosecuted the case. The FBI; Urbana, Illinois, Police Department; University of Illinois Police Department; Illinois Department of Children and Family Services; Ontario Provincial Police; and U.S. Customs and Border Protection investigated the case, with assistance from the Champaign County, Illinois, State’s Attorney’s Office and the Criminal Division’s Office of International Affairs.    \n",
       "...                                                                                                                                                                                                                                                                                                                                                                                                                                                                                                                                                                                                                                                                                                                                                                                                                                                                                                                                                                                                                                                                                                                                                                                                                                                                                                                                                                                                                                                                                                                                                                                                                                                                                                                                                                                                                                                                                                                                                                                                                                                                                                                                                                                                                                                                                                                                                                                                                                                                                                                                                                                                                                                                                                                                                                                                                                                                                                                                                                                                                                                                                                                                                                                                                                                                                                                                                                                                                                                                                                                                                                                                                                                                                                                                                                                                                                                                                                                                                                                                                                                      ...   \n",
       "6089                                                                                                                                                                                                                                                                                                                                                                                                                                                                                                                                                                                                                                                                                                                                                                                                                                                                                                                                                                                                                                                                                                                                                                                                                                                                                                                                                                                                                                                                                                                                                                                                                                                                                                                                                                                                                                                                                                                                           The Department of Justice today announced the update of the United States Attorneys’ Manual (USAM) with a new section titled, “Associate Attorney General’s Approval and Notice Requirements for Issues Implicating Religious Liberty.” On Oct. 6, 2017, the Attorney General issued a Memorandum for All Executive Departments and Agencies entitled Federal Law Protections for Religious Liberty. The memo directed components and United States Attorney’s Offices to use the guidance in litigation, advice to the Executive Branch, operations, grants, and all other aspects of the Department’s work. In order to ensure compliance with the Attorney General’s memo, the USAM will be updated with language that directs relevant Department of Justice components to: The updated USAM will also instruct relevant Justice Department components to consult the 20 religious liberty principles laid out in the Attorney General’s October 6 memo when considering whether the notice or approval requirements are initiated. In order to fully effectuate the approval and notice requirements in the updated USAM, the Department will instruct all U.S. Attorneys to designate a point of contact to lead these efforts for their office. “Religious liberty is an inalienable right protected by the Constitution, and defending it is one of the most important things we do at the Department of Justice,” said Associate Attorney General Rachel Brand. At President Trump's direction, Attorney General Sessions issued a robust and clear guidance document in October that clearly explains how the federal government is to apply the religious liberty protections currently on the books.  The requirement that each of the U.S. Attorney offices designate a religious liberty point of contact will ensure that the Attorney General’s Memorandum is effectively implemented. The designees will be responsible for working directly with the leadership offices on civil cases related to religious liberty, ensuring that these cases receive the rigorous attention they deserve.   \n",
       "6733                                                                                                                                                                                                                                                                                                                                                                                                                                                                                                                                                                                                                                                                                                                                                                                                                                                                                                                                                                                                                                                                                                            The Justice Department announced today that it has reached an agreement with the city of Yonkers, New York, and the Yonkers Police Department (YPD) to resolve the department’s investigation of YPD and ensure constitutional policing. The agreement is the result of the department’s investigation of YPD under the Violent Crime Control and Law Enforcement Act of 1994 and the Omnibus Crime Control and Safe Streets Act of 1968.  In June 2009, the United States sent the city a technical assistance letter that identified necessary reforms to YPD practices and policies in the areas of use of force, civilian complaints, investigations, supervisory oversight and training.  After receiving the department’s technical assistance letter, the city and YPD made substantial changes to its policies and procedures.  This agreement implements and further improves those policies and procedures and addresses the department’s remaining concerns.  “This agreement will ensure that the Yonkers Police Department continues to advance constitutional, effective and community-oriented policing,” said Principal Deputy Assistant Attorney General Vanita Gupta, head of the Justice Department’s Civil Rights Division.  “Through clear policy guidance, data analysis and accountability systems, we believe these reforms will make the entire community safer and strengthen public trust in the police.” “This agreement ensures that the Yonkers Police Department polices in a way that keeps its citizens safe, while protecting their constitutional rights,” said U.S. Attorney Preet Bharara of the Southern District of New York.  “The measures put in place with this agreement, including clear and reasonable use-of-force policies and guidance on how to properly evaluate and respond to use-of-force incidents, will make Yonkers safer for citizens and police alike.  We thank the Yonkers Police Department and the city of Yonkers for cooperating with our investigation, and for joining our effort to ensure that the Yonkers Police Department protects its citizens not only from physical harm, but also from violations of their constitutional rights.” The agreement is carefully tailored to address the department’s remaining concerns while also taking into account and seeking to build upon the positive reforms YPD has already made following the department’s investigation.  Under the agreement, the YPD will, among other things: The agreement also provides that consultants retained by the department will conduct compliance reviews to ensure that YPD has implemented the measures required by the agreement and issue public reports of those compliance reviews. This case is being handled by the Civil Rights Division’s Special Litigation Section and the U.S. Attorney’s Office of the Southern District of New York. Yonkers Police Department Agreement   \n",
       "6905   The Justice Department today reached a landmark settlement agreement to reform the criminal justice system in Hinds County, Mississippi.  The agreement resolves the department’s findings that the Hinds County Adult Detention Center and the Jackson City Detention Center – which together form the Hinds County Jail – failed to protect prisoners from violence and excessive force and held them past their court-ordered release dates, in violation of the Civil Rights of Institutionalized Persons Act (CRIPA). The settlement agreement is the first of its kind to incorporate broader criminal justice system reform through diversion at the front end and reentry to the community after incarceration.  It creates a criminal justice coordinating committee that will help ensure the county’s systems operate effectively and efficiently, develop interventions to divert individuals in appropriate cases from arrest, detention and incarceration, and engage in community outreach.  To promote successful reentry, the agreement includes mechanisms for notifying community health providers when a person with serious mental illness is released to help the person transition safely back to the community.  The agreement also addresses unlawful enforcement of court-ordered fines and fees by ensuring that the county cannot incarcerate an individual for non-payment if the court does not first assess whether the individual is indigent. “Across the board, this settlement will make the Hinds County criminal justice system smarter and fairer,” said Principal Deputy Assistant Attorney General Vanita Gupta, head of the Justice Department’s Civil Rights Division.  “If implemented, these reforms will make pretrial detainees, prisoners, corrections staff and the entire community safer, while also ensuring that vulnerable individuals get access to the treatment, care and community services they need and deserve.  We commend the county for its commitment to making these reforms a reality.” “For too long, the conditions in the Jail have posed a serious challenge to law enforcement and the safety of our community,” said U.S. Attorney Gregory K. Davis of the Southern District of Mississippi.  “I appreciate the commitment made by Hinds County officials to turn the page and begin making necessary reforms.” The settlement agreement – subject to approval by the U.S. District Court of the Southern District of Mississippi – requires the county to implement a series of reforms across various stages of the criminal justice system, including the following: Together these reforms aim to improve communication and coordination among criminal justice entities and community service providers to help individuals with mental illness transition back to the community and to reduce recidivism.  If approved by the federal district court, an independent monitor will be appointed to assess the county’s compliance.  In May 2015, the Justice Department completed a comprehensive investigation – which included on-site inspections, document reviews and stakeholder interviews by department experts and staff – and issued a findings letter that determined that Hinds County Adult Detention Center and the Jackson City Detention Center violated CRIPA by failing to protect prisoners from violence by other prisoners and from improper use of force by staff.  The department also found that inadequate staffing and training, a backlog in record filing and a lack of centralized information resulted in prisoners being held beyond court-ordered release dates. CRIPA authorizes the department to seek a remedy for a pattern or practice of conduct that violates the constitutional rights of persons confined in a jail, prison or other correctional facility.  For more information on the Civil Rights Division’s work in this area, please visit www.justice.gov/crt. Hinds County Settlement Agreement Hinds County Fact Sheet   \n",
       "11066                                                                                                                                                                                                                                                                                                                                                                                                                                                                                                                                                                                                                                                                                                                                                                                                                                                                                                                                                                                                                                                                                                                                                                                                                                                                                                                                                                                                                                                                                                                                                                                                                                                                                                                                                                                                                                                                                                                                                                                                                                                                                                                                                                                                                                                                                                                                                                                                                                                                                                                                                                                                                                                                                                                                                                                                                                      Principal Deputy Assistant Attorney General Vanita Gupta, head of the Justice Department’s Civil Rights Division, released the following statement regarding the Ferguson, Missouri, City Council vote on the proposed consent decree with the Department of Justice:  “The Ferguson City Council has attempted to unilaterally amend the negotiated agreement.  Their vote to do so creates an unnecessary delay in the essential work to bring constitutional policing to the city, and marks an unfortunate outcome for concerned community members and Ferguson police officers.  Both parties engaged in thoughtful negotiations over many months to create an agreement with cost-effective remedies that would ensure Ferguson brings policing and court practices in line with the Constitution.  The agreement already negotiated by the department and the city will provide Ferguson residents a police department and municipal court that fully respects civil rights and operates free from racial discrimination. “The Department of Justice will take the necessary legal actions to ensure that Ferguson’s policing and court practices comply with the Constitution and relevant federal laws.”   \n",
       "6727                                                                                                                                                                                                                                                                                                                                                                                                                                                                                                                                                                                                                                                                                                                                                                                                                                                                                                                                                                                                                                                                                                                              The Justice Department has reached a comprehensive settlement agreement with the city of Miami and the Miami Police Department (MPD) resolving the Justice Department’s investigation of officer-involved shootings by MPD officers, announced Principal Deputy Assistant Attorney General Vanita Gupta, head of the Justice Department’s Civil Rights Division and U.S. Attorney Wifredo A. Ferrer of the Southern District of Florida. The settlement, which was approved by Miami’s city commission today and will go into effect when the agreement is signed by all parties, resolves claims stemming from the Justice Department’s investigation into officer-involved shootings by MPD officers, which was conducted under the Violent Crime Control and Law Enforcement Act of 1994.  The investigation’s findings, issued in July 2013, identified a pattern or practice of excessive use of force through officer-involved shootings in violation of the Fourth Amendment of the Constitution.  The city’s compliance with the settlement will be monitored by an independent reviewer, former Tampa, Florida, Police Chief Jane Castor.  Under the settlement agreement, the city will implement comprehensive reforms to ensure constitutional policing and support public trust.  The settlement agreement is designed to minimize officer-involved shootings and to more effectively and quickly investigate officer-involved shootings that do occur, through measures that include: “This settlement represents a renewed commitment by the city of Miami and Chief Rodolfo Llanes to provide constitutional policing for Miami residents and to protect public safety through sustainable reform,” said Principal Deputy Assistant Attorney General Gupta.  “The agreement will help to strengthen the relationship between the MPD and the communities they serve by improving accountability for officers who fire their weapons unlawfully, and provides for community participation in the enforcement of this agreement.”  “Today's agreement is the result of a joint effort between the Department of Justice and the City of Miami to ensure that the Miami Police Department continues its efforts to make our community safe while protecting the sacred Constitutional rights of all of our citizens,” said U.S. Attorney Ferrer.  “Through oversight and communication, the agreement seeks to make permanent the positive changes that former Chief Orosa and Chief Llanes have made, and we applaud the City Commission’s vote.” The settlement agreement builds upon important reforms implemented by the city since the Justice Department issued its findings, including:  The investigation was conducted by attorneys and staff from the Civil Rights Division’s Special Litigation Section and the Civil Division of the U. S. Attorney’s Office of the Southern District of Florida.   \n",
       "\n",
       "                            date            topics_clean  \\\n",
       "5247   2018-07-12T00:00:00-04:00             Hate Crimes   \n",
       "8075   2011-09-22T00:00:00-04:00  Project Safe Childhood   \n",
       "8353   2011-10-06T00:00:00-04:00  Project Safe Childhood   \n",
       "7618   2017-03-03T00:00:00-05:00            Civil Rights   \n",
       "8847   2017-05-19T00:00:00-04:00  Project Safe Childhood   \n",
       "...                          ...                     ...   \n",
       "6089   2018-01-31T00:00:00-05:00            Civil Rights   \n",
       "6733   2016-11-14T00:00:00-05:00            Civil Rights   \n",
       "6905   2016-06-23T00:00:00-04:00            Civil Rights   \n",
       "11066  2016-02-10T00:00:00-05:00            Civil Rights   \n",
       "6727   2016-02-25T00:00:00-05:00            Civil Rights   \n",
       "\n",
       "                                                                                              components_clean  \\\n",
       "5247                                                    Civil Rights Division; Civil Rights - Criminal Section   \n",
       "8075                                                                                         Criminal Division   \n",
       "8353                                                                                         Criminal Division   \n",
       "7618   Civil Rights Division; Civil Rights - Housing and Civil Enforcement Section; USAO - Washington, Western   \n",
       "8847          Criminal Division; Criminal - Child Exploitation and Obscenity Section; USAO - Illinois, Central   \n",
       "...                                                                                                        ...   \n",
       "6089                                           Civil Rights Division; Office of the Associate Attorney General   \n",
       "6733               Civil Rights Division; Civil Rights - Special Litigation Section; USAO - New York, Southern   \n",
       "6905            Civil Rights Division; Civil Rights - Special Litigation Section; USAO - Mississippi, Southern   \n",
       "11066                                         Civil Rights Division; Civil Rights - Special Litigation Section   \n",
       "6727                Civil Rights Division; Civil Rights - Special Litigation Section; USAO - Florida, Southern   \n",
       "\n",
       "         neg    neu    pos  compound  \\\n",
       "5247   0.005  0.806  0.005   -0.9955   \n",
       "8075   0.007  0.887  0.007   -0.9565   \n",
       "8353   0.008  0.874  0.008   -0.9451   \n",
       "7618   0.009  0.912  0.009   -0.9753   \n",
       "8847   0.010  0.894  0.010   -0.9460   \n",
       "...      ...    ...    ...       ...   \n",
       "6089   0.199  0.788  0.199    0.9944   \n",
       "6733   0.199  0.778  0.199    0.9950   \n",
       "6905   0.205  0.659  0.205    0.9888   \n",
       "11066  0.217  0.752  0.217    0.9811   \n",
       "6727   0.222  0.755  0.222    0.9966   \n",
       "\n",
       "                                                                                                                                                                                                                                                                                                                                                                                                                                                                                                                                                                                                                                                                                                                                                                                                                                                                                                                                                                                                                                                                                                                                                                                                                                                                                                                                                                                                                                                                                                                                                                                                                                                                                                                                                                                                                                                                                                                                                                                                                                                                                                                                                                                                                                                                                                                                                                      processed_text  \n",
       "5247                                                                                                                                                                                                                                                                                                                                                                                                                                                                                                                                                                                                                                                                                                                                                                                                                                                                                                                                                                                                                                                                                                                                                                                                                                    glenn eugen halfin grapevin texa appear today magistr judg jeffrey cureton court northern texa plead guilti feder charg interf african american famili hous announc act general john gore erin neali northern texa accord court document halfin threaten forc intimid interf famili race occup apart locat direct apart accord document file connect guilti plea halfin purchas babi doll mart grapevin texa took rope fashion noos hung babi doll noos halfin hung rope noos babi doll rail direct front staircas famili could access apart halfin know display would particular intimid famili young daughter addit defend referenc factual basi repeat intimid interfer african american famili occas toler act intimid fear illeg threat individu famili race said act john gore continu prosecut hate crime offend afraid home night said erin neali communiti toler crime intimid bigotri continu prosecut persecut other base race color ethnic religi belief halfin face statutori maximum penalti year feder prison fine sentenc schedul octob investig grapevin polic prosecut rebekah bailey crimin section unit state nicol dana  \n",
       "8075                                                                                                                                                                                                                                                                                                                                                                                                                                                                                                                                                                                                                                                                                                                                                                                                                                                                                                                                                                                                                                                                                                                                                                                                                                                                                                                                                                                                                                                                                                                                                                                          washington paul miller denham spring convict late yesterday count produc count possess child pornographi announc general lanni breuer crimin donald cazayoux middl louisiana miller convict feder juri follow judg jame bradi presid evid present show octob miller sexual abus year girl year girl produc numer photograph abus accord evid forens examin miller comput reveal miller use comput print possess numer imag child pornographi includ imag child pornographi produc imag child victim miller face maximum statutori sentenc year prison count product child pornographi year prison possess child pornographi count prosecut alecia riewert wolak crimin child exploit obscen section ceo richard bourgeoi middl louisiana conduct denham spring polic louisiana general  \n",
       "8353                                                                                                                                                                                                                                                                                                                                                                                                                                                                                                                                                                                                                                                                                                                                                                                                                                                                                                                                                                                                                                                                                                                                                                                                                                                                                                                                                                                                                                                                                                                                                                                            washington springfield mass plead guilti today receiv possess child pornographi announc general lanni breuer crimin robert rosenbeck plead guilti judg denis casper boston count receipt child pornographi count possess child pornographi indict charg accord court document rosenbeck possess differ comput contain child pornographi addit approxim juli juli rosenbeck receiv comput file contain child pornographi internet websit sentenc schedul rosenbeck face maximum statutori sentenc year prison receipt child pornographi count year prison count possess child pornographi rosenbeck also face term supervis releas least five year life prosecut attorney alecia riewert wolak michael grant crimin child exploit obscen section ceo conduct provid springfield polic  \n",
       "7618                                                                                                                                                                                                                                                                                                                                                                                                                                                                                                                                                                                                                                                                                                                                                        today file lawsuit court western washington alleg owner manag three edmond washington apart build refus rent apart famili children violat fair hous fair hous prohibit landlord deni apart famili children said act general wheeler mani famili alreadi face challeng find afford hous also deal unlaw discrimin equal access hous essenti american includ famili young children said annett hay western washington particular tight hous market landlord must follow make unit avail without discrimin base race color religion nation origin disabl famili status complaint concern three apart build locat pine street edmond manag defend debbi applebi stanwood washington properti own three limit liabil corpor llcs control applebi appl appl appl three also name defend suit complaint alleg march defend applebi told woman seek apart husband year child apart build adult therefor avail famili complaint also alleg various time april novemb defend advertis avail apart restrict adult famili file complaint hous urban develop conduct issu charg discrimin defend refer complaint seek court order requir defend ceas discriminatori hous practic damag famili file complaint famili defend discrimin children penalti individu inform relev encourag contact option feder fair hous prohibit discrimin hous basi race color religion famili status nation origin disabl inform law enforc avail usdoj https usao wdwa individu believ victim hous discrimin call email fairhous usdoj contact websit joint handl western washington complaint alleg unlaw conduct alleg must still proven feder court  \n",
       "8847                                                                                                                                                                                                                                                                                                                                                                                                                                                                                                                                                                                                                                                                                                                                                                                                                                                                                                                                                                                                                                                                                                                                                                                                                                                                                                                                                                                               canadian woman sentenc serv month prison follow decemb convict intern parent kidnap announc act general kenneth blanco crimin act patrick hansen central illinoi sarah nixon montreal canada sentenc judg colin bruce central illinoi feder juri found nixon guilti count intern parent kidnap take minor child unit state canada juli intent obstruct law exercis father evid establish custodi appar nixon would lose custodi year daughter nixon fled unit state child middl night appear custodi rule neither daughter could locat enforc issu child abduct alert nixon child eventu locat farmhous rural ontario canada author return child father nixon arrest york sept attempt return unit state attorney elli peirson lauren kupersmith crimin child exploit obscen section prosecut urbana illinoi polic univers illinoi polic illinoi children famili servic ontario provinci polic custom border protect investig champaign counti illinoi state crimin intern affair  \n",
       "...                                                                                                                                                                                                                                                                                                                                                                                                                                                                                                                                                                                                                                                                                                                                                                                                                                                                                                                                                                                                                                                                                                                                                                                                                                                                                                                                                                                                                                                                                                                                                                                                                                                                                                                                                                                                                                                                                                                                                                                                                                                                                                                                                                                                                                                                                                                                                                              ...  \n",
       "6089                                                                                                                                                                                                                                                                                                                                                                                                                                                                                                                                                                                                                                                                                                                                                                                                                                                                                                                                                                                                                                                                                                                                                                                                                                                                                today announc updat unit state attorney manual usam section titl associ general approv notic requir issu implic religi liberti general issu memorandum execut depart agenc entitl feder protect religi liberti memo direct compon unit state offic guidanc litig advic execut branch oper grant aspect work order ensur complianc general memo usam updat languag direct relev compon updat usam also instruct relev compon consult religi liberti principl laid general octob memo consid whether notic approv requir initi order fulli effectu approv notic requir updat usam instruct attorney design point contact lead effort religi liberti inalien right protect constitut defend import thing said associ general rachel brand presid trump direct general session issu robust clear guidanc document octob clear explain feder govern appli religi liberti protect current book requir offic design religi liberti point contact ensur general memorandum effect implement designe respons work direct leadership offic case relat religi liberti ensur case receiv rigor attent deserv  \n",
       "6733                                                                                                                                                                                                                                                                                                                                                                                                                                                                                                                                                                                                                                                                                                                                                                                                                                                                                                                                    announc today reach agreement citi yonker york yonker polic resolv ensur constitut polic agreement result violent crime control enforc omnibus crime control safe street june unit state sent citi technic letter identifi necessari reform practic polici area forc civilian complaint investig supervisori oversight train receiv technic letter citi made substanti chang polici procedur agreement implement improv polici procedur address remain concern agreement ensur yonker polic continu advanc constitut effect communiti orient polic said princip deputi general vanita gupta head clear polici guidanc data analysi account system believ reform make entir communiti safer strengthen public trust polic agreement ensur yonker polic polic keep citizen safe protect constitut said preet bharara southern york measur place agreement includ clear reason forc polici guidanc proper evalu respond forc incid make yonker safer citizen polic alik thank yonker polic citi yonker cooper join effort ensur yonker polic protect citizen physic harm also violat constitut agreement care tailor address remain concern also take account seek build upon posit reform alreadi made follow agreement among thing agreement also provid consult retain conduct complianc review ensur implement measur requir agreement issu public report complianc review handl special litig section southern york yonker polic agreement  \n",
       "6905   today reach landmark settlement agreement reform crimin system hind counti mississippi agreement resolv find hind counti adult detent center jackson citi detent center togeth form hind counti jail fail protect prison violenc excess forc held past court order releas date violat institution person cripa settlement agreement first kind incorpor broader crimin system reform divers front reentri communiti incarcer creat crimin coordin committe help ensur counti system oper effect effici develop intervent divert individu appropri case arrest detent incarcer engag communiti outreach promot success reentri agreement includ mechan notifi communiti health provid person serious mental ill releas help person transit safe back communiti agreement also address unlaw enforc court order fine fee ensur counti cannot incarcer individu payment court first assess whether individu indig across board settlement make hind counti crimin system smarter fairer said princip deputi general vanita gupta head implement reform make pretrial detaine prison correct staff entir communiti safer also ensur vulner individu access treatment care communiti servic need deserv commend counti commit make reform realiti long condit jail pose serious challeng enforc safeti communiti said gregori davi southern mississippi appreci commit made hind counti offici turn page begin make necessari reform settlement agreement subject approv court southern mississippi requir counti implement seri reform across various stage crimin system includ follow togeth reform improv communic coordin among crimin entiti communiti servic provid help individu mental ill transit back communiti reduc recidiv approv feder court independ monitor appoint assess counti complianc complet comprehens includ site inspect document review stakehold interview expert staff issu find letter determin hind counti adult detent center jackson citi detent center violat cripa fail protect prison violenc prison improp forc staff also found inadequ staf train backlog record file lack central inform result prison held beyond court order releas date cripa author seek remedi pattern practic conduct violat constitut person confin jail prison correct facil inform work area pleas visit hind counti settlement agreement hind counti fact sheet  \n",
       "11066                                                                                                                                                                                                                                                                                                                                                                                                                                                                                                                                                                                                                                                                                                                                                                                                                                                                                                                                                                                                                                                                                                                                                                                                                                                                                                                                                                                                                                                                                                                                                                                                                                                                                 princip deputi general vanita gupta head releas follow statement regard ferguson missouri citi council vote propos consent decre ferguson citi council attempt unilater amend negoti agreement vote creat unnecessari delay essenti work bring constitut polic citi mark unfortun outcom concern communiti member ferguson polic offic parti engag thought negoti mani month creat agreement cost effect remedi would ensur ferguson bring polic court practic line constitut agreement alreadi negoti citi provid ferguson resid polic municip court fulli respect oper free racial discrimin take necessari legal action ensur ferguson polic court practic compli constitut relev feder law  \n",
       "6727                                                                                                                                                                                                                                                                                                                                                                                                                                                                                                                                                                                                                                                                                                                                                                                                                                                                             reach comprehens settlement agreement citi miami miami polic resolv offic involv shoot offic announc princip deputi general vanita gupta head wifredo ferrer southern florida settlement approv miami citi commiss today effect agreement sign parti resolv claim stem offic involv shoot offic conduct violent crime control enforc find issu juli identifi pattern practic excess forc offic involv shoot violat fourth amend constitut citi complianc settlement monitor independ review former tampa florida polic chief jane castor settlement agreement citi implement comprehens reform ensur constitut polic support public trust settlement agreement design minim offic involv shoot effect quick investig offic involv shoot occur measur includ settlement repres renew commit citi miami chief rodolfo llane provid constitut polic miami resid protect public safeti sustain reform said princip deputi general gupta agreement help strengthen relationship communiti serv improv account offic fire weapon unlaw provid communiti particip enforc agreement today agreement result joint effort citi miami ensur miami polic continu effort make communiti safe protect sacr constitut citizen said ferrer oversight communic agreement seek make perman posit chang former chief orosa chief llane made applaud citi commiss vote settlement agreement build upon import reform implement citi sinc issu find includ conduct attorney staff special litig section southern florida  \n",
       "\n",
       "[717 rows x 11 columns]"
      ]
     },
     "execution_count": 21,
     "metadata": {},
     "output_type": "execute_result"
    }
   ],
   "source": [
    "#B\n",
    "cleaned_strings = [preprocess(string) for string in \n",
    "                   doj_subset_wscore.contents]\n",
    "doj_subset_wscore['processed_text'] = cleaned_strings\n",
    "doj_subset_wscore"
   ]
  },
  {
   "cell_type": "code",
   "execution_count": 22,
   "metadata": {},
   "outputs": [
    {
     "data": {
      "text/html": [
       "<div>\n",
       "<style scoped>\n",
       "    .dataframe tbody tr th:only-of-type {\n",
       "        vertical-align: middle;\n",
       "    }\n",
       "\n",
       "    .dataframe tbody tr th {\n",
       "        vertical-align: top;\n",
       "    }\n",
       "\n",
       "    .dataframe thead th {\n",
       "        text-align: right;\n",
       "    }\n",
       "</style>\n",
       "<table border=\"1\" class=\"dataframe\">\n",
       "  <thead>\n",
       "    <tr style=\"text-align: right;\">\n",
       "      <th></th>\n",
       "      <th>id</th>\n",
       "      <th>contents</th>\n",
       "      <th>processed_text</th>\n",
       "    </tr>\n",
       "  </thead>\n",
       "  <tbody>\n",
       "    <tr>\n",
       "      <th>11593</th>\n",
       "      <td>16-718</td>\n",
       "      <td>In a nine-count indictment unsealed today, two Mississippi correctional officers were charged with beating an inmate and a third was charged with helping to cover it up.  The indictment charged Lawardrick Marsher, 28, and Robert Sturdivant, 47, officers at Mississippi State Penitentiary, in Parchman, Mississippi, with a beating that included kicking, punching and throwing the victim to the ground.  Marsher and Sturdivant were charged with violating the right of K.H., a convicted prisoner, to be free from cruel and unusual punishment.  Sturdivant was also charged with failing to intervene while Marsher was punching and beating K.H.  The indictment alleges that their actions involved the use of a dangerous weapon and resulted in bodily injury to the victim. A third officer, Deonte Pate, 23, was charged along with Marsher and Sturdivant for conspiring to cover up the beating.  The indictment alleges that all three officers submitted false reports and that all three lied to the FBI. If convicted, Marsher and Sturdivant face a maximum sentence of 10 years in prison on the excessive force charges.  Each of the three officers faces up to five years in prison on the conspiracy and false statement charges, and up to 20 years in prison on the false report charges. An indictment is merely an accusation, and the defendants are presumed innocent unless and until proven guilty. This case is being investigated by the FBI’s Jackson Division, with the cooperation of the Mississippi Department of Corrections.  It is being prosecuted by Assistant U.S. Attorney Robert Coleman of the Northern District of Mississippi and Trial Attorney Dana Mulhauser of the Civil Rights Division’s Criminal Section.     Marsher Indictment</td>\n",
       "      <td>nine count indict unseal today mississippi correct offic charg beat inmat third charg help cover indict charg lawardrick marsher robert sturdiv offic mississippi state penitentiari parchman mississippi beat includ kick punch throw victim ground marsher sturdiv charg violat right convict prison free cruel unusu punish sturdiv also charg fail interven marsher punch beat indict alleg action involv danger weapon result bodili injuri victim third offic deont pate charg along marsher sturdiv conspir cover beat indict alleg three offic submit fals report three lie convict marsher sturdiv face maximum sentenc year prison excess forc charg three offic face five year prison conspiraci fals statement charg year prison fals report charg indict mere accus defend presum innoc unless proven guilti investig jackson cooper mississippi correct prosecut robert coleman northern mississippi dana mulhaus crimin section marsher indict</td>\n",
       "    </tr>\n",
       "    <tr>\n",
       "      <th>6727</th>\n",
       "      <td>16-217</td>\n",
       "      <td>The Justice Department has reached a comprehensive settlement agreement with the city of Miami and the Miami Police Department (MPD) resolving the Justice Department’s investigation of officer-involved shootings by MPD officers, announced Principal Deputy Assistant Attorney General Vanita Gupta, head of the Justice Department’s Civil Rights Division and U.S. Attorney Wifredo A. Ferrer of the Southern District of Florida. The settlement, which was approved by Miami’s city commission today and will go into effect when the agreement is signed by all parties, resolves claims stemming from the Justice Department’s investigation into officer-involved shootings by MPD officers, which was conducted under the Violent Crime Control and Law Enforcement Act of 1994.  The investigation’s findings, issued in July 2013, identified a pattern or practice of excessive use of force through officer-involved shootings in violation of the Fourth Amendment of the Constitution.  The city’s compliance with the settlement will be monitored by an independent reviewer, former Tampa, Florida, Police Chief Jane Castor.  Under the settlement agreement, the city will implement comprehensive reforms to ensure constitutional policing and support public trust.  The settlement agreement is designed to minimize officer-involved shootings and to more effectively and quickly investigate officer-involved shootings that do occur, through measures that include: “This settlement represents a renewed commitment by the city of Miami and Chief Rodolfo Llanes to provide constitutional policing for Miami residents and to protect public safety through sustainable reform,” said Principal Deputy Assistant Attorney General Gupta.  “The agreement will help to strengthen the relationship between the MPD and the communities they serve by improving accountability for officers who fire their weapons unlawfully, and provides for community participation in the enforcement of this agreement.”  “Today's agreement is the result of a joint effort between the Department of Justice and the City of Miami to ensure that the Miami Police Department continues its efforts to make our community safe while protecting the sacred Constitutional rights of all of our citizens,” said U.S. Attorney Ferrer.  “Through oversight and communication, the agreement seeks to make permanent the positive changes that former Chief Orosa and Chief Llanes have made, and we applaud the City Commission’s vote.” The settlement agreement builds upon important reforms implemented by the city since the Justice Department issued its findings, including:  The investigation was conducted by attorneys and staff from the Civil Rights Division’s Special Litigation Section and the Civil Division of the U. S. Attorney’s Office of the Southern District of Florida.</td>\n",
       "      <td>reach comprehens settlement agreement citi miami miami polic resolv offic involv shoot offic announc princip deputi general vanita gupta head wifredo ferrer southern florida settlement approv miami citi commiss today effect agreement sign parti resolv claim stem offic involv shoot offic conduct violent crime control enforc find issu juli identifi pattern practic excess forc offic involv shoot violat fourth amend constitut citi complianc settlement monitor independ review former tampa florida polic chief jane castor settlement agreement citi implement comprehens reform ensur constitut polic support public trust settlement agreement design minim offic involv shoot effect quick investig offic involv shoot occur measur includ settlement repres renew commit citi miami chief rodolfo llane provid constitut polic miami resid protect public safeti sustain reform said princip deputi general gupta agreement help strengthen relationship communiti serv improv account offic fire weapon unlaw provid communiti particip enforc agreement today agreement result joint effort citi miami ensur miami polic continu effort make communiti safe protect sacr constitut citizen said ferrer oversight communic agreement seek make perman posit chang former chief orosa chief llane made applaud citi commiss vote settlement agreement build upon import reform implement citi sinc issu find includ conduct attorney staff special litig section southern florida</td>\n",
       "    </tr>\n",
       "  </tbody>\n",
       "</table>\n",
       "</div>"
      ],
      "text/plain": [
       "           id  \\\n",
       "11593  16-718   \n",
       "6727   16-217   \n",
       "\n",
       "                                                                                                                                                                                                                                                                                                                                                                                                                                                                                                                                                                                                                                                                                                                                                                                                                                                                                                                                                                                                                                                                                                                                                                                                                                                                                                                                                                                                                                                                                                                                                                                                                                                                                                                                                                                                                                                                                                                                                                                                                                                                                                                                                                                                                                                                                                                                                                                                                                                                                                                                                                                                                                                                                                                                                                                                                                                                                                                         contents  \\\n",
       "11593                                                                                                                                                                                                                                                                                                                                                                                                                                                                                                                                                                                                                                                                                                                                                                                                                                                                                                                                                                                                                                                                                                                            In a nine-count indictment unsealed today, two Mississippi correctional officers were charged with beating an inmate and a third was charged with helping to cover it up.  The indictment charged Lawardrick Marsher, 28, and Robert Sturdivant, 47, officers at Mississippi State Penitentiary, in Parchman, Mississippi, with a beating that included kicking, punching and throwing the victim to the ground.  Marsher and Sturdivant were charged with violating the right of K.H., a convicted prisoner, to be free from cruel and unusual punishment.  Sturdivant was also charged with failing to intervene while Marsher was punching and beating K.H.  The indictment alleges that their actions involved the use of a dangerous weapon and resulted in bodily injury to the victim. A third officer, Deonte Pate, 23, was charged along with Marsher and Sturdivant for conspiring to cover up the beating.  The indictment alleges that all three officers submitted false reports and that all three lied to the FBI. If convicted, Marsher and Sturdivant face a maximum sentence of 10 years in prison on the excessive force charges.  Each of the three officers faces up to five years in prison on the conspiracy and false statement charges, and up to 20 years in prison on the false report charges. An indictment is merely an accusation, and the defendants are presumed innocent unless and until proven guilty. This case is being investigated by the FBI’s Jackson Division, with the cooperation of the Mississippi Department of Corrections.  It is being prosecuted by Assistant U.S. Attorney Robert Coleman of the Northern District of Mississippi and Trial Attorney Dana Mulhauser of the Civil Rights Division’s Criminal Section.     Marsher Indictment   \n",
       "6727   The Justice Department has reached a comprehensive settlement agreement with the city of Miami and the Miami Police Department (MPD) resolving the Justice Department’s investigation of officer-involved shootings by MPD officers, announced Principal Deputy Assistant Attorney General Vanita Gupta, head of the Justice Department’s Civil Rights Division and U.S. Attorney Wifredo A. Ferrer of the Southern District of Florida. The settlement, which was approved by Miami’s city commission today and will go into effect when the agreement is signed by all parties, resolves claims stemming from the Justice Department’s investigation into officer-involved shootings by MPD officers, which was conducted under the Violent Crime Control and Law Enforcement Act of 1994.  The investigation’s findings, issued in July 2013, identified a pattern or practice of excessive use of force through officer-involved shootings in violation of the Fourth Amendment of the Constitution.  The city’s compliance with the settlement will be monitored by an independent reviewer, former Tampa, Florida, Police Chief Jane Castor.  Under the settlement agreement, the city will implement comprehensive reforms to ensure constitutional policing and support public trust.  The settlement agreement is designed to minimize officer-involved shootings and to more effectively and quickly investigate officer-involved shootings that do occur, through measures that include: “This settlement represents a renewed commitment by the city of Miami and Chief Rodolfo Llanes to provide constitutional policing for Miami residents and to protect public safety through sustainable reform,” said Principal Deputy Assistant Attorney General Gupta.  “The agreement will help to strengthen the relationship between the MPD and the communities they serve by improving accountability for officers who fire their weapons unlawfully, and provides for community participation in the enforcement of this agreement.”  “Today's agreement is the result of a joint effort between the Department of Justice and the City of Miami to ensure that the Miami Police Department continues its efforts to make our community safe while protecting the sacred Constitutional rights of all of our citizens,” said U.S. Attorney Ferrer.  “Through oversight and communication, the agreement seeks to make permanent the positive changes that former Chief Orosa and Chief Llanes have made, and we applaud the City Commission’s vote.” The settlement agreement builds upon important reforms implemented by the city since the Justice Department issued its findings, including:  The investigation was conducted by attorneys and staff from the Civil Rights Division’s Special Litigation Section and the Civil Division of the U. S. Attorney’s Office of the Southern District of Florida.   \n",
       "\n",
       "                                                                                                                                                                                                                                                                                                                                                                                                                                                                                                                                                                                                                                                                                                                                                                                                                                                                                                                                                                                                                                                                                                                                                                                                                                                                                                                                                                                                                                                                                            processed_text  \n",
       "11593                                                                                                                                                                                                                                                                                                                                                                                                                                                                                                                                        nine count indict unseal today mississippi correct offic charg beat inmat third charg help cover indict charg lawardrick marsher robert sturdiv offic mississippi state penitentiari parchman mississippi beat includ kick punch throw victim ground marsher sturdiv charg violat right convict prison free cruel unusu punish sturdiv also charg fail interven marsher punch beat indict alleg action involv danger weapon result bodili injuri victim third offic deont pate charg along marsher sturdiv conspir cover beat indict alleg three offic submit fals report three lie convict marsher sturdiv face maximum sentenc year prison excess forc charg three offic face five year prison conspiraci fals statement charg year prison fals report charg indict mere accus defend presum innoc unless proven guilti investig jackson cooper mississippi correct prosecut robert coleman northern mississippi dana mulhaus crimin section marsher indict  \n",
       "6727   reach comprehens settlement agreement citi miami miami polic resolv offic involv shoot offic announc princip deputi general vanita gupta head wifredo ferrer southern florida settlement approv miami citi commiss today effect agreement sign parti resolv claim stem offic involv shoot offic conduct violent crime control enforc find issu juli identifi pattern practic excess forc offic involv shoot violat fourth amend constitut citi complianc settlement monitor independ review former tampa florida polic chief jane castor settlement agreement citi implement comprehens reform ensur constitut polic support public trust settlement agreement design minim offic involv shoot effect quick investig offic involv shoot occur measur includ settlement repres renew commit citi miami chief rodolfo llane provid constitut polic miami resid protect public safeti sustain reform said princip deputi general gupta agreement help strengthen relationship communiti serv improv account offic fire weapon unlaw provid communiti particip enforc agreement today agreement result joint effort citi miami ensur miami polic continu effort make communiti safe protect sacr constitut citizen said ferrer oversight communic agreement seek make perman posit chang former chief orosa chief llane made applaud citi commiss vote settlement agreement build upon import reform implement citi sinc issu find includ conduct attorney staff special litig section southern florida  "
      ]
     },
     "execution_count": 22,
     "metadata": {},
     "output_type": "execute_result"
    }
   ],
   "source": [
    "## your code showing the examples\n",
    "\n",
    "doj_subset_wscore[(doj_subset_wscore['id'] == '16-718') | (doj_subset_wscore['id'] == '16-217')][['id', 'contents', 'processed_text']]\n"
   ]
  },
  {
   "cell_type": "markdown",
   "metadata": {},
   "source": [
    "## 2.2 Create a document-term matrix from the preprocessed press releases and to explore top words (5 points)\n",
    "\n",
    "A. Use the `create_dtm` function I provide (alternately, feel free to write your own!) and create a document-term matrix using the preprocessed press releases; make sure metadata contains the following columns: `id`, `compound` sentiment column you added, and the `topics_clean` column\n",
    "\n",
    "B. Print the top 10 words for press releases with compound sentiment in the top 5% (so the most positive sentiment)\n",
    "\n",
    "C. Print the top 10 words for press releases with compound sentiment in the bottom 5% (so the most negative sentiment)\n",
    "\n",
    "**Hint**: for these, remember the pandas quantile function from pset one.  \n",
    "\n",
    "D. Print the top 10 words for press releases in each of the three `topics_clean`\n",
    "\n",
    "For steps B - D, to receive full credit, write a function `get_topwords` that helps you avoid duplicated code when you find top words for the different subsets of the data. There are different ways to structure it but one way is to feed it subsetted data (so data subsetted to one topic etc.) and for it to get the top words for that subset.\n"
   ]
  },
  {
   "cell_type": "code",
   "execution_count": 23,
   "metadata": {},
   "outputs": [],
   "source": [
    "\n",
    "def create_dtm(list_of_strings, metadata):\n",
    "    vectorizer = CountVectorizer(lowercase = True)\n",
    "    dtm_sparse = vectorizer.fit_transform(list_of_strings)\n",
    "    dtm_dense_named = pd.DataFrame(dtm_sparse.todense(), \n",
    "        columns=vectorizer.get_feature_names_out()) #had to edit from get_feature_names because version difference\n",
    "    dtm_dense_named_withid = pd.concat([metadata.reset_index(), dtm_dense_named], axis = 1)\n",
    "    return(dtm_dense_named_withid)"
   ]
  },
  {
   "cell_type": "code",
   "execution_count": 25,
   "metadata": {},
   "outputs": [],
   "source": [
    "# your code here\n",
    "\n",
    "# changing the compound metadata column name so it doesn't conflict with the word 'compound'\n",
    "doj_subset_wscore.rename(columns={'compound': 'compound_'}, inplace=True)\n",
    "\n",
    "# changing the axis name so it doesn't conflict with the word 'index'\n",
    "doj_subset_wscore.rename_axis('index_', inplace=True)\n",
    "\n",
    "dtm_doj = create_dtm(list_of_strings= doj_subset_wscore.processed_text,\n",
    "                metadata = \n",
    "                doj_subset_wscore[['id','compound_', 'topics_clean']])\n",
    "\n"
   ]
  },
  {
   "cell_type": "code",
   "execution_count": 27,
   "metadata": {},
   "outputs": [
    {
     "data": {
      "text/plain": [
       "[]"
      ]
     },
     "execution_count": 27,
     "metadata": {},
     "output_type": "execute_result"
    }
   ],
   "source": [
    "# making sure there are no other duplicates in the dtm\n",
    "list1 = dtm_doj.keys().to_list()\n",
    "seen = set()\n",
    "dupes = [x for x in list1 if x in seen or seen.add(x)]    \n",
    "dupes"
   ]
  },
  {
   "cell_type": "code",
   "execution_count": 29,
   "metadata": {},
   "outputs": [],
   "source": [
    "def get_topwords(data, subset, decimal=None, specific_value=None):\n",
    "    if decimal is not None:\n",
    "        press = data[data[subset] > data[subset].quantile(decimal)]\n",
    "    else:\n",
    "        press = data\n",
    "        \n",
    "    if specific_value is not None:\n",
    "        press = press[press[subset] == specific_value]\n",
    "        \n",
    "    top_terms = press[press.columns[4:]].sum(axis=0)\n",
    "    return top_terms.sort_values(ascending=False).head(10)"
   ]
  },
  {
   "cell_type": "code",
   "execution_count": 30,
   "metadata": {},
   "outputs": [
    {
     "data": {
      "text/plain": [
       "agreement     175\n",
       "enforc        121\n",
       "state         118\n",
       "ensur         110\n",
       "disabl        107\n",
       "communiti      97\n",
       "court          91\n",
       "servic         90\n",
       "student        87\n",
       "settlement     87\n",
       "dtype: int64"
      ]
     },
     "execution_count": 30,
     "metadata": {},
     "output_type": "execute_result"
    }
   ],
   "source": [
    "#B\n",
    "\n",
    "top_positive_words = get_topwords(data=dtm_doj, subset='compound_', decimal=0.95)\n",
    "top_positive_words"
   ]
  },
  {
   "cell_type": "code",
   "execution_count": 31,
   "metadata": {},
   "outputs": [
    {
     "data": {
      "text/plain": [
       "child       1079\n",
       "feder       1070\n",
       "victim       996\n",
       "prosecut     948\n",
       "sentenc      904\n",
       "said         896\n",
       "state        881\n",
       "charg        857\n",
       "year         834\n",
       "general      817\n",
       "dtype: int64"
      ]
     },
     "execution_count": 31,
     "metadata": {},
     "output_type": "execute_result"
    }
   ],
   "source": [
    "#C\n",
    "\n",
    "top_negative_words = get_topwords(data=dtm_doj, subset='compound_', decimal=0.05)\n",
    "top_negative_words"
   ]
  },
  {
   "cell_type": "code",
   "execution_count": 34,
   "metadata": {},
   "outputs": [
    {
     "data": {
      "text/plain": [
       "victim      591\n",
       "crime       557\n",
       "hate        524\n",
       "defend      484\n",
       "prosecut    478\n",
       "charg       463\n",
       "sentenc     455\n",
       "american    451\n",
       "feder       432\n",
       "guilti      430\n",
       "dtype: int64"
      ]
     },
     "execution_count": 34,
     "metadata": {},
     "output_type": "execute_result"
    },
    {
     "data": {
      "text/plain": [
       "child          1022\n",
       "exploit         701\n",
       "sexual          572\n",
       "safe            479\n",
       "childhood       474\n",
       "project         472\n",
       "pornographi     452\n",
       "children        423\n",
       "crimin          405\n",
       "prosecut        374\n",
       "dtype: int64"
      ]
     },
     "execution_count": 34,
     "metadata": {},
     "output_type": "execute_result"
    },
    {
     "data": {
      "text/plain": [
       "offic        637\n",
       "hous         633\n",
       "discrimin    616\n",
       "enforc       544\n",
       "disabl       532\n",
       "said         497\n",
       "feder        479\n",
       "violat       477\n",
       "state        452\n",
       "court        414\n",
       "dtype: int64"
      ]
     },
     "execution_count": 34,
     "metadata": {},
     "output_type": "execute_result"
    }
   ],
   "source": [
    "#D\n",
    "\n",
    "top_hatecrime_words = get_topwords(data=dtm_doj, subset='topics_clean', specific_value='Hate Crimes')\n",
    "top_hatecrime_words\n",
    "\n",
    "top_childhood_words = get_topwords(data=dtm_doj, subset='topics_clean', specific_value='Project Safe Childhood')\n",
    "top_childhood_words\n",
    "\n",
    "top_civilrights_words = get_topwords(data=dtm_doj, subset='topics_clean', specific_value='Civil Rights')\n",
    "top_civilrights_words"
   ]
  },
  {
   "cell_type": "markdown",
   "metadata": {},
   "source": [
    "## 2.3 Estimate a topic model using those preprocessed words (5 points)\n",
    "\n",
    "A. Going back to the preprocessed words from part 2.3.1, estimate a topic model with 3 topics, since you want to see if the unsupervised topic models recover different themes for each of the three manually-labeled areas (civil rights; hate crimes; project safe childhood). You have free rein over the other topic model parameters beyond the number of topics.\n",
    "\n",
    "B. After estimating the topic model, print the top 15 words in each topic.\n",
    "\n",
    "**Hints and Resources**:\n",
    "\n",
    "- Same topic modeling resources linked to above\n",
    "- Make sure to use the `random_state` argument within the model so that the numbering of topics does not move around between runs of your code"
   ]
  },
  {
   "cell_type": "code",
   "execution_count": 35,
   "metadata": {},
   "outputs": [
    {
     "data": {
      "text/plain": [
       "{0: 'access', 1: 'accord', 2: 'act', 3: 'addit', 4: 'afraid'}"
      ]
     },
     "execution_count": 35,
     "metadata": {},
     "output_type": "execute_result"
    },
    {
     "name": "stdout",
     "output_type": "stream",
     "text": [
      "Filtering out very rare and very common words reduced the length of dictionary from 6866 to 623.\n"
     ]
    },
    {
     "data": {
      "text/plain": [
       "{0: 'access', 1: 'accord', 2: 'act', 3: 'addit', 4: 'african'}"
      ]
     },
     "execution_count": 35,
     "metadata": {},
     "output_type": "execute_result"
    }
   ],
   "source": [
    "# A\n",
    "## Step 1: re-tokenize and store in list using the preprocessed texts\n",
    "\n",
    "text_raw_tokens = [wordpunct_tokenize(one_text) for one_text in \n",
    "                  doj_subset_wscore['processed_text']]\n",
    "\n",
    "\n",
    "## Step 2: use gensim create dictionary - gets all unique words across documents\n",
    "text_raw_dict = corpora.Dictionary(text_raw_tokens)\n",
    "raw_len = len(text_raw_dict) # get length for comparison below\n",
    "\n",
    "### explore first few keys and values\n",
    "### see that key is just an arbitrary counter; value is the word itself\n",
    "{k: text_raw_dict[k] for k in list(text_raw_dict)[:5]}\n",
    "\n",
    "\n",
    "## Step 3: filter out very rare and very common words\n",
    "## here, we are using the threshold that a word needs to appear in at least\n",
    "## 5% of docs but not more than 95%\n",
    "## this is an integer count of docs so we round\n",
    "lower_bound = round(doj_subset_wscore.shape[0]*0.05)\n",
    "upper_bound = round(doj_subset_wscore.shape[0]*0.95)\n",
    "\n",
    "### apply filtering to dictionary\n",
    "text_raw_dict.filter_extremes(no_below = lower_bound,\n",
    "                             no_above = upper_bound)\n",
    "print(f'Filtering out very rare and very common words reduced the \\\n",
    "length of dictionary from {str(raw_len)} to {str(len(text_raw_dict))}.')\n",
    "{k: text_raw_dict[k] for k in list(text_raw_dict)[:5]} # show first five entries after filtering\n",
    "\n",
    "\n",
    "## Step 4: apply dictionary to TOKENIZED texts\n",
    "## this creates a mapping between each word in a specific listing and the key in the dictionary.\n",
    "## for words that remain in the filtered dictionary, output is a list where len(list) == n documents\n",
    "## and each element in the list is a list of tuples containing the mappings\n",
    "corpus_fromdict = [text_raw_dict.doc2bow(one_text) \n",
    "                   for one_text in text_raw_tokens]"
   ]
  },
  {
   "cell_type": "code",
   "execution_count": 36,
   "metadata": {},
   "outputs": [],
   "source": [
    "## Step 5: estimate the model\n",
    "## full documentation here - https://radimrehurek.com/gensim/models/ldamodel.html\n",
    "## here, we're feed the lda function (1) the corpus we created from the dictionary\n",
    "## (2) a parameter we decide on for the number of topics,\n",
    "## (3) the dictionary itself,\n",
    "## (4) parameter for number of passes through training data\n",
    "## (5) parameter that returns, for each word remaining in dict, the \n",
    "## topic probabilities\n",
    "## see documentation for many other arguments you can vary\n",
    "num_topics = 3\n",
    "ldamod = gensim.models.ldamodel.LdaModel(corpus_fromdict, \n",
    "                                         num_topics = num_topics, \n",
    "                                         id2word=text_raw_dict, \n",
    "                                         passes=6, \n",
    "                                         alpha = 'auto',\n",
    "                                         per_word_topics = True, \n",
    "                                         random_state = 91988)"
   ]
  },
  {
   "cell_type": "code",
   "execution_count": 37,
   "metadata": {},
   "outputs": [
    {
     "name": "stdout",
     "output_type": "stream",
     "text": [
      "Topic 1\n",
      "(0, '0.018*\"discrimin\" + 0.017*\"hous\" + 0.015*\"disabl\" + 0.011*\"enforc\" + 0.011*\"agreement\" + 0.011*\"state\" + 0.010*\"court\" + 0.010*\"said\" + 0.009*\"alleg\" + 0.009*\"requir\" + 0.009*\"settlement\" + 0.009*\"feder\" + 0.008*\"fair\" + 0.008*\"inform\" + 0.008*\"violat\"')\n",
      "Topic 2\n",
      "(1, '0.015*\"victim\" + 0.014*\"charg\" + 0.013*\"prosecut\" + 0.013*\"sentenc\" + 0.013*\"defend\" + 0.013*\"feder\" + 0.013*\"crime\" + 0.012*\"said\" + 0.012*\"guilti\" + 0.011*\"hate\" + 0.010*\"year\" + 0.010*\"indict\" + 0.010*\"american\" + 0.010*\"investig\" + 0.010*\"prison\"')\n",
      "Topic 3\n",
      "(2, '0.037*\"child\" + 0.025*\"exploit\" + 0.022*\"sexual\" + 0.017*\"safe\" + 0.017*\"project\" + 0.017*\"childhood\" + 0.016*\"pornographi\" + 0.015*\"children\" + 0.015*\"crimin\" + 0.014*\"prosecut\" + 0.013*\"sentenc\" + 0.013*\"victim\" + 0.011*\"ceo\" + 0.011*\"year\" + 0.011*\"minor\"')\n"
     ]
    }
   ],
   "source": [
    "### print topics and words\n",
    "topics = ldamod.print_topics(num_words = 15)\n",
    "counter = 1\n",
    "for topic in topics:\n",
    "    print(\"Topic \" + str(counter))\n",
    "    print(topic)\n",
    "    counter += 1"
   ]
  },
  {
   "cell_type": "code",
   "execution_count": 38,
   "metadata": {},
   "outputs": [],
   "source": [
    "import pyLDAvis.gensim_models as gensimvis\n",
    "import pyLDAvis\n",
    "pyLDAvis.enable_notebook()"
   ]
  },
  {
   "cell_type": "code",
   "execution_count": 39,
   "metadata": {},
   "outputs": [
    {
     "data": {
      "text/html": [
       "\n",
       "<link rel=\"stylesheet\" type=\"text/css\" href=\"https://cdn.jsdelivr.net/gh/bmabey/pyLDAvis@3.4.0/pyLDAvis/js/ldavis.v1.0.0.css\">\n",
       "\n",
       "\n",
       "<div id=\"ldavis_el15939111060790569332357091\" style=\"background-color:white;\"></div>\n",
       "<script type=\"text/javascript\">\n",
       "\n",
       "var ldavis_el15939111060790569332357091_data = {\"mdsDat\": {\"x\": [-0.00784698080387702, -0.15232923876691126, 0.1601762195707883], \"y\": [-0.10281225695504422, 0.055278536711705774, 0.047533720243338407], \"topics\": [1, 2, 3], \"cluster\": [1, 1, 1], \"Freq\": [43.32692916025328, 32.21313194057235, 24.459938899174368]}, \"tinfo\": {\"Term\": [\"child\", \"exploit\", \"discrimin\", \"childhood\", \"project\", \"pornographi\", \"sexual\", \"safe\", \"disabl\", \"ceo\", \"children\", \"hous\", \"sentenc\", \"hate\", \"prosecut\", \"minor\", \"crimin\", \"settlement\", \"abus\", \"guilti\", \"internet\", \"imag\", \"fair\", \"requir\", \"victim\", \"obscen\", \"agreement\", \"practic\", \"rescu\", \"plead\", \"burn\", \"motiv\", \"kill\", \"cross\", \"hate\", \"slur\", \"hatr\", \"fuel\", \"byrd\", \"jackson\", \"punch\", \"drove\", \"attack\", \"shepard\", \"kick\", \"explos\", \"beat\", \"bodili\", \"obstruct\", \"firearm\", \"injuri\", \"tobacco\", \"lie\", \"injur\", \"assault\", \"weapon\", \"racial\", \"morn\", \"interfer\", \"african\", \"perez\", \"threat\", \"thoma\", \"violenc\", \"threaten\", \"crime\", \"indict\", \"conspir\", \"face\", \"defend\", \"maximum\", \"intimid\", \"charg\", \"american\", \"fals\", \"guilti\", \"victim\", \"juri\", \"sentenc\", \"prosecut\", \"admit\", \"prison\", \"said\", \"count\", \"act\", \"feder\", \"investig\", \"year\", \"plead\", \"violat\", \"commit\", \"today\", \"offic\", \"polic\", \"general\", \"enforc\", \"settlement\", \"discrimin\", \"lawsuit\", \"worker\", \"fairhous\", \"complianc\", \"usdoj\", \"barrier\", \"polici\", \"monitor\", \"decre\", \"titl\", \"opportun\", \"remedi\", \"compens\", \"status\", \"implement\", \"consent\", \"discriminatori\", \"toll\", \"procedur\", \"educ\", \"provis\", \"resolv\", \"limit\", \"decis\", \"disabl\", \"oblig\", \"chang\", \"improv\", \"equal\", \"practic\", \"requir\", \"avail\", \"employ\", \"fair\", \"access\", \"prohibit\", \"complaint\", \"student\", \"ensur\", \"agreement\", \"school\", \"hous\", \"file\", \"provid\", \"citi\", \"alleg\", \"enforc\", \"inform\", \"court\", \"work\", \"state\", \"communiti\", \"said\", \"nation\", \"violat\", \"individu\", \"includ\", \"general\", \"feder\", \"today\", \"offic\", \"ceo\", \"exploit\", \"childhood\", \"epidem\", \"pornographi\", \"obscen\", \"imag\", \"lifetim\", \"breuer\", \"projectsafechildhood\", \"lanni\", \"apprehend\", \"explicit\", \"lesli\", \"project\", \"internet\", \"caldwel\", \"rescu\", \"girl\", \"launch\", \"grow\", \"nationwid\", \"child\", \"marshal\", \"comput\", \"homeland\", \"distribut\", \"safe\", \"depict\", \"better\", \"combat\", \"minor\", \"sexual\", \"abus\", \"children\", \"produc\", \"crimin\", \"engag\", \"resourc\", \"video\", \"identifi\", \"part\", \"well\", \"prosecut\", \"sentenc\", \"victim\", \"year\", \"investig\", \"guilti\", \"state\", \"section\", \"feder\", \"prison\", \"general\", \"charg\", \"plead\", \"offic\", \"individu\"], \"Freq\": [1063.0, 689.0, 654.0, 462.0, 476.0, 441.0, 773.0, 512.0, 581.0, 309.0, 597.0, 834.0, 988.0, 532.0, 1019.0, 352.0, 686.0, 324.0, 361.0, 836.0, 219.0, 208.0, 350.0, 365.0, 1140.0, 179.0, 495.0, 299.0, 179.0, 541.0, 240.54868603238162, 205.22775340668602, 65.47479718985804, 268.1164461934915, 518.2442484664094, 66.08220742604401, 41.18247986363606, 40.181124797726056, 84.98693866967793, 134.6285303271684, 66.78799458041956, 83.50108087854542, 178.24436696975718, 82.29890475638513, 49.173296941795286, 77.36755837113944, 107.52359211923314, 82.57320138467507, 143.3410575871579, 106.64980941646536, 124.85083415153537, 44.640712413345504, 49.60836219446152, 46.684778147488025, 423.29490650262335, 53.38144183125792, 240.0862735680103, 38.45663740643898, 85.95276228144824, 382.9912477141261, 137.22094860487803, 175.6254204579492, 162.09462659239693, 218.22083313710962, 238.77035363026974, 595.8485743703746, 476.6285432829059, 289.47536004190823, 286.27517184190157, 613.1795571382318, 200.1092319028802, 186.59946584074342, 665.9651429579174, 466.42293130776795, 141.2599358831281, 565.7907238633337, 723.7616764660411, 237.58852467473014, 629.6488426566526, 629.8905074542213, 286.2646358056639, 456.9628988381531, 574.6983227354292, 369.1613942149459, 371.8157006382868, 600.4823496691289, 458.7852346857281, 486.7124153435333, 347.33225441309935, 405.702249322158, 303.3512976323631, 442.71211298365483, 421.5853239504151, 375.92054921028716, 371.3796503990395, 299.10890509149567, 311.9559894195429, 622.2044872786993, 200.8702972048526, 124.7254239779168, 57.404167589478, 122.490327465277, 98.04008378228875, 51.4061007284335, 183.34337917994606, 73.68287037987092, 138.5280122167359, 143.78957975679887, 159.13801265508408, 46.11107651750554, 63.25179462921796, 129.21874703315245, 117.73857507854697, 183.2879526834024, 94.39214645372967, 40.75732210778301, 55.92018403467564, 132.4304886954, 103.97748265654343, 141.21929117717548, 52.40188102021939, 54.11261868406292, 529.1489290661458, 44.64131986479997, 65.8676973394218, 51.430020684706115, 158.79245280519592, 264.00787342573886, 317.72699360657884, 163.4797109995404, 240.43977995674268, 297.4802276194513, 262.80417383052173, 178.20186398319834, 269.6226532268815, 180.2196484747993, 281.1505087544487, 384.23500439534513, 214.326724920647, 603.6599137629182, 266.74809490420716, 284.6074896243843, 240.07715440705766, 320.74935043443674, 390.401267963018, 291.51835748618225, 352.39458860120214, 247.4345610328744, 376.8374102681746, 259.76277648707566, 349.0524761831296, 227.8409324551364, 287.10250480876107, 272.5074147644777, 244.67538132280922, 283.50949204439866, 304.1335465884619, 268.69835715254254, 250.78844006170368, 304.4564602618915, 675.5325459778694, 452.11768654032517, 144.2462450240686, 430.866598382966, 175.3232517169145, 201.95492719737067, 44.28708532968738, 43.29444801702457, 47.04395093231133, 37.51572862173515, 152.87005736876063, 123.915467873423, 70.24826171521036, 452.62816930650337, 208.33122582609238, 66.35896084764173, 170.37266102720048, 94.75083468826138, 153.4452939216405, 144.97977971858037, 148.1684101253357, 991.2052817951934, 170.5392439547419, 63.24074487316426, 69.2196861758872, 82.19356094296258, 461.39624688999714, 54.318274118772756, 154.4848158749256, 159.94096594371632, 297.0915230105387, 577.7110422387893, 281.04253064998437, 404.8158325968723, 94.46512828549285, 398.09748352365347, 217.1985708896243, 149.80883522314195, 137.6627517721705, 195.7510595803618, 171.9201540694876, 174.67101538911075, 366.6576831817707, 350.97279654041984, 345.229952892259, 297.6260728923456, 270.53597259156203, 264.94387955759817, 269.38225055015147, 202.80447388642858, 252.2946984211009, 217.46023516857693, 208.51585284240207, 205.06763247714812, 191.73192624582478, 198.614708950693, 192.54106117374934], \"Total\": [1063.0, 689.0, 654.0, 462.0, 476.0, 441.0, 773.0, 512.0, 581.0, 309.0, 597.0, 834.0, 988.0, 532.0, 1019.0, 352.0, 686.0, 324.0, 361.0, 836.0, 219.0, 208.0, 350.0, 365.0, 1140.0, 179.0, 495.0, 299.0, 179.0, 541.0, 243.01726592753687, 208.60391281141685, 66.91440211123339, 274.66959379470387, 532.3136639602278, 67.8943900134373, 42.3168612415374, 41.33149284356122, 87.576081942621, 138.83404908187543, 68.87517892739544, 86.58366131556866, 184.9869313059664, 85.6077429354851, 51.175524912802345, 80.71950777027598, 112.21103438299576, 86.58410125536955, 150.49412927000725, 112.13249654939384, 131.98288607597075, 47.228311614573364, 53.12594061448646, 50.21661825638166, 457.9325771358316, 58.16199043617673, 263.5308953581734, 42.3156521120186, 94.75769269742985, 422.66701228186315, 152.3866799147329, 195.98692145366752, 180.90374654108706, 246.20148124737122, 274.66117986961655, 737.0526883033074, 582.2723880442295, 347.601008036638, 348.2042125884167, 813.3355674653459, 235.8886250195919, 218.7117760577547, 933.6902039956841, 626.1919279467172, 161.34520690069277, 836.0099638150375, 1140.842101078982, 300.81257503406346, 988.4841471320702, 1019.4221178404338, 389.4748757710974, 717.2147220895725, 976.4591067112515, 555.6409054649633, 580.7134099885587, 1156.9105946786917, 806.5449388278339, 881.8358021263166, 541.6879288905615, 700.875924864393, 441.96136259484086, 876.1307953649243, 870.9884729628118, 695.9408102445951, 863.4049952858403, 854.7686594819825, 324.23228818861656, 654.2896356531691, 211.24883630578154, 131.2562649897677, 60.492640453819206, 129.18311292003824, 103.53734128762265, 54.32808268571614, 193.7686945380151, 77.91479733588068, 146.60578888975104, 152.72897992066345, 169.13120464079262, 49.18743740217563, 67.62745227267757, 138.29942365558293, 126.01941937817361, 196.71756703649297, 101.42756469020722, 44.02388919369303, 60.42775754305922, 143.3218893866321, 112.65801433983056, 153.60167806027297, 57.312231466110624, 59.35360799507095, 581.3056531119068, 49.12329724363574, 72.64410175861649, 57.28378590198915, 177.96847324143314, 299.5453465738911, 365.4748006037021, 185.9155590441942, 279.5531783783464, 350.15982637841427, 308.02168621419474, 207.31891992298216, 326.14265045624813, 212.26118361299274, 348.4320508437509, 495.199877893619, 257.8729296765023, 834.3682783608133, 370.92481765360606, 416.0416572674218, 352.34471885974256, 610.1834852161522, 854.7686594819825, 536.5835048350676, 762.0709015414894, 423.28213484197636, 925.6421371414824, 490.08164591785555, 976.4591067112515, 397.84523489392626, 700.875924864393, 673.2577726584585, 503.2356232893011, 863.4049952858403, 1156.9105946786917, 876.1307953649243, 870.9884729628118, 309.9864630907168, 689.9745335623066, 462.6413868541477, 147.72635571827968, 441.3232900085247, 179.80409390885694, 208.01434945992685, 45.68785542744098, 44.717209606455704, 48.61094816180791, 38.89127482023514, 159.41479351104277, 130.34556624093352, 73.97871987341391, 476.98865482042413, 219.7643796352159, 70.00936603846797, 179.92371307492354, 100.13268846945002, 162.4887888291316, 154.76942190463788, 158.69494652388957, 1063.6920595524361, 183.91589362807417, 69.0891985424185, 75.99138214125134, 90.61140017996121, 512.687560985739, 61.29827759192302, 174.61139935643405, 185.45442344498156, 352.12500972916274, 773.7165869758321, 361.7606392377319, 597.4676077749975, 110.53208949475953, 686.6504676115751, 325.6273206332972, 201.4328766619241, 183.8996977373264, 299.5488039336474, 264.41867589585866, 272.43811082222294, 1019.4221178404338, 988.4841471320702, 1140.842101078982, 881.8358021263166, 806.5449388278339, 836.0099638150375, 925.6421371414824, 440.82954866771354, 1156.9105946786917, 717.2147220895725, 863.4049952858403, 933.6902039956841, 541.6879288905615, 870.9884729628118, 673.2577726584585], \"Category\": [\"Default\", \"Default\", \"Default\", \"Default\", \"Default\", \"Default\", \"Default\", \"Default\", \"Default\", \"Default\", \"Default\", \"Default\", \"Default\", \"Default\", \"Default\", \"Default\", \"Default\", \"Default\", \"Default\", \"Default\", \"Default\", \"Default\", \"Default\", \"Default\", \"Default\", \"Default\", \"Default\", \"Default\", \"Default\", \"Default\", \"Topic1\", \"Topic1\", \"Topic1\", \"Topic1\", \"Topic1\", \"Topic1\", \"Topic1\", \"Topic1\", \"Topic1\", \"Topic1\", \"Topic1\", \"Topic1\", \"Topic1\", \"Topic1\", \"Topic1\", \"Topic1\", \"Topic1\", \"Topic1\", \"Topic1\", \"Topic1\", \"Topic1\", \"Topic1\", \"Topic1\", \"Topic1\", \"Topic1\", \"Topic1\", \"Topic1\", \"Topic1\", \"Topic1\", \"Topic1\", \"Topic1\", \"Topic1\", \"Topic1\", \"Topic1\", \"Topic1\", \"Topic1\", \"Topic1\", \"Topic1\", \"Topic1\", \"Topic1\", \"Topic1\", \"Topic1\", \"Topic1\", \"Topic1\", \"Topic1\", \"Topic1\", \"Topic1\", \"Topic1\", \"Topic1\", \"Topic1\", \"Topic1\", \"Topic1\", \"Topic1\", \"Topic1\", \"Topic1\", \"Topic1\", \"Topic1\", \"Topic1\", \"Topic1\", \"Topic1\", \"Topic1\", \"Topic1\", \"Topic1\", \"Topic1\", \"Topic1\", \"Topic1\", \"Topic2\", \"Topic2\", \"Topic2\", \"Topic2\", \"Topic2\", \"Topic2\", \"Topic2\", \"Topic2\", \"Topic2\", \"Topic2\", \"Topic2\", \"Topic2\", \"Topic2\", \"Topic2\", \"Topic2\", \"Topic2\", \"Topic2\", \"Topic2\", \"Topic2\", \"Topic2\", \"Topic2\", \"Topic2\", \"Topic2\", \"Topic2\", \"Topic2\", \"Topic2\", \"Topic2\", \"Topic2\", \"Topic2\", \"Topic2\", \"Topic2\", \"Topic2\", \"Topic2\", \"Topic2\", \"Topic2\", \"Topic2\", \"Topic2\", \"Topic2\", \"Topic2\", \"Topic2\", \"Topic2\", \"Topic2\", \"Topic2\", \"Topic2\", \"Topic2\", \"Topic2\", \"Topic2\", \"Topic2\", \"Topic2\", \"Topic2\", \"Topic2\", \"Topic2\", \"Topic2\", \"Topic2\", \"Topic2\", \"Topic2\", \"Topic2\", \"Topic2\", \"Topic2\", \"Topic2\", \"Topic2\", \"Topic2\", \"Topic2\", \"Topic3\", \"Topic3\", \"Topic3\", \"Topic3\", \"Topic3\", \"Topic3\", \"Topic3\", \"Topic3\", \"Topic3\", \"Topic3\", \"Topic3\", \"Topic3\", \"Topic3\", \"Topic3\", \"Topic3\", \"Topic3\", \"Topic3\", \"Topic3\", \"Topic3\", \"Topic3\", \"Topic3\", \"Topic3\", \"Topic3\", \"Topic3\", \"Topic3\", \"Topic3\", \"Topic3\", \"Topic3\", \"Topic3\", \"Topic3\", \"Topic3\", \"Topic3\", \"Topic3\", \"Topic3\", \"Topic3\", \"Topic3\", \"Topic3\", \"Topic3\", \"Topic3\", \"Topic3\", \"Topic3\", \"Topic3\", \"Topic3\", \"Topic3\", \"Topic3\", \"Topic3\", \"Topic3\", \"Topic3\", \"Topic3\", \"Topic3\", \"Topic3\", \"Topic3\", \"Topic3\", \"Topic3\", \"Topic3\", \"Topic3\", \"Topic3\", \"Topic3\"], \"logprob\": [30.0, 29.0, 28.0, 27.0, 26.0, 25.0, 24.0, 23.0, 22.0, 21.0, 20.0, 19.0, 18.0, 17.0, 16.0, 15.0, 14.0, 13.0, 12.0, 11.0, 10.0, 9.0, 8.0, 7.0, 6.0, 5.0, 4.0, 3.0, 2.0, 1.0, -5.2863, -5.4451, -6.5875, -5.1778, -4.5187, -6.5783, -7.0512, -7.0758, -6.3267, -5.8667, -6.5677, -6.3443, -5.586, -6.3588, -6.8738, -6.4206, -6.0915, -6.3555, -5.804, -6.0996, -5.9421, -6.9705, -6.865, -6.9258, -4.7211, -6.7917, -5.2882, -7.1197, -6.3154, -4.8212, -5.8476, -5.6008, -5.681, -5.3837, -5.2937, -4.3792, -4.6025, -5.1011, -5.1122, -4.3505, -5.4703, -5.5402, -4.268, -4.6241, -5.8186, -4.431, -4.1847, -5.2987, -4.324, -4.3236, -5.1123, -4.6446, -4.4153, -4.858, -4.8508, -4.3715, -4.6406, -4.5815, -4.9189, -4.7636, -5.0543, -4.6763, -4.7252, -4.8398, -4.852, -5.0684, -4.7299, -4.0395, -5.1701, -5.6467, -6.4227, -5.6648, -5.8874, -6.533, -5.2614, -6.173, -5.5417, -5.5044, -5.403, -6.6417, -6.3257, -5.6113, -5.7043, -5.2617, -5.9253, -6.7652, -6.4489, -5.5867, -5.8286, -5.5225, -6.5138, -6.4817, -4.2015, -6.6741, -6.2851, -6.5326, -5.4052, -4.8968, -4.7116, -5.3761, -4.9903, -4.7774, -4.9014, -5.2899, -4.8758, -5.2786, -4.8339, -4.5215, -5.1053, -4.0698, -4.8865, -4.8217, -4.9918, -4.7021, -4.5056, -4.7977, -4.608, -4.9616, -4.541, -4.913, -4.6176, -5.0441, -4.813, -4.8651, -4.9729, -4.8255, -4.7553, -4.8792, -4.9482, -4.4789, -3.682, -4.0835, -5.2259, -4.1317, -5.0308, -4.8894, -6.4068, -6.4294, -6.3464, -6.5727, -5.1679, -5.3779, -5.9454, -4.0824, -4.8583, -6.0024, -5.0595, -5.6462, -5.1641, -5.2209, -5.1991, -3.2985, -5.0585, -6.0505, -5.9602, -5.7884, -4.0632, -6.2026, -5.1574, -5.1226, -4.5034, -3.8384, -4.5589, -4.194, -5.6492, -4.2108, -4.8166, -5.1881, -5.2726, -4.9206, -5.0504, -5.0345, -4.293, -4.3367, -4.3532, -4.5016, -4.597, -4.6179, -4.6013, -4.8852, -4.6669, -4.8154, -4.8574, -4.8741, -4.9414, -4.9061, -4.9371], \"loglift\": [30.0, 29.0, 28.0, 27.0, 26.0, 25.0, 24.0, 23.0, 22.0, 21.0, 20.0, 19.0, 18.0, 17.0, 16.0, 15.0, 14.0, 13.0, 12.0, 11.0, 10.0, 9.0, 8.0, 7.0, 6.0, 5.0, 4.0, 3.0, 2.0, 1.0, 0.8262, 0.8201, 0.8146, 0.8122, 0.8096, 0.8093, 0.8092, 0.8082, 0.8064, 0.8056, 0.8056, 0.8001, 0.7993, 0.797, 0.7965, 0.794, 0.7937, 0.789, 0.7877, 0.7863, 0.7808, 0.78, 0.7679, 0.7635, 0.7577, 0.7506, 0.7432, 0.7408, 0.7389, 0.7378, 0.7316, 0.7267, 0.7266, 0.7158, 0.6964, 0.6237, 0.6362, 0.6534, 0.6406, 0.5539, 0.6719, 0.6776, 0.4985, 0.5418, 0.7035, 0.446, 0.3813, 0.6004, 0.3854, 0.355, 0.5285, 0.3856, 0.3063, 0.4275, 0.3905, 0.1806, 0.2722, 0.2421, 0.392, 0.2897, 0.4601, 0.1538, 0.1108, 0.2205, -0.0073, -0.2136, 1.0942, 1.0825, 1.0824, 1.0818, 1.0804, 1.0796, 1.0782, 1.0775, 1.0775, 1.077, 1.0761, 1.0725, 1.0719, 1.0682, 1.0659, 1.0649, 1.0648, 1.0621, 1.0609, 1.0557, 1.0553, 1.0538, 1.0526, 1.0487, 1.0432, 1.0404, 1.0388, 1.0371, 1.0349, 1.025, 1.0188, 1.0065, 0.9928, 1.0042, 0.9821, 0.9698, 0.974, 0.9815, 0.9425, 0.9692, 0.9182, 0.8791, 0.9478, 0.8091, 0.8031, 0.7531, 0.7491, 0.4897, 0.3491, 0.5227, 0.3615, 0.5959, 0.2341, 0.498, 0.1041, 0.5754, 0.2403, 0.2283, 0.4117, 0.0192, -0.2032, -0.0491, -0.1122, 1.3901, 1.387, 1.3851, 1.3843, 1.3842, 1.3829, 1.3786, 1.377, 1.3758, 1.3754, 1.3721, 1.3662, 1.3575, 1.3564, 1.3557, 1.3547, 1.3546, 1.3536, 1.3529, 1.3509, 1.3428, 1.3395, 1.3376, 1.3326, 1.3197, 1.3148, 1.3106, 1.3027, 1.2872, 1.2857, 1.2601, 1.2382, 1.116, 1.1557, 1.0189, 1.2511, 0.863, 1.0032, 1.112, 1.1185, 0.9827, 0.9776, 0.9636, 0.3856, 0.3727, 0.2128, 0.322, 0.3158, 0.259, 0.1738, 0.6317, -0.1148, 0.2148, -0.0127, -0.1077, 0.3695, -0.0701, 0.1563]}, \"token.table\": {\"Topic\": [1, 2, 3, 1, 2, 3, 1, 2, 3, 1, 2, 3, 1, 2, 3, 1, 2, 3, 1, 2, 3, 1, 2, 3, 1, 2, 3, 1, 2, 3, 1, 2, 3, 1, 2, 3, 1, 2, 3, 1, 2, 3, 1, 2, 3, 1, 2, 3, 1, 2, 3, 1, 2, 3, 1, 2, 3, 1, 2, 3, 1, 2, 3, 1, 2, 3, 1, 2, 3, 1, 2, 3, 1, 2, 3, 1, 2, 3, 1, 2, 3, 1, 2, 3, 1, 2, 3, 1, 2, 3, 1, 2, 3, 1, 2, 3, 1, 2, 3, 1, 2, 3, 1, 2, 3, 1, 2, 3, 1, 2, 3, 1, 2, 3, 1, 2, 3, 1, 2, 3, 1, 2, 3, 1, 2, 3, 1, 2, 3, 1, 2, 3, 1, 2, 3, 1, 2, 3, 1, 2, 3, 1, 2, 3, 1, 2, 3, 1, 2, 3, 1, 2, 3, 1, 2, 3, 1, 2, 3, 1, 2, 3, 1, 2, 3, 1, 2, 3, 1, 2, 3, 1, 2, 3, 1, 2, 3, 1, 2, 3, 1, 2, 3, 1, 2, 3, 1, 2, 3, 1, 2, 3, 1, 2, 3, 1, 2, 3, 1, 2, 3, 1, 2, 3, 1, 2, 3, 1, 2, 3, 1, 2, 3, 1, 2, 3, 1, 2, 3, 1, 2, 3, 1, 2, 3, 1, 2, 3, 1, 2, 3, 1, 2, 3, 1, 2, 3, 1, 2, 3, 1, 2, 3, 1, 2, 3, 1, 2, 3, 1, 2, 3, 1, 2, 3, 1, 2, 3, 1, 2, 3, 1, 2, 3, 1, 2, 3, 1, 2, 3, 1, 2, 3, 1, 2, 3, 1, 2, 3, 1, 2, 3, 1, 2, 3, 1, 2, 3, 1, 2, 3, 1, 2, 3, 1, 2, 3, 1, 2, 3, 1, 2, 3, 1, 2, 3, 1, 2, 3, 1, 2, 3, 1, 2, 3, 1, 2, 3, 1, 2, 3, 1, 2, 3, 1, 2, 3, 1, 2, 3, 1, 2, 3, 1, 2, 3, 1, 2, 3, 1, 2, 3, 1, 2, 3, 1, 2, 3, 1, 2, 3, 1, 2, 3, 1, 2, 3, 1, 2, 3, 1, 2, 3, 1, 2, 3, 1, 2, 3, 1, 2, 3, 1, 2, 3, 1, 2, 3, 1, 2, 3, 1, 2, 3, 1, 2, 3, 1, 2, 3, 1, 2, 3, 1, 2, 3, 1, 2, 3, 1, 2, 3, 1, 2, 3, 1, 2, 3, 1, 2, 3, 1, 2, 3, 1, 2, 3, 1, 2, 3, 1, 2, 3, 1, 2, 3, 1, 2, 3, 1, 2, 3, 1, 2, 3, 1, 2, 3, 1, 2, 3, 1, 2, 3, 1, 2, 3, 1, 2, 3, 1, 2, 3, 1, 2, 3, 1, 2, 3, 1, 2, 3, 1, 2, 3, 1, 2, 3, 1, 2, 3, 1, 2, 3, 1, 2, 3, 1, 2, 3, 1, 2, 3, 1, 2, 3, 1, 2, 3, 1, 2, 3, 1, 2, 3, 1, 2, 3], \"Freq\": [0.19626236881271703, 0.027642587156720706, 0.7767566991038518, 0.06168396853326625, 0.8538359854867907, 0.087656165810431, 0.6405913719253171, 0.12226340700725138, 0.2376387347464886, 0.7343220777303444, 0.010270238849375446, 0.2541884115220423, 0.906150678597528, 0.08990528926032915, 0.004731857329491008, 0.165589701574231, 0.7754444561524965, 0.05856221153234999, 0.38185235366942416, 0.526071268360022, 0.09341452428822822, 0.7441807842014406, 0.2411401253528273, 0.012775635780282242, 0.03136471772711387, 0.006272943545422773, 0.9597603624496843, 0.9237167677514458, 0.03493964133338802, 0.04149082408339828, 0.9622301356282834, 0.010811574557621162, 0.027028936394052905, 0.06454543160181374, 0.8767421125913033, 0.05378785966817812, 0.036813373510157704, 0.9387410245090214, 0.018406686755078852, 0.9624721899575155, 0.017823559073287323, 0.026735338609930985, 0.045816023635831524, 0.06872403545374729, 0.8819584549897569, 0.9586055499404138, 0.011549464457113419, 0.03464839337134026, 0.022362754939333977, 0.022362754939333977, 0.9615984623913609, 0.9916990839320101, 0.004114933958224108, 0.008229867916448216, 0.9705846404009165, 0.011418642828246076, 0.02283728565649215, 0.04285140931502784, 0.014283803105009278, 0.9427310049306125, 0.009677841961511903, 0.006451894641007936, 0.9806879854332061, 0.06882871257206974, 0.9085390059513205, 0.027531485028827896, 0.7132986906683649, 0.0674742004686291, 0.21955890628680902, 0.019742555950672466, 0.04794620730877599, 0.9316606165293531, 0.01296900833018547, 0.010807506941821225, 0.9769986275406387, 0.06694923620874145, 0.2544070975932175, 0.6778610166135072, 0.2525935404623678, 0.6811511203479582, 0.06527698236667932, 0.05931376451240782, 0.0754902457430645, 0.8627456656350229, 0.685580291953641, 0.24210261134996564, 0.07240451928223271, 0.4448238407127367, 0.5305238467216126, 0.02652619233608063, 0.05914757787816377, 0.9315743515810794, 0.014786894469540943, 0.11957957643823046, 0.8278586061108262, 0.05212443075512609, 0.03870474930492579, 0.9443958830401893, 0.015481899721970315, 0.057896170231937646, 0.014474042557984412, 0.911864681153018, 0.061001161110201645, 0.9302677069305751, 0.010166860185033608, 0.8314130089333305, 0.00287686162260668, 0.16398111248858074, 0.6640979747364331, 0.007198894035083285, 0.3275496785962895, 0.3634832394724617, 0.4618992790408178, 0.17321222964030666, 0.8086260445938944, 0.04884318390164463, 0.14381604148817587, 0.34661011857729046, 0.07281725180195178, 0.5796253243435362, 0.9757177570965903, 0.018203689498070715, 0.007281475799228286, 0.06739270172644234, 0.9098014733069716, 0.016848175431610584, 0.047747091387121604, 0.9481208146871289, 0.006821013055303087, 0.7536864543011865, 0.13770453977444191, 0.10819642410849006, 0.09788203250902748, 0.016313672084837916, 0.8809382925812473, 0.06709035047435213, 0.9100203948956995, 0.02236345015811738, 0.04432287846199744, 0.9506493242538762, 0.004585125358137666, 0.05915551673084089, 0.9267697621165073, 0.009859252788473482, 0.04414455567462474, 0.04414455567462474, 0.9049633913298072, 0.9701599438472338, 0.011549523141038498, 0.023099046282076995, 0.03488650632082973, 0.9210037668699048, 0.04186380758499567, 0.05365705404250152, 0.8585128646800243, 0.08585128646800244, 0.34980224962998024, 0.4562638038651916, 0.19303468625065798, 0.1320528017009486, 0.19961470024561997, 0.6664059992815313, 0.17794000250511674, 0.8064700113538356, 0.01722000024243065, 0.013538545578245248, 0.006769272789122624, 0.9747752816336579, 0.10114150934801293, 0.8934166659074476, 0.005618972741556274, 0.030687656783095443, 0.023015742587321582, 0.9513173602759587, 0.014493288539753, 0.0072466442698765, 0.9797463052873028, 0.9539205840939773, 0.024777158028414993, 0.024777158028414993, 0.8213570935112634, 0.08902821642954253, 0.08902821642954253, 0.14279193737652102, 0.8481841080165348, 0.0057116774950608405, 0.04959280959623899, 0.9422633823285408, 0.016530936532079665, 0.8739026259812283, 0.03098945482202937, 0.09296836446608811, 0.5186226167862502, 0.26276879250503343, 0.2178214990502251, 0.1617578472628163, 0.7198224203195326, 0.11862242132606529, 0.9542282861138921, 0.008918021365550394, 0.04459010682775197, 0.9677850289946968, 0.02419462572486742, 0.02419462572486742, 0.4296940624917002, 0.32893022573488645, 0.24206484922039176, 0.04993374367977221, 0.009986748735954443, 0.948741129915672, 0.03230612312476543, 0.03230612312476543, 0.9368775706181977, 0.6770254237367251, 0.0059807899623385615, 0.31698186800394373, 0.9731104705189434, 0.007514366567713849, 0.01878591641928462, 0.9688809329685162, 0.023631242267524784, 0.023631242267524784, 0.03947816075280296, 0.05263754767040394, 0.907997697314468, 0.25887848999287244, 0.723900962757847, 0.017977672916171698, 0.1869478337573482, 0.15690264618920297, 0.6543174181507186, 0.01922944263405532, 0.00961472131702766, 0.9710868530197938, 0.04761170960480708, 0.9363636222278726, 0.015870569868269027, 0.08728473373870314, 0.8903042841347721, 0.01745694674774063, 0.34178820425262363, 0.4868494769877488, 0.1728812428487108, 0.8192042243359254, 0.00686963710134948, 0.17517574608441172, 0.30894556059662115, 0.4054910482830653, 0.2866658326689802, 0.13418228356112252, 0.5441837055534413, 0.3224102091121416, 0.9359451438972022, 0.039827452931795834, 0.039827452931795834, 0.9470924884007209, 0.030306959628823068, 0.0227302197216173, 0.9075780293068767, 0.08442586319133737, 0.01055323289891717, 0.04095295158814629, 0.01365098386271543, 0.9464682144816032, 0.8550065450093522, 0.14173905291598887, 0.009144455026837991, 0.5690941420661233, 0.0954689519370185, 0.3360011165575586, 0.9723839425037992, 0.021608532055639982, 0.007202844018546661, 0.7911903283067515, 0.033243291105325694, 0.1761894428582262, 0.9574889575337193, 0.019540590970075905, 0.019540590970075905, 0.9713902829460983, 0.014944465891478437, 0.014944465891478437, 0.025712708174834623, 0.025712708174834623, 0.9770829106437157, 0.03077135374095164, 0.024617082992761313, 0.9416034244731202, 0.042603784983565776, 0.9514845312996356, 0.0047337538870628635, 0.013517400702676593, 0.04055220210802978, 0.9462180491873615, 0.9411598067096797, 0.018823196134193594, 0.05646958840258078, 0.021887654621656445, 0.021887654621656445, 0.9630568033528836, 0.05234484722120677, 0.9073106851675841, 0.017448282407068923, 0.048935411847549966, 0.02174907193224443, 0.9297728251034494, 0.8478577548340402, 0.016957155096680804, 0.13565724077344643, 0.10223641890046217, 0.053958109975243924, 0.843450455928813, 0.05133813006990847, 0.9497554062933067, 0.012834532517477118, 0.8980128652964122, 0.02363191750780032, 0.07089575252340097, 0.9827236567001748, 0.004793773935122804, 0.009587547870245608, 0.3267602288479355, 0.5730871705948407, 0.10054160887628785, 0.031506989412843786, 0.03780838729541255, 0.9326068866201762, 0.08142775881189912, 0.9160622866338651, 0.02035693970297478, 0.016684825883445713, 0.011123217255630475, 0.9732815098676666, 0.9502031786465122, 0.006644777473052533, 0.0398686648383152, 0.4845069861424193, 0.28817832588091763, 0.22847604322829726, 0.05321312539051884, 0.9400985485658329, 0.005912569487835427, 0.17396653184254318, 0.177748412969555, 0.6504835538460311, 0.8990287082614936, 0.013124506689948811, 0.08530929348466727, 0.6405902393112128, 0.005538244143900976, 0.35444762520966244, 0.5402758316010396, 0.2184093787323352, 0.24139983965152836, 0.046447131315292566, 0.9444250034109488, 0.01032158473673168, 0.011329562960303815, 0.013595475552364579, 0.9766083271781889, 0.11350535199054733, 0.881335674279544, 0.003338392705604333, 0.6371871434380924, 0.05995415135194304, 0.30255932193887536, 0.06619474497543129, 0.9267264296560381, 0.016548686243857823, 0.018094292880393097, 0.12666005016275167, 0.8504317653784755, 0.13023413400971967, 0.8585805871751889, 0.009646972889608864, 0.01257891553470778, 0.037736746604123336, 0.9497081228704374, 0.02057149752914444, 0.02057149752914444, 0.9668603838697888, 0.6179971858317199, 0.022561802022427867, 0.3600078844448273, 0.2235353080045583, 0.6850275567881625, 0.09133700757175499, 0.07101137053479539, 0.92314781695234, 0.008876421316849424, 0.9727742423816836, 0.014519018543010204, 0.014519018543010204, 0.9107091586882373, 0.07968705138522077, 0.011383864483602967, 0.06099118308341279, 0.9351981406123294, 0.020330394361137597, 0.06019566865802991, 0.8701010287842506, 0.07114033568676262, 0.038905377620153225, 0.016673733265779953, 0.944844885060864, 0.07161380096175526, 0.917958721418863, 0.006510345541977752, 0.059573194797492075, 0.19857731599164025, 0.7446649349686509, 0.046812136330859, 0.052663653372216374, 0.8991831186885832, 0.5888623456404848, 0.35741384109309426, 0.054277746641644684, 0.10858060997377887, 0.8298660905138814, 0.062046062842159355, 0.24045575057378968, 0.29943546297868145, 0.46049544685357835, 0.637339508001059, 0.008093200101600749, 0.3550891544577328, 0.033926294205470796, 0.9622730720097171, 0.003084208564133709, 0.10339703367700825, 0.14992569883166196, 0.7470435683163846, 0.9578572823932067, 0.011681186370648862, 0.023362372741297724, 0.9720979890523742, 0.014728757409884458, 0.014728757409884458, 0.30141238044930907, 0.40728482949601974, 0.2906090693220937, 0.04338412873608378, 0.9327587678258012, 0.02169206436804189, 0.11777942426619788, 0.8480118547166247, 0.0329782387945354, 0.895503841669782, 0.011055602983577556, 0.09397262536040922, 0.898019106043295, 0.040819050274695234, 0.061228575412042845, 0.8701630136208359, 0.040049343723134706, 0.08738038630502118, 0.05238036687048966, 0.9428466036688139, 0.006547545858811207, 0.9528183087983656, 0.021173740195519236, 0.04234748039103847, 0.5056322667159331, 0.30703178272367043, 0.18832804516507665, 0.04542987992724925, 0.9313125385086095, 0.04542987992724925, 0.03863340462730405, 0.9465184133689493, 0.019316702313652026, 0.6346189357100843, 0.06311127537448352, 0.30240819450273354, 0.15769465832087567, 0.09244169625706505, 0.7504090637338222, 0.5792751407156035, 0.40948759947137486, 0.011414288487006966, 0.885453649163728, 0.04467885385688536, 0.06904913777882282, 0.9112480436541942, 0.05158007794269024, 0.01719335931423008, 0.17251624546269678, 0.1871984791190965, 0.6423477224674881, 0.3212987008080858, 0.5835351404382146, 0.09449961788473113, 0.045712103726764895, 0.952335494307602, 0.007618683954460816, 0.5522570061520827, 0.10999780204671873, 0.33793139185486787], \"Term\": [\"abus\", \"abus\", \"abus\", \"access\", \"access\", \"access\", \"act\", \"act\", \"act\", \"admit\", \"admit\", \"admit\", \"african\", \"african\", \"african\", \"agreement\", \"agreement\", \"agreement\", \"alleg\", \"alleg\", \"alleg\", \"american\", \"american\", \"american\", \"apprehend\", \"apprehend\", \"apprehend\", \"assault\", \"assault\", \"assault\", \"attack\", \"attack\", \"attack\", \"avail\", \"avail\", \"avail\", \"barrier\", \"barrier\", \"barrier\", \"beat\", \"beat\", \"beat\", \"better\", \"better\", \"better\", \"bodili\", \"bodili\", \"bodili\", \"breuer\", \"breuer\", \"breuer\", \"burn\", \"burn\", \"burn\", \"byrd\", \"byrd\", \"byrd\", \"caldwel\", \"caldwel\", \"caldwel\", \"ceo\", \"ceo\", \"ceo\", \"chang\", \"chang\", \"chang\", \"charg\", \"charg\", \"charg\", \"child\", \"child\", \"child\", \"childhood\", \"childhood\", \"childhood\", \"children\", \"children\", \"children\", \"citi\", \"citi\", \"citi\", \"combat\", \"combat\", \"combat\", \"commit\", \"commit\", \"commit\", \"communiti\", \"communiti\", \"communiti\", \"compens\", \"compens\", \"compens\", \"complaint\", \"complaint\", \"complaint\", \"complianc\", \"complianc\", \"complianc\", \"comput\", \"comput\", \"comput\", \"consent\", \"consent\", \"consent\", \"conspir\", \"conspir\", \"conspir\", \"count\", \"count\", \"count\", \"court\", \"court\", \"court\", \"crime\", \"crime\", \"crime\", \"crimin\", \"crimin\", \"crimin\", \"cross\", \"cross\", \"cross\", \"decis\", \"decis\", \"decis\", \"decre\", \"decre\", \"decre\", \"defend\", \"defend\", \"defend\", \"depict\", \"depict\", \"depict\", \"disabl\", \"disabl\", \"disabl\", \"discrimin\", \"discrimin\", \"discrimin\", \"discriminatori\", \"discriminatori\", \"discriminatori\", \"distribut\", \"distribut\", \"distribut\", \"drove\", \"drove\", \"drove\", \"educ\", \"educ\", \"educ\", \"employ\", \"employ\", \"employ\", \"enforc\", \"enforc\", \"enforc\", \"engag\", \"engag\", \"engag\", \"ensur\", \"ensur\", \"ensur\", \"epidem\", \"epidem\", \"epidem\", \"equal\", \"equal\", \"equal\", \"explicit\", \"explicit\", \"explicit\", \"exploit\", \"exploit\", \"exploit\", \"explos\", \"explos\", \"explos\", \"face\", \"face\", \"face\", \"fair\", \"fair\", \"fair\", \"fairhous\", \"fairhous\", \"fairhous\", \"fals\", \"fals\", \"fals\", \"feder\", \"feder\", \"feder\", \"file\", \"file\", \"file\", \"firearm\", \"firearm\", \"firearm\", \"fuel\", \"fuel\", \"fuel\", \"general\", \"general\", \"general\", \"girl\", \"girl\", \"girl\", \"grow\", \"grow\", \"grow\", \"guilti\", \"guilti\", \"guilti\", \"hate\", \"hate\", \"hate\", \"hatr\", \"hatr\", \"hatr\", \"homeland\", \"homeland\", \"homeland\", \"hous\", \"hous\", \"hous\", \"identifi\", \"identifi\", \"identifi\", \"imag\", \"imag\", \"imag\", \"implement\", \"implement\", \"implement\", \"improv\", \"improv\", \"improv\", \"includ\", \"includ\", \"includ\", \"indict\", \"indict\", \"indict\", \"individu\", \"individu\", \"individu\", \"inform\", \"inform\", \"inform\", \"injur\", \"injur\", \"injur\", \"injuri\", \"injuri\", \"injuri\", \"interfer\", \"interfer\", \"interfer\", \"internet\", \"internet\", \"internet\", \"intimid\", \"intimid\", \"intimid\", \"investig\", \"investig\", \"investig\", \"jackson\", \"jackson\", \"jackson\", \"juri\", \"juri\", \"juri\", \"kick\", \"kick\", \"kick\", \"kill\", \"kill\", \"kill\", \"lanni\", \"lanni\", \"lanni\", \"launch\", \"launch\", \"launch\", \"lawsuit\", \"lawsuit\", \"lawsuit\", \"lesli\", \"lesli\", \"lesli\", \"lie\", \"lie\", \"lie\", \"lifetim\", \"lifetim\", \"lifetim\", \"limit\", \"limit\", \"limit\", \"marshal\", \"marshal\", \"marshal\", \"maximum\", \"maximum\", \"maximum\", \"minor\", \"minor\", \"minor\", \"monitor\", \"monitor\", \"monitor\", \"morn\", \"morn\", \"morn\", \"motiv\", \"motiv\", \"motiv\", \"nation\", \"nation\", \"nation\", \"nationwid\", \"nationwid\", \"nationwid\", \"oblig\", \"oblig\", \"oblig\", \"obscen\", \"obscen\", \"obscen\", \"obstruct\", \"obstruct\", \"obstruct\", \"offic\", \"offic\", \"offic\", \"opportun\", \"opportun\", \"opportun\", \"part\", \"part\", \"part\", \"perez\", \"perez\", \"perez\", \"plead\", \"plead\", \"plead\", \"polic\", \"polic\", \"polic\", \"polici\", \"polici\", \"polici\", \"pornographi\", \"pornographi\", \"pornographi\", \"practic\", \"practic\", \"practic\", \"prison\", \"prison\", \"prison\", \"procedur\", \"procedur\", \"procedur\", \"produc\", \"produc\", \"produc\", \"prohibit\", \"prohibit\", \"prohibit\", \"project\", \"project\", \"project\", \"projectsafechildhood\", \"projectsafechildhood\", \"projectsafechildhood\", \"prosecut\", \"prosecut\", \"prosecut\", \"provid\", \"provid\", \"provid\", \"provis\", \"provis\", \"provis\", \"punch\", \"punch\", \"punch\", \"racial\", \"racial\", \"racial\", \"remedi\", \"remedi\", \"remedi\", \"requir\", \"requir\", \"requir\", \"rescu\", \"rescu\", \"rescu\", \"resolv\", \"resolv\", \"resolv\", \"resourc\", \"resourc\", \"resourc\", \"safe\", \"safe\", \"safe\", \"said\", \"said\", \"said\", \"school\", \"school\", \"school\", \"section\", \"section\", \"section\", \"sentenc\", \"sentenc\", \"sentenc\", \"settlement\", \"settlement\", \"settlement\", \"sexual\", \"sexual\", \"sexual\", \"shepard\", \"shepard\", \"shepard\", \"slur\", \"slur\", \"slur\", \"state\", \"state\", \"state\", \"status\", \"status\", \"status\", \"student\", \"student\", \"student\", \"thoma\", \"thoma\", \"thoma\", \"threat\", \"threat\", \"threat\", \"threaten\", \"threaten\", \"threaten\", \"titl\", \"titl\", \"titl\", \"tobacco\", \"tobacco\", \"tobacco\", \"today\", \"today\", \"today\", \"toll\", \"toll\", \"toll\", \"usdoj\", \"usdoj\", \"usdoj\", \"victim\", \"victim\", \"victim\", \"video\", \"video\", \"video\", \"violat\", \"violat\", \"violat\", \"violenc\", \"violenc\", \"violenc\", \"weapon\", \"weapon\", \"weapon\", \"well\", \"well\", \"well\", \"work\", \"work\", \"work\", \"worker\", \"worker\", \"worker\", \"year\", \"year\", \"year\"]}, \"R\": 30, \"lambda.step\": 0.01, \"plot.opts\": {\"xlab\": \"PC1\", \"ylab\": \"PC2\"}, \"topic.order\": [2, 1, 3]};\n",
       "\n",
       "function LDAvis_load_lib(url, callback){\n",
       "  var s = document.createElement('script');\n",
       "  s.src = url;\n",
       "  s.async = true;\n",
       "  s.onreadystatechange = s.onload = callback;\n",
       "  s.onerror = function(){console.warn(\"failed to load library \" + url);};\n",
       "  document.getElementsByTagName(\"head\")[0].appendChild(s);\n",
       "}\n",
       "\n",
       "if(typeof(LDAvis) !== \"undefined\"){\n",
       "   // already loaded: just create the visualization\n",
       "   !function(LDAvis){\n",
       "       new LDAvis(\"#\" + \"ldavis_el15939111060790569332357091\", ldavis_el15939111060790569332357091_data);\n",
       "   }(LDAvis);\n",
       "}else if(typeof define === \"function\" && define.amd){\n",
       "   // require.js is available: use it to load d3/LDAvis\n",
       "   require.config({paths: {d3: \"https://d3js.org/d3.v5\"}});\n",
       "   require([\"d3\"], function(d3){\n",
       "      window.d3 = d3;\n",
       "      LDAvis_load_lib(\"https://cdn.jsdelivr.net/gh/bmabey/pyLDAvis@3.4.0/pyLDAvis/js/ldavis.v3.0.0.js\", function(){\n",
       "        new LDAvis(\"#\" + \"ldavis_el15939111060790569332357091\", ldavis_el15939111060790569332357091_data);\n",
       "      });\n",
       "    });\n",
       "}else{\n",
       "    // require.js not available: dynamically load d3 & LDAvis\n",
       "    LDAvis_load_lib(\"https://d3js.org/d3.v5.js\", function(){\n",
       "         LDAvis_load_lib(\"https://cdn.jsdelivr.net/gh/bmabey/pyLDAvis@3.4.0/pyLDAvis/js/ldavis.v3.0.0.js\", function(){\n",
       "                 new LDAvis(\"#\" + \"ldavis_el15939111060790569332357091\", ldavis_el15939111060790569332357091_data);\n",
       "            })\n",
       "         });\n",
       "}\n",
       "</script>"
      ],
      "text/plain": [
       "<IPython.core.display.HTML object>"
      ]
     },
     "execution_count": 39,
     "metadata": {},
     "output_type": "execute_result"
    }
   ],
   "source": [
    "lda_display = gensimvis.prepare(ldamod, corpus_fromdict, text_raw_dict)\n",
    "pyLDAvis.display(lda_display)"
   ]
  },
  {
   "cell_type": "markdown",
   "metadata": {},
   "source": [
    "## 2.4 Add topics back to main data and explore correlation between manual labels and our estimated topics (10 points)\n",
    "\n",
    "A. Extract the document-level topic probabilities. Within `get_document_topics`, use the argument `minimum_probability` = 0 to make sure all 3 topic probabilities are returned. Write an assert statement to make sure the length of the list is equal to the number of rows in the `doj_subset_wscores` dataframe\n",
    "\n",
    "B. Add the topic probabilities to the `doj_subset_wscores` dataframe as columns and create a column, `top_topic`, that reflects each document to its highest-probability topic (eg topic 1, 2, or 3)\n",
    "\n",
    "C. For each of the manual labels in `topics_clean` (Hate Crime, Civil Rights, Project Safe Childhood), print the breakdown of the % of documents with each top topic (so, for instance, Hate Crime has 246 documents-- if 123 of those documents are coded to topic_1, that would be 50%; and so on). **Hint**: pd.crosstab and normalize may be helpful: https://pandas.pydata.org/pandas-docs/version/0.23/generated/pandas.crosstab.html\n",
    "\n",
    "D. Using a couple press releases as examples, write a 1-2 sentence interpretation of why some of the manual topics map on more cleanly to an estimated topic than other manual topic(s)\n"
   ]
  },
  {
   "cell_type": "code",
   "execution_count": 40,
   "metadata": {},
   "outputs": [],
   "source": [
    "topic_probs_bydoc = [ldamod.get_document_topics(item, minimum_probability=0) for item in corpus_fromdict]"
   ]
  },
  {
   "cell_type": "code",
   "execution_count": 41,
   "metadata": {},
   "outputs": [
    {
     "name": "stdout",
     "output_type": "stream",
     "text": [
      "Assertion passed: Length of topic probabilities equals the number of rows in doj_subset_wscore DataFrame.\n"
     ]
    }
   ],
   "source": [
    "\n",
    "# Write an assert statement to check the length of topic_probs_bydoc\n",
    "assert len(topic_probs_bydoc) == len(doj_subset_wscore), \"Length of topic probabilities and doj_subset_wscore DataFrame rows are not equal\"\n",
    "\n",
    "# Print a message if the assertion passes\n",
    "print(\"Assertion passed: Length of topic probabilities equals the number of rows in doj_subset_wscore DataFrame.\")\n"
   ]
  },
  {
   "cell_type": "code",
   "execution_count": 42,
   "metadata": {},
   "outputs": [],
   "source": [
    "for topic_id in range(num_topics):\n",
    "    col_name = \"topic_\" + str(topic_id + 1) + \"_prob\"\n",
    "    doj_subset_wscore[col_name] = [doc_probs[topic_id][1] if len(doc_probs) > topic_id else 0 for doc_probs in topic_probs_bydoc]"
   ]
  },
  {
   "cell_type": "code",
   "execution_count": 43,
   "metadata": {},
   "outputs": [
    {
     "data": {
      "text/html": [
       "<div>\n",
       "<style scoped>\n",
       "    .dataframe tbody tr th:only-of-type {\n",
       "        vertical-align: middle;\n",
       "    }\n",
       "\n",
       "    .dataframe tbody tr th {\n",
       "        vertical-align: top;\n",
       "    }\n",
       "\n",
       "    .dataframe thead th {\n",
       "        text-align: right;\n",
       "    }\n",
       "</style>\n",
       "<table border=\"1\" class=\"dataframe\">\n",
       "  <thead>\n",
       "    <tr style=\"text-align: right;\">\n",
       "      <th></th>\n",
       "      <th>id</th>\n",
       "      <th>title</th>\n",
       "      <th>contents</th>\n",
       "      <th>date</th>\n",
       "      <th>topics_clean</th>\n",
       "      <th>components_clean</th>\n",
       "      <th>neg</th>\n",
       "      <th>neu</th>\n",
       "      <th>pos</th>\n",
       "      <th>compound_</th>\n",
       "      <th>processed_text</th>\n",
       "      <th>topic_1_prob</th>\n",
       "      <th>topic_2_prob</th>\n",
       "      <th>topic_3_prob</th>\n",
       "      <th>top_topic</th>\n",
       "    </tr>\n",
       "    <tr>\n",
       "      <th>index_</th>\n",
       "      <th></th>\n",
       "      <th></th>\n",
       "      <th></th>\n",
       "      <th></th>\n",
       "      <th></th>\n",
       "      <th></th>\n",
       "      <th></th>\n",
       "      <th></th>\n",
       "      <th></th>\n",
       "      <th></th>\n",
       "      <th></th>\n",
       "      <th></th>\n",
       "      <th></th>\n",
       "      <th></th>\n",
       "      <th></th>\n",
       "    </tr>\n",
       "  </thead>\n",
       "  <tbody>\n",
       "    <tr>\n",
       "      <th>5247</th>\n",
       "      <td>18-913</td>\n",
       "      <td>Grapevine Texas Man Pleads Guilty to Federal Hate Crime  Against an African-American Family</td>\n",
       "      <td>Glenn Eugene Halfin, 64, from Grapevine, Texas, appeared today before U.S. Magistrate Judge Jeffrey L. Cureton in the U.S. District Court for the Northern District of Texas and pleaded guilty to a federal charge of interfering with an African-American family’s housing rights, announced Acting Assistant Attorney General John Gore of the Civil Rights Division and U.S. Attorney Erin Nealy Cox of the Northern District of Texas. According to court documents, Halfin threatened force, intimidated, and interfered with a family because of their race and occupancy of an apartment that was located directly above his own apartment.  According to documents filed in connection with the guilty plea, on Dec. 19, 2017, Halfin purchased a baby doll at a Wal-Mart in Grapevine, Texas. He took a rope, fashioned it into a noose, and hung the baby doll from the noose. Halfin then hung the rope noose and baby doll on the railing directly in front of the only staircase the family could use to access their apartment. Halfin did so, knowing that this display would be particularly intimidating for the family who had a young daughter. In addition, the defendant referenced in his factual basis repeated intimidation of and interference with the same African-American family on other occasions. “The Justice Department will not tolerate acts of intimidation and fear, or illegal threats against any individual or family because of their race,” said Acting Assistant Attorney John Gore. “We will continue to prosecute hate crime offenders.” “No one should be afraid to go home at night,” said U.S. Attorney Erin Nealy Cox.  “Our community will not tolerate crimes of intimidation or bigotry, and my office will continue to prosecute all those who persecute others based on their race, color, ethnicity, or religious beliefs.” Halfin faces a statutory maximum penalty of no more one year in federal prison and a $100,000 fine. His sentencing is scheduled for October 24. This case was investigated by the FBI and the Grapevine Police Department. The case was prosecuted by Trial Attorney Rebekah Bailey of the Civil Rights Division’s Criminal Section and Assistant United States Attorney Nicole Dana.</td>\n",
       "      <td>2018-07-12T00:00:00-04:00</td>\n",
       "      <td>Hate Crimes</td>\n",
       "      <td>Civil Rights Division; Civil Rights - Criminal Section</td>\n",
       "      <td>0.005</td>\n",
       "      <td>0.806</td>\n",
       "      <td>0.005</td>\n",
       "      <td>-0.9955</td>\n",
       "      <td>glenn eugen halfin grapevin texa appear today magistr judg jeffrey cureton court northern texa plead guilti feder charg interf african american famili hous announc act general john gore erin neali northern texa accord court document halfin threaten forc intimid interf famili race occup apart locat direct apart accord document file connect guilti plea halfin purchas babi doll mart grapevin texa took rope fashion noos hung babi doll noos halfin hung rope noos babi doll rail direct front staircas famili could access apart halfin know display would particular intimid famili young daughter addit defend referenc factual basi repeat intimid interfer african american famili occas toler act intimid fear illeg threat individu famili race said act john gore continu prosecut hate crime offend afraid home night said erin neali communiti toler crime intimid bigotri continu prosecut persecut other base race color ethnic religi belief halfin face statutori maximum penalti year feder prison fine sentenc schedul octob investig grapevin polic prosecut rebekah bailey crimin section unit state nicol dana</td>\n",
       "      <td>0.000479</td>\n",
       "      <td>0.999077</td>\n",
       "      <td>0.000444</td>\n",
       "      <td>1</td>\n",
       "    </tr>\n",
       "    <tr>\n",
       "      <th>8075</th>\n",
       "      <td>11-1245</td>\n",
       "      <td>Louisiana Man Convicted of Producing and Possessing Child Pornography</td>\n",
       "      <td>WASHINGTON –    Paul W. Miller, of Denham Springs, La., was convicted late yesterday of two counts of producing and one count of possessing child pornography, announced Assistant Attorney General Lanny A. Breuer of the Criminal Division and U.S. Attorney Donald J. Cazayoux Jr. of the Middle District of Louisiana.        Miller, 44, was convicted by a federal jury following a two-day trial.  U.S. District Judge James J. Brady presided over the trial.       Evidence presented at trial showed that from October 2007 to May 2008, Miller sexually abused a 12-year-old girl and an 11-year-old girl and produced numerous photographs of the abuse.  According to trial evidence, forensic examination of Miller’s computer revealed that Miller had used his computer to print and possess numerous images of child pornography, including both the images of child pornography he had produced and images of other child victims.                 Miller faces a maximum statutory sentence of 30 years in prison for each count of production of child pornography and 10 years in prison for the possession of child pornography count.       The case is being prosecuted by Trial Attorney Alecia Riewerts Wolak of the Criminal Division’s Child Exploitation and Obscenity Section (CEOS) and Assistant U.S. Attorney Richard L. Bourgeois Jr. of the Middle District of Louisiana.  The investigation was conducted by the FBI, the Denham Springs Police Department and the Louisiana Attorney General’s Office.</td>\n",
       "      <td>2011-09-22T00:00:00-04:00</td>\n",
       "      <td>Project Safe Childhood</td>\n",
       "      <td>Criminal Division</td>\n",
       "      <td>0.007</td>\n",
       "      <td>0.887</td>\n",
       "      <td>0.007</td>\n",
       "      <td>-0.9565</td>\n",
       "      <td>washington paul miller denham spring convict late yesterday count produc count possess child pornographi announc general lanni breuer crimin donald cazayoux middl louisiana miller convict feder juri follow judg jame bradi presid evid present show octob miller sexual abus year girl year girl produc numer photograph abus accord evid forens examin miller comput reveal miller use comput print possess numer imag child pornographi includ imag child pornographi produc imag child victim miller face maximum statutori sentenc year prison count product child pornographi year prison possess child pornographi count prosecut alecia riewert wolak crimin child exploit obscen section ceo richard bourgeoi middl louisiana conduct denham spring polic louisiana general</td>\n",
       "      <td>0.000628</td>\n",
       "      <td>0.001000</td>\n",
       "      <td>0.998371</td>\n",
       "      <td>2</td>\n",
       "    </tr>\n",
       "    <tr>\n",
       "      <th>8353</th>\n",
       "      <td>11-1331</td>\n",
       "      <td>Massachusetts Man Pleads Guilty to Receiving and Possessing Child Pornography</td>\n",
       "      <td>WASHINGTON –    A Springfield, Mass., man pleaded guilty today to receiving and possessing child pornography, announced Assistant Attorney General Lanny A. Breuer of the Criminal Division.       Robert Rosenbeck, 48, pleaded guilty before U.S. District Judge Denise J. Casper in Boston to one count of receipt of child pornography and two counts of possession of child pornography.  He was indicted on those charges on Dec. 10, 2009.        According to court documents, Rosenbeck possessed two different computers containing child pornography in 2007.  Additionally, from approximately July 22, 2007, to July 25, 2007, Rosenbeck received computer files containing child pornography from an Internet website.                 At sentencing, scheduled for Dec. 5, 2011, Rosenbeck faces a maximum statutory sentence of 20 years in prison for the receipt of child pornography count and 10 years in prison for each count of possession of child pornography.  Rosenbeck also faces a term of supervised release of at least five years and up to life.       The case is being prosecuted by Trial Attorneys Alecia Riewerts Wolak and Michael W. Grant of the Criminal Division’s Child Exploitation and Obscenity Section (CEOS).  The investigation was conducted by the FBI with assistance provided by the Springfield Police Department.</td>\n",
       "      <td>2011-10-06T00:00:00-04:00</td>\n",
       "      <td>Project Safe Childhood</td>\n",
       "      <td>Criminal Division</td>\n",
       "      <td>0.008</td>\n",
       "      <td>0.874</td>\n",
       "      <td>0.008</td>\n",
       "      <td>-0.9451</td>\n",
       "      <td>washington springfield mass plead guilti today receiv possess child pornographi announc general lanni breuer crimin robert rosenbeck plead guilti judg denis casper boston count receipt child pornographi count possess child pornographi indict charg accord court document rosenbeck possess differ comput contain child pornographi addit approxim juli juli rosenbeck receiv comput file contain child pornographi internet websit sentenc schedul rosenbeck face maximum statutori sentenc year prison receipt child pornographi count year prison count possess child pornographi rosenbeck also face term supervis releas least five year life prosecut attorney alecia riewert wolak michael grant crimin child exploit obscen section ceo conduct provid springfield polic</td>\n",
       "      <td>0.000636</td>\n",
       "      <td>0.001012</td>\n",
       "      <td>0.998352</td>\n",
       "      <td>2</td>\n",
       "    </tr>\n",
       "    <tr>\n",
       "      <th>7618</th>\n",
       "      <td>17-242</td>\n",
       "      <td>Justice Department Sues Edmonds, Washington Landlords for Discriminating Against Families With Children</td>\n",
       "      <td>The U.S. Department of Justice today filed a lawsuit in U.S. District Court for the Western District of Washington alleging that the owners and manager of three Edmonds, Washington apartment buildings refused to rent their apartments to families with children, in violation of the Fair Housing Act.    “The Fair Housing Act prohibits landlords from denying apartments to families just because they have children,” said Acting Assistant Attorney General Tom Wheeler of the Justice Department’s Civil Rights Division. “Many families already face challenges finding affordable housing, and they should not also have to deal with unlawful discrimination.”   “Equal access to housing is essential for all Americans, including families with young children,” said U.S. Attorney Annette L. Hayes of the Western District of Washington. “Particularly in our tight housing market, landlords must follow the law and make units available without discrimination based on race, color, religion, sex, national origin, disability or familial status.”   The complaint concerns three apartment buildings – located at 201 5th Ave. N., 621 5th Ave. S., and 401 Pine Street in Edmonds – that are managed by defendant Debbie A. Appleby, of Stanwood, Washington. The properties are owned by three Limited Liability Corporations (LLCs) controlled by Appleby – Apple One, LLC, Apple Two, LLC, and Apple Three, LLC—which are also named as defendants in the suit. The complaint alleges that in March 2014, defendant Appleby told a woman seeking an apartment for herself, her husband, and their one year old child that the apartment buildings were “adult only” and therefore not available to her family. The complaint also alleges that at various other times from April 2014 to November 2015, defendants advertised their available apartments as being restricted to adults only. The family filed a complaint with the Department of Housing and Urban Development (“HUD”) which conducted an investigation, issued a charge of discrimination against the defendants, and referred the case to the Department of Justice.    The complaint seeks a court order requiring defendants to cease their discriminatory housing practices, damages for the family that filed the HUD complaint and any other families against whom the defendants discriminated against because they had children, and civil penalties. Any individuals who have information relevant to this case are encouraged to contact the Civil Rights Division at 1-800-896-7743, Option 96.   The federal Fair Housing Act prohibits discrimination in housing on the basis of race, color, religion, sex, familial status, national origin and disability. More information about the Civil Rights Division and the civil rights laws it enforces is available at www.usdoj.gov/crt  and https://www.justice.gov/usao-wdwa/civil-rights. Individuals who believe that they have been victims of housing discrimination may call the Justice Department at 1-800-896-7743, email the Justice Department at fairhousing@usdoj.gov, or contact HUD at 1-800-669-9777 or through its website at www.hud.gov.   The case is being jointly handled by the Department’s Civil Rights Division and the U.S. Attorney’s Office for the Western District of Washington.   The complaint is an allegation of unlawful conduct. The allegations must still be proven in federal court.</td>\n",
       "      <td>2017-03-03T00:00:00-05:00</td>\n",
       "      <td>Civil Rights</td>\n",
       "      <td>Civil Rights Division; Civil Rights - Housing and Civil Enforcement Section; USAO - Washington, Western</td>\n",
       "      <td>0.009</td>\n",
       "      <td>0.912</td>\n",
       "      <td>0.009</td>\n",
       "      <td>-0.9753</td>\n",
       "      <td>today file lawsuit court western washington alleg owner manag three edmond washington apart build refus rent apart famili children violat fair hous fair hous prohibit landlord deni apart famili children said act general wheeler mani famili alreadi face challeng find afford hous also deal unlaw discrimin equal access hous essenti american includ famili young children said annett hay western washington particular tight hous market landlord must follow make unit avail without discrimin base race color religion nation origin disabl famili status complaint concern three apart build locat pine street edmond manag defend debbi applebi stanwood washington properti own three limit liabil corpor llcs control applebi appl appl appl three also name defend suit complaint alleg march defend applebi told woman seek apart husband year child apart build adult therefor avail famili complaint also alleg various time april novemb defend advertis avail apart restrict adult famili file complaint hous urban develop conduct issu charg discrimin defend refer complaint seek court order requir defend ceas discriminatori hous practic damag famili file complaint famili defend discrimin children penalti individu inform relev encourag contact option feder fair hous prohibit discrimin hous basi race color religion famili status nation origin disabl inform law enforc avail usdoj https usao wdwa individu believ victim hous discrimin call email fairhous usdoj contact websit joint handl western washington complaint alleg unlaw conduct alleg must still proven feder court</td>\n",
       "      <td>0.999255</td>\n",
       "      <td>0.000471</td>\n",
       "      <td>0.000274</td>\n",
       "      <td>0</td>\n",
       "    </tr>\n",
       "    <tr>\n",
       "      <th>8847</th>\n",
       "      <td>17-550</td>\n",
       "      <td>Mother Sentenced to 26 Months in Prison for Taking Child from Illinois to Canada in International Parental Kidnapping Case</td>\n",
       "      <td>A Canadian woman was sentenced to serve 26 months in prison following her December conviction for international parental kidnapping, announced Acting Assistant Attorney General Kenneth A. Blanco of the Justice Department’s Criminal Division and Acting U.S. Attorney Patrick D. Hansen of the Central District of Illinois.   Sarah M. Nixon, 48, of Montreal, Canada, was sentenced before U.S. District Judge Colin S. Bruce of the Central District of Illinois. On Dec. 21, 2016, a federal jury found Nixon guilty of one count of international parental kidnapping for taking her minor child from the United States to Canada in July 2015, with the intent to obstruct the lawful exercise of the father’s rights.   Evidence at trial established that after a custody trial where it was apparent that Nixon would lose custody of her six-year-old daughter, Nixon fled the United States with the child in the middle of the night. When she did not appear for the custody ruling and neither she nor her daughter could be located, law enforcement issued a child abduction alert. Nixon and the child were eventually located in a farmhouse in rural Ontario, Canada. Authorities then returned the child to the father. Nixon was arrested in New York on Sept. 20, 2015, as she attempted to return to the United States.    Trial Attorneys Elly M. Peirson and Lauren S. Kupersmith of the Criminal Division’s Child Exploitation and Obscenity Section prosecuted the case. The FBI; Urbana, Illinois, Police Department; University of Illinois Police Department; Illinois Department of Children and Family Services; Ontario Provincial Police; and U.S. Customs and Border Protection investigated the case, with assistance from the Champaign County, Illinois, State’s Attorney’s Office and the Criminal Division’s Office of International Affairs.</td>\n",
       "      <td>2017-05-19T00:00:00-04:00</td>\n",
       "      <td>Project Safe Childhood</td>\n",
       "      <td>Criminal Division; Criminal - Child Exploitation and Obscenity Section; USAO - Illinois, Central</td>\n",
       "      <td>0.010</td>\n",
       "      <td>0.894</td>\n",
       "      <td>0.010</td>\n",
       "      <td>-0.9460</td>\n",
       "      <td>canadian woman sentenc serv month prison follow decemb convict intern parent kidnap announc act general kenneth blanco crimin act patrick hansen central illinoi sarah nixon montreal canada sentenc judg colin bruce central illinoi feder juri found nixon guilti count intern parent kidnap take minor child unit state canada juli intent obstruct law exercis father evid establish custodi appar nixon would lose custodi year daughter nixon fled unit state child middl night appear custodi rule neither daughter could locat enforc issu child abduct alert nixon child eventu locat farmhous rural ontario canada author return child father nixon arrest york sept attempt return unit state attorney elli peirson lauren kupersmith crimin child exploit obscen section prosecut urbana illinoi polic univers illinoi polic illinoi children famili servic ontario provinci polic custom border protect investig champaign counti illinoi state crimin intern affair</td>\n",
       "      <td>0.000651</td>\n",
       "      <td>0.214093</td>\n",
       "      <td>0.785256</td>\n",
       "      <td>2</td>\n",
       "    </tr>\n",
       "    <tr>\n",
       "      <th>...</th>\n",
       "      <td>...</td>\n",
       "      <td>...</td>\n",
       "      <td>...</td>\n",
       "      <td>...</td>\n",
       "      <td>...</td>\n",
       "      <td>...</td>\n",
       "      <td>...</td>\n",
       "      <td>...</td>\n",
       "      <td>...</td>\n",
       "      <td>...</td>\n",
       "      <td>...</td>\n",
       "      <td>...</td>\n",
       "      <td>...</td>\n",
       "      <td>...</td>\n",
       "      <td>...</td>\n",
       "    </tr>\n",
       "    <tr>\n",
       "      <th>6089</th>\n",
       "      <td>18-119</td>\n",
       "      <td>Justice Department Announces Religious Liberty Update to U.S. Attorneys’ Manual and Directs the Designation of Religious Liberty Point of Contact for All U.S. Attorney's Offices</td>\n",
       "      <td>The Department of Justice today announced the update of the United States Attorneys’ Manual (USAM) with a new section titled, “Associate Attorney General’s Approval and Notice Requirements for Issues Implicating Religious Liberty.” On Oct. 6, 2017, the Attorney General issued a Memorandum for All Executive Departments and Agencies entitled Federal Law Protections for Religious Liberty. The memo directed components and United States Attorney’s Offices to use the guidance in litigation, advice to the Executive Branch, operations, grants, and all other aspects of the Department’s work. In order to ensure compliance with the Attorney General’s memo, the USAM will be updated with language that directs relevant Department of Justice components to: The updated USAM will also instruct relevant Justice Department components to consult the 20 religious liberty principles laid out in the Attorney General’s October 6 memo when considering whether the notice or approval requirements are initiated. In order to fully effectuate the approval and notice requirements in the updated USAM, the Department will instruct all U.S. Attorneys to designate a point of contact to lead these efforts for their office. “Religious liberty is an inalienable right protected by the Constitution, and defending it is one of the most important things we do at the Department of Justice,” said Associate Attorney General Rachel Brand. At President Trump's direction, Attorney General Sessions issued a robust and clear guidance document in October that clearly explains how the federal government is to apply the religious liberty protections currently on the books.  The requirement that each of the U.S. Attorney offices designate a religious liberty point of contact will ensure that the Attorney General’s Memorandum is effectively implemented. The designees will be responsible for working directly with the leadership offices on civil cases related to religious liberty, ensuring that these cases receive the rigorous attention they deserve.</td>\n",
       "      <td>2018-01-31T00:00:00-05:00</td>\n",
       "      <td>Civil Rights</td>\n",
       "      <td>Civil Rights Division; Office of the Associate Attorney General</td>\n",
       "      <td>0.199</td>\n",
       "      <td>0.788</td>\n",
       "      <td>0.199</td>\n",
       "      <td>0.9944</td>\n",
       "      <td>today announc updat unit state attorney manual usam section titl associ general approv notic requir issu implic religi liberti general issu memorandum execut depart agenc entitl feder protect religi liberti memo direct compon unit state offic guidanc litig advic execut branch oper grant aspect work order ensur complianc general memo usam updat languag direct relev compon updat usam also instruct relev compon consult religi liberti principl laid general octob memo consid whether notic approv requir initi order fulli effectu approv notic requir updat usam instruct attorney design point contact lead effort religi liberti inalien right protect constitut defend import thing said associ general rachel brand presid trump direct general session issu robust clear guidanc document octob clear explain feder govern appli religi liberti protect current book requir offic design religi liberti point contact ensur general memorandum effect implement designe respons work direct leadership offic case relat religi liberti ensur case receiv rigor attent deserv</td>\n",
       "      <td>0.998535</td>\n",
       "      <td>0.000925</td>\n",
       "      <td>0.000540</td>\n",
       "      <td>0</td>\n",
       "    </tr>\n",
       "    <tr>\n",
       "      <th>6733</th>\n",
       "      <td>16-1321</td>\n",
       "      <td>Justice Department Reaches Agreement with City of Yonkers, New York, to Enhance Police Department Policies and Procedures</td>\n",
       "      <td>The Justice Department announced today that it has reached an agreement with the city of Yonkers, New York, and the Yonkers Police Department (YPD) to resolve the department’s investigation of YPD and ensure constitutional policing. The agreement is the result of the department’s investigation of YPD under the Violent Crime Control and Law Enforcement Act of 1994 and the Omnibus Crime Control and Safe Streets Act of 1968.  In June 2009, the United States sent the city a technical assistance letter that identified necessary reforms to YPD practices and policies in the areas of use of force, civilian complaints, investigations, supervisory oversight and training.  After receiving the department’s technical assistance letter, the city and YPD made substantial changes to its policies and procedures.  This agreement implements and further improves those policies and procedures and addresses the department’s remaining concerns.  “This agreement will ensure that the Yonkers Police Department continues to advance constitutional, effective and community-oriented policing,” said Principal Deputy Assistant Attorney General Vanita Gupta, head of the Justice Department’s Civil Rights Division.  “Through clear policy guidance, data analysis and accountability systems, we believe these reforms will make the entire community safer and strengthen public trust in the police.” “This agreement ensures that the Yonkers Police Department polices in a way that keeps its citizens safe, while protecting their constitutional rights,” said U.S. Attorney Preet Bharara of the Southern District of New York.  “The measures put in place with this agreement, including clear and reasonable use-of-force policies and guidance on how to properly evaluate and respond to use-of-force incidents, will make Yonkers safer for citizens and police alike.  We thank the Yonkers Police Department and the city of Yonkers for cooperating with our investigation, and for joining our effort to ensure that the Yonkers Police Department protects its citizens not only from physical harm, but also from violations of their constitutional rights.” The agreement is carefully tailored to address the department’s remaining concerns while also taking into account and seeking to build upon the positive reforms YPD has already made following the department’s investigation.  Under the agreement, the YPD will, among other things: The agreement also provides that consultants retained by the department will conduct compliance reviews to ensure that YPD has implemented the measures required by the agreement and issue public reports of those compliance reviews. This case is being handled by the Civil Rights Division’s Special Litigation Section and the U.S. Attorney’s Office of the Southern District of New York. Yonkers Police Department Agreement</td>\n",
       "      <td>2016-11-14T00:00:00-05:00</td>\n",
       "      <td>Civil Rights</td>\n",
       "      <td>Civil Rights Division; Civil Rights - Special Litigation Section; USAO - New York, Southern</td>\n",
       "      <td>0.199</td>\n",
       "      <td>0.778</td>\n",
       "      <td>0.199</td>\n",
       "      <td>0.9950</td>\n",
       "      <td>announc today reach agreement citi yonker york yonker polic resolv ensur constitut polic agreement result violent crime control enforc omnibus crime control safe street june unit state sent citi technic letter identifi necessari reform practic polici area forc civilian complaint investig supervisori oversight train receiv technic letter citi made substanti chang polici procedur agreement implement improv polici procedur address remain concern agreement ensur yonker polic continu advanc constitut effect communiti orient polic said princip deputi general vanita gupta head clear polici guidanc data analysi account system believ reform make entir communiti safer strengthen public trust polic agreement ensur yonker polic polic keep citizen safe protect constitut said preet bharara southern york measur place agreement includ clear reason forc polici guidanc proper evalu respond forc incid make yonker safer citizen polic alik thank yonker polic citi yonker cooper join effort ensur yonker polic protect citizen physic harm also violat constitut agreement care tailor address remain concern also take account seek build upon posit reform alreadi made follow agreement among thing agreement also provid consult retain conduct complianc review ensur implement measur requir agreement issu public report complianc review handl special litig section southern york yonker polic agreement</td>\n",
       "      <td>0.999066</td>\n",
       "      <td>0.000590</td>\n",
       "      <td>0.000344</td>\n",
       "      <td>0</td>\n",
       "    </tr>\n",
       "    <tr>\n",
       "      <th>6905</th>\n",
       "      <td>16-740</td>\n",
       "      <td>Justice Department Reaches Settlement to Reform Criminal Justice System in Hinds County, Mississippi</td>\n",
       "      <td>The Justice Department today reached a landmark settlement agreement to reform the criminal justice system in Hinds County, Mississippi.  The agreement resolves the department’s findings that the Hinds County Adult Detention Center and the Jackson City Detention Center – which together form the Hinds County Jail – failed to protect prisoners from violence and excessive force and held them past their court-ordered release dates, in violation of the Civil Rights of Institutionalized Persons Act (CRIPA). The settlement agreement is the first of its kind to incorporate broader criminal justice system reform through diversion at the front end and reentry to the community after incarceration.  It creates a criminal justice coordinating committee that will help ensure the county’s systems operate effectively and efficiently, develop interventions to divert individuals in appropriate cases from arrest, detention and incarceration, and engage in community outreach.  To promote successful reentry, the agreement includes mechanisms for notifying community health providers when a person with serious mental illness is released to help the person transition safely back to the community.  The agreement also addresses unlawful enforcement of court-ordered fines and fees by ensuring that the county cannot incarcerate an individual for non-payment if the court does not first assess whether the individual is indigent. “Across the board, this settlement will make the Hinds County criminal justice system smarter and fairer,” said Principal Deputy Assistant Attorney General Vanita Gupta, head of the Justice Department’s Civil Rights Division.  “If implemented, these reforms will make pretrial detainees, prisoners, corrections staff and the entire community safer, while also ensuring that vulnerable individuals get access to the treatment, care and community services they need and deserve.  We commend the county for its commitment to making these reforms a reality.” “For too long, the conditions in the Jail have posed a serious challenge to law enforcement and the safety of our community,” said U.S. Attorney Gregory K. Davis of the Southern District of Mississippi.  “I appreciate the commitment made by Hinds County officials to turn the page and begin making necessary reforms.” The settlement agreement – subject to approval by the U.S. District Court of the Southern District of Mississippi – requires the county to implement a series of reforms across various stages of the criminal justice system, including the following: Together these reforms aim to improve communication and coordination among criminal justice entities and community service providers to help individuals with mental illness transition back to the community and to reduce recidivism.  If approved by the federal district court, an independent monitor will be appointed to assess the county’s compliance.  In May 2015, the Justice Department completed a comprehensive investigation – which included on-site inspections, document reviews and stakeholder interviews by department experts and staff – and issued a findings letter that determined that Hinds County Adult Detention Center and the Jackson City Detention Center violated CRIPA by failing to protect prisoners from violence by other prisoners and from improper use of force by staff.  The department also found that inadequate staffing and training, a backlog in record filing and a lack of centralized information resulted in prisoners being held beyond court-ordered release dates. CRIPA authorizes the department to seek a remedy for a pattern or practice of conduct that violates the constitutional rights of persons confined in a jail, prison or other correctional facility.  For more information on the Civil Rights Division’s work in this area, please visit www.justice.gov/crt. Hinds County Settlement Agreement Hinds County Fact Sheet</td>\n",
       "      <td>2016-06-23T00:00:00-04:00</td>\n",
       "      <td>Civil Rights</td>\n",
       "      <td>Civil Rights Division; Civil Rights - Special Litigation Section; USAO - Mississippi, Southern</td>\n",
       "      <td>0.205</td>\n",
       "      <td>0.659</td>\n",
       "      <td>0.205</td>\n",
       "      <td>0.9888</td>\n",
       "      <td>today reach landmark settlement agreement reform crimin system hind counti mississippi agreement resolv find hind counti adult detent center jackson citi detent center togeth form hind counti jail fail protect prison violenc excess forc held past court order releas date violat institution person cripa settlement agreement first kind incorpor broader crimin system reform divers front reentri communiti incarcer creat crimin coordin committe help ensur counti system oper effect effici develop intervent divert individu appropri case arrest detent incarcer engag communiti outreach promot success reentri agreement includ mechan notifi communiti health provid person serious mental ill releas help person transit safe back communiti agreement also address unlaw enforc court order fine fee ensur counti cannot incarcer individu payment court first assess whether individu indig across board settlement make hind counti crimin system smarter fairer said princip deputi general vanita gupta head implement reform make pretrial detaine prison correct staff entir communiti safer also ensur vulner individu access treatment care communiti servic need deserv commend counti commit make reform realiti long condit jail pose serious challeng enforc safeti communiti said gregori davi southern mississippi appreci commit made hind counti offici turn page begin make necessari reform settlement agreement subject approv court southern mississippi requir counti implement seri reform across various stage crimin system includ follow togeth reform improv communic coordin among crimin entiti communiti servic provid help individu mental ill transit back communiti reduc recidiv approv feder court independ monitor appoint assess counti complianc complet comprehens includ site inspect document review stakehold interview expert staff issu find letter determin hind counti adult detent center jackson citi detent center violat cripa fail protect prison violenc prison improp forc staff also found inadequ staf train backlog record file lack central inform result prison held beyond court order releas date cripa author seek remedi pattern practic conduct violat constitut person confin jail prison correct facil inform work area pleas visit hind counti settlement agreement hind counti fact sheet</td>\n",
       "      <td>0.887982</td>\n",
       "      <td>0.111797</td>\n",
       "      <td>0.000220</td>\n",
       "      <td>0</td>\n",
       "    </tr>\n",
       "    <tr>\n",
       "      <th>11066</th>\n",
       "      <td>16-163</td>\n",
       "      <td>Statement from Head of the Civil Rights Division Vanita Gupta Regarding Ferguson, Missouri, City Council Vote on Proposed Consent Decree</td>\n",
       "      <td>Principal Deputy Assistant Attorney General Vanita Gupta, head of the Justice Department’s Civil Rights Division, released the following statement regarding the Ferguson, Missouri, City Council vote on the proposed consent decree with the Department of Justice:  “The Ferguson City Council has attempted to unilaterally amend the negotiated agreement.  Their vote to do so creates an unnecessary delay in the essential work to bring constitutional policing to the city, and marks an unfortunate outcome for concerned community members and Ferguson police officers.  Both parties engaged in thoughtful negotiations over many months to create an agreement with cost-effective remedies that would ensure Ferguson brings policing and court practices in line with the Constitution.  The agreement already negotiated by the department and the city will provide Ferguson residents a police department and municipal court that fully respects civil rights and operates free from racial discrimination. “The Department of Justice will take the necessary legal actions to ensure that Ferguson’s policing and court practices comply with the Constitution and relevant federal laws.”</td>\n",
       "      <td>2016-02-10T00:00:00-05:00</td>\n",
       "      <td>Civil Rights</td>\n",
       "      <td>Civil Rights Division; Civil Rights - Special Litigation Section</td>\n",
       "      <td>0.217</td>\n",
       "      <td>0.752</td>\n",
       "      <td>0.217</td>\n",
       "      <td>0.9811</td>\n",
       "      <td>princip deputi general vanita gupta head releas follow statement regard ferguson missouri citi council vote propos consent decre ferguson citi council attempt unilater amend negoti agreement vote creat unnecessari delay essenti work bring constitut polic citi mark unfortun outcom concern communiti member ferguson polic offic parti engag thought negoti mani month creat agreement cost effect remedi would ensur ferguson bring polic court practic line constitut agreement alreadi negoti citi provid ferguson resid polic municip court fulli respect oper free racial discrimin take necessari legal action ensur ferguson polic court practic compli constitut relev feder law</td>\n",
       "      <td>0.997998</td>\n",
       "      <td>0.001264</td>\n",
       "      <td>0.000737</td>\n",
       "      <td>0</td>\n",
       "    </tr>\n",
       "    <tr>\n",
       "      <th>6727</th>\n",
       "      <td>16-217</td>\n",
       "      <td>Justice Department Reaches Agreement with the City of Miami and the Miami Police Department to Implement Reforms on Officer-Involved Shootings</td>\n",
       "      <td>The Justice Department has reached a comprehensive settlement agreement with the city of Miami and the Miami Police Department (MPD) resolving the Justice Department’s investigation of officer-involved shootings by MPD officers, announced Principal Deputy Assistant Attorney General Vanita Gupta, head of the Justice Department’s Civil Rights Division and U.S. Attorney Wifredo A. Ferrer of the Southern District of Florida. The settlement, which was approved by Miami’s city commission today and will go into effect when the agreement is signed by all parties, resolves claims stemming from the Justice Department’s investigation into officer-involved shootings by MPD officers, which was conducted under the Violent Crime Control and Law Enforcement Act of 1994.  The investigation’s findings, issued in July 2013, identified a pattern or practice of excessive use of force through officer-involved shootings in violation of the Fourth Amendment of the Constitution.  The city’s compliance with the settlement will be monitored by an independent reviewer, former Tampa, Florida, Police Chief Jane Castor.  Under the settlement agreement, the city will implement comprehensive reforms to ensure constitutional policing and support public trust.  The settlement agreement is designed to minimize officer-involved shootings and to more effectively and quickly investigate officer-involved shootings that do occur, through measures that include: “This settlement represents a renewed commitment by the city of Miami and Chief Rodolfo Llanes to provide constitutional policing for Miami residents and to protect public safety through sustainable reform,” said Principal Deputy Assistant Attorney General Gupta.  “The agreement will help to strengthen the relationship between the MPD and the communities they serve by improving accountability for officers who fire their weapons unlawfully, and provides for community participation in the enforcement of this agreement.”  “Today's agreement is the result of a joint effort between the Department of Justice and the City of Miami to ensure that the Miami Police Department continues its efforts to make our community safe while protecting the sacred Constitutional rights of all of our citizens,” said U.S. Attorney Ferrer.  “Through oversight and communication, the agreement seeks to make permanent the positive changes that former Chief Orosa and Chief Llanes have made, and we applaud the City Commission’s vote.” The settlement agreement builds upon important reforms implemented by the city since the Justice Department issued its findings, including:  The investigation was conducted by attorneys and staff from the Civil Rights Division’s Special Litigation Section and the Civil Division of the U. S. Attorney’s Office of the Southern District of Florida.</td>\n",
       "      <td>2016-02-25T00:00:00-05:00</td>\n",
       "      <td>Civil Rights</td>\n",
       "      <td>Civil Rights Division; Civil Rights - Special Litigation Section; USAO - Florida, Southern</td>\n",
       "      <td>0.222</td>\n",
       "      <td>0.755</td>\n",
       "      <td>0.222</td>\n",
       "      <td>0.9966</td>\n",
       "      <td>reach comprehens settlement agreement citi miami miami polic resolv offic involv shoot offic announc princip deputi general vanita gupta head wifredo ferrer southern florida settlement approv miami citi commiss today effect agreement sign parti resolv claim stem offic involv shoot offic conduct violent crime control enforc find issu juli identifi pattern practic excess forc offic involv shoot violat fourth amend constitut citi complianc settlement monitor independ review former tampa florida polic chief jane castor settlement agreement citi implement comprehens reform ensur constitut polic support public trust settlement agreement design minim offic involv shoot effect quick investig offic involv shoot occur measur includ settlement repres renew commit citi miami chief rodolfo llane provid constitut polic miami resid protect public safeti sustain reform said princip deputi general gupta agreement help strengthen relationship communiti serv improv account offic fire weapon unlaw provid communiti particip enforc agreement today agreement result joint effort citi miami ensur miami polic continu effort make communiti safe protect sacr constitut citizen said ferrer oversight communic agreement seek make perman posit chang former chief orosa chief llane made applaud citi commiss vote settlement agreement build upon import reform implement citi sinc issu find includ conduct attorney staff special litig section southern florida</td>\n",
       "      <td>0.999153</td>\n",
       "      <td>0.000535</td>\n",
       "      <td>0.000312</td>\n",
       "      <td>0</td>\n",
       "    </tr>\n",
       "  </tbody>\n",
       "</table>\n",
       "<p>717 rows × 15 columns</p>\n",
       "</div>"
      ],
      "text/plain": [
       "             id  \\\n",
       "index_            \n",
       "5247     18-913   \n",
       "8075    11-1245   \n",
       "8353    11-1331   \n",
       "7618     17-242   \n",
       "8847     17-550   \n",
       "...         ...   \n",
       "6089     18-119   \n",
       "6733    16-1321   \n",
       "6905     16-740   \n",
       "11066    16-163   \n",
       "6727     16-217   \n",
       "\n",
       "                                                                                                                                                                                    title  \\\n",
       "index_                                                                                                                                                                                      \n",
       "5247                                                                                          Grapevine Texas Man Pleads Guilty to Federal Hate Crime  Against an African-American Family   \n",
       "8075                                                                                                                Louisiana Man Convicted of Producing and Possessing Child Pornography   \n",
       "8353                                                                                                        Massachusetts Man Pleads Guilty to Receiving and Possessing Child Pornography   \n",
       "7618                                                                              Justice Department Sues Edmonds, Washington Landlords for Discriminating Against Families With Children   \n",
       "8847                                                           Mother Sentenced to 26 Months in Prison for Taking Child from Illinois to Canada in International Parental Kidnapping Case   \n",
       "...                                                                                                                                                                                   ...   \n",
       "6089    Justice Department Announces Religious Liberty Update to U.S. Attorneys’ Manual and Directs the Designation of Religious Liberty Point of Contact for All U.S. Attorney's Offices   \n",
       "6733                                                            Justice Department Reaches Agreement with City of Yonkers, New York, to Enhance Police Department Policies and Procedures   \n",
       "6905                                                                                 Justice Department Reaches Settlement to Reform Criminal Justice System in Hinds County, Mississippi   \n",
       "11066                                            Statement from Head of the Civil Rights Division Vanita Gupta Regarding Ferguson, Missouri, City Council Vote on Proposed Consent Decree   \n",
       "6727                                       Justice Department Reaches Agreement with the City of Miami and the Miami Police Department to Implement Reforms on Officer-Involved Shootings   \n",
       "\n",
       "                                                                                                                                                                                                                                                                                                                                                                                                                                                                                                                                                                                                                                                                                                                                                                                                                                                                                                                                                                                                                                                                                                                                                                                                                                                                                                                                                                                                                                                                                                                                                                                                                                                                                                                                                                                                                                                                                                                                                                                                                                                                                                                                                                                                                                                                                                                                                                                                                                                                                                                                                                                                                                                                                                                                                                                                                                                                                                                                                                                                                                                                                                                                                                                                                                                                                                                                                                                                                                                                                                                                                                                                                                                                                                                                                                                                                                                                                                                                                                                                                                                     contents  \\\n",
       "index_                                                                                                                                                                                                                                                                                                                                                                                                                                                                                                                                                                                                                                                                                                                                                                                                                                                                                                                                                                                                                                                                                                                                                                                                                                                                                                                                                                                                                                                                                                                                                                                                                                                                                                                                                                                                                                                                                                                                                                                                                                                                                                                                                                                                                                                                                                                                                                                                                                                                                                                                                                                                                                                                                                                                                                                                                                                                                                                                                                                                                                                                                                                                                                                                                                                                                                                                                                                                                                                                                                                                                                                                                                                                                                                                                                                                                                                                                                                                                                                                                                                          \n",
       "5247                                                                                                                                                                                                                                                                                                                                                                                                                                                                                                                                                                                                                                                                                                                                                                                                                                                                                                                                                                                                                                                                                                                                                                                                                                                                                                                                                                                                                                                                                                                                                                                                                                                                                                                                                                               Glenn Eugene Halfin, 64, from Grapevine, Texas, appeared today before U.S. Magistrate Judge Jeffrey L. Cureton in the U.S. District Court for the Northern District of Texas and pleaded guilty to a federal charge of interfering with an African-American family’s housing rights, announced Acting Assistant Attorney General John Gore of the Civil Rights Division and U.S. Attorney Erin Nealy Cox of the Northern District of Texas. According to court documents, Halfin threatened force, intimidated, and interfered with a family because of their race and occupancy of an apartment that was located directly above his own apartment.  According to documents filed in connection with the guilty plea, on Dec. 19, 2017, Halfin purchased a baby doll at a Wal-Mart in Grapevine, Texas. He took a rope, fashioned it into a noose, and hung the baby doll from the noose. Halfin then hung the rope noose and baby doll on the railing directly in front of the only staircase the family could use to access their apartment. Halfin did so, knowing that this display would be particularly intimidating for the family who had a young daughter. In addition, the defendant referenced in his factual basis repeated intimidation of and interference with the same African-American family on other occasions. “The Justice Department will not tolerate acts of intimidation and fear, or illegal threats against any individual or family because of their race,” said Acting Assistant Attorney John Gore. “We will continue to prosecute hate crime offenders.” “No one should be afraid to go home at night,” said U.S. Attorney Erin Nealy Cox.  “Our community will not tolerate crimes of intimidation or bigotry, and my office will continue to prosecute all those who persecute others based on their race, color, ethnicity, or religious beliefs.” Halfin faces a statutory maximum penalty of no more one year in federal prison and a $100,000 fine. His sentencing is scheduled for October 24. This case was investigated by the FBI and the Grapevine Police Department. The case was prosecuted by Trial Attorney Rebekah Bailey of the Civil Rights Division’s Criminal Section and Assistant United States Attorney Nicole Dana.   \n",
       "8075                                                                                                                                                                                                                                                                                                                                                                                                                                                                                                                                                                                                                                                                                                                                                                                                                                                                                                                                                                                                                                                                                                                                                                                                                                                                                                                                                                                                                                                                                                                                                                                                                                                                                                                                                                                                                                                                                                                                                                                                                                                                                                                                                                                                                                                                                                                                                                                                                                                                                                              WASHINGTON –    Paul W. Miller, of Denham Springs, La., was convicted late yesterday of two counts of producing and one count of possessing child pornography, announced Assistant Attorney General Lanny A. Breuer of the Criminal Division and U.S. Attorney Donald J. Cazayoux Jr. of the Middle District of Louisiana.        Miller, 44, was convicted by a federal jury following a two-day trial.  U.S. District Judge James J. Brady presided over the trial.       Evidence presented at trial showed that from October 2007 to May 2008, Miller sexually abused a 12-year-old girl and an 11-year-old girl and produced numerous photographs of the abuse.  According to trial evidence, forensic examination of Miller’s computer revealed that Miller had used his computer to print and possess numerous images of child pornography, including both the images of child pornography he had produced and images of other child victims.                 Miller faces a maximum statutory sentence of 30 years in prison for each count of production of child pornography and 10 years in prison for the possession of child pornography count.       The case is being prosecuted by Trial Attorney Alecia Riewerts Wolak of the Criminal Division’s Child Exploitation and Obscenity Section (CEOS) and Assistant U.S. Attorney Richard L. Bourgeois Jr. of the Middle District of Louisiana.  The investigation was conducted by the FBI, the Denham Springs Police Department and the Louisiana Attorney General’s Office.   \n",
       "8353                                                                                                                                                                                                                                                                                                                                                                                                                                                                                                                                                                                                                                                                                                                                                                                                                                                                                                                                                                                                                                                                                                                                                                                                                                                                                                                                                                                                                                                                                                                                                                                                                                                                                                                                                                                                                                                                                                                                                                                                                                                                                                                                                                                                                                                                                                                                                                                                                                                                                                                                                                                                                                                                                WASHINGTON –    A Springfield, Mass., man pleaded guilty today to receiving and possessing child pornography, announced Assistant Attorney General Lanny A. Breuer of the Criminal Division.       Robert Rosenbeck, 48, pleaded guilty before U.S. District Judge Denise J. Casper in Boston to one count of receipt of child pornography and two counts of possession of child pornography.  He was indicted on those charges on Dec. 10, 2009.        According to court documents, Rosenbeck possessed two different computers containing child pornography in 2007.  Additionally, from approximately July 22, 2007, to July 25, 2007, Rosenbeck received computer files containing child pornography from an Internet website.                 At sentencing, scheduled for Dec. 5, 2011, Rosenbeck faces a maximum statutory sentence of 20 years in prison for the receipt of child pornography count and 10 years in prison for each count of possession of child pornography.  Rosenbeck also faces a term of supervised release of at least five years and up to life.       The case is being prosecuted by Trial Attorneys Alecia Riewerts Wolak and Michael W. Grant of the Criminal Division’s Child Exploitation and Obscenity Section (CEOS).  The investigation was conducted by the FBI with assistance provided by the Springfield Police Department.   \n",
       "7618                                                                                                                                                                                                                                                                                                                                                                                                                                                                                                                                                                  The U.S. Department of Justice today filed a lawsuit in U.S. District Court for the Western District of Washington alleging that the owners and manager of three Edmonds, Washington apartment buildings refused to rent their apartments to families with children, in violation of the Fair Housing Act.    “The Fair Housing Act prohibits landlords from denying apartments to families just because they have children,” said Acting Assistant Attorney General Tom Wheeler of the Justice Department’s Civil Rights Division. “Many families already face challenges finding affordable housing, and they should not also have to deal with unlawful discrimination.”   “Equal access to housing is essential for all Americans, including families with young children,” said U.S. Attorney Annette L. Hayes of the Western District of Washington. “Particularly in our tight housing market, landlords must follow the law and make units available without discrimination based on race, color, religion, sex, national origin, disability or familial status.”   The complaint concerns three apartment buildings – located at 201 5th Ave. N., 621 5th Ave. S., and 401 Pine Street in Edmonds – that are managed by defendant Debbie A. Appleby, of Stanwood, Washington. The properties are owned by three Limited Liability Corporations (LLCs) controlled by Appleby – Apple One, LLC, Apple Two, LLC, and Apple Three, LLC—which are also named as defendants in the suit. The complaint alleges that in March 2014, defendant Appleby told a woman seeking an apartment for herself, her husband, and their one year old child that the apartment buildings were “adult only” and therefore not available to her family. The complaint also alleges that at various other times from April 2014 to November 2015, defendants advertised their available apartments as being restricted to adults only. The family filed a complaint with the Department of Housing and Urban Development (“HUD”) which conducted an investigation, issued a charge of discrimination against the defendants, and referred the case to the Department of Justice.    The complaint seeks a court order requiring defendants to cease their discriminatory housing practices, damages for the family that filed the HUD complaint and any other families against whom the defendants discriminated against because they had children, and civil penalties. Any individuals who have information relevant to this case are encouraged to contact the Civil Rights Division at 1-800-896-7743, Option 96.   The federal Fair Housing Act prohibits discrimination in housing on the basis of race, color, religion, sex, familial status, national origin and disability. More information about the Civil Rights Division and the civil rights laws it enforces is available at www.usdoj.gov/crt  and https://www.justice.gov/usao-wdwa/civil-rights. Individuals who believe that they have been victims of housing discrimination may call the Justice Department at 1-800-896-7743, email the Justice Department at fairhousing@usdoj.gov, or contact HUD at 1-800-669-9777 or through its website at www.hud.gov.   The case is being jointly handled by the Department’s Civil Rights Division and the U.S. Attorney’s Office for the Western District of Washington.   The complaint is an allegation of unlawful conduct. The allegations must still be proven in federal court.   \n",
       "8847                                                                                                                                                                                                                                                                                                                                                                                                                                                                                                                                                                                                                                                                                                                                                                                                                                                                                                                                                                                                                                                                                                                                                                                                                                                                                                                                                                                                                                                                                                                                                                                                                                                                                                                                                                                                                                                                                                                                                                                                                                                                                                                                                               A Canadian woman was sentenced to serve 26 months in prison following her December conviction for international parental kidnapping, announced Acting Assistant Attorney General Kenneth A. Blanco of the Justice Department’s Criminal Division and Acting U.S. Attorney Patrick D. Hansen of the Central District of Illinois.   Sarah M. Nixon, 48, of Montreal, Canada, was sentenced before U.S. District Judge Colin S. Bruce of the Central District of Illinois. On Dec. 21, 2016, a federal jury found Nixon guilty of one count of international parental kidnapping for taking her minor child from the United States to Canada in July 2015, with the intent to obstruct the lawful exercise of the father’s rights.   Evidence at trial established that after a custody trial where it was apparent that Nixon would lose custody of her six-year-old daughter, Nixon fled the United States with the child in the middle of the night. When she did not appear for the custody ruling and neither she nor her daughter could be located, law enforcement issued a child abduction alert. Nixon and the child were eventually located in a farmhouse in rural Ontario, Canada. Authorities then returned the child to the father. Nixon was arrested in New York on Sept. 20, 2015, as she attempted to return to the United States.    Trial Attorneys Elly M. Peirson and Lauren S. Kupersmith of the Criminal Division’s Child Exploitation and Obscenity Section prosecuted the case. The FBI; Urbana, Illinois, Police Department; University of Illinois Police Department; Illinois Department of Children and Family Services; Ontario Provincial Police; and U.S. Customs and Border Protection investigated the case, with assistance from the Champaign County, Illinois, State’s Attorney’s Office and the Criminal Division’s Office of International Affairs.    \n",
       "...                                                                                                                                                                                                                                                                                                                                                                                                                                                                                                                                                                                                                                                                                                                                                                                                                                                                                                                                                                                                                                                                                                                                                                                                                                                                                                                                                                                                                                                                                                                                                                                                                                                                                                                                                                                                                                                                                                                                                                                                                                                                                                                                                                                                                                                                                                                                                                                                                                                                                                                                                                                                                                                                                                                                                                                                                                                                                                                                                                                                                                                                                                                                                                                                                                                                                                                                                                                                                                                                                                                                                                                                                                                                                                                                                                                                                                                                                                                                                                                                                                                       ...   \n",
       "6089                                                                                                                                                                                                                                                                                                                                                                                                                                                                                                                                                                                                                                                                                                                                                                                                                                                                                                                                                                                                                                                                                                                                                                                                                                                                                                                                                                                                                                                                                                                                                                                                                                                                                                                                                                                                                                                                                                                                            The Department of Justice today announced the update of the United States Attorneys’ Manual (USAM) with a new section titled, “Associate Attorney General’s Approval and Notice Requirements for Issues Implicating Religious Liberty.” On Oct. 6, 2017, the Attorney General issued a Memorandum for All Executive Departments and Agencies entitled Federal Law Protections for Religious Liberty. The memo directed components and United States Attorney’s Offices to use the guidance in litigation, advice to the Executive Branch, operations, grants, and all other aspects of the Department’s work. In order to ensure compliance with the Attorney General’s memo, the USAM will be updated with language that directs relevant Department of Justice components to: The updated USAM will also instruct relevant Justice Department components to consult the 20 religious liberty principles laid out in the Attorney General’s October 6 memo when considering whether the notice or approval requirements are initiated. In order to fully effectuate the approval and notice requirements in the updated USAM, the Department will instruct all U.S. Attorneys to designate a point of contact to lead these efforts for their office. “Religious liberty is an inalienable right protected by the Constitution, and defending it is one of the most important things we do at the Department of Justice,” said Associate Attorney General Rachel Brand. At President Trump's direction, Attorney General Sessions issued a robust and clear guidance document in October that clearly explains how the federal government is to apply the religious liberty protections currently on the books.  The requirement that each of the U.S. Attorney offices designate a religious liberty point of contact will ensure that the Attorney General’s Memorandum is effectively implemented. The designees will be responsible for working directly with the leadership offices on civil cases related to religious liberty, ensuring that these cases receive the rigorous attention they deserve.   \n",
       "6733                                                                                                                                                                                                                                                                                                                                                                                                                                                                                                                                                                                                                                                                                                                                                                                                                                                                                                                                                                                                                                                                                                             The Justice Department announced today that it has reached an agreement with the city of Yonkers, New York, and the Yonkers Police Department (YPD) to resolve the department’s investigation of YPD and ensure constitutional policing. The agreement is the result of the department’s investigation of YPD under the Violent Crime Control and Law Enforcement Act of 1994 and the Omnibus Crime Control and Safe Streets Act of 1968.  In June 2009, the United States sent the city a technical assistance letter that identified necessary reforms to YPD practices and policies in the areas of use of force, civilian complaints, investigations, supervisory oversight and training.  After receiving the department’s technical assistance letter, the city and YPD made substantial changes to its policies and procedures.  This agreement implements and further improves those policies and procedures and addresses the department’s remaining concerns.  “This agreement will ensure that the Yonkers Police Department continues to advance constitutional, effective and community-oriented policing,” said Principal Deputy Assistant Attorney General Vanita Gupta, head of the Justice Department’s Civil Rights Division.  “Through clear policy guidance, data analysis and accountability systems, we believe these reforms will make the entire community safer and strengthen public trust in the police.” “This agreement ensures that the Yonkers Police Department polices in a way that keeps its citizens safe, while protecting their constitutional rights,” said U.S. Attorney Preet Bharara of the Southern District of New York.  “The measures put in place with this agreement, including clear and reasonable use-of-force policies and guidance on how to properly evaluate and respond to use-of-force incidents, will make Yonkers safer for citizens and police alike.  We thank the Yonkers Police Department and the city of Yonkers for cooperating with our investigation, and for joining our effort to ensure that the Yonkers Police Department protects its citizens not only from physical harm, but also from violations of their constitutional rights.” The agreement is carefully tailored to address the department’s remaining concerns while also taking into account and seeking to build upon the positive reforms YPD has already made following the department’s investigation.  Under the agreement, the YPD will, among other things: The agreement also provides that consultants retained by the department will conduct compliance reviews to ensure that YPD has implemented the measures required by the agreement and issue public reports of those compliance reviews. This case is being handled by the Civil Rights Division’s Special Litigation Section and the U.S. Attorney’s Office of the Southern District of New York. Yonkers Police Department Agreement   \n",
       "6905    The Justice Department today reached a landmark settlement agreement to reform the criminal justice system in Hinds County, Mississippi.  The agreement resolves the department’s findings that the Hinds County Adult Detention Center and the Jackson City Detention Center – which together form the Hinds County Jail – failed to protect prisoners from violence and excessive force and held them past their court-ordered release dates, in violation of the Civil Rights of Institutionalized Persons Act (CRIPA). The settlement agreement is the first of its kind to incorporate broader criminal justice system reform through diversion at the front end and reentry to the community after incarceration.  It creates a criminal justice coordinating committee that will help ensure the county’s systems operate effectively and efficiently, develop interventions to divert individuals in appropriate cases from arrest, detention and incarceration, and engage in community outreach.  To promote successful reentry, the agreement includes mechanisms for notifying community health providers when a person with serious mental illness is released to help the person transition safely back to the community.  The agreement also addresses unlawful enforcement of court-ordered fines and fees by ensuring that the county cannot incarcerate an individual for non-payment if the court does not first assess whether the individual is indigent. “Across the board, this settlement will make the Hinds County criminal justice system smarter and fairer,” said Principal Deputy Assistant Attorney General Vanita Gupta, head of the Justice Department’s Civil Rights Division.  “If implemented, these reforms will make pretrial detainees, prisoners, corrections staff and the entire community safer, while also ensuring that vulnerable individuals get access to the treatment, care and community services they need and deserve.  We commend the county for its commitment to making these reforms a reality.” “For too long, the conditions in the Jail have posed a serious challenge to law enforcement and the safety of our community,” said U.S. Attorney Gregory K. Davis of the Southern District of Mississippi.  “I appreciate the commitment made by Hinds County officials to turn the page and begin making necessary reforms.” The settlement agreement – subject to approval by the U.S. District Court of the Southern District of Mississippi – requires the county to implement a series of reforms across various stages of the criminal justice system, including the following: Together these reforms aim to improve communication and coordination among criminal justice entities and community service providers to help individuals with mental illness transition back to the community and to reduce recidivism.  If approved by the federal district court, an independent monitor will be appointed to assess the county’s compliance.  In May 2015, the Justice Department completed a comprehensive investigation – which included on-site inspections, document reviews and stakeholder interviews by department experts and staff – and issued a findings letter that determined that Hinds County Adult Detention Center and the Jackson City Detention Center violated CRIPA by failing to protect prisoners from violence by other prisoners and from improper use of force by staff.  The department also found that inadequate staffing and training, a backlog in record filing and a lack of centralized information resulted in prisoners being held beyond court-ordered release dates. CRIPA authorizes the department to seek a remedy for a pattern or practice of conduct that violates the constitutional rights of persons confined in a jail, prison or other correctional facility.  For more information on the Civil Rights Division’s work in this area, please visit www.justice.gov/crt. Hinds County Settlement Agreement Hinds County Fact Sheet   \n",
       "11066                                                                                                                                                                                                                                                                                                                                                                                                                                                                                                                                                                                                                                                                                                                                                                                                                                                                                                                                                                                                                                                                                                                                                                                                                                                                                                                                                                                                                                                                                                                                                                                                                                                                                                                                                                                                                                                                                                                                                                                                                                                                                                                                                                                                                                                                                                                                                                                                                                                                                                                                                                                                                                                                                                                                                                                                                                       Principal Deputy Assistant Attorney General Vanita Gupta, head of the Justice Department’s Civil Rights Division, released the following statement regarding the Ferguson, Missouri, City Council vote on the proposed consent decree with the Department of Justice:  “The Ferguson City Council has attempted to unilaterally amend the negotiated agreement.  Their vote to do so creates an unnecessary delay in the essential work to bring constitutional policing to the city, and marks an unfortunate outcome for concerned community members and Ferguson police officers.  Both parties engaged in thoughtful negotiations over many months to create an agreement with cost-effective remedies that would ensure Ferguson brings policing and court practices in line with the Constitution.  The agreement already negotiated by the department and the city will provide Ferguson residents a police department and municipal court that fully respects civil rights and operates free from racial discrimination. “The Department of Justice will take the necessary legal actions to ensure that Ferguson’s policing and court practices comply with the Constitution and relevant federal laws.”   \n",
       "6727                                                                                                                                                                                                                                                                                                                                                                                                                                                                                                                                                                                                                                                                                                                                                                                                                                                                                                                                                                                                                                                                                                                               The Justice Department has reached a comprehensive settlement agreement with the city of Miami and the Miami Police Department (MPD) resolving the Justice Department’s investigation of officer-involved shootings by MPD officers, announced Principal Deputy Assistant Attorney General Vanita Gupta, head of the Justice Department’s Civil Rights Division and U.S. Attorney Wifredo A. Ferrer of the Southern District of Florida. The settlement, which was approved by Miami’s city commission today and will go into effect when the agreement is signed by all parties, resolves claims stemming from the Justice Department’s investigation into officer-involved shootings by MPD officers, which was conducted under the Violent Crime Control and Law Enforcement Act of 1994.  The investigation’s findings, issued in July 2013, identified a pattern or practice of excessive use of force through officer-involved shootings in violation of the Fourth Amendment of the Constitution.  The city’s compliance with the settlement will be monitored by an independent reviewer, former Tampa, Florida, Police Chief Jane Castor.  Under the settlement agreement, the city will implement comprehensive reforms to ensure constitutional policing and support public trust.  The settlement agreement is designed to minimize officer-involved shootings and to more effectively and quickly investigate officer-involved shootings that do occur, through measures that include: “This settlement represents a renewed commitment by the city of Miami and Chief Rodolfo Llanes to provide constitutional policing for Miami residents and to protect public safety through sustainable reform,” said Principal Deputy Assistant Attorney General Gupta.  “The agreement will help to strengthen the relationship between the MPD and the communities they serve by improving accountability for officers who fire their weapons unlawfully, and provides for community participation in the enforcement of this agreement.”  “Today's agreement is the result of a joint effort between the Department of Justice and the City of Miami to ensure that the Miami Police Department continues its efforts to make our community safe while protecting the sacred Constitutional rights of all of our citizens,” said U.S. Attorney Ferrer.  “Through oversight and communication, the agreement seeks to make permanent the positive changes that former Chief Orosa and Chief Llanes have made, and we applaud the City Commission’s vote.” The settlement agreement builds upon important reforms implemented by the city since the Justice Department issued its findings, including:  The investigation was conducted by attorneys and staff from the Civil Rights Division’s Special Litigation Section and the Civil Division of the U. S. Attorney’s Office of the Southern District of Florida.   \n",
       "\n",
       "                             date            topics_clean  \\\n",
       "index_                                                      \n",
       "5247    2018-07-12T00:00:00-04:00             Hate Crimes   \n",
       "8075    2011-09-22T00:00:00-04:00  Project Safe Childhood   \n",
       "8353    2011-10-06T00:00:00-04:00  Project Safe Childhood   \n",
       "7618    2017-03-03T00:00:00-05:00            Civil Rights   \n",
       "8847    2017-05-19T00:00:00-04:00  Project Safe Childhood   \n",
       "...                           ...                     ...   \n",
       "6089    2018-01-31T00:00:00-05:00            Civil Rights   \n",
       "6733    2016-11-14T00:00:00-05:00            Civil Rights   \n",
       "6905    2016-06-23T00:00:00-04:00            Civil Rights   \n",
       "11066   2016-02-10T00:00:00-05:00            Civil Rights   \n",
       "6727    2016-02-25T00:00:00-05:00            Civil Rights   \n",
       "\n",
       "                                                                                               components_clean  \\\n",
       "index_                                                                                                            \n",
       "5247                                                     Civil Rights Division; Civil Rights - Criminal Section   \n",
       "8075                                                                                          Criminal Division   \n",
       "8353                                                                                          Criminal Division   \n",
       "7618    Civil Rights Division; Civil Rights - Housing and Civil Enforcement Section; USAO - Washington, Western   \n",
       "8847           Criminal Division; Criminal - Child Exploitation and Obscenity Section; USAO - Illinois, Central   \n",
       "...                                                                                                         ...   \n",
       "6089                                            Civil Rights Division; Office of the Associate Attorney General   \n",
       "6733                Civil Rights Division; Civil Rights - Special Litigation Section; USAO - New York, Southern   \n",
       "6905             Civil Rights Division; Civil Rights - Special Litigation Section; USAO - Mississippi, Southern   \n",
       "11066                                          Civil Rights Division; Civil Rights - Special Litigation Section   \n",
       "6727                 Civil Rights Division; Civil Rights - Special Litigation Section; USAO - Florida, Southern   \n",
       "\n",
       "          neg    neu    pos  compound_  \\\n",
       "index_                                   \n",
       "5247    0.005  0.806  0.005    -0.9955   \n",
       "8075    0.007  0.887  0.007    -0.9565   \n",
       "8353    0.008  0.874  0.008    -0.9451   \n",
       "7618    0.009  0.912  0.009    -0.9753   \n",
       "8847    0.010  0.894  0.010    -0.9460   \n",
       "...       ...    ...    ...        ...   \n",
       "6089    0.199  0.788  0.199     0.9944   \n",
       "6733    0.199  0.778  0.199     0.9950   \n",
       "6905    0.205  0.659  0.205     0.9888   \n",
       "11066   0.217  0.752  0.217     0.9811   \n",
       "6727    0.222  0.755  0.222     0.9966   \n",
       "\n",
       "                                                                                                                                                                                                                                                                                                                                                                                                                                                                                                                                                                                                                                                                                                                                                                                                                                                                                                                                                                                                                                                                                                                                                                                                                                                                                                                                                                                                                                                                                                                                                                                                                                                                                                                                                                                                                                                                                                                                                                                                                                                                                                                                                                                                                                                                                                                                                                       processed_text  \\\n",
       "index_                                                                                                                                                                                                                                                                                                                                                                                                                                                                                                                                                                                                                                                                                                                                                                                                                                                                                                                                                                                                                                                                                                                                                                                                                                                                                                                                                                                                                                                                                                                                                                                                                                                                                                                                                                                                                                                                                                                                                                                                                                                                                                                                                                                                                                                                                                                                                                                  \n",
       "5247                                                                                                                                                                                                                                                                                                                                                                                                                                                                                                                                                                                                                                                                                                                                                                                                                                                                                                                                                                                                                                                                                                                                                                                                                                     glenn eugen halfin grapevin texa appear today magistr judg jeffrey cureton court northern texa plead guilti feder charg interf african american famili hous announc act general john gore erin neali northern texa accord court document halfin threaten forc intimid interf famili race occup apart locat direct apart accord document file connect guilti plea halfin purchas babi doll mart grapevin texa took rope fashion noos hung babi doll noos halfin hung rope noos babi doll rail direct front staircas famili could access apart halfin know display would particular intimid famili young daughter addit defend referenc factual basi repeat intimid interfer african american famili occas toler act intimid fear illeg threat individu famili race said act john gore continu prosecut hate crime offend afraid home night said erin neali communiti toler crime intimid bigotri continu prosecut persecut other base race color ethnic religi belief halfin face statutori maximum penalti year feder prison fine sentenc schedul octob investig grapevin polic prosecut rebekah bailey crimin section unit state nicol dana   \n",
       "8075                                                                                                                                                                                                                                                                                                                                                                                                                                                                                                                                                                                                                                                                                                                                                                                                                                                                                                                                                                                                                                                                                                                                                                                                                                                                                                                                                                                                                                                                                                                                                                                           washington paul miller denham spring convict late yesterday count produc count possess child pornographi announc general lanni breuer crimin donald cazayoux middl louisiana miller convict feder juri follow judg jame bradi presid evid present show octob miller sexual abus year girl year girl produc numer photograph abus accord evid forens examin miller comput reveal miller use comput print possess numer imag child pornographi includ imag child pornographi produc imag child victim miller face maximum statutori sentenc year prison count product child pornographi year prison possess child pornographi count prosecut alecia riewert wolak crimin child exploit obscen section ceo richard bourgeoi middl louisiana conduct denham spring polic louisiana general   \n",
       "8353                                                                                                                                                                                                                                                                                                                                                                                                                                                                                                                                                                                                                                                                                                                                                                                                                                                                                                                                                                                                                                                                                                                                                                                                                                                                                                                                                                                                                                                                                                                                                                                             washington springfield mass plead guilti today receiv possess child pornographi announc general lanni breuer crimin robert rosenbeck plead guilti judg denis casper boston count receipt child pornographi count possess child pornographi indict charg accord court document rosenbeck possess differ comput contain child pornographi addit approxim juli juli rosenbeck receiv comput file contain child pornographi internet websit sentenc schedul rosenbeck face maximum statutori sentenc year prison receipt child pornographi count year prison count possess child pornographi rosenbeck also face term supervis releas least five year life prosecut attorney alecia riewert wolak michael grant crimin child exploit obscen section ceo conduct provid springfield polic   \n",
       "7618                                                                                                                                                                                                                                                                                                                                                                                                                                                                                                                                                                                                                                                                                                                                                         today file lawsuit court western washington alleg owner manag three edmond washington apart build refus rent apart famili children violat fair hous fair hous prohibit landlord deni apart famili children said act general wheeler mani famili alreadi face challeng find afford hous also deal unlaw discrimin equal access hous essenti american includ famili young children said annett hay western washington particular tight hous market landlord must follow make unit avail without discrimin base race color religion nation origin disabl famili status complaint concern three apart build locat pine street edmond manag defend debbi applebi stanwood washington properti own three limit liabil corpor llcs control applebi appl appl appl three also name defend suit complaint alleg march defend applebi told woman seek apart husband year child apart build adult therefor avail famili complaint also alleg various time april novemb defend advertis avail apart restrict adult famili file complaint hous urban develop conduct issu charg discrimin defend refer complaint seek court order requir defend ceas discriminatori hous practic damag famili file complaint famili defend discrimin children penalti individu inform relev encourag contact option feder fair hous prohibit discrimin hous basi race color religion famili status nation origin disabl inform law enforc avail usdoj https usao wdwa individu believ victim hous discrimin call email fairhous usdoj contact websit joint handl western washington complaint alleg unlaw conduct alleg must still proven feder court   \n",
       "8847                                                                                                                                                                                                                                                                                                                                                                                                                                                                                                                                                                                                                                                                                                                                                                                                                                                                                                                                                                                                                                                                                                                                                                                                                                                                                                                                                                                                canadian woman sentenc serv month prison follow decemb convict intern parent kidnap announc act general kenneth blanco crimin act patrick hansen central illinoi sarah nixon montreal canada sentenc judg colin bruce central illinoi feder juri found nixon guilti count intern parent kidnap take minor child unit state canada juli intent obstruct law exercis father evid establish custodi appar nixon would lose custodi year daughter nixon fled unit state child middl night appear custodi rule neither daughter could locat enforc issu child abduct alert nixon child eventu locat farmhous rural ontario canada author return child father nixon arrest york sept attempt return unit state attorney elli peirson lauren kupersmith crimin child exploit obscen section prosecut urbana illinoi polic univers illinoi polic illinoi children famili servic ontario provinci polic custom border protect investig champaign counti illinoi state crimin intern affair   \n",
       "...                                                                                                                                                                                                                                                                                                                                                                                                                                                                                                                                                                                                                                                                                                                                                                                                                                                                                                                                                                                                                                                                                                                                                                                                                                                                                                                                                                                                                                                                                                                                                                                                                                                                                                                                                                                                                                                                                                                                                                                                                                                                                                                                                                                                                                                                                                                                                                               ...   \n",
       "6089                                                                                                                                                                                                                                                                                                                                                                                                                                                                                                                                                                                                                                                                                                                                                                                                                                                                                                                                                                                                                                                                                                                                                                                                                                                                                 today announc updat unit state attorney manual usam section titl associ general approv notic requir issu implic religi liberti general issu memorandum execut depart agenc entitl feder protect religi liberti memo direct compon unit state offic guidanc litig advic execut branch oper grant aspect work order ensur complianc general memo usam updat languag direct relev compon updat usam also instruct relev compon consult religi liberti principl laid general octob memo consid whether notic approv requir initi order fulli effectu approv notic requir updat usam instruct attorney design point contact lead effort religi liberti inalien right protect constitut defend import thing said associ general rachel brand presid trump direct general session issu robust clear guidanc document octob clear explain feder govern appli religi liberti protect current book requir offic design religi liberti point contact ensur general memorandum effect implement designe respons work direct leadership offic case relat religi liberti ensur case receiv rigor attent deserv   \n",
       "6733                                                                                                                                                                                                                                                                                                                                                                                                                                                                                                                                                                                                                                                                                                                                                                                                                                                                                                                                     announc today reach agreement citi yonker york yonker polic resolv ensur constitut polic agreement result violent crime control enforc omnibus crime control safe street june unit state sent citi technic letter identifi necessari reform practic polici area forc civilian complaint investig supervisori oversight train receiv technic letter citi made substanti chang polici procedur agreement implement improv polici procedur address remain concern agreement ensur yonker polic continu advanc constitut effect communiti orient polic said princip deputi general vanita gupta head clear polici guidanc data analysi account system believ reform make entir communiti safer strengthen public trust polic agreement ensur yonker polic polic keep citizen safe protect constitut said preet bharara southern york measur place agreement includ clear reason forc polici guidanc proper evalu respond forc incid make yonker safer citizen polic alik thank yonker polic citi yonker cooper join effort ensur yonker polic protect citizen physic harm also violat constitut agreement care tailor address remain concern also take account seek build upon posit reform alreadi made follow agreement among thing agreement also provid consult retain conduct complianc review ensur implement measur requir agreement issu public report complianc review handl special litig section southern york yonker polic agreement   \n",
       "6905    today reach landmark settlement agreement reform crimin system hind counti mississippi agreement resolv find hind counti adult detent center jackson citi detent center togeth form hind counti jail fail protect prison violenc excess forc held past court order releas date violat institution person cripa settlement agreement first kind incorpor broader crimin system reform divers front reentri communiti incarcer creat crimin coordin committe help ensur counti system oper effect effici develop intervent divert individu appropri case arrest detent incarcer engag communiti outreach promot success reentri agreement includ mechan notifi communiti health provid person serious mental ill releas help person transit safe back communiti agreement also address unlaw enforc court order fine fee ensur counti cannot incarcer individu payment court first assess whether individu indig across board settlement make hind counti crimin system smarter fairer said princip deputi general vanita gupta head implement reform make pretrial detaine prison correct staff entir communiti safer also ensur vulner individu access treatment care communiti servic need deserv commend counti commit make reform realiti long condit jail pose serious challeng enforc safeti communiti said gregori davi southern mississippi appreci commit made hind counti offici turn page begin make necessari reform settlement agreement subject approv court southern mississippi requir counti implement seri reform across various stage crimin system includ follow togeth reform improv communic coordin among crimin entiti communiti servic provid help individu mental ill transit back communiti reduc recidiv approv feder court independ monitor appoint assess counti complianc complet comprehens includ site inspect document review stakehold interview expert staff issu find letter determin hind counti adult detent center jackson citi detent center violat cripa fail protect prison violenc prison improp forc staff also found inadequ staf train backlog record file lack central inform result prison held beyond court order releas date cripa author seek remedi pattern practic conduct violat constitut person confin jail prison correct facil inform work area pleas visit hind counti settlement agreement hind counti fact sheet   \n",
       "11066                                                                                                                                                                                                                                                                                                                                                                                                                                                                                                                                                                                                                                                                                                                                                                                                                                                                                                                                                                                                                                                                                                                                                                                                                                                                                                                                                                                                                                                                                                                                                                                                                                                                                  princip deputi general vanita gupta head releas follow statement regard ferguson missouri citi council vote propos consent decre ferguson citi council attempt unilater amend negoti agreement vote creat unnecessari delay essenti work bring constitut polic citi mark unfortun outcom concern communiti member ferguson polic offic parti engag thought negoti mani month creat agreement cost effect remedi would ensur ferguson bring polic court practic line constitut agreement alreadi negoti citi provid ferguson resid polic municip court fulli respect oper free racial discrimin take necessari legal action ensur ferguson polic court practic compli constitut relev feder law   \n",
       "6727                                                                                                                                                                                                                                                                                                                                                                                                                                                                                                                                                                                                                                                                                                                                                                                                                                                                              reach comprehens settlement agreement citi miami miami polic resolv offic involv shoot offic announc princip deputi general vanita gupta head wifredo ferrer southern florida settlement approv miami citi commiss today effect agreement sign parti resolv claim stem offic involv shoot offic conduct violent crime control enforc find issu juli identifi pattern practic excess forc offic involv shoot violat fourth amend constitut citi complianc settlement monitor independ review former tampa florida polic chief jane castor settlement agreement citi implement comprehens reform ensur constitut polic support public trust settlement agreement design minim offic involv shoot effect quick investig offic involv shoot occur measur includ settlement repres renew commit citi miami chief rodolfo llane provid constitut polic miami resid protect public safeti sustain reform said princip deputi general gupta agreement help strengthen relationship communiti serv improv account offic fire weapon unlaw provid communiti particip enforc agreement today agreement result joint effort citi miami ensur miami polic continu effort make communiti safe protect sacr constitut citizen said ferrer oversight communic agreement seek make perman posit chang former chief orosa chief llane made applaud citi commiss vote settlement agreement build upon import reform implement citi sinc issu find includ conduct attorney staff special litig section southern florida   \n",
       "\n",
       "        topic_1_prob  topic_2_prob  topic_3_prob  top_topic  \n",
       "index_                                                       \n",
       "5247        0.000479      0.999077      0.000444          1  \n",
       "8075        0.000628      0.001000      0.998371          2  \n",
       "8353        0.000636      0.001012      0.998352          2  \n",
       "7618        0.999255      0.000471      0.000274          0  \n",
       "8847        0.000651      0.214093      0.785256          2  \n",
       "...              ...           ...           ...        ...  \n",
       "6089        0.998535      0.000925      0.000540          0  \n",
       "6733        0.999066      0.000590      0.000344          0  \n",
       "6905        0.887982      0.111797      0.000220          0  \n",
       "11066       0.997998      0.001264      0.000737          0  \n",
       "6727        0.999153      0.000535      0.000312          0  \n",
       "\n",
       "[717 rows x 15 columns]"
      ]
     },
     "execution_count": 43,
     "metadata": {},
     "output_type": "execute_result"
    }
   ],
   "source": [
    "## your code here to add those topic probabilities to the dataframe\n",
    "# List to store the top topic for each document\n",
    "top_topics = []\n",
    "\n",
    "# Iterate through the topic probabilities for each document\n",
    "for doc_probs in topic_probs_bydoc:\n",
    "    # Find the topic with the highest probability\n",
    "    top_topic = max(doc_probs, key=lambda x: x[1])[0]\n",
    "    top_topics.append(top_topic)\n",
    "\n",
    "# Top_topic column based on the highest-probability topic for each document\n",
    "doj_subset_wscore['top_topic'] = top_topics\n",
    "\n",
    "doj_subset_wscore"
   ]
  },
  {
   "cell_type": "code",
   "execution_count": 46,
   "metadata": {},
   "outputs": [],
   "source": []
  },
  {
   "cell_type": "code",
   "execution_count": 44,
   "metadata": {},
   "outputs": [
    {
     "data": {
      "text/html": [
       "<div>\n",
       "<style scoped>\n",
       "    .dataframe tbody tr th:only-of-type {\n",
       "        vertical-align: middle;\n",
       "    }\n",
       "\n",
       "    .dataframe tbody tr th {\n",
       "        vertical-align: top;\n",
       "    }\n",
       "\n",
       "    .dataframe thead th {\n",
       "        text-align: right;\n",
       "    }\n",
       "</style>\n",
       "<table border=\"1\" class=\"dataframe\">\n",
       "  <thead>\n",
       "    <tr style=\"text-align: right;\">\n",
       "      <th>top_topic</th>\n",
       "      <th>0</th>\n",
       "      <th>1</th>\n",
       "      <th>2</th>\n",
       "    </tr>\n",
       "    <tr>\n",
       "      <th>topics_clean</th>\n",
       "      <th></th>\n",
       "      <th></th>\n",
       "      <th></th>\n",
       "    </tr>\n",
       "  </thead>\n",
       "  <tbody>\n",
       "    <tr>\n",
       "      <th>Civil Rights</th>\n",
       "      <td>0.659016</td>\n",
       "      <td>0.340984</td>\n",
       "      <td>0.000000</td>\n",
       "    </tr>\n",
       "    <tr>\n",
       "      <th>Hate Crimes</th>\n",
       "      <td>0.000000</td>\n",
       "      <td>1.000000</td>\n",
       "      <td>0.000000</td>\n",
       "    </tr>\n",
       "    <tr>\n",
       "      <th>Project Safe Childhood</th>\n",
       "      <td>0.006024</td>\n",
       "      <td>0.000000</td>\n",
       "      <td>0.993976</td>\n",
       "    </tr>\n",
       "  </tbody>\n",
       "</table>\n",
       "</div>"
      ],
      "text/plain": [
       "top_topic                      0         1         2\n",
       "topics_clean                                        \n",
       "Civil Rights            0.659016  0.340984  0.000000\n",
       "Hate Crimes             0.000000  1.000000  0.000000\n",
       "Project Safe Childhood  0.006024  0.000000  0.993976"
      ]
     },
     "execution_count": 44,
     "metadata": {},
     "output_type": "execute_result"
    }
   ],
   "source": [
    "#C - summarize the topic proportions for each of the topics_clean \n",
    "pd.crosstab(doj_subset_wscore['topics_clean'], doj_subset_wscore['top_topic'], normalize='index')"
   ]
  },
  {
   "cell_type": "code",
   "execution_count": 63,
   "metadata": {},
   "outputs": [
    {
     "data": {
      "text/html": [
       "<div>\n",
       "<style scoped>\n",
       "    .dataframe tbody tr th:only-of-type {\n",
       "        vertical-align: middle;\n",
       "    }\n",
       "\n",
       "    .dataframe tbody tr th {\n",
       "        vertical-align: top;\n",
       "    }\n",
       "\n",
       "    .dataframe thead th {\n",
       "        text-align: right;\n",
       "    }\n",
       "</style>\n",
       "<table border=\"1\" class=\"dataframe\">\n",
       "  <thead>\n",
       "    <tr style=\"text-align: right;\">\n",
       "      <th></th>\n",
       "      <th>topics_clean</th>\n",
       "      <th>topic_1_prob</th>\n",
       "      <th>topic_2_prob</th>\n",
       "      <th>topic_3_prob</th>\n",
       "    </tr>\n",
       "    <tr>\n",
       "      <th>index_</th>\n",
       "      <th></th>\n",
       "      <th></th>\n",
       "      <th></th>\n",
       "      <th></th>\n",
       "    </tr>\n",
       "  </thead>\n",
       "  <tbody>\n",
       "    <tr>\n",
       "      <th>500</th>\n",
       "      <td>Hate Crimes</td>\n",
       "      <td>0.000594</td>\n",
       "      <td>0.998855</td>\n",
       "      <td>0.000551</td>\n",
       "    </tr>\n",
       "  </tbody>\n",
       "</table>\n",
       "</div>"
      ],
      "text/plain": [
       "       topics_clean  topic_1_prob  topic_2_prob  topic_3_prob\n",
       "index_                                                       \n",
       "500     Hate Crimes      0.000594      0.998855      0.000551"
      ]
     },
     "execution_count": 63,
     "metadata": {},
     "output_type": "execute_result"
    },
    {
     "data": {
      "text/html": [
       "<div>\n",
       "<style scoped>\n",
       "    .dataframe tbody tr th:only-of-type {\n",
       "        vertical-align: middle;\n",
       "    }\n",
       "\n",
       "    .dataframe tbody tr th {\n",
       "        vertical-align: top;\n",
       "    }\n",
       "\n",
       "    .dataframe thead th {\n",
       "        text-align: right;\n",
       "    }\n",
       "</style>\n",
       "<table border=\"1\" class=\"dataframe\">\n",
       "  <thead>\n",
       "    <tr style=\"text-align: right;\">\n",
       "      <th></th>\n",
       "      <th>topics_clean</th>\n",
       "      <th>topic_1_prob</th>\n",
       "      <th>topic_2_prob</th>\n",
       "      <th>topic_3_prob</th>\n",
       "    </tr>\n",
       "    <tr>\n",
       "      <th>index_</th>\n",
       "      <th></th>\n",
       "      <th></th>\n",
       "      <th></th>\n",
       "      <th></th>\n",
       "    </tr>\n",
       "  </thead>\n",
       "  <tbody>\n",
       "    <tr>\n",
       "      <th>683</th>\n",
       "      <td>Project Safe Childhood</td>\n",
       "      <td>0.160428</td>\n",
       "      <td>0.134152</td>\n",
       "      <td>0.70542</td>\n",
       "    </tr>\n",
       "  </tbody>\n",
       "</table>\n",
       "</div>"
      ],
      "text/plain": [
       "                  topics_clean  topic_1_prob  topic_2_prob  topic_3_prob\n",
       "index_                                                                  \n",
       "683     Project Safe Childhood      0.160428      0.134152       0.70542"
      ]
     },
     "execution_count": 63,
     "metadata": {},
     "output_type": "execute_result"
    },
    {
     "data": {
      "text/html": [
       "<div>\n",
       "<style scoped>\n",
       "    .dataframe tbody tr th:only-of-type {\n",
       "        vertical-align: middle;\n",
       "    }\n",
       "\n",
       "    .dataframe tbody tr th {\n",
       "        vertical-align: top;\n",
       "    }\n",
       "\n",
       "    .dataframe thead th {\n",
       "        text-align: right;\n",
       "    }\n",
       "</style>\n",
       "<table border=\"1\" class=\"dataframe\">\n",
       "  <thead>\n",
       "    <tr style=\"text-align: right;\">\n",
       "      <th></th>\n",
       "      <th>topics_clean</th>\n",
       "      <th>topic_1_prob</th>\n",
       "      <th>topic_2_prob</th>\n",
       "      <th>topic_3_prob</th>\n",
       "    </tr>\n",
       "    <tr>\n",
       "      <th>index_</th>\n",
       "      <th></th>\n",
       "      <th></th>\n",
       "      <th></th>\n",
       "      <th></th>\n",
       "    </tr>\n",
       "  </thead>\n",
       "  <tbody>\n",
       "    <tr>\n",
       "      <th>10190</th>\n",
       "      <td>Civil Rights</td>\n",
       "      <td>0.105366</td>\n",
       "      <td>0.475008</td>\n",
       "      <td>0.419626</td>\n",
       "    </tr>\n",
       "  </tbody>\n",
       "</table>\n",
       "</div>"
      ],
      "text/plain": [
       "        topics_clean  topic_1_prob  topic_2_prob  topic_3_prob\n",
       "index_                                                        \n",
       "10190   Civil Rights      0.105366      0.475008      0.419626"
      ]
     },
     "execution_count": 63,
     "metadata": {},
     "output_type": "execute_result"
    }
   ],
   "source": [
    "doj_subset_wscore[doj_subset_wscore['id'] == '11-964'][['topics_clean', 'topic_1_prob', 'topic_2_prob', 'topic_3_prob']]\n",
    "doj_subset_wscore[doj_subset_wscore['id'] == '11-645'][['topics_clean', 'topic_1_prob', 'topic_2_prob', 'topic_3_prob']]\n",
    "doj_subset_wscore[doj_subset_wscore['id'] == '17-604'][['topics_clean', 'topic_1_prob', 'topic_2_prob', 'topic_3_prob']]\n"
   ]
  },
  {
   "cell_type": "markdown",
   "metadata": {},
   "source": [
    "**D. Using a couple press releases as examples, write a 1-2 sentence interpretation of why some of the manual topics map on more cleanly to an estimated topic than other manual topic(s)**\n",
    "\n",
    "Hate Crime documents may map more cleanly onto an estimated topic due to their distinct and explicit language regarding violent crimes and legal procedures. In contrast, topics like Project Safe Childhood and Civil Rights may share language elements with other topics, such as references to violence or legal proceedings, leading to a less precise mapping to a single estimated topic, as the examples above demonstrate."
   ]
  },
  {
   "cell_type": "markdown",
   "metadata": {},
   "source": [
    "# 3. Extend the analysis from unigrams to bigrams (10 points)\n",
    "\n",
    "In the previous question, you found top words via a unigram representation of the text. Now, we want to see how those top words change with bigrams (pairs of words)\n",
    "\n",
    "A. Using the `doj_subset_wscore` data and the `processed_text` column (so the words after stemming/other preprocessing), create a column in the data called `processed_text_bigrams` that combines each consecutive pairs of word into a bigram separated by an underscore. Eg:\n",
    "\n",
    "\"depart reach settlem\" would become \"depart_reach reach_settlem\"\n",
    "\n",
    "Do this by writing a function `create_bigram_onedoc` that takes in a single `processed_text` string and returns a string with its bigrams structured similarly to above example\n",
    " \n",
    "**Hint**: there are many ways to solve but `zip` may be helpful: https://stackoverflow.com/questions/21303224/iterate-over-all-pairs-of-consecutive-items-in-a-list\n",
    "\n",
    "B. Print the `id`, `processed_text`, and `processed_text_bigram` columns for press release with id = 16-217"
   ]
  },
  {
   "cell_type": "code",
   "execution_count": 48,
   "metadata": {},
   "outputs": [
    {
     "data": {
      "text/plain": [
       "Index(['id', 'title', 'contents', 'date', 'topics_clean', 'components_clean',\n",
       "       'neg', 'neu', 'pos', 'compound_', 'processed_text', 'topic_1_prob',\n",
       "       'topic_2_prob', 'topic_3_prob', 'top_topic'],\n",
       "      dtype='object')"
      ]
     },
     "execution_count": 48,
     "metadata": {},
     "output_type": "execute_result"
    }
   ],
   "source": [
    "doj_subset_wscore.columns"
   ]
  },
  {
   "cell_type": "code",
   "execution_count": 60,
   "metadata": {},
   "outputs": [
    {
     "data": {
      "text/plain": [
       "'washington_paul paul_miller miller_denham denham_spring spring_convict convict_late late_yesterday yesterday_count count_produc produc_count count_possess possess_child child_pornographi pornographi_announc announc_general general_lanni lanni_breuer breuer_crimin crimin_donald donald_cazayoux cazayoux_middl middl_louisiana louisiana_miller miller_convict convict_feder feder_juri juri_follow follow_judg judg_jame jame_bradi bradi_presid presid_evid evid_present present_show show_octob octob_miller miller_sexual sexual_abus abus_year year_girl girl_year year_girl girl_produc produc_numer numer_photograph photograph_abus abus_accord accord_evid evid_forens forens_examin examin_miller miller_comput comput_reveal reveal_miller miller_use use_comput comput_print print_possess possess_numer numer_imag imag_child child_pornographi pornographi_includ includ_imag imag_child child_pornographi pornographi_produc produc_imag imag_child child_victim victim_miller miller_face face_maximum maximum_statutori statutori_sentenc sentenc_year year_prison prison_count count_product product_child child_pornographi pornographi_year year_prison prison_possess possess_child child_pornographi pornographi_count count_prosecut prosecut_alecia alecia_riewert riewert_wolak wolak_crimin crimin_child child_exploit exploit_obscen obscen_section section_ceo ceo_richard richard_bourgeoi bourgeoi_middl middl_louisiana louisiana_conduct conduct_denham denham_spring spring_polic polic_louisiana louisiana_general'"
      ]
     },
     "execution_count": 60,
     "metadata": {},
     "output_type": "execute_result"
    }
   ],
   "source": [
    "def create_bigram_onedoc(processed_text):\n",
    "    bigrams = []\n",
    "    tokens = processed_text.split()\n",
    "    \n",
    "    for first, second in zip(tokens, tokens[1:]):\n",
    "        string = first + \"_\" + second\n",
    "        bigrams.append(string)\n",
    "    bigrams_str = \" \".join(bigrams)\n",
    "    \n",
    "    return bigrams_str\n",
    "\n",
    "text_to_process = doj_subset_wscore.iloc[1]['processed_text']\n",
    "create_bigram_onedoc(text_to_process)\n"
   ]
  },
  {
   "cell_type": "code",
   "execution_count": 61,
   "metadata": {},
   "outputs": [
    {
     "data": {
      "text/html": [
       "<div>\n",
       "<style scoped>\n",
       "    .dataframe tbody tr th:only-of-type {\n",
       "        vertical-align: middle;\n",
       "    }\n",
       "\n",
       "    .dataframe tbody tr th {\n",
       "        vertical-align: top;\n",
       "    }\n",
       "\n",
       "    .dataframe thead th {\n",
       "        text-align: right;\n",
       "    }\n",
       "</style>\n",
       "<table border=\"1\" class=\"dataframe\">\n",
       "  <thead>\n",
       "    <tr style=\"text-align: right;\">\n",
       "      <th></th>\n",
       "      <th>id</th>\n",
       "      <th>title</th>\n",
       "      <th>contents</th>\n",
       "      <th>date</th>\n",
       "      <th>topics_clean</th>\n",
       "      <th>components_clean</th>\n",
       "      <th>neg</th>\n",
       "      <th>neu</th>\n",
       "      <th>pos</th>\n",
       "      <th>compound_</th>\n",
       "      <th>processed_text</th>\n",
       "      <th>topic_1_prob</th>\n",
       "      <th>topic_2_prob</th>\n",
       "      <th>topic_3_prob</th>\n",
       "      <th>top_topic</th>\n",
       "      <th>processed_text_bigrams</th>\n",
       "    </tr>\n",
       "    <tr>\n",
       "      <th>index_</th>\n",
       "      <th></th>\n",
       "      <th></th>\n",
       "      <th></th>\n",
       "      <th></th>\n",
       "      <th></th>\n",
       "      <th></th>\n",
       "      <th></th>\n",
       "      <th></th>\n",
       "      <th></th>\n",
       "      <th></th>\n",
       "      <th></th>\n",
       "      <th></th>\n",
       "      <th></th>\n",
       "      <th></th>\n",
       "      <th></th>\n",
       "      <th></th>\n",
       "    </tr>\n",
       "  </thead>\n",
       "  <tbody>\n",
       "    <tr>\n",
       "      <th>5247</th>\n",
       "      <td>18-913</td>\n",
       "      <td>Grapevine Texas Man Pleads Guilty to Federal Hate Crime  Against an African-American Family</td>\n",
       "      <td>Glenn Eugene Halfin, 64, from Grapevine, Texas, appeared today before U.S. Magistrate Judge Jeffrey L. Cureton in the U.S. District Court for the Northern District of Texas and pleaded guilty to a federal charge of interfering with an African-American family’s housing rights, announced Acting Assistant Attorney General John Gore of the Civil Rights Division and U.S. Attorney Erin Nealy Cox of the Northern District of Texas. According to court documents, Halfin threatened force, intimidated, and interfered with a family because of their race and occupancy of an apartment that was located directly above his own apartment.  According to documents filed in connection with the guilty plea, on Dec. 19, 2017, Halfin purchased a baby doll at a Wal-Mart in Grapevine, Texas. He took a rope, fashioned it into a noose, and hung the baby doll from the noose. Halfin then hung the rope noose and baby doll on the railing directly in front of the only staircase the family could use to access their apartment. Halfin did so, knowing that this display would be particularly intimidating for the family who had a young daughter. In addition, the defendant referenced in his factual basis repeated intimidation of and interference with the same African-American family on other occasions. “The Justice Department will not tolerate acts of intimidation and fear, or illegal threats against any individual or family because of their race,” said Acting Assistant Attorney John Gore. “We will continue to prosecute hate crime offenders.” “No one should be afraid to go home at night,” said U.S. Attorney Erin Nealy Cox.  “Our community will not tolerate crimes of intimidation or bigotry, and my office will continue to prosecute all those who persecute others based on their race, color, ethnicity, or religious beliefs.” Halfin faces a statutory maximum penalty of no more one year in federal prison and a $100,000 fine. His sentencing is scheduled for October 24. This case was investigated by the FBI and the Grapevine Police Department. The case was prosecuted by Trial Attorney Rebekah Bailey of the Civil Rights Division’s Criminal Section and Assistant United States Attorney Nicole Dana.</td>\n",
       "      <td>2018-07-12T00:00:00-04:00</td>\n",
       "      <td>Hate Crimes</td>\n",
       "      <td>Civil Rights Division; Civil Rights - Criminal Section</td>\n",
       "      <td>0.005</td>\n",
       "      <td>0.806</td>\n",
       "      <td>0.005</td>\n",
       "      <td>-0.9955</td>\n",
       "      <td>glenn eugen halfin grapevin texa appear today magistr judg jeffrey cureton court northern texa plead guilti feder charg interf african american famili hous announc act general john gore erin neali northern texa accord court document halfin threaten forc intimid interf famili race occup apart locat direct apart accord document file connect guilti plea halfin purchas babi doll mart grapevin texa took rope fashion noos hung babi doll noos halfin hung rope noos babi doll rail direct front staircas famili could access apart halfin know display would particular intimid famili young daughter addit defend referenc factual basi repeat intimid interfer african american famili occas toler act intimid fear illeg threat individu famili race said act john gore continu prosecut hate crime offend afraid home night said erin neali communiti toler crime intimid bigotri continu prosecut persecut other base race color ethnic religi belief halfin face statutori maximum penalti year feder prison fine sentenc schedul octob investig grapevin polic prosecut rebekah bailey crimin section unit state nicol dana</td>\n",
       "      <td>0.000479</td>\n",
       "      <td>0.999077</td>\n",
       "      <td>0.000444</td>\n",
       "      <td>1</td>\n",
       "      <td>glenn_eugen eugen_halfin halfin_grapevin grapevin_texa texa_appear appear_today today_magistr magistr_judg judg_jeffrey jeffrey_cureton cureton_court court_northern northern_texa texa_plead plead_guilti guilti_feder feder_charg charg_interf interf_african african_american american_famili famili_hous hous_announc announc_act act_general general_john john_gore gore_erin erin_neali neali_northern northern_texa texa_accord accord_court court_document document_halfin halfin_threaten threaten_forc forc_intimid intimid_interf interf_famili famili_race race_occup occup_apart apart_locat locat_direct direct_apart apart_accord accord_document document_file file_connect connect_guilti guilti_plea plea_halfin halfin_purchas purchas_babi babi_doll doll_mart mart_grapevin grapevin_texa texa_took took_rope rope_fashion fashion_noos noos_hung hung_babi babi_doll doll_noos noos_halfin halfin_hung hung_rope rope_noos noos_babi babi_doll doll_rail rail_direct direct_front front_staircas staircas_famili famili_could could_access access_apart apart_halfin halfin_know know_display display_would would_particular particular_intimid intimid_famili famili_young young_daughter daughter_addit addit_defend defend_referenc referenc_factual factual_basi basi_repeat repeat_intimid intimid_interfer interfer_african african_american american_famili famili_occas occas_toler toler_act act_intimid intimid_fear fear_illeg illeg_threat threat_individu individu_famili famili_race race_said said_act act_john john_gore gore_continu continu_prosecut prosecut_hate hate_crime crime_offend offend_afraid afraid_home home_night night_said said_erin erin_neali neali_communiti communiti_toler toler_crime crime_intimid intimid_bigotri bigotri_continu continu_prosecut prosecut_persecut persecut_other other_base base_race race_color color_ethnic ethnic_religi religi_belief belief_halfin halfin_face face_statutori statutori_maximum maximum_penalti penalti_year year_feder feder_prison prison_fine fine_sentenc sentenc_schedul schedul_octob octob_investig investig_grapevin grapevin_polic polic_prosecut prosecut_rebekah rebekah_bailey bailey_crimin crimin_section section_unit unit_state state_nicol nicol_dana</td>\n",
       "    </tr>\n",
       "    <tr>\n",
       "      <th>8075</th>\n",
       "      <td>11-1245</td>\n",
       "      <td>Louisiana Man Convicted of Producing and Possessing Child Pornography</td>\n",
       "      <td>WASHINGTON –    Paul W. Miller, of Denham Springs, La., was convicted late yesterday of two counts of producing and one count of possessing child pornography, announced Assistant Attorney General Lanny A. Breuer of the Criminal Division and U.S. Attorney Donald J. Cazayoux Jr. of the Middle District of Louisiana.        Miller, 44, was convicted by a federal jury following a two-day trial.  U.S. District Judge James J. Brady presided over the trial.       Evidence presented at trial showed that from October 2007 to May 2008, Miller sexually abused a 12-year-old girl and an 11-year-old girl and produced numerous photographs of the abuse.  According to trial evidence, forensic examination of Miller’s computer revealed that Miller had used his computer to print and possess numerous images of child pornography, including both the images of child pornography he had produced and images of other child victims.                 Miller faces a maximum statutory sentence of 30 years in prison for each count of production of child pornography and 10 years in prison for the possession of child pornography count.       The case is being prosecuted by Trial Attorney Alecia Riewerts Wolak of the Criminal Division’s Child Exploitation and Obscenity Section (CEOS) and Assistant U.S. Attorney Richard L. Bourgeois Jr. of the Middle District of Louisiana.  The investigation was conducted by the FBI, the Denham Springs Police Department and the Louisiana Attorney General’s Office.</td>\n",
       "      <td>2011-09-22T00:00:00-04:00</td>\n",
       "      <td>Project Safe Childhood</td>\n",
       "      <td>Criminal Division</td>\n",
       "      <td>0.007</td>\n",
       "      <td>0.887</td>\n",
       "      <td>0.007</td>\n",
       "      <td>-0.9565</td>\n",
       "      <td>washington paul miller denham spring convict late yesterday count produc count possess child pornographi announc general lanni breuer crimin donald cazayoux middl louisiana miller convict feder juri follow judg jame bradi presid evid present show octob miller sexual abus year girl year girl produc numer photograph abus accord evid forens examin miller comput reveal miller use comput print possess numer imag child pornographi includ imag child pornographi produc imag child victim miller face maximum statutori sentenc year prison count product child pornographi year prison possess child pornographi count prosecut alecia riewert wolak crimin child exploit obscen section ceo richard bourgeoi middl louisiana conduct denham spring polic louisiana general</td>\n",
       "      <td>0.000628</td>\n",
       "      <td>0.001000</td>\n",
       "      <td>0.998371</td>\n",
       "      <td>2</td>\n",
       "      <td>washington_paul paul_miller miller_denham denham_spring spring_convict convict_late late_yesterday yesterday_count count_produc produc_count count_possess possess_child child_pornographi pornographi_announc announc_general general_lanni lanni_breuer breuer_crimin crimin_donald donald_cazayoux cazayoux_middl middl_louisiana louisiana_miller miller_convict convict_feder feder_juri juri_follow follow_judg judg_jame jame_bradi bradi_presid presid_evid evid_present present_show show_octob octob_miller miller_sexual sexual_abus abus_year year_girl girl_year year_girl girl_produc produc_numer numer_photograph photograph_abus abus_accord accord_evid evid_forens forens_examin examin_miller miller_comput comput_reveal reveal_miller miller_use use_comput comput_print print_possess possess_numer numer_imag imag_child child_pornographi pornographi_includ includ_imag imag_child child_pornographi pornographi_produc produc_imag imag_child child_victim victim_miller miller_face face_maximum maximum_statutori statutori_sentenc sentenc_year year_prison prison_count count_product product_child child_pornographi pornographi_year year_prison prison_possess possess_child child_pornographi pornographi_count count_prosecut prosecut_alecia alecia_riewert riewert_wolak wolak_crimin crimin_child child_exploit exploit_obscen obscen_section section_ceo ceo_richard richard_bourgeoi bourgeoi_middl middl_louisiana louisiana_conduct conduct_denham denham_spring spring_polic polic_louisiana louisiana_general</td>\n",
       "    </tr>\n",
       "    <tr>\n",
       "      <th>8353</th>\n",
       "      <td>11-1331</td>\n",
       "      <td>Massachusetts Man Pleads Guilty to Receiving and Possessing Child Pornography</td>\n",
       "      <td>WASHINGTON –    A Springfield, Mass., man pleaded guilty today to receiving and possessing child pornography, announced Assistant Attorney General Lanny A. Breuer of the Criminal Division.       Robert Rosenbeck, 48, pleaded guilty before U.S. District Judge Denise J. Casper in Boston to one count of receipt of child pornography and two counts of possession of child pornography.  He was indicted on those charges on Dec. 10, 2009.        According to court documents, Rosenbeck possessed two different computers containing child pornography in 2007.  Additionally, from approximately July 22, 2007, to July 25, 2007, Rosenbeck received computer files containing child pornography from an Internet website.                 At sentencing, scheduled for Dec. 5, 2011, Rosenbeck faces a maximum statutory sentence of 20 years in prison for the receipt of child pornography count and 10 years in prison for each count of possession of child pornography.  Rosenbeck also faces a term of supervised release of at least five years and up to life.       The case is being prosecuted by Trial Attorneys Alecia Riewerts Wolak and Michael W. Grant of the Criminal Division’s Child Exploitation and Obscenity Section (CEOS).  The investigation was conducted by the FBI with assistance provided by the Springfield Police Department.</td>\n",
       "      <td>2011-10-06T00:00:00-04:00</td>\n",
       "      <td>Project Safe Childhood</td>\n",
       "      <td>Criminal Division</td>\n",
       "      <td>0.008</td>\n",
       "      <td>0.874</td>\n",
       "      <td>0.008</td>\n",
       "      <td>-0.9451</td>\n",
       "      <td>washington springfield mass plead guilti today receiv possess child pornographi announc general lanni breuer crimin robert rosenbeck plead guilti judg denis casper boston count receipt child pornographi count possess child pornographi indict charg accord court document rosenbeck possess differ comput contain child pornographi addit approxim juli juli rosenbeck receiv comput file contain child pornographi internet websit sentenc schedul rosenbeck face maximum statutori sentenc year prison receipt child pornographi count year prison count possess child pornographi rosenbeck also face term supervis releas least five year life prosecut attorney alecia riewert wolak michael grant crimin child exploit obscen section ceo conduct provid springfield polic</td>\n",
       "      <td>0.000636</td>\n",
       "      <td>0.001012</td>\n",
       "      <td>0.998352</td>\n",
       "      <td>2</td>\n",
       "      <td>washington_springfield springfield_mass mass_plead plead_guilti guilti_today today_receiv receiv_possess possess_child child_pornographi pornographi_announc announc_general general_lanni lanni_breuer breuer_crimin crimin_robert robert_rosenbeck rosenbeck_plead plead_guilti guilti_judg judg_denis denis_casper casper_boston boston_count count_receipt receipt_child child_pornographi pornographi_count count_possess possess_child child_pornographi pornographi_indict indict_charg charg_accord accord_court court_document document_rosenbeck rosenbeck_possess possess_differ differ_comput comput_contain contain_child child_pornographi pornographi_addit addit_approxim approxim_juli juli_juli juli_rosenbeck rosenbeck_receiv receiv_comput comput_file file_contain contain_child child_pornographi pornographi_internet internet_websit websit_sentenc sentenc_schedul schedul_rosenbeck rosenbeck_face face_maximum maximum_statutori statutori_sentenc sentenc_year year_prison prison_receipt receipt_child child_pornographi pornographi_count count_year year_prison prison_count count_possess possess_child child_pornographi pornographi_rosenbeck rosenbeck_also also_face face_term term_supervis supervis_releas releas_least least_five five_year year_life life_prosecut prosecut_attorney attorney_alecia alecia_riewert riewert_wolak wolak_michael michael_grant grant_crimin crimin_child child_exploit exploit_obscen obscen_section section_ceo ceo_conduct conduct_provid provid_springfield springfield_polic</td>\n",
       "    </tr>\n",
       "    <tr>\n",
       "      <th>7618</th>\n",
       "      <td>17-242</td>\n",
       "      <td>Justice Department Sues Edmonds, Washington Landlords for Discriminating Against Families With Children</td>\n",
       "      <td>The U.S. Department of Justice today filed a lawsuit in U.S. District Court for the Western District of Washington alleging that the owners and manager of three Edmonds, Washington apartment buildings refused to rent their apartments to families with children, in violation of the Fair Housing Act.    “The Fair Housing Act prohibits landlords from denying apartments to families just because they have children,” said Acting Assistant Attorney General Tom Wheeler of the Justice Department’s Civil Rights Division. “Many families already face challenges finding affordable housing, and they should not also have to deal with unlawful discrimination.”   “Equal access to housing is essential for all Americans, including families with young children,” said U.S. Attorney Annette L. Hayes of the Western District of Washington. “Particularly in our tight housing market, landlords must follow the law and make units available without discrimination based on race, color, religion, sex, national origin, disability or familial status.”   The complaint concerns three apartment buildings – located at 201 5th Ave. N., 621 5th Ave. S., and 401 Pine Street in Edmonds – that are managed by defendant Debbie A. Appleby, of Stanwood, Washington. The properties are owned by three Limited Liability Corporations (LLCs) controlled by Appleby – Apple One, LLC, Apple Two, LLC, and Apple Three, LLC—which are also named as defendants in the suit. The complaint alleges that in March 2014, defendant Appleby told a woman seeking an apartment for herself, her husband, and their one year old child that the apartment buildings were “adult only” and therefore not available to her family. The complaint also alleges that at various other times from April 2014 to November 2015, defendants advertised their available apartments as being restricted to adults only. The family filed a complaint with the Department of Housing and Urban Development (“HUD”) which conducted an investigation, issued a charge of discrimination against the defendants, and referred the case to the Department of Justice.    The complaint seeks a court order requiring defendants to cease their discriminatory housing practices, damages for the family that filed the HUD complaint and any other families against whom the defendants discriminated against because they had children, and civil penalties. Any individuals who have information relevant to this case are encouraged to contact the Civil Rights Division at 1-800-896-7743, Option 96.   The federal Fair Housing Act prohibits discrimination in housing on the basis of race, color, religion, sex, familial status, national origin and disability. More information about the Civil Rights Division and the civil rights laws it enforces is available at www.usdoj.gov/crt  and https://www.justice.gov/usao-wdwa/civil-rights. Individuals who believe that they have been victims of housing discrimination may call the Justice Department at 1-800-896-7743, email the Justice Department at fairhousing@usdoj.gov, or contact HUD at 1-800-669-9777 or through its website at www.hud.gov.   The case is being jointly handled by the Department’s Civil Rights Division and the U.S. Attorney’s Office for the Western District of Washington.   The complaint is an allegation of unlawful conduct. The allegations must still be proven in federal court.</td>\n",
       "      <td>2017-03-03T00:00:00-05:00</td>\n",
       "      <td>Civil Rights</td>\n",
       "      <td>Civil Rights Division; Civil Rights - Housing and Civil Enforcement Section; USAO - Washington, Western</td>\n",
       "      <td>0.009</td>\n",
       "      <td>0.912</td>\n",
       "      <td>0.009</td>\n",
       "      <td>-0.9753</td>\n",
       "      <td>today file lawsuit court western washington alleg owner manag three edmond washington apart build refus rent apart famili children violat fair hous fair hous prohibit landlord deni apart famili children said act general wheeler mani famili alreadi face challeng find afford hous also deal unlaw discrimin equal access hous essenti american includ famili young children said annett hay western washington particular tight hous market landlord must follow make unit avail without discrimin base race color religion nation origin disabl famili status complaint concern three apart build locat pine street edmond manag defend debbi applebi stanwood washington properti own three limit liabil corpor llcs control applebi appl appl appl three also name defend suit complaint alleg march defend applebi told woman seek apart husband year child apart build adult therefor avail famili complaint also alleg various time april novemb defend advertis avail apart restrict adult famili file complaint hous urban develop conduct issu charg discrimin defend refer complaint seek court order requir defend ceas discriminatori hous practic damag famili file complaint famili defend discrimin children penalti individu inform relev encourag contact option feder fair hous prohibit discrimin hous basi race color religion famili status nation origin disabl inform law enforc avail usdoj https usao wdwa individu believ victim hous discrimin call email fairhous usdoj contact websit joint handl western washington complaint alleg unlaw conduct alleg must still proven feder court</td>\n",
       "      <td>0.999255</td>\n",
       "      <td>0.000471</td>\n",
       "      <td>0.000274</td>\n",
       "      <td>0</td>\n",
       "      <td>today_file file_lawsuit lawsuit_court court_western western_washington washington_alleg alleg_owner owner_manag manag_three three_edmond edmond_washington washington_apart apart_build build_refus refus_rent rent_apart apart_famili famili_children children_violat violat_fair fair_hous hous_fair fair_hous hous_prohibit prohibit_landlord landlord_deni deni_apart apart_famili famili_children children_said said_act act_general general_wheeler wheeler_mani mani_famili famili_alreadi alreadi_face face_challeng challeng_find find_afford afford_hous hous_also also_deal deal_unlaw unlaw_discrimin discrimin_equal equal_access access_hous hous_essenti essenti_american american_includ includ_famili famili_young young_children children_said said_annett annett_hay hay_western western_washington washington_particular particular_tight tight_hous hous_market market_landlord landlord_must must_follow follow_make make_unit unit_avail avail_without without_discrimin discrimin_base base_race race_color color_religion religion_nation nation_origin origin_disabl disabl_famili famili_status status_complaint complaint_concern concern_three three_apart apart_build build_locat locat_pine pine_street street_edmond edmond_manag manag_defend defend_debbi debbi_applebi applebi_stanwood stanwood_washington washington_properti properti_own own_three three_limit limit_liabil liabil_corpor corpor_llcs llcs_control control_applebi applebi_appl appl_appl appl_appl appl_three three_also also_name name_defend defend_suit suit_complaint complaint_alleg alleg_march march_defend defend_applebi applebi_told told_woman woman_seek seek_apart apart_husband husband_year year_child child_apart apart_build build_adult adult_therefor therefor_avail avail_famili famili_complaint complaint_also also_alleg alleg_various various_time time_april april_novemb novemb_defend defend_advertis advertis_avail avail_apart apart_restrict restrict_adult adult_famili famili_file file_complaint complaint_hous hous_urban urban_develop develop_conduct conduct_issu issu_charg charg_discrimin discrimin_defend defend_refer refer_complaint complaint_seek seek_court court_order order_requir requir_defend defend_ceas ceas_discriminatori discriminatori_hous hous_practic practic_damag damag_famili famili_file file_complaint complaint_famili famili_defend defend_discrimin discrimin_children children_penalti penalti_individu individu_inform inform_relev relev_encourag encourag_contact contact_option option_feder feder_fair fair_hous hous_prohibit prohibit_discrimin discrimin_hous hous_basi basi_race race_color color_religion religion_famili famili_status status_nation nation_origin origin_disabl disabl_inform inform_law law_enforc enforc_avail avail_usdoj usdoj_https https_usao usao_wdwa wdwa_individu individu_believ believ_victim victim_hous hous_discrimin discrimin_call call_email email_fairhous fairhous_usdoj usdoj_contact contact_websit websit_joint joint_handl handl_western western_washington washington_complaint complaint_alleg alleg_unlaw unlaw_conduct conduct_alleg alleg_must must_still still_proven proven_feder feder_court</td>\n",
       "    </tr>\n",
       "    <tr>\n",
       "      <th>8847</th>\n",
       "      <td>17-550</td>\n",
       "      <td>Mother Sentenced to 26 Months in Prison for Taking Child from Illinois to Canada in International Parental Kidnapping Case</td>\n",
       "      <td>A Canadian woman was sentenced to serve 26 months in prison following her December conviction for international parental kidnapping, announced Acting Assistant Attorney General Kenneth A. Blanco of the Justice Department’s Criminal Division and Acting U.S. Attorney Patrick D. Hansen of the Central District of Illinois.   Sarah M. Nixon, 48, of Montreal, Canada, was sentenced before U.S. District Judge Colin S. Bruce of the Central District of Illinois. On Dec. 21, 2016, a federal jury found Nixon guilty of one count of international parental kidnapping for taking her minor child from the United States to Canada in July 2015, with the intent to obstruct the lawful exercise of the father’s rights.   Evidence at trial established that after a custody trial where it was apparent that Nixon would lose custody of her six-year-old daughter, Nixon fled the United States with the child in the middle of the night. When she did not appear for the custody ruling and neither she nor her daughter could be located, law enforcement issued a child abduction alert. Nixon and the child were eventually located in a farmhouse in rural Ontario, Canada. Authorities then returned the child to the father. Nixon was arrested in New York on Sept. 20, 2015, as she attempted to return to the United States.    Trial Attorneys Elly M. Peirson and Lauren S. Kupersmith of the Criminal Division’s Child Exploitation and Obscenity Section prosecuted the case. The FBI; Urbana, Illinois, Police Department; University of Illinois Police Department; Illinois Department of Children and Family Services; Ontario Provincial Police; and U.S. Customs and Border Protection investigated the case, with assistance from the Champaign County, Illinois, State’s Attorney’s Office and the Criminal Division’s Office of International Affairs.</td>\n",
       "      <td>2017-05-19T00:00:00-04:00</td>\n",
       "      <td>Project Safe Childhood</td>\n",
       "      <td>Criminal Division; Criminal - Child Exploitation and Obscenity Section; USAO - Illinois, Central</td>\n",
       "      <td>0.010</td>\n",
       "      <td>0.894</td>\n",
       "      <td>0.010</td>\n",
       "      <td>-0.9460</td>\n",
       "      <td>canadian woman sentenc serv month prison follow decemb convict intern parent kidnap announc act general kenneth blanco crimin act patrick hansen central illinoi sarah nixon montreal canada sentenc judg colin bruce central illinoi feder juri found nixon guilti count intern parent kidnap take minor child unit state canada juli intent obstruct law exercis father evid establish custodi appar nixon would lose custodi year daughter nixon fled unit state child middl night appear custodi rule neither daughter could locat enforc issu child abduct alert nixon child eventu locat farmhous rural ontario canada author return child father nixon arrest york sept attempt return unit state attorney elli peirson lauren kupersmith crimin child exploit obscen section prosecut urbana illinoi polic univers illinoi polic illinoi children famili servic ontario provinci polic custom border protect investig champaign counti illinoi state crimin intern affair</td>\n",
       "      <td>0.000651</td>\n",
       "      <td>0.214093</td>\n",
       "      <td>0.785256</td>\n",
       "      <td>2</td>\n",
       "      <td>canadian_woman woman_sentenc sentenc_serv serv_month month_prison prison_follow follow_decemb decemb_convict convict_intern intern_parent parent_kidnap kidnap_announc announc_act act_general general_kenneth kenneth_blanco blanco_crimin crimin_act act_patrick patrick_hansen hansen_central central_illinoi illinoi_sarah sarah_nixon nixon_montreal montreal_canada canada_sentenc sentenc_judg judg_colin colin_bruce bruce_central central_illinoi illinoi_feder feder_juri juri_found found_nixon nixon_guilti guilti_count count_intern intern_parent parent_kidnap kidnap_take take_minor minor_child child_unit unit_state state_canada canada_juli juli_intent intent_obstruct obstruct_law law_exercis exercis_father father_evid evid_establish establish_custodi custodi_appar appar_nixon nixon_would would_lose lose_custodi custodi_year year_daughter daughter_nixon nixon_fled fled_unit unit_state state_child child_middl middl_night night_appear appear_custodi custodi_rule rule_neither neither_daughter daughter_could could_locat locat_enforc enforc_issu issu_child child_abduct abduct_alert alert_nixon nixon_child child_eventu eventu_locat locat_farmhous farmhous_rural rural_ontario ontario_canada canada_author author_return return_child child_father father_nixon nixon_arrest arrest_york york_sept sept_attempt attempt_return return_unit unit_state state_attorney attorney_elli elli_peirson peirson_lauren lauren_kupersmith kupersmith_crimin crimin_child child_exploit exploit_obscen obscen_section section_prosecut prosecut_urbana urbana_illinoi illinoi_polic polic_univers univers_illinoi illinoi_polic polic_illinoi illinoi_children children_famili famili_servic servic_ontario ontario_provinci provinci_polic polic_custom custom_border border_protect protect_investig investig_champaign champaign_counti counti_illinoi illinoi_state state_crimin crimin_intern intern_affair</td>\n",
       "    </tr>\n",
       "    <tr>\n",
       "      <th>...</th>\n",
       "      <td>...</td>\n",
       "      <td>...</td>\n",
       "      <td>...</td>\n",
       "      <td>...</td>\n",
       "      <td>...</td>\n",
       "      <td>...</td>\n",
       "      <td>...</td>\n",
       "      <td>...</td>\n",
       "      <td>...</td>\n",
       "      <td>...</td>\n",
       "      <td>...</td>\n",
       "      <td>...</td>\n",
       "      <td>...</td>\n",
       "      <td>...</td>\n",
       "      <td>...</td>\n",
       "      <td>...</td>\n",
       "    </tr>\n",
       "    <tr>\n",
       "      <th>6089</th>\n",
       "      <td>18-119</td>\n",
       "      <td>Justice Department Announces Religious Liberty Update to U.S. Attorneys’ Manual and Directs the Designation of Religious Liberty Point of Contact for All U.S. Attorney's Offices</td>\n",
       "      <td>The Department of Justice today announced the update of the United States Attorneys’ Manual (USAM) with a new section titled, “Associate Attorney General’s Approval and Notice Requirements for Issues Implicating Religious Liberty.” On Oct. 6, 2017, the Attorney General issued a Memorandum for All Executive Departments and Agencies entitled Federal Law Protections for Religious Liberty. The memo directed components and United States Attorney’s Offices to use the guidance in litigation, advice to the Executive Branch, operations, grants, and all other aspects of the Department’s work. In order to ensure compliance with the Attorney General’s memo, the USAM will be updated with language that directs relevant Department of Justice components to: The updated USAM will also instruct relevant Justice Department components to consult the 20 religious liberty principles laid out in the Attorney General’s October 6 memo when considering whether the notice or approval requirements are initiated. In order to fully effectuate the approval and notice requirements in the updated USAM, the Department will instruct all U.S. Attorneys to designate a point of contact to lead these efforts for their office. “Religious liberty is an inalienable right protected by the Constitution, and defending it is one of the most important things we do at the Department of Justice,” said Associate Attorney General Rachel Brand. At President Trump's direction, Attorney General Sessions issued a robust and clear guidance document in October that clearly explains how the federal government is to apply the religious liberty protections currently on the books.  The requirement that each of the U.S. Attorney offices designate a religious liberty point of contact will ensure that the Attorney General’s Memorandum is effectively implemented. The designees will be responsible for working directly with the leadership offices on civil cases related to religious liberty, ensuring that these cases receive the rigorous attention they deserve.</td>\n",
       "      <td>2018-01-31T00:00:00-05:00</td>\n",
       "      <td>Civil Rights</td>\n",
       "      <td>Civil Rights Division; Office of the Associate Attorney General</td>\n",
       "      <td>0.199</td>\n",
       "      <td>0.788</td>\n",
       "      <td>0.199</td>\n",
       "      <td>0.9944</td>\n",
       "      <td>today announc updat unit state attorney manual usam section titl associ general approv notic requir issu implic religi liberti general issu memorandum execut depart agenc entitl feder protect religi liberti memo direct compon unit state offic guidanc litig advic execut branch oper grant aspect work order ensur complianc general memo usam updat languag direct relev compon updat usam also instruct relev compon consult religi liberti principl laid general octob memo consid whether notic approv requir initi order fulli effectu approv notic requir updat usam instruct attorney design point contact lead effort religi liberti inalien right protect constitut defend import thing said associ general rachel brand presid trump direct general session issu robust clear guidanc document octob clear explain feder govern appli religi liberti protect current book requir offic design religi liberti point contact ensur general memorandum effect implement designe respons work direct leadership offic case relat religi liberti ensur case receiv rigor attent deserv</td>\n",
       "      <td>0.998535</td>\n",
       "      <td>0.000925</td>\n",
       "      <td>0.000540</td>\n",
       "      <td>0</td>\n",
       "      <td>today_announc announc_updat updat_unit unit_state state_attorney attorney_manual manual_usam usam_section section_titl titl_associ associ_general general_approv approv_notic notic_requir requir_issu issu_implic implic_religi religi_liberti liberti_general general_issu issu_memorandum memorandum_execut execut_depart depart_agenc agenc_entitl entitl_feder feder_protect protect_religi religi_liberti liberti_memo memo_direct direct_compon compon_unit unit_state state_offic offic_guidanc guidanc_litig litig_advic advic_execut execut_branch branch_oper oper_grant grant_aspect aspect_work work_order order_ensur ensur_complianc complianc_general general_memo memo_usam usam_updat updat_languag languag_direct direct_relev relev_compon compon_updat updat_usam usam_also also_instruct instruct_relev relev_compon compon_consult consult_religi religi_liberti liberti_principl principl_laid laid_general general_octob octob_memo memo_consid consid_whether whether_notic notic_approv approv_requir requir_initi initi_order order_fulli fulli_effectu effectu_approv approv_notic notic_requir requir_updat updat_usam usam_instruct instruct_attorney attorney_design design_point point_contact contact_lead lead_effort effort_religi religi_liberti liberti_inalien inalien_right right_protect protect_constitut constitut_defend defend_import import_thing thing_said said_associ associ_general general_rachel rachel_brand brand_presid presid_trump trump_direct direct_general general_session session_issu issu_robust robust_clear clear_guidanc guidanc_document document_octob octob_clear clear_explain explain_feder feder_govern govern_appli appli_religi religi_liberti liberti_protect protect_current current_book book_requir requir_offic offic_design design_religi religi_liberti liberti_point point_contact contact_ensur ensur_general general_memorandum memorandum_effect effect_implement implement_designe designe_respons respons_work work_direct direct_leadership leadership_offic offic_case case_relat relat_religi religi_liberti liberti_ensur ensur_case case_receiv receiv_rigor rigor_attent attent_deserv</td>\n",
       "    </tr>\n",
       "    <tr>\n",
       "      <th>6733</th>\n",
       "      <td>16-1321</td>\n",
       "      <td>Justice Department Reaches Agreement with City of Yonkers, New York, to Enhance Police Department Policies and Procedures</td>\n",
       "      <td>The Justice Department announced today that it has reached an agreement with the city of Yonkers, New York, and the Yonkers Police Department (YPD) to resolve the department’s investigation of YPD and ensure constitutional policing. The agreement is the result of the department’s investigation of YPD under the Violent Crime Control and Law Enforcement Act of 1994 and the Omnibus Crime Control and Safe Streets Act of 1968.  In June 2009, the United States sent the city a technical assistance letter that identified necessary reforms to YPD practices and policies in the areas of use of force, civilian complaints, investigations, supervisory oversight and training.  After receiving the department’s technical assistance letter, the city and YPD made substantial changes to its policies and procedures.  This agreement implements and further improves those policies and procedures and addresses the department’s remaining concerns.  “This agreement will ensure that the Yonkers Police Department continues to advance constitutional, effective and community-oriented policing,” said Principal Deputy Assistant Attorney General Vanita Gupta, head of the Justice Department’s Civil Rights Division.  “Through clear policy guidance, data analysis and accountability systems, we believe these reforms will make the entire community safer and strengthen public trust in the police.” “This agreement ensures that the Yonkers Police Department polices in a way that keeps its citizens safe, while protecting their constitutional rights,” said U.S. Attorney Preet Bharara of the Southern District of New York.  “The measures put in place with this agreement, including clear and reasonable use-of-force policies and guidance on how to properly evaluate and respond to use-of-force incidents, will make Yonkers safer for citizens and police alike.  We thank the Yonkers Police Department and the city of Yonkers for cooperating with our investigation, and for joining our effort to ensure that the Yonkers Police Department protects its citizens not only from physical harm, but also from violations of their constitutional rights.” The agreement is carefully tailored to address the department’s remaining concerns while also taking into account and seeking to build upon the positive reforms YPD has already made following the department’s investigation.  Under the agreement, the YPD will, among other things: The agreement also provides that consultants retained by the department will conduct compliance reviews to ensure that YPD has implemented the measures required by the agreement and issue public reports of those compliance reviews. This case is being handled by the Civil Rights Division’s Special Litigation Section and the U.S. Attorney’s Office of the Southern District of New York. Yonkers Police Department Agreement</td>\n",
       "      <td>2016-11-14T00:00:00-05:00</td>\n",
       "      <td>Civil Rights</td>\n",
       "      <td>Civil Rights Division; Civil Rights - Special Litigation Section; USAO - New York, Southern</td>\n",
       "      <td>0.199</td>\n",
       "      <td>0.778</td>\n",
       "      <td>0.199</td>\n",
       "      <td>0.9950</td>\n",
       "      <td>announc today reach agreement citi yonker york yonker polic resolv ensur constitut polic agreement result violent crime control enforc omnibus crime control safe street june unit state sent citi technic letter identifi necessari reform practic polici area forc civilian complaint investig supervisori oversight train receiv technic letter citi made substanti chang polici procedur agreement implement improv polici procedur address remain concern agreement ensur yonker polic continu advanc constitut effect communiti orient polic said princip deputi general vanita gupta head clear polici guidanc data analysi account system believ reform make entir communiti safer strengthen public trust polic agreement ensur yonker polic polic keep citizen safe protect constitut said preet bharara southern york measur place agreement includ clear reason forc polici guidanc proper evalu respond forc incid make yonker safer citizen polic alik thank yonker polic citi yonker cooper join effort ensur yonker polic protect citizen physic harm also violat constitut agreement care tailor address remain concern also take account seek build upon posit reform alreadi made follow agreement among thing agreement also provid consult retain conduct complianc review ensur implement measur requir agreement issu public report complianc review handl special litig section southern york yonker polic agreement</td>\n",
       "      <td>0.999066</td>\n",
       "      <td>0.000590</td>\n",
       "      <td>0.000344</td>\n",
       "      <td>0</td>\n",
       "      <td>announc_today today_reach reach_agreement agreement_citi citi_yonker yonker_york york_yonker yonker_polic polic_resolv resolv_ensur ensur_constitut constitut_polic polic_agreement agreement_result result_violent violent_crime crime_control control_enforc enforc_omnibus omnibus_crime crime_control control_safe safe_street street_june june_unit unit_state state_sent sent_citi citi_technic technic_letter letter_identifi identifi_necessari necessari_reform reform_practic practic_polici polici_area area_forc forc_civilian civilian_complaint complaint_investig investig_supervisori supervisori_oversight oversight_train train_receiv receiv_technic technic_letter letter_citi citi_made made_substanti substanti_chang chang_polici polici_procedur procedur_agreement agreement_implement implement_improv improv_polici polici_procedur procedur_address address_remain remain_concern concern_agreement agreement_ensur ensur_yonker yonker_polic polic_continu continu_advanc advanc_constitut constitut_effect effect_communiti communiti_orient orient_polic polic_said said_princip princip_deputi deputi_general general_vanita vanita_gupta gupta_head head_clear clear_polici polici_guidanc guidanc_data data_analysi analysi_account account_system system_believ believ_reform reform_make make_entir entir_communiti communiti_safer safer_strengthen strengthen_public public_trust trust_polic polic_agreement agreement_ensur ensur_yonker yonker_polic polic_polic polic_keep keep_citizen citizen_safe safe_protect protect_constitut constitut_said said_preet preet_bharara bharara_southern southern_york york_measur measur_place place_agreement agreement_includ includ_clear clear_reason reason_forc forc_polici polici_guidanc guidanc_proper proper_evalu evalu_respond respond_forc forc_incid incid_make make_yonker yonker_safer safer_citizen citizen_polic polic_alik alik_thank thank_yonker yonker_polic polic_citi citi_yonker yonker_cooper cooper_join join_effort effort_ensur ensur_yonker yonker_polic polic_protect protect_citizen citizen_physic physic_harm harm_also also_violat violat_constitut constitut_agreement agreement_care care_tailor tailor_address address_remain remain_concern concern_also also_take take_account account_seek seek_build build_upon upon_posit posit_reform reform_alreadi alreadi_made made_follow follow_agreement agreement_among among_thing thing_agreement agreement_also also_provid provid_consult consult_retain retain_conduct conduct_complianc complianc_review review_ensur ensur_implement implement_measur measur_requir requir_agreement agreement_issu issu_public public_report report_complianc complianc_review review_handl handl_special special_litig litig_section section_southern southern_york york_yonker yonker_polic polic_agreement</td>\n",
       "    </tr>\n",
       "    <tr>\n",
       "      <th>6905</th>\n",
       "      <td>16-740</td>\n",
       "      <td>Justice Department Reaches Settlement to Reform Criminal Justice System in Hinds County, Mississippi</td>\n",
       "      <td>The Justice Department today reached a landmark settlement agreement to reform the criminal justice system in Hinds County, Mississippi.  The agreement resolves the department’s findings that the Hinds County Adult Detention Center and the Jackson City Detention Center – which together form the Hinds County Jail – failed to protect prisoners from violence and excessive force and held them past their court-ordered release dates, in violation of the Civil Rights of Institutionalized Persons Act (CRIPA). The settlement agreement is the first of its kind to incorporate broader criminal justice system reform through diversion at the front end and reentry to the community after incarceration.  It creates a criminal justice coordinating committee that will help ensure the county’s systems operate effectively and efficiently, develop interventions to divert individuals in appropriate cases from arrest, detention and incarceration, and engage in community outreach.  To promote successful reentry, the agreement includes mechanisms for notifying community health providers when a person with serious mental illness is released to help the person transition safely back to the community.  The agreement also addresses unlawful enforcement of court-ordered fines and fees by ensuring that the county cannot incarcerate an individual for non-payment if the court does not first assess whether the individual is indigent. “Across the board, this settlement will make the Hinds County criminal justice system smarter and fairer,” said Principal Deputy Assistant Attorney General Vanita Gupta, head of the Justice Department’s Civil Rights Division.  “If implemented, these reforms will make pretrial detainees, prisoners, corrections staff and the entire community safer, while also ensuring that vulnerable individuals get access to the treatment, care and community services they need and deserve.  We commend the county for its commitment to making these reforms a reality.” “For too long, the conditions in the Jail have posed a serious challenge to law enforcement and the safety of our community,” said U.S. Attorney Gregory K. Davis of the Southern District of Mississippi.  “I appreciate the commitment made by Hinds County officials to turn the page and begin making necessary reforms.” The settlement agreement – subject to approval by the U.S. District Court of the Southern District of Mississippi – requires the county to implement a series of reforms across various stages of the criminal justice system, including the following: Together these reforms aim to improve communication and coordination among criminal justice entities and community service providers to help individuals with mental illness transition back to the community and to reduce recidivism.  If approved by the federal district court, an independent monitor will be appointed to assess the county’s compliance.  In May 2015, the Justice Department completed a comprehensive investigation – which included on-site inspections, document reviews and stakeholder interviews by department experts and staff – and issued a findings letter that determined that Hinds County Adult Detention Center and the Jackson City Detention Center violated CRIPA by failing to protect prisoners from violence by other prisoners and from improper use of force by staff.  The department also found that inadequate staffing and training, a backlog in record filing and a lack of centralized information resulted in prisoners being held beyond court-ordered release dates. CRIPA authorizes the department to seek a remedy for a pattern or practice of conduct that violates the constitutional rights of persons confined in a jail, prison or other correctional facility.  For more information on the Civil Rights Division’s work in this area, please visit www.justice.gov/crt. Hinds County Settlement Agreement Hinds County Fact Sheet</td>\n",
       "      <td>2016-06-23T00:00:00-04:00</td>\n",
       "      <td>Civil Rights</td>\n",
       "      <td>Civil Rights Division; Civil Rights - Special Litigation Section; USAO - Mississippi, Southern</td>\n",
       "      <td>0.205</td>\n",
       "      <td>0.659</td>\n",
       "      <td>0.205</td>\n",
       "      <td>0.9888</td>\n",
       "      <td>today reach landmark settlement agreement reform crimin system hind counti mississippi agreement resolv find hind counti adult detent center jackson citi detent center togeth form hind counti jail fail protect prison violenc excess forc held past court order releas date violat institution person cripa settlement agreement first kind incorpor broader crimin system reform divers front reentri communiti incarcer creat crimin coordin committe help ensur counti system oper effect effici develop intervent divert individu appropri case arrest detent incarcer engag communiti outreach promot success reentri agreement includ mechan notifi communiti health provid person serious mental ill releas help person transit safe back communiti agreement also address unlaw enforc court order fine fee ensur counti cannot incarcer individu payment court first assess whether individu indig across board settlement make hind counti crimin system smarter fairer said princip deputi general vanita gupta head implement reform make pretrial detaine prison correct staff entir communiti safer also ensur vulner individu access treatment care communiti servic need deserv commend counti commit make reform realiti long condit jail pose serious challeng enforc safeti communiti said gregori davi southern mississippi appreci commit made hind counti offici turn page begin make necessari reform settlement agreement subject approv court southern mississippi requir counti implement seri reform across various stage crimin system includ follow togeth reform improv communic coordin among crimin entiti communiti servic provid help individu mental ill transit back communiti reduc recidiv approv feder court independ monitor appoint assess counti complianc complet comprehens includ site inspect document review stakehold interview expert staff issu find letter determin hind counti adult detent center jackson citi detent center violat cripa fail protect prison violenc prison improp forc staff also found inadequ staf train backlog record file lack central inform result prison held beyond court order releas date cripa author seek remedi pattern practic conduct violat constitut person confin jail prison correct facil inform work area pleas visit hind counti settlement agreement hind counti fact sheet</td>\n",
       "      <td>0.887982</td>\n",
       "      <td>0.111797</td>\n",
       "      <td>0.000220</td>\n",
       "      <td>0</td>\n",
       "      <td>today_reach reach_landmark landmark_settlement settlement_agreement agreement_reform reform_crimin crimin_system system_hind hind_counti counti_mississippi mississippi_agreement agreement_resolv resolv_find find_hind hind_counti counti_adult adult_detent detent_center center_jackson jackson_citi citi_detent detent_center center_togeth togeth_form form_hind hind_counti counti_jail jail_fail fail_protect protect_prison prison_violenc violenc_excess excess_forc forc_held held_past past_court court_order order_releas releas_date date_violat violat_institution institution_person person_cripa cripa_settlement settlement_agreement agreement_first first_kind kind_incorpor incorpor_broader broader_crimin crimin_system system_reform reform_divers divers_front front_reentri reentri_communiti communiti_incarcer incarcer_creat creat_crimin crimin_coordin coordin_committe committe_help help_ensur ensur_counti counti_system system_oper oper_effect effect_effici effici_develop develop_intervent intervent_divert divert_individu individu_appropri appropri_case case_arrest arrest_detent detent_incarcer incarcer_engag engag_communiti communiti_outreach outreach_promot promot_success success_reentri reentri_agreement agreement_includ includ_mechan mechan_notifi notifi_communiti communiti_health health_provid provid_person person_serious serious_mental mental_ill ill_releas releas_help help_person person_transit transit_safe safe_back back_communiti communiti_agreement agreement_also also_address address_unlaw unlaw_enforc enforc_court court_order order_fine fine_fee fee_ensur ensur_counti counti_cannot cannot_incarcer incarcer_individu individu_payment payment_court court_first first_assess assess_whether whether_individu individu_indig indig_across across_board board_settlement settlement_make make_hind hind_counti counti_crimin crimin_system system_smarter smarter_fairer fairer_said said_princip princip_deputi deputi_general general_vanita vanita_gupta gupta_head head_implement implement_reform reform_make make_pretrial pretrial_detaine detaine_prison prison_correct correct_staff staff_entir entir_communiti communiti_safer safer_also also_ensur ensur_vulner vulner_individu individu_access access_treatment treatment_care care_communiti communiti_servic servic_need need_deserv deserv_commend commend_counti counti_commit commit_make make_reform reform_realiti realiti_long long_condit condit_jail jail_pose pose_serious serious_challeng challeng_enforc enforc_safeti safeti_communiti communiti_said said_gregori gregori_davi davi_southern southern_mississippi mississippi_appreci appreci_commit commit_made made_hind hind_counti counti_offici offici_turn turn_page page_begin begin_make make_necessari necessari_reform reform_settlement settlement_agreement agreement_subject subject_approv approv_court court_southern southern_mississippi mississippi_requir requir_counti counti_implement implement_seri seri_reform reform_across across_various various_stage stage_crimin crimin_system system_includ includ_follow follow_togeth togeth_reform reform_improv improv_communic communic_coordin coordin_among among_crimin crimin_entiti entiti_communiti communiti_servic servic_provid provid_help help_individu individu_mental mental_ill ill_transit transit_back back_communiti communiti_reduc reduc_recidiv recidiv_approv approv_feder feder_court court_independ independ_monitor monitor_appoint appoint_assess assess_counti counti_complianc complianc_complet complet_comprehens comprehens_includ includ_site site_inspect inspect_document document_review review_stakehold stakehold_interview interview_expert expert_staff staff_issu issu_find find_letter letter_determin determin_hind hind_counti counti_adult adult_detent detent_center center_jackson jackson_citi citi_detent detent_center center_violat violat_cripa cripa_fail fail_protect protect_prison prison_violenc violenc_prison prison_improp improp_forc forc_staff staff_also also_found found_inadequ inadequ_staf staf_train train_backlog backlog_record record_file file_lack lack_central central_inform inform_result result_prison prison_held held_beyond beyond_court court_order order_releas releas_date date_cripa cripa_author author_seek seek_remedi remedi_pattern pattern_practic practic_conduct conduct_violat violat_constitut constitut_person person_confin confin_jail jail_prison prison_correct correct_facil facil_inform inform_work work_area area_pleas pleas_visit visit_hind hind_counti counti_settlement settlement_agreement agreement_hind hind_counti counti_fact fact_sheet</td>\n",
       "    </tr>\n",
       "    <tr>\n",
       "      <th>11066</th>\n",
       "      <td>16-163</td>\n",
       "      <td>Statement from Head of the Civil Rights Division Vanita Gupta Regarding Ferguson, Missouri, City Council Vote on Proposed Consent Decree</td>\n",
       "      <td>Principal Deputy Assistant Attorney General Vanita Gupta, head of the Justice Department’s Civil Rights Division, released the following statement regarding the Ferguson, Missouri, City Council vote on the proposed consent decree with the Department of Justice:  “The Ferguson City Council has attempted to unilaterally amend the negotiated agreement.  Their vote to do so creates an unnecessary delay in the essential work to bring constitutional policing to the city, and marks an unfortunate outcome for concerned community members and Ferguson police officers.  Both parties engaged in thoughtful negotiations over many months to create an agreement with cost-effective remedies that would ensure Ferguson brings policing and court practices in line with the Constitution.  The agreement already negotiated by the department and the city will provide Ferguson residents a police department and municipal court that fully respects civil rights and operates free from racial discrimination. “The Department of Justice will take the necessary legal actions to ensure that Ferguson’s policing and court practices comply with the Constitution and relevant federal laws.”</td>\n",
       "      <td>2016-02-10T00:00:00-05:00</td>\n",
       "      <td>Civil Rights</td>\n",
       "      <td>Civil Rights Division; Civil Rights - Special Litigation Section</td>\n",
       "      <td>0.217</td>\n",
       "      <td>0.752</td>\n",
       "      <td>0.217</td>\n",
       "      <td>0.9811</td>\n",
       "      <td>princip deputi general vanita gupta head releas follow statement regard ferguson missouri citi council vote propos consent decre ferguson citi council attempt unilater amend negoti agreement vote creat unnecessari delay essenti work bring constitut polic citi mark unfortun outcom concern communiti member ferguson polic offic parti engag thought negoti mani month creat agreement cost effect remedi would ensur ferguson bring polic court practic line constitut agreement alreadi negoti citi provid ferguson resid polic municip court fulli respect oper free racial discrimin take necessari legal action ensur ferguson polic court practic compli constitut relev feder law</td>\n",
       "      <td>0.997998</td>\n",
       "      <td>0.001264</td>\n",
       "      <td>0.000737</td>\n",
       "      <td>0</td>\n",
       "      <td>princip_deputi deputi_general general_vanita vanita_gupta gupta_head head_releas releas_follow follow_statement statement_regard regard_ferguson ferguson_missouri missouri_citi citi_council council_vote vote_propos propos_consent consent_decre decre_ferguson ferguson_citi citi_council council_attempt attempt_unilater unilater_amend amend_negoti negoti_agreement agreement_vote vote_creat creat_unnecessari unnecessari_delay delay_essenti essenti_work work_bring bring_constitut constitut_polic polic_citi citi_mark mark_unfortun unfortun_outcom outcom_concern concern_communiti communiti_member member_ferguson ferguson_polic polic_offic offic_parti parti_engag engag_thought thought_negoti negoti_mani mani_month month_creat creat_agreement agreement_cost cost_effect effect_remedi remedi_would would_ensur ensur_ferguson ferguson_bring bring_polic polic_court court_practic practic_line line_constitut constitut_agreement agreement_alreadi alreadi_negoti negoti_citi citi_provid provid_ferguson ferguson_resid resid_polic polic_municip municip_court court_fulli fulli_respect respect_oper oper_free free_racial racial_discrimin discrimin_take take_necessari necessari_legal legal_action action_ensur ensur_ferguson ferguson_polic polic_court court_practic practic_compli compli_constitut constitut_relev relev_feder feder_law</td>\n",
       "    </tr>\n",
       "    <tr>\n",
       "      <th>6727</th>\n",
       "      <td>16-217</td>\n",
       "      <td>Justice Department Reaches Agreement with the City of Miami and the Miami Police Department to Implement Reforms on Officer-Involved Shootings</td>\n",
       "      <td>The Justice Department has reached a comprehensive settlement agreement with the city of Miami and the Miami Police Department (MPD) resolving the Justice Department’s investigation of officer-involved shootings by MPD officers, announced Principal Deputy Assistant Attorney General Vanita Gupta, head of the Justice Department’s Civil Rights Division and U.S. Attorney Wifredo A. Ferrer of the Southern District of Florida. The settlement, which was approved by Miami’s city commission today and will go into effect when the agreement is signed by all parties, resolves claims stemming from the Justice Department’s investigation into officer-involved shootings by MPD officers, which was conducted under the Violent Crime Control and Law Enforcement Act of 1994.  The investigation’s findings, issued in July 2013, identified a pattern or practice of excessive use of force through officer-involved shootings in violation of the Fourth Amendment of the Constitution.  The city’s compliance with the settlement will be monitored by an independent reviewer, former Tampa, Florida, Police Chief Jane Castor.  Under the settlement agreement, the city will implement comprehensive reforms to ensure constitutional policing and support public trust.  The settlement agreement is designed to minimize officer-involved shootings and to more effectively and quickly investigate officer-involved shootings that do occur, through measures that include: “This settlement represents a renewed commitment by the city of Miami and Chief Rodolfo Llanes to provide constitutional policing for Miami residents and to protect public safety through sustainable reform,” said Principal Deputy Assistant Attorney General Gupta.  “The agreement will help to strengthen the relationship between the MPD and the communities they serve by improving accountability for officers who fire their weapons unlawfully, and provides for community participation in the enforcement of this agreement.”  “Today's agreement is the result of a joint effort between the Department of Justice and the City of Miami to ensure that the Miami Police Department continues its efforts to make our community safe while protecting the sacred Constitutional rights of all of our citizens,” said U.S. Attorney Ferrer.  “Through oversight and communication, the agreement seeks to make permanent the positive changes that former Chief Orosa and Chief Llanes have made, and we applaud the City Commission’s vote.” The settlement agreement builds upon important reforms implemented by the city since the Justice Department issued its findings, including:  The investigation was conducted by attorneys and staff from the Civil Rights Division’s Special Litigation Section and the Civil Division of the U. S. Attorney’s Office of the Southern District of Florida.</td>\n",
       "      <td>2016-02-25T00:00:00-05:00</td>\n",
       "      <td>Civil Rights</td>\n",
       "      <td>Civil Rights Division; Civil Rights - Special Litigation Section; USAO - Florida, Southern</td>\n",
       "      <td>0.222</td>\n",
       "      <td>0.755</td>\n",
       "      <td>0.222</td>\n",
       "      <td>0.9966</td>\n",
       "      <td>reach comprehens settlement agreement citi miami miami polic resolv offic involv shoot offic announc princip deputi general vanita gupta head wifredo ferrer southern florida settlement approv miami citi commiss today effect agreement sign parti resolv claim stem offic involv shoot offic conduct violent crime control enforc find issu juli identifi pattern practic excess forc offic involv shoot violat fourth amend constitut citi complianc settlement monitor independ review former tampa florida polic chief jane castor settlement agreement citi implement comprehens reform ensur constitut polic support public trust settlement agreement design minim offic involv shoot effect quick investig offic involv shoot occur measur includ settlement repres renew commit citi miami chief rodolfo llane provid constitut polic miami resid protect public safeti sustain reform said princip deputi general gupta agreement help strengthen relationship communiti serv improv account offic fire weapon unlaw provid communiti particip enforc agreement today agreement result joint effort citi miami ensur miami polic continu effort make communiti safe protect sacr constitut citizen said ferrer oversight communic agreement seek make perman posit chang former chief orosa chief llane made applaud citi commiss vote settlement agreement build upon import reform implement citi sinc issu find includ conduct attorney staff special litig section southern florida</td>\n",
       "      <td>0.999153</td>\n",
       "      <td>0.000535</td>\n",
       "      <td>0.000312</td>\n",
       "      <td>0</td>\n",
       "      <td>reach_comprehens comprehens_settlement settlement_agreement agreement_citi citi_miami miami_miami miami_polic polic_resolv resolv_offic offic_involv involv_shoot shoot_offic offic_announc announc_princip princip_deputi deputi_general general_vanita vanita_gupta gupta_head head_wifredo wifredo_ferrer ferrer_southern southern_florida florida_settlement settlement_approv approv_miami miami_citi citi_commiss commiss_today today_effect effect_agreement agreement_sign sign_parti parti_resolv resolv_claim claim_stem stem_offic offic_involv involv_shoot shoot_offic offic_conduct conduct_violent violent_crime crime_control control_enforc enforc_find find_issu issu_juli juli_identifi identifi_pattern pattern_practic practic_excess excess_forc forc_offic offic_involv involv_shoot shoot_violat violat_fourth fourth_amend amend_constitut constitut_citi citi_complianc complianc_settlement settlement_monitor monitor_independ independ_review review_former former_tampa tampa_florida florida_polic polic_chief chief_jane jane_castor castor_settlement settlement_agreement agreement_citi citi_implement implement_comprehens comprehens_reform reform_ensur ensur_constitut constitut_polic polic_support support_public public_trust trust_settlement settlement_agreement agreement_design design_minim minim_offic offic_involv involv_shoot shoot_effect effect_quick quick_investig investig_offic offic_involv involv_shoot shoot_occur occur_measur measur_includ includ_settlement settlement_repres repres_renew renew_commit commit_citi citi_miami miami_chief chief_rodolfo rodolfo_llane llane_provid provid_constitut constitut_polic polic_miami miami_resid resid_protect protect_public public_safeti safeti_sustain sustain_reform reform_said said_princip princip_deputi deputi_general general_gupta gupta_agreement agreement_help help_strengthen strengthen_relationship relationship_communiti communiti_serv serv_improv improv_account account_offic offic_fire fire_weapon weapon_unlaw unlaw_provid provid_communiti communiti_particip particip_enforc enforc_agreement agreement_today today_agreement agreement_result result_joint joint_effort effort_citi citi_miami miami_ensur ensur_miami miami_polic polic_continu continu_effort effort_make make_communiti communiti_safe safe_protect protect_sacr sacr_constitut constitut_citizen citizen_said said_ferrer ferrer_oversight oversight_communic communic_agreement agreement_seek seek_make make_perman perman_posit posit_chang chang_former former_chief chief_orosa orosa_chief chief_llane llane_made made_applaud applaud_citi citi_commiss commiss_vote vote_settlement settlement_agreement agreement_build build_upon upon_import import_reform reform_implement implement_citi citi_sinc sinc_issu issu_find find_includ includ_conduct conduct_attorney attorney_staff staff_special special_litig litig_section section_southern southern_florida</td>\n",
       "    </tr>\n",
       "  </tbody>\n",
       "</table>\n",
       "<p>717 rows × 16 columns</p>\n",
       "</div>"
      ],
      "text/plain": [
       "             id  \\\n",
       "index_            \n",
       "5247     18-913   \n",
       "8075    11-1245   \n",
       "8353    11-1331   \n",
       "7618     17-242   \n",
       "8847     17-550   \n",
       "...         ...   \n",
       "6089     18-119   \n",
       "6733    16-1321   \n",
       "6905     16-740   \n",
       "11066    16-163   \n",
       "6727     16-217   \n",
       "\n",
       "                                                                                                                                                                                    title  \\\n",
       "index_                                                                                                                                                                                      \n",
       "5247                                                                                          Grapevine Texas Man Pleads Guilty to Federal Hate Crime  Against an African-American Family   \n",
       "8075                                                                                                                Louisiana Man Convicted of Producing and Possessing Child Pornography   \n",
       "8353                                                                                                        Massachusetts Man Pleads Guilty to Receiving and Possessing Child Pornography   \n",
       "7618                                                                              Justice Department Sues Edmonds, Washington Landlords for Discriminating Against Families With Children   \n",
       "8847                                                           Mother Sentenced to 26 Months in Prison for Taking Child from Illinois to Canada in International Parental Kidnapping Case   \n",
       "...                                                                                                                                                                                   ...   \n",
       "6089    Justice Department Announces Religious Liberty Update to U.S. Attorneys’ Manual and Directs the Designation of Religious Liberty Point of Contact for All U.S. Attorney's Offices   \n",
       "6733                                                            Justice Department Reaches Agreement with City of Yonkers, New York, to Enhance Police Department Policies and Procedures   \n",
       "6905                                                                                 Justice Department Reaches Settlement to Reform Criminal Justice System in Hinds County, Mississippi   \n",
       "11066                                            Statement from Head of the Civil Rights Division Vanita Gupta Regarding Ferguson, Missouri, City Council Vote on Proposed Consent Decree   \n",
       "6727                                       Justice Department Reaches Agreement with the City of Miami and the Miami Police Department to Implement Reforms on Officer-Involved Shootings   \n",
       "\n",
       "                                                                                                                                                                                                                                                                                                                                                                                                                                                                                                                                                                                                                                                                                                                                                                                                                                                                                                                                                                                                                                                                                                                                                                                                                                                                                                                                                                                                                                                                                                                                                                                                                                                                                                                                                                                                                                                                                                                                                                                                                                                                                                                                                                                                                                                                                                                                                                                                                                                                                                                                                                                                                                                                                                                                                                                                                                                                                                                                                                                                                                                                                                                                                                                                                                                                                                                                                                                                                                                                                                                                                                                                                                                                                                                                                                                                                                                                                                                                                                                                                                                     contents  \\\n",
       "index_                                                                                                                                                                                                                                                                                                                                                                                                                                                                                                                                                                                                                                                                                                                                                                                                                                                                                                                                                                                                                                                                                                                                                                                                                                                                                                                                                                                                                                                                                                                                                                                                                                                                                                                                                                                                                                                                                                                                                                                                                                                                                                                                                                                                                                                                                                                                                                                                                                                                                                                                                                                                                                                                                                                                                                                                                                                                                                                                                                                                                                                                                                                                                                                                                                                                                                                                                                                                                                                                                                                                                                                                                                                                                                                                                                                                                                                                                                                                                                                                                                                          \n",
       "5247                                                                                                                                                                                                                                                                                                                                                                                                                                                                                                                                                                                                                                                                                                                                                                                                                                                                                                                                                                                                                                                                                                                                                                                                                                                                                                                                                                                                                                                                                                                                                                                                                                                                                                                                                                               Glenn Eugene Halfin, 64, from Grapevine, Texas, appeared today before U.S. Magistrate Judge Jeffrey L. Cureton in the U.S. District Court for the Northern District of Texas and pleaded guilty to a federal charge of interfering with an African-American family’s housing rights, announced Acting Assistant Attorney General John Gore of the Civil Rights Division and U.S. Attorney Erin Nealy Cox of the Northern District of Texas. According to court documents, Halfin threatened force, intimidated, and interfered with a family because of their race and occupancy of an apartment that was located directly above his own apartment.  According to documents filed in connection with the guilty plea, on Dec. 19, 2017, Halfin purchased a baby doll at a Wal-Mart in Grapevine, Texas. He took a rope, fashioned it into a noose, and hung the baby doll from the noose. Halfin then hung the rope noose and baby doll on the railing directly in front of the only staircase the family could use to access their apartment. Halfin did so, knowing that this display would be particularly intimidating for the family who had a young daughter. In addition, the defendant referenced in his factual basis repeated intimidation of and interference with the same African-American family on other occasions. “The Justice Department will not tolerate acts of intimidation and fear, or illegal threats against any individual or family because of their race,” said Acting Assistant Attorney John Gore. “We will continue to prosecute hate crime offenders.” “No one should be afraid to go home at night,” said U.S. Attorney Erin Nealy Cox.  “Our community will not tolerate crimes of intimidation or bigotry, and my office will continue to prosecute all those who persecute others based on their race, color, ethnicity, or religious beliefs.” Halfin faces a statutory maximum penalty of no more one year in federal prison and a $100,000 fine. His sentencing is scheduled for October 24. This case was investigated by the FBI and the Grapevine Police Department. The case was prosecuted by Trial Attorney Rebekah Bailey of the Civil Rights Division’s Criminal Section and Assistant United States Attorney Nicole Dana.   \n",
       "8075                                                                                                                                                                                                                                                                                                                                                                                                                                                                                                                                                                                                                                                                                                                                                                                                                                                                                                                                                                                                                                                                                                                                                                                                                                                                                                                                                                                                                                                                                                                                                                                                                                                                                                                                                                                                                                                                                                                                                                                                                                                                                                                                                                                                                                                                                                                                                                                                                                                                                                              WASHINGTON –    Paul W. Miller, of Denham Springs, La., was convicted late yesterday of two counts of producing and one count of possessing child pornography, announced Assistant Attorney General Lanny A. Breuer of the Criminal Division and U.S. Attorney Donald J. Cazayoux Jr. of the Middle District of Louisiana.        Miller, 44, was convicted by a federal jury following a two-day trial.  U.S. District Judge James J. Brady presided over the trial.       Evidence presented at trial showed that from October 2007 to May 2008, Miller sexually abused a 12-year-old girl and an 11-year-old girl and produced numerous photographs of the abuse.  According to trial evidence, forensic examination of Miller’s computer revealed that Miller had used his computer to print and possess numerous images of child pornography, including both the images of child pornography he had produced and images of other child victims.                 Miller faces a maximum statutory sentence of 30 years in prison for each count of production of child pornography and 10 years in prison for the possession of child pornography count.       The case is being prosecuted by Trial Attorney Alecia Riewerts Wolak of the Criminal Division’s Child Exploitation and Obscenity Section (CEOS) and Assistant U.S. Attorney Richard L. Bourgeois Jr. of the Middle District of Louisiana.  The investigation was conducted by the FBI, the Denham Springs Police Department and the Louisiana Attorney General’s Office.   \n",
       "8353                                                                                                                                                                                                                                                                                                                                                                                                                                                                                                                                                                                                                                                                                                                                                                                                                                                                                                                                                                                                                                                                                                                                                                                                                                                                                                                                                                                                                                                                                                                                                                                                                                                                                                                                                                                                                                                                                                                                                                                                                                                                                                                                                                                                                                                                                                                                                                                                                                                                                                                                                                                                                                                                                WASHINGTON –    A Springfield, Mass., man pleaded guilty today to receiving and possessing child pornography, announced Assistant Attorney General Lanny A. Breuer of the Criminal Division.       Robert Rosenbeck, 48, pleaded guilty before U.S. District Judge Denise J. Casper in Boston to one count of receipt of child pornography and two counts of possession of child pornography.  He was indicted on those charges on Dec. 10, 2009.        According to court documents, Rosenbeck possessed two different computers containing child pornography in 2007.  Additionally, from approximately July 22, 2007, to July 25, 2007, Rosenbeck received computer files containing child pornography from an Internet website.                 At sentencing, scheduled for Dec. 5, 2011, Rosenbeck faces a maximum statutory sentence of 20 years in prison for the receipt of child pornography count and 10 years in prison for each count of possession of child pornography.  Rosenbeck also faces a term of supervised release of at least five years and up to life.       The case is being prosecuted by Trial Attorneys Alecia Riewerts Wolak and Michael W. Grant of the Criminal Division’s Child Exploitation and Obscenity Section (CEOS).  The investigation was conducted by the FBI with assistance provided by the Springfield Police Department.   \n",
       "7618                                                                                                                                                                                                                                                                                                                                                                                                                                                                                                                                                                  The U.S. Department of Justice today filed a lawsuit in U.S. District Court for the Western District of Washington alleging that the owners and manager of three Edmonds, Washington apartment buildings refused to rent their apartments to families with children, in violation of the Fair Housing Act.    “The Fair Housing Act prohibits landlords from denying apartments to families just because they have children,” said Acting Assistant Attorney General Tom Wheeler of the Justice Department’s Civil Rights Division. “Many families already face challenges finding affordable housing, and they should not also have to deal with unlawful discrimination.”   “Equal access to housing is essential for all Americans, including families with young children,” said U.S. Attorney Annette L. Hayes of the Western District of Washington. “Particularly in our tight housing market, landlords must follow the law and make units available without discrimination based on race, color, religion, sex, national origin, disability or familial status.”   The complaint concerns three apartment buildings – located at 201 5th Ave. N., 621 5th Ave. S., and 401 Pine Street in Edmonds – that are managed by defendant Debbie A. Appleby, of Stanwood, Washington. The properties are owned by three Limited Liability Corporations (LLCs) controlled by Appleby – Apple One, LLC, Apple Two, LLC, and Apple Three, LLC—which are also named as defendants in the suit. The complaint alleges that in March 2014, defendant Appleby told a woman seeking an apartment for herself, her husband, and their one year old child that the apartment buildings were “adult only” and therefore not available to her family. The complaint also alleges that at various other times from April 2014 to November 2015, defendants advertised their available apartments as being restricted to adults only. The family filed a complaint with the Department of Housing and Urban Development (“HUD”) which conducted an investigation, issued a charge of discrimination against the defendants, and referred the case to the Department of Justice.    The complaint seeks a court order requiring defendants to cease their discriminatory housing practices, damages for the family that filed the HUD complaint and any other families against whom the defendants discriminated against because they had children, and civil penalties. Any individuals who have information relevant to this case are encouraged to contact the Civil Rights Division at 1-800-896-7743, Option 96.   The federal Fair Housing Act prohibits discrimination in housing on the basis of race, color, religion, sex, familial status, national origin and disability. More information about the Civil Rights Division and the civil rights laws it enforces is available at www.usdoj.gov/crt  and https://www.justice.gov/usao-wdwa/civil-rights. Individuals who believe that they have been victims of housing discrimination may call the Justice Department at 1-800-896-7743, email the Justice Department at fairhousing@usdoj.gov, or contact HUD at 1-800-669-9777 or through its website at www.hud.gov.   The case is being jointly handled by the Department’s Civil Rights Division and the U.S. Attorney’s Office for the Western District of Washington.   The complaint is an allegation of unlawful conduct. The allegations must still be proven in federal court.   \n",
       "8847                                                                                                                                                                                                                                                                                                                                                                                                                                                                                                                                                                                                                                                                                                                                                                                                                                                                                                                                                                                                                                                                                                                                                                                                                                                                                                                                                                                                                                                                                                                                                                                                                                                                                                                                                                                                                                                                                                                                                                                                                                                                                                                                                               A Canadian woman was sentenced to serve 26 months in prison following her December conviction for international parental kidnapping, announced Acting Assistant Attorney General Kenneth A. Blanco of the Justice Department’s Criminal Division and Acting U.S. Attorney Patrick D. Hansen of the Central District of Illinois.   Sarah M. Nixon, 48, of Montreal, Canada, was sentenced before U.S. District Judge Colin S. Bruce of the Central District of Illinois. On Dec. 21, 2016, a federal jury found Nixon guilty of one count of international parental kidnapping for taking her minor child from the United States to Canada in July 2015, with the intent to obstruct the lawful exercise of the father’s rights.   Evidence at trial established that after a custody trial where it was apparent that Nixon would lose custody of her six-year-old daughter, Nixon fled the United States with the child in the middle of the night. When she did not appear for the custody ruling and neither she nor her daughter could be located, law enforcement issued a child abduction alert. Nixon and the child were eventually located in a farmhouse in rural Ontario, Canada. Authorities then returned the child to the father. Nixon was arrested in New York on Sept. 20, 2015, as she attempted to return to the United States.    Trial Attorneys Elly M. Peirson and Lauren S. Kupersmith of the Criminal Division’s Child Exploitation and Obscenity Section prosecuted the case. The FBI; Urbana, Illinois, Police Department; University of Illinois Police Department; Illinois Department of Children and Family Services; Ontario Provincial Police; and U.S. Customs and Border Protection investigated the case, with assistance from the Champaign County, Illinois, State’s Attorney’s Office and the Criminal Division’s Office of International Affairs.    \n",
       "...                                                                                                                                                                                                                                                                                                                                                                                                                                                                                                                                                                                                                                                                                                                                                                                                                                                                                                                                                                                                                                                                                                                                                                                                                                                                                                                                                                                                                                                                                                                                                                                                                                                                                                                                                                                                                                                                                                                                                                                                                                                                                                                                                                                                                                                                                                                                                                                                                                                                                                                                                                                                                                                                                                                                                                                                                                                                                                                                                                                                                                                                                                                                                                                                                                                                                                                                                                                                                                                                                                                                                                                                                                                                                                                                                                                                                                                                                                                                                                                                                                                       ...   \n",
       "6089                                                                                                                                                                                                                                                                                                                                                                                                                                                                                                                                                                                                                                                                                                                                                                                                                                                                                                                                                                                                                                                                                                                                                                                                                                                                                                                                                                                                                                                                                                                                                                                                                                                                                                                                                                                                                                                                                                                                            The Department of Justice today announced the update of the United States Attorneys’ Manual (USAM) with a new section titled, “Associate Attorney General’s Approval and Notice Requirements for Issues Implicating Religious Liberty.” On Oct. 6, 2017, the Attorney General issued a Memorandum for All Executive Departments and Agencies entitled Federal Law Protections for Religious Liberty. The memo directed components and United States Attorney’s Offices to use the guidance in litigation, advice to the Executive Branch, operations, grants, and all other aspects of the Department’s work. In order to ensure compliance with the Attorney General’s memo, the USAM will be updated with language that directs relevant Department of Justice components to: The updated USAM will also instruct relevant Justice Department components to consult the 20 religious liberty principles laid out in the Attorney General’s October 6 memo when considering whether the notice or approval requirements are initiated. In order to fully effectuate the approval and notice requirements in the updated USAM, the Department will instruct all U.S. Attorneys to designate a point of contact to lead these efforts for their office. “Religious liberty is an inalienable right protected by the Constitution, and defending it is one of the most important things we do at the Department of Justice,” said Associate Attorney General Rachel Brand. At President Trump's direction, Attorney General Sessions issued a robust and clear guidance document in October that clearly explains how the federal government is to apply the religious liberty protections currently on the books.  The requirement that each of the U.S. Attorney offices designate a religious liberty point of contact will ensure that the Attorney General’s Memorandum is effectively implemented. The designees will be responsible for working directly with the leadership offices on civil cases related to religious liberty, ensuring that these cases receive the rigorous attention they deserve.   \n",
       "6733                                                                                                                                                                                                                                                                                                                                                                                                                                                                                                                                                                                                                                                                                                                                                                                                                                                                                                                                                                                                                                                                                                             The Justice Department announced today that it has reached an agreement with the city of Yonkers, New York, and the Yonkers Police Department (YPD) to resolve the department’s investigation of YPD and ensure constitutional policing. The agreement is the result of the department’s investigation of YPD under the Violent Crime Control and Law Enforcement Act of 1994 and the Omnibus Crime Control and Safe Streets Act of 1968.  In June 2009, the United States sent the city a technical assistance letter that identified necessary reforms to YPD practices and policies in the areas of use of force, civilian complaints, investigations, supervisory oversight and training.  After receiving the department’s technical assistance letter, the city and YPD made substantial changes to its policies and procedures.  This agreement implements and further improves those policies and procedures and addresses the department’s remaining concerns.  “This agreement will ensure that the Yonkers Police Department continues to advance constitutional, effective and community-oriented policing,” said Principal Deputy Assistant Attorney General Vanita Gupta, head of the Justice Department’s Civil Rights Division.  “Through clear policy guidance, data analysis and accountability systems, we believe these reforms will make the entire community safer and strengthen public trust in the police.” “This agreement ensures that the Yonkers Police Department polices in a way that keeps its citizens safe, while protecting their constitutional rights,” said U.S. Attorney Preet Bharara of the Southern District of New York.  “The measures put in place with this agreement, including clear and reasonable use-of-force policies and guidance on how to properly evaluate and respond to use-of-force incidents, will make Yonkers safer for citizens and police alike.  We thank the Yonkers Police Department and the city of Yonkers for cooperating with our investigation, and for joining our effort to ensure that the Yonkers Police Department protects its citizens not only from physical harm, but also from violations of their constitutional rights.” The agreement is carefully tailored to address the department’s remaining concerns while also taking into account and seeking to build upon the positive reforms YPD has already made following the department’s investigation.  Under the agreement, the YPD will, among other things: The agreement also provides that consultants retained by the department will conduct compliance reviews to ensure that YPD has implemented the measures required by the agreement and issue public reports of those compliance reviews. This case is being handled by the Civil Rights Division’s Special Litigation Section and the U.S. Attorney’s Office of the Southern District of New York. Yonkers Police Department Agreement   \n",
       "6905    The Justice Department today reached a landmark settlement agreement to reform the criminal justice system in Hinds County, Mississippi.  The agreement resolves the department’s findings that the Hinds County Adult Detention Center and the Jackson City Detention Center – which together form the Hinds County Jail – failed to protect prisoners from violence and excessive force and held them past their court-ordered release dates, in violation of the Civil Rights of Institutionalized Persons Act (CRIPA). The settlement agreement is the first of its kind to incorporate broader criminal justice system reform through diversion at the front end and reentry to the community after incarceration.  It creates a criminal justice coordinating committee that will help ensure the county’s systems operate effectively and efficiently, develop interventions to divert individuals in appropriate cases from arrest, detention and incarceration, and engage in community outreach.  To promote successful reentry, the agreement includes mechanisms for notifying community health providers when a person with serious mental illness is released to help the person transition safely back to the community.  The agreement also addresses unlawful enforcement of court-ordered fines and fees by ensuring that the county cannot incarcerate an individual for non-payment if the court does not first assess whether the individual is indigent. “Across the board, this settlement will make the Hinds County criminal justice system smarter and fairer,” said Principal Deputy Assistant Attorney General Vanita Gupta, head of the Justice Department’s Civil Rights Division.  “If implemented, these reforms will make pretrial detainees, prisoners, corrections staff and the entire community safer, while also ensuring that vulnerable individuals get access to the treatment, care and community services they need and deserve.  We commend the county for its commitment to making these reforms a reality.” “For too long, the conditions in the Jail have posed a serious challenge to law enforcement and the safety of our community,” said U.S. Attorney Gregory K. Davis of the Southern District of Mississippi.  “I appreciate the commitment made by Hinds County officials to turn the page and begin making necessary reforms.” The settlement agreement – subject to approval by the U.S. District Court of the Southern District of Mississippi – requires the county to implement a series of reforms across various stages of the criminal justice system, including the following: Together these reforms aim to improve communication and coordination among criminal justice entities and community service providers to help individuals with mental illness transition back to the community and to reduce recidivism.  If approved by the federal district court, an independent monitor will be appointed to assess the county’s compliance.  In May 2015, the Justice Department completed a comprehensive investigation – which included on-site inspections, document reviews and stakeholder interviews by department experts and staff – and issued a findings letter that determined that Hinds County Adult Detention Center and the Jackson City Detention Center violated CRIPA by failing to protect prisoners from violence by other prisoners and from improper use of force by staff.  The department also found that inadequate staffing and training, a backlog in record filing and a lack of centralized information resulted in prisoners being held beyond court-ordered release dates. CRIPA authorizes the department to seek a remedy for a pattern or practice of conduct that violates the constitutional rights of persons confined in a jail, prison or other correctional facility.  For more information on the Civil Rights Division’s work in this area, please visit www.justice.gov/crt. Hinds County Settlement Agreement Hinds County Fact Sheet   \n",
       "11066                                                                                                                                                                                                                                                                                                                                                                                                                                                                                                                                                                                                                                                                                                                                                                                                                                                                                                                                                                                                                                                                                                                                                                                                                                                                                                                                                                                                                                                                                                                                                                                                                                                                                                                                                                                                                                                                                                                                                                                                                                                                                                                                                                                                                                                                                                                                                                                                                                                                                                                                                                                                                                                                                                                                                                                                                                       Principal Deputy Assistant Attorney General Vanita Gupta, head of the Justice Department’s Civil Rights Division, released the following statement regarding the Ferguson, Missouri, City Council vote on the proposed consent decree with the Department of Justice:  “The Ferguson City Council has attempted to unilaterally amend the negotiated agreement.  Their vote to do so creates an unnecessary delay in the essential work to bring constitutional policing to the city, and marks an unfortunate outcome for concerned community members and Ferguson police officers.  Both parties engaged in thoughtful negotiations over many months to create an agreement with cost-effective remedies that would ensure Ferguson brings policing and court practices in line with the Constitution.  The agreement already negotiated by the department and the city will provide Ferguson residents a police department and municipal court that fully respects civil rights and operates free from racial discrimination. “The Department of Justice will take the necessary legal actions to ensure that Ferguson’s policing and court practices comply with the Constitution and relevant federal laws.”   \n",
       "6727                                                                                                                                                                                                                                                                                                                                                                                                                                                                                                                                                                                                                                                                                                                                                                                                                                                                                                                                                                                                                                                                                                                               The Justice Department has reached a comprehensive settlement agreement with the city of Miami and the Miami Police Department (MPD) resolving the Justice Department’s investigation of officer-involved shootings by MPD officers, announced Principal Deputy Assistant Attorney General Vanita Gupta, head of the Justice Department’s Civil Rights Division and U.S. Attorney Wifredo A. Ferrer of the Southern District of Florida. The settlement, which was approved by Miami’s city commission today and will go into effect when the agreement is signed by all parties, resolves claims stemming from the Justice Department’s investigation into officer-involved shootings by MPD officers, which was conducted under the Violent Crime Control and Law Enforcement Act of 1994.  The investigation’s findings, issued in July 2013, identified a pattern or practice of excessive use of force through officer-involved shootings in violation of the Fourth Amendment of the Constitution.  The city’s compliance with the settlement will be monitored by an independent reviewer, former Tampa, Florida, Police Chief Jane Castor.  Under the settlement agreement, the city will implement comprehensive reforms to ensure constitutional policing and support public trust.  The settlement agreement is designed to minimize officer-involved shootings and to more effectively and quickly investigate officer-involved shootings that do occur, through measures that include: “This settlement represents a renewed commitment by the city of Miami and Chief Rodolfo Llanes to provide constitutional policing for Miami residents and to protect public safety through sustainable reform,” said Principal Deputy Assistant Attorney General Gupta.  “The agreement will help to strengthen the relationship between the MPD and the communities they serve by improving accountability for officers who fire their weapons unlawfully, and provides for community participation in the enforcement of this agreement.”  “Today's agreement is the result of a joint effort between the Department of Justice and the City of Miami to ensure that the Miami Police Department continues its efforts to make our community safe while protecting the sacred Constitutional rights of all of our citizens,” said U.S. Attorney Ferrer.  “Through oversight and communication, the agreement seeks to make permanent the positive changes that former Chief Orosa and Chief Llanes have made, and we applaud the City Commission’s vote.” The settlement agreement builds upon important reforms implemented by the city since the Justice Department issued its findings, including:  The investigation was conducted by attorneys and staff from the Civil Rights Division’s Special Litigation Section and the Civil Division of the U. S. Attorney’s Office of the Southern District of Florida.   \n",
       "\n",
       "                             date            topics_clean  \\\n",
       "index_                                                      \n",
       "5247    2018-07-12T00:00:00-04:00             Hate Crimes   \n",
       "8075    2011-09-22T00:00:00-04:00  Project Safe Childhood   \n",
       "8353    2011-10-06T00:00:00-04:00  Project Safe Childhood   \n",
       "7618    2017-03-03T00:00:00-05:00            Civil Rights   \n",
       "8847    2017-05-19T00:00:00-04:00  Project Safe Childhood   \n",
       "...                           ...                     ...   \n",
       "6089    2018-01-31T00:00:00-05:00            Civil Rights   \n",
       "6733    2016-11-14T00:00:00-05:00            Civil Rights   \n",
       "6905    2016-06-23T00:00:00-04:00            Civil Rights   \n",
       "11066   2016-02-10T00:00:00-05:00            Civil Rights   \n",
       "6727    2016-02-25T00:00:00-05:00            Civil Rights   \n",
       "\n",
       "                                                                                               components_clean  \\\n",
       "index_                                                                                                            \n",
       "5247                                                     Civil Rights Division; Civil Rights - Criminal Section   \n",
       "8075                                                                                          Criminal Division   \n",
       "8353                                                                                          Criminal Division   \n",
       "7618    Civil Rights Division; Civil Rights - Housing and Civil Enforcement Section; USAO - Washington, Western   \n",
       "8847           Criminal Division; Criminal - Child Exploitation and Obscenity Section; USAO - Illinois, Central   \n",
       "...                                                                                                         ...   \n",
       "6089                                            Civil Rights Division; Office of the Associate Attorney General   \n",
       "6733                Civil Rights Division; Civil Rights - Special Litigation Section; USAO - New York, Southern   \n",
       "6905             Civil Rights Division; Civil Rights - Special Litigation Section; USAO - Mississippi, Southern   \n",
       "11066                                          Civil Rights Division; Civil Rights - Special Litigation Section   \n",
       "6727                 Civil Rights Division; Civil Rights - Special Litigation Section; USAO - Florida, Southern   \n",
       "\n",
       "          neg    neu    pos  compound_  \\\n",
       "index_                                   \n",
       "5247    0.005  0.806  0.005    -0.9955   \n",
       "8075    0.007  0.887  0.007    -0.9565   \n",
       "8353    0.008  0.874  0.008    -0.9451   \n",
       "7618    0.009  0.912  0.009    -0.9753   \n",
       "8847    0.010  0.894  0.010    -0.9460   \n",
       "...       ...    ...    ...        ...   \n",
       "6089    0.199  0.788  0.199     0.9944   \n",
       "6733    0.199  0.778  0.199     0.9950   \n",
       "6905    0.205  0.659  0.205     0.9888   \n",
       "11066   0.217  0.752  0.217     0.9811   \n",
       "6727    0.222  0.755  0.222     0.9966   \n",
       "\n",
       "                                                                                                                                                                                                                                                                                                                                                                                                                                                                                                                                                                                                                                                                                                                                                                                                                                                                                                                                                                                                                                                                                                                                                                                                                                                                                                                                                                                                                                                                                                                                                                                                                                                                                                                                                                                                                                                                                                                                                                                                                                                                                                                                                                                                                                                                                                                                                                       processed_text  \\\n",
       "index_                                                                                                                                                                                                                                                                                                                                                                                                                                                                                                                                                                                                                                                                                                                                                                                                                                                                                                                                                                                                                                                                                                                                                                                                                                                                                                                                                                                                                                                                                                                                                                                                                                                                                                                                                                                                                                                                                                                                                                                                                                                                                                                                                                                                                                                                                                                                                                                  \n",
       "5247                                                                                                                                                                                                                                                                                                                                                                                                                                                                                                                                                                                                                                                                                                                                                                                                                                                                                                                                                                                                                                                                                                                                                                                                                                     glenn eugen halfin grapevin texa appear today magistr judg jeffrey cureton court northern texa plead guilti feder charg interf african american famili hous announc act general john gore erin neali northern texa accord court document halfin threaten forc intimid interf famili race occup apart locat direct apart accord document file connect guilti plea halfin purchas babi doll mart grapevin texa took rope fashion noos hung babi doll noos halfin hung rope noos babi doll rail direct front staircas famili could access apart halfin know display would particular intimid famili young daughter addit defend referenc factual basi repeat intimid interfer african american famili occas toler act intimid fear illeg threat individu famili race said act john gore continu prosecut hate crime offend afraid home night said erin neali communiti toler crime intimid bigotri continu prosecut persecut other base race color ethnic religi belief halfin face statutori maximum penalti year feder prison fine sentenc schedul octob investig grapevin polic prosecut rebekah bailey crimin section unit state nicol dana   \n",
       "8075                                                                                                                                                                                                                                                                                                                                                                                                                                                                                                                                                                                                                                                                                                                                                                                                                                                                                                                                                                                                                                                                                                                                                                                                                                                                                                                                                                                                                                                                                                                                                                                           washington paul miller denham spring convict late yesterday count produc count possess child pornographi announc general lanni breuer crimin donald cazayoux middl louisiana miller convict feder juri follow judg jame bradi presid evid present show octob miller sexual abus year girl year girl produc numer photograph abus accord evid forens examin miller comput reveal miller use comput print possess numer imag child pornographi includ imag child pornographi produc imag child victim miller face maximum statutori sentenc year prison count product child pornographi year prison possess child pornographi count prosecut alecia riewert wolak crimin child exploit obscen section ceo richard bourgeoi middl louisiana conduct denham spring polic louisiana general   \n",
       "8353                                                                                                                                                                                                                                                                                                                                                                                                                                                                                                                                                                                                                                                                                                                                                                                                                                                                                                                                                                                                                                                                                                                                                                                                                                                                                                                                                                                                                                                                                                                                                                                             washington springfield mass plead guilti today receiv possess child pornographi announc general lanni breuer crimin robert rosenbeck plead guilti judg denis casper boston count receipt child pornographi count possess child pornographi indict charg accord court document rosenbeck possess differ comput contain child pornographi addit approxim juli juli rosenbeck receiv comput file contain child pornographi internet websit sentenc schedul rosenbeck face maximum statutori sentenc year prison receipt child pornographi count year prison count possess child pornographi rosenbeck also face term supervis releas least five year life prosecut attorney alecia riewert wolak michael grant crimin child exploit obscen section ceo conduct provid springfield polic   \n",
       "7618                                                                                                                                                                                                                                                                                                                                                                                                                                                                                                                                                                                                                                                                                                                                                         today file lawsuit court western washington alleg owner manag three edmond washington apart build refus rent apart famili children violat fair hous fair hous prohibit landlord deni apart famili children said act general wheeler mani famili alreadi face challeng find afford hous also deal unlaw discrimin equal access hous essenti american includ famili young children said annett hay western washington particular tight hous market landlord must follow make unit avail without discrimin base race color religion nation origin disabl famili status complaint concern three apart build locat pine street edmond manag defend debbi applebi stanwood washington properti own three limit liabil corpor llcs control applebi appl appl appl three also name defend suit complaint alleg march defend applebi told woman seek apart husband year child apart build adult therefor avail famili complaint also alleg various time april novemb defend advertis avail apart restrict adult famili file complaint hous urban develop conduct issu charg discrimin defend refer complaint seek court order requir defend ceas discriminatori hous practic damag famili file complaint famili defend discrimin children penalti individu inform relev encourag contact option feder fair hous prohibit discrimin hous basi race color religion famili status nation origin disabl inform law enforc avail usdoj https usao wdwa individu believ victim hous discrimin call email fairhous usdoj contact websit joint handl western washington complaint alleg unlaw conduct alleg must still proven feder court   \n",
       "8847                                                                                                                                                                                                                                                                                                                                                                                                                                                                                                                                                                                                                                                                                                                                                                                                                                                                                                                                                                                                                                                                                                                                                                                                                                                                                                                                                                                                canadian woman sentenc serv month prison follow decemb convict intern parent kidnap announc act general kenneth blanco crimin act patrick hansen central illinoi sarah nixon montreal canada sentenc judg colin bruce central illinoi feder juri found nixon guilti count intern parent kidnap take minor child unit state canada juli intent obstruct law exercis father evid establish custodi appar nixon would lose custodi year daughter nixon fled unit state child middl night appear custodi rule neither daughter could locat enforc issu child abduct alert nixon child eventu locat farmhous rural ontario canada author return child father nixon arrest york sept attempt return unit state attorney elli peirson lauren kupersmith crimin child exploit obscen section prosecut urbana illinoi polic univers illinoi polic illinoi children famili servic ontario provinci polic custom border protect investig champaign counti illinoi state crimin intern affair   \n",
       "...                                                                                                                                                                                                                                                                                                                                                                                                                                                                                                                                                                                                                                                                                                                                                                                                                                                                                                                                                                                                                                                                                                                                                                                                                                                                                                                                                                                                                                                                                                                                                                                                                                                                                                                                                                                                                                                                                                                                                                                                                                                                                                                                                                                                                                                                                                                                                                               ...   \n",
       "6089                                                                                                                                                                                                                                                                                                                                                                                                                                                                                                                                                                                                                                                                                                                                                                                                                                                                                                                                                                                                                                                                                                                                                                                                                                                                                 today announc updat unit state attorney manual usam section titl associ general approv notic requir issu implic religi liberti general issu memorandum execut depart agenc entitl feder protect religi liberti memo direct compon unit state offic guidanc litig advic execut branch oper grant aspect work order ensur complianc general memo usam updat languag direct relev compon updat usam also instruct relev compon consult religi liberti principl laid general octob memo consid whether notic approv requir initi order fulli effectu approv notic requir updat usam instruct attorney design point contact lead effort religi liberti inalien right protect constitut defend import thing said associ general rachel brand presid trump direct general session issu robust clear guidanc document octob clear explain feder govern appli religi liberti protect current book requir offic design religi liberti point contact ensur general memorandum effect implement designe respons work direct leadership offic case relat religi liberti ensur case receiv rigor attent deserv   \n",
       "6733                                                                                                                                                                                                                                                                                                                                                                                                                                                                                                                                                                                                                                                                                                                                                                                                                                                                                                                                     announc today reach agreement citi yonker york yonker polic resolv ensur constitut polic agreement result violent crime control enforc omnibus crime control safe street june unit state sent citi technic letter identifi necessari reform practic polici area forc civilian complaint investig supervisori oversight train receiv technic letter citi made substanti chang polici procedur agreement implement improv polici procedur address remain concern agreement ensur yonker polic continu advanc constitut effect communiti orient polic said princip deputi general vanita gupta head clear polici guidanc data analysi account system believ reform make entir communiti safer strengthen public trust polic agreement ensur yonker polic polic keep citizen safe protect constitut said preet bharara southern york measur place agreement includ clear reason forc polici guidanc proper evalu respond forc incid make yonker safer citizen polic alik thank yonker polic citi yonker cooper join effort ensur yonker polic protect citizen physic harm also violat constitut agreement care tailor address remain concern also take account seek build upon posit reform alreadi made follow agreement among thing agreement also provid consult retain conduct complianc review ensur implement measur requir agreement issu public report complianc review handl special litig section southern york yonker polic agreement   \n",
       "6905    today reach landmark settlement agreement reform crimin system hind counti mississippi agreement resolv find hind counti adult detent center jackson citi detent center togeth form hind counti jail fail protect prison violenc excess forc held past court order releas date violat institution person cripa settlement agreement first kind incorpor broader crimin system reform divers front reentri communiti incarcer creat crimin coordin committe help ensur counti system oper effect effici develop intervent divert individu appropri case arrest detent incarcer engag communiti outreach promot success reentri agreement includ mechan notifi communiti health provid person serious mental ill releas help person transit safe back communiti agreement also address unlaw enforc court order fine fee ensur counti cannot incarcer individu payment court first assess whether individu indig across board settlement make hind counti crimin system smarter fairer said princip deputi general vanita gupta head implement reform make pretrial detaine prison correct staff entir communiti safer also ensur vulner individu access treatment care communiti servic need deserv commend counti commit make reform realiti long condit jail pose serious challeng enforc safeti communiti said gregori davi southern mississippi appreci commit made hind counti offici turn page begin make necessari reform settlement agreement subject approv court southern mississippi requir counti implement seri reform across various stage crimin system includ follow togeth reform improv communic coordin among crimin entiti communiti servic provid help individu mental ill transit back communiti reduc recidiv approv feder court independ monitor appoint assess counti complianc complet comprehens includ site inspect document review stakehold interview expert staff issu find letter determin hind counti adult detent center jackson citi detent center violat cripa fail protect prison violenc prison improp forc staff also found inadequ staf train backlog record file lack central inform result prison held beyond court order releas date cripa author seek remedi pattern practic conduct violat constitut person confin jail prison correct facil inform work area pleas visit hind counti settlement agreement hind counti fact sheet   \n",
       "11066                                                                                                                                                                                                                                                                                                                                                                                                                                                                                                                                                                                                                                                                                                                                                                                                                                                                                                                                                                                                                                                                                                                                                                                                                                                                                                                                                                                                                                                                                                                                                                                                                                                                                  princip deputi general vanita gupta head releas follow statement regard ferguson missouri citi council vote propos consent decre ferguson citi council attempt unilater amend negoti agreement vote creat unnecessari delay essenti work bring constitut polic citi mark unfortun outcom concern communiti member ferguson polic offic parti engag thought negoti mani month creat agreement cost effect remedi would ensur ferguson bring polic court practic line constitut agreement alreadi negoti citi provid ferguson resid polic municip court fulli respect oper free racial discrimin take necessari legal action ensur ferguson polic court practic compli constitut relev feder law   \n",
       "6727                                                                                                                                                                                                                                                                                                                                                                                                                                                                                                                                                                                                                                                                                                                                                                                                                                                                              reach comprehens settlement agreement citi miami miami polic resolv offic involv shoot offic announc princip deputi general vanita gupta head wifredo ferrer southern florida settlement approv miami citi commiss today effect agreement sign parti resolv claim stem offic involv shoot offic conduct violent crime control enforc find issu juli identifi pattern practic excess forc offic involv shoot violat fourth amend constitut citi complianc settlement monitor independ review former tampa florida polic chief jane castor settlement agreement citi implement comprehens reform ensur constitut polic support public trust settlement agreement design minim offic involv shoot effect quick investig offic involv shoot occur measur includ settlement repres renew commit citi miami chief rodolfo llane provid constitut polic miami resid protect public safeti sustain reform said princip deputi general gupta agreement help strengthen relationship communiti serv improv account offic fire weapon unlaw provid communiti particip enforc agreement today agreement result joint effort citi miami ensur miami polic continu effort make communiti safe protect sacr constitut citizen said ferrer oversight communic agreement seek make perman posit chang former chief orosa chief llane made applaud citi commiss vote settlement agreement build upon import reform implement citi sinc issu find includ conduct attorney staff special litig section southern florida   \n",
       "\n",
       "        topic_1_prob  topic_2_prob  topic_3_prob  top_topic  \\\n",
       "index_                                                        \n",
       "5247        0.000479      0.999077      0.000444          1   \n",
       "8075        0.000628      0.001000      0.998371          2   \n",
       "8353        0.000636      0.001012      0.998352          2   \n",
       "7618        0.999255      0.000471      0.000274          0   \n",
       "8847        0.000651      0.214093      0.785256          2   \n",
       "...              ...           ...           ...        ...   \n",
       "6089        0.998535      0.000925      0.000540          0   \n",
       "6733        0.999066      0.000590      0.000344          0   \n",
       "6905        0.887982      0.111797      0.000220          0   \n",
       "11066       0.997998      0.001264      0.000737          0   \n",
       "6727        0.999153      0.000535      0.000312          0   \n",
       "\n",
       "                                                                                                                                                                                                                                                                                                                                                                                                                                                                                                                                                                                                                                                                                                                                                                                                                                                                                                                                                                                                                                                                                                                                                                                                                                                                                                                                                                                                                                                                                                                                                                                                                                                                                                                                                                                                                                                                                                                                                                                                                                                                                                                                                                                                                                                                                                                                                                                                                                                                                                                                                                                                                                                                                                                                                                                                                                                                                                                                                                                                                                                                                                                                                                                                                                                                                                                                                                                                                                                                                                                                                                                                                                                                                                                                                                                                                                                                                                                                                                                                                                                                                                                                                                                                                                                                                                                                                                                                                                                                                                                                                                                                                                                                                                                                 processed_text_bigrams  \n",
       "index_                                                                                                                                                                                                                                                                                                                                                                                                                                                                                                                                                                                                                                                                                                                                                                                                                                                                                                                                                                                                                                                                                                                                                                                                                                                                                                                                                                                                                                                                                                                                                                                                                                                                                                                                                                                                                                                                                                                                                                                                                                                                                                                                                                                                                                                                                                                                                                                                                                                                                                                                                                                                                                                                                                                                                                                                                                                                                                                                                                                                                                                                                                                                                                                                                                                                                                                                                                                                                                                                                                                                                                                                                                                                                                                                                                                                                                                                                                                                                                                                                                                                                                                                                                                                                                                                                                                                                                                                                                                                                                                                                                                                                                                                                                                                                   \n",
       "5247                                                                                                                                                                                                                                                                                                                                                                                                                                                                                                                                                                                                                                                                                                                                                                                                                                                                                                                                                                                                                                                                                                                                                                                                                                                                                                                                                                                                                                                                                                                                                                                                                                                                                                                                                                                                                                                                                                                                                                                                                                                                                                                                                                                                                                                                                                                                                                                                                                                                     glenn_eugen eugen_halfin halfin_grapevin grapevin_texa texa_appear appear_today today_magistr magistr_judg judg_jeffrey jeffrey_cureton cureton_court court_northern northern_texa texa_plead plead_guilti guilti_feder feder_charg charg_interf interf_african african_american american_famili famili_hous hous_announc announc_act act_general general_john john_gore gore_erin erin_neali neali_northern northern_texa texa_accord accord_court court_document document_halfin halfin_threaten threaten_forc forc_intimid intimid_interf interf_famili famili_race race_occup occup_apart apart_locat locat_direct direct_apart apart_accord accord_document document_file file_connect connect_guilti guilti_plea plea_halfin halfin_purchas purchas_babi babi_doll doll_mart mart_grapevin grapevin_texa texa_took took_rope rope_fashion fashion_noos noos_hung hung_babi babi_doll doll_noos noos_halfin halfin_hung hung_rope rope_noos noos_babi babi_doll doll_rail rail_direct direct_front front_staircas staircas_famili famili_could could_access access_apart apart_halfin halfin_know know_display display_would would_particular particular_intimid intimid_famili famili_young young_daughter daughter_addit addit_defend defend_referenc referenc_factual factual_basi basi_repeat repeat_intimid intimid_interfer interfer_african african_american american_famili famili_occas occas_toler toler_act act_intimid intimid_fear fear_illeg illeg_threat threat_individu individu_famili famili_race race_said said_act act_john john_gore gore_continu continu_prosecut prosecut_hate hate_crime crime_offend offend_afraid afraid_home home_night night_said said_erin erin_neali neali_communiti communiti_toler toler_crime crime_intimid intimid_bigotri bigotri_continu continu_prosecut prosecut_persecut persecut_other other_base base_race race_color color_ethnic ethnic_religi religi_belief belief_halfin halfin_face face_statutori statutori_maximum maximum_penalti penalti_year year_feder feder_prison prison_fine fine_sentenc sentenc_schedul schedul_octob octob_investig investig_grapevin grapevin_polic polic_prosecut prosecut_rebekah rebekah_bailey bailey_crimin crimin_section section_unit unit_state state_nicol nicol_dana  \n",
       "8075                                                                                                                                                                                                                                                                                                                                                                                                                                                                                                                                                                                                                                                                                                                                                                                                                                                                                                                                                                                                                                                                                                                                                                                                                                                                                                                                                                                                                                                                                                                                                                                                                                                                                                                                                                                                                                                                                                                                                                                                                                                                                                                                                                                                                                                                                                                                                                                                                                                                                                                                                                                                                                                                                                                                                                                                                                                                                                                                                                                                                                                                                                                                                                                         washington_paul paul_miller miller_denham denham_spring spring_convict convict_late late_yesterday yesterday_count count_produc produc_count count_possess possess_child child_pornographi pornographi_announc announc_general general_lanni lanni_breuer breuer_crimin crimin_donald donald_cazayoux cazayoux_middl middl_louisiana louisiana_miller miller_convict convict_feder feder_juri juri_follow follow_judg judg_jame jame_bradi bradi_presid presid_evid evid_present present_show show_octob octob_miller miller_sexual sexual_abus abus_year year_girl girl_year year_girl girl_produc produc_numer numer_photograph photograph_abus abus_accord accord_evid evid_forens forens_examin examin_miller miller_comput comput_reveal reveal_miller miller_use use_comput comput_print print_possess possess_numer numer_imag imag_child child_pornographi pornographi_includ includ_imag imag_child child_pornographi pornographi_produc produc_imag imag_child child_victim victim_miller miller_face face_maximum maximum_statutori statutori_sentenc sentenc_year year_prison prison_count count_product product_child child_pornographi pornographi_year year_prison prison_possess possess_child child_pornographi pornographi_count count_prosecut prosecut_alecia alecia_riewert riewert_wolak wolak_crimin crimin_child child_exploit exploit_obscen obscen_section section_ceo ceo_richard richard_bourgeoi bourgeoi_middl middl_louisiana louisiana_conduct conduct_denham denham_spring spring_polic polic_louisiana louisiana_general  \n",
       "8353                                                                                                                                                                                                                                                                                                                                                                                                                                                                                                                                                                                                                                                                                                                                                                                                                                                                                                                                                                                                                                                                                                                                                                                                                                                                                                                                                                                                                                                                                                                                                                                                                                                                                                                                                                                                                                                                                                                                                                                                                                                                                                                                                                                                                                                                                                                                                                                                                                                                                                                                                                                                                                                                                                                                                                                                                                                                                                                                                                                                                                                                                                                                                                                           washington_springfield springfield_mass mass_plead plead_guilti guilti_today today_receiv receiv_possess possess_child child_pornographi pornographi_announc announc_general general_lanni lanni_breuer breuer_crimin crimin_robert robert_rosenbeck rosenbeck_plead plead_guilti guilti_judg judg_denis denis_casper casper_boston boston_count count_receipt receipt_child child_pornographi pornographi_count count_possess possess_child child_pornographi pornographi_indict indict_charg charg_accord accord_court court_document document_rosenbeck rosenbeck_possess possess_differ differ_comput comput_contain contain_child child_pornographi pornographi_addit addit_approxim approxim_juli juli_juli juli_rosenbeck rosenbeck_receiv receiv_comput comput_file file_contain contain_child child_pornographi pornographi_internet internet_websit websit_sentenc sentenc_schedul schedul_rosenbeck rosenbeck_face face_maximum maximum_statutori statutori_sentenc sentenc_year year_prison prison_receipt receipt_child child_pornographi pornographi_count count_year year_prison prison_count count_possess possess_child child_pornographi pornographi_rosenbeck rosenbeck_also also_face face_term term_supervis supervis_releas releas_least least_five five_year year_life life_prosecut prosecut_attorney attorney_alecia alecia_riewert riewert_wolak wolak_michael michael_grant grant_crimin crimin_child child_exploit exploit_obscen obscen_section section_ceo ceo_conduct conduct_provid provid_springfield springfield_polic  \n",
       "7618                                                                                                                                                                                                                                                                                                                                                                                                                                                                                                                                                                                                                                                                                                                                                                                                                                                                                                                                                                                                                                                                                                                                                                                                                                                                                                                                                                                                                                                                                                              today_file file_lawsuit lawsuit_court court_western western_washington washington_alleg alleg_owner owner_manag manag_three three_edmond edmond_washington washington_apart apart_build build_refus refus_rent rent_apart apart_famili famili_children children_violat violat_fair fair_hous hous_fair fair_hous hous_prohibit prohibit_landlord landlord_deni deni_apart apart_famili famili_children children_said said_act act_general general_wheeler wheeler_mani mani_famili famili_alreadi alreadi_face face_challeng challeng_find find_afford afford_hous hous_also also_deal deal_unlaw unlaw_discrimin discrimin_equal equal_access access_hous hous_essenti essenti_american american_includ includ_famili famili_young young_children children_said said_annett annett_hay hay_western western_washington washington_particular particular_tight tight_hous hous_market market_landlord landlord_must must_follow follow_make make_unit unit_avail avail_without without_discrimin discrimin_base base_race race_color color_religion religion_nation nation_origin origin_disabl disabl_famili famili_status status_complaint complaint_concern concern_three three_apart apart_build build_locat locat_pine pine_street street_edmond edmond_manag manag_defend defend_debbi debbi_applebi applebi_stanwood stanwood_washington washington_properti properti_own own_three three_limit limit_liabil liabil_corpor corpor_llcs llcs_control control_applebi applebi_appl appl_appl appl_appl appl_three three_also also_name name_defend defend_suit suit_complaint complaint_alleg alleg_march march_defend defend_applebi applebi_told told_woman woman_seek seek_apart apart_husband husband_year year_child child_apart apart_build build_adult adult_therefor therefor_avail avail_famili famili_complaint complaint_also also_alleg alleg_various various_time time_april april_novemb novemb_defend defend_advertis advertis_avail avail_apart apart_restrict restrict_adult adult_famili famili_file file_complaint complaint_hous hous_urban urban_develop develop_conduct conduct_issu issu_charg charg_discrimin discrimin_defend defend_refer refer_complaint complaint_seek seek_court court_order order_requir requir_defend defend_ceas ceas_discriminatori discriminatori_hous hous_practic practic_damag damag_famili famili_file file_complaint complaint_famili famili_defend defend_discrimin discrimin_children children_penalti penalti_individu individu_inform inform_relev relev_encourag encourag_contact contact_option option_feder feder_fair fair_hous hous_prohibit prohibit_discrimin discrimin_hous hous_basi basi_race race_color color_religion religion_famili famili_status status_nation nation_origin origin_disabl disabl_inform inform_law law_enforc enforc_avail avail_usdoj usdoj_https https_usao usao_wdwa wdwa_individu individu_believ believ_victim victim_hous hous_discrimin discrimin_call call_email email_fairhous fairhous_usdoj usdoj_contact contact_websit websit_joint joint_handl handl_western western_washington washington_complaint complaint_alleg alleg_unlaw unlaw_conduct conduct_alleg alleg_must must_still still_proven proven_feder feder_court  \n",
       "8847                                                                                                                                                                                                                                                                                                                                                                                                                                                                                                                                                                                                                                                                                                                                                                                                                                                                                                                                                                                                                                                                                                                                                                                                                                                                                                                                                                                                                                                                                                                                                                                                                                                                                                                                                                                                                                                                                                                                                                                                                                                                                                                                                                                                                                                                                                                                                                                                                                                                                                                                                                                                                                                                                                                                                                                                canadian_woman woman_sentenc sentenc_serv serv_month month_prison prison_follow follow_decemb decemb_convict convict_intern intern_parent parent_kidnap kidnap_announc announc_act act_general general_kenneth kenneth_blanco blanco_crimin crimin_act act_patrick patrick_hansen hansen_central central_illinoi illinoi_sarah sarah_nixon nixon_montreal montreal_canada canada_sentenc sentenc_judg judg_colin colin_bruce bruce_central central_illinoi illinoi_feder feder_juri juri_found found_nixon nixon_guilti guilti_count count_intern intern_parent parent_kidnap kidnap_take take_minor minor_child child_unit unit_state state_canada canada_juli juli_intent intent_obstruct obstruct_law law_exercis exercis_father father_evid evid_establish establish_custodi custodi_appar appar_nixon nixon_would would_lose lose_custodi custodi_year year_daughter daughter_nixon nixon_fled fled_unit unit_state state_child child_middl middl_night night_appear appear_custodi custodi_rule rule_neither neither_daughter daughter_could could_locat locat_enforc enforc_issu issu_child child_abduct abduct_alert alert_nixon nixon_child child_eventu eventu_locat locat_farmhous farmhous_rural rural_ontario ontario_canada canada_author author_return return_child child_father father_nixon nixon_arrest arrest_york york_sept sept_attempt attempt_return return_unit unit_state state_attorney attorney_elli elli_peirson peirson_lauren lauren_kupersmith kupersmith_crimin crimin_child child_exploit exploit_obscen obscen_section section_prosecut prosecut_urbana urbana_illinoi illinoi_polic polic_univers univers_illinoi illinoi_polic polic_illinoi illinoi_children children_famili famili_servic servic_ontario ontario_provinci provinci_polic polic_custom custom_border border_protect protect_investig investig_champaign champaign_counti counti_illinoi illinoi_state state_crimin crimin_intern intern_affair  \n",
       "...                                                                                                                                                                                                                                                                                                                                                                                                                                                                                                                                                                                                                                                                                                                                                                                                                                                                                                                                                                                                                                                                                                                                                                                                                                                                                                                                                                                                                                                                                                                                                                                                                                                                                                                                                                                                                                                                                                                                                                                                                                                                                                                                                                                                                                                                                                                                                                                                                                                                                                                                                                                                                                                                                                                                                                                                                                                                                                                                                                                                                                                                                                                                                                                                                                                                                                                                                                                                                                                                                                                                                                                                                                                                                                                                                                                                                                                                                                                                                                                                                                                                                                                                                                                                                                                                                                                                                                                                                                                                                                                                                                                                                                                                                                                                                 ...  \n",
       "6089                                                                                                                                                                                                                                                                                                                                                                                                                                                                                                                                                                                                                                                                                                                                                                                                                                                                                                                                                                                                                                                                                                                                                                                                                                                                                                                                                                                                                                                                                                                                                                                                                                                                                                                                                                                                                                                                                                                                                                                                                                                                                                                                                                                                                                                                                                                                                                                                                                                                                                                                                               today_announc announc_updat updat_unit unit_state state_attorney attorney_manual manual_usam usam_section section_titl titl_associ associ_general general_approv approv_notic notic_requir requir_issu issu_implic implic_religi religi_liberti liberti_general general_issu issu_memorandum memorandum_execut execut_depart depart_agenc agenc_entitl entitl_feder feder_protect protect_religi religi_liberti liberti_memo memo_direct direct_compon compon_unit unit_state state_offic offic_guidanc guidanc_litig litig_advic advic_execut execut_branch branch_oper oper_grant grant_aspect aspect_work work_order order_ensur ensur_complianc complianc_general general_memo memo_usam usam_updat updat_languag languag_direct direct_relev relev_compon compon_updat updat_usam usam_also also_instruct instruct_relev relev_compon compon_consult consult_religi religi_liberti liberti_principl principl_laid laid_general general_octob octob_memo memo_consid consid_whether whether_notic notic_approv approv_requir requir_initi initi_order order_fulli fulli_effectu effectu_approv approv_notic notic_requir requir_updat updat_usam usam_instruct instruct_attorney attorney_design design_point point_contact contact_lead lead_effort effort_religi religi_liberti liberti_inalien inalien_right right_protect protect_constitut constitut_defend defend_import import_thing thing_said said_associ associ_general general_rachel rachel_brand brand_presid presid_trump trump_direct direct_general general_session session_issu issu_robust robust_clear clear_guidanc guidanc_document document_octob octob_clear clear_explain explain_feder feder_govern govern_appli appli_religi religi_liberti liberti_protect protect_current current_book book_requir requir_offic offic_design design_religi religi_liberti liberti_point point_contact contact_ensur ensur_general general_memorandum memorandum_effect effect_implement implement_designe designe_respons respons_work work_direct direct_leadership leadership_offic offic_case case_relat relat_religi religi_liberti liberti_ensur ensur_case case_receiv receiv_rigor rigor_attent attent_deserv  \n",
       "6733                                                                                                                                                                                                                                                                                                                                                                                                                                                                                                                                                                                                                                                                                                                                                                                                                                                                                                                                                                                                                                                                                                                                                                                                                                                                                                                                                                                                                                                                                                                                                                                                                                                                                                                                                                                                                                                                            announc_today today_reach reach_agreement agreement_citi citi_yonker yonker_york york_yonker yonker_polic polic_resolv resolv_ensur ensur_constitut constitut_polic polic_agreement agreement_result result_violent violent_crime crime_control control_enforc enforc_omnibus omnibus_crime crime_control control_safe safe_street street_june june_unit unit_state state_sent sent_citi citi_technic technic_letter letter_identifi identifi_necessari necessari_reform reform_practic practic_polici polici_area area_forc forc_civilian civilian_complaint complaint_investig investig_supervisori supervisori_oversight oversight_train train_receiv receiv_technic technic_letter letter_citi citi_made made_substanti substanti_chang chang_polici polici_procedur procedur_agreement agreement_implement implement_improv improv_polici polici_procedur procedur_address address_remain remain_concern concern_agreement agreement_ensur ensur_yonker yonker_polic polic_continu continu_advanc advanc_constitut constitut_effect effect_communiti communiti_orient orient_polic polic_said said_princip princip_deputi deputi_general general_vanita vanita_gupta gupta_head head_clear clear_polici polici_guidanc guidanc_data data_analysi analysi_account account_system system_believ believ_reform reform_make make_entir entir_communiti communiti_safer safer_strengthen strengthen_public public_trust trust_polic polic_agreement agreement_ensur ensur_yonker yonker_polic polic_polic polic_keep keep_citizen citizen_safe safe_protect protect_constitut constitut_said said_preet preet_bharara bharara_southern southern_york york_measur measur_place place_agreement agreement_includ includ_clear clear_reason reason_forc forc_polici polici_guidanc guidanc_proper proper_evalu evalu_respond respond_forc forc_incid incid_make make_yonker yonker_safer safer_citizen citizen_polic polic_alik alik_thank thank_yonker yonker_polic polic_citi citi_yonker yonker_cooper cooper_join join_effort effort_ensur ensur_yonker yonker_polic polic_protect protect_citizen citizen_physic physic_harm harm_also also_violat violat_constitut constitut_agreement agreement_care care_tailor tailor_address address_remain remain_concern concern_also also_take take_account account_seek seek_build build_upon upon_posit posit_reform reform_alreadi alreadi_made made_follow follow_agreement agreement_among among_thing thing_agreement agreement_also also_provid provid_consult consult_retain retain_conduct conduct_complianc complianc_review review_ensur ensur_implement implement_measur measur_requir requir_agreement agreement_issu issu_public public_report report_complianc complianc_review review_handl handl_special special_litig litig_section section_southern southern_york york_yonker yonker_polic polic_agreement  \n",
       "6905    today_reach reach_landmark landmark_settlement settlement_agreement agreement_reform reform_crimin crimin_system system_hind hind_counti counti_mississippi mississippi_agreement agreement_resolv resolv_find find_hind hind_counti counti_adult adult_detent detent_center center_jackson jackson_citi citi_detent detent_center center_togeth togeth_form form_hind hind_counti counti_jail jail_fail fail_protect protect_prison prison_violenc violenc_excess excess_forc forc_held held_past past_court court_order order_releas releas_date date_violat violat_institution institution_person person_cripa cripa_settlement settlement_agreement agreement_first first_kind kind_incorpor incorpor_broader broader_crimin crimin_system system_reform reform_divers divers_front front_reentri reentri_communiti communiti_incarcer incarcer_creat creat_crimin crimin_coordin coordin_committe committe_help help_ensur ensur_counti counti_system system_oper oper_effect effect_effici effici_develop develop_intervent intervent_divert divert_individu individu_appropri appropri_case case_arrest arrest_detent detent_incarcer incarcer_engag engag_communiti communiti_outreach outreach_promot promot_success success_reentri reentri_agreement agreement_includ includ_mechan mechan_notifi notifi_communiti communiti_health health_provid provid_person person_serious serious_mental mental_ill ill_releas releas_help help_person person_transit transit_safe safe_back back_communiti communiti_agreement agreement_also also_address address_unlaw unlaw_enforc enforc_court court_order order_fine fine_fee fee_ensur ensur_counti counti_cannot cannot_incarcer incarcer_individu individu_payment payment_court court_first first_assess assess_whether whether_individu individu_indig indig_across across_board board_settlement settlement_make make_hind hind_counti counti_crimin crimin_system system_smarter smarter_fairer fairer_said said_princip princip_deputi deputi_general general_vanita vanita_gupta gupta_head head_implement implement_reform reform_make make_pretrial pretrial_detaine detaine_prison prison_correct correct_staff staff_entir entir_communiti communiti_safer safer_also also_ensur ensur_vulner vulner_individu individu_access access_treatment treatment_care care_communiti communiti_servic servic_need need_deserv deserv_commend commend_counti counti_commit commit_make make_reform reform_realiti realiti_long long_condit condit_jail jail_pose pose_serious serious_challeng challeng_enforc enforc_safeti safeti_communiti communiti_said said_gregori gregori_davi davi_southern southern_mississippi mississippi_appreci appreci_commit commit_made made_hind hind_counti counti_offici offici_turn turn_page page_begin begin_make make_necessari necessari_reform reform_settlement settlement_agreement agreement_subject subject_approv approv_court court_southern southern_mississippi mississippi_requir requir_counti counti_implement implement_seri seri_reform reform_across across_various various_stage stage_crimin crimin_system system_includ includ_follow follow_togeth togeth_reform reform_improv improv_communic communic_coordin coordin_among among_crimin crimin_entiti entiti_communiti communiti_servic servic_provid provid_help help_individu individu_mental mental_ill ill_transit transit_back back_communiti communiti_reduc reduc_recidiv recidiv_approv approv_feder feder_court court_independ independ_monitor monitor_appoint appoint_assess assess_counti counti_complianc complianc_complet complet_comprehens comprehens_includ includ_site site_inspect inspect_document document_review review_stakehold stakehold_interview interview_expert expert_staff staff_issu issu_find find_letter letter_determin determin_hind hind_counti counti_adult adult_detent detent_center center_jackson jackson_citi citi_detent detent_center center_violat violat_cripa cripa_fail fail_protect protect_prison prison_violenc violenc_prison prison_improp improp_forc forc_staff staff_also also_found found_inadequ inadequ_staf staf_train train_backlog backlog_record record_file file_lack lack_central central_inform inform_result result_prison prison_held held_beyond beyond_court court_order order_releas releas_date date_cripa cripa_author author_seek seek_remedi remedi_pattern pattern_practic practic_conduct conduct_violat violat_constitut constitut_person person_confin confin_jail jail_prison prison_correct correct_facil facil_inform inform_work work_area area_pleas pleas_visit visit_hind hind_counti counti_settlement settlement_agreement agreement_hind hind_counti counti_fact fact_sheet  \n",
       "11066                                                                                                                                                                                                                                                                                                                                                                                                                                                                                                                                                                                                                                                                                                                                                                                                                                                                                                                                                                                                                                                                                                                                                                                                                                                                                                                                                                                                                                                                                                                                                                                                                                                                                                                                                                                                                                                                                                                                                                                                                                                                                                                                                                                                                                                                                                                                                                                                                                                                                                                                                                                                                                                                                                                                                                                                                                                                                                                                                                                                                                                                                                                                                                                                                                                                                                                                                                 princip_deputi deputi_general general_vanita vanita_gupta gupta_head head_releas releas_follow follow_statement statement_regard regard_ferguson ferguson_missouri missouri_citi citi_council council_vote vote_propos propos_consent consent_decre decre_ferguson ferguson_citi citi_council council_attempt attempt_unilater unilater_amend amend_negoti negoti_agreement agreement_vote vote_creat creat_unnecessari unnecessari_delay delay_essenti essenti_work work_bring bring_constitut constitut_polic polic_citi citi_mark mark_unfortun unfortun_outcom outcom_concern concern_communiti communiti_member member_ferguson ferguson_polic polic_offic offic_parti parti_engag engag_thought thought_negoti negoti_mani mani_month month_creat creat_agreement agreement_cost cost_effect effect_remedi remedi_would would_ensur ensur_ferguson ferguson_bring bring_polic polic_court court_practic practic_line line_constitut constitut_agreement agreement_alreadi alreadi_negoti negoti_citi citi_provid provid_ferguson ferguson_resid resid_polic polic_municip municip_court court_fulli fulli_respect respect_oper oper_free free_racial racial_discrimin discrimin_take take_necessari necessari_legal legal_action action_ensur ensur_ferguson ferguson_polic polic_court court_practic practic_compli compli_constitut constitut_relev relev_feder feder_law  \n",
       "6727                                                                                                                                                                                                                                                                                                                                                                                                                                                                                                                                                                                                                                                                                                                                                                                                                                                                                                                                                                                                                                                                                                                                                                                                                                                                                                                                                                                                                                                                                                                                                                                                                                                                                                                                                          reach_comprehens comprehens_settlement settlement_agreement agreement_citi citi_miami miami_miami miami_polic polic_resolv resolv_offic offic_involv involv_shoot shoot_offic offic_announc announc_princip princip_deputi deputi_general general_vanita vanita_gupta gupta_head head_wifredo wifredo_ferrer ferrer_southern southern_florida florida_settlement settlement_approv approv_miami miami_citi citi_commiss commiss_today today_effect effect_agreement agreement_sign sign_parti parti_resolv resolv_claim claim_stem stem_offic offic_involv involv_shoot shoot_offic offic_conduct conduct_violent violent_crime crime_control control_enforc enforc_find find_issu issu_juli juli_identifi identifi_pattern pattern_practic practic_excess excess_forc forc_offic offic_involv involv_shoot shoot_violat violat_fourth fourth_amend amend_constitut constitut_citi citi_complianc complianc_settlement settlement_monitor monitor_independ independ_review review_former former_tampa tampa_florida florida_polic polic_chief chief_jane jane_castor castor_settlement settlement_agreement agreement_citi citi_implement implement_comprehens comprehens_reform reform_ensur ensur_constitut constitut_polic polic_support support_public public_trust trust_settlement settlement_agreement agreement_design design_minim minim_offic offic_involv involv_shoot shoot_effect effect_quick quick_investig investig_offic offic_involv involv_shoot shoot_occur occur_measur measur_includ includ_settlement settlement_repres repres_renew renew_commit commit_citi citi_miami miami_chief chief_rodolfo rodolfo_llane llane_provid provid_constitut constitut_polic polic_miami miami_resid resid_protect protect_public public_safeti safeti_sustain sustain_reform reform_said said_princip princip_deputi deputi_general general_gupta gupta_agreement agreement_help help_strengthen strengthen_relationship relationship_communiti communiti_serv serv_improv improv_account account_offic offic_fire fire_weapon weapon_unlaw unlaw_provid provid_communiti communiti_particip particip_enforc enforc_agreement agreement_today today_agreement agreement_result result_joint joint_effort effort_citi citi_miami miami_ensur ensur_miami miami_polic polic_continu continu_effort effort_make make_communiti communiti_safe safe_protect protect_sacr sacr_constitut constitut_citizen citizen_said said_ferrer ferrer_oversight oversight_communic communic_agreement agreement_seek seek_make make_perman perman_posit posit_chang chang_former former_chief chief_orosa orosa_chief chief_llane llane_made made_applaud applaud_citi citi_commiss commiss_vote vote_settlement settlement_agreement agreement_build build_upon upon_import import_reform reform_implement implement_citi citi_sinc sinc_issu issu_find find_includ includ_conduct conduct_attorney attorney_staff staff_special special_litig litig_section section_southern southern_florida  \n",
       "\n",
       "[717 rows x 16 columns]"
      ]
     },
     "execution_count": 61,
     "metadata": {},
     "output_type": "execute_result"
    }
   ],
   "source": [
    "doj_subset_wscore['processed_text_bigrams'] = doj_subset_wscore['processed_text'].apply(create_bigram_onedoc)\n",
    "doj_subset_wscore\n"
   ]
  },
  {
   "cell_type": "code",
   "execution_count": 56,
   "metadata": {},
   "outputs": [
    {
     "data": {
      "text/html": [
       "<div>\n",
       "<style scoped>\n",
       "    .dataframe tbody tr th:only-of-type {\n",
       "        vertical-align: middle;\n",
       "    }\n",
       "\n",
       "    .dataframe tbody tr th {\n",
       "        vertical-align: top;\n",
       "    }\n",
       "\n",
       "    .dataframe thead th {\n",
       "        text-align: right;\n",
       "    }\n",
       "</style>\n",
       "<table border=\"1\" class=\"dataframe\">\n",
       "  <thead>\n",
       "    <tr style=\"text-align: right;\">\n",
       "      <th></th>\n",
       "      <th>id</th>\n",
       "      <th>processed_text</th>\n",
       "      <th>processed_text_bigrams</th>\n",
       "    </tr>\n",
       "    <tr>\n",
       "      <th>index_</th>\n",
       "      <th></th>\n",
       "      <th></th>\n",
       "      <th></th>\n",
       "    </tr>\n",
       "  </thead>\n",
       "  <tbody>\n",
       "    <tr>\n",
       "      <th>6727</th>\n",
       "      <td>16-217</td>\n",
       "      <td>reach comprehens settlement agreement citi miami miami polic resolv offic involv shoot offic announc princip deputi general vanita gupta head wifredo ferrer southern florida settlement approv miami citi commiss today effect agreement sign parti resolv claim stem offic involv shoot offic conduct violent crime control enforc find issu juli identifi pattern practic excess forc offic involv shoot violat fourth amend constitut citi complianc settlement monitor independ review former tampa florida polic chief jane castor settlement agreement citi implement comprehens reform ensur constitut polic support public trust settlement agreement design minim offic involv shoot effect quick investig offic involv shoot occur measur includ settlement repres renew commit citi miami chief rodolfo llane provid constitut polic miami resid protect public safeti sustain reform said princip deputi general gupta agreement help strengthen relationship communiti serv improv account offic fire weapon unlaw provid communiti particip enforc agreement today agreement result joint effort citi miami ensur miami polic continu effort make communiti safe protect sacr constitut citizen said ferrer oversight communic agreement seek make perman posit chang former chief orosa chief llane made applaud citi commiss vote settlement agreement build upon import reform implement citi sinc issu find includ conduct attorney staff special litig section southern florida</td>\n",
       "      <td>[reach_comprehens, comprehens_settlement, settlement_agreement, agreement_citi, citi_miami, miami_miami, miami_polic, polic_resolv, resolv_offic, offic_involv, involv_shoot, shoot_offic, offic_announc, announc_princip, princip_deputi, deputi_general, general_vanita, vanita_gupta, gupta_head, head_wifredo, wifredo_ferrer, ferrer_southern, southern_florida, florida_settlement, settlement_approv, approv_miami, miami_citi, citi_commiss, commiss_today, today_effect, effect_agreement, agreement_sign, sign_parti, parti_resolv, resolv_claim, claim_stem, stem_offic, offic_involv, involv_shoot, shoot_offic, offic_conduct, conduct_violent, violent_crime, crime_control, control_enforc, enforc_find, find_issu, issu_juli, juli_identifi, identifi_pattern, pattern_practic, practic_excess, excess_forc, forc_offic, offic_involv, involv_shoot, shoot_violat, violat_fourth, fourth_amend, amend_constitut, constitut_citi, citi_complianc, complianc_settlement, settlement_monitor, monitor_independ, independ_review, review_former, former_tampa, tampa_florida, florida_polic, polic_chief, chief_jane, jane_castor, castor_settlement, settlement_agreement, agreement_citi, citi_implement, implement_comprehens, comprehens_reform, reform_ensur, ensur_constitut, constitut_polic, polic_support, support_public, public_trust, trust_settlement, settlement_agreement, agreement_design, design_minim, minim_offic, offic_involv, involv_shoot, shoot_effect, effect_quick, quick_investig, investig_offic, offic_involv, involv_shoot, shoot_occur, occur_measur, ...]</td>\n",
       "    </tr>\n",
       "  </tbody>\n",
       "</table>\n",
       "</div>"
      ],
      "text/plain": [
       "            id  \\\n",
       "index_           \n",
       "6727    16-217   \n",
       "\n",
       "                                                                                                                                                                                                                                                                                                                                                                                                                                                                                                                                                                                                                                                                                                                                                                                                                                                                                                                                                                                                                                                                                                                                                                                                                                                                                                                                                                                                                                                                                             processed_text  \\\n",
       "index_                                                                                                                                                                                                                                                                                                                                                                                                                                                                                                                                                                                                                                                                                                                                                                                                                                                                                                                                                                                                                                                                                                                                                                                                                                                                                                                                                                                                                                                                                                        \n",
       "6727    reach comprehens settlement agreement citi miami miami polic resolv offic involv shoot offic announc princip deputi general vanita gupta head wifredo ferrer southern florida settlement approv miami citi commiss today effect agreement sign parti resolv claim stem offic involv shoot offic conduct violent crime control enforc find issu juli identifi pattern practic excess forc offic involv shoot violat fourth amend constitut citi complianc settlement monitor independ review former tampa florida polic chief jane castor settlement agreement citi implement comprehens reform ensur constitut polic support public trust settlement agreement design minim offic involv shoot effect quick investig offic involv shoot occur measur includ settlement repres renew commit citi miami chief rodolfo llane provid constitut polic miami resid protect public safeti sustain reform said princip deputi general gupta agreement help strengthen relationship communiti serv improv account offic fire weapon unlaw provid communiti particip enforc agreement today agreement result joint effort citi miami ensur miami polic continu effort make communiti safe protect sacr constitut citizen said ferrer oversight communic agreement seek make perman posit chang former chief orosa chief llane made applaud citi commiss vote settlement agreement build upon import reform implement citi sinc issu find includ conduct attorney staff special litig section southern florida   \n",
       "\n",
       "                                                                                                                                                                                                                                                                                                                                                                                                                                                                                                                                                                                                                                                                                                                                                                                                                                                                                                                                                                                                                                                                                                                                                                                                                                                                                                                                                                                                                                                                                                                                                                                        processed_text_bigrams  \n",
       "index_                                                                                                                                                                                                                                                                                                                                                                                                                                                                                                                                                                                                                                                                                                                                                                                                                                                                                                                                                                                                                                                                                                                                                                                                                                                                                                                                                                                                                                                                                                                                                                                                          \n",
       "6727    [reach_comprehens, comprehens_settlement, settlement_agreement, agreement_citi, citi_miami, miami_miami, miami_polic, polic_resolv, resolv_offic, offic_involv, involv_shoot, shoot_offic, offic_announc, announc_princip, princip_deputi, deputi_general, general_vanita, vanita_gupta, gupta_head, head_wifredo, wifredo_ferrer, ferrer_southern, southern_florida, florida_settlement, settlement_approv, approv_miami, miami_citi, citi_commiss, commiss_today, today_effect, effect_agreement, agreement_sign, sign_parti, parti_resolv, resolv_claim, claim_stem, stem_offic, offic_involv, involv_shoot, shoot_offic, offic_conduct, conduct_violent, violent_crime, crime_control, control_enforc, enforc_find, find_issu, issu_juli, juli_identifi, identifi_pattern, pattern_practic, practic_excess, excess_forc, forc_offic, offic_involv, involv_shoot, shoot_violat, violat_fourth, fourth_amend, amend_constitut, constitut_citi, citi_complianc, complianc_settlement, settlement_monitor, monitor_independ, independ_review, review_former, former_tampa, tampa_florida, florida_polic, polic_chief, chief_jane, jane_castor, castor_settlement, settlement_agreement, agreement_citi, citi_implement, implement_comprehens, comprehens_reform, reform_ensur, ensur_constitut, constitut_polic, polic_support, support_public, public_trust, trust_settlement, settlement_agreement, agreement_design, design_minim, minim_offic, offic_involv, involv_shoot, shoot_effect, effect_quick, quick_investig, investig_offic, offic_involv, involv_shoot, shoot_occur, occur_measur, ...]  "
      ]
     },
     "execution_count": 56,
     "metadata": {},
     "output_type": "execute_result"
    }
   ],
   "source": [
    "#B\n",
    "doj_subset_wscore[doj_subset_wscore['id'] == '16-217'][['id', 'processed_text', 'processed_text_bigrams']]"
   ]
  },
  {
   "cell_type": "markdown",
   "metadata": {},
   "source": [
    "C. Use the create_dtm function and the `processed_text_bigrams` column to create a document-term matrix (`dtm_bigram`) with these bigrams. Keep the following three columns in the data: `id`, `topics_clean`, and `compound` \n",
    "\n",
    "D. Print the (1) dimensions of the `dtm` matrix from question 2.2  and (2) the dimensions of the `dtm_bigram` matrix. Comment on why the bigram matrix has more dimensions than the unigram matrix \n"
   ]
  },
  {
   "cell_type": "code",
   "execution_count": 64,
   "metadata": {},
   "outputs": [
    {
     "data": {
      "text/html": [
       "<div>\n",
       "<style scoped>\n",
       "    .dataframe tbody tr th:only-of-type {\n",
       "        vertical-align: middle;\n",
       "    }\n",
       "\n",
       "    .dataframe tbody tr th {\n",
       "        vertical-align: top;\n",
       "    }\n",
       "\n",
       "    .dataframe thead th {\n",
       "        text-align: right;\n",
       "    }\n",
       "</style>\n",
       "<table border=\"1\" class=\"dataframe\">\n",
       "  <thead>\n",
       "    <tr style=\"text-align: right;\">\n",
       "      <th></th>\n",
       "      <th>index_</th>\n",
       "      <th>id</th>\n",
       "      <th>compound_</th>\n",
       "      <th>topics_clean</th>\n",
       "      <th>aaron_ford</th>\n",
       "      <th>aaron_latham</th>\n",
       "      <th>aaron_mcgrath</th>\n",
       "      <th>aaron_parrish</th>\n",
       "      <th>aaron_polster</th>\n",
       "      <th>aaron_rice</th>\n",
       "      <th>...</th>\n",
       "      <th>zone_religi</th>\n",
       "      <th>zone_request</th>\n",
       "      <th>zone_restrict</th>\n",
       "      <th>zone_student</th>\n",
       "      <th>zone_time</th>\n",
       "      <th>zone_varianc</th>\n",
       "      <th>zunggeemog_noel</th>\n",
       "      <th>zunggeemog_prompt</th>\n",
       "      <th>zunggeemog_write</th>\n",
       "      <th>zwengel_princeton</th>\n",
       "    </tr>\n",
       "  </thead>\n",
       "  <tbody>\n",
       "    <tr>\n",
       "      <th>0</th>\n",
       "      <td>5247</td>\n",
       "      <td>18-913</td>\n",
       "      <td>-0.9955</td>\n",
       "      <td>Hate Crimes</td>\n",
       "      <td>0</td>\n",
       "      <td>0</td>\n",
       "      <td>0</td>\n",
       "      <td>0</td>\n",
       "      <td>0</td>\n",
       "      <td>0</td>\n",
       "      <td>...</td>\n",
       "      <td>0</td>\n",
       "      <td>0</td>\n",
       "      <td>0</td>\n",
       "      <td>0</td>\n",
       "      <td>0</td>\n",
       "      <td>0</td>\n",
       "      <td>0</td>\n",
       "      <td>0</td>\n",
       "      <td>0</td>\n",
       "      <td>0</td>\n",
       "    </tr>\n",
       "    <tr>\n",
       "      <th>1</th>\n",
       "      <td>8075</td>\n",
       "      <td>11-1245</td>\n",
       "      <td>-0.9565</td>\n",
       "      <td>Project Safe Childhood</td>\n",
       "      <td>0</td>\n",
       "      <td>0</td>\n",
       "      <td>0</td>\n",
       "      <td>0</td>\n",
       "      <td>0</td>\n",
       "      <td>0</td>\n",
       "      <td>...</td>\n",
       "      <td>0</td>\n",
       "      <td>0</td>\n",
       "      <td>0</td>\n",
       "      <td>0</td>\n",
       "      <td>0</td>\n",
       "      <td>0</td>\n",
       "      <td>0</td>\n",
       "      <td>0</td>\n",
       "      <td>0</td>\n",
       "      <td>0</td>\n",
       "    </tr>\n",
       "    <tr>\n",
       "      <th>2</th>\n",
       "      <td>8353</td>\n",
       "      <td>11-1331</td>\n",
       "      <td>-0.9451</td>\n",
       "      <td>Project Safe Childhood</td>\n",
       "      <td>0</td>\n",
       "      <td>0</td>\n",
       "      <td>0</td>\n",
       "      <td>0</td>\n",
       "      <td>0</td>\n",
       "      <td>0</td>\n",
       "      <td>...</td>\n",
       "      <td>0</td>\n",
       "      <td>0</td>\n",
       "      <td>0</td>\n",
       "      <td>0</td>\n",
       "      <td>0</td>\n",
       "      <td>0</td>\n",
       "      <td>0</td>\n",
       "      <td>0</td>\n",
       "      <td>0</td>\n",
       "      <td>0</td>\n",
       "    </tr>\n",
       "    <tr>\n",
       "      <th>3</th>\n",
       "      <td>7618</td>\n",
       "      <td>17-242</td>\n",
       "      <td>-0.9753</td>\n",
       "      <td>Civil Rights</td>\n",
       "      <td>0</td>\n",
       "      <td>0</td>\n",
       "      <td>0</td>\n",
       "      <td>0</td>\n",
       "      <td>0</td>\n",
       "      <td>0</td>\n",
       "      <td>...</td>\n",
       "      <td>0</td>\n",
       "      <td>0</td>\n",
       "      <td>0</td>\n",
       "      <td>0</td>\n",
       "      <td>0</td>\n",
       "      <td>0</td>\n",
       "      <td>0</td>\n",
       "      <td>0</td>\n",
       "      <td>0</td>\n",
       "      <td>0</td>\n",
       "    </tr>\n",
       "    <tr>\n",
       "      <th>4</th>\n",
       "      <td>8847</td>\n",
       "      <td>17-550</td>\n",
       "      <td>-0.9460</td>\n",
       "      <td>Project Safe Childhood</td>\n",
       "      <td>0</td>\n",
       "      <td>0</td>\n",
       "      <td>0</td>\n",
       "      <td>0</td>\n",
       "      <td>0</td>\n",
       "      <td>0</td>\n",
       "      <td>...</td>\n",
       "      <td>0</td>\n",
       "      <td>0</td>\n",
       "      <td>0</td>\n",
       "      <td>0</td>\n",
       "      <td>0</td>\n",
       "      <td>0</td>\n",
       "      <td>0</td>\n",
       "      <td>0</td>\n",
       "      <td>0</td>\n",
       "      <td>0</td>\n",
       "    </tr>\n",
       "    <tr>\n",
       "      <th>...</th>\n",
       "      <td>...</td>\n",
       "      <td>...</td>\n",
       "      <td>...</td>\n",
       "      <td>...</td>\n",
       "      <td>...</td>\n",
       "      <td>...</td>\n",
       "      <td>...</td>\n",
       "      <td>...</td>\n",
       "      <td>...</td>\n",
       "      <td>...</td>\n",
       "      <td>...</td>\n",
       "      <td>...</td>\n",
       "      <td>...</td>\n",
       "      <td>...</td>\n",
       "      <td>...</td>\n",
       "      <td>...</td>\n",
       "      <td>...</td>\n",
       "      <td>...</td>\n",
       "      <td>...</td>\n",
       "      <td>...</td>\n",
       "      <td>...</td>\n",
       "    </tr>\n",
       "    <tr>\n",
       "      <th>712</th>\n",
       "      <td>6089</td>\n",
       "      <td>18-119</td>\n",
       "      <td>0.9944</td>\n",
       "      <td>Civil Rights</td>\n",
       "      <td>0</td>\n",
       "      <td>0</td>\n",
       "      <td>0</td>\n",
       "      <td>0</td>\n",
       "      <td>0</td>\n",
       "      <td>0</td>\n",
       "      <td>...</td>\n",
       "      <td>0</td>\n",
       "      <td>0</td>\n",
       "      <td>0</td>\n",
       "      <td>0</td>\n",
       "      <td>0</td>\n",
       "      <td>0</td>\n",
       "      <td>0</td>\n",
       "      <td>0</td>\n",
       "      <td>0</td>\n",
       "      <td>0</td>\n",
       "    </tr>\n",
       "    <tr>\n",
       "      <th>713</th>\n",
       "      <td>6733</td>\n",
       "      <td>16-1321</td>\n",
       "      <td>0.9950</td>\n",
       "      <td>Civil Rights</td>\n",
       "      <td>0</td>\n",
       "      <td>0</td>\n",
       "      <td>0</td>\n",
       "      <td>0</td>\n",
       "      <td>0</td>\n",
       "      <td>0</td>\n",
       "      <td>...</td>\n",
       "      <td>0</td>\n",
       "      <td>0</td>\n",
       "      <td>0</td>\n",
       "      <td>0</td>\n",
       "      <td>0</td>\n",
       "      <td>0</td>\n",
       "      <td>0</td>\n",
       "      <td>0</td>\n",
       "      <td>0</td>\n",
       "      <td>0</td>\n",
       "    </tr>\n",
       "    <tr>\n",
       "      <th>714</th>\n",
       "      <td>6905</td>\n",
       "      <td>16-740</td>\n",
       "      <td>0.9888</td>\n",
       "      <td>Civil Rights</td>\n",
       "      <td>0</td>\n",
       "      <td>0</td>\n",
       "      <td>0</td>\n",
       "      <td>0</td>\n",
       "      <td>0</td>\n",
       "      <td>0</td>\n",
       "      <td>...</td>\n",
       "      <td>0</td>\n",
       "      <td>0</td>\n",
       "      <td>0</td>\n",
       "      <td>0</td>\n",
       "      <td>0</td>\n",
       "      <td>0</td>\n",
       "      <td>0</td>\n",
       "      <td>0</td>\n",
       "      <td>0</td>\n",
       "      <td>0</td>\n",
       "    </tr>\n",
       "    <tr>\n",
       "      <th>715</th>\n",
       "      <td>11066</td>\n",
       "      <td>16-163</td>\n",
       "      <td>0.9811</td>\n",
       "      <td>Civil Rights</td>\n",
       "      <td>0</td>\n",
       "      <td>0</td>\n",
       "      <td>0</td>\n",
       "      <td>0</td>\n",
       "      <td>0</td>\n",
       "      <td>0</td>\n",
       "      <td>...</td>\n",
       "      <td>0</td>\n",
       "      <td>0</td>\n",
       "      <td>0</td>\n",
       "      <td>0</td>\n",
       "      <td>0</td>\n",
       "      <td>0</td>\n",
       "      <td>0</td>\n",
       "      <td>0</td>\n",
       "      <td>0</td>\n",
       "      <td>0</td>\n",
       "    </tr>\n",
       "    <tr>\n",
       "      <th>716</th>\n",
       "      <td>6727</td>\n",
       "      <td>16-217</td>\n",
       "      <td>0.9966</td>\n",
       "      <td>Civil Rights</td>\n",
       "      <td>0</td>\n",
       "      <td>0</td>\n",
       "      <td>0</td>\n",
       "      <td>0</td>\n",
       "      <td>0</td>\n",
       "      <td>0</td>\n",
       "      <td>...</td>\n",
       "      <td>0</td>\n",
       "      <td>0</td>\n",
       "      <td>0</td>\n",
       "      <td>0</td>\n",
       "      <td>0</td>\n",
       "      <td>0</td>\n",
       "      <td>0</td>\n",
       "      <td>0</td>\n",
       "      <td>0</td>\n",
       "      <td>0</td>\n",
       "    </tr>\n",
       "  </tbody>\n",
       "</table>\n",
       "<p>717 rows × 72721 columns</p>\n",
       "</div>"
      ],
      "text/plain": [
       "     index_       id  compound_            topics_clean  aaron_ford  \\\n",
       "0      5247   18-913    -0.9955             Hate Crimes           0   \n",
       "1      8075  11-1245    -0.9565  Project Safe Childhood           0   \n",
       "2      8353  11-1331    -0.9451  Project Safe Childhood           0   \n",
       "3      7618   17-242    -0.9753            Civil Rights           0   \n",
       "4      8847   17-550    -0.9460  Project Safe Childhood           0   \n",
       "..      ...      ...        ...                     ...         ...   \n",
       "712    6089   18-119     0.9944            Civil Rights           0   \n",
       "713    6733  16-1321     0.9950            Civil Rights           0   \n",
       "714    6905   16-740     0.9888            Civil Rights           0   \n",
       "715   11066   16-163     0.9811            Civil Rights           0   \n",
       "716    6727   16-217     0.9966            Civil Rights           0   \n",
       "\n",
       "     aaron_latham  aaron_mcgrath  aaron_parrish  aaron_polster  aaron_rice  \\\n",
       "0               0              0              0              0           0   \n",
       "1               0              0              0              0           0   \n",
       "2               0              0              0              0           0   \n",
       "3               0              0              0              0           0   \n",
       "4               0              0              0              0           0   \n",
       "..            ...            ...            ...            ...         ...   \n",
       "712             0              0              0              0           0   \n",
       "713             0              0              0              0           0   \n",
       "714             0              0              0              0           0   \n",
       "715             0              0              0              0           0   \n",
       "716             0              0              0              0           0   \n",
       "\n",
       "     ...  zone_religi  zone_request  zone_restrict  zone_student  zone_time  \\\n",
       "0    ...            0             0              0             0          0   \n",
       "1    ...            0             0              0             0          0   \n",
       "2    ...            0             0              0             0          0   \n",
       "3    ...            0             0              0             0          0   \n",
       "4    ...            0             0              0             0          0   \n",
       "..   ...          ...           ...            ...           ...        ...   \n",
       "712  ...            0             0              0             0          0   \n",
       "713  ...            0             0              0             0          0   \n",
       "714  ...            0             0              0             0          0   \n",
       "715  ...            0             0              0             0          0   \n",
       "716  ...            0             0              0             0          0   \n",
       "\n",
       "     zone_varianc  zunggeemog_noel  zunggeemog_prompt  zunggeemog_write  \\\n",
       "0               0                0                  0                 0   \n",
       "1               0                0                  0                 0   \n",
       "2               0                0                  0                 0   \n",
       "3               0                0                  0                 0   \n",
       "4               0                0                  0                 0   \n",
       "..            ...              ...                ...               ...   \n",
       "712             0                0                  0                 0   \n",
       "713             0                0                  0                 0   \n",
       "714             0                0                  0                 0   \n",
       "715             0                0                  0                 0   \n",
       "716             0                0                  0                 0   \n",
       "\n",
       "     zwengel_princeton  \n",
       "0                    0  \n",
       "1                    0  \n",
       "2                    0  \n",
       "3                    0  \n",
       "4                    0  \n",
       "..                 ...  \n",
       "712                  0  \n",
       "713                  0  \n",
       "714                  0  \n",
       "715                  0  \n",
       "716                  0  \n",
       "\n",
       "[717 rows x 72721 columns]"
      ]
     },
     "execution_count": 64,
     "metadata": {},
     "output_type": "execute_result"
    }
   ],
   "source": [
    "#C\n",
    "\n",
    "dtm_bigrams = create_dtm(list_of_strings= doj_subset_wscore.processed_text_bigrams,\n",
    "                metadata = \n",
    "                doj_subset_wscore[['id','compound_', 'topics_clean']])\n",
    "\n",
    "dtm_bigrams"
   ]
  },
  {
   "cell_type": "code",
   "execution_count": 69,
   "metadata": {},
   "outputs": [
    {
     "data": {
      "text/plain": [
       "(717, 6870)"
      ]
     },
     "execution_count": 69,
     "metadata": {},
     "output_type": "execute_result"
    },
    {
     "data": {
      "text/plain": [
       "(717, 72721)"
      ]
     },
     "execution_count": 69,
     "metadata": {},
     "output_type": "execute_result"
    }
   ],
   "source": [
    "#D\n",
    "\n",
    "dtm_doj.shape\n",
    "\n",
    "dtm_bigrams.shape"
   ]
  },
  {
   "cell_type": "markdown",
   "metadata": {},
   "source": [
    "E. Find and print the 10 most prevelant bigrams for each of the three topics_clean using the `get_topwords` function from 2.2"
   ]
  },
  {
   "cell_type": "code",
   "execution_count": 70,
   "metadata": {},
   "outputs": [
    {
     "data": {
      "text/plain": [
       "hate_crime          379\n",
       "african_american    367\n",
       "plead_guilti        275\n",
       "year_prison         161\n",
       "special_agent       124\n",
       "racial_motiv        114\n",
       "thoma_perez         111\n",
       "grand_juri          101\n",
       "perez_general        95\n",
       "said_thoma           91\n",
       "dtype: int64"
      ]
     },
     "execution_count": 70,
     "metadata": {},
     "output_type": "execute_result"
    },
    {
     "data": {
      "text/plain": [
       "safe_childhood       474\n",
       "project_safe         472\n",
       "child_pornographi    450\n",
       "child_exploit        281\n",
       "sexual_exploit       223\n",
       "exploit_children     200\n",
       "plead_guilti         197\n",
       "exploit_obscen       176\n",
       "obscen_section       175\n",
       "child_sexual         174\n",
       "dtype: int64"
      ]
     },
     "execution_count": 70,
     "metadata": {},
     "output_type": "execute_result"
    },
    {
     "data": {
      "text/plain": [
       "fair_hous         231\n",
       "deputi_general    221\n",
       "princip_deputi    221\n",
       "vanita_gupta      202\n",
       "gupta_head        200\n",
       "general_vanita    199\n",
       "said_princip      186\n",
       "unit_state        156\n",
       "nation_origin     143\n",
       "consent_decre     128\n",
       "dtype: int64"
      ]
     },
     "execution_count": 70,
     "metadata": {},
     "output_type": "execute_result"
    }
   ],
   "source": [
    "#E\n",
    "\n",
    "top_hatecrime_bigrams = get_topwords(data=dtm_bigrams, subset='topics_clean', specific_value='Hate Crimes')\n",
    "top_hatecrime_bigrams\n",
    "\n",
    "top_childhood_bigrams = get_topwords(data=dtm_bigrams, subset='topics_clean', specific_value='Project Safe Childhood')\n",
    "top_childhood_bigrams\n",
    "\n",
    "top_civilrights_bigrams = get_topwords(data=dtm_bigrams, subset='topics_clean', specific_value='Civil Rights')\n",
    "top_civilrights_bigrams"
   ]
  },
  {
   "cell_type": "markdown",
   "metadata": {},
   "source": [
    "# 4. Optional extra credit (2 points)\n",
    "\n",
    "You notice that the pharmaceutical kickbacks press release we analyzed in question 1 was for an indictment, and that in the original data, there's not a clear label for whether a press release outlines an indictment (charging someone with a crime), a conviction (convicting them after that charge either via a settlement or trial), or a sentencing (how many years of prison or supervised release a defendant is sentenced to after their conviction).\n",
    "\n",
    "You want to see if you can identify pairs of press releases where one press release is from one stage (e.g., indictment) and another is from a different stage (e.g., a sentencing).\n",
    "\n",
    "You decide that one way to approach is to find the pairwise string similarity between each of the processed press releases in `doj_subset`. There are many ways to do this, so Google for some approaches, focusing on ones that work well for entire documents rather than small strings.\n",
    "\n",
    "Find the top two pairs (so four press releases total)-- do they seem like different stages of the same crime or just press releases covering similar crimes?"
   ]
  },
  {
   "cell_type": "code",
   "execution_count": null,
   "metadata": {},
   "outputs": [],
   "source": [
    "# your code here "
   ]
  }
 ],
 "metadata": {
  "kernelspec": {
   "display_name": "Python 3 (ipykernel)",
   "language": "python",
   "name": "python3"
  },
  "language_info": {
   "codemirror_mode": {
    "name": "ipython",
    "version": 3
   },
   "file_extension": ".py",
   "mimetype": "text/x-python",
   "name": "python",
   "nbconvert_exporter": "python",
   "pygments_lexer": "ipython3",
   "version": "3.11.7"
  }
 },
 "nbformat": 4,
 "nbformat_minor": 4
}
